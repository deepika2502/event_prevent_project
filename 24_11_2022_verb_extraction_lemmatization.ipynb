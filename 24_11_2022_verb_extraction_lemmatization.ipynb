{
 "cells": [
  {
   "cell_type": "code",
   "execution_count": 18,
   "id": "2af5516a",
   "metadata": {},
   "outputs": [],
   "source": [
    "#import necessary modules\n",
    "import pandas as pd\n",
    "import numpy as np\n",
    "import os\n",
    "import xml.etree.cElementTree as et\n",
    "import spacy\n",
    "import nltk\n",
    "from tqdm.notebook import tqdm\n",
    "import textacy\n",
    "\n",
    "nlp = spacy.load(\"en_core_web_sm\")"
   ]
  },
  {
   "cell_type": "code",
   "execution_count": 19,
   "id": "268a8d97",
   "metadata": {},
   "outputs": [],
   "source": [
    "#Set path to home dictionnary\n",
    "path = '/home/deepika/Documents/eurecom/project3/afp 2021/2021'\n",
    "#create a list to contain the sentences\n",
    "sentences_list = []"
   ]
  },
  {
   "cell_type": "code",
   "execution_count": 20,
   "id": "8d14a85d",
   "metadata": {},
   "outputs": [],
   "source": [
    "#remove the unneccessary files/folders\n",
    "for dir1 in (os.listdir(path)):\n",
    "   if dir1.startswith('.'):\n",
    "         os.remove(os.path.join(path, dir1))\n",
    "   for dir2 in os.listdir(os.path.join(path, dir1)):\n",
    "        if dir2.startswith('.'):\n",
    "            os.remove(os.path.join(path, dir1, dir2))\n",
    "        for dir3 in os.listdir((os.path.join(path, dir1, dir2))):\n",
    "             if dir3.startswith('.'):\n",
    "                os.remove(os.path.join(path, dir1, dir2, dir3))"
   ]
  },
  {
   "cell_type": "code",
   "execution_count": 21,
   "id": "aab4de6a",
   "metadata": {},
   "outputs": [],
   "source": [
    "#Check the same\n",
    "for dir1 in (os.listdir(path)):\n",
    "   if dir2.startswith('.'):\n",
    "    print('yes1')\n",
    "   for dir2 in os.listdir(os.path.join(path, dir1)):\n",
    "        if dir2.startswith('.'):\n",
    "            print('yes2')\n",
    "        for dir3 in os.listdir((os.path.join(path, dir1, dir2))):\n",
    "             if dir3.startswith('.'):\n",
    "                print('yes3')"
   ]
  },
  {
   "cell_type": "code",
   "execution_count": 22,
   "id": "e406c3fe",
   "metadata": {},
   "outputs": [
    {
     "data": {
      "application/vnd.jupyter.widget-view+json": {
       "model_id": "35d924d4c4cd4f7ab664cea8d0f83226",
       "version_major": 2,
       "version_minor": 0
      },
      "text/plain": [
       "  0%|          | 0/12 [00:00<?, ?it/s]"
      ]
     },
     "metadata": {},
     "output_type": "display_data"
    },
    {
     "data": {
      "application/vnd.jupyter.widget-view+json": {
       "model_id": "be50caa1eb3a41599715615f5857a698",
       "version_major": 2,
       "version_minor": 0
      },
      "text/plain": [
       "  0%|          | 0/31 [00:00<?, ?it/s]"
      ]
     },
     "metadata": {},
     "output_type": "display_data"
    },
    {
     "data": {
      "application/vnd.jupyter.widget-view+json": {
       "model_id": "50512ed45b9547e194d85b6939f27aeb",
       "version_major": 2,
       "version_minor": 0
      },
      "text/plain": [
       "  0%|          | 0/484 [00:00<?, ?it/s]"
      ]
     },
     "metadata": {},
     "output_type": "display_data"
    },
    {
     "data": {
      "application/vnd.jupyter.widget-view+json": {
       "model_id": "650ccae768ce406e87dfdd15f8810cb9",
       "version_major": 2,
       "version_minor": 0
      },
      "text/plain": [
       "  0%|          | 0/406 [00:00<?, ?it/s]"
      ]
     },
     "metadata": {},
     "output_type": "display_data"
    },
    {
     "data": {
      "application/vnd.jupyter.widget-view+json": {
       "model_id": "b9ddcd5d8fc0409ca7554705158c3380",
       "version_major": 2,
       "version_minor": 0
      },
      "text/plain": [
       "  0%|          | 0/415 [00:00<?, ?it/s]"
      ]
     },
     "metadata": {},
     "output_type": "display_data"
    },
    {
     "data": {
      "application/vnd.jupyter.widget-view+json": {
       "model_id": "05524848070044e4bdbad3a559b38de7",
       "version_major": 2,
       "version_minor": 0
      },
      "text/plain": [
       "  0%|          | 0/468 [00:00<?, ?it/s]"
      ]
     },
     "metadata": {},
     "output_type": "display_data"
    },
    {
     "data": {
      "application/vnd.jupyter.widget-view+json": {
       "model_id": "9cf542f703924c40b361cbcf8f87f2f8",
       "version_major": 2,
       "version_minor": 0
      },
      "text/plain": [
       "  0%|          | 0/404 [00:00<?, ?it/s]"
      ]
     },
     "metadata": {},
     "output_type": "display_data"
    },
    {
     "data": {
      "application/vnd.jupyter.widget-view+json": {
       "model_id": "55116f5edc51449d8b9377101cbe25ef",
       "version_major": 2,
       "version_minor": 0
      },
      "text/plain": [
       "  0%|          | 0/197 [00:00<?, ?it/s]"
      ]
     },
     "metadata": {},
     "output_type": "display_data"
    },
    {
     "data": {
      "application/vnd.jupyter.widget-view+json": {
       "model_id": "dc2a70244044449982554f0fa90e10a2",
       "version_major": 2,
       "version_minor": 0
      },
      "text/plain": [
       "  0%|          | 0/224 [00:00<?, ?it/s]"
      ]
     },
     "metadata": {},
     "output_type": "display_data"
    },
    {
     "data": {
      "application/vnd.jupyter.widget-view+json": {
       "model_id": "dd4fbee91fa1437990db4b22815e2293",
       "version_major": 2,
       "version_minor": 0
      },
      "text/plain": [
       "  0%|          | 0/290 [00:00<?, ?it/s]"
      ]
     },
     "metadata": {},
     "output_type": "display_data"
    },
    {
     "data": {
      "application/vnd.jupyter.widget-view+json": {
       "model_id": "c90574656108421ab3aacd56894d988d",
       "version_major": 2,
       "version_minor": 0
      },
      "text/plain": [
       "  0%|          | 0/288 [00:00<?, ?it/s]"
      ]
     },
     "metadata": {},
     "output_type": "display_data"
    },
    {
     "data": {
      "application/vnd.jupyter.widget-view+json": {
       "model_id": "63a2b2a5c59f45c990621512bb90c2b2",
       "version_major": 2,
       "version_minor": 0
      },
      "text/plain": [
       "  0%|          | 0/434 [00:00<?, ?it/s]"
      ]
     },
     "metadata": {},
     "output_type": "display_data"
    },
    {
     "data": {
      "application/vnd.jupyter.widget-view+json": {
       "model_id": "f8c3f400ca41462fb659f87f33bc1c86",
       "version_major": 2,
       "version_minor": 0
      },
      "text/plain": [
       "  0%|          | 0/499 [00:00<?, ?it/s]"
      ]
     },
     "metadata": {},
     "output_type": "display_data"
    },
    {
     "data": {
      "application/vnd.jupyter.widget-view+json": {
       "model_id": "9a4d931e07dc44f69ee88a4b3f917171",
       "version_major": 2,
       "version_minor": 0
      },
      "text/plain": [
       "  0%|          | 0/436 [00:00<?, ?it/s]"
      ]
     },
     "metadata": {},
     "output_type": "display_data"
    },
    {
     "data": {
      "application/vnd.jupyter.widget-view+json": {
       "model_id": "5a23e20b8d3743c18ac40f76a2324cdf",
       "version_major": 2,
       "version_minor": 0
      },
      "text/plain": [
       "  0%|          | 0/424 [00:00<?, ?it/s]"
      ]
     },
     "metadata": {},
     "output_type": "display_data"
    },
    {
     "data": {
      "application/vnd.jupyter.widget-view+json": {
       "model_id": "24b102fe984e4bf49384be2112366721",
       "version_major": 2,
       "version_minor": 0
      },
      "text/plain": [
       "  0%|          | 0/442 [00:00<?, ?it/s]"
      ]
     },
     "metadata": {},
     "output_type": "display_data"
    },
    {
     "data": {
      "application/vnd.jupyter.widget-view+json": {
       "model_id": "3e3e3ee1dbaf4eadb3dc092f86303b1c",
       "version_major": 2,
       "version_minor": 0
      },
      "text/plain": [
       "  0%|          | 0/419 [00:00<?, ?it/s]"
      ]
     },
     "metadata": {},
     "output_type": "display_data"
    },
    {
     "data": {
      "application/vnd.jupyter.widget-view+json": {
       "model_id": "32f656d708074e229609a63c022d7326",
       "version_major": 2,
       "version_minor": 0
      },
      "text/plain": [
       "  0%|          | 0/307 [00:00<?, ?it/s]"
      ]
     },
     "metadata": {},
     "output_type": "display_data"
    },
    {
     "data": {
      "application/vnd.jupyter.widget-view+json": {
       "model_id": "4edcd7f9477646ba97ebaca660966498",
       "version_major": 2,
       "version_minor": 0
      },
      "text/plain": [
       "  0%|          | 0/389 [00:00<?, ?it/s]"
      ]
     },
     "metadata": {},
     "output_type": "display_data"
    },
    {
     "data": {
      "application/vnd.jupyter.widget-view+json": {
       "model_id": "5e3dcb8832f04b319faab24105aa67ab",
       "version_major": 2,
       "version_minor": 0
      },
      "text/plain": [
       "  0%|          | 0/312 [00:00<?, ?it/s]"
      ]
     },
     "metadata": {},
     "output_type": "display_data"
    },
    {
     "data": {
      "application/vnd.jupyter.widget-view+json": {
       "model_id": "b5820fce36ac42eda1dd58942334dc31",
       "version_major": 2,
       "version_minor": 0
      },
      "text/plain": [
       "  0%|          | 0/252 [00:00<?, ?it/s]"
      ]
     },
     "metadata": {},
     "output_type": "display_data"
    },
    {
     "data": {
      "application/vnd.jupyter.widget-view+json": {
       "model_id": "d65b6dd54dc8475fa158c73d05d53d68",
       "version_major": 2,
       "version_minor": 0
      },
      "text/plain": [
       "  0%|          | 0/241 [00:00<?, ?it/s]"
      ]
     },
     "metadata": {},
     "output_type": "display_data"
    },
    {
     "data": {
      "application/vnd.jupyter.widget-view+json": {
       "model_id": "94c3db48427749f28ce86f7ed6909285",
       "version_major": 2,
       "version_minor": 0
      },
      "text/plain": [
       "  0%|          | 0/317 [00:00<?, ?it/s]"
      ]
     },
     "metadata": {},
     "output_type": "display_data"
    },
    {
     "data": {
      "application/vnd.jupyter.widget-view+json": {
       "model_id": "9a656cfee21c49558c3081c5c68df22c",
       "version_major": 2,
       "version_minor": 0
      },
      "text/plain": [
       "  0%|          | 0/441 [00:00<?, ?it/s]"
      ]
     },
     "metadata": {},
     "output_type": "display_data"
    },
    {
     "data": {
      "application/vnd.jupyter.widget-view+json": {
       "model_id": "1df6b9dfdfc0445199a5d83ef5056d0a",
       "version_major": 2,
       "version_minor": 0
      },
      "text/plain": [
       "  0%|          | 0/434 [00:00<?, ?it/s]"
      ]
     },
     "metadata": {},
     "output_type": "display_data"
    },
    {
     "data": {
      "application/vnd.jupyter.widget-view+json": {
       "model_id": "d57985bb18254b71a998615312d93958",
       "version_major": 2,
       "version_minor": 0
      },
      "text/plain": [
       "  0%|          | 0/287 [00:00<?, ?it/s]"
      ]
     },
     "metadata": {},
     "output_type": "display_data"
    },
    {
     "data": {
      "application/vnd.jupyter.widget-view+json": {
       "model_id": "cd8ae46b50684fe9a89e2a68e993f0cb",
       "version_major": 2,
       "version_minor": 0
      },
      "text/plain": [
       "  0%|          | 0/579 [00:00<?, ?it/s]"
      ]
     },
     "metadata": {},
     "output_type": "display_data"
    },
    {
     "data": {
      "application/vnd.jupyter.widget-view+json": {
       "model_id": "f04aafeb3bbc44a790c45f60c972459f",
       "version_major": 2,
       "version_minor": 0
      },
      "text/plain": [
       "  0%|          | 0/396 [00:00<?, ?it/s]"
      ]
     },
     "metadata": {},
     "output_type": "display_data"
    },
    {
     "data": {
      "application/vnd.jupyter.widget-view+json": {
       "model_id": "ecdcb347139941548d5d40cc02a742d3",
       "version_major": 2,
       "version_minor": 0
      },
      "text/plain": [
       "  0%|          | 0/394 [00:00<?, ?it/s]"
      ]
     },
     "metadata": {},
     "output_type": "display_data"
    },
    {
     "data": {
      "application/vnd.jupyter.widget-view+json": {
       "model_id": "8d54ee83d614449aac0ebb90b6fd9eaa",
       "version_major": 2,
       "version_minor": 0
      },
      "text/plain": [
       "  0%|          | 0/344 [00:00<?, ?it/s]"
      ]
     },
     "metadata": {},
     "output_type": "display_data"
    },
    {
     "data": {
      "application/vnd.jupyter.widget-view+json": {
       "model_id": "b8e45dd766fc495e89117e07b999c708",
       "version_major": 2,
       "version_minor": 0
      },
      "text/plain": [
       "  0%|          | 0/480 [00:00<?, ?it/s]"
      ]
     },
     "metadata": {},
     "output_type": "display_data"
    },
    {
     "data": {
      "application/vnd.jupyter.widget-view+json": {
       "model_id": "b43d8a5d159d4592903dcc3b95f8b03b",
       "version_major": 2,
       "version_minor": 0
      },
      "text/plain": [
       "  0%|          | 0/273 [00:00<?, ?it/s]"
      ]
     },
     "metadata": {},
     "output_type": "display_data"
    },
    {
     "data": {
      "application/vnd.jupyter.widget-view+json": {
       "model_id": "16de6589e18e436f9bf6447bfc98ad41",
       "version_major": 2,
       "version_minor": 0
      },
      "text/plain": [
       "  0%|          | 0/414 [00:00<?, ?it/s]"
      ]
     },
     "metadata": {},
     "output_type": "display_data"
    },
    {
     "data": {
      "application/vnd.jupyter.widget-view+json": {
       "model_id": "c01b2395ad6d4e35ad307e3a2f8c7268",
       "version_major": 2,
       "version_minor": 0
      },
      "text/plain": [
       "  0%|          | 0/30 [00:00<?, ?it/s]"
      ]
     },
     "metadata": {},
     "output_type": "display_data"
    },
    {
     "data": {
      "application/vnd.jupyter.widget-view+json": {
       "model_id": "55dd8a8ea92549a88b5b728c2b0348fc",
       "version_major": 2,
       "version_minor": 0
      },
      "text/plain": [
       "  0%|          | 0/333 [00:00<?, ?it/s]"
      ]
     },
     "metadata": {},
     "output_type": "display_data"
    },
    {
     "data": {
      "application/vnd.jupyter.widget-view+json": {
       "model_id": "33d2b7bb8fed4c33ac034a418e094666",
       "version_major": 2,
       "version_minor": 0
      },
      "text/plain": [
       "  0%|          | 0/242 [00:00<?, ?it/s]"
      ]
     },
     "metadata": {},
     "output_type": "display_data"
    },
    {
     "data": {
      "application/vnd.jupyter.widget-view+json": {
       "model_id": "47aa9c87a2634ec48c2f5d11cc3f0342",
       "version_major": 2,
       "version_minor": 0
      },
      "text/plain": [
       "  0%|          | 0/396 [00:00<?, ?it/s]"
      ]
     },
     "metadata": {},
     "output_type": "display_data"
    },
    {
     "data": {
      "application/vnd.jupyter.widget-view+json": {
       "model_id": "92e21406300c491a81ebeb4928b802f9",
       "version_major": 2,
       "version_minor": 0
      },
      "text/plain": [
       "  0%|          | 0/288 [00:00<?, ?it/s]"
      ]
     },
     "metadata": {},
     "output_type": "display_data"
    },
    {
     "data": {
      "application/vnd.jupyter.widget-view+json": {
       "model_id": "c9405a554b684a0d82c82bec82a74838",
       "version_major": 2,
       "version_minor": 0
      },
      "text/plain": [
       "  0%|          | 0/344 [00:00<?, ?it/s]"
      ]
     },
     "metadata": {},
     "output_type": "display_data"
    },
    {
     "data": {
      "application/vnd.jupyter.widget-view+json": {
       "model_id": "23ad9a9a09964675bed9355ad4dfb73e",
       "version_major": 2,
       "version_minor": 0
      },
      "text/plain": [
       "  0%|          | 0/398 [00:00<?, ?it/s]"
      ]
     },
     "metadata": {},
     "output_type": "display_data"
    },
    {
     "data": {
      "application/vnd.jupyter.widget-view+json": {
       "model_id": "ca9973a1fa5741ff858d9eac62e5925f",
       "version_major": 2,
       "version_minor": 0
      },
      "text/plain": [
       "  0%|          | 0/444 [00:00<?, ?it/s]"
      ]
     },
     "metadata": {},
     "output_type": "display_data"
    },
    {
     "data": {
      "application/vnd.jupyter.widget-view+json": {
       "model_id": "9e6f230528b346989787023f4797b1ab",
       "version_major": 2,
       "version_minor": 0
      },
      "text/plain": [
       "  0%|          | 0/389 [00:00<?, ?it/s]"
      ]
     },
     "metadata": {},
     "output_type": "display_data"
    },
    {
     "data": {
      "application/vnd.jupyter.widget-view+json": {
       "model_id": "e3aa3ea9db264999b473d646f211ff3e",
       "version_major": 2,
       "version_minor": 0
      },
      "text/plain": [
       "  0%|          | 0/400 [00:00<?, ?it/s]"
      ]
     },
     "metadata": {},
     "output_type": "display_data"
    },
    {
     "data": {
      "application/vnd.jupyter.widget-view+json": {
       "model_id": "b70daf450abc4e208ad101a4e7e91ea5",
       "version_major": 2,
       "version_minor": 0
      },
      "text/plain": [
       "  0%|          | 0/286 [00:00<?, ?it/s]"
      ]
     },
     "metadata": {},
     "output_type": "display_data"
    },
    {
     "data": {
      "application/vnd.jupyter.widget-view+json": {
       "model_id": "9fcc8923b0ef4a0a87636e767dd2644f",
       "version_major": 2,
       "version_minor": 0
      },
      "text/plain": [
       "  0%|          | 0/444 [00:00<?, ?it/s]"
      ]
     },
     "metadata": {},
     "output_type": "display_data"
    },
    {
     "data": {
      "application/vnd.jupyter.widget-view+json": {
       "model_id": "2da9741a63e04abab4d44ea79f045416",
       "version_major": 2,
       "version_minor": 0
      },
      "text/plain": [
       "  0%|          | 0/320 [00:00<?, ?it/s]"
      ]
     },
     "metadata": {},
     "output_type": "display_data"
    },
    {
     "data": {
      "application/vnd.jupyter.widget-view+json": {
       "model_id": "4bd168450a504c7293ddf4fe8e6ec164",
       "version_major": 2,
       "version_minor": 0
      },
      "text/plain": [
       "  0%|          | 0/337 [00:00<?, ?it/s]"
      ]
     },
     "metadata": {},
     "output_type": "display_data"
    },
    {
     "data": {
      "application/vnd.jupyter.widget-view+json": {
       "model_id": "2339687234b74c979fc0626d5b952fb6",
       "version_major": 2,
       "version_minor": 0
      },
      "text/plain": [
       "  0%|          | 0/385 [00:00<?, ?it/s]"
      ]
     },
     "metadata": {},
     "output_type": "display_data"
    },
    {
     "data": {
      "application/vnd.jupyter.widget-view+json": {
       "model_id": "401a0f182a5a4387a3353f7b0060daa0",
       "version_major": 2,
       "version_minor": 0
      },
      "text/plain": [
       "  0%|          | 0/245 [00:00<?, ?it/s]"
      ]
     },
     "metadata": {},
     "output_type": "display_data"
    },
    {
     "data": {
      "application/vnd.jupyter.widget-view+json": {
       "model_id": "caba38372a044107aeb5f4721586866e",
       "version_major": 2,
       "version_minor": 0
      },
      "text/plain": [
       "  0%|          | 0/327 [00:00<?, ?it/s]"
      ]
     },
     "metadata": {},
     "output_type": "display_data"
    },
    {
     "data": {
      "application/vnd.jupyter.widget-view+json": {
       "model_id": "7c4229a1a2c5488cb7658aa09fb76725",
       "version_major": 2,
       "version_minor": 0
      },
      "text/plain": [
       "  0%|          | 0/382 [00:00<?, ?it/s]"
      ]
     },
     "metadata": {},
     "output_type": "display_data"
    },
    {
     "data": {
      "application/vnd.jupyter.widget-view+json": {
       "model_id": "2c338c3d15a54bc2a3807fa6d05c1b71",
       "version_major": 2,
       "version_minor": 0
      },
      "text/plain": [
       "  0%|          | 0/378 [00:00<?, ?it/s]"
      ]
     },
     "metadata": {},
     "output_type": "display_data"
    },
    {
     "data": {
      "application/vnd.jupyter.widget-view+json": {
       "model_id": "8c9ec016e2124e65b4e97120635db38f",
       "version_major": 2,
       "version_minor": 0
      },
      "text/plain": [
       "  0%|          | 0/378 [00:00<?, ?it/s]"
      ]
     },
     "metadata": {},
     "output_type": "display_data"
    },
    {
     "data": {
      "application/vnd.jupyter.widget-view+json": {
       "model_id": "cc2b70ab80794c4986ef71685adf68ad",
       "version_major": 2,
       "version_minor": 0
      },
      "text/plain": [
       "  0%|          | 0/413 [00:00<?, ?it/s]"
      ]
     },
     "metadata": {},
     "output_type": "display_data"
    },
    {
     "data": {
      "application/vnd.jupyter.widget-view+json": {
       "model_id": "0833bbde2ab847f3965bf93fec736937",
       "version_major": 2,
       "version_minor": 0
      },
      "text/plain": [
       "  0%|          | 0/415 [00:00<?, ?it/s]"
      ]
     },
     "metadata": {},
     "output_type": "display_data"
    },
    {
     "data": {
      "application/vnd.jupyter.widget-view+json": {
       "model_id": "3cf0a47767ed4dcf8291f0085eec3ba8",
       "version_major": 2,
       "version_minor": 0
      },
      "text/plain": [
       "  0%|          | 0/426 [00:00<?, ?it/s]"
      ]
     },
     "metadata": {},
     "output_type": "display_data"
    },
    {
     "data": {
      "application/vnd.jupyter.widget-view+json": {
       "model_id": "74b17fd239534fc2a4acbd9ce3723b21",
       "version_major": 2,
       "version_minor": 0
      },
      "text/plain": [
       "  0%|          | 0/412 [00:00<?, ?it/s]"
      ]
     },
     "metadata": {},
     "output_type": "display_data"
    },
    {
     "data": {
      "application/vnd.jupyter.widget-view+json": {
       "model_id": "a540de1819214f27b2af3526db66dbe1",
       "version_major": 2,
       "version_minor": 0
      },
      "text/plain": [
       "  0%|          | 0/425 [00:00<?, ?it/s]"
      ]
     },
     "metadata": {},
     "output_type": "display_data"
    },
    {
     "data": {
      "application/vnd.jupyter.widget-view+json": {
       "model_id": "48a7c3719c0141d5958631f53571f15a",
       "version_major": 2,
       "version_minor": 0
      },
      "text/plain": [
       "  0%|          | 0/286 [00:00<?, ?it/s]"
      ]
     },
     "metadata": {},
     "output_type": "display_data"
    },
    {
     "data": {
      "application/vnd.jupyter.widget-view+json": {
       "model_id": "af717d09066f4d00938a25bd77cd9b90",
       "version_major": 2,
       "version_minor": 0
      },
      "text/plain": [
       "  0%|          | 0/384 [00:00<?, ?it/s]"
      ]
     },
     "metadata": {},
     "output_type": "display_data"
    },
    {
     "data": {
      "application/vnd.jupyter.widget-view+json": {
       "model_id": "e215891f9b5b4d808fef3c2f40e655e7",
       "version_major": 2,
       "version_minor": 0
      },
      "text/plain": [
       "  0%|          | 0/184 [00:00<?, ?it/s]"
      ]
     },
     "metadata": {},
     "output_type": "display_data"
    },
    {
     "data": {
      "application/vnd.jupyter.widget-view+json": {
       "model_id": "d49d733d3d834f33b97884cfab9e2a35",
       "version_major": 2,
       "version_minor": 0
      },
      "text/plain": [
       "  0%|          | 0/256 [00:00<?, ?it/s]"
      ]
     },
     "metadata": {},
     "output_type": "display_data"
    },
    {
     "data": {
      "application/vnd.jupyter.widget-view+json": {
       "model_id": "8fc0dd4b14ea46228f4bc0c21a5ac498",
       "version_major": 2,
       "version_minor": 0
      },
      "text/plain": [
       "  0%|          | 0/427 [00:00<?, ?it/s]"
      ]
     },
     "metadata": {},
     "output_type": "display_data"
    },
    {
     "data": {
      "application/vnd.jupyter.widget-view+json": {
       "model_id": "67ce1695a2214973a0dd22f65fd6522a",
       "version_major": 2,
       "version_minor": 0
      },
      "text/plain": [
       "  0%|          | 0/357 [00:00<?, ?it/s]"
      ]
     },
     "metadata": {},
     "output_type": "display_data"
    },
    {
     "data": {
      "application/vnd.jupyter.widget-view+json": {
       "model_id": "c1ed8cf1341e4fd79b4a50af97cf5448",
       "version_major": 2,
       "version_minor": 0
      },
      "text/plain": [
       "  0%|          | 0/28 [00:00<?, ?it/s]"
      ]
     },
     "metadata": {},
     "output_type": "display_data"
    },
    {
     "data": {
      "application/vnd.jupyter.widget-view+json": {
       "model_id": "ef45b5598bf5438aa1653228b9c9a9a7",
       "version_major": 2,
       "version_minor": 0
      },
      "text/plain": [
       "  0%|          | 0/533 [00:00<?, ?it/s]"
      ]
     },
     "metadata": {},
     "output_type": "display_data"
    },
    {
     "data": {
      "application/vnd.jupyter.widget-view+json": {
       "model_id": "0fbfcb1b43f54fba872222a8e86619f6",
       "version_major": 2,
       "version_minor": 0
      },
      "text/plain": [
       "  0%|          | 0/537 [00:00<?, ?it/s]"
      ]
     },
     "metadata": {},
     "output_type": "display_data"
    },
    {
     "data": {
      "application/vnd.jupyter.widget-view+json": {
       "model_id": "2f91665d73444582beb09b5006055172",
       "version_major": 2,
       "version_minor": 0
      },
      "text/plain": [
       "  0%|          | 0/498 [00:00<?, ?it/s]"
      ]
     },
     "metadata": {},
     "output_type": "display_data"
    },
    {
     "data": {
      "application/vnd.jupyter.widget-view+json": {
       "model_id": "da143a9f29574c2faa08af2719bb7f99",
       "version_major": 2,
       "version_minor": 0
      },
      "text/plain": [
       "  0%|          | 0/440 [00:00<?, ?it/s]"
      ]
     },
     "metadata": {},
     "output_type": "display_data"
    },
    {
     "data": {
      "application/vnd.jupyter.widget-view+json": {
       "model_id": "0627a8239899431e8753b0f4c8c1d068",
       "version_major": 2,
       "version_minor": 0
      },
      "text/plain": [
       "  0%|          | 0/299 [00:00<?, ?it/s]"
      ]
     },
     "metadata": {},
     "output_type": "display_data"
    },
    {
     "data": {
      "application/vnd.jupyter.widget-view+json": {
       "model_id": "972ed037eeed4f3f9f3679acaf01a321",
       "version_major": 2,
       "version_minor": 0
      },
      "text/plain": [
       "  0%|          | 0/495 [00:00<?, ?it/s]"
      ]
     },
     "metadata": {},
     "output_type": "display_data"
    },
    {
     "data": {
      "application/vnd.jupyter.widget-view+json": {
       "model_id": "e1fd592c046e4ef383aecd3dd98b2dd0",
       "version_major": 2,
       "version_minor": 0
      },
      "text/plain": [
       "  0%|          | 0/513 [00:00<?, ?it/s]"
      ]
     },
     "metadata": {},
     "output_type": "display_data"
    },
    {
     "data": {
      "application/vnd.jupyter.widget-view+json": {
       "model_id": "605769b32c624f2793bbce96699f25c6",
       "version_major": 2,
       "version_minor": 0
      },
      "text/plain": [
       "  0%|          | 0/481 [00:00<?, ?it/s]"
      ]
     },
     "metadata": {},
     "output_type": "display_data"
    },
    {
     "data": {
      "application/vnd.jupyter.widget-view+json": {
       "model_id": "7709b5a4a52248109479c80a95528037",
       "version_major": 2,
       "version_minor": 0
      },
      "text/plain": [
       "  0%|          | 0/261 [00:00<?, ?it/s]"
      ]
     },
     "metadata": {},
     "output_type": "display_data"
    },
    {
     "data": {
      "application/vnd.jupyter.widget-view+json": {
       "model_id": "1b7fdb00cbfe4ca39ff4753b23e5e682",
       "version_major": 2,
       "version_minor": 0
      },
      "text/plain": [
       "  0%|          | 0/312 [00:00<?, ?it/s]"
      ]
     },
     "metadata": {},
     "output_type": "display_data"
    },
    {
     "data": {
      "application/vnd.jupyter.widget-view+json": {
       "model_id": "56752cb31820415382225b633e794d8b",
       "version_major": 2,
       "version_minor": 0
      },
      "text/plain": [
       "  0%|          | 0/253 [00:00<?, ?it/s]"
      ]
     },
     "metadata": {},
     "output_type": "display_data"
    },
    {
     "data": {
      "application/vnd.jupyter.widget-view+json": {
       "model_id": "46f826aa88904d17b34f286f88c28ed0",
       "version_major": 2,
       "version_minor": 0
      },
      "text/plain": [
       "  0%|          | 0/308 [00:00<?, ?it/s]"
      ]
     },
     "metadata": {},
     "output_type": "display_data"
    },
    {
     "data": {
      "application/vnd.jupyter.widget-view+json": {
       "model_id": "c388a11113ce4da1ae382a8af7c00cfb",
       "version_major": 2,
       "version_minor": 0
      },
      "text/plain": [
       "  0%|          | 0/429 [00:00<?, ?it/s]"
      ]
     },
     "metadata": {},
     "output_type": "display_data"
    },
    {
     "data": {
      "application/vnd.jupyter.widget-view+json": {
       "model_id": "df52738952ca4e92ae31aa64592af3ef",
       "version_major": 2,
       "version_minor": 0
      },
      "text/plain": [
       "  0%|          | 0/543 [00:00<?, ?it/s]"
      ]
     },
     "metadata": {},
     "output_type": "display_data"
    },
    {
     "data": {
      "application/vnd.jupyter.widget-view+json": {
       "model_id": "facfb37b62284686abcc7637f3a83df2",
       "version_major": 2,
       "version_minor": 0
      },
      "text/plain": [
       "  0%|          | 0/358 [00:00<?, ?it/s]"
      ]
     },
     "metadata": {},
     "output_type": "display_data"
    },
    {
     "data": {
      "application/vnd.jupyter.widget-view+json": {
       "model_id": "3234ec6ec4c14433bab376213809dee9",
       "version_major": 2,
       "version_minor": 0
      },
      "text/plain": [
       "  0%|          | 0/440 [00:00<?, ?it/s]"
      ]
     },
     "metadata": {},
     "output_type": "display_data"
    },
    {
     "data": {
      "application/vnd.jupyter.widget-view+json": {
       "model_id": "865ddbdcb10f4a9db3b0c21d149aa33b",
       "version_major": 2,
       "version_minor": 0
      },
      "text/plain": [
       "  0%|          | 0/441 [00:00<?, ?it/s]"
      ]
     },
     "metadata": {},
     "output_type": "display_data"
    },
    {
     "data": {
      "application/vnd.jupyter.widget-view+json": {
       "model_id": "57e11426e52b48f291b494a5836bb568",
       "version_major": 2,
       "version_minor": 0
      },
      "text/plain": [
       "  0%|          | 0/423 [00:00<?, ?it/s]"
      ]
     },
     "metadata": {},
     "output_type": "display_data"
    },
    {
     "data": {
      "application/vnd.jupyter.widget-view+json": {
       "model_id": "cbad8124d9b84f19b37920465f9593cf",
       "version_major": 2,
       "version_minor": 0
      },
      "text/plain": [
       "  0%|          | 0/461 [00:00<?, ?it/s]"
      ]
     },
     "metadata": {},
     "output_type": "display_data"
    },
    {
     "data": {
      "application/vnd.jupyter.widget-view+json": {
       "model_id": "0e4d45527ce9420fb9b5f4c381c12f5e",
       "version_major": 2,
       "version_minor": 0
      },
      "text/plain": [
       "  0%|          | 0/274 [00:00<?, ?it/s]"
      ]
     },
     "metadata": {},
     "output_type": "display_data"
    },
    {
     "data": {
      "application/vnd.jupyter.widget-view+json": {
       "model_id": "fee3822cdda04b2f923c0c517997c555",
       "version_major": 2,
       "version_minor": 0
      },
      "text/plain": [
       "  0%|          | 0/515 [00:00<?, ?it/s]"
      ]
     },
     "metadata": {},
     "output_type": "display_data"
    },
    {
     "data": {
      "application/vnd.jupyter.widget-view+json": {
       "model_id": "584628c01ab148d89b50362bf0436680",
       "version_major": 2,
       "version_minor": 0
      },
      "text/plain": [
       "  0%|          | 0/360 [00:00<?, ?it/s]"
      ]
     },
     "metadata": {},
     "output_type": "display_data"
    },
    {
     "data": {
      "application/vnd.jupyter.widget-view+json": {
       "model_id": "8cd6e28da4d445648eb99f12174b0fb8",
       "version_major": 2,
       "version_minor": 0
      },
      "text/plain": [
       "  0%|          | 0/432 [00:00<?, ?it/s]"
      ]
     },
     "metadata": {},
     "output_type": "display_data"
    },
    {
     "data": {
      "application/vnd.jupyter.widget-view+json": {
       "model_id": "8649e8af357949f0bc0384f432f156fd",
       "version_major": 2,
       "version_minor": 0
      },
      "text/plain": [
       "  0%|          | 0/331 [00:00<?, ?it/s]"
      ]
     },
     "metadata": {},
     "output_type": "display_data"
    },
    {
     "data": {
      "application/vnd.jupyter.widget-view+json": {
       "model_id": "4651c8a0e8c445ab86164c100e95f667",
       "version_major": 2,
       "version_minor": 0
      },
      "text/plain": [
       "  0%|          | 0/499 [00:00<?, ?it/s]"
      ]
     },
     "metadata": {},
     "output_type": "display_data"
    },
    {
     "data": {
      "application/vnd.jupyter.widget-view+json": {
       "model_id": "bc6e11f84093477ea5a97e833d8cc98a",
       "version_major": 2,
       "version_minor": 0
      },
      "text/plain": [
       "  0%|          | 0/481 [00:00<?, ?it/s]"
      ]
     },
     "metadata": {},
     "output_type": "display_data"
    },
    {
     "data": {
      "application/vnd.jupyter.widget-view+json": {
       "model_id": "9889f444e5a241c79481ac3ef2c61b39",
       "version_major": 2,
       "version_minor": 0
      },
      "text/plain": [
       "  0%|          | 0/430 [00:00<?, ?it/s]"
      ]
     },
     "metadata": {},
     "output_type": "display_data"
    },
    {
     "data": {
      "application/vnd.jupyter.widget-view+json": {
       "model_id": "5ff3a53a988948449b2aed563a9ec23f",
       "version_major": 2,
       "version_minor": 0
      },
      "text/plain": [
       "  0%|          | 0/527 [00:00<?, ?it/s]"
      ]
     },
     "metadata": {},
     "output_type": "display_data"
    },
    {
     "data": {
      "application/vnd.jupyter.widget-view+json": {
       "model_id": "9750a31de7484fd584b9cd59cba995e4",
       "version_major": 2,
       "version_minor": 0
      },
      "text/plain": [
       "  0%|          | 0/30 [00:00<?, ?it/s]"
      ]
     },
     "metadata": {},
     "output_type": "display_data"
    },
    {
     "data": {
      "application/vnd.jupyter.widget-view+json": {
       "model_id": "804c828886c94700a7df99f0f968bffb",
       "version_major": 2,
       "version_minor": 0
      },
      "text/plain": [
       "  0%|          | 0/253 [00:00<?, ?it/s]"
      ]
     },
     "metadata": {},
     "output_type": "display_data"
    },
    {
     "data": {
      "application/vnd.jupyter.widget-view+json": {
       "model_id": "e19c4855da6a458a9171822debea5014",
       "version_major": 2,
       "version_minor": 0
      },
      "text/plain": [
       "  0%|          | 0/247 [00:00<?, ?it/s]"
      ]
     },
     "metadata": {},
     "output_type": "display_data"
    },
    {
     "data": {
      "application/vnd.jupyter.widget-view+json": {
       "model_id": "26c6edbf80ac4470a6975cb16b729cbe",
       "version_major": 2,
       "version_minor": 0
      },
      "text/plain": [
       "  0%|          | 0/419 [00:00<?, ?it/s]"
      ]
     },
     "metadata": {},
     "output_type": "display_data"
    },
    {
     "data": {
      "application/vnd.jupyter.widget-view+json": {
       "model_id": "075e4dc92b924935b8ba53eaf85707e4",
       "version_major": 2,
       "version_minor": 0
      },
      "text/plain": [
       "  0%|          | 0/269 [00:00<?, ?it/s]"
      ]
     },
     "metadata": {},
     "output_type": "display_data"
    },
    {
     "data": {
      "application/vnd.jupyter.widget-view+json": {
       "model_id": "2f61b8ef0b7e4aa5a400ced8d4a30b58",
       "version_major": 2,
       "version_minor": 0
      },
      "text/plain": [
       "  0%|          | 0/325 [00:00<?, ?it/s]"
      ]
     },
     "metadata": {},
     "output_type": "display_data"
    },
    {
     "data": {
      "application/vnd.jupyter.widget-view+json": {
       "model_id": "480578cf692e42b8b211bdecf4679b6d",
       "version_major": 2,
       "version_minor": 0
      },
      "text/plain": [
       "  0%|          | 0/446 [00:00<?, ?it/s]"
      ]
     },
     "metadata": {},
     "output_type": "display_data"
    },
    {
     "data": {
      "application/vnd.jupyter.widget-view+json": {
       "model_id": "08e0f8b044a241ac904594edd10af712",
       "version_major": 2,
       "version_minor": 0
      },
      "text/plain": [
       "  0%|          | 0/411 [00:00<?, ?it/s]"
      ]
     },
     "metadata": {},
     "output_type": "display_data"
    },
    {
     "data": {
      "application/vnd.jupyter.widget-view+json": {
       "model_id": "b951dc89503f4d7798888715cb88379e",
       "version_major": 2,
       "version_minor": 0
      },
      "text/plain": [
       "  0%|          | 0/440 [00:00<?, ?it/s]"
      ]
     },
     "metadata": {},
     "output_type": "display_data"
    },
    {
     "data": {
      "application/vnd.jupyter.widget-view+json": {
       "model_id": "64117eaf8dbe4556a777ad7dfe131cfc",
       "version_major": 2,
       "version_minor": 0
      },
      "text/plain": [
       "  0%|          | 0/400 [00:00<?, ?it/s]"
      ]
     },
     "metadata": {},
     "output_type": "display_data"
    },
    {
     "data": {
      "application/vnd.jupyter.widget-view+json": {
       "model_id": "66bfe640d60342aba0a3da88d8b95967",
       "version_major": 2,
       "version_minor": 0
      },
      "text/plain": [
       "  0%|          | 0/429 [00:00<?, ?it/s]"
      ]
     },
     "metadata": {},
     "output_type": "display_data"
    },
    {
     "data": {
      "application/vnd.jupyter.widget-view+json": {
       "model_id": "6f027243ad67430388e6774118af0034",
       "version_major": 2,
       "version_minor": 0
      },
      "text/plain": [
       "  0%|          | 0/264 [00:00<?, ?it/s]"
      ]
     },
     "metadata": {},
     "output_type": "display_data"
    },
    {
     "data": {
      "application/vnd.jupyter.widget-view+json": {
       "model_id": "cc291ec357a74e6e9cfddfdd975a2eca",
       "version_major": 2,
       "version_minor": 0
      },
      "text/plain": [
       "  0%|          | 0/300 [00:00<?, ?it/s]"
      ]
     },
     "metadata": {},
     "output_type": "display_data"
    },
    {
     "data": {
      "application/vnd.jupyter.widget-view+json": {
       "model_id": "763864c090184d0f969325bbebfca9b1",
       "version_major": 2,
       "version_minor": 0
      },
      "text/plain": [
       "  0%|          | 0/250 [00:00<?, ?it/s]"
      ]
     },
     "metadata": {},
     "output_type": "display_data"
    },
    {
     "data": {
      "application/vnd.jupyter.widget-view+json": {
       "model_id": "d3ee5217dbe2442b87e8b9f99d9113d7",
       "version_major": 2,
       "version_minor": 0
      },
      "text/plain": [
       "  0%|          | 0/442 [00:00<?, ?it/s]"
      ]
     },
     "metadata": {},
     "output_type": "display_data"
    },
    {
     "data": {
      "application/vnd.jupyter.widget-view+json": {
       "model_id": "381258a94cc24ead8b897f62c146f38f",
       "version_major": 2,
       "version_minor": 0
      },
      "text/plain": [
       "  0%|          | 0/414 [00:00<?, ?it/s]"
      ]
     },
     "metadata": {},
     "output_type": "display_data"
    },
    {
     "data": {
      "application/vnd.jupyter.widget-view+json": {
       "model_id": "651d6533016f4baf857a55c6d0a05cc0",
       "version_major": 2,
       "version_minor": 0
      },
      "text/plain": [
       "  0%|          | 0/423 [00:00<?, ?it/s]"
      ]
     },
     "metadata": {},
     "output_type": "display_data"
    },
    {
     "data": {
      "application/vnd.jupyter.widget-view+json": {
       "model_id": "cc29b0cdcc37452cb9c9a91306b9c733",
       "version_major": 2,
       "version_minor": 0
      },
      "text/plain": [
       "  0%|          | 0/374 [00:00<?, ?it/s]"
      ]
     },
     "metadata": {},
     "output_type": "display_data"
    },
    {
     "data": {
      "application/vnd.jupyter.widget-view+json": {
       "model_id": "1c0c5cda4ff243c4a205eaa0a0dd3220",
       "version_major": 2,
       "version_minor": 0
      },
      "text/plain": [
       "  0%|          | 0/490 [00:00<?, ?it/s]"
      ]
     },
     "metadata": {},
     "output_type": "display_data"
    },
    {
     "data": {
      "application/vnd.jupyter.widget-view+json": {
       "model_id": "9cd3317d3d5f41f394908af511632c29",
       "version_major": 2,
       "version_minor": 0
      },
      "text/plain": [
       "  0%|          | 0/439 [00:00<?, ?it/s]"
      ]
     },
     "metadata": {},
     "output_type": "display_data"
    },
    {
     "data": {
      "application/vnd.jupyter.widget-view+json": {
       "model_id": "3a19b1e39e344566886fdd9d5401b7e8",
       "version_major": 2,
       "version_minor": 0
      },
      "text/plain": [
       "  0%|          | 0/419 [00:00<?, ?it/s]"
      ]
     },
     "metadata": {},
     "output_type": "display_data"
    },
    {
     "data": {
      "application/vnd.jupyter.widget-view+json": {
       "model_id": "6320f6f253b64e00bcb627d0ca56274e",
       "version_major": 2,
       "version_minor": 0
      },
      "text/plain": [
       "  0%|          | 0/425 [00:00<?, ?it/s]"
      ]
     },
     "metadata": {},
     "output_type": "display_data"
    },
    {
     "data": {
      "application/vnd.jupyter.widget-view+json": {
       "model_id": "69882a19913948aa83a8a3f34803b57f",
       "version_major": 2,
       "version_minor": 0
      },
      "text/plain": [
       "  0%|          | 0/460 [00:00<?, ?it/s]"
      ]
     },
     "metadata": {},
     "output_type": "display_data"
    },
    {
     "data": {
      "application/vnd.jupyter.widget-view+json": {
       "model_id": "de23ec87aa47449db9cd58f26c17b28e",
       "version_major": 2,
       "version_minor": 0
      },
      "text/plain": [
       "  0%|          | 0/504 [00:00<?, ?it/s]"
      ]
     },
     "metadata": {},
     "output_type": "display_data"
    },
    {
     "data": {
      "application/vnd.jupyter.widget-view+json": {
       "model_id": "c527e8f1d11b47abab2296e3fd28e319",
       "version_major": 2,
       "version_minor": 0
      },
      "text/plain": [
       "  0%|          | 0/476 [00:00<?, ?it/s]"
      ]
     },
     "metadata": {},
     "output_type": "display_data"
    },
    {
     "data": {
      "application/vnd.jupyter.widget-view+json": {
       "model_id": "014236b32083425fa8b9bd0214f03b67",
       "version_major": 2,
       "version_minor": 0
      },
      "text/plain": [
       "  0%|          | 0/295 [00:00<?, ?it/s]"
      ]
     },
     "metadata": {},
     "output_type": "display_data"
    },
    {
     "data": {
      "application/vnd.jupyter.widget-view+json": {
       "model_id": "e15f1fbcfeb14ed4927da1b658491de9",
       "version_major": 2,
       "version_minor": 0
      },
      "text/plain": [
       "  0%|          | 0/381 [00:00<?, ?it/s]"
      ]
     },
     "metadata": {},
     "output_type": "display_data"
    },
    {
     "data": {
      "application/vnd.jupyter.widget-view+json": {
       "model_id": "eac8173f64c34c85918ef1e19319e1c9",
       "version_major": 2,
       "version_minor": 0
      },
      "text/plain": [
       "  0%|          | 0/426 [00:00<?, ?it/s]"
      ]
     },
     "metadata": {},
     "output_type": "display_data"
    },
    {
     "data": {
      "application/vnd.jupyter.widget-view+json": {
       "model_id": "870325ded5434d56a39170bcfea90820",
       "version_major": 2,
       "version_minor": 0
      },
      "text/plain": [
       "  0%|          | 0/369 [00:00<?, ?it/s]"
      ]
     },
     "metadata": {},
     "output_type": "display_data"
    },
    {
     "data": {
      "application/vnd.jupyter.widget-view+json": {
       "model_id": "a2dc73c200bf43c2a35a58715ff1f0ed",
       "version_major": 2,
       "version_minor": 0
      },
      "text/plain": [
       "  0%|          | 0/480 [00:00<?, ?it/s]"
      ]
     },
     "metadata": {},
     "output_type": "display_data"
    },
    {
     "data": {
      "application/vnd.jupyter.widget-view+json": {
       "model_id": "042fa71bab634e0984cd3c37fb3a97d6",
       "version_major": 2,
       "version_minor": 0
      },
      "text/plain": [
       "  0%|          | 0/429 [00:00<?, ?it/s]"
      ]
     },
     "metadata": {},
     "output_type": "display_data"
    },
    {
     "data": {
      "application/vnd.jupyter.widget-view+json": {
       "model_id": "90748393f77b4d94ad3e9b38b36917e9",
       "version_major": 2,
       "version_minor": 0
      },
      "text/plain": [
       "  0%|          | 0/31 [00:00<?, ?it/s]"
      ]
     },
     "metadata": {},
     "output_type": "display_data"
    },
    {
     "data": {
      "application/vnd.jupyter.widget-view+json": {
       "model_id": "d9e82698c14b40d4801f1677710a6eb5",
       "version_major": 2,
       "version_minor": 0
      },
      "text/plain": [
       "  0%|          | 0/482 [00:00<?, ?it/s]"
      ]
     },
     "metadata": {},
     "output_type": "display_data"
    },
    {
     "data": {
      "application/vnd.jupyter.widget-view+json": {
       "model_id": "c7d15902dcc94170937d5c6fa07b0cf0",
       "version_major": 2,
       "version_minor": 0
      },
      "text/plain": [
       "  0%|          | 0/460 [00:00<?, ?it/s]"
      ]
     },
     "metadata": {},
     "output_type": "display_data"
    },
    {
     "data": {
      "application/vnd.jupyter.widget-view+json": {
       "model_id": "2a4889cf75074a50b97f1f311e459f81",
       "version_major": 2,
       "version_minor": 0
      },
      "text/plain": [
       "  0%|          | 0/459 [00:00<?, ?it/s]"
      ]
     },
     "metadata": {},
     "output_type": "display_data"
    },
    {
     "data": {
      "application/vnd.jupyter.widget-view+json": {
       "model_id": "cc4782a1a2494bd19e7766c06bda0e7a",
       "version_major": 2,
       "version_minor": 0
      },
      "text/plain": [
       "  0%|          | 0/448 [00:00<?, ?it/s]"
      ]
     },
     "metadata": {},
     "output_type": "display_data"
    },
    {
     "data": {
      "application/vnd.jupyter.widget-view+json": {
       "model_id": "5bc91b71350047918641bd9aae6a55da",
       "version_major": 2,
       "version_minor": 0
      },
      "text/plain": [
       "  0%|          | 0/255 [00:00<?, ?it/s]"
      ]
     },
     "metadata": {},
     "output_type": "display_data"
    },
    {
     "data": {
      "application/vnd.jupyter.widget-view+json": {
       "model_id": "44d560f0bda142d893605cede9be1565",
       "version_major": 2,
       "version_minor": 0
      },
      "text/plain": [
       "  0%|          | 0/460 [00:00<?, ?it/s]"
      ]
     },
     "metadata": {},
     "output_type": "display_data"
    },
    {
     "data": {
      "application/vnd.jupyter.widget-view+json": {
       "model_id": "abc7a86da051463aa9a4de073b2fe858",
       "version_major": 2,
       "version_minor": 0
      },
      "text/plain": [
       "  0%|          | 0/448 [00:00<?, ?it/s]"
      ]
     },
     "metadata": {},
     "output_type": "display_data"
    },
    {
     "data": {
      "application/vnd.jupyter.widget-view+json": {
       "model_id": "9850825dd9a44a1aaade2886f9f33545",
       "version_major": 2,
       "version_minor": 0
      },
      "text/plain": [
       "  0%|          | 0/438 [00:00<?, ?it/s]"
      ]
     },
     "metadata": {},
     "output_type": "display_data"
    },
    {
     "data": {
      "application/vnd.jupyter.widget-view+json": {
       "model_id": "e5c349b803314dd29d9943548c7ac729",
       "version_major": 2,
       "version_minor": 0
      },
      "text/plain": [
       "  0%|          | 0/432 [00:00<?, ?it/s]"
      ]
     },
     "metadata": {},
     "output_type": "display_data"
    },
    {
     "data": {
      "application/vnd.jupyter.widget-view+json": {
       "model_id": "3f60f524203b41aba38a385df1dfb8ca",
       "version_major": 2,
       "version_minor": 0
      },
      "text/plain": [
       "  0%|          | 0/501 [00:00<?, ?it/s]"
      ]
     },
     "metadata": {},
     "output_type": "display_data"
    },
    {
     "data": {
      "application/vnd.jupyter.widget-view+json": {
       "model_id": "2ac48bb8615b40dca3d9746c3e014b80",
       "version_major": 2,
       "version_minor": 0
      },
      "text/plain": [
       "  0%|          | 0/284 [00:00<?, ?it/s]"
      ]
     },
     "metadata": {},
     "output_type": "display_data"
    },
    {
     "data": {
      "application/vnd.jupyter.widget-view+json": {
       "model_id": "6499e2efbe8048009affdfec69bb2e65",
       "version_major": 2,
       "version_minor": 0
      },
      "text/plain": [
       "  0%|          | 0/269 [00:00<?, ?it/s]"
      ]
     },
     "metadata": {},
     "output_type": "display_data"
    },
    {
     "data": {
      "application/vnd.jupyter.widget-view+json": {
       "model_id": "6b2b3b16eef54696bac56bda3cb8b1e5",
       "version_major": 2,
       "version_minor": 0
      },
      "text/plain": [
       "  0%|          | 0/259 [00:00<?, ?it/s]"
      ]
     },
     "metadata": {},
     "output_type": "display_data"
    },
    {
     "data": {
      "application/vnd.jupyter.widget-view+json": {
       "model_id": "39edc14a33e44aaf8c5749874adeb6f4",
       "version_major": 2,
       "version_minor": 0
      },
      "text/plain": [
       "  0%|          | 0/259 [00:00<?, ?it/s]"
      ]
     },
     "metadata": {},
     "output_type": "display_data"
    },
    {
     "data": {
      "application/vnd.jupyter.widget-view+json": {
       "model_id": "6639a9279f59411296944388fe1c7ba1",
       "version_major": 2,
       "version_minor": 0
      },
      "text/plain": [
       "  0%|          | 0/510 [00:00<?, ?it/s]"
      ]
     },
     "metadata": {},
     "output_type": "display_data"
    },
    {
     "data": {
      "application/vnd.jupyter.widget-view+json": {
       "model_id": "1c0e7fd4b63f44dd9860dccb06d5dc36",
       "version_major": 2,
       "version_minor": 0
      },
      "text/plain": [
       "  0%|          | 0/559 [00:00<?, ?it/s]"
      ]
     },
     "metadata": {},
     "output_type": "display_data"
    },
    {
     "data": {
      "application/vnd.jupyter.widget-view+json": {
       "model_id": "61a5600eb3504ebf82ccb8fceb83a779",
       "version_major": 2,
       "version_minor": 0
      },
      "text/plain": [
       "  0%|          | 0/304 [00:00<?, ?it/s]"
      ]
     },
     "metadata": {},
     "output_type": "display_data"
    },
    {
     "data": {
      "application/vnd.jupyter.widget-view+json": {
       "model_id": "ff9a0cda14c6454eb7ccc425181f2148",
       "version_major": 2,
       "version_minor": 0
      },
      "text/plain": [
       "  0%|          | 0/476 [00:00<?, ?it/s]"
      ]
     },
     "metadata": {},
     "output_type": "display_data"
    },
    {
     "data": {
      "application/vnd.jupyter.widget-view+json": {
       "model_id": "8dea81adbb66444da08f12c0f2e267f3",
       "version_major": 2,
       "version_minor": 0
      },
      "text/plain": [
       "  0%|          | 0/428 [00:00<?, ?it/s]"
      ]
     },
     "metadata": {},
     "output_type": "display_data"
    },
    {
     "data": {
      "application/vnd.jupyter.widget-view+json": {
       "model_id": "c16e7e651e064ddc8fe9317da46864d8",
       "version_major": 2,
       "version_minor": 0
      },
      "text/plain": [
       "  0%|          | 0/409 [00:00<?, ?it/s]"
      ]
     },
     "metadata": {},
     "output_type": "display_data"
    },
    {
     "data": {
      "application/vnd.jupyter.widget-view+json": {
       "model_id": "76765b60f7d541d6aede469b047dec37",
       "version_major": 2,
       "version_minor": 0
      },
      "text/plain": [
       "  0%|          | 0/434 [00:00<?, ?it/s]"
      ]
     },
     "metadata": {},
     "output_type": "display_data"
    },
    {
     "data": {
      "application/vnd.jupyter.widget-view+json": {
       "model_id": "21f1302921aa4080a5d697300c056965",
       "version_major": 2,
       "version_minor": 0
      },
      "text/plain": [
       "  0%|          | 0/297 [00:00<?, ?it/s]"
      ]
     },
     "metadata": {},
     "output_type": "display_data"
    },
    {
     "data": {
      "application/vnd.jupyter.widget-view+json": {
       "model_id": "37502c994eac437ab3aec7f5657f78ae",
       "version_major": 2,
       "version_minor": 0
      },
      "text/plain": [
       "  0%|          | 0/493 [00:00<?, ?it/s]"
      ]
     },
     "metadata": {},
     "output_type": "display_data"
    },
    {
     "data": {
      "application/vnd.jupyter.widget-view+json": {
       "model_id": "1de320a3cedd4b7aa0c804178ec4469b",
       "version_major": 2,
       "version_minor": 0
      },
      "text/plain": [
       "  0%|          | 0/455 [00:00<?, ?it/s]"
      ]
     },
     "metadata": {},
     "output_type": "display_data"
    },
    {
     "data": {
      "application/vnd.jupyter.widget-view+json": {
       "model_id": "2293e6b705b8439681197c2c895c21fe",
       "version_major": 2,
       "version_minor": 0
      },
      "text/plain": [
       "  0%|          | 0/485 [00:00<?, ?it/s]"
      ]
     },
     "metadata": {},
     "output_type": "display_data"
    },
    {
     "data": {
      "application/vnd.jupyter.widget-view+json": {
       "model_id": "f4ce710320994a4193255291bd5fc5b4",
       "version_major": 2,
       "version_minor": 0
      },
      "text/plain": [
       "  0%|          | 0/312 [00:00<?, ?it/s]"
      ]
     },
     "metadata": {},
     "output_type": "display_data"
    },
    {
     "data": {
      "application/vnd.jupyter.widget-view+json": {
       "model_id": "eea80924739d4e6bbd9db7b882f18dae",
       "version_major": 2,
       "version_minor": 0
      },
      "text/plain": [
       "  0%|          | 0/549 [00:00<?, ?it/s]"
      ]
     },
     "metadata": {},
     "output_type": "display_data"
    },
    {
     "data": {
      "application/vnd.jupyter.widget-view+json": {
       "model_id": "071e4518c0284d849dce6c1fd123ea39",
       "version_major": 2,
       "version_minor": 0
      },
      "text/plain": [
       "  0%|          | 0/506 [00:00<?, ?it/s]"
      ]
     },
     "metadata": {},
     "output_type": "display_data"
    },
    {
     "data": {
      "application/vnd.jupyter.widget-view+json": {
       "model_id": "22b0736d030746fca501322fc86f36e3",
       "version_major": 2,
       "version_minor": 0
      },
      "text/plain": [
       "  0%|          | 0/505 [00:00<?, ?it/s]"
      ]
     },
     "metadata": {},
     "output_type": "display_data"
    },
    {
     "data": {
      "application/vnd.jupyter.widget-view+json": {
       "model_id": "43984c9aaeb640f0adfc29862e710708",
       "version_major": 2,
       "version_minor": 0
      },
      "text/plain": [
       "  0%|          | 0/418 [00:00<?, ?it/s]"
      ]
     },
     "metadata": {},
     "output_type": "display_data"
    },
    {
     "data": {
      "application/vnd.jupyter.widget-view+json": {
       "model_id": "d7ea78a6ffc2462ebf6e64a8a9b90a09",
       "version_major": 2,
       "version_minor": 0
      },
      "text/plain": [
       "  0%|          | 0/540 [00:00<?, ?it/s]"
      ]
     },
     "metadata": {},
     "output_type": "display_data"
    },
    {
     "data": {
      "application/vnd.jupyter.widget-view+json": {
       "model_id": "eb6a9c5e89404da6a641db04f8e259d1",
       "version_major": 2,
       "version_minor": 0
      },
      "text/plain": [
       "  0%|          | 0/31 [00:00<?, ?it/s]"
      ]
     },
     "metadata": {},
     "output_type": "display_data"
    },
    {
     "data": {
      "application/vnd.jupyter.widget-view+json": {
       "model_id": "31ace45fcd6841b4bf72a5e49cf2b43e",
       "version_major": 2,
       "version_minor": 0
      },
      "text/plain": [
       "  0%|          | 0/462 [00:00<?, ?it/s]"
      ]
     },
     "metadata": {},
     "output_type": "display_data"
    },
    {
     "data": {
      "application/vnd.jupyter.widget-view+json": {
       "model_id": "3aa56714c9ef4129b031ce409f1de2f1",
       "version_major": 2,
       "version_minor": 0
      },
      "text/plain": [
       "  0%|          | 0/380 [00:00<?, ?it/s]"
      ]
     },
     "metadata": {},
     "output_type": "display_data"
    },
    {
     "data": {
      "application/vnd.jupyter.widget-view+json": {
       "model_id": "30543cf85e1d408c81694afddfc31f55",
       "version_major": 2,
       "version_minor": 0
      },
      "text/plain": [
       "  0%|          | 0/274 [00:00<?, ?it/s]"
      ]
     },
     "metadata": {},
     "output_type": "display_data"
    },
    {
     "data": {
      "application/vnd.jupyter.widget-view+json": {
       "model_id": "a5efa4e69aa54d8fad73e2edbcfc46fb",
       "version_major": 2,
       "version_minor": 0
      },
      "text/plain": [
       "  0%|          | 0/479 [00:00<?, ?it/s]"
      ]
     },
     "metadata": {},
     "output_type": "display_data"
    },
    {
     "data": {
      "application/vnd.jupyter.widget-view+json": {
       "model_id": "2a329e94a7d143b991668dad2bac5502",
       "version_major": 2,
       "version_minor": 0
      },
      "text/plain": [
       "  0%|          | 0/489 [00:00<?, ?it/s]"
      ]
     },
     "metadata": {},
     "output_type": "display_data"
    },
    {
     "data": {
      "application/vnd.jupyter.widget-view+json": {
       "model_id": "3e5f98beaf424e398c58b945920a5a1c",
       "version_major": 2,
       "version_minor": 0
      },
      "text/plain": [
       "  0%|          | 0/458 [00:00<?, ?it/s]"
      ]
     },
     "metadata": {},
     "output_type": "display_data"
    },
    {
     "data": {
      "application/vnd.jupyter.widget-view+json": {
       "model_id": "d60aed6a69e940b48b6c4e4d717a96b0",
       "version_major": 2,
       "version_minor": 0
      },
      "text/plain": [
       "  0%|          | 0/200 [00:00<?, ?it/s]"
      ]
     },
     "metadata": {},
     "output_type": "display_data"
    },
    {
     "data": {
      "application/vnd.jupyter.widget-view+json": {
       "model_id": "bc52d727411f42ad932224eed9468216",
       "version_major": 2,
       "version_minor": 0
      },
      "text/plain": [
       "  0%|          | 0/235 [00:00<?, ?it/s]"
      ]
     },
     "metadata": {},
     "output_type": "display_data"
    },
    {
     "data": {
      "application/vnd.jupyter.widget-view+json": {
       "model_id": "0b3e8694bb3843c4b7cd4a388a69d1c1",
       "version_major": 2,
       "version_minor": 0
      },
      "text/plain": [
       "  0%|          | 0/187 [00:00<?, ?it/s]"
      ]
     },
     "metadata": {},
     "output_type": "display_data"
    },
    {
     "data": {
      "application/vnd.jupyter.widget-view+json": {
       "model_id": "d0e31f17939b433ea914fff7aa4dcdef",
       "version_major": 2,
       "version_minor": 0
      },
      "text/plain": [
       "  0%|          | 0/421 [00:00<?, ?it/s]"
      ]
     },
     "metadata": {},
     "output_type": "display_data"
    },
    {
     "data": {
      "application/vnd.jupyter.widget-view+json": {
       "model_id": "f3328870a00c4da982f06c19b82a4fbc",
       "version_major": 2,
       "version_minor": 0
      },
      "text/plain": [
       "  0%|          | 0/528 [00:00<?, ?it/s]"
      ]
     },
     "metadata": {},
     "output_type": "display_data"
    },
    {
     "data": {
      "application/vnd.jupyter.widget-view+json": {
       "model_id": "b3c0f69c99c242128c67f46c409c8b16",
       "version_major": 2,
       "version_minor": 0
      },
      "text/plain": [
       "  0%|          | 0/508 [00:00<?, ?it/s]"
      ]
     },
     "metadata": {},
     "output_type": "display_data"
    },
    {
     "data": {
      "application/vnd.jupyter.widget-view+json": {
       "model_id": "63347f1393db47d49ef9a1f1d9792f1d",
       "version_major": 2,
       "version_minor": 0
      },
      "text/plain": [
       "  0%|          | 0/541 [00:00<?, ?it/s]"
      ]
     },
     "metadata": {},
     "output_type": "display_data"
    },
    {
     "data": {
      "application/vnd.jupyter.widget-view+json": {
       "model_id": "954baee70a21448cabeb61e087dc6a7a",
       "version_major": 2,
       "version_minor": 0
      },
      "text/plain": [
       "  0%|          | 0/468 [00:00<?, ?it/s]"
      ]
     },
     "metadata": {},
     "output_type": "display_data"
    },
    {
     "data": {
      "application/vnd.jupyter.widget-view+json": {
       "model_id": "81605633e42541c9b1a4848d640c573c",
       "version_major": 2,
       "version_minor": 0
      },
      "text/plain": [
       "  0%|          | 0/356 [00:00<?, ?it/s]"
      ]
     },
     "metadata": {},
     "output_type": "display_data"
    },
    {
     "data": {
      "application/vnd.jupyter.widget-view+json": {
       "model_id": "6caa24f2bc43442080ee5de931894e7e",
       "version_major": 2,
       "version_minor": 0
      },
      "text/plain": [
       "  0%|          | 0/222 [00:00<?, ?it/s]"
      ]
     },
     "metadata": {},
     "output_type": "display_data"
    },
    {
     "data": {
      "application/vnd.jupyter.widget-view+json": {
       "model_id": "c3a1255acc544ff3abe455edba6b392f",
       "version_major": 2,
       "version_minor": 0
      },
      "text/plain": [
       "  0%|          | 0/460 [00:00<?, ?it/s]"
      ]
     },
     "metadata": {},
     "output_type": "display_data"
    },
    {
     "data": {
      "application/vnd.jupyter.widget-view+json": {
       "model_id": "1678262276f242658c85e6c0985b2c8f",
       "version_major": 2,
       "version_minor": 0
      },
      "text/plain": [
       "  0%|          | 0/257 [00:00<?, ?it/s]"
      ]
     },
     "metadata": {},
     "output_type": "display_data"
    },
    {
     "data": {
      "application/vnd.jupyter.widget-view+json": {
       "model_id": "b7dbaea4b4fb4ace97cc6b8c9a8b2eb6",
       "version_major": 2,
       "version_minor": 0
      },
      "text/plain": [
       "  0%|          | 0/149 [00:00<?, ?it/s]"
      ]
     },
     "metadata": {},
     "output_type": "display_data"
    },
    {
     "data": {
      "application/vnd.jupyter.widget-view+json": {
       "model_id": "766ec535290d483a8db6b4fae9145bb3",
       "version_major": 2,
       "version_minor": 0
      },
      "text/plain": [
       "  0%|          | 0/400 [00:00<?, ?it/s]"
      ]
     },
     "metadata": {},
     "output_type": "display_data"
    },
    {
     "data": {
      "application/vnd.jupyter.widget-view+json": {
       "model_id": "f4e69febe74c4646a8fe92a01432fe6b",
       "version_major": 2,
       "version_minor": 0
      },
      "text/plain": [
       "  0%|          | 0/453 [00:00<?, ?it/s]"
      ]
     },
     "metadata": {},
     "output_type": "display_data"
    },
    {
     "data": {
      "application/vnd.jupyter.widget-view+json": {
       "model_id": "00fa78b2531f436998e6be3083058184",
       "version_major": 2,
       "version_minor": 0
      },
      "text/plain": [
       "  0%|          | 0/458 [00:00<?, ?it/s]"
      ]
     },
     "metadata": {},
     "output_type": "display_data"
    },
    {
     "data": {
      "application/vnd.jupyter.widget-view+json": {
       "model_id": "267beba9c0414937a391408a7f1aa50e",
       "version_major": 2,
       "version_minor": 0
      },
      "text/plain": [
       "  0%|          | 0/244 [00:00<?, ?it/s]"
      ]
     },
     "metadata": {},
     "output_type": "display_data"
    },
    {
     "data": {
      "application/vnd.jupyter.widget-view+json": {
       "model_id": "96a32ddcf2c049369a643b0813d1e700",
       "version_major": 2,
       "version_minor": 0
      },
      "text/plain": [
       "  0%|          | 0/493 [00:00<?, ?it/s]"
      ]
     },
     "metadata": {},
     "output_type": "display_data"
    },
    {
     "data": {
      "application/vnd.jupyter.widget-view+json": {
       "model_id": "5f71cb6e32b34b2393c3f7ebf08bbcf4",
       "version_major": 2,
       "version_minor": 0
      },
      "text/plain": [
       "  0%|          | 0/481 [00:00<?, ?it/s]"
      ]
     },
     "metadata": {},
     "output_type": "display_data"
    },
    {
     "data": {
      "application/vnd.jupyter.widget-view+json": {
       "model_id": "0e8d00f3317c472cad18cdd70f8bc2b7",
       "version_major": 2,
       "version_minor": 0
      },
      "text/plain": [
       "  0%|          | 0/448 [00:00<?, ?it/s]"
      ]
     },
     "metadata": {},
     "output_type": "display_data"
    },
    {
     "data": {
      "application/vnd.jupyter.widget-view+json": {
       "model_id": "ca2fdcbbb00146c7a992d83d01b30e7f",
       "version_major": 2,
       "version_minor": 0
      },
      "text/plain": [
       "  0%|          | 0/377 [00:00<?, ?it/s]"
      ]
     },
     "metadata": {},
     "output_type": "display_data"
    },
    {
     "data": {
      "application/vnd.jupyter.widget-view+json": {
       "model_id": "9b18b8741ac2475cae5589b4f48899a3",
       "version_major": 2,
       "version_minor": 0
      },
      "text/plain": [
       "  0%|          | 0/280 [00:00<?, ?it/s]"
      ]
     },
     "metadata": {},
     "output_type": "display_data"
    },
    {
     "data": {
      "application/vnd.jupyter.widget-view+json": {
       "model_id": "6c0890eb185941b6a194e1273072ac21",
       "version_major": 2,
       "version_minor": 0
      },
      "text/plain": [
       "  0%|          | 0/448 [00:00<?, ?it/s]"
      ]
     },
     "metadata": {},
     "output_type": "display_data"
    },
    {
     "data": {
      "application/vnd.jupyter.widget-view+json": {
       "model_id": "724cffb8d2fd4a8f82ac3f54644364db",
       "version_major": 2,
       "version_minor": 0
      },
      "text/plain": [
       "  0%|          | 0/258 [00:00<?, ?it/s]"
      ]
     },
     "metadata": {},
     "output_type": "display_data"
    },
    {
     "data": {
      "application/vnd.jupyter.widget-view+json": {
       "model_id": "409427eeb2184c7c9768a07af61c615d",
       "version_major": 2,
       "version_minor": 0
      },
      "text/plain": [
       "  0%|          | 0/304 [00:00<?, ?it/s]"
      ]
     },
     "metadata": {},
     "output_type": "display_data"
    },
    {
     "data": {
      "application/vnd.jupyter.widget-view+json": {
       "model_id": "33b686b6184e49bea0f10b4c3d235a92",
       "version_major": 2,
       "version_minor": 0
      },
      "text/plain": [
       "  0%|          | 0/31 [00:00<?, ?it/s]"
      ]
     },
     "metadata": {},
     "output_type": "display_data"
    },
    {
     "data": {
      "application/vnd.jupyter.widget-view+json": {
       "model_id": "9cac3279b09c4547a8fa1f95186951db",
       "version_major": 2,
       "version_minor": 0
      },
      "text/plain": [
       "  0%|          | 0/415 [00:00<?, ?it/s]"
      ]
     },
     "metadata": {},
     "output_type": "display_data"
    },
    {
     "data": {
      "application/vnd.jupyter.widget-view+json": {
       "model_id": "c73e06871bd04db997a5decad0345b49",
       "version_major": 2,
       "version_minor": 0
      },
      "text/plain": [
       "  0%|          | 0/479 [00:00<?, ?it/s]"
      ]
     },
     "metadata": {},
     "output_type": "display_data"
    },
    {
     "data": {
      "application/vnd.jupyter.widget-view+json": {
       "model_id": "93e5d53bf7dd47b2b678339cfe8fc510",
       "version_major": 2,
       "version_minor": 0
      },
      "text/plain": [
       "  0%|          | 0/376 [00:00<?, ?it/s]"
      ]
     },
     "metadata": {},
     "output_type": "display_data"
    },
    {
     "data": {
      "application/vnd.jupyter.widget-view+json": {
       "model_id": "9065bcdec2814d7d9099740bb796d36b",
       "version_major": 2,
       "version_minor": 0
      },
      "text/plain": [
       "  0%|          | 0/299 [00:00<?, ?it/s]"
      ]
     },
     "metadata": {},
     "output_type": "display_data"
    },
    {
     "data": {
      "application/vnd.jupyter.widget-view+json": {
       "model_id": "16472a158ca840e89ca6a149a4b67640",
       "version_major": 2,
       "version_minor": 0
      },
      "text/plain": [
       "  0%|          | 0/373 [00:00<?, ?it/s]"
      ]
     },
     "metadata": {},
     "output_type": "display_data"
    },
    {
     "data": {
      "application/vnd.jupyter.widget-view+json": {
       "model_id": "0afaf868245a4123aa6f092e28b3219b",
       "version_major": 2,
       "version_minor": 0
      },
      "text/plain": [
       "  0%|          | 0/244 [00:00<?, ?it/s]"
      ]
     },
     "metadata": {},
     "output_type": "display_data"
    },
    {
     "data": {
      "application/vnd.jupyter.widget-view+json": {
       "model_id": "583517ac24a54d56993b82e630e2cdfc",
       "version_major": 2,
       "version_minor": 0
      },
      "text/plain": [
       "  0%|          | 0/276 [00:00<?, ?it/s]"
      ]
     },
     "metadata": {},
     "output_type": "display_data"
    },
    {
     "data": {
      "application/vnd.jupyter.widget-view+json": {
       "model_id": "248fa3a8c0724d1d82252b4b130bee1d",
       "version_major": 2,
       "version_minor": 0
      },
      "text/plain": [
       "  0%|          | 0/288 [00:00<?, ?it/s]"
      ]
     },
     "metadata": {},
     "output_type": "display_data"
    },
    {
     "data": {
      "application/vnd.jupyter.widget-view+json": {
       "model_id": "b4550d8500cd4d6182b685b807f4c7d1",
       "version_major": 2,
       "version_minor": 0
      },
      "text/plain": [
       "  0%|          | 0/354 [00:00<?, ?it/s]"
      ]
     },
     "metadata": {},
     "output_type": "display_data"
    },
    {
     "data": {
      "application/vnd.jupyter.widget-view+json": {
       "model_id": "a5860dbc4d9b41b8932bc3a18c4349f1",
       "version_major": 2,
       "version_minor": 0
      },
      "text/plain": [
       "  0%|          | 0/329 [00:00<?, ?it/s]"
      ]
     },
     "metadata": {},
     "output_type": "display_data"
    },
    {
     "data": {
      "application/vnd.jupyter.widget-view+json": {
       "model_id": "047d87420ff840c39ed4fd44bfe6e800",
       "version_major": 2,
       "version_minor": 0
      },
      "text/plain": [
       "  0%|          | 0/341 [00:00<?, ?it/s]"
      ]
     },
     "metadata": {},
     "output_type": "display_data"
    },
    {
     "data": {
      "application/vnd.jupyter.widget-view+json": {
       "model_id": "402f5142b25c498d83e7dc9e770618d8",
       "version_major": 2,
       "version_minor": 0
      },
      "text/plain": [
       "  0%|          | 0/518 [00:00<?, ?it/s]"
      ]
     },
     "metadata": {},
     "output_type": "display_data"
    },
    {
     "data": {
      "application/vnd.jupyter.widget-view+json": {
       "model_id": "5eec37ea91ff4a1cbd0f44efc2a1161d",
       "version_major": 2,
       "version_minor": 0
      },
      "text/plain": [
       "  0%|          | 0/390 [00:00<?, ?it/s]"
      ]
     },
     "metadata": {},
     "output_type": "display_data"
    },
    {
     "data": {
      "application/vnd.jupyter.widget-view+json": {
       "model_id": "77dcb38b497246fbb25676a709c09913",
       "version_major": 2,
       "version_minor": 0
      },
      "text/plain": [
       "  0%|          | 0/235 [00:00<?, ?it/s]"
      ]
     },
     "metadata": {},
     "output_type": "display_data"
    },
    {
     "data": {
      "application/vnd.jupyter.widget-view+json": {
       "model_id": "30912f15906e4df283edd0b2255f409c",
       "version_major": 2,
       "version_minor": 0
      },
      "text/plain": [
       "  0%|          | 0/379 [00:00<?, ?it/s]"
      ]
     },
     "metadata": {},
     "output_type": "display_data"
    },
    {
     "data": {
      "application/vnd.jupyter.widget-view+json": {
       "model_id": "ef823471de6741bdbd36f81ee94e98d2",
       "version_major": 2,
       "version_minor": 0
      },
      "text/plain": [
       "  0%|          | 0/430 [00:00<?, ?it/s]"
      ]
     },
     "metadata": {},
     "output_type": "display_data"
    },
    {
     "data": {
      "application/vnd.jupyter.widget-view+json": {
       "model_id": "6bca3a74c96f4ebeabb9611a50c3ddc4",
       "version_major": 2,
       "version_minor": 0
      },
      "text/plain": [
       "  0%|          | 0/253 [00:00<?, ?it/s]"
      ]
     },
     "metadata": {},
     "output_type": "display_data"
    },
    {
     "data": {
      "application/vnd.jupyter.widget-view+json": {
       "model_id": "5946c625549746cc9f852a0110cf4add",
       "version_major": 2,
       "version_minor": 0
      },
      "text/plain": [
       "  0%|          | 0/271 [00:00<?, ?it/s]"
      ]
     },
     "metadata": {},
     "output_type": "display_data"
    },
    {
     "data": {
      "application/vnd.jupyter.widget-view+json": {
       "model_id": "1a3d8828f85b4e16a1a7480a58403c5e",
       "version_major": 2,
       "version_minor": 0
      },
      "text/plain": [
       "  0%|          | 0/301 [00:00<?, ?it/s]"
      ]
     },
     "metadata": {},
     "output_type": "display_data"
    },
    {
     "data": {
      "application/vnd.jupyter.widget-view+json": {
       "model_id": "ae465179213440f28c58bb02ebb4c8aa",
       "version_major": 2,
       "version_minor": 0
      },
      "text/plain": [
       "  0%|          | 0/272 [00:00<?, ?it/s]"
      ]
     },
     "metadata": {},
     "output_type": "display_data"
    },
    {
     "data": {
      "application/vnd.jupyter.widget-view+json": {
       "model_id": "4d2f98a790024d53accb9e2c2ab34f25",
       "version_major": 2,
       "version_minor": 0
      },
      "text/plain": [
       "  0%|          | 0/264 [00:00<?, ?it/s]"
      ]
     },
     "metadata": {},
     "output_type": "display_data"
    },
    {
     "data": {
      "application/vnd.jupyter.widget-view+json": {
       "model_id": "47c3f1a3ae9942b2a09db4b283e9acfe",
       "version_major": 2,
       "version_minor": 0
      },
      "text/plain": [
       "  0%|          | 0/237 [00:00<?, ?it/s]"
      ]
     },
     "metadata": {},
     "output_type": "display_data"
    },
    {
     "data": {
      "application/vnd.jupyter.widget-view+json": {
       "model_id": "fb17d4d07e434c388006dc31d5f0b1bc",
       "version_major": 2,
       "version_minor": 0
      },
      "text/plain": [
       "  0%|          | 0/351 [00:00<?, ?it/s]"
      ]
     },
     "metadata": {},
     "output_type": "display_data"
    },
    {
     "data": {
      "application/vnd.jupyter.widget-view+json": {
       "model_id": "5098fbd438fe4f8c894f42cd62551cbe",
       "version_major": 2,
       "version_minor": 0
      },
      "text/plain": [
       "  0%|          | 0/365 [00:00<?, ?it/s]"
      ]
     },
     "metadata": {},
     "output_type": "display_data"
    },
    {
     "data": {
      "application/vnd.jupyter.widget-view+json": {
       "model_id": "729202c984c74344819ae0ed241b92cb",
       "version_major": 2,
       "version_minor": 0
      },
      "text/plain": [
       "  0%|          | 0/364 [00:00<?, ?it/s]"
      ]
     },
     "metadata": {},
     "output_type": "display_data"
    },
    {
     "data": {
      "application/vnd.jupyter.widget-view+json": {
       "model_id": "e9b626d50eb14adabe6588fbfd3f77f3",
       "version_major": 2,
       "version_minor": 0
      },
      "text/plain": [
       "  0%|          | 0/275 [00:00<?, ?it/s]"
      ]
     },
     "metadata": {},
     "output_type": "display_data"
    },
    {
     "data": {
      "application/vnd.jupyter.widget-view+json": {
       "model_id": "3332a00630934facb972795e20ea9a46",
       "version_major": 2,
       "version_minor": 0
      },
      "text/plain": [
       "  0%|          | 0/462 [00:00<?, ?it/s]"
      ]
     },
     "metadata": {},
     "output_type": "display_data"
    },
    {
     "data": {
      "application/vnd.jupyter.widget-view+json": {
       "model_id": "fdc003d3435d4f40b11256e5858dd1e1",
       "version_major": 2,
       "version_minor": 0
      },
      "text/plain": [
       "  0%|          | 0/361 [00:00<?, ?it/s]"
      ]
     },
     "metadata": {},
     "output_type": "display_data"
    },
    {
     "data": {
      "application/vnd.jupyter.widget-view+json": {
       "model_id": "88b4798f6de64cc2ac6b96e792d2b79c",
       "version_major": 2,
       "version_minor": 0
      },
      "text/plain": [
       "  0%|          | 0/394 [00:00<?, ?it/s]"
      ]
     },
     "metadata": {},
     "output_type": "display_data"
    },
    {
     "data": {
      "application/vnd.jupyter.widget-view+json": {
       "model_id": "a31cca0bcaf64bd88cc91cbb06c4800f",
       "version_major": 2,
       "version_minor": 0
      },
      "text/plain": [
       "  0%|          | 0/386 [00:00<?, ?it/s]"
      ]
     },
     "metadata": {},
     "output_type": "display_data"
    },
    {
     "data": {
      "application/vnd.jupyter.widget-view+json": {
       "model_id": "bf6f6fde73c448429a642d68ed02218d",
       "version_major": 2,
       "version_minor": 0
      },
      "text/plain": [
       "  0%|          | 0/355 [00:00<?, ?it/s]"
      ]
     },
     "metadata": {},
     "output_type": "display_data"
    },
    {
     "data": {
      "application/vnd.jupyter.widget-view+json": {
       "model_id": "46423ee58d3c4babbea01c727a4da50c",
       "version_major": 2,
       "version_minor": 0
      },
      "text/plain": [
       "  0%|          | 0/31 [00:00<?, ?it/s]"
      ]
     },
     "metadata": {},
     "output_type": "display_data"
    },
    {
     "data": {
      "application/vnd.jupyter.widget-view+json": {
       "model_id": "be8310a77b1f44c180bb5dcb5b2c29ed",
       "version_major": 2,
       "version_minor": 0
      },
      "text/plain": [
       "  0%|          | 0/449 [00:00<?, ?it/s]"
      ]
     },
     "metadata": {},
     "output_type": "display_data"
    },
    {
     "data": {
      "application/vnd.jupyter.widget-view+json": {
       "model_id": "fa84321458354c54b0a1e11990522e42",
       "version_major": 2,
       "version_minor": 0
      },
      "text/plain": [
       "  0%|          | 0/371 [00:00<?, ?it/s]"
      ]
     },
     "metadata": {},
     "output_type": "display_data"
    },
    {
     "data": {
      "application/vnd.jupyter.widget-view+json": {
       "model_id": "9b45cb856aed436eb5f03e487618632f",
       "version_major": 2,
       "version_minor": 0
      },
      "text/plain": [
       "  0%|          | 0/318 [00:00<?, ?it/s]"
      ]
     },
     "metadata": {},
     "output_type": "display_data"
    },
    {
     "data": {
      "application/vnd.jupyter.widget-view+json": {
       "model_id": "36d7b72063bc4214b556001e1d52179f",
       "version_major": 2,
       "version_minor": 0
      },
      "text/plain": [
       "  0%|          | 0/397 [00:00<?, ?it/s]"
      ]
     },
     "metadata": {},
     "output_type": "display_data"
    },
    {
     "data": {
      "application/vnd.jupyter.widget-view+json": {
       "model_id": "ad7cbd8669004ef59dca33ad466d8d45",
       "version_major": 2,
       "version_minor": 0
      },
      "text/plain": [
       "  0%|          | 0/367 [00:00<?, ?it/s]"
      ]
     },
     "metadata": {},
     "output_type": "display_data"
    },
    {
     "data": {
      "application/vnd.jupyter.widget-view+json": {
       "model_id": "2934cde7fe87427bbde6d9a924c69802",
       "version_major": 2,
       "version_minor": 0
      },
      "text/plain": [
       "  0%|          | 0/391 [00:00<?, ?it/s]"
      ]
     },
     "metadata": {},
     "output_type": "display_data"
    },
    {
     "data": {
      "application/vnd.jupyter.widget-view+json": {
       "model_id": "98374c311ade4d35b5e14d73c5ccfcd1",
       "version_major": 2,
       "version_minor": 0
      },
      "text/plain": [
       "  0%|          | 0/296 [00:00<?, ?it/s]"
      ]
     },
     "metadata": {},
     "output_type": "display_data"
    },
    {
     "data": {
      "application/vnd.jupyter.widget-view+json": {
       "model_id": "017c5546190c4eeebc22d8d2683146ba",
       "version_major": 2,
       "version_minor": 0
      },
      "text/plain": [
       "  0%|          | 0/225 [00:00<?, ?it/s]"
      ]
     },
     "metadata": {},
     "output_type": "display_data"
    },
    {
     "data": {
      "application/vnd.jupyter.widget-view+json": {
       "model_id": "1ff2e64b3f344b30a87584916d8c3080",
       "version_major": 2,
       "version_minor": 0
      },
      "text/plain": [
       "  0%|          | 0/241 [00:00<?, ?it/s]"
      ]
     },
     "metadata": {},
     "output_type": "display_data"
    },
    {
     "data": {
      "application/vnd.jupyter.widget-view+json": {
       "model_id": "1e0d71d36a034c5d9faf0daa3cc65c2a",
       "version_major": 2,
       "version_minor": 0
      },
      "text/plain": [
       "  0%|          | 0/446 [00:00<?, ?it/s]"
      ]
     },
     "metadata": {},
     "output_type": "display_data"
    },
    {
     "data": {
      "application/vnd.jupyter.widget-view+json": {
       "model_id": "12ea6da97fa74c3b9c0bd8722123307f",
       "version_major": 2,
       "version_minor": 0
      },
      "text/plain": [
       "  0%|          | 0/487 [00:00<?, ?it/s]"
      ]
     },
     "metadata": {},
     "output_type": "display_data"
    },
    {
     "data": {
      "application/vnd.jupyter.widget-view+json": {
       "model_id": "610dbc0bff1c4fe5a2bc091e0fff660e",
       "version_major": 2,
       "version_minor": 0
      },
      "text/plain": [
       "  0%|          | 0/360 [00:00<?, ?it/s]"
      ]
     },
     "metadata": {},
     "output_type": "display_data"
    },
    {
     "data": {
      "application/vnd.jupyter.widget-view+json": {
       "model_id": "28a2c420fad945baa1d1673ccf7d49b7",
       "version_major": 2,
       "version_minor": 0
      },
      "text/plain": [
       "  0%|          | 0/458 [00:00<?, ?it/s]"
      ]
     },
     "metadata": {},
     "output_type": "display_data"
    },
    {
     "data": {
      "application/vnd.jupyter.widget-view+json": {
       "model_id": "d140ce048ff74b36890c242f9ed2993a",
       "version_major": 2,
       "version_minor": 0
      },
      "text/plain": [
       "  0%|          | 0/470 [00:00<?, ?it/s]"
      ]
     },
     "metadata": {},
     "output_type": "display_data"
    },
    {
     "data": {
      "application/vnd.jupyter.widget-view+json": {
       "model_id": "f5668efbdfe54e4fa8008af4c7f7bb93",
       "version_major": 2,
       "version_minor": 0
      },
      "text/plain": [
       "  0%|          | 0/393 [00:00<?, ?it/s]"
      ]
     },
     "metadata": {},
     "output_type": "display_data"
    },
    {
     "data": {
      "application/vnd.jupyter.widget-view+json": {
       "model_id": "02bbf08e18674b82a40014f8168b5df4",
       "version_major": 2,
       "version_minor": 0
      },
      "text/plain": [
       "  0%|          | 0/306 [00:00<?, ?it/s]"
      ]
     },
     "metadata": {},
     "output_type": "display_data"
    },
    {
     "data": {
      "application/vnd.jupyter.widget-view+json": {
       "model_id": "32c85e30f8654f55a5ca0bda190dc2ea",
       "version_major": 2,
       "version_minor": 0
      },
      "text/plain": [
       "  0%|          | 0/391 [00:00<?, ?it/s]"
      ]
     },
     "metadata": {},
     "output_type": "display_data"
    },
    {
     "data": {
      "application/vnd.jupyter.widget-view+json": {
       "model_id": "4be0b573b99747aa90ad5adac58bb515",
       "version_major": 2,
       "version_minor": 0
      },
      "text/plain": [
       "  0%|          | 0/250 [00:00<?, ?it/s]"
      ]
     },
     "metadata": {},
     "output_type": "display_data"
    },
    {
     "data": {
      "application/vnd.jupyter.widget-view+json": {
       "model_id": "9721f4c7f9ca4d5daa6c4a42672ced64",
       "version_major": 2,
       "version_minor": 0
      },
      "text/plain": [
       "  0%|          | 0/357 [00:00<?, ?it/s]"
      ]
     },
     "metadata": {},
     "output_type": "display_data"
    },
    {
     "data": {
      "application/vnd.jupyter.widget-view+json": {
       "model_id": "38a681df701248c091e12b5c4d609eda",
       "version_major": 2,
       "version_minor": 0
      },
      "text/plain": [
       "  0%|          | 0/417 [00:00<?, ?it/s]"
      ]
     },
     "metadata": {},
     "output_type": "display_data"
    },
    {
     "data": {
      "application/vnd.jupyter.widget-view+json": {
       "model_id": "c4aaf24bd0b64a619ba72e4b160b7870",
       "version_major": 2,
       "version_minor": 0
      },
      "text/plain": [
       "  0%|          | 0/457 [00:00<?, ?it/s]"
      ]
     },
     "metadata": {},
     "output_type": "display_data"
    },
    {
     "data": {
      "application/vnd.jupyter.widget-view+json": {
       "model_id": "65b46ae005134653bf2670a0ac671e26",
       "version_major": 2,
       "version_minor": 0
      },
      "text/plain": [
       "  0%|          | 0/481 [00:00<?, ?it/s]"
      ]
     },
     "metadata": {},
     "output_type": "display_data"
    },
    {
     "data": {
      "application/vnd.jupyter.widget-view+json": {
       "model_id": "d05757ea7e464430b4c2b6d4ec65ca00",
       "version_major": 2,
       "version_minor": 0
      },
      "text/plain": [
       "  0%|          | 0/201 [00:00<?, ?it/s]"
      ]
     },
     "metadata": {},
     "output_type": "display_data"
    },
    {
     "data": {
      "application/vnd.jupyter.widget-view+json": {
       "model_id": "e4f0df2494c74b0d88474a54a6591ddf",
       "version_major": 2,
       "version_minor": 0
      },
      "text/plain": [
       "  0%|          | 0/432 [00:00<?, ?it/s]"
      ]
     },
     "metadata": {},
     "output_type": "display_data"
    },
    {
     "data": {
      "application/vnd.jupyter.widget-view+json": {
       "model_id": "0a4cc3b6e9674c8ca421994b00230596",
       "version_major": 2,
       "version_minor": 0
      },
      "text/plain": [
       "  0%|          | 0/361 [00:00<?, ?it/s]"
      ]
     },
     "metadata": {},
     "output_type": "display_data"
    },
    {
     "data": {
      "application/vnd.jupyter.widget-view+json": {
       "model_id": "8d83796bd0ea4a9cbb7e44b641232389",
       "version_major": 2,
       "version_minor": 0
      },
      "text/plain": [
       "  0%|          | 0/389 [00:00<?, ?it/s]"
      ]
     },
     "metadata": {},
     "output_type": "display_data"
    },
    {
     "data": {
      "application/vnd.jupyter.widget-view+json": {
       "model_id": "0653fe2df66c49238bc73a85f0fe4d6d",
       "version_major": 2,
       "version_minor": 0
      },
      "text/plain": [
       "  0%|          | 0/420 [00:00<?, ?it/s]"
      ]
     },
     "metadata": {},
     "output_type": "display_data"
    },
    {
     "data": {
      "application/vnd.jupyter.widget-view+json": {
       "model_id": "6d151e70620b4bb6b51ab232acce6d53",
       "version_major": 2,
       "version_minor": 0
      },
      "text/plain": [
       "  0%|          | 0/322 [00:00<?, ?it/s]"
      ]
     },
     "metadata": {},
     "output_type": "display_data"
    },
    {
     "data": {
      "application/vnd.jupyter.widget-view+json": {
       "model_id": "af7d3211d1d741baa5eb8a69c48b9eeb",
       "version_major": 2,
       "version_minor": 0
      },
      "text/plain": [
       "  0%|          | 0/356 [00:00<?, ?it/s]"
      ]
     },
     "metadata": {},
     "output_type": "display_data"
    },
    {
     "data": {
      "application/vnd.jupyter.widget-view+json": {
       "model_id": "43a10a17b3c7468ab233d07a306e0246",
       "version_major": 2,
       "version_minor": 0
      },
      "text/plain": [
       "  0%|          | 0/214 [00:00<?, ?it/s]"
      ]
     },
     "metadata": {},
     "output_type": "display_data"
    },
    {
     "data": {
      "application/vnd.jupyter.widget-view+json": {
       "model_id": "282f060b5e7e492ab94e533798c1ff78",
       "version_major": 2,
       "version_minor": 0
      },
      "text/plain": [
       "  0%|          | 0/249 [00:00<?, ?it/s]"
      ]
     },
     "metadata": {},
     "output_type": "display_data"
    },
    {
     "data": {
      "application/vnd.jupyter.widget-view+json": {
       "model_id": "e08a185b9d57454da8532bcb046e6dbf",
       "version_major": 2,
       "version_minor": 0
      },
      "text/plain": [
       "  0%|          | 0/31 [00:00<?, ?it/s]"
      ]
     },
     "metadata": {},
     "output_type": "display_data"
    },
    {
     "data": {
      "application/vnd.jupyter.widget-view+json": {
       "model_id": "c51244d4f02840f0a8ce2cc2e23aef17",
       "version_major": 2,
       "version_minor": 0
      },
      "text/plain": [
       "  0%|          | 0/184 [00:00<?, ?it/s]"
      ]
     },
     "metadata": {},
     "output_type": "display_data"
    },
    {
     "data": {
      "application/vnd.jupyter.widget-view+json": {
       "model_id": "db3e1f0720da49e187487596729ba6ef",
       "version_major": 2,
       "version_minor": 0
      },
      "text/plain": [
       "  0%|          | 0/280 [00:00<?, ?it/s]"
      ]
     },
     "metadata": {},
     "output_type": "display_data"
    },
    {
     "data": {
      "application/vnd.jupyter.widget-view+json": {
       "model_id": "077f1b153a924b15a82edc43a61769a6",
       "version_major": 2,
       "version_minor": 0
      },
      "text/plain": [
       "  0%|          | 0/192 [00:00<?, ?it/s]"
      ]
     },
     "metadata": {},
     "output_type": "display_data"
    },
    {
     "data": {
      "application/vnd.jupyter.widget-view+json": {
       "model_id": "2a2f1a27f99a4fd39b6998f16bd47534",
       "version_major": 2,
       "version_minor": 0
      },
      "text/plain": [
       "  0%|          | 0/255 [00:00<?, ?it/s]"
      ]
     },
     "metadata": {},
     "output_type": "display_data"
    },
    {
     "data": {
      "application/vnd.jupyter.widget-view+json": {
       "model_id": "39b1eeb903e0450f9627400a721320cd",
       "version_major": 2,
       "version_minor": 0
      },
      "text/plain": [
       "  0%|          | 0/346 [00:00<?, ?it/s]"
      ]
     },
     "metadata": {},
     "output_type": "display_data"
    },
    {
     "data": {
      "application/vnd.jupyter.widget-view+json": {
       "model_id": "381df78be52048a69cfcb0a467b2b352",
       "version_major": 2,
       "version_minor": 0
      },
      "text/plain": [
       "  0%|          | 0/264 [00:00<?, ?it/s]"
      ]
     },
     "metadata": {},
     "output_type": "display_data"
    },
    {
     "data": {
      "application/vnd.jupyter.widget-view+json": {
       "model_id": "86de1b76d80447a18751431120895503",
       "version_major": 2,
       "version_minor": 0
      },
      "text/plain": [
       "  0%|          | 0/296 [00:00<?, ?it/s]"
      ]
     },
     "metadata": {},
     "output_type": "display_data"
    },
    {
     "data": {
      "application/vnd.jupyter.widget-view+json": {
       "model_id": "d9a5b50d7b6c4e0885d55c9a00afbd9a",
       "version_major": 2,
       "version_minor": 0
      },
      "text/plain": [
       "  0%|          | 0/421 [00:00<?, ?it/s]"
      ]
     },
     "metadata": {},
     "output_type": "display_data"
    },
    {
     "data": {
      "application/vnd.jupyter.widget-view+json": {
       "model_id": "52c8c3585c1e4d198fa5f518307ae95e",
       "version_major": 2,
       "version_minor": 0
      },
      "text/plain": [
       "  0%|          | 0/465 [00:00<?, ?it/s]"
      ]
     },
     "metadata": {},
     "output_type": "display_data"
    },
    {
     "data": {
      "application/vnd.jupyter.widget-view+json": {
       "model_id": "c794a1bf7ffa49908f9163a5095dd054",
       "version_major": 2,
       "version_minor": 0
      },
      "text/plain": [
       "  0%|          | 0/125 [00:00<?, ?it/s]"
      ]
     },
     "metadata": {},
     "output_type": "display_data"
    },
    {
     "data": {
      "application/vnd.jupyter.widget-view+json": {
       "model_id": "ca35e3d1f2d94649a002b05d0e187c1b",
       "version_major": 2,
       "version_minor": 0
      },
      "text/plain": [
       "  0%|          | 0/333 [00:00<?, ?it/s]"
      ]
     },
     "metadata": {},
     "output_type": "display_data"
    },
    {
     "data": {
      "application/vnd.jupyter.widget-view+json": {
       "model_id": "bc61587e518048afb95b7242ce0daf00",
       "version_major": 2,
       "version_minor": 0
      },
      "text/plain": [
       "  0%|          | 0/333 [00:00<?, ?it/s]"
      ]
     },
     "metadata": {},
     "output_type": "display_data"
    },
    {
     "data": {
      "application/vnd.jupyter.widget-view+json": {
       "model_id": "cc040771430246bc87556e4af64a97fe",
       "version_major": 2,
       "version_minor": 0
      },
      "text/plain": [
       "  0%|          | 0/207 [00:00<?, ?it/s]"
      ]
     },
     "metadata": {},
     "output_type": "display_data"
    },
    {
     "data": {
      "application/vnd.jupyter.widget-view+json": {
       "model_id": "cdfb6cf89d1d4607ab0c9e287714de03",
       "version_major": 2,
       "version_minor": 0
      },
      "text/plain": [
       "  0%|          | 0/268 [00:00<?, ?it/s]"
      ]
     },
     "metadata": {},
     "output_type": "display_data"
    },
    {
     "data": {
      "application/vnd.jupyter.widget-view+json": {
       "model_id": "cdec1a60ff5a44c0affe7b901279de0a",
       "version_major": 2,
       "version_minor": 0
      },
      "text/plain": [
       "  0%|          | 0/192 [00:00<?, ?it/s]"
      ]
     },
     "metadata": {},
     "output_type": "display_data"
    },
    {
     "data": {
      "application/vnd.jupyter.widget-view+json": {
       "model_id": "c3080d8f30b2497fb936466a47d4eca5",
       "version_major": 2,
       "version_minor": 0
      },
      "text/plain": [
       "  0%|          | 0/429 [00:00<?, ?it/s]"
      ]
     },
     "metadata": {},
     "output_type": "display_data"
    },
    {
     "data": {
      "application/vnd.jupyter.widget-view+json": {
       "model_id": "799994447d8641c9b7bab86cb3fafd0b",
       "version_major": 2,
       "version_minor": 0
      },
      "text/plain": [
       "  0%|          | 0/405 [00:00<?, ?it/s]"
      ]
     },
     "metadata": {},
     "output_type": "display_data"
    },
    {
     "data": {
      "application/vnd.jupyter.widget-view+json": {
       "model_id": "14d465332ea046f1a0a7b39d3a9bbd97",
       "version_major": 2,
       "version_minor": 0
      },
      "text/plain": [
       "  0%|          | 0/276 [00:00<?, ?it/s]"
      ]
     },
     "metadata": {},
     "output_type": "display_data"
    },
    {
     "data": {
      "application/vnd.jupyter.widget-view+json": {
       "model_id": "ebe0313e643b4da393e380b9cbc64160",
       "version_major": 2,
       "version_minor": 0
      },
      "text/plain": [
       "  0%|          | 0/421 [00:00<?, ?it/s]"
      ]
     },
     "metadata": {},
     "output_type": "display_data"
    },
    {
     "data": {
      "application/vnd.jupyter.widget-view+json": {
       "model_id": "94d4bfaa41d3469a85f8257e41b461da",
       "version_major": 2,
       "version_minor": 0
      },
      "text/plain": [
       "  0%|          | 0/333 [00:00<?, ?it/s]"
      ]
     },
     "metadata": {},
     "output_type": "display_data"
    },
    {
     "data": {
      "application/vnd.jupyter.widget-view+json": {
       "model_id": "80db521bf9584eb6811117978eb3d635",
       "version_major": 2,
       "version_minor": 0
      },
      "text/plain": [
       "  0%|          | 0/520 [00:00<?, ?it/s]"
      ]
     },
     "metadata": {},
     "output_type": "display_data"
    },
    {
     "data": {
      "application/vnd.jupyter.widget-view+json": {
       "model_id": "c3ddb519fed246afb529d1ae27a48631",
       "version_major": 2,
       "version_minor": 0
      },
      "text/plain": [
       "  0%|          | 0/342 [00:00<?, ?it/s]"
      ]
     },
     "metadata": {},
     "output_type": "display_data"
    },
    {
     "data": {
      "application/vnd.jupyter.widget-view+json": {
       "model_id": "058ad87bd3844e5aa293057cb2618188",
       "version_major": 2,
       "version_minor": 0
      },
      "text/plain": [
       "  0%|          | 0/400 [00:00<?, ?it/s]"
      ]
     },
     "metadata": {},
     "output_type": "display_data"
    },
    {
     "data": {
      "application/vnd.jupyter.widget-view+json": {
       "model_id": "49c256cd6e714671ab2957e47d61d387",
       "version_major": 2,
       "version_minor": 0
      },
      "text/plain": [
       "  0%|          | 0/409 [00:00<?, ?it/s]"
      ]
     },
     "metadata": {},
     "output_type": "display_data"
    },
    {
     "data": {
      "application/vnd.jupyter.widget-view+json": {
       "model_id": "b9611b8eeb994706b401607dd77d9fcc",
       "version_major": 2,
       "version_minor": 0
      },
      "text/plain": [
       "  0%|          | 0/284 [00:00<?, ?it/s]"
      ]
     },
     "metadata": {},
     "output_type": "display_data"
    },
    {
     "data": {
      "application/vnd.jupyter.widget-view+json": {
       "model_id": "1c168c19168b4b71825ee73bb9721b47",
       "version_major": 2,
       "version_minor": 0
      },
      "text/plain": [
       "  0%|          | 0/451 [00:00<?, ?it/s]"
      ]
     },
     "metadata": {},
     "output_type": "display_data"
    },
    {
     "data": {
      "application/vnd.jupyter.widget-view+json": {
       "model_id": "b025e9c78e3e4391867e4b9ee1458c6a",
       "version_major": 2,
       "version_minor": 0
      },
      "text/plain": [
       "  0%|          | 0/285 [00:00<?, ?it/s]"
      ]
     },
     "metadata": {},
     "output_type": "display_data"
    },
    {
     "data": {
      "application/vnd.jupyter.widget-view+json": {
       "model_id": "c3f4b13e6d814e0b801bacd063f2e660",
       "version_major": 2,
       "version_minor": 0
      },
      "text/plain": [
       "  0%|          | 0/174 [00:00<?, ?it/s]"
      ]
     },
     "metadata": {},
     "output_type": "display_data"
    },
    {
     "data": {
      "application/vnd.jupyter.widget-view+json": {
       "model_id": "9c87b8de435f46da92cb462423a3a94d",
       "version_major": 2,
       "version_minor": 0
      },
      "text/plain": [
       "  0%|          | 0/228 [00:00<?, ?it/s]"
      ]
     },
     "metadata": {},
     "output_type": "display_data"
    },
    {
     "data": {
      "application/vnd.jupyter.widget-view+json": {
       "model_id": "c684edc1648f489e91aa0712b5d1000f",
       "version_major": 2,
       "version_minor": 0
      },
      "text/plain": [
       "  0%|          | 0/452 [00:00<?, ?it/s]"
      ]
     },
     "metadata": {},
     "output_type": "display_data"
    },
    {
     "data": {
      "application/vnd.jupyter.widget-view+json": {
       "model_id": "db0f0c544f32478b9141cac03103623b",
       "version_major": 2,
       "version_minor": 0
      },
      "text/plain": [
       "  0%|          | 0/402 [00:00<?, ?it/s]"
      ]
     },
     "metadata": {},
     "output_type": "display_data"
    },
    {
     "data": {
      "application/vnd.jupyter.widget-view+json": {
       "model_id": "4200d8abb9fb47eea3a3a7bcafa0b20e",
       "version_major": 2,
       "version_minor": 0
      },
      "text/plain": [
       "  0%|          | 0/31 [00:00<?, ?it/s]"
      ]
     },
     "metadata": {},
     "output_type": "display_data"
    },
    {
     "data": {
      "application/vnd.jupyter.widget-view+json": {
       "model_id": "9960a79e07b54286987adbf5498e1a3f",
       "version_major": 2,
       "version_minor": 0
      },
      "text/plain": [
       "  0%|          | 0/426 [00:00<?, ?it/s]"
      ]
     },
     "metadata": {},
     "output_type": "display_data"
    },
    {
     "data": {
      "application/vnd.jupyter.widget-view+json": {
       "model_id": "01d0f3526c5b455a85bea60ebb15c96e",
       "version_major": 2,
       "version_minor": 0
      },
      "text/plain": [
       "  0%|          | 0/315 [00:00<?, ?it/s]"
      ]
     },
     "metadata": {},
     "output_type": "display_data"
    },
    {
     "data": {
      "application/vnd.jupyter.widget-view+json": {
       "model_id": "3c80e865a2e34f52bc35cdfc40bb0cab",
       "version_major": 2,
       "version_minor": 0
      },
      "text/plain": [
       "  0%|          | 0/206 [00:00<?, ?it/s]"
      ]
     },
     "metadata": {},
     "output_type": "display_data"
    },
    {
     "data": {
      "application/vnd.jupyter.widget-view+json": {
       "model_id": "1b2365a9085748a78becc1c02a7ed659",
       "version_major": 2,
       "version_minor": 0
      },
      "text/plain": [
       "  0%|          | 0/351 [00:00<?, ?it/s]"
      ]
     },
     "metadata": {},
     "output_type": "display_data"
    },
    {
     "data": {
      "application/vnd.jupyter.widget-view+json": {
       "model_id": "3e5026fec8884454b11b3eccde70b8e0",
       "version_major": 2,
       "version_minor": 0
      },
      "text/plain": [
       "  0%|          | 0/403 [00:00<?, ?it/s]"
      ]
     },
     "metadata": {},
     "output_type": "display_data"
    },
    {
     "data": {
      "application/vnd.jupyter.widget-view+json": {
       "model_id": "d21c37d5c675444f8b5fdbdf8974fa98",
       "version_major": 2,
       "version_minor": 0
      },
      "text/plain": [
       "  0%|          | 0/451 [00:00<?, ?it/s]"
      ]
     },
     "metadata": {},
     "output_type": "display_data"
    },
    {
     "data": {
      "application/vnd.jupyter.widget-view+json": {
       "model_id": "0d7a38bede9a457d9f76811770a00a76",
       "version_major": 2,
       "version_minor": 0
      },
      "text/plain": [
       "  0%|          | 0/435 [00:00<?, ?it/s]"
      ]
     },
     "metadata": {},
     "output_type": "display_data"
    },
    {
     "data": {
      "application/vnd.jupyter.widget-view+json": {
       "model_id": "935011b6121742a7b9fe15352dd84bb1",
       "version_major": 2,
       "version_minor": 0
      },
      "text/plain": [
       "  0%|          | 0/423 [00:00<?, ?it/s]"
      ]
     },
     "metadata": {},
     "output_type": "display_data"
    },
    {
     "data": {
      "application/vnd.jupyter.widget-view+json": {
       "model_id": "0a31aad9c7aa491886022211d0c405c1",
       "version_major": 2,
       "version_minor": 0
      },
      "text/plain": [
       "  0%|          | 0/387 [00:00<?, ?it/s]"
      ]
     },
     "metadata": {},
     "output_type": "display_data"
    },
    {
     "data": {
      "application/vnd.jupyter.widget-view+json": {
       "model_id": "389cf78c9dd4492783760d366d32d0f6",
       "version_major": 2,
       "version_minor": 0
      },
      "text/plain": [
       "  0%|          | 0/273 [00:00<?, ?it/s]"
      ]
     },
     "metadata": {},
     "output_type": "display_data"
    },
    {
     "data": {
      "application/vnd.jupyter.widget-view+json": {
       "model_id": "ff0f3e5c658a45dab82f297df1a8792c",
       "version_major": 2,
       "version_minor": 0
      },
      "text/plain": [
       "  0%|          | 0/402 [00:00<?, ?it/s]"
      ]
     },
     "metadata": {},
     "output_type": "display_data"
    },
    {
     "data": {
      "application/vnd.jupyter.widget-view+json": {
       "model_id": "f1986099a68b4d44b712ff20c8853eb6",
       "version_major": 2,
       "version_minor": 0
      },
      "text/plain": [
       "  0%|          | 0/443 [00:00<?, ?it/s]"
      ]
     },
     "metadata": {},
     "output_type": "display_data"
    },
    {
     "data": {
      "application/vnd.jupyter.widget-view+json": {
       "model_id": "f332e7f5bc2d444abb75494233b59d46",
       "version_major": 2,
       "version_minor": 0
      },
      "text/plain": [
       "  0%|          | 0/456 [00:00<?, ?it/s]"
      ]
     },
     "metadata": {},
     "output_type": "display_data"
    },
    {
     "data": {
      "application/vnd.jupyter.widget-view+json": {
       "model_id": "ce8e112f721341398e638915f5458cd6",
       "version_major": 2,
       "version_minor": 0
      },
      "text/plain": [
       "  0%|          | 0/475 [00:00<?, ?it/s]"
      ]
     },
     "metadata": {},
     "output_type": "display_data"
    },
    {
     "data": {
      "application/vnd.jupyter.widget-view+json": {
       "model_id": "c9dad6eea1b045a59c0213e9fc8163e3",
       "version_major": 2,
       "version_minor": 0
      },
      "text/plain": [
       "  0%|          | 0/268 [00:00<?, ?it/s]"
      ]
     },
     "metadata": {},
     "output_type": "display_data"
    },
    {
     "data": {
      "application/vnd.jupyter.widget-view+json": {
       "model_id": "95bbc503e66e43efa2e0b569d9eed338",
       "version_major": 2,
       "version_minor": 0
      },
      "text/plain": [
       "  0%|          | 0/255 [00:00<?, ?it/s]"
      ]
     },
     "metadata": {},
     "output_type": "display_data"
    },
    {
     "data": {
      "application/vnd.jupyter.widget-view+json": {
       "model_id": "6d7c940504204329be1e51c6c4782fd8",
       "version_major": 2,
       "version_minor": 0
      },
      "text/plain": [
       "  0%|          | 0/405 [00:00<?, ?it/s]"
      ]
     },
     "metadata": {},
     "output_type": "display_data"
    },
    {
     "data": {
      "application/vnd.jupyter.widget-view+json": {
       "model_id": "7c94416967d84062a9a9e6a32345d17f",
       "version_major": 2,
       "version_minor": 0
      },
      "text/plain": [
       "  0%|          | 0/356 [00:00<?, ?it/s]"
      ]
     },
     "metadata": {},
     "output_type": "display_data"
    },
    {
     "data": {
      "application/vnd.jupyter.widget-view+json": {
       "model_id": "7858379b3d504e069e843e80b4f19e18",
       "version_major": 2,
       "version_minor": 0
      },
      "text/plain": [
       "  0%|          | 0/487 [00:00<?, ?it/s]"
      ]
     },
     "metadata": {},
     "output_type": "display_data"
    },
    {
     "data": {
      "application/vnd.jupyter.widget-view+json": {
       "model_id": "496eef2bff4d43aa8670bbdc7596aa13",
       "version_major": 2,
       "version_minor": 0
      },
      "text/plain": [
       "  0%|          | 0/395 [00:00<?, ?it/s]"
      ]
     },
     "metadata": {},
     "output_type": "display_data"
    },
    {
     "data": {
      "application/vnd.jupyter.widget-view+json": {
       "model_id": "f4b4238f40444f8c93da0508cc0e5686",
       "version_major": 2,
       "version_minor": 0
      },
      "text/plain": [
       "  0%|          | 0/399 [00:00<?, ?it/s]"
      ]
     },
     "metadata": {},
     "output_type": "display_data"
    },
    {
     "data": {
      "application/vnd.jupyter.widget-view+json": {
       "model_id": "964600cb0f28418e8271b5270d8f67b8",
       "version_major": 2,
       "version_minor": 0
      },
      "text/plain": [
       "  0%|          | 0/414 [00:00<?, ?it/s]"
      ]
     },
     "metadata": {},
     "output_type": "display_data"
    },
    {
     "data": {
      "application/vnd.jupyter.widget-view+json": {
       "model_id": "9569741f5ac14837b80765d63d2eb159",
       "version_major": 2,
       "version_minor": 0
      },
      "text/plain": [
       "  0%|          | 0/275 [00:00<?, ?it/s]"
      ]
     },
     "metadata": {},
     "output_type": "display_data"
    },
    {
     "data": {
      "application/vnd.jupyter.widget-view+json": {
       "model_id": "49e5cb0b2210423a81e119558bbd1c31",
       "version_major": 2,
       "version_minor": 0
      },
      "text/plain": [
       "  0%|          | 0/463 [00:00<?, ?it/s]"
      ]
     },
     "metadata": {},
     "output_type": "display_data"
    },
    {
     "data": {
      "application/vnd.jupyter.widget-view+json": {
       "model_id": "ce515b2064764999abbcc235519ab4be",
       "version_major": 2,
       "version_minor": 0
      },
      "text/plain": [
       "  0%|          | 0/352 [00:00<?, ?it/s]"
      ]
     },
     "metadata": {},
     "output_type": "display_data"
    },
    {
     "data": {
      "application/vnd.jupyter.widget-view+json": {
       "model_id": "95b79275cc274135886106c2e7e77a98",
       "version_major": 2,
       "version_minor": 0
      },
      "text/plain": [
       "  0%|          | 0/552 [00:00<?, ?it/s]"
      ]
     },
     "metadata": {},
     "output_type": "display_data"
    },
    {
     "data": {
      "application/vnd.jupyter.widget-view+json": {
       "model_id": "f617d17861694d2589394cfec8040de3",
       "version_major": 2,
       "version_minor": 0
      },
      "text/plain": [
       "  0%|          | 0/222 [00:00<?, ?it/s]"
      ]
     },
     "metadata": {},
     "output_type": "display_data"
    },
    {
     "data": {
      "application/vnd.jupyter.widget-view+json": {
       "model_id": "27349fb61cc34259a9e4cd36187e0b29",
       "version_major": 2,
       "version_minor": 0
      },
      "text/plain": [
       "  0%|          | 0/223 [00:00<?, ?it/s]"
      ]
     },
     "metadata": {},
     "output_type": "display_data"
    },
    {
     "data": {
      "application/vnd.jupyter.widget-view+json": {
       "model_id": "04d90ca01e6140b3ba85605967d50ae1",
       "version_major": 2,
       "version_minor": 0
      },
      "text/plain": [
       "  0%|          | 0/250 [00:00<?, ?it/s]"
      ]
     },
     "metadata": {},
     "output_type": "display_data"
    },
    {
     "data": {
      "application/vnd.jupyter.widget-view+json": {
       "model_id": "0abdd9bfed3e45a59df6abf4af2c9e79",
       "version_major": 2,
       "version_minor": 0
      },
      "text/plain": [
       "  0%|          | 0/411 [00:00<?, ?it/s]"
      ]
     },
     "metadata": {},
     "output_type": "display_data"
    },
    {
     "data": {
      "application/vnd.jupyter.widget-view+json": {
       "model_id": "dce0f79bb2e6498199ecb5adde9b5e01",
       "version_major": 2,
       "version_minor": 0
      },
      "text/plain": [
       "  0%|          | 0/274 [00:00<?, ?it/s]"
      ]
     },
     "metadata": {},
     "output_type": "display_data"
    },
    {
     "data": {
      "application/vnd.jupyter.widget-view+json": {
       "model_id": "036942a79aab4d5b94f836d70ae48fea",
       "version_major": 2,
       "version_minor": 0
      },
      "text/plain": [
       "  0%|          | 0/30 [00:00<?, ?it/s]"
      ]
     },
     "metadata": {},
     "output_type": "display_data"
    },
    {
     "data": {
      "application/vnd.jupyter.widget-view+json": {
       "model_id": "b6d4014371e548789b98564a9d0605ac",
       "version_major": 2,
       "version_minor": 0
      },
      "text/plain": [
       "  0%|          | 0/408 [00:00<?, ?it/s]"
      ]
     },
     "metadata": {},
     "output_type": "display_data"
    },
    {
     "data": {
      "application/vnd.jupyter.widget-view+json": {
       "model_id": "a9e1e5572e7a4b70a3a786ab2f37ae80",
       "version_major": 2,
       "version_minor": 0
      },
      "text/plain": [
       "  0%|          | 0/299 [00:00<?, ?it/s]"
      ]
     },
     "metadata": {},
     "output_type": "display_data"
    },
    {
     "data": {
      "application/vnd.jupyter.widget-view+json": {
       "model_id": "32235691b991460aa156def3c16fb821",
       "version_major": 2,
       "version_minor": 0
      },
      "text/plain": [
       "  0%|          | 0/290 [00:00<?, ?it/s]"
      ]
     },
     "metadata": {},
     "output_type": "display_data"
    },
    {
     "data": {
      "application/vnd.jupyter.widget-view+json": {
       "model_id": "bc3544ea4e0b478eb6f621dabef47b31",
       "version_major": 2,
       "version_minor": 0
      },
      "text/plain": [
       "  0%|          | 0/471 [00:00<?, ?it/s]"
      ]
     },
     "metadata": {},
     "output_type": "display_data"
    },
    {
     "data": {
      "application/vnd.jupyter.widget-view+json": {
       "model_id": "969a4be6523a40b5979aa5c0e21ca10c",
       "version_major": 2,
       "version_minor": 0
      },
      "text/plain": [
       "  0%|          | 0/517 [00:00<?, ?it/s]"
      ]
     },
     "metadata": {},
     "output_type": "display_data"
    },
    {
     "data": {
      "application/vnd.jupyter.widget-view+json": {
       "model_id": "3b21876db6b94d67b373f3d3495daea8",
       "version_major": 2,
       "version_minor": 0
      },
      "text/plain": [
       "  0%|          | 0/447 [00:00<?, ?it/s]"
      ]
     },
     "metadata": {},
     "output_type": "display_data"
    },
    {
     "data": {
      "application/vnd.jupyter.widget-view+json": {
       "model_id": "6dedaea230c34922954555adf8a4ef83",
       "version_major": 2,
       "version_minor": 0
      },
      "text/plain": [
       "  0%|          | 0/464 [00:00<?, ?it/s]"
      ]
     },
     "metadata": {},
     "output_type": "display_data"
    },
    {
     "data": {
      "application/vnd.jupyter.widget-view+json": {
       "model_id": "33e5147abd6646be9dc756da1dd46518",
       "version_major": 2,
       "version_minor": 0
      },
      "text/plain": [
       "  0%|          | 0/515 [00:00<?, ?it/s]"
      ]
     },
     "metadata": {},
     "output_type": "display_data"
    },
    {
     "data": {
      "application/vnd.jupyter.widget-view+json": {
       "model_id": "1da50a752e404461878a5f17f5237d52",
       "version_major": 2,
       "version_minor": 0
      },
      "text/plain": [
       "  0%|          | 0/363 [00:00<?, ?it/s]"
      ]
     },
     "metadata": {},
     "output_type": "display_data"
    },
    {
     "data": {
      "application/vnd.jupyter.widget-view+json": {
       "model_id": "1a502e4c425f4fc783e562414918406b",
       "version_major": 2,
       "version_minor": 0
      },
      "text/plain": [
       "  0%|          | 0/318 [00:00<?, ?it/s]"
      ]
     },
     "metadata": {},
     "output_type": "display_data"
    },
    {
     "data": {
      "application/vnd.jupyter.widget-view+json": {
       "model_id": "c83d8bb135444ec997a8efd997d9abc7",
       "version_major": 2,
       "version_minor": 0
      },
      "text/plain": [
       "  0%|          | 0/507 [00:00<?, ?it/s]"
      ]
     },
     "metadata": {},
     "output_type": "display_data"
    },
    {
     "data": {
      "application/vnd.jupyter.widget-view+json": {
       "model_id": "d97afbe90c5141a4990b9389a00cb7fd",
       "version_major": 2,
       "version_minor": 0
      },
      "text/plain": [
       "  0%|          | 0/450 [00:00<?, ?it/s]"
      ]
     },
     "metadata": {},
     "output_type": "display_data"
    },
    {
     "data": {
      "application/vnd.jupyter.widget-view+json": {
       "model_id": "ec6e7ee154384828979d944b53641312",
       "version_major": 2,
       "version_minor": 0
      },
      "text/plain": [
       "  0%|          | 0/415 [00:00<?, ?it/s]"
      ]
     },
     "metadata": {},
     "output_type": "display_data"
    },
    {
     "data": {
      "application/vnd.jupyter.widget-view+json": {
       "model_id": "fa01758e4618494b90e5c9c15eb6ff71",
       "version_major": 2,
       "version_minor": 0
      },
      "text/plain": [
       "  0%|          | 0/443 [00:00<?, ?it/s]"
      ]
     },
     "metadata": {},
     "output_type": "display_data"
    },
    {
     "data": {
      "application/vnd.jupyter.widget-view+json": {
       "model_id": "4b853b2c74944602a66931f7283a618f",
       "version_major": 2,
       "version_minor": 0
      },
      "text/plain": [
       "  0%|          | 0/339 [00:00<?, ?it/s]"
      ]
     },
     "metadata": {},
     "output_type": "display_data"
    },
    {
     "data": {
      "application/vnd.jupyter.widget-view+json": {
       "model_id": "fbcf4e6010cb48559a9b86d189c2b82d",
       "version_major": 2,
       "version_minor": 0
      },
      "text/plain": [
       "  0%|          | 0/241 [00:00<?, ?it/s]"
      ]
     },
     "metadata": {},
     "output_type": "display_data"
    },
    {
     "data": {
      "application/vnd.jupyter.widget-view+json": {
       "model_id": "09e47bfc3ec947d0abb58fdefeb9c56c",
       "version_major": 2,
       "version_minor": 0
      },
      "text/plain": [
       "  0%|          | 0/529 [00:00<?, ?it/s]"
      ]
     },
     "metadata": {},
     "output_type": "display_data"
    },
    {
     "data": {
      "application/vnd.jupyter.widget-view+json": {
       "model_id": "11ce25bf98304d1da7fcfeead26598ed",
       "version_major": 2,
       "version_minor": 0
      },
      "text/plain": [
       "  0%|          | 0/461 [00:00<?, ?it/s]"
      ]
     },
     "metadata": {},
     "output_type": "display_data"
    },
    {
     "data": {
      "application/vnd.jupyter.widget-view+json": {
       "model_id": "37bd7bcc671f4eb098c3c067f5da4751",
       "version_major": 2,
       "version_minor": 0
      },
      "text/plain": [
       "  0%|          | 0/353 [00:00<?, ?it/s]"
      ]
     },
     "metadata": {},
     "output_type": "display_data"
    },
    {
     "data": {
      "application/vnd.jupyter.widget-view+json": {
       "model_id": "61e1b6665392499b9aee8437bbafd225",
       "version_major": 2,
       "version_minor": 0
      },
      "text/plain": [
       "  0%|          | 0/487 [00:00<?, ?it/s]"
      ]
     },
     "metadata": {},
     "output_type": "display_data"
    },
    {
     "data": {
      "application/vnd.jupyter.widget-view+json": {
       "model_id": "0d548fbba39c4ecf88b034ab01b0e449",
       "version_major": 2,
       "version_minor": 0
      },
      "text/plain": [
       "  0%|          | 0/423 [00:00<?, ?it/s]"
      ]
     },
     "metadata": {},
     "output_type": "display_data"
    },
    {
     "data": {
      "application/vnd.jupyter.widget-view+json": {
       "model_id": "d3bf7542cd3c4c2ab551e4ebb0970887",
       "version_major": 2,
       "version_minor": 0
      },
      "text/plain": [
       "  0%|          | 0/564 [00:00<?, ?it/s]"
      ]
     },
     "metadata": {},
     "output_type": "display_data"
    },
    {
     "data": {
      "application/vnd.jupyter.widget-view+json": {
       "model_id": "062ae1dbcaaf47da89f672f9b5f0eb40",
       "version_major": 2,
       "version_minor": 0
      },
      "text/plain": [
       "  0%|          | 0/283 [00:00<?, ?it/s]"
      ]
     },
     "metadata": {},
     "output_type": "display_data"
    },
    {
     "data": {
      "application/vnd.jupyter.widget-view+json": {
       "model_id": "e0ff21d22bee486481d55bca1724bc58",
       "version_major": 2,
       "version_minor": 0
      },
      "text/plain": [
       "  0%|          | 0/479 [00:00<?, ?it/s]"
      ]
     },
     "metadata": {},
     "output_type": "display_data"
    },
    {
     "data": {
      "application/vnd.jupyter.widget-view+json": {
       "model_id": "7b09935aa66d402facbf6090a37658dc",
       "version_major": 2,
       "version_minor": 0
      },
      "text/plain": [
       "  0%|          | 0/464 [00:00<?, ?it/s]"
      ]
     },
     "metadata": {},
     "output_type": "display_data"
    },
    {
     "data": {
      "application/vnd.jupyter.widget-view+json": {
       "model_id": "b6ced58270e84e85a275bd84c748ba41",
       "version_major": 2,
       "version_minor": 0
      },
      "text/plain": [
       "  0%|          | 0/493 [00:00<?, ?it/s]"
      ]
     },
     "metadata": {},
     "output_type": "display_data"
    },
    {
     "data": {
      "application/vnd.jupyter.widget-view+json": {
       "model_id": "a0566c572c0641bd8e3d507c84c764ae",
       "version_major": 2,
       "version_minor": 0
      },
      "text/plain": [
       "  0%|          | 0/284 [00:00<?, ?it/s]"
      ]
     },
     "metadata": {},
     "output_type": "display_data"
    },
    {
     "data": {
      "application/vnd.jupyter.widget-view+json": {
       "model_id": "e4db6d6c012543ec8e807d3c0fcb0fe9",
       "version_major": 2,
       "version_minor": 0
      },
      "text/plain": [
       "  0%|          | 0/293 [00:00<?, ?it/s]"
      ]
     },
     "metadata": {},
     "output_type": "display_data"
    },
    {
     "data": {
      "application/vnd.jupyter.widget-view+json": {
       "model_id": "633b662d493742289ad7da80199c5dd2",
       "version_major": 2,
       "version_minor": 0
      },
      "text/plain": [
       "  0%|          | 0/456 [00:00<?, ?it/s]"
      ]
     },
     "metadata": {},
     "output_type": "display_data"
    },
    {
     "data": {
      "application/vnd.jupyter.widget-view+json": {
       "model_id": "e1c823d4252d4179a3d2ff9ef65a9d75",
       "version_major": 2,
       "version_minor": 0
      },
      "text/plain": [
       "  0%|          | 0/260 [00:00<?, ?it/s]"
      ]
     },
     "metadata": {},
     "output_type": "display_data"
    },
    {
     "data": {
      "application/vnd.jupyter.widget-view+json": {
       "model_id": "31dd8bb4c77540958d7f062aec153c10",
       "version_major": 2,
       "version_minor": 0
      },
      "text/plain": [
       "  0%|          | 0/30 [00:00<?, ?it/s]"
      ]
     },
     "metadata": {},
     "output_type": "display_data"
    },
    {
     "data": {
      "application/vnd.jupyter.widget-view+json": {
       "model_id": "08355ee4b3d64e9eb971ea7a2f0fda90",
       "version_major": 2,
       "version_minor": 0
      },
      "text/plain": [
       "  0%|          | 0/451 [00:00<?, ?it/s]"
      ]
     },
     "metadata": {},
     "output_type": "display_data"
    },
    {
     "data": {
      "application/vnd.jupyter.widget-view+json": {
       "model_id": "a3957d05205e4fd08a0408bb47f5cbbc",
       "version_major": 2,
       "version_minor": 0
      },
      "text/plain": [
       "  0%|          | 0/424 [00:00<?, ?it/s]"
      ]
     },
     "metadata": {},
     "output_type": "display_data"
    },
    {
     "data": {
      "application/vnd.jupyter.widget-view+json": {
       "model_id": "51427cb2660e4a9da9d10a9a2ca139a6",
       "version_major": 2,
       "version_minor": 0
      },
      "text/plain": [
       "  0%|          | 0/483 [00:00<?, ?it/s]"
      ]
     },
     "metadata": {},
     "output_type": "display_data"
    },
    {
     "data": {
      "application/vnd.jupyter.widget-view+json": {
       "model_id": "dfad2668d8174a4c8e647a7f9f19a954",
       "version_major": 2,
       "version_minor": 0
      },
      "text/plain": [
       "  0%|          | 0/439 [00:00<?, ?it/s]"
      ]
     },
     "metadata": {},
     "output_type": "display_data"
    },
    {
     "data": {
      "application/vnd.jupyter.widget-view+json": {
       "model_id": "0f2ef81e20e54787b5d605c3d6aecde7",
       "version_major": 2,
       "version_minor": 0
      },
      "text/plain": [
       "  0%|          | 0/279 [00:00<?, ?it/s]"
      ]
     },
     "metadata": {},
     "output_type": "display_data"
    },
    {
     "data": {
      "application/vnd.jupyter.widget-view+json": {
       "model_id": "4eb0d4fcb06a45c49cbedec5dea58ee8",
       "version_major": 2,
       "version_minor": 0
      },
      "text/plain": [
       "  0%|          | 0/388 [00:00<?, ?it/s]"
      ]
     },
     "metadata": {},
     "output_type": "display_data"
    },
    {
     "data": {
      "application/vnd.jupyter.widget-view+json": {
       "model_id": "dd1a9df8dc1741d49b501c7b45ca32e6",
       "version_major": 2,
       "version_minor": 0
      },
      "text/plain": [
       "  0%|          | 0/463 [00:00<?, ?it/s]"
      ]
     },
     "metadata": {},
     "output_type": "display_data"
    },
    {
     "data": {
      "application/vnd.jupyter.widget-view+json": {
       "model_id": "fad26fcf8dfd46beb63d817ec3dedc8a",
       "version_major": 2,
       "version_minor": 0
      },
      "text/plain": [
       "  0%|          | 0/389 [00:00<?, ?it/s]"
      ]
     },
     "metadata": {},
     "output_type": "display_data"
    },
    {
     "data": {
      "application/vnd.jupyter.widget-view+json": {
       "model_id": "3554ca9582b44183a493199bf1ffb99e",
       "version_major": 2,
       "version_minor": 0
      },
      "text/plain": [
       "  0%|          | 0/448 [00:00<?, ?it/s]"
      ]
     },
     "metadata": {},
     "output_type": "display_data"
    },
    {
     "data": {
      "application/vnd.jupyter.widget-view+json": {
       "model_id": "fd39dcb7121c40188eab0adf7122c329",
       "version_major": 2,
       "version_minor": 0
      },
      "text/plain": [
       "  0%|          | 0/387 [00:00<?, ?it/s]"
      ]
     },
     "metadata": {},
     "output_type": "display_data"
    },
    {
     "data": {
      "application/vnd.jupyter.widget-view+json": {
       "model_id": "96680f63adf24737a5949bdf2ce3df72",
       "version_major": 2,
       "version_minor": 0
      },
      "text/plain": [
       "  0%|          | 0/266 [00:00<?, ?it/s]"
      ]
     },
     "metadata": {},
     "output_type": "display_data"
    },
    {
     "data": {
      "application/vnd.jupyter.widget-view+json": {
       "model_id": "278bca9fd79c4f66ae42ddf6718e46b3",
       "version_major": 2,
       "version_minor": 0
      },
      "text/plain": [
       "  0%|          | 0/296 [00:00<?, ?it/s]"
      ]
     },
     "metadata": {},
     "output_type": "display_data"
    },
    {
     "data": {
      "application/vnd.jupyter.widget-view+json": {
       "model_id": "76ba2ad5d37048b4a657c370139e8654",
       "version_major": 2,
       "version_minor": 0
      },
      "text/plain": [
       "  0%|          | 0/272 [00:00<?, ?it/s]"
      ]
     },
     "metadata": {},
     "output_type": "display_data"
    },
    {
     "data": {
      "application/vnd.jupyter.widget-view+json": {
       "model_id": "fb07fb7ef81a4822b10e0223001ca26d",
       "version_major": 2,
       "version_minor": 0
      },
      "text/plain": [
       "  0%|          | 0/328 [00:00<?, ?it/s]"
      ]
     },
     "metadata": {},
     "output_type": "display_data"
    },
    {
     "data": {
      "application/vnd.jupyter.widget-view+json": {
       "model_id": "2e29d632890349ba8703b9eaa7784d18",
       "version_major": 2,
       "version_minor": 0
      },
      "text/plain": [
       "  0%|          | 0/424 [00:00<?, ?it/s]"
      ]
     },
     "metadata": {},
     "output_type": "display_data"
    },
    {
     "data": {
      "application/vnd.jupyter.widget-view+json": {
       "model_id": "27efb3e971154c76888d7aa6cadafe22",
       "version_major": 2,
       "version_minor": 0
      },
      "text/plain": [
       "  0%|          | 0/449 [00:00<?, ?it/s]"
      ]
     },
     "metadata": {},
     "output_type": "display_data"
    },
    {
     "data": {
      "application/vnd.jupyter.widget-view+json": {
       "model_id": "f78efcc6725e4547afa3f84c5eaa18e1",
       "version_major": 2,
       "version_minor": 0
      },
      "text/plain": [
       "  0%|          | 0/278 [00:00<?, ?it/s]"
      ]
     },
     "metadata": {},
     "output_type": "display_data"
    },
    {
     "data": {
      "application/vnd.jupyter.widget-view+json": {
       "model_id": "e08ced5c18624ecbb42bd951071ba17a",
       "version_major": 2,
       "version_minor": 0
      },
      "text/plain": [
       "  0%|          | 0/393 [00:00<?, ?it/s]"
      ]
     },
     "metadata": {},
     "output_type": "display_data"
    },
    {
     "data": {
      "application/vnd.jupyter.widget-view+json": {
       "model_id": "ad3057ac6c67492cb640cc86a8a38d03",
       "version_major": 2,
       "version_minor": 0
      },
      "text/plain": [
       "  0%|          | 0/383 [00:00<?, ?it/s]"
      ]
     },
     "metadata": {},
     "output_type": "display_data"
    },
    {
     "data": {
      "application/vnd.jupyter.widget-view+json": {
       "model_id": "6297e1b90ed1497c8d9d27ce6555e57a",
       "version_major": 2,
       "version_minor": 0
      },
      "text/plain": [
       "  0%|          | 0/323 [00:00<?, ?it/s]"
      ]
     },
     "metadata": {},
     "output_type": "display_data"
    },
    {
     "data": {
      "application/vnd.jupyter.widget-view+json": {
       "model_id": "e285f00d726149a6be6b1d1b09f5ed40",
       "version_major": 2,
       "version_minor": 0
      },
      "text/plain": [
       "  0%|          | 0/376 [00:00<?, ?it/s]"
      ]
     },
     "metadata": {},
     "output_type": "display_data"
    },
    {
     "data": {
      "application/vnd.jupyter.widget-view+json": {
       "model_id": "831d6024826b486a8f4f780b1a8741e6",
       "version_major": 2,
       "version_minor": 0
      },
      "text/plain": [
       "  0%|          | 0/334 [00:00<?, ?it/s]"
      ]
     },
     "metadata": {},
     "output_type": "display_data"
    },
    {
     "data": {
      "application/vnd.jupyter.widget-view+json": {
       "model_id": "42a4a790bb914ab6a9e5d41c2f565e22",
       "version_major": 2,
       "version_minor": 0
      },
      "text/plain": [
       "  0%|          | 0/450 [00:00<?, ?it/s]"
      ]
     },
     "metadata": {},
     "output_type": "display_data"
    },
    {
     "data": {
      "application/vnd.jupyter.widget-view+json": {
       "model_id": "a942dca7c6bc465fb792aa07780648c8",
       "version_major": 2,
       "version_minor": 0
      },
      "text/plain": [
       "  0%|          | 0/422 [00:00<?, ?it/s]"
      ]
     },
     "metadata": {},
     "output_type": "display_data"
    },
    {
     "data": {
      "application/vnd.jupyter.widget-view+json": {
       "model_id": "e5a488a60b4541f698bf54880dacfc03",
       "version_major": 2,
       "version_minor": 0
      },
      "text/plain": [
       "  0%|          | 0/480 [00:00<?, ?it/s]"
      ]
     },
     "metadata": {},
     "output_type": "display_data"
    },
    {
     "data": {
      "application/vnd.jupyter.widget-view+json": {
       "model_id": "f6d6e6d259e041a99ae56a53407b8634",
       "version_major": 2,
       "version_minor": 0
      },
      "text/plain": [
       "  0%|          | 0/305 [00:00<?, ?it/s]"
      ]
     },
     "metadata": {},
     "output_type": "display_data"
    },
    {
     "data": {
      "application/vnd.jupyter.widget-view+json": {
       "model_id": "63c44e9c510242daa949759028cc7c5f",
       "version_major": 2,
       "version_minor": 0
      },
      "text/plain": [
       "  0%|          | 0/478 [00:00<?, ?it/s]"
      ]
     },
     "metadata": {},
     "output_type": "display_data"
    },
    {
     "data": {
      "application/vnd.jupyter.widget-view+json": {
       "model_id": "f2ff5b838dc2411f9ad16d9ba5bfa1fc",
       "version_major": 2,
       "version_minor": 0
      },
      "text/plain": [
       "  0%|          | 0/392 [00:00<?, ?it/s]"
      ]
     },
     "metadata": {},
     "output_type": "display_data"
    },
    {
     "data": {
      "application/vnd.jupyter.widget-view+json": {
       "model_id": "7c72020ff8cc4ca8a289b539e4902e38",
       "version_major": 2,
       "version_minor": 0
      },
      "text/plain": [
       "  0%|          | 0/459 [00:00<?, ?it/s]"
      ]
     },
     "metadata": {},
     "output_type": "display_data"
    },
    {
     "data": {
      "application/vnd.jupyter.widget-view+json": {
       "model_id": "7666f6117755480fa6acf83ad17362a3",
       "version_major": 2,
       "version_minor": 0
      },
      "text/plain": [
       "  0%|          | 0/427 [00:00<?, ?it/s]"
      ]
     },
     "metadata": {},
     "output_type": "display_data"
    }
   ],
   "source": [
    "#Iterate through the files to extract sentences\n",
    "#Root directory -> Level 1\n",
    "for dir1 in tqdm(os.listdir(path)):\n",
    "    #Root directory -> Level 1 -> Level 2\n",
    "    for dir2 in tqdm(os.listdir(os.path.join(path,dir1))):\n",
    "        #Root directory -> Level 1 -> Level 2 -> Files\n",
    "        for dir3 in tqdm(os.listdir(os.path.join(path, dir1, dir2))):\n",
    "            #Parse through to extract sentences\n",
    "            tree=et.parse(os.path.join(path, dir1, dir2, dir3))\n",
    "            root=tree.getroot()\n",
    "            #Obtain sentences from object\n",
    "            for sentence in (root.iter('p')):\n",
    "                #Eliminate new lines and lines with no spaces\n",
    "                 if sentence.text != None and sentence.text.isspace() == False:\n",
    "                    sentence.text= sentence.text.strip()\n",
    "                    #Include only lines with spaces\n",
    "                    if \" \" in sentence.text:\n",
    "                        s_list = [sentence.text, dir1, dir2, dir3]\n",
    "                        sentences_list.append(s_list)\n",
    "                 else:\n",
    "                        break\n"
   ]
  },
  {
   "cell_type": "code",
   "execution_count": 23,
   "id": "180164d2",
   "metadata": {},
   "outputs": [],
   "source": [
    "#Convert list to dataframe\n",
    "sentences_df  = pd.DataFrame(data = sentences_list, columns = [\"sentences\",\"dir1\", \"dir2\",\"file\"])"
   ]
  },
  {
   "cell_type": "code",
   "execution_count": 24,
   "id": "aaeb2823",
   "metadata": {
    "scrolled": true
   },
   "outputs": [
    {
     "data": {
      "text/html": [
       "<div>\n",
       "<style scoped>\n",
       "    .dataframe tbody tr th:only-of-type {\n",
       "        vertical-align: middle;\n",
       "    }\n",
       "\n",
       "    .dataframe tbody tr th {\n",
       "        vertical-align: top;\n",
       "    }\n",
       "\n",
       "    .dataframe thead th {\n",
       "        text-align: right;\n",
       "    }\n",
       "</style>\n",
       "<table border=\"1\" class=\"dataframe\">\n",
       "  <thead>\n",
       "    <tr style=\"text-align: right;\">\n",
       "      <th></th>\n",
       "      <th>sentences</th>\n",
       "      <th>dir1</th>\n",
       "      <th>dir2</th>\n",
       "      <th>file</th>\n",
       "    </tr>\n",
       "  </thead>\n",
       "  <tbody>\n",
       "    <tr>\n",
       "      <th>0</th>\n",
       "      <td>Poland on Wednesday adopted a ban on Belarusia...</td>\n",
       "      <td>05</td>\n",
       "      <td>26</td>\n",
       "      <td>afp.com-20210526T175128Z-TX-PAR-WPC31.xml</td>\n",
       "    </tr>\n",
       "    <tr>\n",
       "      <th>1</th>\n",
       "      <td>\"The Council of Ministers has adopted a ban on...</td>\n",
       "      <td>05</td>\n",
       "      <td>26</td>\n",
       "      <td>afp.com-20210526T175128Z-TX-PAR-WPC31.xml</td>\n",
       "    </tr>\n",
       "    <tr>\n",
       "      <th>2</th>\n",
       "      <td>\"This is an element of the implementation of t...</td>\n",
       "      <td>05</td>\n",
       "      <td>26</td>\n",
       "      <td>afp.com-20210526T175128Z-TX-PAR-WPC31.xml</td>\n",
       "    </tr>\n",
       "    <tr>\n",
       "      <th>3</th>\n",
       "      <td>Poland shares a long border with Belarus and t...</td>\n",
       "      <td>05</td>\n",
       "      <td>26</td>\n",
       "      <td>afp.com-20210526T175128Z-TX-PAR-WPC31.xml</td>\n",
       "    </tr>\n",
       "    <tr>\n",
       "      <th>4</th>\n",
       "      <td>There was confusion earlier on Wednesday when ...</td>\n",
       "      <td>05</td>\n",
       "      <td>26</td>\n",
       "      <td>afp.com-20210526T175128Z-TX-PAR-WPC31.xml</td>\n",
       "    </tr>\n",
       "    <tr>\n",
       "      <th>...</th>\n",
       "      <td>...</td>\n",
       "      <td>...</td>\n",
       "      <td>...</td>\n",
       "      <td>...</td>\n",
       "    </tr>\n",
       "    <tr>\n",
       "      <th>1212124</th>\n",
       "      <td>Search engines like Google, social networking ...</td>\n",
       "      <td>11</td>\n",
       "      <td>17</td>\n",
       "      <td>afp.com-20211117T154522Z-TX-PAR-BUX73.xml</td>\n",
       "    </tr>\n",
       "    <tr>\n",
       "      <th>1212125</th>\n",
       "      <td>\"Unlike traditional media, these platforms are...</td>\n",
       "      <td>11</td>\n",
       "      <td>17</td>\n",
       "      <td>afp.com-20211117T154522Z-TX-PAR-BUX73.xml</td>\n",
       "    </tr>\n",
       "    <tr>\n",
       "      <th>1212126</th>\n",
       "      <td>Under Switzerland's direct democracy, voters g...</td>\n",
       "      <td>11</td>\n",
       "      <td>17</td>\n",
       "      <td>afp.com-20211117T154522Z-TX-PAR-BUX73.xml</td>\n",
       "    </tr>\n",
       "    <tr>\n",
       "      <th>1212127</th>\n",
       "      <td>New platforms \"provide an easy way to spread i...</td>\n",
       "      <td>11</td>\n",
       "      <td>17</td>\n",
       "      <td>afp.com-20211117T154522Z-TX-PAR-BUX73.xml</td>\n",
       "    </tr>\n",
       "    <tr>\n",
       "      <th>1212128</th>\n",
       "      <td>The government said there was a \"growing convi...</td>\n",
       "      <td>11</td>\n",
       "      <td>17</td>\n",
       "      <td>afp.com-20211117T154522Z-TX-PAR-BUX73.xml</td>\n",
       "    </tr>\n",
       "  </tbody>\n",
       "</table>\n",
       "<p>1212129 rows × 4 columns</p>\n",
       "</div>"
      ],
      "text/plain": [
       "                                                 sentences dir1 dir2  \\\n",
       "0        Poland on Wednesday adopted a ban on Belarusia...   05   26   \n",
       "1        \"The Council of Ministers has adopted a ban on...   05   26   \n",
       "2        \"This is an element of the implementation of t...   05   26   \n",
       "3        Poland shares a long border with Belarus and t...   05   26   \n",
       "4        There was confusion earlier on Wednesday when ...   05   26   \n",
       "...                                                    ...  ...  ...   \n",
       "1212124  Search engines like Google, social networking ...   11   17   \n",
       "1212125  \"Unlike traditional media, these platforms are...   11   17   \n",
       "1212126  Under Switzerland's direct democracy, voters g...   11   17   \n",
       "1212127  New platforms \"provide an easy way to spread i...   11   17   \n",
       "1212128  The government said there was a \"growing convi...   11   17   \n",
       "\n",
       "                                              file  \n",
       "0        afp.com-20210526T175128Z-TX-PAR-WPC31.xml  \n",
       "1        afp.com-20210526T175128Z-TX-PAR-WPC31.xml  \n",
       "2        afp.com-20210526T175128Z-TX-PAR-WPC31.xml  \n",
       "3        afp.com-20210526T175128Z-TX-PAR-WPC31.xml  \n",
       "4        afp.com-20210526T175128Z-TX-PAR-WPC31.xml  \n",
       "...                                            ...  \n",
       "1212124  afp.com-20211117T154522Z-TX-PAR-BUX73.xml  \n",
       "1212125  afp.com-20211117T154522Z-TX-PAR-BUX73.xml  \n",
       "1212126  afp.com-20211117T154522Z-TX-PAR-BUX73.xml  \n",
       "1212127  afp.com-20211117T154522Z-TX-PAR-BUX73.xml  \n",
       "1212128  afp.com-20211117T154522Z-TX-PAR-BUX73.xml  \n",
       "\n",
       "[1212129 rows x 4 columns]"
      ]
     },
     "execution_count": 24,
     "metadata": {},
     "output_type": "execute_result"
    }
   ],
   "source": [
    "sentences_df"
   ]
  },
  {
   "cell_type": "code",
   "execution_count": 25,
   "id": "d6508e5c",
   "metadata": {},
   "outputs": [],
   "source": [
    "#Save dataframe output\n",
    "sentences_df.to_csv('/home/deepika/Documents/eurecom/project3/afp 2021/scripts/sentences_df.txt', \n",
    "                    sep='\\t', index=False)"
   ]
  },
  {
   "cell_type": "code",
   "execution_count": 26,
   "id": "af21e669",
   "metadata": {},
   "outputs": [
    {
     "data": {
      "application/vnd.jupyter.widget-view+json": {
       "model_id": "77169dbefad646adb3f66b5683379775",
       "version_major": 2,
       "version_minor": 0
      },
      "text/plain": [
       "  0%|          | 0/1000 [00:00<?, ?it/s]"
      ]
     },
     "metadata": {},
     "output_type": "display_data"
    }
   ],
   "source": [
    "#Define the type of word to extract\n",
    "pattern = [{\"POS\":\"VERB\"}]\n",
    "verb_list = []\n",
    "\n",
    "#Use only a subset from the main directory\n",
    "s_list_from_df = list(sentences_df['sentences'][0:1000])\n",
    "#print(s_list_from_df)\n",
    "s_list_from_df = sentences_df[0:1000]\n",
    "\n",
    "verb_sentence_dir = []\n",
    "for i in tqdm(s_list_from_df.index):\n",
    "    #USe only lemmas\n",
    "    doc = nlp(\" \".join([token.lemma_ for token in nlp(s_list_from_df['sentences'][i])]))\n",
    "    #Extract verbs\n",
    "    verbs = textacy.extract.token_matches(doc, patterns = pattern)\n",
    "    v = []\n",
    "    \n",
    "    for verb in verbs:\n",
    "        v.append(verb)\n",
    "        if verb not in verb_list:\n",
    "            verb_list.append(verb)    \n",
    "    verb_sentence_dir.append([s_list_from_df['sentences'][i], v, s_list_from_df['file'][i]])"
   ]
  },
  {
   "cell_type": "code",
   "execution_count": 27,
   "id": "999391b8",
   "metadata": {},
   "outputs": [
    {
     "name": "stdout",
     "output_type": "stream",
     "text": [
      "['Poland on Wednesday adopted a ban on Belarusian flights using its airspace as part of EU-wide sanctions agreed this week after Belarus arrested a dissident journalist on a diverted flight.', [adopt, use, agree, arrest], 'afp.com-20210526T175128Z-TX-PAR-WPC31.xml']\n"
     ]
    }
   ],
   "source": [
    "print(verb_sentence_dir[0])\n",
    "#Save sentences and their verbs\n",
    "verb_from_sentence_df  = pd.DataFrame(data = verb_sentence_dir,\n",
    "                                      columns = [\"sentence\",\"verbs\", \"file\"])\n",
    "verb_from_sentence_df.to_csv('/home/deepika/Documents/eurecom/project3/afp 2021/scripts/v_from_sentences.txt', \n",
    "                    sep='\\t', index=False)"
   ]
  },
  {
   "cell_type": "code",
   "execution_count": 28,
   "id": "eae1393c",
   "metadata": {},
   "outputs": [
    {
     "name": "stdout",
     "output_type": "stream",
     "text": [
      "['\"The Council of Ministers has adopted a ban on the entry into Polish airspace of aircraft used by carriers from Belarus,\" government spokesman Piotr Muller said on Twitter.', [adopt, say], 'afp.com-20210526T175128Z-TX-PAR-WPC31.xml']\n"
     ]
    }
   ],
   "source": [
    "print(verb_sentence_dir[1])\n"
   ]
  },
  {
   "cell_type": "code",
   "execution_count": 29,
   "id": "38767f7b",
   "metadata": {},
   "outputs": [
    {
     "name": "stdout",
     "output_type": "stream",
     "text": [
      "['adopt', 'use', 'agree', 'arrest', 'adopt', 'say', 'share', 'expect', 'have', 'include', 'be', 'see', 'say', 'deny', 'say', 'allow', 'allow', 'say', 'allow', 'tell', 'be', 'adopt', 'follow', 'say', 'agree', 'ban', 'urge', 'fly', 'say', 'do', 'impose', 'follow', 'disputed', 'garner', 'facilitate', 'hold', 'evolve', 'break', 'organize', 'announce', 'focus', 'allow', 'schedule', 'maximize', 'continue', 'grow', 'join', 'expect', 'showcase', 'involve', 'attract', 'lead', 'promise', 'be', 'grow', 'strengthen', 'hold', 'showcase', 'meet', 'introduce', 'show', 'serve', 'consist', 'regard', 'include', 'cover', 'bring', 'develop', 'introduce', 'maintain', 'present', 'have', 'discover', 'see', 'serve', 'invigorate', 'be', 'bring', 'obtain', 'discuss', 'provide', 'enhance', 'hit', 'leave', 'warn', 'call', 'scale', 'worsen', 'dire', 'find', 'lose', 'say', 'say', 'be', 'meet', 'include', 'come', 'say', 'say', 'include', 'beating', 'continue', 'deteriorate', 'remain', 'increase', 'say', 'lose', 'send', 'find', 'want', 'go', 'be', 'pay', 'do', 'know', 'relinquish', 'find', 'work', 'be', 'scale', 'say', 'say', 'seek', 'offer', 'hit', 'present', 'refute', 'expect', 'relate', 'expect', 'trade', 'compare', 'compare', 'be', 'include', 'assess', 'take', 'put', 'expect', 'expect', 'do', 'come', 'be', 'be', 'be', 'apply', 'normalize', 'relativise', 'show', 'explain', 'make', 'list', 'decide', 'explain', 'have', 'go', 'make', 'be', 'explain', 'say', 'add', 'be', 'debunk', 'go', 'host', 'discuss', 'finding', 'join', 'focus', 'found', 'provide', 'raise', 'focus', 'include', 'register', 'regulate', 'survive', 'take', 'fail', 'reach', 'succeed', 'see', 'snap', 'leave', 'accuse', 'acquire', 'accuse', 'violate', 'stop', 'attend', 'argue', 'be', 'dismiss', 'say', 'contain', 'be', 'have', 'get', 'add', 'suffer', 'take', 'control', 'leave', 'fail', 'pass', 'take', 'gather', 'accuse', 'call', 'say', 'end', 'accuse', 'commit', 'fly', 'deny', 'turn', 'say', 'refuse', 'go', 'have', 'spend', 'say', 'turn', 'cite', 'say', 'say', 'add', 'put', 'say', 'accuse', 'violate', 'regulate', 'divert', 'arrest', 'urge', 'avoid', 'fly', 'dub', 'say', 'receive', 'operate', 'follow', 'say', 'make', 'include', 'suspend', 'say', 'add', 'condemn', 'occur', 'comply', 'come', 'stop', 'finance', 'be', 'bring', 'operate', 'say', 'continue', 'produce', 'disrupt', 'reveal', 'report', 'pass', 'control', 'publish', 'say', 'pull', 'have', 'run', 'following', 'have', 'have', 'bear', 'raise', 'start', 'train', 'return', 'slip', 'limit', 'invest', 'tell', 'have', 'have', 'fend', 'look', 'look', 'continue', 'have', 'make', 'use', 'manipulate', 'register', 'continue', 'play', 'foster', 'have', 'say', 'hear', 'say', 'let', 'play', 'look', 'turn', 'go', 'worry', 'be', 'be', 'challenge', 'stand', 'see', 'be', 'see', 'tell', 'make', 'adopt', 'use', 'agree', 'arrest', 'adopt', 'say', 'say', 'hit', 'carry', 'neighbouring', 'involve', 'ousted', 'detain', 'beat', 'snatch', 'account', 'happen', 'tell', 'understand', 'distress', 'say', 'observe', 'be', 'flee', 'feel', 'believe', 'be', 'tell', 'infiltrate', 'say', 'be', 'respond', 'request', 'say', 'sweep', 'say', 'dismiss', 'be', 'displaced', 'be', 'say', 'send', 'detain', 'say', 'come', 'vow', 'continue', 'warn', 'tell', 'isolate', 'get', 'attend', 'avoid', 'contain', 'grow', 'identify', 'include', 'attend', 'draw', 'say', 'sit', 'require', 'receive', 'review', 'determine', 'leave', 'test', 'endure', 'allow', 'go', 'warn', 'face', 'be', 'concerned', 'go', 'go', 'have', 'make', 'act', 'say', 'limit', 'gathering', 'make', 'grow', 'introduce', 'record', 'acquire', 'believe', 'return', 'became', 'curb', 'limit', 'require', 'isolate', 'repeat', 'have', 'attack', 'address', 'have', 'administer', 'hope', 'finish', 'announce', 'launch', 'promise', 'say', 'aim', 'find', 'dominate', 'wake', 'feature', 'recruit', 'include', 'compare', 'insist', 'comply', 'come', 'include', 'obtain', 'find', 'know', 'suggest', 'pay', 'keep', 'plan', 'lift', 'bring', 'cost', 'add', 'momentum', 'monitor', 'prompt', 'earning', 'gain', 'slip', 'edge', 'acquire', 'give', 'further', 'jump', 'say', 'expect', 'comprise', 'pledge', 'direct', 'deepen', 'involve', 'show', 'win', 'secure', 'back', 'require', 'call', 'reduce', 'slash', 'follow', 'secure', 'join', 'be', 'say', 'say', 'call', 'join', 'know', 'be', 'congratulate', 'work', 'meet', 'launch', 're', '-', 'elect', 'argue', 'take', 'address', 'hear', 'catalyze', 'be', 'deliver', 'say', 'offer', 'be', 'be', 'target', 'say', 'describe', 'throw', 'say', 'be', 'confirm', 'die', 'add', 'injure', 'be', 'take', 'say', 'take', 'tell', 'tell', 'explode', 'terrifying', 'lie', 'run', 'be', 'say', 'deploy', 'arrest', 'say', 'tell', 'stand', 'be', 'want', 'show', 'prevail', 'open', 'say', 'come', 'include', 'announce', 'be', 'report', 'headline', 'report', 'arrive', 'break', 'have', 'be', 'prevent', 'build', 'want', 'challenge', 'register', 'shut', 'win', 'secure', 'suning', 'want', 'save', 'sell', 'believe', 'play', 'take', 'finish', 'blame', 'challenge', 'crash', 'fear', 'say', 'go', 'tell', 'carry', 'say', 'speak', 'be', 'remain', 'be', 'believe', 'say', 'be', 'be', 'listen', 'sensitise', 'reduce', 'carry', 'say', 'say', 'sink', 'blame', 'ferry', 'load', 'say', 'drown', 'ferry', 'split', 'hit', 'resign', 'arrest', 'say', 'be', 'resign', 'say', 'junta', 'say', 'confirm', 'request', 'travel', 'visit', 'be', 'head', 'hold', 'accuse', 'fail', 'consult', 'set', 'hold', 'issue', 'attack', 'demand', 'oust', 'say', 'pull', 'make', 'make', 'say', 'add', 'urge', 'come', 'grow', 'say', 'consider', 'move', 'have', 'divert', 'arrest', 'be', 'dismiss', 'say', 'act', 'be', 'face', 'grow', 'strip', 'begin', 'play', 'announce', 'be', 'seal', 'tell', 'put', 'jeopardise', 'resign', 'say', 'be', 'appear', 'amount', 'resign', 'visit', 'say', 'junta', 'tell', 'resign', 'arrive', 'go', 'speak', 'hold', 'see', 'see', 'express', 'tell', 'say', 'set', 'hold', 'meet', 'warn', 'announce', 'resolve', 'impose', 'say', 'say', 'consider', 'impede', 'stand', 'achieve', 'say', 'say', 'suspend', 'suspect', 'publish', 'remote', 'sensing', 'identify', 'observed', 'be', 'emerge', 'have', 'depend', 'warn', 'be', 'outline', 'provide', 'understand', 'be', 'consider', 'assess', 'relate', 'say', 'provide', 'affect', 'take', 'mitigate', 'find', 'reduce', 'assessed', 'disclose', 'address', 'receive', 'integrate', 'serve', 'grow', 'align', 'deliver', 'climate', 'include', 'visit', 'roll', 'connect', 'break', 'offer', 'address', 'kick', 'discuss', 'be', 'revolve', 'focus', 'unlock', 'explore', 'discuss', 'showcase', 'use', 'create', 'provide', 'obtain', 'showcase', 'announce', 'hold', 'showcase', 'include', 'reveal', 'include', 'ECM53060C', 'drive', 'move', 'commit', 'build', 'create', 'See', 'divide', 'build', 'help', 'startup', 'connect', 'bring', 'join', 'maximize', 'provide', 'meeting', 'use', 'identify', 'promote', 'help', 'increase', 'enable', 'seize', 'bring', 'visit', 'https://virtual.computextaipei.com.tw/', 'https://virtual.computextaipei.com.tw/events/', 'call', 'establish', 'startup', 'cover', 'startup', 'be', 'follow', 'use', 'be', 'go', 'introduce', 'include', 'aim', 'deliver', 'found', 'be', 'assist', 'expand', 'have', 'operate', 'form', 'promote', 'arrest', 'say', 'have', 'go', 'tell', 'set', 'say', 'expect', 'approve', 'carry', 'explain', 'go', 'request', 'obstruct', 'be', 'commit', 'say', 'consider', 'say', 'want', 'go', 'have', 'dominate', 'include', 'be', 'go', 'nominate', 'go', 'lavish', 'become', 'feature', 'produce', 'hit', 'go', 'win', 'try', 'reach', 'say', 'know', 'vow', 'curb', 'say', 'recover', 'be', 'trap', 'give', 'say', 'say', 'say', 'come', 'be', 'tell', 'take', 'get', 'drive', 'involve', 'be', 'say', 'steal', 'present', 'see', 'be', 'build', 'say', 'prove', 'say', 'come', 'be', 'result', 'include', 'infect', 'deny', 'describe', 'declare', 'have', 'do', 'participate', 'conduct', 'acknowledge', 'possess', 'cause', 'pose', 'say', 'accuse', 'fund', 'resume', 'sign', 'oust', 'make', 'end', 'sign', 'represent', 'have', 'fight', 'end', 'join', 'be', 'sign', 'lay', 'be', 'focus', 'attend', 'mediate', 'urge', 'embrace', 'let', 'believe', 'save', 'see', 'get', 'want', 'say', 'have', 'sing', 'gather', 'affirm', 'resolve', 'say', 'say', 'come', 'achieve', 'complement', 'start', 'say', 'demonstrate', 'build', 'reach', 'publish', 'remote', 'sensing', 'identify', 'observed', 'be', 'emerge', 'have', 'depend', 'warn', 'be', 'outline', 'provide', 'understand', 'be', 'consider', 'assess', 'relate', 'say', 'provide', 'affect', 'take', 'mitigate', 'find', 'reduce', 'assessed', 'disclose', 'address', 'receive', 'integrate', 'serve', 'grow', 'align', 'deliver', 'climate', 'include', 'visit', 'cheer', 'have', 'arrest', 'come', 'be', 'await', 'consider', 'organise', 'find', 'follow', 'involve', 'dub', 'want', 'try', 'chip', 'reach', 'be', 'say', 'begin', 'indicate', 'be', 'say', 'deal', 'say', 'commit', 'face', 'win', 'miss', 'kick', 'give', 'equalise', 'prevail', 'extend', 'replace', 'name', 'start', 'take', 'deem', 'leave', 'click', 'create', 'Geronimo', 'break', 'start', 'be', 'swing', 'steer', 'spark', 'watch', 'burst', 'send', 'divert', 'set', 'cross', 'take', 'appear', 'catch', 'level', 'stab', 'recover', 'anticipate', 'be', 'come', 'drill', 'try', 'readjust', 'head', 'continue', 'dominate', 'remain', 'curl', 'begin', 'make', 'replace', 'slow', 'intensify', 'convert', 'have', 'lose', 'investigate', 'come', 'defend', 'lash', 'have', 'turn', 'refuse', 'close', 'dismiss', 'act', 'protect', 'say', 'undermine', 'say', 'accuse', 'change', 'say', 'accuse', 'dub', 'face', 'continue', 'enjoy', 'be', 'host', 'say', 'be', 'disbelieve', 'follow', 'disputed', 'accuse', 'hijack', 'agree', 'cut', 'tell', 'avoid', 'pop', 'fight', 'meet', 'suffer', 'be', 'call', 'get', 'have', 'bump', 'write', 'tell', 'stay', 'stay', 'inspire', 'do', 'go', 'get', 'indicate', 'come', 'offer', 'tweet', 'say', 'drive', 'go', 'roll', 'repair', 'say', 'hope', 'serve', 'resign', 'say', 'be', 'appear', 'amount', 'condemn', 'call', 'discuss', 'be', 'resign', 'visit', 'say', 'junta', 'tell', 'resign', 'arrive', 'go', 'speak', 'hold', 'see', 'say', 'happen', 'give', 'say', 'be', 'hold', 'call', 'urge', 'return', 'urge', 'envisage', 'discuss', 'impose', 'refrain', 'call', 'meet', 'warn', 'announce', 'resolve', 'impose', 'say', 'say', 'consider', 'impede', 'say', 'suspend', 'accelerate', 'introduce', 'combine', 'cover', 'drive', 'accelerate', 'have', 'reduce', 'join', 'find', 'face', 'rise', 'show', 'cover', 'wait', 'need', 'run', 'develop', 'build', 'deliver', 'want', 'launch', 'want', 'acquire', 'put', 'give', 'build', 'empower', 'transform', 'scale', 'be', 'simplify', 'help', 'achieve', 'deliver', 'bring', 'saving', 'be', 'integrate', 'have', 'scale', 'depend', 'give', 'innovate', 'move', 'use', 'estimate', 'use', 'benefit', 'open', 'see', 'add', 'expect', 'reach', 'use', 'benefit', 'say', 'turn', 'scale', 'meet', 'grow', 'pass', 'accelerate', 'remove', 'enable', 'concentrate', 'turn', 'build', 'plug', 'manage', 'fast', 'cover', 'be', 'create', 'use', 'be', 'be', 'configure', 'integrate', 'consume', 'go', 'update', 'offer', 'manage', 'enable', 'innovate', 'explore', 'train', 'create', 'include', 'enable', 'configure', 'offer', 'be', 'choose', 'move', 'collaborate', 'consume', 'work', 'extend', 'test', 'report', 'measure', 'gain', 'support', 'spin', 'benefit', 'manage', 'offer', 'bank', 'manage', 'offer', 'optimize', 'include', 'rely', 'process', 'offer', 'enable', 'deliver', 'gain', 'enable', 'achieve', 'return', 'invest', 'be', 'prove', 'add', 'visit', 'represent', 'define', 'warn', 'avoid', 'scale', 'write', 'send', 'disarm', 'say', 'come', 'say', 'continue', 'hover', 'need', 'break', 'say', 'urge', 'take', 'prevent', 'say', 'face', 'say', 'add', 'continue', 'be', 'injure', 'add', 'destroy', 'include', 'warn', 'estimate', 'burning', 'integrate', 'continue', 'experience', 'have', 'set', 'reach', 'expect', 'grow', 'come', 'grow', 'open', 'start', 'have', 'compare', 'employ', 'compare', 'open', 'recognize', 'list', 'grow', 'rank', 'grow', 'say', 'continue', 'engage', 'help', 'drive', 'be', 'hire', 'develop', 'commit', 'achieve', 'take', 'integrate', 'be', 'help', 'make', 'plan', 'make', 'focus', 'create', 'serve', 'continue', 'grow', 'certify', 'expect', 'double', 'deliver', 'configure', 'be', 'deliver', 'say', 'be', 'be', 'optimize', 'make', 'bring', 'use', 'visit', 'announce', 'complete', 'receive', 'result', 'be', 'raise', 'exclude', 'offering', 'join', 'announce', 'make', 'receive', 'build', 'lie', 'say', 'add', 'advance', 'grow', 'recognize', 'intend', 'stay', 'provide', 'conclude', 'say', 'make', 'extend', 'thank', 'expect', 'ring', 'announce', 'intend', 'use', 'proceed', 'fund', 'redeem', 'repay', 'serve', 'serve', 'be', 'be', 'include', 'be', 'form', 'register', 'sell', 'contain', 'send', 'contain', 'leading', 'grow', 'include', 'noodle', 'baked', 'improve', 'create', 'reflect', 'improve', 'make', 'visit', 'be', 'offer', 'appeal', 'expand', 'want', 'reduce', 'employ', 'include', 'include', 'visit', 'be', 'save', 'host', 'running', 'move', 'organise', 'governing', 'turn', 'stage', 'turn', 'help', 'be', 'agree', 'stage', 'say', 'suppose', 'stage', 'rearrange', 'tell', 'host', 'become', 'put', 'ensure', 'defend', 'lash', 'dismiss', 'act', 'protect', 'say', 'run', 'undermine', 'say', 'accuse', 'change', 'say', 'accuse', 'dub', 'face', 'be', 'follow', 'disputed', 'hijack', 'agree', 'cut', 'tell', 'avoid', 'hold', 'announce', 'fall', 'attend', 'welcome', 'say', 'hold', 'take', 'bar', 'set', 'decide', 'attend', 'have', 'lose', 'win', 'miss', 'kick', 'give', 'equalise', 'prevail', 'extend', 'feel', 'play', 'know', 'tell', 'manage', 'get', 'get', 'replace', 'name', 'start', 'take', 'deem', 'leave', 'click', 'create', 'Geronimo', 'break', 'start', 'be', 'swing', 'steer', 'spark', 'watch', 'burst', 'send', 'divert', 'set', 'cross', 'take', 'appear', 'catch', 'level', 'stab', 'recover', 'anticipate', 'be', 'come', 'drill', 'try', 'readjust', 'head', 'continue', 'dominate', 'remain', 'curl', 'begin', 'make', 'replace', 'slow', 'intensify', 'convert', 'have', 'lose', 'agree', 'buy', 'say', 'give', 'further', 'bolster', 'compete', 'include', 'plan', 'reimagine', 'develop', 'say', 'come', 'make', 'give', 'be', 'own', 'film', 'include', 'have', 'filmmake', 'complement', 'focus', 'produce', 'say', 'help', 'preserve', 'provide', 'empower', 'continue', 'do', 'do', 'have', 'explore', 'be', 'have', 'lead', 'help', 'protect', 'educate', 'release', 'include', 'help', 'reader', 'understand', 'estimate', 'affect', 'safeguard', 'explain', 'substantiate', 'improve', 'pose', 'warn', 'come', 'be', 'heed', 'warn', 'tooth', 'lead', 'heighten', 'increase', 'have', 'ensure', 'multiply', 'cause', 'spread', 'shelter', 'include', 'provide', 'thrive', 'cause', 'cause', 'know', 'spread', 'begin', 'coat', 'accumulate', 'erode', 'cause', 'irritate', 'cause', 'progress', 'lead', 'cause', 'set', 'spread', 'find', 'increase', 'trigger', 'lead', 'be', 'observe', 'cause', 'enter', 'circulate', 'include', 'have', 'develop', 'infect', 'play', 'lead', 'maintain', 'recommend', 'make', 'empower', 'take', 'follow', 'help', 'maintain', 'adapt', 'reach', 'give', 'protect', 'contain', 'formulate', 'reduce', 'accumulate', 'hide', 'reach', 'remove', 'help', 'protect', 'prevent', 'detect', 'develop', 'find', 'exist', 'help', 'found', 'invent', 'help', 'achieve', 'continue', 'stay', 'manufacture', 'serve', 'include', 'include', 'visit', 'diabetes', 'iv', 'leave', 'give', 'midfielder', 'replace', 'suffer', 'collide', 'miss', 'contest', 'face', 'aim', 'win', 'appear', 'win', 'make', 'fall', 'go', 'involve', 'include', 'get', 'fracture', 'hit', 'plunge', 'end', 'take', 'include', 'press', 'shore', 'meet', 'throw', 'end', 'rebuild', 'reopen', 'give', 'signal', 'shutter', 'slash', 'evoke', 'resume', 'achieve', 'continue', 'believe', 'assure', 'give', 'be', 'meet', 'reiterate', 'defend', 'add', 'benefit', 'be', 'meet', 'fly', 'boycott', 'maintain', 'sign', 're', '-', 'open', 'work', 'say', 'plan', 'say', 'take', 'move', 'manage', 'complete', 'go', 'propose', 'say', 'say', 'work', 'downgrade', 'serve', 'announce', 'allow', 'have', 'have', 'wear', 'move', 'carry', 'say', 'commit', 'announce', 'make', 'secure', 'allow', 'focus', 'like', 'take', 'thank', 'stand', 'continue', 'accelerate', 'have', 'have', 'pay', 'be', 'commit', 'unmet', 'adopt', 'aim', 'revolutionize', 'develop', 'reduce', 'enable', 'create', 'have', 'establish', 'be', 'recognize', 'receive', 'visit', 'contain', 'look', 'consider', 'constitute', 'reconsider', 'include', 'approve', 'contain', 'constitute', 'sell', 'subscribe', 'purchase', 'subscribe', 'fail', 'tell', 'call', 'die', 'need', 'die', 'mastermind', 'say', 'blame', 'include', 'get', 'cumming', 'say', 'volunteer', 'get', 'live', 'show', 'fear', 'say', 'die', 'decline', 'learn', 'ignore', 'introduce', 'lead', 'be', 'fall', 'have', 'expect', 'tell', 'describe', 'need', 'fail', 'say', 'apologise', 'die', 'announce', 'provide', 'announce', 'continue', 'support', 'reach', 'establish', 'decide', 'rally', 'help', 'bring', 'earthworm', 'say', 'climb', 'bring', 'nickname', 'instal', 'stream', 'connect', 'die', 'have', 'include', 'say', 'ask', 'collect', 'be', 'be', 'donate', 'help', 'follow', 'give', 'say', 'ask', 'impose', 'dose', 'fail', 'deliver', 'come', 'begin', 'be', 'force', 'deliver', 'argue', 'fail', 'promise', 'set', 'say', 'face', 'meet', 'demand', 'deliver', 'be', 'supply', 'run', 'plan', 'deliver', 'tell', 'deliver', 'articulate', 'rely', 'speak', 'hit', 'argue', 'have', 'fail', 'make', 'step', 'operate', 'sign', 'continue', 'supply', 'mean', 'start', 'demand', 'send', 'say', 'hear', 'say', 'come', 'question', 'hold', 'include', 'start', 'listen', 'tell', 'say', 'cheat', 'conclude', 'look', 'obtain', 'file', 'tell', 'claim', 'send', 'argue', 'take', 'cover', 'be', 'claim', 'comment', 'suppose', 'meet', 'postpone', 'be', 'arrest', 'spend', 'smuggle', 'want', 'return', 'face', 'ask', 'hand', 'lead', 'release', 'set', 'arrive', 'have', 'prevent', 'say', 'give', 'impose', 'arrive', 'say', 'take', 'show', 'age', 'say', 'follow', 'receive', 'say', 'apply', 'underline', 'have', 'see', 'continue', 'evaluate', 'approve', 'include', 'draw', 'stress', 'outweigh', 'maintain', 'be', 'restrict', 'phase', 'plan', 'stop', 'use', 'drop', 'offer', 'volunteer', 'start', 'deliver', 'account', 'say', 'vaccinate', 'identify', 'say', 'die', 'hospital', 'say', 'add', 'keep', 'use', 'vaccinate', 'mean', 'use', 'age', 'say', 'receive', 'age', 'denounce', 'face', 'be', 'write', 'behave', 'say', 'react', 'intercept', 'land', 'arrest', 'urge', 'avoid', 'fly', 'dub', 'tell', 'follow', 'intercept', 'say', 'carry', 'say', 'be', 'take', 'shoot', 'face', 'oppose', 'die', 'say', 'die', 'cite', 'bear', 'enlist', 'find', 'serve', 'go', 'become', 'move', 'be', 'marry', 'divorce', 'win', 'play', 'back', 'head', 'support', 'condemn', 'increase', 'call', 'consider', 'achieve', 'overtake', 'have', 'say', 'have', 'top', 'say', 'include', 'have', 'put', 'top', 'be', 'say', 'note', 'occur', 'sound', 'record', 'involve', 'include', 'say', 'have', 'account', 'stand', 'say', 'note', 'shooting', 'come', 'precipitate', 'emerge', 'remain', 'be', 'crack', 'get', 'reverse', 'say', 'call', 'ranking', 'accuse', 'agree', 'buy', 'say', 'give', 'further', 'bolster', 'compete', 'include', 'come', 'make', 'give', 'be', 'be', 'tell', 'announce', 'hand', 'take', 'have', 'go', 'love', 'go', 'own', 'film', 'include', 'have', 'filmmake', 'complement', 'focus', 'produce', 'say', 'be', 'deliver', 'Unleashed', 'gaming', 'get', 'come', 'expect', 'roll', 'connect', 'break', 'offer', 'address', 'kick', 'discuss', 'be', 'be', 'deliver', 'Unleashed', 'gaming', 'revolve', 'focus', 'unlock', 'explore', 'discuss', 'showcase', 'use', 'create', 'provide', 'obtain', 'showcase', 'announce', 'hold', 'showcase', 'include', 'reveal', 'include', 'ECM53060C', 'drive', 'move', 'commit', 'build', 'create', 'See', 'divide', 'build', 'help', 'startup', 'connect', 'bring', 'join', 'maximize', 'provide', 'meeting', 'use', 'identify', 'promote', 'help', 'increase', 'enable', 'seize', 'bring', 'visit', 'https://virtual.computextaipei.com.tw/', 'https://virtual.computextaipei.com.tw/events/', 'call', 'establish', 'startup', 'cover', 'startup', 'be', 'follow', 'use', 'be', 'go', 'introduce', 'include', 'aim', 'deliver', 'found', 'be', 'assist', 'expand', 'have', 'operate', 'form', 'promote', 'kill', 'take', 'arrive', 'say', 'suffer', 'know', 'know', 'take', 'tell', 'be', 'say', 'confirm', 'tell', 'be', 'tell', 'add', 'resign', 'say', 'be', 'appear', 'amount', 'resign', 'visit', 'say', 'junta', 'tell', 'resign', 'arrive', 'go', 'speak', 'hold', 'see', 'see', 'express', 'tell', 'say', 'set', 'hold', 'liken', 'meet', 'warn', 'announce', 'resolve', 'impose', 'say', 'make', 'announced', 'approve', 'provide', 'provide', 'close', 'announce', 'move', 'develop', 'be', 'enable', 'take', 'be', 'leverage', 'say', 'further', 'deliver', 'look', 'move', 'work', 'say', 'believe', 'enable', 'continued', 'be', 'accelerate', 'improve', 'support', 'increase', 'enhance', 'receive', 'support', 'gain', 'grow', 'unlock', 'combine', 'satisfy', 'make', 'host', 'offer', 'meet', 'exceed', 'provide', 'address', 'require', 'steer', 'make', 'connect', 'fix', 'hold', 'visit', 'provide', 'advance', 'spend', 'develop', 'be', 'develop', 'say', 'leave', 'break', 'sink', 'say', 'say', 'be', 'miss', 'blame', 'ferry', 'load', 'say', 'drown', 'ferry', 'split', 'hit', 'take', 'condemn', 'speed', 'follow', 'ask', 'accelerate', 'say', 'end', 'fighting', 'come', 'amass', 'raise', 'speak', 'say', 'take', 'implement', 'say', 'apply', 'join', 'seek', 'deter', 'remain', 'embrace', 'want', 'avoid', 'criticise', 'invite', 'set', 'attend', 'understand', 'invite', 'find', 'say', 'say', 'expect', 'join', 'become', 'say', 'receive', 'imagine', 'say', 'cooperate', 'adopt', 'spell', 'join', 'defend', 'lash', 'dismiss', 'act', 'protect', 'say', 'run', 'undermine', 'say', 'change', 'say', 'cross', 'dub', 'face', 'be', 'follow', 'disputed', 'hijack', 'agree', 'cut', 'tell', 'avoid', 'be', 'immunize', 'obtain', 'move', 'criticize', 'download', 'receive', 'give', 'move', 'go', 'have', 'print', 'want', 'leave', 'allow', 'pass', 'travel', 'remain', 'be', 'replace', 'need', 'go', 'say', 'come', 'pass', 'vaccinate', 'have', 'have', 'pass', 'give', 'augment', 'lead', 'say', 'defend', 'got', 'die', 'have', 'receive', 'battle', 'give', 'dose', 'have', 'register', 'bring', 'say', 'ask', 'convene', 'expect', 'decide', 'indict', 'suggest', 'find', 'leave', 'become', 'face', 'reject', 'stop', 'have', 'put', 'have', 'write', 'set', 'sit', 'report', 'cite', 'hear', 'add', 'say', 'report', 'suggest', 'find', 'refuse', 'comment', 'refer', 'make', 'examine', 'hear', 'request', 'decide', 'bring', 'prompt', 'claim', 'support', 'call', 'cancel', 'describe', 'make', 'make', 'cancel', 'come', 'grow', 'show', 'go', 'say', 'accept', 'hold', 'insist', 'go', 'accuse', 'include', 'ask', 'hold', 'say', 'expect', 'extend', 'say', 'demonstrate', 'drive', 'say', 'come', 'set', 'begin', 'say', 'support', 'hold', 'say', 'change', 'lay', 'ensure', 'involve', 'add', 'cancel', 'cost', 'say', 'warn', 'suffer', 'say', 'push', 'allocate', 'boost', 'aim', 'address', 'put', 'hope', 'win', 'say', 'aim', 'get', 'supercharge', 'preserve', 'come', 'say', 'aim', 'address', 'fall', 'include', 'force', 'cut', 'allocate', 'increase', 'include', 'pay', 'boost', 'go', 'counter', 'require', 'appoint', 'go', 'advance', 'have', 'work', 'control', 'need', 'forestall', 'block', 'collaborate', 'say', 'reveal', 'united', 'preserve', 'maintain', 'fail', 'tell', 'step', 'apologise', 'emerge', 'be', 'fall', 'have', 'expect', 'tell', 'need', 'fail', 'add', 'like', 'say', 'die', 'be', 'make', 'cumming', 'say', 'recognise', 'fail', 'operate', 'add', 'be', 'be', 'watch', 'launch', 'carve', 'accuse', 'appalling', 'preview', 'claim', 'adopt', 'favour', 'abandon', 'become', 'have', 'avoid', 'escape', 'write', 'give', 'delay', 'become', 'deny', 'pursue', 'pose', 'heed', 'act', 'derail', 'say', 'say', 'boost', 'remain', 'ensure', 'return', 'consider', 'say', 'keep', 'continue', 'come', 'be', 'stay', 'be', 'get', 'hit', 'rise', 'expect', 'begin', 'run', 'say', 'need', 'remain', 'seem', 'acknowledge', 'be', 'drive', 'say', 'have', 'address', 'be', 'know', 'bring', 'say', 'take', 'slow', 'try', 'stay', 'be', 'say', 'spike', 'lead', 'pose', 'mean', 'have', 'saving', 'support', 'come', 'say', 'continue', 'expect', 'begin', 'discuss', 'adjust', 'begin', 'raise', 'expect', 'remain', 'say', 'have', 'lead', 'confirm', 'announce', 'reach', 'say', 'have', 'join', 'weigh', 'come', 'add', 'opening', 'extend', 'agree', 'buy', 'give', 'further', 'bolster', 'compete', 'reopening', 'send', 'force', 'wind', 'continue', 'repeat', 'last', 'step', 'include', 'fear', 'add', 'say', 'appear', 'bear', 'have', 'set', 'look', 'throw', 'say', 'suppose', 'see', 'accelerate', 'have', 'add', 'end', 'believe', 'continue', 'keep', 'include', 'bitcoin', 'bounce', 'fall', 'fall', 'remain', 'touch', 'enjoy', 'suspend', 'suspend', 'emerge', 'having', 'violate', 'say', 'have', 'be', 'committed', 'provide', 'involve', 'announce', 'follow', 'end', 'say', 'appreciate', 'support', 'report', 'harass', 'inappropriate', 'include', 'send', 'request', 'work', 'join', 'apologize', 'support', 'say', 'apologize', 'share', 'make', 'feel', 'intend', 'make', 'feel', 'understand', 'do', 'violate', 'be', 'take', 'deliver', 'bounce', 'beat', 'knot', 'say', 'blame', 'be', 'let', 'happen', 'score', 'want', 'make', 'make', 'come', 'say', 'add', 'pull', 'hand', 'gain', 'turn', 'feel', 'suffer', 'play', 'put', 'follow', 'stretch', 'get', 'lead', 'open', 'threaten', 'run', 'fight', 'put', 'make', 'hang', 'lead', 'make', 'connect', 'score', 'say', 'be', 'go', 'be', 'knock', 'come', 'hold', 'say', 'blinken', 'shore', 'decide', 'learn', 'handshake', 'call', 'rule', 'play', 'be', 'tear', 'slip', 'believe', 'get', 'suffer', 'be', 'face', 'place', 'sustain', 'read', 'work', 'expect', 'call', 'set', 'get', 'Hameed', 'be', 'score', 'win', 'hold', 'be', 'have', 'say', 'say', 'call', 'watch', 'trounce', 'win', 'kill', 'displace', 'glorify', 'mushroom', 'show', 'say', 'have', 'having', 'keep', 'say', 'counting', 'start', 'vote', 'come', 'vote', 'be', 'withstand', 'say', 'sacrifice', 'have', 'avoid', 'follow', 'land', 'surround', 'cast', 'say', 'put', 'provide', 'run', 'send', 'intercept', 'cite', 'force', 'land', 'decry', 'agree', 'include', 'ban', 'say', 'have', 'avoid', 'deem', 'ensure', 'advise', 'do', 'say', 'believe', 'relate', 'comprise', 'warrant', 'force', 'comply', 'regard', 'establish', 'be', 'declare', 'meet', 'discuss', 'say', 'consider', 'endanger', 'hold', 'appear', 'amount', 'consider', 'impede', 'say', 'stand', 'achieve', 'condemn', 'add', 'head', 'oust', 'eke', 'see', 'announce', 'acquire', 'report', 'earning', 'end', 'close', 'continue', 'monitor', 'prompt', 'try', 'tamp', 'say', 'last', 'warn', 'take', 'slow', 'say', 'become', 'take', 'keep', 'see', 'tell', 'see', 'point', 'have', 'avoid', 'earning', 'jump', 'gain', 'edge', 'acquire', 'give', 'further', 'jump', 'say', 'expect', 'comprise', 'be', 'say', 'confirm', 'tell', 'be', 'tell', 'add', 'be', 'be', 'say', 'plead', 'total', 'face', 'gather', 'dress', 'wear', 'ask', 'confirm', 'give', 'deal', 'plead', 'say', 'plead', 'charge', 'say', 'deliver', 'intend', 'call', 'resign', 'say', 'siphon', 'have', 'stamp', 'meet', 'command', 'die', 'see', 'set', 'say', 'approach', 'have', 'die', 'appear', 'identify', 'say', 'shoot', 'hurl', 'set', 'wound', 'see', 'include', 'say', 'fire', 'withdraw', 'continue', 'draw', 'start', 'dub', 'have', 'yield', 'want', 'acknowledge', 'want', 'end', 'cut', 'sign', 'infiltrate', 'foment', 'view', 'sign', 'plead', 'total', 'face', 'gather', 'dress', 'wear', 'ask', 'confirm', 'give', 'deal', 'plead', 'say', 'enter', 'tell', 'pay', 'prevent', 'deliver', 'say', 'siphon', 'ask', 'have', 'accuse', 'argue', 'arrest', 'say', 'have', 'go', 'tell', 'set', 'say', 'expect', 'approve', 'carry', 'explain', 'go', 'request', 'obstruct', 'be', 'commit', 'say', 'consider', 'say', 'want', 'prepare', 'return', 'live', 'test', 'throw', 'be', 'allow', 'open', 'liken', 'face', 'have', 'fire', 'consider', 'be', 'perform', 'go', 'expect', 'last', 'tell', 'have', 'look', 'open', 'join', 'hold', 'admit', 'go', 'ask', 'practise', 'have', 'put', 'manage', 'find', 'make', 'keep', 'stop', 'get', 'recognise', 'exclude', 'receive', 'seize', 'represent', 'make', 'begin', 'consider', 'be', 'revamp', 'avoid', 'propose', 'defer', 'represent', 'pende', 'view', 'mean', 'represent', 'approve', 'be', 'have', 'kill', 'know', 'promote', 'run', 'be', 'include', 'boost', 'give', 'take', 'include', 'tell', 'want', 'become']\n"
     ]
    }
   ],
   "source": [
    "verb_list = ([str(i) for i in verb_list])\n",
    "print(verb_list)"
   ]
  },
  {
   "cell_type": "code",
   "execution_count": 30,
   "id": "10743e9c",
   "metadata": {},
   "outputs": [],
   "source": [
    "enable_catena_list = [ \"aid\", \"allow\",\"enable\", \"help\",\"leave\", \"let\", \"permit\", \"empower\",\n",
    "              \"facilitate\",\"afford\", \"provide\", \"activate\",\"authorize\", \"authorise\", \n",
    "              \"ensure\", \"guarantee\"]\n",
    "prevent_catena_list = [ \"bar\", \"block\", \"constrain\", \"deter\", \"discourage\",\"dissuade\", \"hamper\",\n",
    "                \"hinder\", \"hold\", \"impede\", \"prevent\", \"protect\", \"restrain\", \"restrict\",\n",
    "                \"deny\" ,\"obstruct\", \"inhibit\", \"prohibit\", \"forestall\", \"impede\", \"avert\",\n",
    "                \"avoid\"]"
   ]
  },
  {
   "cell_type": "code",
   "execution_count": 31,
   "id": "ce0b81b1",
   "metadata": {},
   "outputs": [
    {
     "name": "stdout",
     "output_type": "stream",
     "text": [
      "bar [' debar ', ' disallow ', ' exclude ', ' forbid ', ' interdict ', ' nix ', ' proscribe ', ' veto ', 'barroom', 'batten', 'billet', 'boom', 'browning automatic rifle', 'cake', 'crossbar', 'crosspiece', 'ginmill', 'ingot', 'legal community', 'legal profession', 'lever', 'measure', 'paling', 'pig', 'pole', 'prevention', 'rail', 'rib', 'rule', 'saloon', 'shaft', 'slab', 'spar', 'spoke', 'stake', 'stick', 'streak', 'strip', 'stripe', 'stroke', 'taproom']\n",
      "block [' anvil ', ' artefact ', ' artifact ', ' bar ', ' block of metal ', ' briquet ', ' briquette ', ' cake ', ' chock ', ' chopping block ', ' crosshead ', ' cube ', ' domino ', ' ingot ', ' inking pad ', ' inkpad ', ' metal bar ', ' nog ', ' pad ', ' slab ', ' square block ', ' stamp pad ', ' starting block ', ' step ', ' swage block ', ' type ', ' wedge ', 'auction block', 'bar', 'blockage', 'blocking', 'brick', 'cake', 'chunk', 'city block', 'closure', 'cube', 'cylinder block', 'engine block', 'hunk', 'ingot', 'loaf', 'lump', 'mental block', 'oblong', 'occlusion', 'piece', 'pulley', 'pulley block', 'pulley-block', 'section', 'segment', 'slab', 'slice', 'solid', 'square', 'stop', 'stoppage']\n",
      "constrain [' bound ', ' bridle ', ' clog ', ' confine ', ' cumber ', ' curb ', ' encumber ', ' limit ', ' restrain ', ' restrict ', ' trammel ', 'ban', 'bar', 'bind', 'bottle up', 'bridle', 'chain', 'check', 'coerce', 'compel', 'concuss', 'confine', 'constrict', 'cool off', 'cork', 'curb', 'deny', 'deprive', 'disallow', 'drive', 'hem in', 'hog-tie', 'hold back', 'hold down', 'hold in', 'immure', 'impel', 'imprison', 'incarcerate', 'inhibit', 'intern', 'jail', 'keep lid on', 'make', 'necessitate', 'oblige', 'pressure', 'pressurize', 'put half nelson on', 'shotgun', 'stifle', 'urge', 'withhold']\n",
      "deter [' disapprove ', ' reject ', 'act like a wet blanket', 'avert', 'block', 'caution', 'chill', 'cool', 'damp', 'dampen', 'daunt', 'debar', 'disadvise', 'discourage', 'dissuade', 'divert', 'forestall', 'forfend', 'frighten', 'hinder', 'impede', 'intimidate', 'obstruct', 'obviate', 'preclude', 'prevent', 'prohibit', 'put a damper on', 'put off', 'restrain', 'rule out', 'scare', 'shut out', 'stave off', 'stop', 'talk out of', 'throw cold water on', 'warn']\n",
      "discourage [' disapprove ', ' reject ', 'abash', 'afflict', 'alarm', 'appall', 'awe', 'beat down', 'bother', \"break one's heart\", 'bully', 'cast down', 'chill', 'confuse', 'cow', 'dampen', 'dash', 'daunt', 'deject', 'demoralize', 'deprecate', 'depress', 'dismay', 'disparage', 'distress', 'droop', 'frighten', 'intimidate', 'irk', 'overawe', 'prostrate', 'repress', 'scare', 'throw cold water on', 'trouble', 'try', 'unnerve', 'vex', 'weigh']\n",
      "dissuade [' advise ', ' counsel ', ' rede ', ' talk out of ', 'advise against', 'caution against', 'chicken out', 'counsel', 'cry out against', 'deprecate', 'derail', 'deter', 'disadvise', 'discourage', 'disincline', 'divert', 'exhort', 'expostulate', 'faze', 'hinder', 'lean on', 'persuade not to', 'prevent', 'prick', 'put off', 'remonstrate', 'throw a wet blanket on', 'throw cold water on', 'throw off', 'thwart', 'turn off', 'urge not to', 'warn']\n",
      "hamper [' bound ', ' confine ', ' cramp ', ' halter ', ' limit ', ' restrain ', ' restrict ', ' strangle ', ' trammel ', 'bassinet', 'bond', 'carton', 'crate', 'creel', 'laundry basket', 'pannier', 'shackle', 'trammel']\n",
      "hinder [' block ', ' close up ', ' hobble ', ' impede ', ' inhibit ', ' interfere ', ' jam ', ' keep ', ' obstruct ', ' obturate ', ' occlude ', ' prevent ', ' stunt ', 'arrest', 'balk', 'bar', 'block', 'bottleneck', 'box in', 'burden', 'check', 'choke', 'clog', 'contravene', 'counteract', 'crab', 'cramp', 'crimp', 'cripple', 'curb', 'debar', 'delay', 'deter', 'encumber', 'fetter', 'frustrate', 'get in the way', 'hamper', 'hamstring', 'handicap', 'hog-tie', 'hold back', 'hold up', 'impede', 'inhibit', 'interfere', 'interrupt', 'louse up', 'muzzle', 'neutralize', 'obstruct', 'offset', 'oppose', 'preclude', 'prohibit', 'resist', 'retard', 'shut out', 'snafu', 'stay', 'stop', 'stymie', 'terminate', 'thwart', 'trammel']\n",
      "hold [' bear on ', ' carry on ', ' conserve ', ' continue ', ' distance ', ' hold over ', ' housekeep ', ' keep ', ' maintain ', ' preserve ', ' pressurise ', ' uphold ', 'appreciation', 'authority', 'cargo area', 'cargo deck', 'cargo hold', 'clasp', 'clench', 'clinch', 'clout', 'clutch', 'clutches', 'control', 'custody', 'delay', 'detainment', 'detention', 'dominance', 'dominion', 'grasp', 'grip', 'handgrip', 'handle', 'influence', 'keep', 'occupancy', 'occupation', 'ownership', 'postponement', 'pull', 'purchase', 'retention', 'storage area', 'sway', 'tenacity', 'tenure', 'time lag', 'wait']\n",
      "impede [' block ', ' close up ', ' hinder ', ' hobble ', ' inhibit ', ' interfere ', ' jam ', ' keep ', ' obstruct ', ' obturate ', ' occlude ', ' prevent ', ' stunt ', 'bar', 'block', 'blow whistle on', 'brake', 'check', 'clog', 'close off', \"cramp one's style\", 'curb', 'cut off', 'dam', 'dead-end', 'delay', 'deter', 'discomfit', 'disconcert', 'disrupt', 'embarrass', 'faze', 'flag one', 'freeze', 'hamper', 'hang up', 'hold up', 'interfere', 'oppose', 'rattle', 'restrain', 'retard', 'saddle with', 'shut down', 'shut off', 'slow', 'slow down', 'stonewall', 'stop', 'stymie', 'thwart']\n",
      "prevent [' avert ', ' avoid ', ' baffle ', ' bilk ', ' block ', ' blockade ', ' cross ', ' debar ', ' deflect ', ' embarrass ', ' fend off ', ' foil ', ' forbid ', ' foreclose ', ' forefend ', ' forfend ', ' frustrate ', ' halt ', ' head off ', ' hinder ', ' kibosh ', ' make unnecessary ', ' obstruct ', ' obviate ', ' preclude ', ' queer ', ' save ', ' scotch ', ' spoil ', ' stave off ', ' stop ', ' stymie ', ' stymy ', ' thwart ', ' ward off ', 'anticipate', 'arrest', 'avert', 'avoid', 'baffle', 'balk', 'bar', 'block', 'check', 'chill', 'cool', 'cork', 'counter', 'counteract', 'dam', 'dead-end', 'debar', 'defend against', 'foil', 'forbid', 'forestall', 'forfend', 'frustrate', 'halt', 'hamper', 'head off', 'hinder', 'hold back', 'hold off', 'impede', 'inhibit', 'intercept', 'interdict', 'interrupt', 'keep lid on', 'limit', 'nip in the bud', 'obstruct', 'obviate', 'preclude', 'prohibit', 'put a stop to', 'put an end to', 'repress', 'restrain', 'restrict', 'retard', 'rule out', 'shut out', 'stave off', 'stop', 'thwart', 'turn aside', 'ward off']\n",
      "protect [' body guard ', ' charm ', ' cover ', ' cover for ', ' defend ', ' fence ', ' fence in ', ' guard ', ' hold ', ' immunise ', ' immunize ', ' insure ', ' keep ', ' look out ', ' mothproof ', ' overprotect ', ' palisade ', ' preserve ', ' screen ', ' shield ', ' surround ', ' wall ', ' ward ', 'assure', 'bulwark', 'care for', 'champion', 'chaperon', 'conserve', 'cover', 'cover all bases', 'cover up', 'cushion', 'defend', 'fend', 'foster', 'give refuge', 'give sanctuary', 'go to bat for', 'harbor', 'hedge', 'insulate', 'keep', 'keep safe', 'look after', 'preserve', 'ride shotgun for', 'safeguard', 'save', 'screen', 'secure', 'sentinel', 'shade', 'shelter', 'shield', 'shotgun', 'stand guard', 'stonewall', 'support', 'take under wing', 'watch', 'watch over']\n",
      "restrain [' bottle up ', ' check ', ' confine ', ' contain ', ' control ', ' curb ', ' hold ', ' hold in ', ' inhibit ', ' keep ', ' keep back ', ' moderate ', ' suppress ', 'arrest', 'bind', 'bottle up', 'box up', 'bridle', 'chain', 'check', 'choke back', 'circumscribe', 'confine', 'constrain', 'contain', 'control', 'cool', 'cork', 'crack down', 'curb', 'curtail', 'debar', 'delimit', 'detain', 'deter', 'direct', 'fetter', 'gag', 'govern', 'guide', 'hamper', 'handicap', 'harness', 'hem in', 'hinder', 'hogtie', 'hold', 'impound', 'imprison', 'inhibit', 'jail', 'keep', 'keep down', 'keep in line', 'kill', 'limit', 'lock up', 'manacle', 'muzzle', 'pinion', 'prevent', 'proscribe', 'pull back', 'repress', 'restrict', 'sit on', 'stay', 'subdue', 'suppress', 'tie down', 'tie up']\n",
      "restrict [' abridge ', ' circumscribe ', ' confine ', ' curb ', ' curtail ', ' cut back ', ' immobilize ', ' limit ', 'bind', 'bottle up', 'bound', 'chain', 'check', 'circumscribe', 'come down on', 'constrict', 'contain', 'contract', 'cool down', 'cramp', 'curb', 'decrease', 'define', 'delimit', 'delimitate', 'demarcate', 'demark', 'diminish', 'encircle', 'enclose', 'hamper', 'handicap', 'hang up', 'hem in', 'hold back', 'hold down', 'impede', 'inclose', 'inhibit', 'keep within bounds', 'keep within limits', 'moderate', 'modify', 'narrow', 'pin down', 'prelimit', 'put away', 'put on ice', 'qualify', 'reduce', 'regulate', 'restrain', 'send up', 'shorten', 'shrink', 'shut in', 'surround', 'temper', 'tether', 'tie']\n",
      "deny [' contradict ', ' contravene ', ' disavow ', ' disclaim ', ' repudiate ', 'abjure', 'abnegate', 'ban', 'begrudge', 'call on', 'contradict', 'contravene', 'controvert', 'curb', 'disacknowledge', 'disallow', 'disavow', 'disbelieve', 'discard', 'disclaim', 'discredit', 'disown', 'disprove', 'doubt', 'enjoin from', 'eschew', 'exclude', 'forbid', 'forgo', 'forsake', 'gainsay', 'hold back', 'keep back', 'negate', 'negative', 'not buy', 'nullify', 'oppose', 'rebuff', 'rebut', 'recant', 'refuse', 'refute', 'reject', 'repudiate', 'restrain', 'revoke', 'sacrifice', 'say no to', 'spurn', 'taboo', 'take exception to', 'turn down', 'turn thumbs down', 'veto', 'withhold']\n",
      "obstruct [' block ', ' blockade ', ' bottleneck ', ' check ', ' embarrass ', ' filibuster ', ' forbid ', ' foreclose ', ' forestall ', ' hang ', ' hinder ', ' preclude ', ' prevent ', ' stonewall ', ' stymy ', 'arrest', 'bar', 'barricade', 'block', 'check', 'choke', 'clog', 'close', 'congest', 'crab', 'curb', 'cut off', 'dead-end', \"drag one's feet\", 'fill', 'foul up', 'frustrate', 'get in the way', 'hamper', 'hamstring', 'hang up', 'hide', 'hinder', 'hold up', 'impede', 'inhibit', 'interfere', 'interrupt', 'mask', 'monkey with', 'obscure', 'occlude', 'plug', 'restrain', 'retard', 'sandbag', 'shield', 'shut off', 'slow down', 'stall', 'stonewall', 'stop', 'stopper', 'stymie', 'terminate', 'throttle', 'thwart', 'trammel', 'weigh down']\n",
      "inhibit [' blink away ', ' burke ', ' check ', ' choke back ', ' choke down ', ' choke off ', ' conquer ', ' contain ', ' control ', ' curb ', ' dampen ', ' hold ', ' hold in ', ' hush ', ' hush up ', ' moderate ', ' muffle ', ' quell ', ' quench ', ' quieten ', ' repress ', ' shut up ', ' silence ', ' smother ', ' squelch ', ' stamp down ', ' stifle ', ' still ', ' strangle ', ' subdue ', ' suppress ', ' wink ', 'arrest', 'avert', 'bar', 'bit', 'bridle', 'check', 'constrain', 'cramp', 'curb', 'discourage', 'enjoin', 'faze', 'forbid', 'frustrate', 'hang up', 'hinder', 'hog-tie', 'hold back', 'hold down', 'hold in', 'impede', 'interdict', 'keep in', 'obstruct', 'outlaw', 'prohibit', 'put on brakes', 'repress', 'restrain', 'sandbag', 'stop', 'stymie', 'suppress', 'taboo', 'ward', 'withhold']\n",
      "prohibit [' ban ', ' bar ', ' command ', ' criminalise ', ' criminalize ', ' debar ', ' disallow ', ' enjoin ', ' exclude ', ' forbid ', ' illegalise ', ' illegalize ', ' interdict ', ' nix ', ' outlaw ', ' proscribe ', ' require ', 'ban', 'block', 'bottle up', 'box in', 'bring to screeching halt', 'constrain', 'cool', 'cork', 'debar', 'disallow', 'enjoin', 'forbid', 'forfend', 'freeze', 'gridlock', 'halt', 'hamper', 'hang up', 'hinder', 'hold up', 'impede', 'inhibit', 'interdict', 'jam up', 'keep lid on', 'kill', 'lock up', 'nix', 'obstruct', 'outlaw', 'pass on', 'preclude', 'prevent', 'proscribe', 'put a lock on', 'put a stopper in', 'put chill on', 'put down', 'put half nelson on', 'restrain', 'restrict', 'rule out', 'shut out', 'spike', 'stymie', 'taboo', 'throw cold water on', 'tie up', 'veto', 'zing']\n",
      "forestall [' avert ', ' avoid ', ' baffle ', ' bilk ', ' block ', ' blockade ', ' cross ', ' debar ', ' deflect ', ' embarrass ', ' fend off ', ' foil ', ' forbid ', ' forefend ', ' forfend ', ' frustrate ', ' halt ', ' head off ', ' hinder ', ' kibosh ', ' make unnecessary ', ' obstruct ', ' obviate ', ' preclude ', ' prevent ', ' queer ', ' save ', ' scotch ', ' spoil ', ' stave off ', ' stop ', ' stymie ', ' stymy ', ' thwart ', ' ward off ', 'anticipate', 'avert', 'delay', 'deter', 'hinder', 'monopolize', 'preclude', 'preoccupy', 'prevent', 'thwart']\n",
      "impede [' block ', ' close up ', ' hinder ', ' hobble ', ' inhibit ', ' interfere ', ' jam ', ' keep ', ' obstruct ', ' obturate ', ' occlude ', ' prevent ', ' stunt ', 'bar', 'block', 'blow whistle on', 'brake', 'check', 'clog', 'close off', \"cramp one's style\", 'curb', 'cut off', 'dam', 'dead-end', 'delay', 'deter', 'discomfit', 'disconcert', 'disrupt', 'embarrass', 'faze', 'flag one', 'freeze', 'hamper', 'hang up', 'hold up', 'interfere', 'oppose', 'rattle', 'restrain', 'retard', 'saddle with', 'shut down', 'shut off', 'slow', 'slow down', 'stonewall', 'stop', 'stymie', 'thwart']\n",
      "avert [' avoid ', ' debar ', ' deflect ', ' fend off ', ' forbid ', ' foreclose ', ' forefend ', ' forestall ', ' forfend ', ' obviate ', ' preclude ', ' prevent ', ' stave off ', ' ward off ', 'avoid', 'deflect', 'deter', 'divert', 'fend off', 'foil', 'forestall', 'frustrate', 'halt', 'look away', 'preclude', 'prevent', 'rule out', 'shove aside', 'shunt', 'stave off', 'turn', 'turn aside', 'turn away', 'ward off']\n",
      "avoid [' bypass ', ' circumvent ', ' dodge ', ' duck ', ' elude ', ' escape ', ' eschew ', ' evade ', ' get around ', ' get away ', ' get by ', ' get off ', ' go around ', ' hedge ', ' keep away from ', ' keep off ', ' miss ', ' parry ', ' put off ', ' shirk ', ' short-circuit ', ' shun ', ' shy away from ', ' sidestep ', ' skirt ', ' stay off ', ' steer clear of ', 'abstain', 'avert', 'bypass', 'circumlocute', 'circumvent', 'cold-shoulder', 'deflect', 'desist', 'ditch', 'divert', 'dodge', 'duck', 'elude', 'escape', 'eschew', 'evade', 'fake out', 'fend off', 'flee', 'give the slip', 'hide', 'hold off', 'jump', 'keep clear', 'lay low', 'obviate', 'recoil', 'run for cover', 'shake', 'shake and bake', 'shake off', 'shirk', 'shrink from', 'shuffle off', 'shun', 'shy', 'sidestep', 'skip', 'skip out on', 'skip town', 'skirt', 'stay away', 'stay out', 'steer clear of', 'step aside', 'turn aside', 'ward off', 'weave', 'withdraw']\n"
     ]
    }
   ],
   "source": [
    "from wordhoard import Synonyms\n",
    "\n",
    "#Obtain a dictionary of verbs\n",
    "prevent_list_synonyms = []\n",
    "for p in prevent_catena_list:\n",
    "    synonym = Synonyms(search_string=p)\n",
    "    synonym_results = synonym.find_synonyms()\n",
    "    print(p, synonym_results)\n",
    "    prevent_list_synonyms.append(synonym_results)"
   ]
  },
  {
   "cell_type": "code",
   "execution_count": 32,
   "id": "cff90109",
   "metadata": {},
   "outputs": [
    {
     "name": "stdout",
     "output_type": "stream",
     "text": [
      "[[' debar ', ' disallow ', ' exclude ', ' forbid ', ' interdict ', ' nix ', ' proscribe ', ' veto ', 'barroom', 'batten', 'billet', 'boom', 'browning automatic rifle', 'cake', 'crossbar', 'crosspiece', 'ginmill', 'ingot', 'legal community', 'legal profession', 'lever', 'measure', 'paling', 'pig', 'pole', 'prevention', 'rail', 'rib', 'rule', 'saloon', 'shaft', 'slab', 'spar', 'spoke', 'stake', 'stick', 'streak', 'strip', 'stripe', 'stroke', 'taproom'], [' anvil ', ' artefact ', ' artifact ', ' bar ', ' block of metal ', ' briquet ', ' briquette ', ' cake ', ' chock ', ' chopping block ', ' crosshead ', ' cube ', ' domino ', ' ingot ', ' inking pad ', ' inkpad ', ' metal bar ', ' nog ', ' pad ', ' slab ', ' square block ', ' stamp pad ', ' starting block ', ' step ', ' swage block ', ' type ', ' wedge ', 'auction block', 'bar', 'blockage', 'blocking', 'brick', 'cake', 'chunk', 'city block', 'closure', 'cube', 'cylinder block', 'engine block', 'hunk', 'ingot', 'loaf', 'lump', 'mental block', 'oblong', 'occlusion', 'piece', 'pulley', 'pulley block', 'pulley-block', 'section', 'segment', 'slab', 'slice', 'solid', 'square', 'stop', 'stoppage'], [' bound ', ' bridle ', ' clog ', ' confine ', ' cumber ', ' curb ', ' encumber ', ' limit ', ' restrain ', ' restrict ', ' trammel ', 'ban', 'bar', 'bind', 'bottle up', 'bridle', 'chain', 'check', 'coerce', 'compel', 'concuss', 'confine', 'constrict', 'cool off', 'cork', 'curb', 'deny', 'deprive', 'disallow', 'drive', 'hem in', 'hog-tie', 'hold back', 'hold down', 'hold in', 'immure', 'impel', 'imprison', 'incarcerate', 'inhibit', 'intern', 'jail', 'keep lid on', 'make', 'necessitate', 'oblige', 'pressure', 'pressurize', 'put half nelson on', 'shotgun', 'stifle', 'urge', 'withhold'], [' disapprove ', ' reject ', 'act like a wet blanket', 'avert', 'block', 'caution', 'chill', 'cool', 'damp', 'dampen', 'daunt', 'debar', 'disadvise', 'discourage', 'dissuade', 'divert', 'forestall', 'forfend', 'frighten', 'hinder', 'impede', 'intimidate', 'obstruct', 'obviate', 'preclude', 'prevent', 'prohibit', 'put a damper on', 'put off', 'restrain', 'rule out', 'scare', 'shut out', 'stave off', 'stop', 'talk out of', 'throw cold water on', 'warn'], [' disapprove ', ' reject ', 'abash', 'afflict', 'alarm', 'appall', 'awe', 'beat down', 'bother', \"break one's heart\", 'bully', 'cast down', 'chill', 'confuse', 'cow', 'dampen', 'dash', 'daunt', 'deject', 'demoralize', 'deprecate', 'depress', 'dismay', 'disparage', 'distress', 'droop', 'frighten', 'intimidate', 'irk', 'overawe', 'prostrate', 'repress', 'scare', 'throw cold water on', 'trouble', 'try', 'unnerve', 'vex', 'weigh'], [' advise ', ' counsel ', ' rede ', ' talk out of ', 'advise against', 'caution against', 'chicken out', 'counsel', 'cry out against', 'deprecate', 'derail', 'deter', 'disadvise', 'discourage', 'disincline', 'divert', 'exhort', 'expostulate', 'faze', 'hinder', 'lean on', 'persuade not to', 'prevent', 'prick', 'put off', 'remonstrate', 'throw a wet blanket on', 'throw cold water on', 'throw off', 'thwart', 'turn off', 'urge not to', 'warn'], [' bound ', ' confine ', ' cramp ', ' halter ', ' limit ', ' restrain ', ' restrict ', ' strangle ', ' trammel ', 'bassinet', 'bond', 'carton', 'crate', 'creel', 'laundry basket', 'pannier', 'shackle', 'trammel'], [' block ', ' close up ', ' hobble ', ' impede ', ' inhibit ', ' interfere ', ' jam ', ' keep ', ' obstruct ', ' obturate ', ' occlude ', ' prevent ', ' stunt ', 'arrest', 'balk', 'bar', 'block', 'bottleneck', 'box in', 'burden', 'check', 'choke', 'clog', 'contravene', 'counteract', 'crab', 'cramp', 'crimp', 'cripple', 'curb', 'debar', 'delay', 'deter', 'encumber', 'fetter', 'frustrate', 'get in the way', 'hamper', 'hamstring', 'handicap', 'hog-tie', 'hold back', 'hold up', 'impede', 'inhibit', 'interfere', 'interrupt', 'louse up', 'muzzle', 'neutralize', 'obstruct', 'offset', 'oppose', 'preclude', 'prohibit', 'resist', 'retard', 'shut out', 'snafu', 'stay', 'stop', 'stymie', 'terminate', 'thwart', 'trammel'], [' bear on ', ' carry on ', ' conserve ', ' continue ', ' distance ', ' hold over ', ' housekeep ', ' keep ', ' maintain ', ' preserve ', ' pressurise ', ' uphold ', 'appreciation', 'authority', 'cargo area', 'cargo deck', 'cargo hold', 'clasp', 'clench', 'clinch', 'clout', 'clutch', 'clutches', 'control', 'custody', 'delay', 'detainment', 'detention', 'dominance', 'dominion', 'grasp', 'grip', 'handgrip', 'handle', 'influence', 'keep', 'occupancy', 'occupation', 'ownership', 'postponement', 'pull', 'purchase', 'retention', 'storage area', 'sway', 'tenacity', 'tenure', 'time lag', 'wait'], [' block ', ' close up ', ' hinder ', ' hobble ', ' inhibit ', ' interfere ', ' jam ', ' keep ', ' obstruct ', ' obturate ', ' occlude ', ' prevent ', ' stunt ', 'bar', 'block', 'blow whistle on', 'brake', 'check', 'clog', 'close off', \"cramp one's style\", 'curb', 'cut off', 'dam', 'dead-end', 'delay', 'deter', 'discomfit', 'disconcert', 'disrupt', 'embarrass', 'faze', 'flag one', 'freeze', 'hamper', 'hang up', 'hold up', 'interfere', 'oppose', 'rattle', 'restrain', 'retard', 'saddle with', 'shut down', 'shut off', 'slow', 'slow down', 'stonewall', 'stop', 'stymie', 'thwart'], [' avert ', ' avoid ', ' baffle ', ' bilk ', ' block ', ' blockade ', ' cross ', ' debar ', ' deflect ', ' embarrass ', ' fend off ', ' foil ', ' forbid ', ' foreclose ', ' forefend ', ' forfend ', ' frustrate ', ' halt ', ' head off ', ' hinder ', ' kibosh ', ' make unnecessary ', ' obstruct ', ' obviate ', ' preclude ', ' queer ', ' save ', ' scotch ', ' spoil ', ' stave off ', ' stop ', ' stymie ', ' stymy ', ' thwart ', ' ward off ', 'anticipate', 'arrest', 'avert', 'avoid', 'baffle', 'balk', 'bar', 'block', 'check', 'chill', 'cool', 'cork', 'counter', 'counteract', 'dam', 'dead-end', 'debar', 'defend against', 'foil', 'forbid', 'forestall', 'forfend', 'frustrate', 'halt', 'hamper', 'head off', 'hinder', 'hold back', 'hold off', 'impede', 'inhibit', 'intercept', 'interdict', 'interrupt', 'keep lid on', 'limit', 'nip in the bud', 'obstruct', 'obviate', 'preclude', 'prohibit', 'put a stop to', 'put an end to', 'repress', 'restrain', 'restrict', 'retard', 'rule out', 'shut out', 'stave off', 'stop', 'thwart', 'turn aside', 'ward off'], [' body guard ', ' charm ', ' cover ', ' cover for ', ' defend ', ' fence ', ' fence in ', ' guard ', ' hold ', ' immunise ', ' immunize ', ' insure ', ' keep ', ' look out ', ' mothproof ', ' overprotect ', ' palisade ', ' preserve ', ' screen ', ' shield ', ' surround ', ' wall ', ' ward ', 'assure', 'bulwark', 'care for', 'champion', 'chaperon', 'conserve', 'cover', 'cover all bases', 'cover up', 'cushion', 'defend', 'fend', 'foster', 'give refuge', 'give sanctuary', 'go to bat for', 'harbor', 'hedge', 'insulate', 'keep', 'keep safe', 'look after', 'preserve', 'ride shotgun for', 'safeguard', 'save', 'screen', 'secure', 'sentinel', 'shade', 'shelter', 'shield', 'shotgun', 'stand guard', 'stonewall', 'support', 'take under wing', 'watch', 'watch over'], [' bottle up ', ' check ', ' confine ', ' contain ', ' control ', ' curb ', ' hold ', ' hold in ', ' inhibit ', ' keep ', ' keep back ', ' moderate ', ' suppress ', 'arrest', 'bind', 'bottle up', 'box up', 'bridle', 'chain', 'check', 'choke back', 'circumscribe', 'confine', 'constrain', 'contain', 'control', 'cool', 'cork', 'crack down', 'curb', 'curtail', 'debar', 'delimit', 'detain', 'deter', 'direct', 'fetter', 'gag', 'govern', 'guide', 'hamper', 'handicap', 'harness', 'hem in', 'hinder', 'hogtie', 'hold', 'impound', 'imprison', 'inhibit', 'jail', 'keep', 'keep down', 'keep in line', 'kill', 'limit', 'lock up', 'manacle', 'muzzle', 'pinion', 'prevent', 'proscribe', 'pull back', 'repress', 'restrict', 'sit on', 'stay', 'subdue', 'suppress', 'tie down', 'tie up'], [' abridge ', ' circumscribe ', ' confine ', ' curb ', ' curtail ', ' cut back ', ' immobilize ', ' limit ', 'bind', 'bottle up', 'bound', 'chain', 'check', 'circumscribe', 'come down on', 'constrict', 'contain', 'contract', 'cool down', 'cramp', 'curb', 'decrease', 'define', 'delimit', 'delimitate', 'demarcate', 'demark', 'diminish', 'encircle', 'enclose', 'hamper', 'handicap', 'hang up', 'hem in', 'hold back', 'hold down', 'impede', 'inclose', 'inhibit', 'keep within bounds', 'keep within limits', 'moderate', 'modify', 'narrow', 'pin down', 'prelimit', 'put away', 'put on ice', 'qualify', 'reduce', 'regulate', 'restrain', 'send up', 'shorten', 'shrink', 'shut in', 'surround', 'temper', 'tether', 'tie'], [' contradict ', ' contravene ', ' disavow ', ' disclaim ', ' repudiate ', 'abjure', 'abnegate', 'ban', 'begrudge', 'call on', 'contradict', 'contravene', 'controvert', 'curb', 'disacknowledge', 'disallow', 'disavow', 'disbelieve', 'discard', 'disclaim', 'discredit', 'disown', 'disprove', 'doubt', 'enjoin from', 'eschew', 'exclude', 'forbid', 'forgo', 'forsake', 'gainsay', 'hold back', 'keep back', 'negate', 'negative', 'not buy', 'nullify', 'oppose', 'rebuff', 'rebut', 'recant', 'refuse', 'refute', 'reject', 'repudiate', 'restrain', 'revoke', 'sacrifice', 'say no to', 'spurn', 'taboo', 'take exception to', 'turn down', 'turn thumbs down', 'veto', 'withhold'], [' block ', ' blockade ', ' bottleneck ', ' check ', ' embarrass ', ' filibuster ', ' forbid ', ' foreclose ', ' forestall ', ' hang ', ' hinder ', ' preclude ', ' prevent ', ' stonewall ', ' stymy ', 'arrest', 'bar', 'barricade', 'block', 'check', 'choke', 'clog', 'close', 'congest', 'crab', 'curb', 'cut off', 'dead-end', \"drag one's feet\", 'fill', 'foul up', 'frustrate', 'get in the way', 'hamper', 'hamstring', 'hang up', 'hide', 'hinder', 'hold up', 'impede', 'inhibit', 'interfere', 'interrupt', 'mask', 'monkey with', 'obscure', 'occlude', 'plug', 'restrain', 'retard', 'sandbag', 'shield', 'shut off', 'slow down', 'stall', 'stonewall', 'stop', 'stopper', 'stymie', 'terminate', 'throttle', 'thwart', 'trammel', 'weigh down'], [' blink away ', ' burke ', ' check ', ' choke back ', ' choke down ', ' choke off ', ' conquer ', ' contain ', ' control ', ' curb ', ' dampen ', ' hold ', ' hold in ', ' hush ', ' hush up ', ' moderate ', ' muffle ', ' quell ', ' quench ', ' quieten ', ' repress ', ' shut up ', ' silence ', ' smother ', ' squelch ', ' stamp down ', ' stifle ', ' still ', ' strangle ', ' subdue ', ' suppress ', ' wink ', 'arrest', 'avert', 'bar', 'bit', 'bridle', 'check', 'constrain', 'cramp', 'curb', 'discourage', 'enjoin', 'faze', 'forbid', 'frustrate', 'hang up', 'hinder', 'hog-tie', 'hold back', 'hold down', 'hold in', 'impede', 'interdict', 'keep in', 'obstruct', 'outlaw', 'prohibit', 'put on brakes', 'repress', 'restrain', 'sandbag', 'stop', 'stymie', 'suppress', 'taboo', 'ward', 'withhold'], [' ban ', ' bar ', ' command ', ' criminalise ', ' criminalize ', ' debar ', ' disallow ', ' enjoin ', ' exclude ', ' forbid ', ' illegalise ', ' illegalize ', ' interdict ', ' nix ', ' outlaw ', ' proscribe ', ' require ', 'ban', 'block', 'bottle up', 'box in', 'bring to screeching halt', 'constrain', 'cool', 'cork', 'debar', 'disallow', 'enjoin', 'forbid', 'forfend', 'freeze', 'gridlock', 'halt', 'hamper', 'hang up', 'hinder', 'hold up', 'impede', 'inhibit', 'interdict', 'jam up', 'keep lid on', 'kill', 'lock up', 'nix', 'obstruct', 'outlaw', 'pass on', 'preclude', 'prevent', 'proscribe', 'put a lock on', 'put a stopper in', 'put chill on', 'put down', 'put half nelson on', 'restrain', 'restrict', 'rule out', 'shut out', 'spike', 'stymie', 'taboo', 'throw cold water on', 'tie up', 'veto', 'zing'], [' avert ', ' avoid ', ' baffle ', ' bilk ', ' block ', ' blockade ', ' cross ', ' debar ', ' deflect ', ' embarrass ', ' fend off ', ' foil ', ' forbid ', ' forefend ', ' forfend ', ' frustrate ', ' halt ', ' head off ', ' hinder ', ' kibosh ', ' make unnecessary ', ' obstruct ', ' obviate ', ' preclude ', ' prevent ', ' queer ', ' save ', ' scotch ', ' spoil ', ' stave off ', ' stop ', ' stymie ', ' stymy ', ' thwart ', ' ward off ', 'anticipate', 'avert', 'delay', 'deter', 'hinder', 'monopolize', 'preclude', 'preoccupy', 'prevent', 'thwart'], [' block ', ' close up ', ' hinder ', ' hobble ', ' inhibit ', ' interfere ', ' jam ', ' keep ', ' obstruct ', ' obturate ', ' occlude ', ' prevent ', ' stunt ', 'bar', 'block', 'blow whistle on', 'brake', 'check', 'clog', 'close off', \"cramp one's style\", 'curb', 'cut off', 'dam', 'dead-end', 'delay', 'deter', 'discomfit', 'disconcert', 'disrupt', 'embarrass', 'faze', 'flag one', 'freeze', 'hamper', 'hang up', 'hold up', 'interfere', 'oppose', 'rattle', 'restrain', 'retard', 'saddle with', 'shut down', 'shut off', 'slow', 'slow down', 'stonewall', 'stop', 'stymie', 'thwart'], [' avoid ', ' debar ', ' deflect ', ' fend off ', ' forbid ', ' foreclose ', ' forefend ', ' forestall ', ' forfend ', ' obviate ', ' preclude ', ' prevent ', ' stave off ', ' ward off ', 'avoid', 'deflect', 'deter', 'divert', 'fend off', 'foil', 'forestall', 'frustrate', 'halt', 'look away', 'preclude', 'prevent', 'rule out', 'shove aside', 'shunt', 'stave off', 'turn', 'turn aside', 'turn away', 'ward off'], [' bypass ', ' circumvent ', ' dodge ', ' duck ', ' elude ', ' escape ', ' eschew ', ' evade ', ' get around ', ' get away ', ' get by ', ' get off ', ' go around ', ' hedge ', ' keep away from ', ' keep off ', ' miss ', ' parry ', ' put off ', ' shirk ', ' short-circuit ', ' shun ', ' shy away from ', ' sidestep ', ' skirt ', ' stay off ', ' steer clear of ', 'abstain', 'avert', 'bypass', 'circumlocute', 'circumvent', 'cold-shoulder', 'deflect', 'desist', 'ditch', 'divert', 'dodge', 'duck', 'elude', 'escape', 'eschew', 'evade', 'fake out', 'fend off', 'flee', 'give the slip', 'hide', 'hold off', 'jump', 'keep clear', 'lay low', 'obviate', 'recoil', 'run for cover', 'shake', 'shake and bake', 'shake off', 'shirk', 'shrink from', 'shuffle off', 'shun', 'shy', 'sidestep', 'skip', 'skip out on', 'skip town', 'skirt', 'stay away', 'stay out', 'steer clear of', 'step aside', 'turn aside', 'ward off', 'weave', 'withdraw']]\n"
     ]
    }
   ],
   "source": [
    "print(prevent_list_synonyms)"
   ]
  },
  {
   "cell_type": "code",
   "execution_count": 33,
   "id": "2b0000ea",
   "metadata": {},
   "outputs": [
    {
     "name": "stdout",
     "output_type": "stream",
     "text": [
      "1188 [' debar ', ' disallow ', ' exclude ', ' forbid ', ' interdict ', ' nix ', ' proscribe ', ' veto ', 'barroom', 'batten', 'billet', 'boom', 'browning automatic rifle', 'cake', 'crossbar', 'crosspiece', 'ginmill', 'ingot', 'legal community', 'legal profession', 'lever', 'measure', 'paling', 'pig', 'pole', 'prevention', 'rail', 'rib', 'rule', 'saloon', 'shaft', 'slab', 'spar', 'spoke', 'stake', 'stick', 'streak', 'strip', 'stripe', 'stroke', 'taproom', ' anvil ', ' artefact ', ' artifact ', ' bar ', ' block of metal ', ' briquet ', ' briquette ', ' cake ', ' chock ', ' chopping block ', ' crosshead ', ' cube ', ' domino ', ' ingot ', ' inking pad ', ' inkpad ', ' metal bar ', ' nog ', ' pad ', ' slab ', ' square block ', ' stamp pad ', ' starting block ', ' step ', ' swage block ', ' type ', ' wedge ', 'auction block', 'bar', 'blockage', 'blocking', 'brick', 'cake', 'chunk', 'city block', 'closure', 'cube', 'cylinder block', 'engine block', 'hunk', 'ingot', 'loaf', 'lump', 'mental block', 'oblong', 'occlusion', 'piece', 'pulley', 'pulley block', 'pulley-block', 'section', 'segment', 'slab', 'slice', 'solid', 'square', 'stop', 'stoppage', ' bound ', ' bridle ', ' clog ', ' confine ', ' cumber ', ' curb ', ' encumber ', ' limit ', ' restrain ', ' restrict ', ' trammel ', 'ban', 'bar', 'bind', 'bottle up', 'bridle', 'chain', 'check', 'coerce', 'compel', 'concuss', 'confine', 'constrict', 'cool off', 'cork', 'curb', 'deny', 'deprive', 'disallow', 'drive', 'hem in', 'hog-tie', 'hold back', 'hold down', 'hold in', 'immure', 'impel', 'imprison', 'incarcerate', 'inhibit', 'intern', 'jail', 'keep lid on', 'make', 'necessitate', 'oblige', 'pressure', 'pressurize', 'put half nelson on', 'shotgun', 'stifle', 'urge', 'withhold', ' disapprove ', ' reject ', 'act like a wet blanket', 'avert', 'block', 'caution', 'chill', 'cool', 'damp', 'dampen', 'daunt', 'debar', 'disadvise', 'discourage', 'dissuade', 'divert', 'forestall', 'forfend', 'frighten', 'hinder', 'impede', 'intimidate', 'obstruct', 'obviate', 'preclude', 'prevent', 'prohibit', 'put a damper on', 'put off', 'restrain', 'rule out', 'scare', 'shut out', 'stave off', 'stop', 'talk out of', 'throw cold water on', 'warn', ' disapprove ', ' reject ', 'abash', 'afflict', 'alarm', 'appall', 'awe', 'beat down', 'bother', \"break one's heart\", 'bully', 'cast down', 'chill', 'confuse', 'cow', 'dampen', 'dash', 'daunt', 'deject', 'demoralize', 'deprecate', 'depress', 'dismay', 'disparage', 'distress', 'droop', 'frighten', 'intimidate', 'irk', 'overawe', 'prostrate', 'repress', 'scare', 'throw cold water on', 'trouble', 'try', 'unnerve', 'vex', 'weigh', ' advise ', ' counsel ', ' rede ', ' talk out of ', 'advise against', 'caution against', 'chicken out', 'counsel', 'cry out against', 'deprecate', 'derail', 'deter', 'disadvise', 'discourage', 'disincline', 'divert', 'exhort', 'expostulate', 'faze', 'hinder', 'lean on', 'persuade not to', 'prevent', 'prick', 'put off', 'remonstrate', 'throw a wet blanket on', 'throw cold water on', 'throw off', 'thwart', 'turn off', 'urge not to', 'warn', ' bound ', ' confine ', ' cramp ', ' halter ', ' limit ', ' restrain ', ' restrict ', ' strangle ', ' trammel ', 'bassinet', 'bond', 'carton', 'crate', 'creel', 'laundry basket', 'pannier', 'shackle', 'trammel', ' block ', ' close up ', ' hobble ', ' impede ', ' inhibit ', ' interfere ', ' jam ', ' keep ', ' obstruct ', ' obturate ', ' occlude ', ' prevent ', ' stunt ', 'arrest', 'balk', 'bar', 'block', 'bottleneck', 'box in', 'burden', 'check', 'choke', 'clog', 'contravene', 'counteract', 'crab', 'cramp', 'crimp', 'cripple', 'curb', 'debar', 'delay', 'deter', 'encumber', 'fetter', 'frustrate', 'get in the way', 'hamper', 'hamstring', 'handicap', 'hog-tie', 'hold back', 'hold up', 'impede', 'inhibit', 'interfere', 'interrupt', 'louse up', 'muzzle', 'neutralize', 'obstruct', 'offset', 'oppose', 'preclude', 'prohibit', 'resist', 'retard', 'shut out', 'snafu', 'stay', 'stop', 'stymie', 'terminate', 'thwart', 'trammel', ' bear on ', ' carry on ', ' conserve ', ' continue ', ' distance ', ' hold over ', ' housekeep ', ' keep ', ' maintain ', ' preserve ', ' pressurise ', ' uphold ', 'appreciation', 'authority', 'cargo area', 'cargo deck', 'cargo hold', 'clasp', 'clench', 'clinch', 'clout', 'clutch', 'clutches', 'control', 'custody', 'delay', 'detainment', 'detention', 'dominance', 'dominion', 'grasp', 'grip', 'handgrip', 'handle', 'influence', 'keep', 'occupancy', 'occupation', 'ownership', 'postponement', 'pull', 'purchase', 'retention', 'storage area', 'sway', 'tenacity', 'tenure', 'time lag', 'wait', ' block ', ' close up ', ' hinder ', ' hobble ', ' inhibit ', ' interfere ', ' jam ', ' keep ', ' obstruct ', ' obturate ', ' occlude ', ' prevent ', ' stunt ', 'bar', 'block', 'blow whistle on', 'brake', 'check', 'clog', 'close off', \"cramp one's style\", 'curb', 'cut off', 'dam', 'dead-end', 'delay', 'deter', 'discomfit', 'disconcert', 'disrupt', 'embarrass', 'faze', 'flag one', 'freeze', 'hamper', 'hang up', 'hold up', 'interfere', 'oppose', 'rattle', 'restrain', 'retard', 'saddle with', 'shut down', 'shut off', 'slow', 'slow down', 'stonewall', 'stop', 'stymie', 'thwart', ' avert ', ' avoid ', ' baffle ', ' bilk ', ' block ', ' blockade ', ' cross ', ' debar ', ' deflect ', ' embarrass ', ' fend off ', ' foil ', ' forbid ', ' foreclose ', ' forefend ', ' forfend ', ' frustrate ', ' halt ', ' head off ', ' hinder ', ' kibosh ', ' make unnecessary ', ' obstruct ', ' obviate ', ' preclude ', ' queer ', ' save ', ' scotch ', ' spoil ', ' stave off ', ' stop ', ' stymie ', ' stymy ', ' thwart ', ' ward off ', 'anticipate', 'arrest', 'avert', 'avoid', 'baffle', 'balk', 'bar', 'block', 'check', 'chill', 'cool', 'cork', 'counter', 'counteract', 'dam', 'dead-end', 'debar', 'defend against', 'foil', 'forbid', 'forestall', 'forfend', 'frustrate', 'halt', 'hamper', 'head off', 'hinder', 'hold back', 'hold off', 'impede', 'inhibit', 'intercept', 'interdict', 'interrupt', 'keep lid on', 'limit', 'nip in the bud', 'obstruct', 'obviate', 'preclude', 'prohibit', 'put a stop to', 'put an end to', 'repress', 'restrain', 'restrict', 'retard', 'rule out', 'shut out', 'stave off', 'stop', 'thwart', 'turn aside', 'ward off', ' body guard ', ' charm ', ' cover ', ' cover for ', ' defend ', ' fence ', ' fence in ', ' guard ', ' hold ', ' immunise ', ' immunize ', ' insure ', ' keep ', ' look out ', ' mothproof ', ' overprotect ', ' palisade ', ' preserve ', ' screen ', ' shield ', ' surround ', ' wall ', ' ward ', 'assure', 'bulwark', 'care for', 'champion', 'chaperon', 'conserve', 'cover', 'cover all bases', 'cover up', 'cushion', 'defend', 'fend', 'foster', 'give refuge', 'give sanctuary', 'go to bat for', 'harbor', 'hedge', 'insulate', 'keep', 'keep safe', 'look after', 'preserve', 'ride shotgun for', 'safeguard', 'save', 'screen', 'secure', 'sentinel', 'shade', 'shelter', 'shield', 'shotgun', 'stand guard', 'stonewall', 'support', 'take under wing', 'watch', 'watch over', ' bottle up ', ' check ', ' confine ', ' contain ', ' control ', ' curb ', ' hold ', ' hold in ', ' inhibit ', ' keep ', ' keep back ', ' moderate ', ' suppress ', 'arrest', 'bind', 'bottle up', 'box up', 'bridle', 'chain', 'check', 'choke back', 'circumscribe', 'confine', 'constrain', 'contain', 'control', 'cool', 'cork', 'crack down', 'curb', 'curtail', 'debar', 'delimit', 'detain', 'deter', 'direct', 'fetter', 'gag', 'govern', 'guide', 'hamper', 'handicap', 'harness', 'hem in', 'hinder', 'hogtie', 'hold', 'impound', 'imprison', 'inhibit', 'jail', 'keep', 'keep down', 'keep in line', 'kill', 'limit', 'lock up', 'manacle', 'muzzle', 'pinion', 'prevent', 'proscribe', 'pull back', 'repress', 'restrict', 'sit on', 'stay', 'subdue', 'suppress', 'tie down', 'tie up', ' abridge ', ' circumscribe ', ' confine ', ' curb ', ' curtail ', ' cut back ', ' immobilize ', ' limit ', 'bind', 'bottle up', 'bound', 'chain', 'check', 'circumscribe', 'come down on', 'constrict', 'contain', 'contract', 'cool down', 'cramp', 'curb', 'decrease', 'define', 'delimit', 'delimitate', 'demarcate', 'demark', 'diminish', 'encircle', 'enclose', 'hamper', 'handicap', 'hang up', 'hem in', 'hold back', 'hold down', 'impede', 'inclose', 'inhibit', 'keep within bounds', 'keep within limits', 'moderate', 'modify', 'narrow', 'pin down', 'prelimit', 'put away', 'put on ice', 'qualify', 'reduce', 'regulate', 'restrain', 'send up', 'shorten', 'shrink', 'shut in', 'surround', 'temper', 'tether', 'tie', ' contradict ', ' contravene ', ' disavow ', ' disclaim ', ' repudiate ', 'abjure', 'abnegate', 'ban', 'begrudge', 'call on', 'contradict', 'contravene', 'controvert', 'curb', 'disacknowledge', 'disallow', 'disavow', 'disbelieve', 'discard', 'disclaim', 'discredit', 'disown', 'disprove', 'doubt', 'enjoin from', 'eschew', 'exclude', 'forbid', 'forgo', 'forsake', 'gainsay', 'hold back', 'keep back', 'negate', 'negative', 'not buy', 'nullify', 'oppose', 'rebuff', 'rebut', 'recant', 'refuse', 'refute', 'reject', 'repudiate', 'restrain', 'revoke', 'sacrifice', 'say no to', 'spurn', 'taboo', 'take exception to', 'turn down', 'turn thumbs down', 'veto', 'withhold', ' block ', ' blockade ', ' bottleneck ', ' check ', ' embarrass ', ' filibuster ', ' forbid ', ' foreclose ', ' forestall ', ' hang ', ' hinder ', ' preclude ', ' prevent ', ' stonewall ', ' stymy ', 'arrest', 'bar', 'barricade', 'block', 'check', 'choke', 'clog', 'close', 'congest', 'crab', 'curb', 'cut off', 'dead-end', \"drag one's feet\", 'fill', 'foul up', 'frustrate', 'get in the way', 'hamper', 'hamstring', 'hang up', 'hide', 'hinder', 'hold up', 'impede', 'inhibit', 'interfere', 'interrupt', 'mask', 'monkey with', 'obscure', 'occlude', 'plug', 'restrain', 'retard', 'sandbag', 'shield', 'shut off', 'slow down', 'stall', 'stonewall', 'stop', 'stopper', 'stymie', 'terminate', 'throttle', 'thwart', 'trammel', 'weigh down', ' blink away ', ' burke ', ' check ', ' choke back ', ' choke down ', ' choke off ', ' conquer ', ' contain ', ' control ', ' curb ', ' dampen ', ' hold ', ' hold in ', ' hush ', ' hush up ', ' moderate ', ' muffle ', ' quell ', ' quench ', ' quieten ', ' repress ', ' shut up ', ' silence ', ' smother ', ' squelch ', ' stamp down ', ' stifle ', ' still ', ' strangle ', ' subdue ', ' suppress ', ' wink ', 'arrest', 'avert', 'bar', 'bit', 'bridle', 'check', 'constrain', 'cramp', 'curb', 'discourage', 'enjoin', 'faze', 'forbid', 'frustrate', 'hang up', 'hinder', 'hog-tie', 'hold back', 'hold down', 'hold in', 'impede', 'interdict', 'keep in', 'obstruct', 'outlaw', 'prohibit', 'put on brakes', 'repress', 'restrain', 'sandbag', 'stop', 'stymie', 'suppress', 'taboo', 'ward', 'withhold', ' ban ', ' bar ', ' command ', ' criminalise ', ' criminalize ', ' debar ', ' disallow ', ' enjoin ', ' exclude ', ' forbid ', ' illegalise ', ' illegalize ', ' interdict ', ' nix ', ' outlaw ', ' proscribe ', ' require ', 'ban', 'block', 'bottle up', 'box in', 'bring to screeching halt', 'constrain', 'cool', 'cork', 'debar', 'disallow', 'enjoin', 'forbid', 'forfend', 'freeze', 'gridlock', 'halt', 'hamper', 'hang up', 'hinder', 'hold up', 'impede', 'inhibit', 'interdict', 'jam up', 'keep lid on', 'kill', 'lock up', 'nix', 'obstruct', 'outlaw', 'pass on', 'preclude', 'prevent', 'proscribe', 'put a lock on', 'put a stopper in', 'put chill on', 'put down', 'put half nelson on', 'restrain', 'restrict', 'rule out', 'shut out', 'spike', 'stymie', 'taboo', 'throw cold water on', 'tie up', 'veto', 'zing', ' avert ', ' avoid ', ' baffle ', ' bilk ', ' block ', ' blockade ', ' cross ', ' debar ', ' deflect ', ' embarrass ', ' fend off ', ' foil ', ' forbid ', ' forefend ', ' forfend ', ' frustrate ', ' halt ', ' head off ', ' hinder ', ' kibosh ', ' make unnecessary ', ' obstruct ', ' obviate ', ' preclude ', ' prevent ', ' queer ', ' save ', ' scotch ', ' spoil ', ' stave off ', ' stop ', ' stymie ', ' stymy ', ' thwart ', ' ward off ', 'anticipate', 'avert', 'delay', 'deter', 'hinder', 'monopolize', 'preclude', 'preoccupy', 'prevent', 'thwart', ' block ', ' close up ', ' hinder ', ' hobble ', ' inhibit ', ' interfere ', ' jam ', ' keep ', ' obstruct ', ' obturate ', ' occlude ', ' prevent ', ' stunt ', 'bar', 'block', 'blow whistle on', 'brake', 'check', 'clog', 'close off', \"cramp one's style\", 'curb', 'cut off', 'dam', 'dead-end', 'delay', 'deter', 'discomfit', 'disconcert', 'disrupt', 'embarrass', 'faze', 'flag one', 'freeze', 'hamper', 'hang up', 'hold up', 'interfere', 'oppose', 'rattle', 'restrain', 'retard', 'saddle with', 'shut down', 'shut off', 'slow', 'slow down', 'stonewall', 'stop', 'stymie', 'thwart', ' avoid ', ' debar ', ' deflect ', ' fend off ', ' forbid ', ' foreclose ', ' forefend ', ' forestall ', ' forfend ', ' obviate ', ' preclude ', ' prevent ', ' stave off ', ' ward off ', 'avoid', 'deflect', 'deter', 'divert', 'fend off', 'foil', 'forestall', 'frustrate', 'halt', 'look away', 'preclude', 'prevent', 'rule out', 'shove aside', 'shunt', 'stave off', 'turn', 'turn aside', 'turn away', 'ward off', ' bypass ', ' circumvent ', ' dodge ', ' duck ', ' elude ', ' escape ', ' eschew ', ' evade ', ' get around ', ' get away ', ' get by ', ' get off ', ' go around ', ' hedge ', ' keep away from ', ' keep off ', ' miss ', ' parry ', ' put off ', ' shirk ', ' short-circuit ', ' shun ', ' shy away from ', ' sidestep ', ' skirt ', ' stay off ', ' steer clear of ', 'abstain', 'avert', 'bypass', 'circumlocute', 'circumvent', 'cold-shoulder', 'deflect', 'desist', 'ditch', 'divert', 'dodge', 'duck', 'elude', 'escape', 'eschew', 'evade', 'fake out', 'fend off', 'flee', 'give the slip', 'hide', 'hold off', 'jump', 'keep clear', 'lay low', 'obviate', 'recoil', 'run for cover', 'shake', 'shake and bake', 'shake off', 'shirk', 'shrink from', 'shuffle off', 'shun', 'shy', 'sidestep', 'skip', 'skip out on', 'skip town', 'skirt', 'stay away', 'stay out', 'steer clear of', 'step aside', 'turn aside', 'ward off', 'weave', 'withdraw']\n"
     ]
    }
   ],
   "source": [
    "from itertools import chain\n",
    "\n",
    "#COnvert 2d list to 1d list\n",
    "prevent_list_synonyms = list(chain.from_iterable(prevent_list_synonyms))\n",
    "print(len(prevent_list_synonyms), prevent_list_synonyms)\n",
    "\n"
   ]
  },
  {
   "cell_type": "code",
   "execution_count": 35,
   "id": "4d7a1a2a",
   "metadata": {},
   "outputs": [],
   "source": [
    "from wordhoard import Synonyms\n",
    "\n",
    "#Obtain synonyms for every word\n",
    "enable_list_synonyms = []\n",
    "for p in enable_catena_list:\n",
    "    synonym = Synonyms(search_string=p)\n",
    "    synonym_results = synonym.find_synonyms()\n",
    "    enable_list_synonyms.append(synonym_results)"
   ]
  },
  {
   "cell_type": "code",
   "execution_count": 36,
   "id": "3a16780b",
   "metadata": {},
   "outputs": [
    {
     "name": "stdout",
     "output_type": "stream",
     "text": [
      "[[' alleviate ', ' assist ', ' attend ', ' attend to ', ' avail ', ' back up ', ' benefact ', ' bootstrap ', ' care ', ' ease ', ' expedite ', ' facilitate ', ' give care ', ' hasten ', ' help out ', ' serve ', ' subserve ', ' succor ', ' succour ', ' support ', ' wait on ', 'advancement', 'advice', 'advocacy', 'alleviation', 'allowance', 'assist', 'assistance', 'attention', 'backing', 'backup', 'benefaction', 'benefit', 'benevolence', 'bounty', 'care', 'charity', 'comfort', 'compensation', 'cooperation', 'deliverance', 'economic aid', 'economic assistance', 'encouragement', 'endowment', 'favor', 'financial aid', 'financial assistance', 'furtherance', 'gift', 'giving', 'guidance', 'hand', 'handout', 'help', 'leg up', 'lift', 'ministration', 'ministry', 'patronage', 'promotion', 'reinforcement', 'relief', 'rescue', 'reward', 'salvation', 'service', 'shot in the arm', 'subsidy', 'sustenance', 'tending', 'treatment'], [' let ', ' permit ', 'acquiesce', 'avow', 'concede', 'confess', 'grant', 'let on', 'own'], [' alter ', ' change ', ' empower ', ' endow ', ' endue ', ' equip ', ' gift ', ' indue ', ' modify ', 'accredit', 'approve', 'capacitate', 'commission', 'condition', 'empower', 'endow', 'facilitate', 'fit', 'give power', 'implement', 'invest', 'let', 'license', 'make possible', 'permit', 'prepare', 'provide the means', 'qualify', 'ready', 'sanction', 'set up', 'warrant'], [' aid ', ' aid and abet ', ' alleviate ', ' assist ', ' assistance ', ' attend ', ' attend to ', ' avail ', ' back up ', ' be of service to ', ' be of use to ', ' benefact ', ' bootstrap ', ' care ', ' come to the aid of ', ' ease ', ' expedite ', ' facilitate ', ' give assistance to ', ' give care ', ' hasten ', ' help ', ' help out ', ' lend a hand to ', ' lend a helping hand to ', ' serve ', ' subserve ', ' succor ', ' succour ', ' support ', ' wait on ', 'advice', 'aid', 'assist', 'assistance', 'assistant', 'avail', 'balm', 'benefit', 'comfort', 'cooperation', 'corrective', 'cure', 'guidance', 'hand', 'helper', 'helping hand', 'lift', 'maintenance', 'nourishment', 'remedy', 'service', 'succor', 'support', 'supporter', 'sustenance', 'use', 'utility'], [' abandon ', ' beetle off ', ' bolt ', ' bolt out ', ' break away ', ' bugger off ', ' bunk ', ' buzz off ', ' come away ', ' decamp ', ' depart ', ' desert ', ' empty ', ' escape ', ' exit ', ' fly the coop ', ' fuck off ', ' get ', ' get out ', ' go away ', ' go forth ', ' go out ', ' head for the hills ', ' hightail ', ' hightail it ', ' lam ', ' linger ', ' part ', ' pop off ', ' pull out ', ' pull up stakes ', ' quit ', ' ride away ', ' ride off ', ' run ', ' run away ', ' run off ', ' run out ', ' rush away ', ' rush off ', ' scarper ', ' scat ', ' scram ', ' set forth ', ' set off ', ' set out ', ' skip ', ' slip away ', ' sneak away ', ' sneak off ', ' sneak out ', ' start ', ' start out ', ' steal away ', ' take leave ', ' take off ', ' take to the woods ', ' tarry ', ' turn tail ', ' vacate ', ' vamoose ', ' walk off ', ' walk out ', 'allowance', 'assent', 'authorization', 'concession', 'consent', 'dispensation', 'farewell', 'freedom', 'go ahead', 'green light', 'leave of absence', 'leave-taking', 'liberty', 'okay', 'parting', 'permit', 'sanction', 'sufferance', 'tolerance'], [' allow ', ' permit ', 'accredit', 'approve', 'army of the pure', 'army of the righteous', 'authorize', 'be big', 'cause', 'certify', 'commission', 'concede', 'enable', 'endorse', 'free up', 'give', 'give leave', 'give okay', 'give permission', 'grant', 'have', 'hear of', 'lashkar-e-taiba', 'lashkar-e-tayyiba', 'lashkar-e-toiba', 'leave', 'license', 'live with', 'make', 'net ball', 'permit', 'sanction', 'sit still for', 'suffer', 'tolerate', 'warrant'], [' accept ', ' admit ', ' allow ', ' allow in ', ' authorise ', ' authorize ', ' bear ', ' brook ', ' clear ', ' consent ', ' countenance ', ' decriminalise ', ' decriminalize ', ' digest ', ' endure ', ' favor ', ' favour ', ' furlough ', ' give ', ' go for ', ' grant ', ' include ', ' intromit ', ' legalise ', ' legalize ', ' legitimate ', ' legitimatise ', ' legitimatize ', ' legitimise ', ' legitimize ', ' let ', ' let in ', ' pass ', ' privilege ', ' put up ', ' stand ', ' stick out ', ' stomach ', ' suffer ', ' support ', ' tolerate ', ' trust ', 'admittance', 'allowance', 'charter', 'concession', 'consent', 'empowering', 'favor', 'franchise', 'go ahead', 'grant', 'green light', 'indulgence', 'leave', 'legalization', 'liberty', 'licence', 'license', 'pass', 'passport', 'patent', 'permission', 'privilege', 'safe-conduct', 'sanction', 'sufferance', 'toleration', 'trachinotus falcatus', 'visa', 'warrant'], [' authorise ', ' authorize ', ' charge ', ' entitle ', ' sanction ', 'accredit', 'allow', 'capacitate', 'charge', 'commission', 'delegate', 'entitle', 'entrust', 'grant', 'invest', 'legitimize', 'license', 'okay', 'permit', 'privilege', 'qualify', 'sanction', 'vest', 'warrant'], [' aid ', ' alleviate ', ' assist ', ' ease ', 'aid', 'ease', 'expedite', 'forward', 'further', 'grease the wheels', 'hand-carry', 'help', 'make easy', 'open doors', 'promote', 'run interference for', 'simplify', 'smooth', 'speed', 'speed up', 'walk through'], [' expend ', ' spend ', 'allow', 'be able to', 'be disposed to', 'bear', 'have enough for', 'have the means for', 'incur', 'manage', 'spare', 'stand', 'support', 'sustain'], [' bear ', ' bestow ', ' bring forth ', ' come up with ', ' contribute ', ' deliver ', ' dispense ', ' equip ', ' feed ', ' fund ', ' furnish ', ' give ', ' hydrate ', ' impart ', ' issue ', ' lay out ', ' produce ', ' provision ', ' render ', ' stock ', ' supply ', ' tool ', ' yield ', 'accommodate', 'add', 'administer', 'afford', 'arrange', 'bestow', 'bring', 'care', 'cater', 'contribute', 'dispense', 'equip', 'favor', 'feather', 'feed', 'fit', 'fit out', 'fix up', 'fix up with', 'furnish', 'give', 'grant', 'hand over', 'heel', 'impart', 'implement', 'indulge', 'keep', 'lend', 'line', 'look after', 'maintain', 'minister', 'outfit', 'prepare', 'present', 'procure', 'produce', 'proffer', 'provision', 'ration', 'ready', 'render', 'replenish', 'serve', 'stake', 'stock', 'stock up', 'store', 'sustain', 'take care of', 'transfer', 'turn out', 'yield'], [' actuate ', ' come about ', ' fall out ', ' go on ', ' hap ', ' initiate ', ' occur ', ' pass ', ' pass off ', ' pioneer ', ' set off ', ' spark ', ' spark off ', ' take place ', ' touch off ', ' trigger ', ' trigger off ', ' trip ', 'actify', 'actuate', 'arouse', 'call up', 'energize', 'impel', 'mobilize', 'motivate', 'move', 'prompt', 'propel', 'rouse', 'set in motion', 'start', 'stimulate', 'stir', 'switch on', 'take out of mothballs', 'trigger', 'turn on'], [' allow ', ' approbate ', ' approve ', ' authorise ', ' certificate ', ' certify ', ' clear ', ' commission ', ' countenance ', ' declare ', ' formalize ', ' let ', ' licence ', ' license ', ' o.k. ', ' okay ', ' pass ', ' permit ', ' sanction ', ' validate ', 'accredit', 'bless', 'commission', 'empower', 'enable', 'entitle', 'give authority', 'give the go-ahead', 'give the green light', 'give the word', 'invest', 'license', 'okay', 'rubber-stamp', 'say the word', 'vest'], [' authorize ', ' charge ', ' empower ', ' entitle ', ' sanction '], [' assure ', ' doom ', ' guarantee ', ' insure ', ' secure ', ' vouch ', 'arrange', 'assure', 'certify', 'cinch', 'clinch', 'confirm', 'effect', 'establish', 'guard', 'insure', 'lock on', 'lock up', 'make certain', 'make safe', 'make sure', 'nail down', 'okay', 'protect', 'provide', 'put on ice', 'safeguard', 'secure', 'set out', 'warrant'], [' assure ', ' bail ', ' ensure ', ' insure ', ' pledge ', ' secure ', ' stipulate ', ' vouch ', 'agreement', 'assurance', 'attestation', 'bail', 'bargain', 'bond', 'certainty', 'certificate', 'certification', 'charter', 'collateral', 'contract', 'covenant', 'deposit', 'earnest', 'gage', 'guaranty', 'insurance', 'lock', 'oath', 'pawn', 'pipe', 'recognizance', 'security', 'sure thing', 'surety', 'testament', 'token', 'undertaking', 'vow', 'warrant', 'warrantee', 'warranty', 'word', 'word of honor']]\n"
     ]
    }
   ],
   "source": [
    "print(enable_list_synonyms)"
   ]
  },
  {
   "cell_type": "code",
   "execution_count": 37,
   "id": "ac8a5d6c",
   "metadata": {},
   "outputs": [
    {
     "name": "stdout",
     "output_type": "stream",
     "text": [
      "648 [' alleviate ', ' assist ', ' attend ', ' attend to ', ' avail ', ' back up ', ' benefact ', ' bootstrap ', ' care ', ' ease ', ' expedite ', ' facilitate ', ' give care ', ' hasten ', ' help out ', ' serve ', ' subserve ', ' succor ', ' succour ', ' support ', ' wait on ', 'advancement', 'advice', 'advocacy', 'alleviation', 'allowance', 'assist', 'assistance', 'attention', 'backing', 'backup', 'benefaction', 'benefit', 'benevolence', 'bounty', 'care', 'charity', 'comfort', 'compensation', 'cooperation', 'deliverance', 'economic aid', 'economic assistance', 'encouragement', 'endowment', 'favor', 'financial aid', 'financial assistance', 'furtherance', 'gift', 'giving', 'guidance', 'hand', 'handout', 'help', 'leg up', 'lift', 'ministration', 'ministry', 'patronage', 'promotion', 'reinforcement', 'relief', 'rescue', 'reward', 'salvation', 'service', 'shot in the arm', 'subsidy', 'sustenance', 'tending', 'treatment', ' let ', ' permit ', 'acquiesce', 'avow', 'concede', 'confess', 'grant', 'let on', 'own', ' alter ', ' change ', ' empower ', ' endow ', ' endue ', ' equip ', ' gift ', ' indue ', ' modify ', 'accredit', 'approve', 'capacitate', 'commission', 'condition', 'empower', 'endow', 'facilitate', 'fit', 'give power', 'implement', 'invest', 'let', 'license', 'make possible', 'permit', 'prepare', 'provide the means', 'qualify', 'ready', 'sanction', 'set up', 'warrant', ' aid ', ' aid and abet ', ' alleviate ', ' assist ', ' assistance ', ' attend ', ' attend to ', ' avail ', ' back up ', ' be of service to ', ' be of use to ', ' benefact ', ' bootstrap ', ' care ', ' come to the aid of ', ' ease ', ' expedite ', ' facilitate ', ' give assistance to ', ' give care ', ' hasten ', ' help ', ' help out ', ' lend a hand to ', ' lend a helping hand to ', ' serve ', ' subserve ', ' succor ', ' succour ', ' support ', ' wait on ', 'advice', 'aid', 'assist', 'assistance', 'assistant', 'avail', 'balm', 'benefit', 'comfort', 'cooperation', 'corrective', 'cure', 'guidance', 'hand', 'helper', 'helping hand', 'lift', 'maintenance', 'nourishment', 'remedy', 'service', 'succor', 'support', 'supporter', 'sustenance', 'use', 'utility', ' abandon ', ' beetle off ', ' bolt ', ' bolt out ', ' break away ', ' bugger off ', ' bunk ', ' buzz off ', ' come away ', ' decamp ', ' depart ', ' desert ', ' empty ', ' escape ', ' exit ', ' fly the coop ', ' fuck off ', ' get ', ' get out ', ' go away ', ' go forth ', ' go out ', ' head for the hills ', ' hightail ', ' hightail it ', ' lam ', ' linger ', ' part ', ' pop off ', ' pull out ', ' pull up stakes ', ' quit ', ' ride away ', ' ride off ', ' run ', ' run away ', ' run off ', ' run out ', ' rush away ', ' rush off ', ' scarper ', ' scat ', ' scram ', ' set forth ', ' set off ', ' set out ', ' skip ', ' slip away ', ' sneak away ', ' sneak off ', ' sneak out ', ' start ', ' start out ', ' steal away ', ' take leave ', ' take off ', ' take to the woods ', ' tarry ', ' turn tail ', ' vacate ', ' vamoose ', ' walk off ', ' walk out ', 'allowance', 'assent', 'authorization', 'concession', 'consent', 'dispensation', 'farewell', 'freedom', 'go ahead', 'green light', 'leave of absence', 'leave-taking', 'liberty', 'okay', 'parting', 'permit', 'sanction', 'sufferance', 'tolerance', ' allow ', ' permit ', 'accredit', 'approve', 'army of the pure', 'army of the righteous', 'authorize', 'be big', 'cause', 'certify', 'commission', 'concede', 'enable', 'endorse', 'free up', 'give', 'give leave', 'give okay', 'give permission', 'grant', 'have', 'hear of', 'lashkar-e-taiba', 'lashkar-e-tayyiba', 'lashkar-e-toiba', 'leave', 'license', 'live with', 'make', 'net ball', 'permit', 'sanction', 'sit still for', 'suffer', 'tolerate', 'warrant', ' accept ', ' admit ', ' allow ', ' allow in ', ' authorise ', ' authorize ', ' bear ', ' brook ', ' clear ', ' consent ', ' countenance ', ' decriminalise ', ' decriminalize ', ' digest ', ' endure ', ' favor ', ' favour ', ' furlough ', ' give ', ' go for ', ' grant ', ' include ', ' intromit ', ' legalise ', ' legalize ', ' legitimate ', ' legitimatise ', ' legitimatize ', ' legitimise ', ' legitimize ', ' let ', ' let in ', ' pass ', ' privilege ', ' put up ', ' stand ', ' stick out ', ' stomach ', ' suffer ', ' support ', ' tolerate ', ' trust ', 'admittance', 'allowance', 'charter', 'concession', 'consent', 'empowering', 'favor', 'franchise', 'go ahead', 'grant', 'green light', 'indulgence', 'leave', 'legalization', 'liberty', 'licence', 'license', 'pass', 'passport', 'patent', 'permission', 'privilege', 'safe-conduct', 'sanction', 'sufferance', 'toleration', 'trachinotus falcatus', 'visa', 'warrant', ' authorise ', ' authorize ', ' charge ', ' entitle ', ' sanction ', 'accredit', 'allow', 'capacitate', 'charge', 'commission', 'delegate', 'entitle', 'entrust', 'grant', 'invest', 'legitimize', 'license', 'okay', 'permit', 'privilege', 'qualify', 'sanction', 'vest', 'warrant', ' aid ', ' alleviate ', ' assist ', ' ease ', 'aid', 'ease', 'expedite', 'forward', 'further', 'grease the wheels', 'hand-carry', 'help', 'make easy', 'open doors', 'promote', 'run interference for', 'simplify', 'smooth', 'speed', 'speed up', 'walk through', ' expend ', ' spend ', 'allow', 'be able to', 'be disposed to', 'bear', 'have enough for', 'have the means for', 'incur', 'manage', 'spare', 'stand', 'support', 'sustain', ' bear ', ' bestow ', ' bring forth ', ' come up with ', ' contribute ', ' deliver ', ' dispense ', ' equip ', ' feed ', ' fund ', ' furnish ', ' give ', ' hydrate ', ' impart ', ' issue ', ' lay out ', ' produce ', ' provision ', ' render ', ' stock ', ' supply ', ' tool ', ' yield ', 'accommodate', 'add', 'administer', 'afford', 'arrange', 'bestow', 'bring', 'care', 'cater', 'contribute', 'dispense', 'equip', 'favor', 'feather', 'feed', 'fit', 'fit out', 'fix up', 'fix up with', 'furnish', 'give', 'grant', 'hand over', 'heel', 'impart', 'implement', 'indulge', 'keep', 'lend', 'line', 'look after', 'maintain', 'minister', 'outfit', 'prepare', 'present', 'procure', 'produce', 'proffer', 'provision', 'ration', 'ready', 'render', 'replenish', 'serve', 'stake', 'stock', 'stock up', 'store', 'sustain', 'take care of', 'transfer', 'turn out', 'yield', ' actuate ', ' come about ', ' fall out ', ' go on ', ' hap ', ' initiate ', ' occur ', ' pass ', ' pass off ', ' pioneer ', ' set off ', ' spark ', ' spark off ', ' take place ', ' touch off ', ' trigger ', ' trigger off ', ' trip ', 'actify', 'actuate', 'arouse', 'call up', 'energize', 'impel', 'mobilize', 'motivate', 'move', 'prompt', 'propel', 'rouse', 'set in motion', 'start', 'stimulate', 'stir', 'switch on', 'take out of mothballs', 'trigger', 'turn on', ' allow ', ' approbate ', ' approve ', ' authorise ', ' certificate ', ' certify ', ' clear ', ' commission ', ' countenance ', ' declare ', ' formalize ', ' let ', ' licence ', ' license ', ' o.k. ', ' okay ', ' pass ', ' permit ', ' sanction ', ' validate ', 'accredit', 'bless', 'commission', 'empower', 'enable', 'entitle', 'give authority', 'give the go-ahead', 'give the green light', 'give the word', 'invest', 'license', 'okay', 'rubber-stamp', 'say the word', 'vest', ' authorize ', ' charge ', ' empower ', ' entitle ', ' sanction ', ' assure ', ' doom ', ' guarantee ', ' insure ', ' secure ', ' vouch ', 'arrange', 'assure', 'certify', 'cinch', 'clinch', 'confirm', 'effect', 'establish', 'guard', 'insure', 'lock on', 'lock up', 'make certain', 'make safe', 'make sure', 'nail down', 'okay', 'protect', 'provide', 'put on ice', 'safeguard', 'secure', 'set out', 'warrant', ' assure ', ' bail ', ' ensure ', ' insure ', ' pledge ', ' secure ', ' stipulate ', ' vouch ', 'agreement', 'assurance', 'attestation', 'bail', 'bargain', 'bond', 'certainty', 'certificate', 'certification', 'charter', 'collateral', 'contract', 'covenant', 'deposit', 'earnest', 'gage', 'guaranty', 'insurance', 'lock', 'oath', 'pawn', 'pipe', 'recognizance', 'security', 'sure thing', 'surety', 'testament', 'token', 'undertaking', 'vow', 'warrant', 'warrantee', 'warranty', 'word', 'word of honor']\n"
     ]
    }
   ],
   "source": [
    "#COnvert 2d list to 1d\n",
    "enable_list_synonyms = list(chain.from_iterable(enable_list_synonyms))\n",
    "print(len(enable_list_synonyms), enable_list_synonyms)\n"
   ]
  },
  {
   "cell_type": "code",
   "execution_count": 38,
   "id": "82847d42",
   "metadata": {},
   "outputs": [],
   "source": [
    "#Remove spaces between words and quotes\n",
    "enable_list_synonyms = ([i.strip() for i in enable_list_synonyms])\n",
    "prevent_list_synonyms = ([i.strip() for i in prevent_list_synonyms])"
   ]
  },
  {
   "cell_type": "code",
   "execution_count": 39,
   "id": "0adb68fe",
   "metadata": {},
   "outputs": [],
   "source": [
    "#keep only unique words\n",
    "x = np.array(verb_list)\n",
    "verb_list = list(np.unique(x))\n",
    "\n",
    "x = np.array(prevent_list_synonyms)\n",
    "prevent_list_synonyms = list(np.unique(x))\n",
    "\n",
    "x = np.array(enable_list_synonyms)\n",
    "enable_list_synonyms = list(np.unique(x))"
   ]
  },
  {
   "cell_type": "code",
   "execution_count": 40,
   "id": "2bb83786",
   "metadata": {},
   "outputs": [
    {
     "name": "stdout",
     "output_type": "stream",
     "text": [
      "725 459 638\n"
     ]
    }
   ],
   "source": [
    "print(len(verb_list), len(enable_list_synonyms), len(prevent_list_synonyms))"
   ]
  },
  {
   "cell_type": "code",
   "execution_count": 41,
   "id": "6428cdde",
   "metadata": {},
   "outputs": [],
   "source": [
    "#extract prevent verbs from sentences\n",
    "prevent_list_from_sentence = [v for v in verb_list \n",
    "                              if v in prevent_list_synonyms or v in prevent_catena_list]"
   ]
  },
  {
   "cell_type": "code",
   "execution_count": 42,
   "id": "8bee8a9a",
   "metadata": {},
   "outputs": [
    {
     "name": "stdout",
     "output_type": "stream",
     "text": [
      "['advise', 'anticipate', 'arrest', 'assure', 'avoid', 'ban', 'bar', 'block', 'close', 'command', 'contain', 'continue', 'control', 'counter', 'cover', 'cross', 'curb', 'defend', 'define', 'delay', 'deny', 'derail', 'detain', 'deter', 'direct', 'disbelieve', 'disrupt', 'distress', 'divert', 'drive', 'escape', 'exclude', 'fend', 'flee', 'forestall', 'foster', 'hang', 'hide', 'hold', 'immunize', 'impede', 'intercept', 'jump', 'keep', 'kill', 'limit', 'maintain', 'make', 'measure', 'miss', 'obstruct', 'oppose', 'plug', 'preserve', 'prevent', 'protect', 'pull', 'purchase', 'reduce', 'refuse', 'refute', 'regulate', 'reject', 'require', 'restrict', 'rule', 'sacrifice', 'safeguard', 'save', 'secure', 'shelter', 'slow', 'spike', 'stay', 'step', 'stop', 'strip', 'support', 'surround', 'try', 'turn', 'urge', 'wait', 'warn', 'watch', 'weigh', 'withdraw'] 87\n"
     ]
    }
   ],
   "source": [
    "print(prevent_list_from_sentence, len(prevent_list_from_sentence))"
   ]
  },
  {
   "cell_type": "code",
   "execution_count": 43,
   "id": "fdbd6fb5",
   "metadata": {},
   "outputs": [
    {
     "name": "stdout",
     "output_type": "stream",
     "text": [
      "['abandon', 'accept', 'add', 'administer', 'admit', 'allow', 'approve', 'assist', 'assure', 'attend', 'bear', 'benefit', 'bring', 'cause', 'certify', 'change', 'charge', 'confirm', 'declare', 'deliver', 'empower', 'enable', 'endure', 'ensure', 'escape', 'establish', 'facilitate', 'favour', 'fund', 'further', 'get', 'give', 'hand', 'have', 'help', 'implement', 'include', 'invest', 'issue', 'keep', 'leave', 'let', 'lift', 'maintain', 'make', 'manage', 'move', 'occur', 'own', 'pass', 'pledge', 'prepare', 'present', 'produce', 'promote', 'prompt', 'protect', 'provide', 'run', 'safeguard', 'secure', 'serve', 'simplify', 'spark', 'speed', 'spend', 'stand', 'start', 'suffer', 'supply', 'support', 'sustain', 'trigger', 'use', 'vow', 'warrant', 'yield'] 77\n"
     ]
    }
   ],
   "source": [
    "#extract enable verbs from sentences\n",
    "enable_list_from_sentence = [v for v in verb_list \n",
    "                              if v in enable_list_synonyms or v in enable_catena_list]\n",
    "print(enable_list_from_sentence, len(enable_list_from_sentence))"
   ]
  },
  {
   "cell_type": "code",
   "execution_count": null,
   "id": "c5021969",
   "metadata": {},
   "outputs": [],
   "source": []
  },
  {
   "cell_type": "code",
   "execution_count": null,
   "id": "44fdd623",
   "metadata": {},
   "outputs": [],
   "source": []
  }
 ],
 "metadata": {
  "kernelspec": {
   "display_name": "Python 3 (ipykernel)",
   "language": "python",
   "name": "python3"
  },
  "language_info": {
   "codemirror_mode": {
    "name": "ipython",
    "version": 3
   },
   "file_extension": ".py",
   "mimetype": "text/x-python",
   "name": "python",
   "nbconvert_exporter": "python",
   "pygments_lexer": "ipython3",
   "version": "3.10.7"
  }
 },
 "nbformat": 4,
 "nbformat_minor": 5
}
