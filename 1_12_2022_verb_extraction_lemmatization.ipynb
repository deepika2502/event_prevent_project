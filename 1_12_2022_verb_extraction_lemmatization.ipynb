{
 "cells": [
  {
   "cell_type": "code",
   "execution_count": null,
   "id": "0ef3f572",
   "metadata": {},
   "outputs": [],
   "source": []
  },
  {
   "cell_type": "code",
   "execution_count": 1,
   "id": "2af5516a",
   "metadata": {},
   "outputs": [],
   "source": [
    "#import necessary modules\n",
    "import pandas as pd\n",
    "import numpy as np\n",
    "import os\n",
    "import xml.etree.cElementTree as et\n",
    "import spacy\n",
    "import nltk\n",
    "from tqdm.notebook import tqdm\n",
    "import textacy\n",
    "import string\n",
    "\n",
    "nlp = spacy.load(\"en_core_web_sm\")\n",
    "pd.options.display.max_rows = 10000"
   ]
  },
  {
   "cell_type": "code",
   "execution_count": 2,
   "id": "268a8d97",
   "metadata": {},
   "outputs": [],
   "source": [
    "#Set path to home dictionnary\n",
    "path = '/home/deepika/Documents/eurecom/project3/afp 2021/2021'\n",
    "#create a list to contain the sentences\n",
    "sentences_list = []"
   ]
  },
  {
   "cell_type": "code",
   "execution_count": 3,
   "id": "8d14a85d",
   "metadata": {},
   "outputs": [],
   "source": [
    "#remove the unneccessary files/folders\n",
    "for dir1 in (os.listdir(path)):\n",
    "   if dir1.startswith('.'):\n",
    "         os.remove(os.path.join(path, dir1))\n",
    "   for dir2 in os.listdir(os.path.join(path, dir1)):\n",
    "        if dir2.startswith('.'):\n",
    "            os.remove(os.path.join(path, dir1, dir2))\n",
    "        for dir3 in os.listdir((os.path.join(path, dir1, dir2))):\n",
    "             if dir3.startswith('.'):\n",
    "                os.remove(os.path.join(path, dir1, dir2, dir3))"
   ]
  },
  {
   "cell_type": "code",
   "execution_count": 4,
   "id": "aab4de6a",
   "metadata": {},
   "outputs": [],
   "source": [
    "#Check the same\n",
    "for dir1 in (os.listdir(path)):\n",
    "   if dir2.startswith('.'):\n",
    "    print('yes1')\n",
    "   for dir2 in os.listdir(os.path.join(path, dir1)):\n",
    "        if dir2.startswith('.'):\n",
    "            print('yes2')\n",
    "        for dir3 in os.listdir((os.path.join(path, dir1, dir2))):\n",
    "             if dir3.startswith('.'):\n",
    "                print('yes3')"
   ]
  },
  {
   "cell_type": "code",
   "execution_count": 5,
   "id": "e406c3fe",
   "metadata": {},
   "outputs": [
    {
     "data": {
      "application/vnd.jupyter.widget-view+json": {
       "model_id": "1f517658f0aa442d998a8c1f534b27fd",
       "version_major": 2,
       "version_minor": 0
      },
      "text/plain": [
       "  0%|          | 0/12 [00:00<?, ?it/s]"
      ]
     },
     "metadata": {},
     "output_type": "display_data"
    },
    {
     "data": {
      "application/vnd.jupyter.widget-view+json": {
       "model_id": "68d5e96c78094aec9e72fa3417734a58",
       "version_major": 2,
       "version_minor": 0
      },
      "text/plain": [
       "  0%|          | 0/31 [00:00<?, ?it/s]"
      ]
     },
     "metadata": {},
     "output_type": "display_data"
    },
    {
     "data": {
      "application/vnd.jupyter.widget-view+json": {
       "model_id": "e5c0c245b0854746b3020b05cead9e4f",
       "version_major": 2,
       "version_minor": 0
      },
      "text/plain": [
       "  0%|          | 0/484 [00:00<?, ?it/s]"
      ]
     },
     "metadata": {},
     "output_type": "display_data"
    },
    {
     "data": {
      "application/vnd.jupyter.widget-view+json": {
       "model_id": "37829d5709d04094b1f78a33c8ca5a66",
       "version_major": 2,
       "version_minor": 0
      },
      "text/plain": [
       "  0%|          | 0/406 [00:00<?, ?it/s]"
      ]
     },
     "metadata": {},
     "output_type": "display_data"
    },
    {
     "data": {
      "application/vnd.jupyter.widget-view+json": {
       "model_id": "6491bfc676a74015b327d200086ed0d8",
       "version_major": 2,
       "version_minor": 0
      },
      "text/plain": [
       "  0%|          | 0/415 [00:00<?, ?it/s]"
      ]
     },
     "metadata": {},
     "output_type": "display_data"
    },
    {
     "data": {
      "application/vnd.jupyter.widget-view+json": {
       "model_id": "721d6915c376415485874dae17dd09f7",
       "version_major": 2,
       "version_minor": 0
      },
      "text/plain": [
       "  0%|          | 0/468 [00:00<?, ?it/s]"
      ]
     },
     "metadata": {},
     "output_type": "display_data"
    },
    {
     "data": {
      "application/vnd.jupyter.widget-view+json": {
       "model_id": "41dff31e14f54ff69c43b90ae7773d2b",
       "version_major": 2,
       "version_minor": 0
      },
      "text/plain": [
       "  0%|          | 0/404 [00:00<?, ?it/s]"
      ]
     },
     "metadata": {},
     "output_type": "display_data"
    },
    {
     "data": {
      "application/vnd.jupyter.widget-view+json": {
       "model_id": "1ccd84efceb147e088d3c479775bcdfe",
       "version_major": 2,
       "version_minor": 0
      },
      "text/plain": [
       "  0%|          | 0/197 [00:00<?, ?it/s]"
      ]
     },
     "metadata": {},
     "output_type": "display_data"
    },
    {
     "data": {
      "application/vnd.jupyter.widget-view+json": {
       "model_id": "c807cff13788428c91d27b73717a337f",
       "version_major": 2,
       "version_minor": 0
      },
      "text/plain": [
       "  0%|          | 0/224 [00:00<?, ?it/s]"
      ]
     },
     "metadata": {},
     "output_type": "display_data"
    },
    {
     "data": {
      "application/vnd.jupyter.widget-view+json": {
       "model_id": "96bb6ebb0c774b57a9f2f9f3b9b166a1",
       "version_major": 2,
       "version_minor": 0
      },
      "text/plain": [
       "  0%|          | 0/290 [00:00<?, ?it/s]"
      ]
     },
     "metadata": {},
     "output_type": "display_data"
    },
    {
     "data": {
      "application/vnd.jupyter.widget-view+json": {
       "model_id": "97988dfd56534fcba0d24388e54d28b0",
       "version_major": 2,
       "version_minor": 0
      },
      "text/plain": [
       "  0%|          | 0/288 [00:00<?, ?it/s]"
      ]
     },
     "metadata": {},
     "output_type": "display_data"
    },
    {
     "data": {
      "application/vnd.jupyter.widget-view+json": {
       "model_id": "4259a1a5bf0a496491d0fd9ca3d1f9e3",
       "version_major": 2,
       "version_minor": 0
      },
      "text/plain": [
       "  0%|          | 0/434 [00:00<?, ?it/s]"
      ]
     },
     "metadata": {},
     "output_type": "display_data"
    },
    {
     "data": {
      "application/vnd.jupyter.widget-view+json": {
       "model_id": "b7b2ab213174490490cf915391125f14",
       "version_major": 2,
       "version_minor": 0
      },
      "text/plain": [
       "  0%|          | 0/499 [00:00<?, ?it/s]"
      ]
     },
     "metadata": {},
     "output_type": "display_data"
    },
    {
     "data": {
      "application/vnd.jupyter.widget-view+json": {
       "model_id": "b603f3d857d34b609f77f439812d8609",
       "version_major": 2,
       "version_minor": 0
      },
      "text/plain": [
       "  0%|          | 0/436 [00:00<?, ?it/s]"
      ]
     },
     "metadata": {},
     "output_type": "display_data"
    },
    {
     "data": {
      "application/vnd.jupyter.widget-view+json": {
       "model_id": "45156ce568e748838acfa31e43b4834b",
       "version_major": 2,
       "version_minor": 0
      },
      "text/plain": [
       "  0%|          | 0/424 [00:00<?, ?it/s]"
      ]
     },
     "metadata": {},
     "output_type": "display_data"
    },
    {
     "data": {
      "application/vnd.jupyter.widget-view+json": {
       "model_id": "5e9e65a3831c449ab55f78de88c9198e",
       "version_major": 2,
       "version_minor": 0
      },
      "text/plain": [
       "  0%|          | 0/442 [00:00<?, ?it/s]"
      ]
     },
     "metadata": {},
     "output_type": "display_data"
    },
    {
     "data": {
      "application/vnd.jupyter.widget-view+json": {
       "model_id": "a1cf14f2b9ed45de8f725755c68893a4",
       "version_major": 2,
       "version_minor": 0
      },
      "text/plain": [
       "  0%|          | 0/419 [00:00<?, ?it/s]"
      ]
     },
     "metadata": {},
     "output_type": "display_data"
    },
    {
     "data": {
      "application/vnd.jupyter.widget-view+json": {
       "model_id": "551858648b13483589be947316c4b739",
       "version_major": 2,
       "version_minor": 0
      },
      "text/plain": [
       "  0%|          | 0/307 [00:00<?, ?it/s]"
      ]
     },
     "metadata": {},
     "output_type": "display_data"
    },
    {
     "data": {
      "application/vnd.jupyter.widget-view+json": {
       "model_id": "3bbe45c027904e5da199909c8d4d90d4",
       "version_major": 2,
       "version_minor": 0
      },
      "text/plain": [
       "  0%|          | 0/389 [00:00<?, ?it/s]"
      ]
     },
     "metadata": {},
     "output_type": "display_data"
    },
    {
     "data": {
      "application/vnd.jupyter.widget-view+json": {
       "model_id": "a1b0ac9109ba4943b363c47dafe3792d",
       "version_major": 2,
       "version_minor": 0
      },
      "text/plain": [
       "  0%|          | 0/312 [00:00<?, ?it/s]"
      ]
     },
     "metadata": {},
     "output_type": "display_data"
    },
    {
     "data": {
      "application/vnd.jupyter.widget-view+json": {
       "model_id": "8b20f80bc9584ab29cc9cf1246809a9c",
       "version_major": 2,
       "version_minor": 0
      },
      "text/plain": [
       "  0%|          | 0/252 [00:00<?, ?it/s]"
      ]
     },
     "metadata": {},
     "output_type": "display_data"
    },
    {
     "data": {
      "application/vnd.jupyter.widget-view+json": {
       "model_id": "406ccd57a2ea47f588b516771065fe22",
       "version_major": 2,
       "version_minor": 0
      },
      "text/plain": [
       "  0%|          | 0/241 [00:00<?, ?it/s]"
      ]
     },
     "metadata": {},
     "output_type": "display_data"
    },
    {
     "data": {
      "application/vnd.jupyter.widget-view+json": {
       "model_id": "a6a06e015e9b4993bbe1c1cbef8691d6",
       "version_major": 2,
       "version_minor": 0
      },
      "text/plain": [
       "  0%|          | 0/317 [00:00<?, ?it/s]"
      ]
     },
     "metadata": {},
     "output_type": "display_data"
    },
    {
     "data": {
      "application/vnd.jupyter.widget-view+json": {
       "model_id": "82fb40c6b2fb495da17ab30f9522470f",
       "version_major": 2,
       "version_minor": 0
      },
      "text/plain": [
       "  0%|          | 0/441 [00:00<?, ?it/s]"
      ]
     },
     "metadata": {},
     "output_type": "display_data"
    },
    {
     "data": {
      "application/vnd.jupyter.widget-view+json": {
       "model_id": "620ff81144d64799b0a2de96893e7660",
       "version_major": 2,
       "version_minor": 0
      },
      "text/plain": [
       "  0%|          | 0/434 [00:00<?, ?it/s]"
      ]
     },
     "metadata": {},
     "output_type": "display_data"
    },
    {
     "data": {
      "application/vnd.jupyter.widget-view+json": {
       "model_id": "4c3cd91c359f4e7f8529226d07252193",
       "version_major": 2,
       "version_minor": 0
      },
      "text/plain": [
       "  0%|          | 0/287 [00:00<?, ?it/s]"
      ]
     },
     "metadata": {},
     "output_type": "display_data"
    },
    {
     "data": {
      "application/vnd.jupyter.widget-view+json": {
       "model_id": "1e454ed2dc1c4861a12073cb3f031e41",
       "version_major": 2,
       "version_minor": 0
      },
      "text/plain": [
       "  0%|          | 0/579 [00:00<?, ?it/s]"
      ]
     },
     "metadata": {},
     "output_type": "display_data"
    },
    {
     "data": {
      "application/vnd.jupyter.widget-view+json": {
       "model_id": "99e4472264044da0842608cb36a72892",
       "version_major": 2,
       "version_minor": 0
      },
      "text/plain": [
       "  0%|          | 0/396 [00:00<?, ?it/s]"
      ]
     },
     "metadata": {},
     "output_type": "display_data"
    },
    {
     "data": {
      "application/vnd.jupyter.widget-view+json": {
       "model_id": "008f09ca6e474c9ab0736e635c0f0b67",
       "version_major": 2,
       "version_minor": 0
      },
      "text/plain": [
       "  0%|          | 0/394 [00:00<?, ?it/s]"
      ]
     },
     "metadata": {},
     "output_type": "display_data"
    },
    {
     "data": {
      "application/vnd.jupyter.widget-view+json": {
       "model_id": "bd028c58425d45bba429241a2528d62c",
       "version_major": 2,
       "version_minor": 0
      },
      "text/plain": [
       "  0%|          | 0/344 [00:00<?, ?it/s]"
      ]
     },
     "metadata": {},
     "output_type": "display_data"
    },
    {
     "data": {
      "application/vnd.jupyter.widget-view+json": {
       "model_id": "ab9f576318804051835b7ee087f976a7",
       "version_major": 2,
       "version_minor": 0
      },
      "text/plain": [
       "  0%|          | 0/480 [00:00<?, ?it/s]"
      ]
     },
     "metadata": {},
     "output_type": "display_data"
    },
    {
     "data": {
      "application/vnd.jupyter.widget-view+json": {
       "model_id": "ba7f2b4fc297459a98f5c976acac258e",
       "version_major": 2,
       "version_minor": 0
      },
      "text/plain": [
       "  0%|          | 0/273 [00:00<?, ?it/s]"
      ]
     },
     "metadata": {},
     "output_type": "display_data"
    },
    {
     "data": {
      "application/vnd.jupyter.widget-view+json": {
       "model_id": "05e7e825bf024b29bc1bb633712f0e35",
       "version_major": 2,
       "version_minor": 0
      },
      "text/plain": [
       "  0%|          | 0/414 [00:00<?, ?it/s]"
      ]
     },
     "metadata": {},
     "output_type": "display_data"
    },
    {
     "data": {
      "application/vnd.jupyter.widget-view+json": {
       "model_id": "189b4d6f85cc4ab7a1999a7a8bb1d19f",
       "version_major": 2,
       "version_minor": 0
      },
      "text/plain": [
       "  0%|          | 0/30 [00:00<?, ?it/s]"
      ]
     },
     "metadata": {},
     "output_type": "display_data"
    },
    {
     "data": {
      "application/vnd.jupyter.widget-view+json": {
       "model_id": "3ecea53dd6cd4ecf98aa770a70139765",
       "version_major": 2,
       "version_minor": 0
      },
      "text/plain": [
       "  0%|          | 0/333 [00:00<?, ?it/s]"
      ]
     },
     "metadata": {},
     "output_type": "display_data"
    },
    {
     "data": {
      "application/vnd.jupyter.widget-view+json": {
       "model_id": "3a2d43302720428c906f756fb347013d",
       "version_major": 2,
       "version_minor": 0
      },
      "text/plain": [
       "  0%|          | 0/242 [00:00<?, ?it/s]"
      ]
     },
     "metadata": {},
     "output_type": "display_data"
    },
    {
     "data": {
      "application/vnd.jupyter.widget-view+json": {
       "model_id": "d3cecd91a6ca480a8ae1125877e36215",
       "version_major": 2,
       "version_minor": 0
      },
      "text/plain": [
       "  0%|          | 0/396 [00:00<?, ?it/s]"
      ]
     },
     "metadata": {},
     "output_type": "display_data"
    },
    {
     "data": {
      "application/vnd.jupyter.widget-view+json": {
       "model_id": "be4d07ef79c4491f840999e5a84c99d7",
       "version_major": 2,
       "version_minor": 0
      },
      "text/plain": [
       "  0%|          | 0/288 [00:00<?, ?it/s]"
      ]
     },
     "metadata": {},
     "output_type": "display_data"
    },
    {
     "data": {
      "application/vnd.jupyter.widget-view+json": {
       "model_id": "e7621242a7b04bffb6bf8dff666fdb6c",
       "version_major": 2,
       "version_minor": 0
      },
      "text/plain": [
       "  0%|          | 0/344 [00:00<?, ?it/s]"
      ]
     },
     "metadata": {},
     "output_type": "display_data"
    },
    {
     "data": {
      "application/vnd.jupyter.widget-view+json": {
       "model_id": "7d7a0f76e8d3496182e862711d38f6a6",
       "version_major": 2,
       "version_minor": 0
      },
      "text/plain": [
       "  0%|          | 0/398 [00:00<?, ?it/s]"
      ]
     },
     "metadata": {},
     "output_type": "display_data"
    },
    {
     "data": {
      "application/vnd.jupyter.widget-view+json": {
       "model_id": "1858c536ee0f4b81b032fe631533550d",
       "version_major": 2,
       "version_minor": 0
      },
      "text/plain": [
       "  0%|          | 0/444 [00:00<?, ?it/s]"
      ]
     },
     "metadata": {},
     "output_type": "display_data"
    },
    {
     "data": {
      "application/vnd.jupyter.widget-view+json": {
       "model_id": "d3a20f2f3c51468eb14fb413ad0398b9",
       "version_major": 2,
       "version_minor": 0
      },
      "text/plain": [
       "  0%|          | 0/389 [00:00<?, ?it/s]"
      ]
     },
     "metadata": {},
     "output_type": "display_data"
    },
    {
     "data": {
      "application/vnd.jupyter.widget-view+json": {
       "model_id": "dadf78a223d34ebc99b9e1662d897622",
       "version_major": 2,
       "version_minor": 0
      },
      "text/plain": [
       "  0%|          | 0/400 [00:00<?, ?it/s]"
      ]
     },
     "metadata": {},
     "output_type": "display_data"
    },
    {
     "data": {
      "application/vnd.jupyter.widget-view+json": {
       "model_id": "62231ce3e9314f40b88bdb73c7331140",
       "version_major": 2,
       "version_minor": 0
      },
      "text/plain": [
       "  0%|          | 0/286 [00:00<?, ?it/s]"
      ]
     },
     "metadata": {},
     "output_type": "display_data"
    },
    {
     "data": {
      "application/vnd.jupyter.widget-view+json": {
       "model_id": "cc1ccc447a634a3aa4608a0a4ecb3f30",
       "version_major": 2,
       "version_minor": 0
      },
      "text/plain": [
       "  0%|          | 0/444 [00:00<?, ?it/s]"
      ]
     },
     "metadata": {},
     "output_type": "display_data"
    },
    {
     "data": {
      "application/vnd.jupyter.widget-view+json": {
       "model_id": "73c42d00249643ffa6536fb537002a00",
       "version_major": 2,
       "version_minor": 0
      },
      "text/plain": [
       "  0%|          | 0/320 [00:00<?, ?it/s]"
      ]
     },
     "metadata": {},
     "output_type": "display_data"
    },
    {
     "data": {
      "application/vnd.jupyter.widget-view+json": {
       "model_id": "1f5bf4f22b92474d90f614a29e33cfa2",
       "version_major": 2,
       "version_minor": 0
      },
      "text/plain": [
       "  0%|          | 0/337 [00:00<?, ?it/s]"
      ]
     },
     "metadata": {},
     "output_type": "display_data"
    },
    {
     "data": {
      "application/vnd.jupyter.widget-view+json": {
       "model_id": "bb8d3a0c9698483a8639f202aa9f61fb",
       "version_major": 2,
       "version_minor": 0
      },
      "text/plain": [
       "  0%|          | 0/385 [00:00<?, ?it/s]"
      ]
     },
     "metadata": {},
     "output_type": "display_data"
    },
    {
     "data": {
      "application/vnd.jupyter.widget-view+json": {
       "model_id": "0fe8055c7a314b86b99e829a0df0ca89",
       "version_major": 2,
       "version_minor": 0
      },
      "text/plain": [
       "  0%|          | 0/245 [00:00<?, ?it/s]"
      ]
     },
     "metadata": {},
     "output_type": "display_data"
    },
    {
     "data": {
      "application/vnd.jupyter.widget-view+json": {
       "model_id": "a17894c6095443bbbdb38b9fb57419b0",
       "version_major": 2,
       "version_minor": 0
      },
      "text/plain": [
       "  0%|          | 0/327 [00:00<?, ?it/s]"
      ]
     },
     "metadata": {},
     "output_type": "display_data"
    },
    {
     "data": {
      "application/vnd.jupyter.widget-view+json": {
       "model_id": "c43426a8564847cab2f7c1f1c96a5760",
       "version_major": 2,
       "version_minor": 0
      },
      "text/plain": [
       "  0%|          | 0/382 [00:00<?, ?it/s]"
      ]
     },
     "metadata": {},
     "output_type": "display_data"
    },
    {
     "data": {
      "application/vnd.jupyter.widget-view+json": {
       "model_id": "078a35f17c1f42af8c67e0316a247a96",
       "version_major": 2,
       "version_minor": 0
      },
      "text/plain": [
       "  0%|          | 0/378 [00:00<?, ?it/s]"
      ]
     },
     "metadata": {},
     "output_type": "display_data"
    },
    {
     "data": {
      "application/vnd.jupyter.widget-view+json": {
       "model_id": "5b91008f0e414462b7e81f4a0576da96",
       "version_major": 2,
       "version_minor": 0
      },
      "text/plain": [
       "  0%|          | 0/378 [00:00<?, ?it/s]"
      ]
     },
     "metadata": {},
     "output_type": "display_data"
    },
    {
     "data": {
      "application/vnd.jupyter.widget-view+json": {
       "model_id": "dae951e31d92436fbefbbc41659a6d8d",
       "version_major": 2,
       "version_minor": 0
      },
      "text/plain": [
       "  0%|          | 0/413 [00:00<?, ?it/s]"
      ]
     },
     "metadata": {},
     "output_type": "display_data"
    },
    {
     "data": {
      "application/vnd.jupyter.widget-view+json": {
       "model_id": "02e56c4bb848446a94ebe80685a9bf5b",
       "version_major": 2,
       "version_minor": 0
      },
      "text/plain": [
       "  0%|          | 0/415 [00:00<?, ?it/s]"
      ]
     },
     "metadata": {},
     "output_type": "display_data"
    },
    {
     "data": {
      "application/vnd.jupyter.widget-view+json": {
       "model_id": "8002681e7a9947368b99b9ae855ceb8f",
       "version_major": 2,
       "version_minor": 0
      },
      "text/plain": [
       "  0%|          | 0/426 [00:00<?, ?it/s]"
      ]
     },
     "metadata": {},
     "output_type": "display_data"
    },
    {
     "data": {
      "application/vnd.jupyter.widget-view+json": {
       "model_id": "6e2f130fcb404ec6bf433538046e82b3",
       "version_major": 2,
       "version_minor": 0
      },
      "text/plain": [
       "  0%|          | 0/412 [00:00<?, ?it/s]"
      ]
     },
     "metadata": {},
     "output_type": "display_data"
    },
    {
     "data": {
      "application/vnd.jupyter.widget-view+json": {
       "model_id": "8558c861617e4358ab9a1f0cbf227384",
       "version_major": 2,
       "version_minor": 0
      },
      "text/plain": [
       "  0%|          | 0/425 [00:00<?, ?it/s]"
      ]
     },
     "metadata": {},
     "output_type": "display_data"
    },
    {
     "data": {
      "application/vnd.jupyter.widget-view+json": {
       "model_id": "0e4e8f68fcf144669d670a4992f30352",
       "version_major": 2,
       "version_minor": 0
      },
      "text/plain": [
       "  0%|          | 0/286 [00:00<?, ?it/s]"
      ]
     },
     "metadata": {},
     "output_type": "display_data"
    },
    {
     "data": {
      "application/vnd.jupyter.widget-view+json": {
       "model_id": "5c66382c1cf9424a85e727cb76778697",
       "version_major": 2,
       "version_minor": 0
      },
      "text/plain": [
       "  0%|          | 0/384 [00:00<?, ?it/s]"
      ]
     },
     "metadata": {},
     "output_type": "display_data"
    },
    {
     "data": {
      "application/vnd.jupyter.widget-view+json": {
       "model_id": "f0225d12e0084c6186fef19fc3cfaf98",
       "version_major": 2,
       "version_minor": 0
      },
      "text/plain": [
       "  0%|          | 0/184 [00:00<?, ?it/s]"
      ]
     },
     "metadata": {},
     "output_type": "display_data"
    },
    {
     "data": {
      "application/vnd.jupyter.widget-view+json": {
       "model_id": "b93a39e48d5d465e812d5f88c33d95cd",
       "version_major": 2,
       "version_minor": 0
      },
      "text/plain": [
       "  0%|          | 0/256 [00:00<?, ?it/s]"
      ]
     },
     "metadata": {},
     "output_type": "display_data"
    },
    {
     "data": {
      "application/vnd.jupyter.widget-view+json": {
       "model_id": "0b994ca05d1a497ea67181ff459c066c",
       "version_major": 2,
       "version_minor": 0
      },
      "text/plain": [
       "  0%|          | 0/427 [00:00<?, ?it/s]"
      ]
     },
     "metadata": {},
     "output_type": "display_data"
    },
    {
     "data": {
      "application/vnd.jupyter.widget-view+json": {
       "model_id": "bea2a35715e54fd0a445bb4c91b10658",
       "version_major": 2,
       "version_minor": 0
      },
      "text/plain": [
       "  0%|          | 0/357 [00:00<?, ?it/s]"
      ]
     },
     "metadata": {},
     "output_type": "display_data"
    },
    {
     "data": {
      "application/vnd.jupyter.widget-view+json": {
       "model_id": "a786c4e7999f4b78a07c4e1a1ad1e851",
       "version_major": 2,
       "version_minor": 0
      },
      "text/plain": [
       "  0%|          | 0/28 [00:00<?, ?it/s]"
      ]
     },
     "metadata": {},
     "output_type": "display_data"
    },
    {
     "data": {
      "application/vnd.jupyter.widget-view+json": {
       "model_id": "df979e55e73d4676a2185274874d6760",
       "version_major": 2,
       "version_minor": 0
      },
      "text/plain": [
       "  0%|          | 0/533 [00:00<?, ?it/s]"
      ]
     },
     "metadata": {},
     "output_type": "display_data"
    },
    {
     "data": {
      "application/vnd.jupyter.widget-view+json": {
       "model_id": "0fcbd02c8d914ce98bbbfa5d392a372b",
       "version_major": 2,
       "version_minor": 0
      },
      "text/plain": [
       "  0%|          | 0/537 [00:00<?, ?it/s]"
      ]
     },
     "metadata": {},
     "output_type": "display_data"
    },
    {
     "data": {
      "application/vnd.jupyter.widget-view+json": {
       "model_id": "1606433db6af43e0b52bcf99b41a2871",
       "version_major": 2,
       "version_minor": 0
      },
      "text/plain": [
       "  0%|          | 0/498 [00:00<?, ?it/s]"
      ]
     },
     "metadata": {},
     "output_type": "display_data"
    },
    {
     "data": {
      "application/vnd.jupyter.widget-view+json": {
       "model_id": "dfb13d29bd68432796cb1b1ad07207fa",
       "version_major": 2,
       "version_minor": 0
      },
      "text/plain": [
       "  0%|          | 0/440 [00:00<?, ?it/s]"
      ]
     },
     "metadata": {},
     "output_type": "display_data"
    },
    {
     "data": {
      "application/vnd.jupyter.widget-view+json": {
       "model_id": "7d91bf33872e4dce95ec8f9772f05d34",
       "version_major": 2,
       "version_minor": 0
      },
      "text/plain": [
       "  0%|          | 0/299 [00:00<?, ?it/s]"
      ]
     },
     "metadata": {},
     "output_type": "display_data"
    },
    {
     "data": {
      "application/vnd.jupyter.widget-view+json": {
       "model_id": "310b0bc5bf0e4ef39bb5a9128469aae5",
       "version_major": 2,
       "version_minor": 0
      },
      "text/plain": [
       "  0%|          | 0/495 [00:00<?, ?it/s]"
      ]
     },
     "metadata": {},
     "output_type": "display_data"
    },
    {
     "data": {
      "application/vnd.jupyter.widget-view+json": {
       "model_id": "8a44286af94e44a78b7c80baaad5570b",
       "version_major": 2,
       "version_minor": 0
      },
      "text/plain": [
       "  0%|          | 0/513 [00:00<?, ?it/s]"
      ]
     },
     "metadata": {},
     "output_type": "display_data"
    },
    {
     "data": {
      "application/vnd.jupyter.widget-view+json": {
       "model_id": "f37eaa22ebbf44d1963b332b717ad542",
       "version_major": 2,
       "version_minor": 0
      },
      "text/plain": [
       "  0%|          | 0/481 [00:00<?, ?it/s]"
      ]
     },
     "metadata": {},
     "output_type": "display_data"
    },
    {
     "data": {
      "application/vnd.jupyter.widget-view+json": {
       "model_id": "bf31d05b4e6a463ebe561bb3fd0cc60a",
       "version_major": 2,
       "version_minor": 0
      },
      "text/plain": [
       "  0%|          | 0/261 [00:00<?, ?it/s]"
      ]
     },
     "metadata": {},
     "output_type": "display_data"
    },
    {
     "data": {
      "application/vnd.jupyter.widget-view+json": {
       "model_id": "883e956592874be19cb69479bf54b909",
       "version_major": 2,
       "version_minor": 0
      },
      "text/plain": [
       "  0%|          | 0/312 [00:00<?, ?it/s]"
      ]
     },
     "metadata": {},
     "output_type": "display_data"
    },
    {
     "data": {
      "application/vnd.jupyter.widget-view+json": {
       "model_id": "61dde6f55bfd4e7bb42c5023aeba2595",
       "version_major": 2,
       "version_minor": 0
      },
      "text/plain": [
       "  0%|          | 0/253 [00:00<?, ?it/s]"
      ]
     },
     "metadata": {},
     "output_type": "display_data"
    },
    {
     "data": {
      "application/vnd.jupyter.widget-view+json": {
       "model_id": "8a868d95f018441a889cb2eea3d8a26f",
       "version_major": 2,
       "version_minor": 0
      },
      "text/plain": [
       "  0%|          | 0/308 [00:00<?, ?it/s]"
      ]
     },
     "metadata": {},
     "output_type": "display_data"
    },
    {
     "data": {
      "application/vnd.jupyter.widget-view+json": {
       "model_id": "188b38fd5025427a831a6108c42e812c",
       "version_major": 2,
       "version_minor": 0
      },
      "text/plain": [
       "  0%|          | 0/429 [00:00<?, ?it/s]"
      ]
     },
     "metadata": {},
     "output_type": "display_data"
    },
    {
     "data": {
      "application/vnd.jupyter.widget-view+json": {
       "model_id": "200d11a904284b69b37c137fe5cbe0cf",
       "version_major": 2,
       "version_minor": 0
      },
      "text/plain": [
       "  0%|          | 0/543 [00:00<?, ?it/s]"
      ]
     },
     "metadata": {},
     "output_type": "display_data"
    },
    {
     "data": {
      "application/vnd.jupyter.widget-view+json": {
       "model_id": "62dc32a064a649e2bcec9dd265dc4891",
       "version_major": 2,
       "version_minor": 0
      },
      "text/plain": [
       "  0%|          | 0/358 [00:00<?, ?it/s]"
      ]
     },
     "metadata": {},
     "output_type": "display_data"
    },
    {
     "data": {
      "application/vnd.jupyter.widget-view+json": {
       "model_id": "4365878a045b46e49fed3fb0356ac188",
       "version_major": 2,
       "version_minor": 0
      },
      "text/plain": [
       "  0%|          | 0/440 [00:00<?, ?it/s]"
      ]
     },
     "metadata": {},
     "output_type": "display_data"
    },
    {
     "data": {
      "application/vnd.jupyter.widget-view+json": {
       "model_id": "c88060f03ffa4c0092e2e0ecf8270ffc",
       "version_major": 2,
       "version_minor": 0
      },
      "text/plain": [
       "  0%|          | 0/441 [00:00<?, ?it/s]"
      ]
     },
     "metadata": {},
     "output_type": "display_data"
    },
    {
     "data": {
      "application/vnd.jupyter.widget-view+json": {
       "model_id": "665c556e797a417baf19b8b2833e68b6",
       "version_major": 2,
       "version_minor": 0
      },
      "text/plain": [
       "  0%|          | 0/423 [00:00<?, ?it/s]"
      ]
     },
     "metadata": {},
     "output_type": "display_data"
    },
    {
     "data": {
      "application/vnd.jupyter.widget-view+json": {
       "model_id": "ea9ef927c782416a9aed821aa06fba9d",
       "version_major": 2,
       "version_minor": 0
      },
      "text/plain": [
       "  0%|          | 0/461 [00:00<?, ?it/s]"
      ]
     },
     "metadata": {},
     "output_type": "display_data"
    },
    {
     "data": {
      "application/vnd.jupyter.widget-view+json": {
       "model_id": "5b7e80ee50ea4383b91f89996c016a3a",
       "version_major": 2,
       "version_minor": 0
      },
      "text/plain": [
       "  0%|          | 0/274 [00:00<?, ?it/s]"
      ]
     },
     "metadata": {},
     "output_type": "display_data"
    },
    {
     "data": {
      "application/vnd.jupyter.widget-view+json": {
       "model_id": "0268bf632ce046478a1e6f237a29b84f",
       "version_major": 2,
       "version_minor": 0
      },
      "text/plain": [
       "  0%|          | 0/515 [00:00<?, ?it/s]"
      ]
     },
     "metadata": {},
     "output_type": "display_data"
    },
    {
     "data": {
      "application/vnd.jupyter.widget-view+json": {
       "model_id": "77ed84210b3b450f9f1a680cf7c2fad7",
       "version_major": 2,
       "version_minor": 0
      },
      "text/plain": [
       "  0%|          | 0/360 [00:00<?, ?it/s]"
      ]
     },
     "metadata": {},
     "output_type": "display_data"
    },
    {
     "data": {
      "application/vnd.jupyter.widget-view+json": {
       "model_id": "d3bdea3351a844508035b25e81e71fa3",
       "version_major": 2,
       "version_minor": 0
      },
      "text/plain": [
       "  0%|          | 0/432 [00:00<?, ?it/s]"
      ]
     },
     "metadata": {},
     "output_type": "display_data"
    },
    {
     "data": {
      "application/vnd.jupyter.widget-view+json": {
       "model_id": "fc7866bb65a4455db1cc76a0bd6382b0",
       "version_major": 2,
       "version_minor": 0
      },
      "text/plain": [
       "  0%|          | 0/331 [00:00<?, ?it/s]"
      ]
     },
     "metadata": {},
     "output_type": "display_data"
    },
    {
     "data": {
      "application/vnd.jupyter.widget-view+json": {
       "model_id": "dfa426e8dde04fdfa19d603c75f88999",
       "version_major": 2,
       "version_minor": 0
      },
      "text/plain": [
       "  0%|          | 0/499 [00:00<?, ?it/s]"
      ]
     },
     "metadata": {},
     "output_type": "display_data"
    },
    {
     "data": {
      "application/vnd.jupyter.widget-view+json": {
       "model_id": "502d550c3020435698b484b76cede16f",
       "version_major": 2,
       "version_minor": 0
      },
      "text/plain": [
       "  0%|          | 0/481 [00:00<?, ?it/s]"
      ]
     },
     "metadata": {},
     "output_type": "display_data"
    },
    {
     "data": {
      "application/vnd.jupyter.widget-view+json": {
       "model_id": "83214e2009314b748ee329d2ca1a43f3",
       "version_major": 2,
       "version_minor": 0
      },
      "text/plain": [
       "  0%|          | 0/430 [00:00<?, ?it/s]"
      ]
     },
     "metadata": {},
     "output_type": "display_data"
    },
    {
     "data": {
      "application/vnd.jupyter.widget-view+json": {
       "model_id": "f210f98107c440d5b50a42f2de2d5063",
       "version_major": 2,
       "version_minor": 0
      },
      "text/plain": [
       "  0%|          | 0/527 [00:00<?, ?it/s]"
      ]
     },
     "metadata": {},
     "output_type": "display_data"
    },
    {
     "data": {
      "application/vnd.jupyter.widget-view+json": {
       "model_id": "ade2d012d3ca4477a728e7c2a5f327b9",
       "version_major": 2,
       "version_minor": 0
      },
      "text/plain": [
       "  0%|          | 0/30 [00:00<?, ?it/s]"
      ]
     },
     "metadata": {},
     "output_type": "display_data"
    },
    {
     "data": {
      "application/vnd.jupyter.widget-view+json": {
       "model_id": "805510505a69449283f1d180eef18147",
       "version_major": 2,
       "version_minor": 0
      },
      "text/plain": [
       "  0%|          | 0/253 [00:00<?, ?it/s]"
      ]
     },
     "metadata": {},
     "output_type": "display_data"
    },
    {
     "data": {
      "application/vnd.jupyter.widget-view+json": {
       "model_id": "0dc21fabf9e047428fb83fedd5f0ec2c",
       "version_major": 2,
       "version_minor": 0
      },
      "text/plain": [
       "  0%|          | 0/247 [00:00<?, ?it/s]"
      ]
     },
     "metadata": {},
     "output_type": "display_data"
    },
    {
     "data": {
      "application/vnd.jupyter.widget-view+json": {
       "model_id": "ff43107429da4c048b2c5f3c6353cdca",
       "version_major": 2,
       "version_minor": 0
      },
      "text/plain": [
       "  0%|          | 0/419 [00:00<?, ?it/s]"
      ]
     },
     "metadata": {},
     "output_type": "display_data"
    },
    {
     "data": {
      "application/vnd.jupyter.widget-view+json": {
       "model_id": "e05f8423978c423782571ed6c0c77a56",
       "version_major": 2,
       "version_minor": 0
      },
      "text/plain": [
       "  0%|          | 0/269 [00:00<?, ?it/s]"
      ]
     },
     "metadata": {},
     "output_type": "display_data"
    },
    {
     "data": {
      "application/vnd.jupyter.widget-view+json": {
       "model_id": "770464441eed4932a067dc780469c4a5",
       "version_major": 2,
       "version_minor": 0
      },
      "text/plain": [
       "  0%|          | 0/325 [00:00<?, ?it/s]"
      ]
     },
     "metadata": {},
     "output_type": "display_data"
    },
    {
     "data": {
      "application/vnd.jupyter.widget-view+json": {
       "model_id": "0ecf5fa776134cfea7520bf5b8609f06",
       "version_major": 2,
       "version_minor": 0
      },
      "text/plain": [
       "  0%|          | 0/446 [00:00<?, ?it/s]"
      ]
     },
     "metadata": {},
     "output_type": "display_data"
    },
    {
     "data": {
      "application/vnd.jupyter.widget-view+json": {
       "model_id": "02dc5ee6389849379bd8f000487df20c",
       "version_major": 2,
       "version_minor": 0
      },
      "text/plain": [
       "  0%|          | 0/411 [00:00<?, ?it/s]"
      ]
     },
     "metadata": {},
     "output_type": "display_data"
    },
    {
     "data": {
      "application/vnd.jupyter.widget-view+json": {
       "model_id": "30f76a9a845e41ea9a9c304073416a99",
       "version_major": 2,
       "version_minor": 0
      },
      "text/plain": [
       "  0%|          | 0/440 [00:00<?, ?it/s]"
      ]
     },
     "metadata": {},
     "output_type": "display_data"
    },
    {
     "data": {
      "application/vnd.jupyter.widget-view+json": {
       "model_id": "68aa0d001c214ff78227227ea604316a",
       "version_major": 2,
       "version_minor": 0
      },
      "text/plain": [
       "  0%|          | 0/400 [00:00<?, ?it/s]"
      ]
     },
     "metadata": {},
     "output_type": "display_data"
    },
    {
     "data": {
      "application/vnd.jupyter.widget-view+json": {
       "model_id": "cc07001401a44dc892249cc315c7f030",
       "version_major": 2,
       "version_minor": 0
      },
      "text/plain": [
       "  0%|          | 0/429 [00:00<?, ?it/s]"
      ]
     },
     "metadata": {},
     "output_type": "display_data"
    },
    {
     "data": {
      "application/vnd.jupyter.widget-view+json": {
       "model_id": "e7bcdd6a83164353b06f2562f546e831",
       "version_major": 2,
       "version_minor": 0
      },
      "text/plain": [
       "  0%|          | 0/264 [00:00<?, ?it/s]"
      ]
     },
     "metadata": {},
     "output_type": "display_data"
    },
    {
     "data": {
      "application/vnd.jupyter.widget-view+json": {
       "model_id": "862a17b8f41f4b0b9a811bd72628fdf8",
       "version_major": 2,
       "version_minor": 0
      },
      "text/plain": [
       "  0%|          | 0/300 [00:00<?, ?it/s]"
      ]
     },
     "metadata": {},
     "output_type": "display_data"
    },
    {
     "data": {
      "application/vnd.jupyter.widget-view+json": {
       "model_id": "efc3bebd5dab479f9ac8e2985ccd80ba",
       "version_major": 2,
       "version_minor": 0
      },
      "text/plain": [
       "  0%|          | 0/250 [00:00<?, ?it/s]"
      ]
     },
     "metadata": {},
     "output_type": "display_data"
    },
    {
     "data": {
      "application/vnd.jupyter.widget-view+json": {
       "model_id": "4e69780d79ec443a82b6443cba134382",
       "version_major": 2,
       "version_minor": 0
      },
      "text/plain": [
       "  0%|          | 0/442 [00:00<?, ?it/s]"
      ]
     },
     "metadata": {},
     "output_type": "display_data"
    },
    {
     "data": {
      "application/vnd.jupyter.widget-view+json": {
       "model_id": "91ca0a484e9547659f664d233fc48abb",
       "version_major": 2,
       "version_minor": 0
      },
      "text/plain": [
       "  0%|          | 0/414 [00:00<?, ?it/s]"
      ]
     },
     "metadata": {},
     "output_type": "display_data"
    },
    {
     "data": {
      "application/vnd.jupyter.widget-view+json": {
       "model_id": "e67bdb52e5e840fcb264e8aec3e298a9",
       "version_major": 2,
       "version_minor": 0
      },
      "text/plain": [
       "  0%|          | 0/423 [00:00<?, ?it/s]"
      ]
     },
     "metadata": {},
     "output_type": "display_data"
    },
    {
     "data": {
      "application/vnd.jupyter.widget-view+json": {
       "model_id": "8e2686f301b64046aaf3fca01df0f5c9",
       "version_major": 2,
       "version_minor": 0
      },
      "text/plain": [
       "  0%|          | 0/374 [00:00<?, ?it/s]"
      ]
     },
     "metadata": {},
     "output_type": "display_data"
    },
    {
     "data": {
      "application/vnd.jupyter.widget-view+json": {
       "model_id": "10290adf28ea4c87995e1285ab59e149",
       "version_major": 2,
       "version_minor": 0
      },
      "text/plain": [
       "  0%|          | 0/490 [00:00<?, ?it/s]"
      ]
     },
     "metadata": {},
     "output_type": "display_data"
    },
    {
     "data": {
      "application/vnd.jupyter.widget-view+json": {
       "model_id": "bacfd7d0449b4aa8b764ca2201c23445",
       "version_major": 2,
       "version_minor": 0
      },
      "text/plain": [
       "  0%|          | 0/439 [00:00<?, ?it/s]"
      ]
     },
     "metadata": {},
     "output_type": "display_data"
    },
    {
     "data": {
      "application/vnd.jupyter.widget-view+json": {
       "model_id": "52ce2164ff5644ceacf8c79ee1c22715",
       "version_major": 2,
       "version_minor": 0
      },
      "text/plain": [
       "  0%|          | 0/419 [00:00<?, ?it/s]"
      ]
     },
     "metadata": {},
     "output_type": "display_data"
    },
    {
     "data": {
      "application/vnd.jupyter.widget-view+json": {
       "model_id": "883e015b06cd491083e76f4d9700648c",
       "version_major": 2,
       "version_minor": 0
      },
      "text/plain": [
       "  0%|          | 0/425 [00:00<?, ?it/s]"
      ]
     },
     "metadata": {},
     "output_type": "display_data"
    },
    {
     "data": {
      "application/vnd.jupyter.widget-view+json": {
       "model_id": "fabea6775c7d450699082d90bc606ddd",
       "version_major": 2,
       "version_minor": 0
      },
      "text/plain": [
       "  0%|          | 0/460 [00:00<?, ?it/s]"
      ]
     },
     "metadata": {},
     "output_type": "display_data"
    },
    {
     "data": {
      "application/vnd.jupyter.widget-view+json": {
       "model_id": "5b3980c7c2664313a78eb179d7d9c81e",
       "version_major": 2,
       "version_minor": 0
      },
      "text/plain": [
       "  0%|          | 0/504 [00:00<?, ?it/s]"
      ]
     },
     "metadata": {},
     "output_type": "display_data"
    },
    {
     "data": {
      "application/vnd.jupyter.widget-view+json": {
       "model_id": "8255440e4ae84a70bb70f1552048ddb4",
       "version_major": 2,
       "version_minor": 0
      },
      "text/plain": [
       "  0%|          | 0/476 [00:00<?, ?it/s]"
      ]
     },
     "metadata": {},
     "output_type": "display_data"
    },
    {
     "data": {
      "application/vnd.jupyter.widget-view+json": {
       "model_id": "5f1f5c46b84c46eabe64cf0004add35a",
       "version_major": 2,
       "version_minor": 0
      },
      "text/plain": [
       "  0%|          | 0/295 [00:00<?, ?it/s]"
      ]
     },
     "metadata": {},
     "output_type": "display_data"
    },
    {
     "data": {
      "application/vnd.jupyter.widget-view+json": {
       "model_id": "6bc9aef84b1d492e95e7710282842337",
       "version_major": 2,
       "version_minor": 0
      },
      "text/plain": [
       "  0%|          | 0/381 [00:00<?, ?it/s]"
      ]
     },
     "metadata": {},
     "output_type": "display_data"
    },
    {
     "data": {
      "application/vnd.jupyter.widget-view+json": {
       "model_id": "2e7a4745f7744a51a7c63dd82c79c995",
       "version_major": 2,
       "version_minor": 0
      },
      "text/plain": [
       "  0%|          | 0/426 [00:00<?, ?it/s]"
      ]
     },
     "metadata": {},
     "output_type": "display_data"
    },
    {
     "data": {
      "application/vnd.jupyter.widget-view+json": {
       "model_id": "4f6d644e0a92403fa9daefc9d5a40dc1",
       "version_major": 2,
       "version_minor": 0
      },
      "text/plain": [
       "  0%|          | 0/369 [00:00<?, ?it/s]"
      ]
     },
     "metadata": {},
     "output_type": "display_data"
    },
    {
     "data": {
      "application/vnd.jupyter.widget-view+json": {
       "model_id": "d3e46be5cfa44e7397c922c52a33abf2",
       "version_major": 2,
       "version_minor": 0
      },
      "text/plain": [
       "  0%|          | 0/480 [00:00<?, ?it/s]"
      ]
     },
     "metadata": {},
     "output_type": "display_data"
    },
    {
     "data": {
      "application/vnd.jupyter.widget-view+json": {
       "model_id": "86204300d709484faaa25cc3a253ad71",
       "version_major": 2,
       "version_minor": 0
      },
      "text/plain": [
       "  0%|          | 0/429 [00:00<?, ?it/s]"
      ]
     },
     "metadata": {},
     "output_type": "display_data"
    },
    {
     "data": {
      "application/vnd.jupyter.widget-view+json": {
       "model_id": "9acd32f7f3bb4570967e658c9af2cc38",
       "version_major": 2,
       "version_minor": 0
      },
      "text/plain": [
       "  0%|          | 0/31 [00:00<?, ?it/s]"
      ]
     },
     "metadata": {},
     "output_type": "display_data"
    },
    {
     "data": {
      "application/vnd.jupyter.widget-view+json": {
       "model_id": "78e35a07ed6344a2b5cb50b3135bf5fb",
       "version_major": 2,
       "version_minor": 0
      },
      "text/plain": [
       "  0%|          | 0/482 [00:00<?, ?it/s]"
      ]
     },
     "metadata": {},
     "output_type": "display_data"
    },
    {
     "data": {
      "application/vnd.jupyter.widget-view+json": {
       "model_id": "3c165c9a50ad4f17881dc44d45355e8b",
       "version_major": 2,
       "version_minor": 0
      },
      "text/plain": [
       "  0%|          | 0/460 [00:00<?, ?it/s]"
      ]
     },
     "metadata": {},
     "output_type": "display_data"
    },
    {
     "data": {
      "application/vnd.jupyter.widget-view+json": {
       "model_id": "3afee3a88a584104ae55608e4d93d622",
       "version_major": 2,
       "version_minor": 0
      },
      "text/plain": [
       "  0%|          | 0/459 [00:00<?, ?it/s]"
      ]
     },
     "metadata": {},
     "output_type": "display_data"
    },
    {
     "data": {
      "application/vnd.jupyter.widget-view+json": {
       "model_id": "4e3a9645d171434597c5574955b4aad3",
       "version_major": 2,
       "version_minor": 0
      },
      "text/plain": [
       "  0%|          | 0/448 [00:00<?, ?it/s]"
      ]
     },
     "metadata": {},
     "output_type": "display_data"
    },
    {
     "data": {
      "application/vnd.jupyter.widget-view+json": {
       "model_id": "037057d70a5547b78c235332abd77d6d",
       "version_major": 2,
       "version_minor": 0
      },
      "text/plain": [
       "  0%|          | 0/255 [00:00<?, ?it/s]"
      ]
     },
     "metadata": {},
     "output_type": "display_data"
    },
    {
     "data": {
      "application/vnd.jupyter.widget-view+json": {
       "model_id": "4df070fad6f248da8217d516ed8bdeca",
       "version_major": 2,
       "version_minor": 0
      },
      "text/plain": [
       "  0%|          | 0/460 [00:00<?, ?it/s]"
      ]
     },
     "metadata": {},
     "output_type": "display_data"
    },
    {
     "data": {
      "application/vnd.jupyter.widget-view+json": {
       "model_id": "9accf40e060d46e290a5a996aec35725",
       "version_major": 2,
       "version_minor": 0
      },
      "text/plain": [
       "  0%|          | 0/448 [00:00<?, ?it/s]"
      ]
     },
     "metadata": {},
     "output_type": "display_data"
    },
    {
     "data": {
      "application/vnd.jupyter.widget-view+json": {
       "model_id": "e78f5e2708fc414c88e41e7c83314949",
       "version_major": 2,
       "version_minor": 0
      },
      "text/plain": [
       "  0%|          | 0/438 [00:00<?, ?it/s]"
      ]
     },
     "metadata": {},
     "output_type": "display_data"
    },
    {
     "data": {
      "application/vnd.jupyter.widget-view+json": {
       "model_id": "6bb7c4d54e1c48728b3bcae289fc62d7",
       "version_major": 2,
       "version_minor": 0
      },
      "text/plain": [
       "  0%|          | 0/432 [00:00<?, ?it/s]"
      ]
     },
     "metadata": {},
     "output_type": "display_data"
    },
    {
     "data": {
      "application/vnd.jupyter.widget-view+json": {
       "model_id": "cd3d0f094bc5427b8724c03c9f2656f0",
       "version_major": 2,
       "version_minor": 0
      },
      "text/plain": [
       "  0%|          | 0/501 [00:00<?, ?it/s]"
      ]
     },
     "metadata": {},
     "output_type": "display_data"
    },
    {
     "data": {
      "application/vnd.jupyter.widget-view+json": {
       "model_id": "4de1d4c76ae04bdfb864196dc42bdbab",
       "version_major": 2,
       "version_minor": 0
      },
      "text/plain": [
       "  0%|          | 0/284 [00:00<?, ?it/s]"
      ]
     },
     "metadata": {},
     "output_type": "display_data"
    },
    {
     "data": {
      "application/vnd.jupyter.widget-view+json": {
       "model_id": "7dacdcd4038f44c5bb1a2201b2a1db3e",
       "version_major": 2,
       "version_minor": 0
      },
      "text/plain": [
       "  0%|          | 0/269 [00:00<?, ?it/s]"
      ]
     },
     "metadata": {},
     "output_type": "display_data"
    },
    {
     "data": {
      "application/vnd.jupyter.widget-view+json": {
       "model_id": "eeb214566d29434296bcb5b60cf3dd52",
       "version_major": 2,
       "version_minor": 0
      },
      "text/plain": [
       "  0%|          | 0/259 [00:00<?, ?it/s]"
      ]
     },
     "metadata": {},
     "output_type": "display_data"
    },
    {
     "data": {
      "application/vnd.jupyter.widget-view+json": {
       "model_id": "81ae41faab224729a5327ec865dbb4cd",
       "version_major": 2,
       "version_minor": 0
      },
      "text/plain": [
       "  0%|          | 0/259 [00:00<?, ?it/s]"
      ]
     },
     "metadata": {},
     "output_type": "display_data"
    },
    {
     "data": {
      "application/vnd.jupyter.widget-view+json": {
       "model_id": "3822bb7cbf8449e68a9ff6fdde164a3e",
       "version_major": 2,
       "version_minor": 0
      },
      "text/plain": [
       "  0%|          | 0/510 [00:00<?, ?it/s]"
      ]
     },
     "metadata": {},
     "output_type": "display_data"
    },
    {
     "data": {
      "application/vnd.jupyter.widget-view+json": {
       "model_id": "a6dc7b98097b4a1e8494a9987ac48d38",
       "version_major": 2,
       "version_minor": 0
      },
      "text/plain": [
       "  0%|          | 0/559 [00:00<?, ?it/s]"
      ]
     },
     "metadata": {},
     "output_type": "display_data"
    },
    {
     "data": {
      "application/vnd.jupyter.widget-view+json": {
       "model_id": "ddfa0bee92eb473cbff93183c9ebb66b",
       "version_major": 2,
       "version_minor": 0
      },
      "text/plain": [
       "  0%|          | 0/304 [00:00<?, ?it/s]"
      ]
     },
     "metadata": {},
     "output_type": "display_data"
    },
    {
     "data": {
      "application/vnd.jupyter.widget-view+json": {
       "model_id": "6f0ff8084dce41868a5ed477a90c345c",
       "version_major": 2,
       "version_minor": 0
      },
      "text/plain": [
       "  0%|          | 0/476 [00:00<?, ?it/s]"
      ]
     },
     "metadata": {},
     "output_type": "display_data"
    },
    {
     "data": {
      "application/vnd.jupyter.widget-view+json": {
       "model_id": "eed9808b5a1e4241a3fd040f66c75c5e",
       "version_major": 2,
       "version_minor": 0
      },
      "text/plain": [
       "  0%|          | 0/428 [00:00<?, ?it/s]"
      ]
     },
     "metadata": {},
     "output_type": "display_data"
    },
    {
     "data": {
      "application/vnd.jupyter.widget-view+json": {
       "model_id": "ab33a4569bd841e69824b82751b53367",
       "version_major": 2,
       "version_minor": 0
      },
      "text/plain": [
       "  0%|          | 0/409 [00:00<?, ?it/s]"
      ]
     },
     "metadata": {},
     "output_type": "display_data"
    },
    {
     "data": {
      "application/vnd.jupyter.widget-view+json": {
       "model_id": "c1347b37f69346bfafdb6bbda650ba5d",
       "version_major": 2,
       "version_minor": 0
      },
      "text/plain": [
       "  0%|          | 0/434 [00:00<?, ?it/s]"
      ]
     },
     "metadata": {},
     "output_type": "display_data"
    },
    {
     "data": {
      "application/vnd.jupyter.widget-view+json": {
       "model_id": "06bc6916c2f84163907cbd90e6aadc48",
       "version_major": 2,
       "version_minor": 0
      },
      "text/plain": [
       "  0%|          | 0/297 [00:00<?, ?it/s]"
      ]
     },
     "metadata": {},
     "output_type": "display_data"
    },
    {
     "data": {
      "application/vnd.jupyter.widget-view+json": {
       "model_id": "101c4d0f72c9462a84da655a1742fbed",
       "version_major": 2,
       "version_minor": 0
      },
      "text/plain": [
       "  0%|          | 0/493 [00:00<?, ?it/s]"
      ]
     },
     "metadata": {},
     "output_type": "display_data"
    },
    {
     "data": {
      "application/vnd.jupyter.widget-view+json": {
       "model_id": "6c13836b61a3495c9ee2c1c01c5a45f0",
       "version_major": 2,
       "version_minor": 0
      },
      "text/plain": [
       "  0%|          | 0/455 [00:00<?, ?it/s]"
      ]
     },
     "metadata": {},
     "output_type": "display_data"
    },
    {
     "data": {
      "application/vnd.jupyter.widget-view+json": {
       "model_id": "c46bf758482f41c1b889facb4b813d2f",
       "version_major": 2,
       "version_minor": 0
      },
      "text/plain": [
       "  0%|          | 0/485 [00:00<?, ?it/s]"
      ]
     },
     "metadata": {},
     "output_type": "display_data"
    },
    {
     "data": {
      "application/vnd.jupyter.widget-view+json": {
       "model_id": "109ab24ab835435e8394c24eb904db38",
       "version_major": 2,
       "version_minor": 0
      },
      "text/plain": [
       "  0%|          | 0/312 [00:00<?, ?it/s]"
      ]
     },
     "metadata": {},
     "output_type": "display_data"
    },
    {
     "data": {
      "application/vnd.jupyter.widget-view+json": {
       "model_id": "1f7936d5b18e494aab0735d4df03c692",
       "version_major": 2,
       "version_minor": 0
      },
      "text/plain": [
       "  0%|          | 0/549 [00:00<?, ?it/s]"
      ]
     },
     "metadata": {},
     "output_type": "display_data"
    },
    {
     "data": {
      "application/vnd.jupyter.widget-view+json": {
       "model_id": "5d739ce7bf1249c98abab772a3080558",
       "version_major": 2,
       "version_minor": 0
      },
      "text/plain": [
       "  0%|          | 0/506 [00:00<?, ?it/s]"
      ]
     },
     "metadata": {},
     "output_type": "display_data"
    },
    {
     "data": {
      "application/vnd.jupyter.widget-view+json": {
       "model_id": "5913a6b167a34a24a0a233ae09da5971",
       "version_major": 2,
       "version_minor": 0
      },
      "text/plain": [
       "  0%|          | 0/505 [00:00<?, ?it/s]"
      ]
     },
     "metadata": {},
     "output_type": "display_data"
    },
    {
     "data": {
      "application/vnd.jupyter.widget-view+json": {
       "model_id": "edcd33352c674a8fb1eb2aa8cbf178b9",
       "version_major": 2,
       "version_minor": 0
      },
      "text/plain": [
       "  0%|          | 0/418 [00:00<?, ?it/s]"
      ]
     },
     "metadata": {},
     "output_type": "display_data"
    },
    {
     "data": {
      "application/vnd.jupyter.widget-view+json": {
       "model_id": "5c4258389cb14cf4b19e508ce4c04c94",
       "version_major": 2,
       "version_minor": 0
      },
      "text/plain": [
       "  0%|          | 0/540 [00:00<?, ?it/s]"
      ]
     },
     "metadata": {},
     "output_type": "display_data"
    },
    {
     "data": {
      "application/vnd.jupyter.widget-view+json": {
       "model_id": "a637e45a5381485f9012da15b00958cb",
       "version_major": 2,
       "version_minor": 0
      },
      "text/plain": [
       "  0%|          | 0/31 [00:00<?, ?it/s]"
      ]
     },
     "metadata": {},
     "output_type": "display_data"
    },
    {
     "data": {
      "application/vnd.jupyter.widget-view+json": {
       "model_id": "96f72368c1e74d139b409ce24fd0df18",
       "version_major": 2,
       "version_minor": 0
      },
      "text/plain": [
       "  0%|          | 0/462 [00:00<?, ?it/s]"
      ]
     },
     "metadata": {},
     "output_type": "display_data"
    },
    {
     "data": {
      "application/vnd.jupyter.widget-view+json": {
       "model_id": "91d241a33b454c1f843ec75d7446cc6a",
       "version_major": 2,
       "version_minor": 0
      },
      "text/plain": [
       "  0%|          | 0/380 [00:00<?, ?it/s]"
      ]
     },
     "metadata": {},
     "output_type": "display_data"
    },
    {
     "data": {
      "application/vnd.jupyter.widget-view+json": {
       "model_id": "164ef68fe0e742cca2947266772b1dec",
       "version_major": 2,
       "version_minor": 0
      },
      "text/plain": [
       "  0%|          | 0/274 [00:00<?, ?it/s]"
      ]
     },
     "metadata": {},
     "output_type": "display_data"
    },
    {
     "data": {
      "application/vnd.jupyter.widget-view+json": {
       "model_id": "ed06c0f7cea2484fb4102c5c7ca21e96",
       "version_major": 2,
       "version_minor": 0
      },
      "text/plain": [
       "  0%|          | 0/479 [00:00<?, ?it/s]"
      ]
     },
     "metadata": {},
     "output_type": "display_data"
    },
    {
     "data": {
      "application/vnd.jupyter.widget-view+json": {
       "model_id": "b85ff22552e24aaf8dddb1378e1dce63",
       "version_major": 2,
       "version_minor": 0
      },
      "text/plain": [
       "  0%|          | 0/489 [00:00<?, ?it/s]"
      ]
     },
     "metadata": {},
     "output_type": "display_data"
    },
    {
     "data": {
      "application/vnd.jupyter.widget-view+json": {
       "model_id": "3fadbd18e5d043c2b25128eaae79c558",
       "version_major": 2,
       "version_minor": 0
      },
      "text/plain": [
       "  0%|          | 0/458 [00:00<?, ?it/s]"
      ]
     },
     "metadata": {},
     "output_type": "display_data"
    },
    {
     "data": {
      "application/vnd.jupyter.widget-view+json": {
       "model_id": "fd6d053b871f479abfc8be59aa1e2b9d",
       "version_major": 2,
       "version_minor": 0
      },
      "text/plain": [
       "  0%|          | 0/200 [00:00<?, ?it/s]"
      ]
     },
     "metadata": {},
     "output_type": "display_data"
    },
    {
     "data": {
      "application/vnd.jupyter.widget-view+json": {
       "model_id": "39ec9091b2834eb6b0b0d0ac2c2741cb",
       "version_major": 2,
       "version_minor": 0
      },
      "text/plain": [
       "  0%|          | 0/235 [00:00<?, ?it/s]"
      ]
     },
     "metadata": {},
     "output_type": "display_data"
    },
    {
     "data": {
      "application/vnd.jupyter.widget-view+json": {
       "model_id": "b4787d57529d4051840f7eec2e4158e4",
       "version_major": 2,
       "version_minor": 0
      },
      "text/plain": [
       "  0%|          | 0/187 [00:00<?, ?it/s]"
      ]
     },
     "metadata": {},
     "output_type": "display_data"
    },
    {
     "data": {
      "application/vnd.jupyter.widget-view+json": {
       "model_id": "f46fe0c2ed8a4c5c875c5116dc79e866",
       "version_major": 2,
       "version_minor": 0
      },
      "text/plain": [
       "  0%|          | 0/421 [00:00<?, ?it/s]"
      ]
     },
     "metadata": {},
     "output_type": "display_data"
    },
    {
     "data": {
      "application/vnd.jupyter.widget-view+json": {
       "model_id": "0ad7f7a498d244e4a906553c4ded1724",
       "version_major": 2,
       "version_minor": 0
      },
      "text/plain": [
       "  0%|          | 0/528 [00:00<?, ?it/s]"
      ]
     },
     "metadata": {},
     "output_type": "display_data"
    },
    {
     "data": {
      "application/vnd.jupyter.widget-view+json": {
       "model_id": "8af1e3684aa047e4b47f8d679661f7e5",
       "version_major": 2,
       "version_minor": 0
      },
      "text/plain": [
       "  0%|          | 0/508 [00:00<?, ?it/s]"
      ]
     },
     "metadata": {},
     "output_type": "display_data"
    },
    {
     "data": {
      "application/vnd.jupyter.widget-view+json": {
       "model_id": "9605fbd6721d47fa9a40e883c3814fec",
       "version_major": 2,
       "version_minor": 0
      },
      "text/plain": [
       "  0%|          | 0/541 [00:00<?, ?it/s]"
      ]
     },
     "metadata": {},
     "output_type": "display_data"
    },
    {
     "data": {
      "application/vnd.jupyter.widget-view+json": {
       "model_id": "e3d849917b674e1bac57585b76abec65",
       "version_major": 2,
       "version_minor": 0
      },
      "text/plain": [
       "  0%|          | 0/468 [00:00<?, ?it/s]"
      ]
     },
     "metadata": {},
     "output_type": "display_data"
    },
    {
     "data": {
      "application/vnd.jupyter.widget-view+json": {
       "model_id": "52c32c68edc046fea03bb22e029c07dc",
       "version_major": 2,
       "version_minor": 0
      },
      "text/plain": [
       "  0%|          | 0/356 [00:00<?, ?it/s]"
      ]
     },
     "metadata": {},
     "output_type": "display_data"
    },
    {
     "data": {
      "application/vnd.jupyter.widget-view+json": {
       "model_id": "8f131db020aa48c29c0a7fa28f34da6a",
       "version_major": 2,
       "version_minor": 0
      },
      "text/plain": [
       "  0%|          | 0/222 [00:00<?, ?it/s]"
      ]
     },
     "metadata": {},
     "output_type": "display_data"
    },
    {
     "data": {
      "application/vnd.jupyter.widget-view+json": {
       "model_id": "a91c96b86fd845d0ad518f2eaafe56f0",
       "version_major": 2,
       "version_minor": 0
      },
      "text/plain": [
       "  0%|          | 0/460 [00:00<?, ?it/s]"
      ]
     },
     "metadata": {},
     "output_type": "display_data"
    },
    {
     "data": {
      "application/vnd.jupyter.widget-view+json": {
       "model_id": "c94a3443f04e428a8e55264aad2d1382",
       "version_major": 2,
       "version_minor": 0
      },
      "text/plain": [
       "  0%|          | 0/257 [00:00<?, ?it/s]"
      ]
     },
     "metadata": {},
     "output_type": "display_data"
    },
    {
     "data": {
      "application/vnd.jupyter.widget-view+json": {
       "model_id": "5ed9c45af9804be590dbb28e89d4561c",
       "version_major": 2,
       "version_minor": 0
      },
      "text/plain": [
       "  0%|          | 0/149 [00:00<?, ?it/s]"
      ]
     },
     "metadata": {},
     "output_type": "display_data"
    },
    {
     "data": {
      "application/vnd.jupyter.widget-view+json": {
       "model_id": "8b4377084c0047c6b8e33c6f0dcfe554",
       "version_major": 2,
       "version_minor": 0
      },
      "text/plain": [
       "  0%|          | 0/400 [00:00<?, ?it/s]"
      ]
     },
     "metadata": {},
     "output_type": "display_data"
    },
    {
     "data": {
      "application/vnd.jupyter.widget-view+json": {
       "model_id": "a4b74c7309784cf2a419ce2f41bedfa1",
       "version_major": 2,
       "version_minor": 0
      },
      "text/plain": [
       "  0%|          | 0/453 [00:00<?, ?it/s]"
      ]
     },
     "metadata": {},
     "output_type": "display_data"
    },
    {
     "data": {
      "application/vnd.jupyter.widget-view+json": {
       "model_id": "a3ef18d19ad24c5981acb84612a95faa",
       "version_major": 2,
       "version_minor": 0
      },
      "text/plain": [
       "  0%|          | 0/458 [00:00<?, ?it/s]"
      ]
     },
     "metadata": {},
     "output_type": "display_data"
    },
    {
     "data": {
      "application/vnd.jupyter.widget-view+json": {
       "model_id": "b124bb91d0894fd7abffca34ddc28d13",
       "version_major": 2,
       "version_minor": 0
      },
      "text/plain": [
       "  0%|          | 0/244 [00:00<?, ?it/s]"
      ]
     },
     "metadata": {},
     "output_type": "display_data"
    },
    {
     "data": {
      "application/vnd.jupyter.widget-view+json": {
       "model_id": "11f3a2c777e84418b0d99bc2b5898004",
       "version_major": 2,
       "version_minor": 0
      },
      "text/plain": [
       "  0%|          | 0/493 [00:00<?, ?it/s]"
      ]
     },
     "metadata": {},
     "output_type": "display_data"
    },
    {
     "data": {
      "application/vnd.jupyter.widget-view+json": {
       "model_id": "c10ca747f5e24526ad5c7448b5cda91e",
       "version_major": 2,
       "version_minor": 0
      },
      "text/plain": [
       "  0%|          | 0/481 [00:00<?, ?it/s]"
      ]
     },
     "metadata": {},
     "output_type": "display_data"
    },
    {
     "data": {
      "application/vnd.jupyter.widget-view+json": {
       "model_id": "0de0555c8c7d4a379b10921abec412a4",
       "version_major": 2,
       "version_minor": 0
      },
      "text/plain": [
       "  0%|          | 0/448 [00:00<?, ?it/s]"
      ]
     },
     "metadata": {},
     "output_type": "display_data"
    },
    {
     "data": {
      "application/vnd.jupyter.widget-view+json": {
       "model_id": "2c31b5ffa9fb47328dd8142144e2db32",
       "version_major": 2,
       "version_minor": 0
      },
      "text/plain": [
       "  0%|          | 0/377 [00:00<?, ?it/s]"
      ]
     },
     "metadata": {},
     "output_type": "display_data"
    },
    {
     "data": {
      "application/vnd.jupyter.widget-view+json": {
       "model_id": "6c1c39566482417b8e84c200384d9841",
       "version_major": 2,
       "version_minor": 0
      },
      "text/plain": [
       "  0%|          | 0/280 [00:00<?, ?it/s]"
      ]
     },
     "metadata": {},
     "output_type": "display_data"
    },
    {
     "data": {
      "application/vnd.jupyter.widget-view+json": {
       "model_id": "3449c285ac6e4e488c9fc00cb6eb8241",
       "version_major": 2,
       "version_minor": 0
      },
      "text/plain": [
       "  0%|          | 0/448 [00:00<?, ?it/s]"
      ]
     },
     "metadata": {},
     "output_type": "display_data"
    },
    {
     "data": {
      "application/vnd.jupyter.widget-view+json": {
       "model_id": "194d1bd6d5b1452e9d382bd29e9f17e0",
       "version_major": 2,
       "version_minor": 0
      },
      "text/plain": [
       "  0%|          | 0/258 [00:00<?, ?it/s]"
      ]
     },
     "metadata": {},
     "output_type": "display_data"
    },
    {
     "data": {
      "application/vnd.jupyter.widget-view+json": {
       "model_id": "fd4633b7d251414293498a0aec3b940f",
       "version_major": 2,
       "version_minor": 0
      },
      "text/plain": [
       "  0%|          | 0/304 [00:00<?, ?it/s]"
      ]
     },
     "metadata": {},
     "output_type": "display_data"
    },
    {
     "data": {
      "application/vnd.jupyter.widget-view+json": {
       "model_id": "d06f59d4833d48ecbd552a54b12e5cb0",
       "version_major": 2,
       "version_minor": 0
      },
      "text/plain": [
       "  0%|          | 0/31 [00:00<?, ?it/s]"
      ]
     },
     "metadata": {},
     "output_type": "display_data"
    },
    {
     "data": {
      "application/vnd.jupyter.widget-view+json": {
       "model_id": "9da7ec00f13f4cb0a45ad45ad4d22562",
       "version_major": 2,
       "version_minor": 0
      },
      "text/plain": [
       "  0%|          | 0/415 [00:00<?, ?it/s]"
      ]
     },
     "metadata": {},
     "output_type": "display_data"
    },
    {
     "data": {
      "application/vnd.jupyter.widget-view+json": {
       "model_id": "20964bdbaa024311b553c8c120451873",
       "version_major": 2,
       "version_minor": 0
      },
      "text/plain": [
       "  0%|          | 0/479 [00:00<?, ?it/s]"
      ]
     },
     "metadata": {},
     "output_type": "display_data"
    },
    {
     "data": {
      "application/vnd.jupyter.widget-view+json": {
       "model_id": "f7bbb7ef934d4f24812c9aa9208e66d7",
       "version_major": 2,
       "version_minor": 0
      },
      "text/plain": [
       "  0%|          | 0/376 [00:00<?, ?it/s]"
      ]
     },
     "metadata": {},
     "output_type": "display_data"
    },
    {
     "data": {
      "application/vnd.jupyter.widget-view+json": {
       "model_id": "1a5c2408b8b6464abb4abb92307ca24b",
       "version_major": 2,
       "version_minor": 0
      },
      "text/plain": [
       "  0%|          | 0/299 [00:00<?, ?it/s]"
      ]
     },
     "metadata": {},
     "output_type": "display_data"
    },
    {
     "data": {
      "application/vnd.jupyter.widget-view+json": {
       "model_id": "762bdd79a9334174a1c54115f439d5f0",
       "version_major": 2,
       "version_minor": 0
      },
      "text/plain": [
       "  0%|          | 0/373 [00:00<?, ?it/s]"
      ]
     },
     "metadata": {},
     "output_type": "display_data"
    },
    {
     "data": {
      "application/vnd.jupyter.widget-view+json": {
       "model_id": "10b05ec363e44b658a5ac457e1dd1357",
       "version_major": 2,
       "version_minor": 0
      },
      "text/plain": [
       "  0%|          | 0/244 [00:00<?, ?it/s]"
      ]
     },
     "metadata": {},
     "output_type": "display_data"
    },
    {
     "data": {
      "application/vnd.jupyter.widget-view+json": {
       "model_id": "26bb0ee7a263440fa33a6727477ed72c",
       "version_major": 2,
       "version_minor": 0
      },
      "text/plain": [
       "  0%|          | 0/276 [00:00<?, ?it/s]"
      ]
     },
     "metadata": {},
     "output_type": "display_data"
    },
    {
     "data": {
      "application/vnd.jupyter.widget-view+json": {
       "model_id": "a10b30f87d9d4f7e9588f9bd40efe193",
       "version_major": 2,
       "version_minor": 0
      },
      "text/plain": [
       "  0%|          | 0/288 [00:00<?, ?it/s]"
      ]
     },
     "metadata": {},
     "output_type": "display_data"
    },
    {
     "data": {
      "application/vnd.jupyter.widget-view+json": {
       "model_id": "d7daa0d1e68141fca836bd43647932bf",
       "version_major": 2,
       "version_minor": 0
      },
      "text/plain": [
       "  0%|          | 0/354 [00:00<?, ?it/s]"
      ]
     },
     "metadata": {},
     "output_type": "display_data"
    },
    {
     "data": {
      "application/vnd.jupyter.widget-view+json": {
       "model_id": "74f2986e2b4e45b1a1dd318addef7f37",
       "version_major": 2,
       "version_minor": 0
      },
      "text/plain": [
       "  0%|          | 0/329 [00:00<?, ?it/s]"
      ]
     },
     "metadata": {},
     "output_type": "display_data"
    },
    {
     "data": {
      "application/vnd.jupyter.widget-view+json": {
       "model_id": "82e0a8484c7c46d5a44644da8e0cbaa4",
       "version_major": 2,
       "version_minor": 0
      },
      "text/plain": [
       "  0%|          | 0/341 [00:00<?, ?it/s]"
      ]
     },
     "metadata": {},
     "output_type": "display_data"
    },
    {
     "data": {
      "application/vnd.jupyter.widget-view+json": {
       "model_id": "02fd029934ff41f2bbb80e7f34b801cb",
       "version_major": 2,
       "version_minor": 0
      },
      "text/plain": [
       "  0%|          | 0/518 [00:00<?, ?it/s]"
      ]
     },
     "metadata": {},
     "output_type": "display_data"
    },
    {
     "data": {
      "application/vnd.jupyter.widget-view+json": {
       "model_id": "9114f7d5be274c9a88765801292b2e9b",
       "version_major": 2,
       "version_minor": 0
      },
      "text/plain": [
       "  0%|          | 0/390 [00:00<?, ?it/s]"
      ]
     },
     "metadata": {},
     "output_type": "display_data"
    },
    {
     "data": {
      "application/vnd.jupyter.widget-view+json": {
       "model_id": "8bf7506359b54186a388889a8e151807",
       "version_major": 2,
       "version_minor": 0
      },
      "text/plain": [
       "  0%|          | 0/235 [00:00<?, ?it/s]"
      ]
     },
     "metadata": {},
     "output_type": "display_data"
    },
    {
     "data": {
      "application/vnd.jupyter.widget-view+json": {
       "model_id": "69595af1628c474393dbd3338f328add",
       "version_major": 2,
       "version_minor": 0
      },
      "text/plain": [
       "  0%|          | 0/379 [00:00<?, ?it/s]"
      ]
     },
     "metadata": {},
     "output_type": "display_data"
    },
    {
     "data": {
      "application/vnd.jupyter.widget-view+json": {
       "model_id": "2f289592892f4f5582e8705ade095cee",
       "version_major": 2,
       "version_minor": 0
      },
      "text/plain": [
       "  0%|          | 0/430 [00:00<?, ?it/s]"
      ]
     },
     "metadata": {},
     "output_type": "display_data"
    },
    {
     "data": {
      "application/vnd.jupyter.widget-view+json": {
       "model_id": "96bb09c0d4f04945bb4ae1853457b038",
       "version_major": 2,
       "version_minor": 0
      },
      "text/plain": [
       "  0%|          | 0/253 [00:00<?, ?it/s]"
      ]
     },
     "metadata": {},
     "output_type": "display_data"
    },
    {
     "data": {
      "application/vnd.jupyter.widget-view+json": {
       "model_id": "7e9f3334c4804b1390967ad9eea16ce1",
       "version_major": 2,
       "version_minor": 0
      },
      "text/plain": [
       "  0%|          | 0/271 [00:00<?, ?it/s]"
      ]
     },
     "metadata": {},
     "output_type": "display_data"
    },
    {
     "data": {
      "application/vnd.jupyter.widget-view+json": {
       "model_id": "2a644f173c3349b09ade5418e66b35bb",
       "version_major": 2,
       "version_minor": 0
      },
      "text/plain": [
       "  0%|          | 0/301 [00:00<?, ?it/s]"
      ]
     },
     "metadata": {},
     "output_type": "display_data"
    },
    {
     "data": {
      "application/vnd.jupyter.widget-view+json": {
       "model_id": "b6ebdc96f21d45a7b3b781600db714c2",
       "version_major": 2,
       "version_minor": 0
      },
      "text/plain": [
       "  0%|          | 0/272 [00:00<?, ?it/s]"
      ]
     },
     "metadata": {},
     "output_type": "display_data"
    },
    {
     "data": {
      "application/vnd.jupyter.widget-view+json": {
       "model_id": "72c7d56b681a4be086ac2a6aa2d31ada",
       "version_major": 2,
       "version_minor": 0
      },
      "text/plain": [
       "  0%|          | 0/264 [00:00<?, ?it/s]"
      ]
     },
     "metadata": {},
     "output_type": "display_data"
    },
    {
     "data": {
      "application/vnd.jupyter.widget-view+json": {
       "model_id": "91bfbaec26aa4ff0aaaa674a29d3c4b9",
       "version_major": 2,
       "version_minor": 0
      },
      "text/plain": [
       "  0%|          | 0/237 [00:00<?, ?it/s]"
      ]
     },
     "metadata": {},
     "output_type": "display_data"
    },
    {
     "data": {
      "application/vnd.jupyter.widget-view+json": {
       "model_id": "6c37328397604b5ca78493568d8f8b3a",
       "version_major": 2,
       "version_minor": 0
      },
      "text/plain": [
       "  0%|          | 0/351 [00:00<?, ?it/s]"
      ]
     },
     "metadata": {},
     "output_type": "display_data"
    },
    {
     "data": {
      "application/vnd.jupyter.widget-view+json": {
       "model_id": "5eb31c176e2a4075baacd5f9fc25309a",
       "version_major": 2,
       "version_minor": 0
      },
      "text/plain": [
       "  0%|          | 0/365 [00:00<?, ?it/s]"
      ]
     },
     "metadata": {},
     "output_type": "display_data"
    },
    {
     "data": {
      "application/vnd.jupyter.widget-view+json": {
       "model_id": "a615b7c32bf243f4b11b47dbc3f7b0e7",
       "version_major": 2,
       "version_minor": 0
      },
      "text/plain": [
       "  0%|          | 0/364 [00:00<?, ?it/s]"
      ]
     },
     "metadata": {},
     "output_type": "display_data"
    },
    {
     "data": {
      "application/vnd.jupyter.widget-view+json": {
       "model_id": "2537144f963648aa91c7d72c9b284add",
       "version_major": 2,
       "version_minor": 0
      },
      "text/plain": [
       "  0%|          | 0/275 [00:00<?, ?it/s]"
      ]
     },
     "metadata": {},
     "output_type": "display_data"
    },
    {
     "data": {
      "application/vnd.jupyter.widget-view+json": {
       "model_id": "0dcda90bb06945a69702db4d5d4f2793",
       "version_major": 2,
       "version_minor": 0
      },
      "text/plain": [
       "  0%|          | 0/462 [00:00<?, ?it/s]"
      ]
     },
     "metadata": {},
     "output_type": "display_data"
    },
    {
     "data": {
      "application/vnd.jupyter.widget-view+json": {
       "model_id": "aba191828c0a491c8860ab7192c3f125",
       "version_major": 2,
       "version_minor": 0
      },
      "text/plain": [
       "  0%|          | 0/361 [00:00<?, ?it/s]"
      ]
     },
     "metadata": {},
     "output_type": "display_data"
    },
    {
     "data": {
      "application/vnd.jupyter.widget-view+json": {
       "model_id": "e6e489d283b740d98febef81063e7bda",
       "version_major": 2,
       "version_minor": 0
      },
      "text/plain": [
       "  0%|          | 0/394 [00:00<?, ?it/s]"
      ]
     },
     "metadata": {},
     "output_type": "display_data"
    },
    {
     "data": {
      "application/vnd.jupyter.widget-view+json": {
       "model_id": "4a12c588ca26436fbf9bf25985402f35",
       "version_major": 2,
       "version_minor": 0
      },
      "text/plain": [
       "  0%|          | 0/386 [00:00<?, ?it/s]"
      ]
     },
     "metadata": {},
     "output_type": "display_data"
    },
    {
     "data": {
      "application/vnd.jupyter.widget-view+json": {
       "model_id": "85615c8776d04c358bcdbcb442e0f8e5",
       "version_major": 2,
       "version_minor": 0
      },
      "text/plain": [
       "  0%|          | 0/355 [00:00<?, ?it/s]"
      ]
     },
     "metadata": {},
     "output_type": "display_data"
    },
    {
     "data": {
      "application/vnd.jupyter.widget-view+json": {
       "model_id": "9b69963648be4f93a2c9e026ac6cc7db",
       "version_major": 2,
       "version_minor": 0
      },
      "text/plain": [
       "  0%|          | 0/31 [00:00<?, ?it/s]"
      ]
     },
     "metadata": {},
     "output_type": "display_data"
    },
    {
     "data": {
      "application/vnd.jupyter.widget-view+json": {
       "model_id": "aeeecad3528c40349da6b9ec04e299e0",
       "version_major": 2,
       "version_minor": 0
      },
      "text/plain": [
       "  0%|          | 0/449 [00:00<?, ?it/s]"
      ]
     },
     "metadata": {},
     "output_type": "display_data"
    },
    {
     "data": {
      "application/vnd.jupyter.widget-view+json": {
       "model_id": "16aaf77538f5453593635bc9b93dcafd",
       "version_major": 2,
       "version_minor": 0
      },
      "text/plain": [
       "  0%|          | 0/371 [00:00<?, ?it/s]"
      ]
     },
     "metadata": {},
     "output_type": "display_data"
    },
    {
     "data": {
      "application/vnd.jupyter.widget-view+json": {
       "model_id": "f2a66fa92bae4c1b945e5de9e1e789d7",
       "version_major": 2,
       "version_minor": 0
      },
      "text/plain": [
       "  0%|          | 0/318 [00:00<?, ?it/s]"
      ]
     },
     "metadata": {},
     "output_type": "display_data"
    },
    {
     "data": {
      "application/vnd.jupyter.widget-view+json": {
       "model_id": "cdae90db5e554d3c8798585f2f652b40",
       "version_major": 2,
       "version_minor": 0
      },
      "text/plain": [
       "  0%|          | 0/397 [00:00<?, ?it/s]"
      ]
     },
     "metadata": {},
     "output_type": "display_data"
    },
    {
     "data": {
      "application/vnd.jupyter.widget-view+json": {
       "model_id": "d4f1f0261ee74b939966f7dd846bd0eb",
       "version_major": 2,
       "version_minor": 0
      },
      "text/plain": [
       "  0%|          | 0/367 [00:00<?, ?it/s]"
      ]
     },
     "metadata": {},
     "output_type": "display_data"
    },
    {
     "data": {
      "application/vnd.jupyter.widget-view+json": {
       "model_id": "3d73789ea1664bc18baa418470678fec",
       "version_major": 2,
       "version_minor": 0
      },
      "text/plain": [
       "  0%|          | 0/391 [00:00<?, ?it/s]"
      ]
     },
     "metadata": {},
     "output_type": "display_data"
    },
    {
     "data": {
      "application/vnd.jupyter.widget-view+json": {
       "model_id": "d95a392a89f84923aaf117988fd69585",
       "version_major": 2,
       "version_minor": 0
      },
      "text/plain": [
       "  0%|          | 0/296 [00:00<?, ?it/s]"
      ]
     },
     "metadata": {},
     "output_type": "display_data"
    },
    {
     "data": {
      "application/vnd.jupyter.widget-view+json": {
       "model_id": "9b0335c575594037894d41b3c00354d4",
       "version_major": 2,
       "version_minor": 0
      },
      "text/plain": [
       "  0%|          | 0/225 [00:00<?, ?it/s]"
      ]
     },
     "metadata": {},
     "output_type": "display_data"
    },
    {
     "data": {
      "application/vnd.jupyter.widget-view+json": {
       "model_id": "dccd1bdd2fc34a8d85276dbd2394adf8",
       "version_major": 2,
       "version_minor": 0
      },
      "text/plain": [
       "  0%|          | 0/241 [00:00<?, ?it/s]"
      ]
     },
     "metadata": {},
     "output_type": "display_data"
    },
    {
     "data": {
      "application/vnd.jupyter.widget-view+json": {
       "model_id": "a06472cb6c4d428099a2a4eb6fc27cd9",
       "version_major": 2,
       "version_minor": 0
      },
      "text/plain": [
       "  0%|          | 0/446 [00:00<?, ?it/s]"
      ]
     },
     "metadata": {},
     "output_type": "display_data"
    },
    {
     "data": {
      "application/vnd.jupyter.widget-view+json": {
       "model_id": "8b1c674b23464d1f99d8cb998fcc266d",
       "version_major": 2,
       "version_minor": 0
      },
      "text/plain": [
       "  0%|          | 0/487 [00:00<?, ?it/s]"
      ]
     },
     "metadata": {},
     "output_type": "display_data"
    },
    {
     "data": {
      "application/vnd.jupyter.widget-view+json": {
       "model_id": "3c51ad1593594ef581f82c5073696cd4",
       "version_major": 2,
       "version_minor": 0
      },
      "text/plain": [
       "  0%|          | 0/360 [00:00<?, ?it/s]"
      ]
     },
     "metadata": {},
     "output_type": "display_data"
    },
    {
     "data": {
      "application/vnd.jupyter.widget-view+json": {
       "model_id": "0bede8cb00c241208b0778f4b70e0421",
       "version_major": 2,
       "version_minor": 0
      },
      "text/plain": [
       "  0%|          | 0/458 [00:00<?, ?it/s]"
      ]
     },
     "metadata": {},
     "output_type": "display_data"
    },
    {
     "data": {
      "application/vnd.jupyter.widget-view+json": {
       "model_id": "3dfbfdecac3a4c9b8e572769ce4e2687",
       "version_major": 2,
       "version_minor": 0
      },
      "text/plain": [
       "  0%|          | 0/470 [00:00<?, ?it/s]"
      ]
     },
     "metadata": {},
     "output_type": "display_data"
    },
    {
     "data": {
      "application/vnd.jupyter.widget-view+json": {
       "model_id": "4342278fdf1542e1aa7048ac5addb3a2",
       "version_major": 2,
       "version_minor": 0
      },
      "text/plain": [
       "  0%|          | 0/393 [00:00<?, ?it/s]"
      ]
     },
     "metadata": {},
     "output_type": "display_data"
    },
    {
     "data": {
      "application/vnd.jupyter.widget-view+json": {
       "model_id": "4a0812f4aa3a4406ac89e7a9bcda5f48",
       "version_major": 2,
       "version_minor": 0
      },
      "text/plain": [
       "  0%|          | 0/306 [00:00<?, ?it/s]"
      ]
     },
     "metadata": {},
     "output_type": "display_data"
    },
    {
     "data": {
      "application/vnd.jupyter.widget-view+json": {
       "model_id": "57e53c63c05d4ce792b79ba9e7ff53ca",
       "version_major": 2,
       "version_minor": 0
      },
      "text/plain": [
       "  0%|          | 0/391 [00:00<?, ?it/s]"
      ]
     },
     "metadata": {},
     "output_type": "display_data"
    },
    {
     "data": {
      "application/vnd.jupyter.widget-view+json": {
       "model_id": "a357867b71f7415e8139f5553229db8f",
       "version_major": 2,
       "version_minor": 0
      },
      "text/plain": [
       "  0%|          | 0/250 [00:00<?, ?it/s]"
      ]
     },
     "metadata": {},
     "output_type": "display_data"
    },
    {
     "data": {
      "application/vnd.jupyter.widget-view+json": {
       "model_id": "a7b2d382eec747ae8215ad14056d5650",
       "version_major": 2,
       "version_minor": 0
      },
      "text/plain": [
       "  0%|          | 0/357 [00:00<?, ?it/s]"
      ]
     },
     "metadata": {},
     "output_type": "display_data"
    },
    {
     "data": {
      "application/vnd.jupyter.widget-view+json": {
       "model_id": "3b38b5061f24496498bba0056b8c66e0",
       "version_major": 2,
       "version_minor": 0
      },
      "text/plain": [
       "  0%|          | 0/417 [00:00<?, ?it/s]"
      ]
     },
     "metadata": {},
     "output_type": "display_data"
    },
    {
     "data": {
      "application/vnd.jupyter.widget-view+json": {
       "model_id": "772d8a9b88c142e59085313563988bfc",
       "version_major": 2,
       "version_minor": 0
      },
      "text/plain": [
       "  0%|          | 0/457 [00:00<?, ?it/s]"
      ]
     },
     "metadata": {},
     "output_type": "display_data"
    },
    {
     "data": {
      "application/vnd.jupyter.widget-view+json": {
       "model_id": "fb1e070f558446df8784761325085072",
       "version_major": 2,
       "version_minor": 0
      },
      "text/plain": [
       "  0%|          | 0/481 [00:00<?, ?it/s]"
      ]
     },
     "metadata": {},
     "output_type": "display_data"
    },
    {
     "data": {
      "application/vnd.jupyter.widget-view+json": {
       "model_id": "edf60be682884241b4ab97491d4b2625",
       "version_major": 2,
       "version_minor": 0
      },
      "text/plain": [
       "  0%|          | 0/201 [00:00<?, ?it/s]"
      ]
     },
     "metadata": {},
     "output_type": "display_data"
    },
    {
     "data": {
      "application/vnd.jupyter.widget-view+json": {
       "model_id": "8a26ae0fe72242ac996af4d4bedf9141",
       "version_major": 2,
       "version_minor": 0
      },
      "text/plain": [
       "  0%|          | 0/432 [00:00<?, ?it/s]"
      ]
     },
     "metadata": {},
     "output_type": "display_data"
    },
    {
     "data": {
      "application/vnd.jupyter.widget-view+json": {
       "model_id": "8117a2bd0aea4fe1be43dbe56f5f58d5",
       "version_major": 2,
       "version_minor": 0
      },
      "text/plain": [
       "  0%|          | 0/361 [00:00<?, ?it/s]"
      ]
     },
     "metadata": {},
     "output_type": "display_data"
    },
    {
     "data": {
      "application/vnd.jupyter.widget-view+json": {
       "model_id": "6b8e8955b69c424ab090c39e419a76db",
       "version_major": 2,
       "version_minor": 0
      },
      "text/plain": [
       "  0%|          | 0/389 [00:00<?, ?it/s]"
      ]
     },
     "metadata": {},
     "output_type": "display_data"
    },
    {
     "data": {
      "application/vnd.jupyter.widget-view+json": {
       "model_id": "f98f1e5b74e14fc8accbff1a8ca66837",
       "version_major": 2,
       "version_minor": 0
      },
      "text/plain": [
       "  0%|          | 0/420 [00:00<?, ?it/s]"
      ]
     },
     "metadata": {},
     "output_type": "display_data"
    },
    {
     "data": {
      "application/vnd.jupyter.widget-view+json": {
       "model_id": "00a8bdfa0ae34eb3af21ebfee3991e31",
       "version_major": 2,
       "version_minor": 0
      },
      "text/plain": [
       "  0%|          | 0/322 [00:00<?, ?it/s]"
      ]
     },
     "metadata": {},
     "output_type": "display_data"
    },
    {
     "data": {
      "application/vnd.jupyter.widget-view+json": {
       "model_id": "98c14000402444bfa6571f19a511c178",
       "version_major": 2,
       "version_minor": 0
      },
      "text/plain": [
       "  0%|          | 0/356 [00:00<?, ?it/s]"
      ]
     },
     "metadata": {},
     "output_type": "display_data"
    },
    {
     "data": {
      "application/vnd.jupyter.widget-view+json": {
       "model_id": "1c0ac7771ab047eba515f3d0e436eb4a",
       "version_major": 2,
       "version_minor": 0
      },
      "text/plain": [
       "  0%|          | 0/214 [00:00<?, ?it/s]"
      ]
     },
     "metadata": {},
     "output_type": "display_data"
    },
    {
     "data": {
      "application/vnd.jupyter.widget-view+json": {
       "model_id": "279acd6edfb447d4825f6b8c6e32e9e9",
       "version_major": 2,
       "version_minor": 0
      },
      "text/plain": [
       "  0%|          | 0/249 [00:00<?, ?it/s]"
      ]
     },
     "metadata": {},
     "output_type": "display_data"
    },
    {
     "data": {
      "application/vnd.jupyter.widget-view+json": {
       "model_id": "fb0ad1af38104618b2039c75c641a699",
       "version_major": 2,
       "version_minor": 0
      },
      "text/plain": [
       "  0%|          | 0/31 [00:00<?, ?it/s]"
      ]
     },
     "metadata": {},
     "output_type": "display_data"
    },
    {
     "data": {
      "application/vnd.jupyter.widget-view+json": {
       "model_id": "0abbe2cf82f443218265479a81823be5",
       "version_major": 2,
       "version_minor": 0
      },
      "text/plain": [
       "  0%|          | 0/184 [00:00<?, ?it/s]"
      ]
     },
     "metadata": {},
     "output_type": "display_data"
    },
    {
     "data": {
      "application/vnd.jupyter.widget-view+json": {
       "model_id": "cc37a52791704ffdb4facd28e3f35954",
       "version_major": 2,
       "version_minor": 0
      },
      "text/plain": [
       "  0%|          | 0/280 [00:00<?, ?it/s]"
      ]
     },
     "metadata": {},
     "output_type": "display_data"
    },
    {
     "data": {
      "application/vnd.jupyter.widget-view+json": {
       "model_id": "b8f968f5d4ab466e9e38fd1c58d518eb",
       "version_major": 2,
       "version_minor": 0
      },
      "text/plain": [
       "  0%|          | 0/192 [00:00<?, ?it/s]"
      ]
     },
     "metadata": {},
     "output_type": "display_data"
    },
    {
     "data": {
      "application/vnd.jupyter.widget-view+json": {
       "model_id": "c1d0da842efa4d23be3b54ac298a5068",
       "version_major": 2,
       "version_minor": 0
      },
      "text/plain": [
       "  0%|          | 0/255 [00:00<?, ?it/s]"
      ]
     },
     "metadata": {},
     "output_type": "display_data"
    },
    {
     "data": {
      "application/vnd.jupyter.widget-view+json": {
       "model_id": "59ec539f3d4e49809d9001922fd781d2",
       "version_major": 2,
       "version_minor": 0
      },
      "text/plain": [
       "  0%|          | 0/346 [00:00<?, ?it/s]"
      ]
     },
     "metadata": {},
     "output_type": "display_data"
    },
    {
     "data": {
      "application/vnd.jupyter.widget-view+json": {
       "model_id": "29afb2fe629f4aac821907b38a00d8af",
       "version_major": 2,
       "version_minor": 0
      },
      "text/plain": [
       "  0%|          | 0/264 [00:00<?, ?it/s]"
      ]
     },
     "metadata": {},
     "output_type": "display_data"
    },
    {
     "data": {
      "application/vnd.jupyter.widget-view+json": {
       "model_id": "ae4485fa264644eeb211c6c7ea055a8c",
       "version_major": 2,
       "version_minor": 0
      },
      "text/plain": [
       "  0%|          | 0/296 [00:00<?, ?it/s]"
      ]
     },
     "metadata": {},
     "output_type": "display_data"
    },
    {
     "data": {
      "application/vnd.jupyter.widget-view+json": {
       "model_id": "7ef72666a43e4f769c886b0b7aebb46d",
       "version_major": 2,
       "version_minor": 0
      },
      "text/plain": [
       "  0%|          | 0/421 [00:00<?, ?it/s]"
      ]
     },
     "metadata": {},
     "output_type": "display_data"
    },
    {
     "data": {
      "application/vnd.jupyter.widget-view+json": {
       "model_id": "d06f5072cfaf467fb74732ae1c13b168",
       "version_major": 2,
       "version_minor": 0
      },
      "text/plain": [
       "  0%|          | 0/465 [00:00<?, ?it/s]"
      ]
     },
     "metadata": {},
     "output_type": "display_data"
    },
    {
     "data": {
      "application/vnd.jupyter.widget-view+json": {
       "model_id": "81bb6bf674d94947a5e158bc77d70db0",
       "version_major": 2,
       "version_minor": 0
      },
      "text/plain": [
       "  0%|          | 0/125 [00:00<?, ?it/s]"
      ]
     },
     "metadata": {},
     "output_type": "display_data"
    },
    {
     "data": {
      "application/vnd.jupyter.widget-view+json": {
       "model_id": "6f0566a4358c4872a4d79b55b0262c44",
       "version_major": 2,
       "version_minor": 0
      },
      "text/plain": [
       "  0%|          | 0/333 [00:00<?, ?it/s]"
      ]
     },
     "metadata": {},
     "output_type": "display_data"
    },
    {
     "data": {
      "application/vnd.jupyter.widget-view+json": {
       "model_id": "07397048369847b4a0f785888aa89f92",
       "version_major": 2,
       "version_minor": 0
      },
      "text/plain": [
       "  0%|          | 0/333 [00:00<?, ?it/s]"
      ]
     },
     "metadata": {},
     "output_type": "display_data"
    },
    {
     "data": {
      "application/vnd.jupyter.widget-view+json": {
       "model_id": "6649ebfa26404993b74a5be09f6cf196",
       "version_major": 2,
       "version_minor": 0
      },
      "text/plain": [
       "  0%|          | 0/207 [00:00<?, ?it/s]"
      ]
     },
     "metadata": {},
     "output_type": "display_data"
    },
    {
     "data": {
      "application/vnd.jupyter.widget-view+json": {
       "model_id": "5b16a4b5c60746b296f1afc85083ecb4",
       "version_major": 2,
       "version_minor": 0
      },
      "text/plain": [
       "  0%|          | 0/268 [00:00<?, ?it/s]"
      ]
     },
     "metadata": {},
     "output_type": "display_data"
    },
    {
     "data": {
      "application/vnd.jupyter.widget-view+json": {
       "model_id": "5af82ff579b443e09fb8b10d7b0bc820",
       "version_major": 2,
       "version_minor": 0
      },
      "text/plain": [
       "  0%|          | 0/192 [00:00<?, ?it/s]"
      ]
     },
     "metadata": {},
     "output_type": "display_data"
    },
    {
     "data": {
      "application/vnd.jupyter.widget-view+json": {
       "model_id": "44f8865d1e1f40de9488a54c87f6efbe",
       "version_major": 2,
       "version_minor": 0
      },
      "text/plain": [
       "  0%|          | 0/429 [00:00<?, ?it/s]"
      ]
     },
     "metadata": {},
     "output_type": "display_data"
    },
    {
     "data": {
      "application/vnd.jupyter.widget-view+json": {
       "model_id": "82c171ba93ee4e36a418a5b31d5cec2b",
       "version_major": 2,
       "version_minor": 0
      },
      "text/plain": [
       "  0%|          | 0/405 [00:00<?, ?it/s]"
      ]
     },
     "metadata": {},
     "output_type": "display_data"
    },
    {
     "data": {
      "application/vnd.jupyter.widget-view+json": {
       "model_id": "7f25f13480e74ff0b62d1001c273de66",
       "version_major": 2,
       "version_minor": 0
      },
      "text/plain": [
       "  0%|          | 0/276 [00:00<?, ?it/s]"
      ]
     },
     "metadata": {},
     "output_type": "display_data"
    },
    {
     "data": {
      "application/vnd.jupyter.widget-view+json": {
       "model_id": "05b4b6bb8fcd47ce904a629f52be1471",
       "version_major": 2,
       "version_minor": 0
      },
      "text/plain": [
       "  0%|          | 0/421 [00:00<?, ?it/s]"
      ]
     },
     "metadata": {},
     "output_type": "display_data"
    },
    {
     "data": {
      "application/vnd.jupyter.widget-view+json": {
       "model_id": "6871e97518d2440a91aec644c01053bf",
       "version_major": 2,
       "version_minor": 0
      },
      "text/plain": [
       "  0%|          | 0/333 [00:00<?, ?it/s]"
      ]
     },
     "metadata": {},
     "output_type": "display_data"
    },
    {
     "data": {
      "application/vnd.jupyter.widget-view+json": {
       "model_id": "265137cd620449eba3c65ba4b5963b7e",
       "version_major": 2,
       "version_minor": 0
      },
      "text/plain": [
       "  0%|          | 0/520 [00:00<?, ?it/s]"
      ]
     },
     "metadata": {},
     "output_type": "display_data"
    },
    {
     "data": {
      "application/vnd.jupyter.widget-view+json": {
       "model_id": "c3592cf763df40a99a515b5f7ba8f6e9",
       "version_major": 2,
       "version_minor": 0
      },
      "text/plain": [
       "  0%|          | 0/342 [00:00<?, ?it/s]"
      ]
     },
     "metadata": {},
     "output_type": "display_data"
    },
    {
     "data": {
      "application/vnd.jupyter.widget-view+json": {
       "model_id": "595eb4fcafa14bada05e3625c532b013",
       "version_major": 2,
       "version_minor": 0
      },
      "text/plain": [
       "  0%|          | 0/400 [00:00<?, ?it/s]"
      ]
     },
     "metadata": {},
     "output_type": "display_data"
    },
    {
     "data": {
      "application/vnd.jupyter.widget-view+json": {
       "model_id": "2ba1a2aa11794b638ea18c7dc3875361",
       "version_major": 2,
       "version_minor": 0
      },
      "text/plain": [
       "  0%|          | 0/409 [00:00<?, ?it/s]"
      ]
     },
     "metadata": {},
     "output_type": "display_data"
    },
    {
     "data": {
      "application/vnd.jupyter.widget-view+json": {
       "model_id": "e2a27275daf74e97bcc5497824a6de73",
       "version_major": 2,
       "version_minor": 0
      },
      "text/plain": [
       "  0%|          | 0/284 [00:00<?, ?it/s]"
      ]
     },
     "metadata": {},
     "output_type": "display_data"
    },
    {
     "data": {
      "application/vnd.jupyter.widget-view+json": {
       "model_id": "2f74b958c3e64fb79ee4768ae86ee150",
       "version_major": 2,
       "version_minor": 0
      },
      "text/plain": [
       "  0%|          | 0/451 [00:00<?, ?it/s]"
      ]
     },
     "metadata": {},
     "output_type": "display_data"
    },
    {
     "data": {
      "application/vnd.jupyter.widget-view+json": {
       "model_id": "514a7fcc5b5842fe86bbe4adc755b578",
       "version_major": 2,
       "version_minor": 0
      },
      "text/plain": [
       "  0%|          | 0/285 [00:00<?, ?it/s]"
      ]
     },
     "metadata": {},
     "output_type": "display_data"
    },
    {
     "data": {
      "application/vnd.jupyter.widget-view+json": {
       "model_id": "24d288b2f54f405d9a7812123ef5a5dc",
       "version_major": 2,
       "version_minor": 0
      },
      "text/plain": [
       "  0%|          | 0/174 [00:00<?, ?it/s]"
      ]
     },
     "metadata": {},
     "output_type": "display_data"
    },
    {
     "data": {
      "application/vnd.jupyter.widget-view+json": {
       "model_id": "46702781aa8744cfa3939acc14c87fdf",
       "version_major": 2,
       "version_minor": 0
      },
      "text/plain": [
       "  0%|          | 0/228 [00:00<?, ?it/s]"
      ]
     },
     "metadata": {},
     "output_type": "display_data"
    },
    {
     "data": {
      "application/vnd.jupyter.widget-view+json": {
       "model_id": "8fbaaad7ebd6461fb41b58a280a8a0ff",
       "version_major": 2,
       "version_minor": 0
      },
      "text/plain": [
       "  0%|          | 0/452 [00:00<?, ?it/s]"
      ]
     },
     "metadata": {},
     "output_type": "display_data"
    },
    {
     "data": {
      "application/vnd.jupyter.widget-view+json": {
       "model_id": "e607fceac644451d936e7efa22d7ffe4",
       "version_major": 2,
       "version_minor": 0
      },
      "text/plain": [
       "  0%|          | 0/402 [00:00<?, ?it/s]"
      ]
     },
     "metadata": {},
     "output_type": "display_data"
    },
    {
     "data": {
      "application/vnd.jupyter.widget-view+json": {
       "model_id": "a2a48a12e0d54e159c289237f9f8d776",
       "version_major": 2,
       "version_minor": 0
      },
      "text/plain": [
       "  0%|          | 0/31 [00:00<?, ?it/s]"
      ]
     },
     "metadata": {},
     "output_type": "display_data"
    },
    {
     "data": {
      "application/vnd.jupyter.widget-view+json": {
       "model_id": "8a6f79670d2849579f1f2e4fa787b242",
       "version_major": 2,
       "version_minor": 0
      },
      "text/plain": [
       "  0%|          | 0/426 [00:00<?, ?it/s]"
      ]
     },
     "metadata": {},
     "output_type": "display_data"
    },
    {
     "data": {
      "application/vnd.jupyter.widget-view+json": {
       "model_id": "b06629c60725442e921754d4040d7cb9",
       "version_major": 2,
       "version_minor": 0
      },
      "text/plain": [
       "  0%|          | 0/315 [00:00<?, ?it/s]"
      ]
     },
     "metadata": {},
     "output_type": "display_data"
    },
    {
     "data": {
      "application/vnd.jupyter.widget-view+json": {
       "model_id": "21072eb6de5c43ce926c264057ac7656",
       "version_major": 2,
       "version_minor": 0
      },
      "text/plain": [
       "  0%|          | 0/206 [00:00<?, ?it/s]"
      ]
     },
     "metadata": {},
     "output_type": "display_data"
    },
    {
     "data": {
      "application/vnd.jupyter.widget-view+json": {
       "model_id": "39e0d410147544a88517696a1e74d59e",
       "version_major": 2,
       "version_minor": 0
      },
      "text/plain": [
       "  0%|          | 0/351 [00:00<?, ?it/s]"
      ]
     },
     "metadata": {},
     "output_type": "display_data"
    },
    {
     "data": {
      "application/vnd.jupyter.widget-view+json": {
       "model_id": "6652ab444d76431ca901b4cc03975fed",
       "version_major": 2,
       "version_minor": 0
      },
      "text/plain": [
       "  0%|          | 0/403 [00:00<?, ?it/s]"
      ]
     },
     "metadata": {},
     "output_type": "display_data"
    },
    {
     "data": {
      "application/vnd.jupyter.widget-view+json": {
       "model_id": "21c4a11c720e4e33a3169e2399675a74",
       "version_major": 2,
       "version_minor": 0
      },
      "text/plain": [
       "  0%|          | 0/451 [00:00<?, ?it/s]"
      ]
     },
     "metadata": {},
     "output_type": "display_data"
    },
    {
     "data": {
      "application/vnd.jupyter.widget-view+json": {
       "model_id": "55a45d36d2ff49a8b39560367d6c7dc5",
       "version_major": 2,
       "version_minor": 0
      },
      "text/plain": [
       "  0%|          | 0/435 [00:00<?, ?it/s]"
      ]
     },
     "metadata": {},
     "output_type": "display_data"
    },
    {
     "data": {
      "application/vnd.jupyter.widget-view+json": {
       "model_id": "3660bae141d849f688abe5820c39fcd6",
       "version_major": 2,
       "version_minor": 0
      },
      "text/plain": [
       "  0%|          | 0/423 [00:00<?, ?it/s]"
      ]
     },
     "metadata": {},
     "output_type": "display_data"
    },
    {
     "data": {
      "application/vnd.jupyter.widget-view+json": {
       "model_id": "71a517d96c084e268dbb0b98d18f8171",
       "version_major": 2,
       "version_minor": 0
      },
      "text/plain": [
       "  0%|          | 0/387 [00:00<?, ?it/s]"
      ]
     },
     "metadata": {},
     "output_type": "display_data"
    },
    {
     "data": {
      "application/vnd.jupyter.widget-view+json": {
       "model_id": "0c53e5b842c64af59b17fabe9167f7b2",
       "version_major": 2,
       "version_minor": 0
      },
      "text/plain": [
       "  0%|          | 0/273 [00:00<?, ?it/s]"
      ]
     },
     "metadata": {},
     "output_type": "display_data"
    },
    {
     "data": {
      "application/vnd.jupyter.widget-view+json": {
       "model_id": "eb24da1d48024c219762ce925b1319cb",
       "version_major": 2,
       "version_minor": 0
      },
      "text/plain": [
       "  0%|          | 0/402 [00:00<?, ?it/s]"
      ]
     },
     "metadata": {},
     "output_type": "display_data"
    },
    {
     "data": {
      "application/vnd.jupyter.widget-view+json": {
       "model_id": "97edcd5804a148e6b1647ab6bddaac12",
       "version_major": 2,
       "version_minor": 0
      },
      "text/plain": [
       "  0%|          | 0/443 [00:00<?, ?it/s]"
      ]
     },
     "metadata": {},
     "output_type": "display_data"
    },
    {
     "data": {
      "application/vnd.jupyter.widget-view+json": {
       "model_id": "6d69e26c4303461fb2e0b11c4930c3c3",
       "version_major": 2,
       "version_minor": 0
      },
      "text/plain": [
       "  0%|          | 0/456 [00:00<?, ?it/s]"
      ]
     },
     "metadata": {},
     "output_type": "display_data"
    },
    {
     "data": {
      "application/vnd.jupyter.widget-view+json": {
       "model_id": "6605f2388e6e466daa9d095d49bfab7f",
       "version_major": 2,
       "version_minor": 0
      },
      "text/plain": [
       "  0%|          | 0/475 [00:00<?, ?it/s]"
      ]
     },
     "metadata": {},
     "output_type": "display_data"
    },
    {
     "data": {
      "application/vnd.jupyter.widget-view+json": {
       "model_id": "d82c33c1439347cc848fcf0404a52821",
       "version_major": 2,
       "version_minor": 0
      },
      "text/plain": [
       "  0%|          | 0/268 [00:00<?, ?it/s]"
      ]
     },
     "metadata": {},
     "output_type": "display_data"
    },
    {
     "data": {
      "application/vnd.jupyter.widget-view+json": {
       "model_id": "af4479006b5c49dc861891cfc82d32e8",
       "version_major": 2,
       "version_minor": 0
      },
      "text/plain": [
       "  0%|          | 0/255 [00:00<?, ?it/s]"
      ]
     },
     "metadata": {},
     "output_type": "display_data"
    },
    {
     "data": {
      "application/vnd.jupyter.widget-view+json": {
       "model_id": "0fa22b70b7b94c2d8e3a3fe3e253fd0a",
       "version_major": 2,
       "version_minor": 0
      },
      "text/plain": [
       "  0%|          | 0/405 [00:00<?, ?it/s]"
      ]
     },
     "metadata": {},
     "output_type": "display_data"
    },
    {
     "data": {
      "application/vnd.jupyter.widget-view+json": {
       "model_id": "e218fc4a46ee46d9a4f1b4ae805e14f6",
       "version_major": 2,
       "version_minor": 0
      },
      "text/plain": [
       "  0%|          | 0/356 [00:00<?, ?it/s]"
      ]
     },
     "metadata": {},
     "output_type": "display_data"
    },
    {
     "data": {
      "application/vnd.jupyter.widget-view+json": {
       "model_id": "0f10d0ed532b45a3b1fa2c4a18f2ec01",
       "version_major": 2,
       "version_minor": 0
      },
      "text/plain": [
       "  0%|          | 0/487 [00:00<?, ?it/s]"
      ]
     },
     "metadata": {},
     "output_type": "display_data"
    },
    {
     "data": {
      "application/vnd.jupyter.widget-view+json": {
       "model_id": "680339708f7349c2ac66192dee58d738",
       "version_major": 2,
       "version_minor": 0
      },
      "text/plain": [
       "  0%|          | 0/395 [00:00<?, ?it/s]"
      ]
     },
     "metadata": {},
     "output_type": "display_data"
    },
    {
     "data": {
      "application/vnd.jupyter.widget-view+json": {
       "model_id": "cbade41630bd461f91c7c8b7706f881c",
       "version_major": 2,
       "version_minor": 0
      },
      "text/plain": [
       "  0%|          | 0/399 [00:00<?, ?it/s]"
      ]
     },
     "metadata": {},
     "output_type": "display_data"
    },
    {
     "data": {
      "application/vnd.jupyter.widget-view+json": {
       "model_id": "a1d171fbbc4249d9877940d4c4e812d9",
       "version_major": 2,
       "version_minor": 0
      },
      "text/plain": [
       "  0%|          | 0/414 [00:00<?, ?it/s]"
      ]
     },
     "metadata": {},
     "output_type": "display_data"
    },
    {
     "data": {
      "application/vnd.jupyter.widget-view+json": {
       "model_id": "394734a95596450caac39b635f23cbbe",
       "version_major": 2,
       "version_minor": 0
      },
      "text/plain": [
       "  0%|          | 0/275 [00:00<?, ?it/s]"
      ]
     },
     "metadata": {},
     "output_type": "display_data"
    },
    {
     "data": {
      "application/vnd.jupyter.widget-view+json": {
       "model_id": "a2f9bd7887b742049b9de70615654c08",
       "version_major": 2,
       "version_minor": 0
      },
      "text/plain": [
       "  0%|          | 0/463 [00:00<?, ?it/s]"
      ]
     },
     "metadata": {},
     "output_type": "display_data"
    },
    {
     "data": {
      "application/vnd.jupyter.widget-view+json": {
       "model_id": "d9d9937e1d9c449693fbfbf4bf6e9438",
       "version_major": 2,
       "version_minor": 0
      },
      "text/plain": [
       "  0%|          | 0/352 [00:00<?, ?it/s]"
      ]
     },
     "metadata": {},
     "output_type": "display_data"
    },
    {
     "data": {
      "application/vnd.jupyter.widget-view+json": {
       "model_id": "06ae34e4000a4bcd8d5d436abbe49784",
       "version_major": 2,
       "version_minor": 0
      },
      "text/plain": [
       "  0%|          | 0/552 [00:00<?, ?it/s]"
      ]
     },
     "metadata": {},
     "output_type": "display_data"
    },
    {
     "data": {
      "application/vnd.jupyter.widget-view+json": {
       "model_id": "f10882bff39240b98bf2f121f2ea9055",
       "version_major": 2,
       "version_minor": 0
      },
      "text/plain": [
       "  0%|          | 0/222 [00:00<?, ?it/s]"
      ]
     },
     "metadata": {},
     "output_type": "display_data"
    },
    {
     "data": {
      "application/vnd.jupyter.widget-view+json": {
       "model_id": "9e52df856edb4f5bb495c7474366e8dd",
       "version_major": 2,
       "version_minor": 0
      },
      "text/plain": [
       "  0%|          | 0/223 [00:00<?, ?it/s]"
      ]
     },
     "metadata": {},
     "output_type": "display_data"
    },
    {
     "data": {
      "application/vnd.jupyter.widget-view+json": {
       "model_id": "d406b9f4edb74d58b3ce92fc72789936",
       "version_major": 2,
       "version_minor": 0
      },
      "text/plain": [
       "  0%|          | 0/250 [00:00<?, ?it/s]"
      ]
     },
     "metadata": {},
     "output_type": "display_data"
    },
    {
     "data": {
      "application/vnd.jupyter.widget-view+json": {
       "model_id": "46072c9c09974dbd89a2be3aa35a16b9",
       "version_major": 2,
       "version_minor": 0
      },
      "text/plain": [
       "  0%|          | 0/411 [00:00<?, ?it/s]"
      ]
     },
     "metadata": {},
     "output_type": "display_data"
    },
    {
     "data": {
      "application/vnd.jupyter.widget-view+json": {
       "model_id": "dc69d620272541b1903727107b071227",
       "version_major": 2,
       "version_minor": 0
      },
      "text/plain": [
       "  0%|          | 0/274 [00:00<?, ?it/s]"
      ]
     },
     "metadata": {},
     "output_type": "display_data"
    },
    {
     "data": {
      "application/vnd.jupyter.widget-view+json": {
       "model_id": "5c3c841f39894826a9077115bfac939d",
       "version_major": 2,
       "version_minor": 0
      },
      "text/plain": [
       "  0%|          | 0/30 [00:00<?, ?it/s]"
      ]
     },
     "metadata": {},
     "output_type": "display_data"
    },
    {
     "data": {
      "application/vnd.jupyter.widget-view+json": {
       "model_id": "ff3962f9427d49059ee47e1f26ecf188",
       "version_major": 2,
       "version_minor": 0
      },
      "text/plain": [
       "  0%|          | 0/408 [00:00<?, ?it/s]"
      ]
     },
     "metadata": {},
     "output_type": "display_data"
    },
    {
     "data": {
      "application/vnd.jupyter.widget-view+json": {
       "model_id": "33e156bf057d49db9a8f94400526cb51",
       "version_major": 2,
       "version_minor": 0
      },
      "text/plain": [
       "  0%|          | 0/299 [00:00<?, ?it/s]"
      ]
     },
     "metadata": {},
     "output_type": "display_data"
    },
    {
     "data": {
      "application/vnd.jupyter.widget-view+json": {
       "model_id": "0624bf07a0a242f8a530254943724495",
       "version_major": 2,
       "version_minor": 0
      },
      "text/plain": [
       "  0%|          | 0/290 [00:00<?, ?it/s]"
      ]
     },
     "metadata": {},
     "output_type": "display_data"
    },
    {
     "data": {
      "application/vnd.jupyter.widget-view+json": {
       "model_id": "7a61bf19c28f44cbaef7b2b3850b6c2f",
       "version_major": 2,
       "version_minor": 0
      },
      "text/plain": [
       "  0%|          | 0/471 [00:00<?, ?it/s]"
      ]
     },
     "metadata": {},
     "output_type": "display_data"
    },
    {
     "data": {
      "application/vnd.jupyter.widget-view+json": {
       "model_id": "c6312231b42745d1b53077a7d5123a03",
       "version_major": 2,
       "version_minor": 0
      },
      "text/plain": [
       "  0%|          | 0/517 [00:00<?, ?it/s]"
      ]
     },
     "metadata": {},
     "output_type": "display_data"
    },
    {
     "data": {
      "application/vnd.jupyter.widget-view+json": {
       "model_id": "95de8adf2657464685cc34b292a2e18f",
       "version_major": 2,
       "version_minor": 0
      },
      "text/plain": [
       "  0%|          | 0/447 [00:00<?, ?it/s]"
      ]
     },
     "metadata": {},
     "output_type": "display_data"
    },
    {
     "data": {
      "application/vnd.jupyter.widget-view+json": {
       "model_id": "69e22debf94540528f3a8a13acd5e091",
       "version_major": 2,
       "version_minor": 0
      },
      "text/plain": [
       "  0%|          | 0/464 [00:00<?, ?it/s]"
      ]
     },
     "metadata": {},
     "output_type": "display_data"
    },
    {
     "data": {
      "application/vnd.jupyter.widget-view+json": {
       "model_id": "d629ffe89f594653a476339818562099",
       "version_major": 2,
       "version_minor": 0
      },
      "text/plain": [
       "  0%|          | 0/515 [00:00<?, ?it/s]"
      ]
     },
     "metadata": {},
     "output_type": "display_data"
    },
    {
     "data": {
      "application/vnd.jupyter.widget-view+json": {
       "model_id": "1a803f3929c94e6e8d03b6af54c8681e",
       "version_major": 2,
       "version_minor": 0
      },
      "text/plain": [
       "  0%|          | 0/363 [00:00<?, ?it/s]"
      ]
     },
     "metadata": {},
     "output_type": "display_data"
    },
    {
     "data": {
      "application/vnd.jupyter.widget-view+json": {
       "model_id": "604cb02c887342c6a1b1e52b77f32e8f",
       "version_major": 2,
       "version_minor": 0
      },
      "text/plain": [
       "  0%|          | 0/318 [00:00<?, ?it/s]"
      ]
     },
     "metadata": {},
     "output_type": "display_data"
    },
    {
     "data": {
      "application/vnd.jupyter.widget-view+json": {
       "model_id": "0f0a1cb29aff40a2a8cd44d59bb8b745",
       "version_major": 2,
       "version_minor": 0
      },
      "text/plain": [
       "  0%|          | 0/507 [00:00<?, ?it/s]"
      ]
     },
     "metadata": {},
     "output_type": "display_data"
    },
    {
     "data": {
      "application/vnd.jupyter.widget-view+json": {
       "model_id": "0c87b1a7eef3437694aba2b2fb5ff97c",
       "version_major": 2,
       "version_minor": 0
      },
      "text/plain": [
       "  0%|          | 0/450 [00:00<?, ?it/s]"
      ]
     },
     "metadata": {},
     "output_type": "display_data"
    },
    {
     "data": {
      "application/vnd.jupyter.widget-view+json": {
       "model_id": "a32ebac156334fc5aca3af3fa4aad679",
       "version_major": 2,
       "version_minor": 0
      },
      "text/plain": [
       "  0%|          | 0/415 [00:00<?, ?it/s]"
      ]
     },
     "metadata": {},
     "output_type": "display_data"
    },
    {
     "data": {
      "application/vnd.jupyter.widget-view+json": {
       "model_id": "7570bf9eebb2445e8ff4d99289b1f3ce",
       "version_major": 2,
       "version_minor": 0
      },
      "text/plain": [
       "  0%|          | 0/443 [00:00<?, ?it/s]"
      ]
     },
     "metadata": {},
     "output_type": "display_data"
    },
    {
     "data": {
      "application/vnd.jupyter.widget-view+json": {
       "model_id": "6006991889144064a9973a8a4081030d",
       "version_major": 2,
       "version_minor": 0
      },
      "text/plain": [
       "  0%|          | 0/339 [00:00<?, ?it/s]"
      ]
     },
     "metadata": {},
     "output_type": "display_data"
    },
    {
     "data": {
      "application/vnd.jupyter.widget-view+json": {
       "model_id": "db607ad158674197b50a36d4694f142f",
       "version_major": 2,
       "version_minor": 0
      },
      "text/plain": [
       "  0%|          | 0/241 [00:00<?, ?it/s]"
      ]
     },
     "metadata": {},
     "output_type": "display_data"
    },
    {
     "data": {
      "application/vnd.jupyter.widget-view+json": {
       "model_id": "f3a3ccce0b064421a5228e4671a59664",
       "version_major": 2,
       "version_minor": 0
      },
      "text/plain": [
       "  0%|          | 0/529 [00:00<?, ?it/s]"
      ]
     },
     "metadata": {},
     "output_type": "display_data"
    },
    {
     "data": {
      "application/vnd.jupyter.widget-view+json": {
       "model_id": "14b85854ee66429895b46708a8d7fbe5",
       "version_major": 2,
       "version_minor": 0
      },
      "text/plain": [
       "  0%|          | 0/461 [00:00<?, ?it/s]"
      ]
     },
     "metadata": {},
     "output_type": "display_data"
    },
    {
     "data": {
      "application/vnd.jupyter.widget-view+json": {
       "model_id": "b31ed6a6c8854c34bf46b9c303885ad7",
       "version_major": 2,
       "version_minor": 0
      },
      "text/plain": [
       "  0%|          | 0/353 [00:00<?, ?it/s]"
      ]
     },
     "metadata": {},
     "output_type": "display_data"
    },
    {
     "data": {
      "application/vnd.jupyter.widget-view+json": {
       "model_id": "50b858ab251241f3a241f4d78d2cc6f8",
       "version_major": 2,
       "version_minor": 0
      },
      "text/plain": [
       "  0%|          | 0/487 [00:00<?, ?it/s]"
      ]
     },
     "metadata": {},
     "output_type": "display_data"
    },
    {
     "data": {
      "application/vnd.jupyter.widget-view+json": {
       "model_id": "8aa080cd7c224e67b0e7aabb810c2687",
       "version_major": 2,
       "version_minor": 0
      },
      "text/plain": [
       "  0%|          | 0/423 [00:00<?, ?it/s]"
      ]
     },
     "metadata": {},
     "output_type": "display_data"
    },
    {
     "data": {
      "application/vnd.jupyter.widget-view+json": {
       "model_id": "0d8172801fa2488db22b86f74d4696dd",
       "version_major": 2,
       "version_minor": 0
      },
      "text/plain": [
       "  0%|          | 0/564 [00:00<?, ?it/s]"
      ]
     },
     "metadata": {},
     "output_type": "display_data"
    },
    {
     "data": {
      "application/vnd.jupyter.widget-view+json": {
       "model_id": "7194bec84e634f9e9269056f9f38816e",
       "version_major": 2,
       "version_minor": 0
      },
      "text/plain": [
       "  0%|          | 0/283 [00:00<?, ?it/s]"
      ]
     },
     "metadata": {},
     "output_type": "display_data"
    },
    {
     "data": {
      "application/vnd.jupyter.widget-view+json": {
       "model_id": "1b37f40fc1f74b3abfdece8ecdac2175",
       "version_major": 2,
       "version_minor": 0
      },
      "text/plain": [
       "  0%|          | 0/479 [00:00<?, ?it/s]"
      ]
     },
     "metadata": {},
     "output_type": "display_data"
    },
    {
     "data": {
      "application/vnd.jupyter.widget-view+json": {
       "model_id": "8ab16b67f1bd46afa7541bced2637f8f",
       "version_major": 2,
       "version_minor": 0
      },
      "text/plain": [
       "  0%|          | 0/464 [00:00<?, ?it/s]"
      ]
     },
     "metadata": {},
     "output_type": "display_data"
    },
    {
     "data": {
      "application/vnd.jupyter.widget-view+json": {
       "model_id": "7657049d0bb144a088faef6913f64142",
       "version_major": 2,
       "version_minor": 0
      },
      "text/plain": [
       "  0%|          | 0/493 [00:00<?, ?it/s]"
      ]
     },
     "metadata": {},
     "output_type": "display_data"
    },
    {
     "data": {
      "application/vnd.jupyter.widget-view+json": {
       "model_id": "ce27561870e943c69ff67d64ceb80eb6",
       "version_major": 2,
       "version_minor": 0
      },
      "text/plain": [
       "  0%|          | 0/284 [00:00<?, ?it/s]"
      ]
     },
     "metadata": {},
     "output_type": "display_data"
    },
    {
     "data": {
      "application/vnd.jupyter.widget-view+json": {
       "model_id": "447e19fb677f42da89d318a12811d91c",
       "version_major": 2,
       "version_minor": 0
      },
      "text/plain": [
       "  0%|          | 0/293 [00:00<?, ?it/s]"
      ]
     },
     "metadata": {},
     "output_type": "display_data"
    },
    {
     "data": {
      "application/vnd.jupyter.widget-view+json": {
       "model_id": "7d599665793a4881a09df8d5cc12fa0a",
       "version_major": 2,
       "version_minor": 0
      },
      "text/plain": [
       "  0%|          | 0/456 [00:00<?, ?it/s]"
      ]
     },
     "metadata": {},
     "output_type": "display_data"
    },
    {
     "data": {
      "application/vnd.jupyter.widget-view+json": {
       "model_id": "453e12db3fc04f5faa4028294a250c4c",
       "version_major": 2,
       "version_minor": 0
      },
      "text/plain": [
       "  0%|          | 0/260 [00:00<?, ?it/s]"
      ]
     },
     "metadata": {},
     "output_type": "display_data"
    },
    {
     "data": {
      "application/vnd.jupyter.widget-view+json": {
       "model_id": "d62774b35faf49d6b28f897b7129492c",
       "version_major": 2,
       "version_minor": 0
      },
      "text/plain": [
       "  0%|          | 0/30 [00:00<?, ?it/s]"
      ]
     },
     "metadata": {},
     "output_type": "display_data"
    },
    {
     "data": {
      "application/vnd.jupyter.widget-view+json": {
       "model_id": "2b690ec9789b4b6eab1f306c4b22986b",
       "version_major": 2,
       "version_minor": 0
      },
      "text/plain": [
       "  0%|          | 0/451 [00:00<?, ?it/s]"
      ]
     },
     "metadata": {},
     "output_type": "display_data"
    },
    {
     "data": {
      "application/vnd.jupyter.widget-view+json": {
       "model_id": "1a0a2301f77042ffa62b88495c4a0919",
       "version_major": 2,
       "version_minor": 0
      },
      "text/plain": [
       "  0%|          | 0/424 [00:00<?, ?it/s]"
      ]
     },
     "metadata": {},
     "output_type": "display_data"
    },
    {
     "data": {
      "application/vnd.jupyter.widget-view+json": {
       "model_id": "9eed548445254d7aa6bcbd0cdcaa2d46",
       "version_major": 2,
       "version_minor": 0
      },
      "text/plain": [
       "  0%|          | 0/483 [00:00<?, ?it/s]"
      ]
     },
     "metadata": {},
     "output_type": "display_data"
    },
    {
     "data": {
      "application/vnd.jupyter.widget-view+json": {
       "model_id": "964a1e58ea6a45a79b5749af3e4e0531",
       "version_major": 2,
       "version_minor": 0
      },
      "text/plain": [
       "  0%|          | 0/439 [00:00<?, ?it/s]"
      ]
     },
     "metadata": {},
     "output_type": "display_data"
    },
    {
     "data": {
      "application/vnd.jupyter.widget-view+json": {
       "model_id": "916f52d3ee9b4709854500c228d9a5d9",
       "version_major": 2,
       "version_minor": 0
      },
      "text/plain": [
       "  0%|          | 0/279 [00:00<?, ?it/s]"
      ]
     },
     "metadata": {},
     "output_type": "display_data"
    },
    {
     "data": {
      "application/vnd.jupyter.widget-view+json": {
       "model_id": "aacf8b2c82024beaa913a97a5d35a1a4",
       "version_major": 2,
       "version_minor": 0
      },
      "text/plain": [
       "  0%|          | 0/388 [00:00<?, ?it/s]"
      ]
     },
     "metadata": {},
     "output_type": "display_data"
    },
    {
     "data": {
      "application/vnd.jupyter.widget-view+json": {
       "model_id": "56e90d00ac52480f8eb4289a9d3d62a7",
       "version_major": 2,
       "version_minor": 0
      },
      "text/plain": [
       "  0%|          | 0/463 [00:00<?, ?it/s]"
      ]
     },
     "metadata": {},
     "output_type": "display_data"
    },
    {
     "data": {
      "application/vnd.jupyter.widget-view+json": {
       "model_id": "39188aa0d88f40e582c3d2909f98f451",
       "version_major": 2,
       "version_minor": 0
      },
      "text/plain": [
       "  0%|          | 0/389 [00:00<?, ?it/s]"
      ]
     },
     "metadata": {},
     "output_type": "display_data"
    },
    {
     "data": {
      "application/vnd.jupyter.widget-view+json": {
       "model_id": "1205a6c1d4ca4ba0b4ceb1dbb05db137",
       "version_major": 2,
       "version_minor": 0
      },
      "text/plain": [
       "  0%|          | 0/448 [00:00<?, ?it/s]"
      ]
     },
     "metadata": {},
     "output_type": "display_data"
    },
    {
     "data": {
      "application/vnd.jupyter.widget-view+json": {
       "model_id": "ea9009689e4347ed9b8ccbb380c71cc7",
       "version_major": 2,
       "version_minor": 0
      },
      "text/plain": [
       "  0%|          | 0/387 [00:00<?, ?it/s]"
      ]
     },
     "metadata": {},
     "output_type": "display_data"
    },
    {
     "data": {
      "application/vnd.jupyter.widget-view+json": {
       "model_id": "8b9c2029dffe4f3d9ee302091337a572",
       "version_major": 2,
       "version_minor": 0
      },
      "text/plain": [
       "  0%|          | 0/266 [00:00<?, ?it/s]"
      ]
     },
     "metadata": {},
     "output_type": "display_data"
    },
    {
     "data": {
      "application/vnd.jupyter.widget-view+json": {
       "model_id": "8c2a10775f2344709c130602b42b435f",
       "version_major": 2,
       "version_minor": 0
      },
      "text/plain": [
       "  0%|          | 0/296 [00:00<?, ?it/s]"
      ]
     },
     "metadata": {},
     "output_type": "display_data"
    },
    {
     "data": {
      "application/vnd.jupyter.widget-view+json": {
       "model_id": "e9abcba136684bd18a53303588fbbc6b",
       "version_major": 2,
       "version_minor": 0
      },
      "text/plain": [
       "  0%|          | 0/272 [00:00<?, ?it/s]"
      ]
     },
     "metadata": {},
     "output_type": "display_data"
    },
    {
     "data": {
      "application/vnd.jupyter.widget-view+json": {
       "model_id": "93772e5e16eb486e82e11e97d6cb34dd",
       "version_major": 2,
       "version_minor": 0
      },
      "text/plain": [
       "  0%|          | 0/328 [00:00<?, ?it/s]"
      ]
     },
     "metadata": {},
     "output_type": "display_data"
    },
    {
     "data": {
      "application/vnd.jupyter.widget-view+json": {
       "model_id": "4da20720401642d19ab852de531e4602",
       "version_major": 2,
       "version_minor": 0
      },
      "text/plain": [
       "  0%|          | 0/424 [00:00<?, ?it/s]"
      ]
     },
     "metadata": {},
     "output_type": "display_data"
    },
    {
     "data": {
      "application/vnd.jupyter.widget-view+json": {
       "model_id": "1c6c8b207d164d1faf8ed3c62553b1db",
       "version_major": 2,
       "version_minor": 0
      },
      "text/plain": [
       "  0%|          | 0/449 [00:00<?, ?it/s]"
      ]
     },
     "metadata": {},
     "output_type": "display_data"
    },
    {
     "data": {
      "application/vnd.jupyter.widget-view+json": {
       "model_id": "3275b837752042c19fc45151a551ab1a",
       "version_major": 2,
       "version_minor": 0
      },
      "text/plain": [
       "  0%|          | 0/278 [00:00<?, ?it/s]"
      ]
     },
     "metadata": {},
     "output_type": "display_data"
    },
    {
     "data": {
      "application/vnd.jupyter.widget-view+json": {
       "model_id": "b6f75e28c3d84ee994bfe3edd7869a0b",
       "version_major": 2,
       "version_minor": 0
      },
      "text/plain": [
       "  0%|          | 0/393 [00:00<?, ?it/s]"
      ]
     },
     "metadata": {},
     "output_type": "display_data"
    },
    {
     "data": {
      "application/vnd.jupyter.widget-view+json": {
       "model_id": "4b68b1f7a4d74bac84e386305ff96f21",
       "version_major": 2,
       "version_minor": 0
      },
      "text/plain": [
       "  0%|          | 0/383 [00:00<?, ?it/s]"
      ]
     },
     "metadata": {},
     "output_type": "display_data"
    },
    {
     "data": {
      "application/vnd.jupyter.widget-view+json": {
       "model_id": "52e89e932bc54707a2819c7f6ff379b6",
       "version_major": 2,
       "version_minor": 0
      },
      "text/plain": [
       "  0%|          | 0/323 [00:00<?, ?it/s]"
      ]
     },
     "metadata": {},
     "output_type": "display_data"
    },
    {
     "data": {
      "application/vnd.jupyter.widget-view+json": {
       "model_id": "aca146beaf4a440b86b7629aa67db8bc",
       "version_major": 2,
       "version_minor": 0
      },
      "text/plain": [
       "  0%|          | 0/376 [00:00<?, ?it/s]"
      ]
     },
     "metadata": {},
     "output_type": "display_data"
    },
    {
     "data": {
      "application/vnd.jupyter.widget-view+json": {
       "model_id": "733401f349414ab8b7642f75a5cda168",
       "version_major": 2,
       "version_minor": 0
      },
      "text/plain": [
       "  0%|          | 0/334 [00:00<?, ?it/s]"
      ]
     },
     "metadata": {},
     "output_type": "display_data"
    },
    {
     "data": {
      "application/vnd.jupyter.widget-view+json": {
       "model_id": "9819d81dc1074156b828b6dd90d30caa",
       "version_major": 2,
       "version_minor": 0
      },
      "text/plain": [
       "  0%|          | 0/450 [00:00<?, ?it/s]"
      ]
     },
     "metadata": {},
     "output_type": "display_data"
    },
    {
     "data": {
      "application/vnd.jupyter.widget-view+json": {
       "model_id": "eca32b08df254dd2bc014f1697320366",
       "version_major": 2,
       "version_minor": 0
      },
      "text/plain": [
       "  0%|          | 0/422 [00:00<?, ?it/s]"
      ]
     },
     "metadata": {},
     "output_type": "display_data"
    },
    {
     "data": {
      "application/vnd.jupyter.widget-view+json": {
       "model_id": "9e7e82b9cb084ab58179c7c9707e313e",
       "version_major": 2,
       "version_minor": 0
      },
      "text/plain": [
       "  0%|          | 0/480 [00:00<?, ?it/s]"
      ]
     },
     "metadata": {},
     "output_type": "display_data"
    },
    {
     "data": {
      "application/vnd.jupyter.widget-view+json": {
       "model_id": "5f092c201ebf4ab890b3c594ca245933",
       "version_major": 2,
       "version_minor": 0
      },
      "text/plain": [
       "  0%|          | 0/305 [00:00<?, ?it/s]"
      ]
     },
     "metadata": {},
     "output_type": "display_data"
    },
    {
     "data": {
      "application/vnd.jupyter.widget-view+json": {
       "model_id": "117b503d52774a6b9858bd4f883db08b",
       "version_major": 2,
       "version_minor": 0
      },
      "text/plain": [
       "  0%|          | 0/478 [00:00<?, ?it/s]"
      ]
     },
     "metadata": {},
     "output_type": "display_data"
    },
    {
     "data": {
      "application/vnd.jupyter.widget-view+json": {
       "model_id": "97631b5690c74a689501bf5feea067eb",
       "version_major": 2,
       "version_minor": 0
      },
      "text/plain": [
       "  0%|          | 0/392 [00:00<?, ?it/s]"
      ]
     },
     "metadata": {},
     "output_type": "display_data"
    },
    {
     "data": {
      "application/vnd.jupyter.widget-view+json": {
       "model_id": "6ebbbafa8c6d4eee84ffa43d01f932d5",
       "version_major": 2,
       "version_minor": 0
      },
      "text/plain": [
       "  0%|          | 0/459 [00:00<?, ?it/s]"
      ]
     },
     "metadata": {},
     "output_type": "display_data"
    },
    {
     "data": {
      "application/vnd.jupyter.widget-view+json": {
       "model_id": "fc241ae1fd374e3fbcf7e0f34c1e198c",
       "version_major": 2,
       "version_minor": 0
      },
      "text/plain": [
       "  0%|          | 0/427 [00:00<?, ?it/s]"
      ]
     },
     "metadata": {},
     "output_type": "display_data"
    }
   ],
   "source": [
    "#Iterate through the files to extract sentences\n",
    "#Root directory -> Level 1\n",
    "for dir1 in tqdm(os.listdir(path)):\n",
    "    #Root directory -> Level 1 -> Level 2\n",
    "    for dir2 in tqdm(os.listdir(os.path.join(path,dir1))):\n",
    "        #Root directory -> Level 1 -> Level 2 -> Files\n",
    "        for dir3 in tqdm(os.listdir(os.path.join(path, dir1, dir2))):\n",
    "            #Parse through to extract sentences\n",
    "            tree=et.parse(os.path.join(path, dir1, dir2, dir3))\n",
    "            root=tree.getroot()\n",
    "            #Obtain sentences from object\n",
    "            for sentence in (root.iter('p')):\n",
    "                #Eliminate new lines and lines with no spaces\n",
    "                 if (sentence.text != None):\n",
    "                    sentence = sentence.text.translate(str.maketrans('', '', string.punctuation))\n",
    "                    sentence = sentence.strip()\n",
    "                    #Include only lines with spaces\n",
    "                    if sentence.count(' ')<4:\n",
    "                       break\n",
    "                    else:\n",
    "                        s_list = [sentence, dir1, dir2, dir3]\n",
    "                        #print(type(s_list))\n",
    "                        sentences_list.append(s_list)\n",
    "                 else:\n",
    "                        break"
   ]
  },
  {
   "cell_type": "code",
   "execution_count": 6,
   "id": "180164d2",
   "metadata": {},
   "outputs": [],
   "source": [
    "#Convert list to dataframe\n",
    "sentences_df  = pd.DataFrame(data = sentences_list, \n",
    "                             columns = [\"sentences\",\"dir1\", \"dir2\",\"file\"])"
   ]
  },
  {
   "cell_type": "code",
   "execution_count": 7,
   "id": "aaeb2823",
   "metadata": {
    "scrolled": true
   },
   "outputs": [
    {
     "data": {
      "text/html": [
       "<div>\n",
       "<style scoped>\n",
       "    .dataframe tbody tr th:only-of-type {\n",
       "        vertical-align: middle;\n",
       "    }\n",
       "\n",
       "    .dataframe tbody tr th {\n",
       "        vertical-align: top;\n",
       "    }\n",
       "\n",
       "    .dataframe thead th {\n",
       "        text-align: right;\n",
       "    }\n",
       "</style>\n",
       "<table border=\"1\" class=\"dataframe\">\n",
       "  <thead>\n",
       "    <tr style=\"text-align: right;\">\n",
       "      <th></th>\n",
       "      <th>sentences</th>\n",
       "      <th>dir1</th>\n",
       "      <th>dir2</th>\n",
       "      <th>file</th>\n",
       "    </tr>\n",
       "  </thead>\n",
       "  <tbody>\n",
       "    <tr>\n",
       "      <th>0</th>\n",
       "      <td>Poland on Wednesday adopted a ban on Belarusia...</td>\n",
       "      <td>05</td>\n",
       "      <td>26</td>\n",
       "      <td>afp.com-20210526T175128Z-TX-PAR-WPC31.xml</td>\n",
       "    </tr>\n",
       "    <tr>\n",
       "      <th>1</th>\n",
       "      <td>The Council of Ministers has adopted a ban on ...</td>\n",
       "      <td>05</td>\n",
       "      <td>26</td>\n",
       "      <td>afp.com-20210526T175128Z-TX-PAR-WPC31.xml</td>\n",
       "    </tr>\n",
       "    <tr>\n",
       "      <th>2</th>\n",
       "      <td>This is an element of the implementation of th...</td>\n",
       "      <td>05</td>\n",
       "      <td>26</td>\n",
       "      <td>afp.com-20210526T175128Z-TX-PAR-WPC31.xml</td>\n",
       "    </tr>\n",
       "    <tr>\n",
       "      <th>3</th>\n",
       "      <td>Poland shares a long border with Belarus and t...</td>\n",
       "      <td>05</td>\n",
       "      <td>26</td>\n",
       "      <td>afp.com-20210526T175128Z-TX-PAR-WPC31.xml</td>\n",
       "    </tr>\n",
       "    <tr>\n",
       "      <th>4</th>\n",
       "      <td>There was confusion earlier on Wednesday when ...</td>\n",
       "      <td>05</td>\n",
       "      <td>26</td>\n",
       "      <td>afp.com-20210526T175128Z-TX-PAR-WPC31.xml</td>\n",
       "    </tr>\n",
       "    <tr>\n",
       "      <th>...</th>\n",
       "      <td>...</td>\n",
       "      <td>...</td>\n",
       "      <td>...</td>\n",
       "      <td>...</td>\n",
       "    </tr>\n",
       "    <tr>\n",
       "      <th>1161975</th>\n",
       "      <td>Search engines like Google social networking s...</td>\n",
       "      <td>11</td>\n",
       "      <td>17</td>\n",
       "      <td>afp.com-20211117T154522Z-TX-PAR-BUX73.xml</td>\n",
       "    </tr>\n",
       "    <tr>\n",
       "      <th>1161976</th>\n",
       "      <td>Unlike traditional media these platforms are n...</td>\n",
       "      <td>11</td>\n",
       "      <td>17</td>\n",
       "      <td>afp.com-20211117T154522Z-TX-PAR-BUX73.xml</td>\n",
       "    </tr>\n",
       "    <tr>\n",
       "      <th>1161977</th>\n",
       "      <td>Under Switzerlands direct democracy voters go ...</td>\n",
       "      <td>11</td>\n",
       "      <td>17</td>\n",
       "      <td>afp.com-20211117T154522Z-TX-PAR-BUX73.xml</td>\n",
       "    </tr>\n",
       "    <tr>\n",
       "      <th>1161978</th>\n",
       "      <td>New platforms provide an easy way to spread il...</td>\n",
       "      <td>11</td>\n",
       "      <td>17</td>\n",
       "      <td>afp.com-20211117T154522Z-TX-PAR-BUX73.xml</td>\n",
       "    </tr>\n",
       "    <tr>\n",
       "      <th>1161979</th>\n",
       "      <td>The government said there was a growing convic...</td>\n",
       "      <td>11</td>\n",
       "      <td>17</td>\n",
       "      <td>afp.com-20211117T154522Z-TX-PAR-BUX73.xml</td>\n",
       "    </tr>\n",
       "  </tbody>\n",
       "</table>\n",
       "<p>1161980 rows × 4 columns</p>\n",
       "</div>"
      ],
      "text/plain": [
       "                                                 sentences dir1 dir2  \\\n",
       "0        Poland on Wednesday adopted a ban on Belarusia...   05   26   \n",
       "1        The Council of Ministers has adopted a ban on ...   05   26   \n",
       "2        This is an element of the implementation of th...   05   26   \n",
       "3        Poland shares a long border with Belarus and t...   05   26   \n",
       "4        There was confusion earlier on Wednesday when ...   05   26   \n",
       "...                                                    ...  ...  ...   \n",
       "1161975  Search engines like Google social networking s...   11   17   \n",
       "1161976  Unlike traditional media these platforms are n...   11   17   \n",
       "1161977  Under Switzerlands direct democracy voters go ...   11   17   \n",
       "1161978  New platforms provide an easy way to spread il...   11   17   \n",
       "1161979  The government said there was a growing convic...   11   17   \n",
       "\n",
       "                                              file  \n",
       "0        afp.com-20210526T175128Z-TX-PAR-WPC31.xml  \n",
       "1        afp.com-20210526T175128Z-TX-PAR-WPC31.xml  \n",
       "2        afp.com-20210526T175128Z-TX-PAR-WPC31.xml  \n",
       "3        afp.com-20210526T175128Z-TX-PAR-WPC31.xml  \n",
       "4        afp.com-20210526T175128Z-TX-PAR-WPC31.xml  \n",
       "...                                            ...  \n",
       "1161975  afp.com-20211117T154522Z-TX-PAR-BUX73.xml  \n",
       "1161976  afp.com-20211117T154522Z-TX-PAR-BUX73.xml  \n",
       "1161977  afp.com-20211117T154522Z-TX-PAR-BUX73.xml  \n",
       "1161978  afp.com-20211117T154522Z-TX-PAR-BUX73.xml  \n",
       "1161979  afp.com-20211117T154522Z-TX-PAR-BUX73.xml  \n",
       "\n",
       "[1161980 rows x 4 columns]"
      ]
     },
     "execution_count": 7,
     "metadata": {},
     "output_type": "execute_result"
    }
   ],
   "source": [
    "sentences_df"
   ]
  },
  {
   "cell_type": "code",
   "execution_count": 8,
   "id": "d6508e5c",
   "metadata": {},
   "outputs": [],
   "source": [
    "#Save dataframe output\n",
    "sentences_df.to_csv('/home/deepika/Documents/eurecom/project3/afp 2021/scripts/sentences_df.txt', \n",
    "                    sep='\\t', index=False)"
   ]
  },
  {
   "cell_type": "code",
   "execution_count": 9,
   "id": "af21e669",
   "metadata": {},
   "outputs": [
    {
     "data": {
      "application/vnd.jupyter.widget-view+json": {
       "model_id": "49aff307fc264ab3bdb51dc8ca46d6f5",
       "version_major": 2,
       "version_minor": 0
      },
      "text/plain": [
       "  0%|          | 0/1000 [00:00<?, ?it/s]"
      ]
     },
     "metadata": {},
     "output_type": "display_data"
    }
   ],
   "source": [
    "#Define the type of word to extract\n",
    "pattern = [{\"POS\":\"VERB\"}]\n",
    "verb_list = []\n",
    "\n",
    "#Use only a subset from the main directory\n",
    "#+s_list_from_df = list(sentences_df['sentences'][0:1000])\n",
    "#print(s_list_from_df)\n",
    "s_list_from_df = sentences_df[0:1000]\n",
    "\n",
    "verb_sentence_dir = []\n",
    "for i in tqdm(s_list_from_df.index):\n",
    "    #USe only lemmas\n",
    "    doc = nlp(\" \".join([token.lemma_ for token in nlp(s_list_from_df['sentences'][i])]))\n",
    "    #Extract verbs\n",
    "    verbs = textacy.extract.token_matches(doc, patterns = pattern)\n",
    "    v = []\n",
    "    \n",
    "    for verb in verbs:\n",
    "        v.append(verb)\n",
    "        if verb not in verb_list:\n",
    "            verb_list.append(verb)    \n",
    "    path_to_file = os.path.join('/home/deepika/Documents/eurecom/project3/afp 2021/2021/',\n",
    "                                str(s_list_from_df['dir1'][i]), s_list_from_df['dir2'][i], \n",
    "                                s_list_from_df['file'][i])\n",
    "    verb_sentence_dir.append([s_list_from_df['sentences'][i], v, path_to_file])"
   ]
  },
  {
   "cell_type": "code",
   "execution_count": 10,
   "id": "999391b8",
   "metadata": {},
   "outputs": [
    {
     "name": "stdout",
     "output_type": "stream",
     "text": [
      "['Poland on Wednesday adopted a ban on Belarusian flights using its airspace as part of EUwide sanctions agreed this week after Belarus arrested a dissident journalist on a diverted flight', [adopt, use, agree, arrest], '/home/deepika/Documents/eurecom/project3/afp 2021/2021/05/26/afp.com-20210526T175128Z-TX-PAR-WPC31.xml']\n"
     ]
    }
   ],
   "source": [
    "print(verb_sentence_dir[0])\n",
    "#Save sentences and their verbs\n",
    "verb_from_sentence_df  = pd.DataFrame(data = verb_sentence_dir,\n",
    "                                      columns = [\"sentence\",\"verbs\", \"file\"])\n",
    "verb_from_sentence_df.to_csv('/home/deepika/Documents/eurecom/project3/afp 2021/scripts/v_from_sentences.txt', \n",
    "                    sep='\\t', index=False)"
   ]
  },
  {
   "cell_type": "code",
   "execution_count": 11,
   "id": "eae1393c",
   "metadata": {},
   "outputs": [
    {
     "name": "stdout",
     "output_type": "stream",
     "text": [
      "['The Council of Ministers has adopted a ban on the entry into Polish airspace of aircraft used by carriers from Belarus government spokesman Piotr Muller said on Twitter', [adopt, say], '/home/deepika/Documents/eurecom/project3/afp 2021/2021/05/26/afp.com-20210526T175128Z-TX-PAR-WPC31.xml']\n"
     ]
    }
   ],
   "source": [
    "print(verb_sentence_dir[1])\n"
   ]
  },
  {
   "cell_type": "code",
   "execution_count": 12,
   "id": "38767f7b",
   "metadata": {},
   "outputs": [
    {
     "name": "stdout",
     "output_type": "stream",
     "text": [
      "['adopt', 'use', 'agree', 'arrest', 'adopt', 'say', 'share', 'expect', 'have', 'include', 'be', 'see', 'say', 'deny', 'say', 'allow', 'allow', 'land', 'say', 'allow', 'tell', 'be', 'adopt', 'follow', 'say', 'agree', 'ban', 'urge', 'fly', 'say', 'do', 'impose', 'follow', 'garner', 'facilitate', 'hold', 'evolve', 'organize', 'announce', 'focus', 'allow', 'schedule', 'maximize', 'continue', 'grow', 'join', 'expect', 'showcase', 'involve', 'attract', 'lead', 'promise', 'be', 'grow', 'strengthen', 'hold', 'showcase', 'meet', 'introduce', 'show', 'serve', 'consist', 'regard', 'include', 'cover', 'bring', 'onsite', 'develop', 'introduce', 'maintain', 'present', 'have', 'discover', 'see', 'hit', 'leave', 'warn', 'call', 'scale', 'combined', 'worsen', 'dire', 'find', 'lose', 'say', 'say', 'be', 'meet', 'include', 'come', 'say', 'say', 'include', 'beating', 'continue', 'deteriorate', 'remain', 'increase', 'say', 'lose', 'send', 'find', 'want', 'go', 'be', 'pay', 'do', 'know', 'relinquish', 'find', 'work', 'scale', 'say', 'say', 'seek', 'offer', 'present', 'refute', 'expect', 'expect', 'trade', 'compare', 'be', 'include', 'assess', 'take', 'put', 'expect', 'expect', 'CAGR', 'be', 'do', 'come', 'be', 'be', 'be', 'apply', 'ramirezexplain', 'normalize', 'relativise', 'show', 'explain', 'list', 'decide', 'explain', 'have', 'go', 'make', 'explain', 'say', 'add', 'be', 'survive', 'take', 'fail', 'reach', 'succeed', 'see', 'snap', 'acquire', 'dose', 'accuse', 'violate', 'stop', 'attend', 'argue', 'be', 'dismiss', 'say', 'contain', 'be', 'have', 'get', 'add', 'suffer', 'take', 'control', 'leave', 'fail', 'pass', 'take', 'gather', 'accuse', 'call', 'say', 'end', 'accuse', 'commit', 'fly', 'deny', 'turn', 'say', 'refuse', 'go', 'have', 'spend', 'say', 'turn', 'cite', 'say', 'say', 'add', 'put', 'say', 'violate', 'regulate', 'divert', 'arrest', 'urge', 'avoid', 'fly', 'dub', 'say', 'receive', 'operate', 'say', 'make', 'include', 'suspend', 'say', 'add', 'condemn', 'occur', 'comply', 'come', 'stop', 'finance', 'be', 'bring', 'operate', 'say', 'continue', 'produce', 'disrupt', 'reveal', 'report', 'pass', 'control', 'find', 'publish', 'say', 'pull', 'have', 'run', 'following', 'have', 'have', 'bear', 'raise', 'start', 'train', 'return', 'slip', 'limit', 'invest', 'tell', 'have', 'have', 'fend', 'midfielder', 'look', 'look', 'continue', 'have', 's', 'make', 'use', 'manipulate', 'register', 'continue', 'play', 'foster', 'have', 'say', 'hear', 'say', 'let', 'play', 'look', 'turn', 'go', 'worry', 'stand', 'see', 'be', 'see', 'tell', 'make', 'adopt', 'use', 'agree', 'arrest', 'adopt', 'say', 'say', 'be', 'warhit', 'carry', 'involve', 'oust', 'detain', 'beat', 'snatch', 'account', 'witness', 'happen', 'tell', 'understand', 'distress', 'say', 'observe', 'flee', 'feel', 'believe', 'tell', 'infiltrate', 'say', 'be', 'respond', 'request', 'say', 'sweep', 'say', 'dismiss', 'be', 'be', 'say', 'send', 'detain', 'say', 'come', 'vow', 'fighting', 'continue', 'warn', 'selfisolate', 'get', 'attend', 'avoid', 'contain', 'grow', 'identify', 'include', 'attend', 'draw', 'say', 'sit', 'require', 'selfisolate', 'receive', 'review', 'determine', 'leave', 'test', 'endure', 'allow', 'go', 'warn', 'face', 'be', 'concerned', 'go', 'go', 'have', 'make', 'say', 'limit', 'gathering', 'make', 'grow', 'introduce', 'record', 'acquire', 'believe', 'return', 'became', 'curb', 'limit', 'require', 'isolate', 'repeat', 'have', 'attack', 'address', 'have', 'have', 'administer', 'hope', 'finish', 'announce', 'launch', 'say', 'find', 'middleclass', 'feature', 'recruit', 'include', 'compare', 'rightwe', 'insist', 'comply', 'come', 'include', 'obtain', 'find', 'know', 'suggest', 'pay', 'keep', 'plan', 'lift', 'bring', 'cost', 'add', 'momentum', 'prompt', 'earning', 'gain', 'slip', 'edge', 'acquire', 'give', 'further', 'jump', 'say', 'expect', 'comprise', 'pledge', 'direct', 'deepen', 'cut', 'involve', 'show', 'win', 'secure', 'back', 'require', 'call', 'reduce', 'slash', 'follow', 'secure', 'join', 'be', 'say', 'say', 'call', 'join', 'know', 'announce', 'congratulate', 'work', 'meet', 'launch', 'reelect', 'argue', 'take', 'address', 'hear', 'catalyze', 'be', 'deliver', 'say', 'offer', 'be', 'be', 'target', 'say', 'describe', 'say', 'be', 'confirm', 'die', 'add', 'injure', 'be', 'take', 'say', 'take', 'stop', 'tell', 'tell', 'explode', 'terrify', 'lie', 'be', 'run', 'say', 'deploy', 'arrest', 'say', 'tell', 'stand', 'be', 'want', 'show', 'prevail', 'open', 'say', 'come', 'include', 'announce', 'be', 'report', 'report', 'arrive', 'break', 'have', 'be', 'prevent', 'build', 'want', 'challenge', 'register', 'shut', 'win', 'secure', 'suning', 'want', 'save', 'sell', 'believe', 'play', 'take', 'finishing', 'blame', 'challenge', 'crash', 'fear', 'say', 'go', 'tell', 'carry', 'say', 'speak', 'rescue', 'remain', 'be', 'believe', 'say', 'be', 'involve', 'be', 'listen', 'sensitise', 'reduce', 'carry', 'say', 'say', 'sink', 'blame', 'ferry', 'load', 'say', 'drown', 'ferry', 'split', 'hit', 'resign', 'arrest', 'say', 'be', 'resign', 'say', 'junta', 'say', 'ecowa', 'confirm', 'travel', 'visit', 'be', 'head', 'hold', 'accuse', 'fail', 'consult', 'set', 'hold', 'ecowa', 'issue', 'demand', 'oust', 'say', 'pull', 'make', 'make', 'say', 'add', 'urge', 'come', 'say', 'consider', 'move', 'have', 'divert', 'arrest', 'be', 'dismiss', 'say', 'act', 'be', 'face', 'grow', 'begin', 'play', 'announce', 'be', 'seal', 'tell', 'put', 'jeopardise', 'resign', 'say', 'be', 'appear', 'amount', 'visit', 'say', 'junta', 'ecowa', 'tell', 'resign', 'arrive', 'go', 'speak', 'hold', 'see', 'see', 'express', 'tell', 'say', 'set', 'hold', 'meet', 'warn', 'announce', 'resolve', 'impose', 'say', 'say', 'consider', 'impede', 'stand', 'achieve', 'say', 'say', 'suspend', 'suspect', 'have', 'publish', 'remote', 'sensing', 'identify', 'observed', 'be', 'emerge', 'have', 'depend', 'warn', 'be', 'outline', 'provide', 'understand', 'be', 'consider', 'say', 'provide', 'affect', 'take', 'mitigate', 'find', 'reduce', 'assessed', 'disclose', 'address', 'receive', 'Integrating', 'roll', 'connect', 'break', 'offer', 'address', 'kick', 'discuss', 'be', 'revolve', 'unlock', 'explore', 'lead', 'discuss', 'Showcase', 'use', 'create', 'provide', 'obtain', 'showcase', 'announce', 'hold', 'showcase', 'include', 'reveal', 'include', 'ECM53060C', 'drive', 'move', 'commit', 'build', 'create', 'divide', 'build', 'help', 'startup', 'connect', 'bring', 'join', 'maximize', 'provide', 'use', 'identify', 'promote', 'help', 'increase', 'enable', 'seize', 'bring', 'visit', 'call', 'establish', 'startup', 'cover', 'establish', 'startup', 'be', 'use', 'arrest', 'say', 'have', 'go', 'tell', 'set', 'say', 'Uruguay', 'expect', 's', 'approve', 'carry', 'explain', 'go', 'request', 'obstruct', 'be', 'commit', 'say', 'consider', 'say', 'want', 'have', 'have', 'dominate', 'include', 'be', 'go', 'nominate', 'go', 'win', 'lavish', 'become', 'feature', 'produce', 'hit', 'go', 'win', 'try', 'reach', 'say', 'know', 'curb', 'say', 'recover', 'be', 'trap', 'give', 'say', 'say', 'say', 'come', 'tell', 'take', 'get', 'be', 'secondlargest', 'drive', 'involve', 'be', 'say', 'present', 'see', 'be', 'build', 'say', 'prove', 'say', 'come', 'be', 'result', 'include', 'infect', 'deny', 'describe', 'declare', 'have', 'do', 'conduct', 'acknowledge', 'possess', 'cause', 'pose', 'say', 'accuse', 'fund', 'resume', 'sign', 'make', 'end', 'represent', 'have', 'fight', 'end', 'join', 'be', 'sign', 'lay', 'be', 'focus', 'attend', 'be', 'mediate', 'embrace', 'let', 'believe', 'save', 'see', 'get', 'want', 'say', 'have', 'sing', 'gather', 'affirm', 'resolve', 'say', 'alhilu', 'say', 'come', 'achieve', 'complement', 'start', 'say', 'demonstrate', 'build', 'reach', 'have', 'publish', 'remote', 'sensing', 'identify', 'observed', 'be', 'emerge', 'have', 'depend', 'warn', 'be', 'outline', 'provide', 'understand', 'be', 'consider', 'say', 'provide', 'affect', 'take', 'mitigate', 'find', 'reduce', 'assessed', 'disclose', 'address', 'receive', 'Integrating', 'cheer', 'have', 'arrest', 'come', 'be', 'consider', 'find', 'follow', 'involve', 'dub', 'want', 'try', 'chip', 'reach', 'say', 'begin', 'indicate', 'be', 'say', 'deal', 'say', 'commit', 'face', 'win', 'miss', 'give', 'equalise', 'prevail', 'extend', 'replace', 'name', 'start', 'take', 'deem', 'leave', 'click', 'create', 'torre', 'Geronimo', 'break', 'start', 'swing', 'spark', 'watch', 'burst', 'send', 'divert', 'cross', 'take', 'appear', 'catch', 'level', 'stab', 'recover', 'anticipate', 'be', 'come', 'drill', 'try', 'readjust', 'head', 'continue', 'dominate', 'remain', 'curl', 'begin', 'tire', 'make', 'replace', 'slow', 'intensify', 'convert', 'have', 'lose', 'investigate', 'come', 'defend', 'lash', 'have', 'turn', 'refuse', 'close', 'dismiss', 'act', 'protect', 'say', 'undermine', 'say', 'accuse', 'change', 'say', 'accuse', 'dub', 'continue', 'enjoy', 'be', 'host', 'say', 'be', 'disbelieve', 'follow', 'accuse', 'hijack', 'agree', 'cut', 'tell', 'avoid', 'pop', 'fight', 'meet', 'suffer', 'be', 'call', 'get', 'have', 'bump', 'write', 'tell', 'stay', 'stay', 'inspire', 'do', 'go', 'get', 'indicate', 'come', 'offer', 'tweet', 'say', 'drive', 'go', 'roll', 'repair', 'say', 'hope', 'serve', 'resign', 'say', 'be', 'appear', 'amount', 'condemn', 'call', 'discuss', 'be', 'visit', 'say', 'junta', 'ecowa', 'tell', 'resign', 'arrive', 'go', 'speak', 'hold', 'see', 'say', 'happen', 'give', 'say', 'be', 'hold', 'urge', 'return', 'urge', 'envisage', 'discuss', 'impose', 'refrain', 'call', 'meet', 'warn', 'announce', 'resolve', 'impose', 'say', 'say', 'consider', 'impede', 'say', 'suspend', 'accelerate', 'introduce', 'combine', 'cover', 'drive', 'accelerate', 'have', 'selfprovision', 'reduce', 'find', 'face', 'rise', 'show', 'cover', 'wait', 'need', 'run', 'develop', 'build', 'deliver', 'want', 'launch', 'want', 'acquire', 'put', 'give', 'build', 'empower', 'transform', 'scale', 'be', 'simplify', 'help', 'achieve', 'deliver', 'bring', 'saving', 'integrate', 'have', 'scale', 'depend', 'give', 'innovate', 'use', 'estimate', 'use', 'benefit', 'open', 'see', 'add', 'expect', 'reach', 'use', 'benefit', 'say', 'turn', 'scale', 'meet', 'grow', 'pass', 'accelerate', 'remove', 'enable', 'concentrate', 'turn', 'build', 'manage', 'gain', 'lead', 'cover', 'be', 'create', 'be', 'be', 'configure', 'integrate', 'consume', 'go', 'update', 'offer', 'manage', 'enable', 'innovate', 'explore', 'train', 'create', 'include', 'enable', 'configure', 'offer', 'be', 'choose', 'move', 'collaborate', 'preintegrated', 'consume', 'work', 'extend', 'collaborate', 'test', 'measure', 'gain', 'support', 'spin', 'manage', 'offer', 'bank', 'manage', 'offer', 'optimize', 'warn', 'avoid', 'scale', 'send', 'disarm', 'say', 'come', 'say', 'continue', 'hover', 'need', 'break', 'say', 'urge', 'take', 'prevent', 'say', 'face', 'say', 'add', 'continue', 'injure', 'add', 'destroy', 'include', 'warn', 'estimate', 'loot', 'integrate', 'continue', 'experience', 'have', 'set', 'reach', 'expect', 'grow', 'come', 'grow', 'open', 'start', 'have', 'employ', 'compare', 'open', 'recognize', 'list', 'grow', 'rank', 'grow', 'say', 'continue', 'engage', 'drive', 'be', 'hire', 'develop', 'commit', 'achieve', 'take', 'integrate', 's', 'help', 'make', 'make', 'be', 'create', 'serve', 'continue', 'grow', 'certify', 'expect', 'double', 'deliver', 'configure', 'be', 'deliver', 'say', 'announce', 'complete', 'offer', 'receive', 'be', 'raise', 'exclude', 'offering', 'join', 'announce', 'make', 'receive', 'build', 'lie', 'say', 'add', 'advance', 'recognize', 'intend', 'stay', 'provide', 'conclude', 'say', 'make', 'extend', 'thank', 'expect', 'ring', 'announce', 'intend', 'use', 'proceed', 'fund', 'redeem', 'repay', 'serve', 'serve', 'be', 'include', 'possession', 'be', 'form', 'register', 'sell', 'contain', 'send', 'contain', 'accept', 'be', 'have', 'save', 'host', 'running', 'move', 'recede', 'organise', 'turn', 'stage', 'clash', 'turn', 'help', 'be', 'agree', 'stage', 'say', 'suppose', 'stage', 'rearrange', 'tell', 'host', 'become', 'put', 'ensure', 'defend', 'lash', 'dismiss', 'provoke', 'act', 'protect', 'say', 'parliament', 'undermine', 'say', 'accuse', 'change', 'say', 'accuse', 'dub', 'be', 'follow', 'hijack', 'agree', 'cut', 'tell', 'avoid', 'hold', 'fall', 'attend', 'welcome', 'say', 'hold', 'take', 'bar', 'set', 'decide', 'attend', 'have', 'have', 'lose', 'win', 'miss', 'give', 'equalise', 'prevail', 'extend', 'feel', 'play', 'know', 'tell', 'manage', 'get', 'get', 'replace', 'name', 'start', 'take', 'deem', 'leave', 'click', 'create', 'torre', 'Geronimo', 'break', 'start', 'swing', 'spark', 'watch', 'burst', 'send', 'divert', 'cross', 'take', 'appear', 'catch', 'level', 'stab', 'recover', 'anticipate', 'be', 'come', 'drill', 'try', 'readjust', 'head', 'continue', 'dominate', 'remain', 'curl', 'begin', 'tire', 'make', 'replace', 'slow', 'intensify', 'convert', 'have', 'lose', 'agree', 'buy', 'say', 'give', 'further', 'bolster', 'compete', 'include', 'plan', 'reimagine', 'develop', 'say', 'come', 'make', 'give', 'be', 'own', 'film', 'include', 'have', 'filmmake', 'complement', 'focus', 'produce', 'say', 'help', 'preserve', 'provide', 'empower', 'continue', 'do', 'do', 'storytelling', 'have', 'explore', 'be', 'have', 'lead', 'help', 'protect', 'educate', 'release', 'include', 'help', 'reader', 'understand', 'estimate', 'affect', 'safeguard', 'explain', 'substantiate', 'improve', 'pose', 'warn', 'come', 'heed', 'warn', 'tooth', 'lead', 'heighten', 'increase', 'ensure', 'multiply', 'cause', 'spread', 'shelter', 'include', 'provide', 'thrive', 'cause', 'know', 'spread', 'begin', 'coat', 'accumulate', 'erode', 'cause', 'irritate', 'cause', 'progress', 'lead', 'worsen', 'cause', 'set', 'spread', 'find', 'increase', 'trigger', 'lead', 'be', 'observe', 'control', 'cause', 'enter', 'circulate', 'include', 'have', 'develop', 'infect', 'play', 'lead', 'diseasevii', 'maintain', 'recommend', 'make', 'wholebody', 'empower', 'take', 'follow', 'help', 'maintain', 'adapt', 'reach', 'remove', 'give', 'help', 'protect', 'contain', 'formulate', 'reduce', 'accumulate', 'hide', 'reach', 'remove', 'help', 'protect', 'prevent', 'detect', 'develop', 'find', 'leave', 'give', 'midfielder', 'replace', 'suffer', 'collide', 'miss', 'contest', 'face', 'aim', 'win', 'appear', 'win', 'make', 'fall', 'go', 'involve', 'include', 'manage', 'get', 'fracture', 'hit', 'plunge', 'end', 'take', 'include', 'press', 'shore', 'meet', 'throw', 'end', 'rebuild', 'reopen', 'give', 'signal', 'shutter', 'slash', 'evoke', 'resume', 'achieve', 'continue', 'believe', 'assure', 'give', 'entitle', 'meet', 'reiterate', 'defend', 'add', 'benefit', 'be', 'meet', 'alSisi', 'fly', 'boycott', 'maintain', 'sign', 'reopen', 'work', 'say', 'plan', 'say', 'take', 'move', 'manage', 'complete', 'go', 'propose', 'say', 'say', 'work', 'downgrade', 'raise', 'serve', 'announce', 'allow', 'have', 'have', 'wear', 'move', 'carry', 'say', 'resign', 'fail', 'tell', 'die', 'need', 'die', 'cumming', 'mastermind', 'say', 'blame', 'include', 'get', 'cumming', 'say', 'volunteer', 'get', 'live', 'show', 'fear', 'say', 'die', 'decline', 'learn', 'ignore', 'introduce', 'be', 'fall', 'have', 'expect', 'tell', 'describe', 'need', 'fail', 'say', 'die', 'announce', 'provide', 'announce', 'continue', 'support', 'reach', 'establish', 'decide', 'rally', 'help', 'bring', 'say', 'climb', 'bring', 'nickname', 'instal', 'stream', 'connect', 'die', 'have', 'include', 'say', 'ask', 'collect', 'be', 'donate', 'help', 'follow', 'give', 'say', 'ask', 'impose', 'dose', 'fail', 'deliver', 'come', 'begin', 'force', 'deliver', 'argue', 'fail', 'promise', 'set', 'say', 'face', 'meet', 'demand', 'deliver', 'be', 'supply', 'run', 'plan', 'deliver', 'promise', 'tell', 'deliver', 'articulate', 'rely', 'speak', 'hit', 'argue', 'have', 'make', 'step', 'operate', 'sign', 'continue', 'supply', 'mean', 'start', 'demand', 'send', 'say', 'hear', 'say', 'come', 'question', 'hold', 'include', 'start', 'listen', 'be', 'tell', 'say', 'cheat', 'conclude', 'look', 'obtain', 'file', 'tell', 'claim', 'send', 'argue', 'take', 'cover', 'be', 'claim', 'comment', 'suppose', 'meet', 'postpone', 'be', 'arrest', 'spend', 'smuggle', 'want', 'return', 'face', 'ask', 'hand', 'lead', 'release', 'set', 'arrive', 'have', 'selfisolate', 'prevent', 'say', 'give', 'impose', 'arrive', 'say', 'take', 'show', 'age', 'say', 'follow', 'receive', 'say', 'apply', 'underline', 'have', 'see', 'continue', 'evaluate', 'approve', 'include', 'draw', 'stress', 'outweigh', 'maintain', 'be', 'restrict', 'phase', 'plan', 'stop', 'use', 'drop', 'offer', 'volunteer', 'start', 'deliver', 'account', 'say', 'vaccinate', 'identify', 'say', 'die', 'hospital', 'say', 'add', 'keep', 'use', 'jab', 'vaccinate', 'mean', 'use', 'age', 'say', 'receive', 'age', 'denounce', 'face', 'write', 'behave', 'say', 'react', 'intercept', 'land', 'arrest', 'urge', 'avoid', 'fly', 'dub', 'tell', 'follow', 'intercept', 'say', 'carry', 'say', 'take', 'shoot', 'face', 'oppose', 'die', 'say', 'die', 'cite', 'bear', 'enlist', 'find', 'serve', 'go', 'become', 'move', 'marry', 'divorce', 'win', 'play', 'back', 'head', 'support', 'condemn', 'increase', 'call', 'consider', 'achieve', 'overtake', 'have', 'say', 'have', 'top', 'say', 'include', 'have', 'put', 'top', 'be', 'be', 'say', 'note', 'occur', 'sound', 'involve', 'include', 'say', 'have', 'account', 'stand', 'say', 'note', 'shooting', 'come', 'precipitate', 'emerge', 'remain', 'be', 'crack', 'get', 'reverse', 'say', 'call', 'ranking', 'accuse', 'agree', 'buy', 'say', 'give', 'further', 'bolster', 'compete', 'include', 'come', 'make', 'give', 'be', 'tell', 'announce', 'hand', 'take', 'have', 'love', 'go', 'own', 'film', 'include', 'have', 'filmmake', 'complement', 'focus', 'produce', 'say', 'be', 'deliver', 'gaming', 'kill', 'take', 'arrive', 'say', 'suffer', 'know', 'know', 'take', 'tell', 'be', 'say', 'confirm', 'tell', 'be', 'add', 'resign', 'say', 'be', 'appear', 'amount', 'visit', 'say', 'junta', 'ecowa', 'tell', 'resign', 'arrive', 'go', 'speak', 'hold', 'see', 'see', 'express', 'tell', 'say', 'set', 'hold', 'liken', 'meet', 'warn', 'announce', 'resolve', 'impose', 'say', 'make', 'approve', 'provide', 'provide', 'close', 'announce', 'move', 'develop', 'be', 'be', 'enable', 'take', 'be', 'leverage', 'say', 'further', 'deliver', 'look', 'move', 'work', 'say', 'believe', 'accelerate', 'improve', 'support', 'increase', 'receive', 'support', 'gain', 'grow', 'say', 'leave', 'break', 'sink', 'say', 'say', 'be', 'miss', 'blame', 'ferry', 'load', 'say', 'drown', 'ferry', 'split', 'hit', 'take', 'condemn', 'speed', 'follow', 'ask', 'accelerate', 'say', 'end', 'fighting', 'come', 'amass', 'speak', 'say', 'take', 'implement', 'say', 'apply', 'join', 'be', 'seek', 'deter', 'remain', 'embrace', 'want', 'avoid', 'criticise', 'invite', 'set', 'attend', 'understand', 'invite', 'find', 'say', 'say', 'expect', 'join', 'become', 'say', 'receive', 'be', 'imagine', 'say', 'cooperate', 'adopt', 'spell', 'join', 'defend', 'lash', 'dismiss', 'provoke', 'act', 'protect', 'say', 'parliament', 'undermine', 'say', 'change', 'say', 'cross', 'dub', 'be', 'follow', 'hijack', 'agree', 'cut', 'tell', 'avoid', 'be', 'immunize', 'obtain', 'move', 'download', 'receive', 'give', 'move', 'go', 'have', 'print', 'want', 'leave', 'allow', 'pass', 'travel', 'remain', 'replace', 'need', 'go', 'work', 'say', 'come', 'pass', 'vaccinate', 'have', 'have', 'pass', 'give', 'augment', 'lead', 'say', 'defend', 'got', 'die', 'have', 'receive', 'battle', 'host', 'give', 'dose', 'have', 'register', 'bring', 'say', 'ask', 'convene', 'expect', 'decide', 'indict', 'find', 'leave', 'become', 'face', 'reject', 'stop', 'have', 'put', 'have', 'write', 'set', 'sit', 'cite', 'hear', 'add', 'say', 'report', 'suggest', 'find', 'refuse', 'comment', 'refer', 'make', 'examine', 'hear', 'request', 'decide', 'bring', 'dealing', 'prompt', 'claim', 'support', 'drive', 'cancel', 'describe', 'make', 'make', 'cancel', 'come', 'grow', 'show', 'go', 'say', 'accept', 'insist', 'go', 'accuse', 'include', 'ask', 'hold', 'say', 'expect', 'extend', 'say', 'drive', 'say', 'come', 'set', 'begin', 'say', 'support', 'hold', 'say', 'change', 'lay', 'ensure', 'involve', 'add', 'cancel', 'cost', 'say', 'warn', 'suffer', 'say', 'push', 'allocate', 'boost', 'aim', 'address', 'put', 'hope', 'win', 'say', 'aim', 'get', 'supercharge', 'preserve', 'come', 'say', 'aim', 'address', 'fall', 'include', 'force', 'cut', 'allocate', 'increase', 'include', 'pay', 'boost', 'go', 'counter', 'require', 'appoint', 'go', 'advance', 'have', 'work', 'control', 'need', 'forestall', 'block', 'collaborate', 'say', 'reveal', 'united', 'preserve', 'maintain', 'fail', 'tell', 'cumming', 'step', 'emerge', 'be', 'fall', 'have', 'expect', 'tell', 'need', 'fail', 'add', 'like', 'say', 'die', 'be', 'make', 'cumming', 'say', 'recognise', 'fail', 'operate', 'form', 'add', 'be', 'be', 'be', 'cumming', 'watch', 'launch', 'carve', 'accuse', 'appalling', 'preview', 'adopt', 'favour', 'abandon', 'become', 'have', 'avoid', 'escape', 'write', 'give', 'delay', 'become', 'deny', 'pursue', 'pose', 'heed', 'act', 'derail', 'say', 'say', 'boost', 'spend', 'remain', 'ensure', 'return', 'consider', 'say', 'keep', 'continue', 'come', 'be', 'stay', 'be', 'get', 'hit', 'rise', 'expect', 'begin', 'run', 'say', 'need', 'remain', 'seem', 'acknowledge', 'be', 'drive', 'say', 'have', 'address', 'know', 'bring', 'say', 'take', 'slow', 'try', 'stay', 'be', 'say', 'be', 'spike', 'lead', 'pose', 'mean', 'have', 'saving', 'support', 'come', 'say', 'continue', 'expect', 'begin', 'discuss', 'adjust', 'begin', 'raise', 'expect', 'remain', 'say', 'have', 'lead', 'confirm', 'announce', 'reach', 'say', 'have', 'join', 'weigh', 'come', 'open', 'add', 'rise', 'extend', 'agree', 'buy', 'give', 'further', 'compete', 'reopening', 'send', 'force', 'wind', 'continue', 'repeat', 'fan', 'last', 'step', 'include', 'fear', 'add', 'say', 'appear', 'bear', 'set', 'look', 'throw', 'say', 'suppose', 'see', 'accelerate', 'add', 'end', 'believe', 'continue', 'keep', 'include', 'bitcoin', 'bounce', 'fall', 'fall', 'remain', 'enjoy', 'suspend', 'suspend', 'emerge', 'be', 'having', 'have', 'violate', 'say', 'have', 'committed', 'provide', 'involve', 'announce', 'follow', 'end', 'say', 'appreciate', 'support', 'report', 'harass', 'inappropriate', 'include', 'send', 'request', 'work', 'join', 'support', 'say', 'apologize', 'share', 'make', 'feel', 'intend', 'make', 'feel', 'understand', 'do', 'violate', 'be', 'take', 'deliver', 'bounce', 'beat', 'knot', 'say', 'blame', 'be', 'let', 'happen', 'score', 'want', 'make', 'make', 'come', 'say', 'add', 'pull', 'hand', 'gain', 'turn', 'feel', 'suffer', 'play', 'put', 'follow', 'stretch', 'get', 'lead', 'open', 'threaten', 'run', 'fight', 'put', 'make', 'hang', 'lead', 'make', 'score', 's', 'say', 's', 'go', 'knock', 'come', 'hold', 'call', 'rule', 'play', 'be', 'tear', 'slip', 'believe', 'join', 'get', 'suffer', 'be', 'face', 'place', 'sustain', 'read', 'work', 'expect', 'call', 'billing', 'have', 'set', 'get', 'hameed', 'be', 'score', 'win', 'dismiss', 'be', 'have', 'say', 'say', 'call', 'watch', 'trounce', 'win', 'kill', 'displace', 'glorify', 'mushroom', 'show', 'say', 'having', 'keep', 'say', 'counting', 'start', 'vote', 'come', 'vote', 'be', 'withstand', 'say', 'sacrifice', 'have', 'avoid', 'follow', 'land', 'surround', 'cast', 'say', 'put', 'provide', 'run', 'send', 'intercept', 'cite', 'force', 'land', 'decry', 'agree', 'include', 'ban', 'say', 'have', 'avoid', 'deem', 'ensure', 'advise', 'do', 'say', 'believe', 'relate', 'comprise', 'warrant', 'force', 'comply', 'regard', 'establish', 'be', 'declare', 'meet', 'discuss', 'say', 'consider', 'endanger', 'return', 'be', 'hold', 'appear', 'amount', 'consider', 'impede', 'say', 'stand', 'achieve', 'condemn', 'add', 'suspend', 'head', 'oust', 'eke', 'see', 'announce', 'acquire', 'report', 'earning', 'end', 'close', 'continue', 'monitor', 'prompt', 'try', 'tamp', 'say', 'last', 'warn', 'take', 'slow', 'say', 'become', 'take', 'keep', 'see', 'tell', 'see', 'point', 'have', 'avoid', 'earning', 'jump', 'gain', 'edge', 'acquire', 'give', 'further', 'jump', 'say', 'expect', 'comprise', 'be', 'say', 'confirm', 'tell', 'be', 'add', 'be', 'be', 'say', 'plead', 'face', 'total', 'face', 'gather', 'dress', 'wear', 'ask', 'confirm', 'give', 'plead', 'say', 'plead', 'charge', 'say', 'deliver', 'intend', 'call', 'resign', 'say', 'siphon', 'have', 'stamp', 'meet', 'command', 'die', 'see', 'set', 'say', 'approach', 'have', 'die', 'appear', 'identify', 'say', 'shoot', 'hurl', 'set', 'wound', 'see', 'include', 'say', 'fire', 'withdraw', 'continue', 'draw', 'start', 'dub', 'have', 'yield', 'want', 'acknowledge', 'want', 'end', 'cut', 'sign', 'infiltrate', 'foment', 'view', 'plead', 'face', 'total', 'face', 'gather', 'dress', 'wear', 'ask', 'confirm', 'give', 'plead', 'say', 'enter', 'tell', 'pay', 'prevent', 'deliver', 'say', 'siphon', 'ask', 'have', 'accuse', 'argue', 'arrest', 'say', 'have', 'go', 'tell', 'set', 'say', 'Uruguay', 'expect', 's', 'approve', 'carry', 'explain', 'go', 'request', 'obstruct', 'be', 'commit', 'say', 'consider', 'say', 'want', 'have', 'prepare', 'return', 'live', 'test', 'throw', 'be', 'allow', 'open', 'liken', 'face', 'have', 'fire', 'consider', 'be', 'perform', 'go', 'expect', 'last', 'tell', 'have', 'look', 'open', 'join', 'hold', 'admit', 'go', 'ask', 'work', 'practise', 'have', 'put', 'manage', 'find', 'make', 'keep', 'stop', 'get', 'recognise', 'exclude', 'receive', 'oust', 'seize', 'represent', 'begin', 'consider', 'be', 'revamp', 'avoid', 'propose', 'defer', 'represent', 'view', 'mean', 'represent', 'approve', 'be', 'spark', 'kill', 'know', 'promote', 'open', 'run', 'be', 'include', 'boost', 'give', 'take', 'include', 'related', 'tell', 'want', 'become', 'confront', 'hamper', 'kickstart', 'appear', 'say', 'sue', 'force', 'deliver', 'set', 'say', 'face', 'meet', 'deliver', 'be', 'supply', 'run', 'plan', 'deliver', 'promise', 'tell', 'deliver', 'deny', 'fail', 'claim', 'warn', 'wait', 'take', 'accuse', 'work', 'having', 'argue', 'bind', 'say', 'show', 'point', 'deliver', 'dose', 'insist', 'remain', 'modernise', 'open', 'refuse', 'give', 'say', 'remain', 'modernise', 'wish', 'express', 'maintain', 'read', 'constitute', 'make', 'warn', 'refrain', 'take', 'penalise', 'found', 'build', 'constitute', 'prohibit', 'announce', 'turn', 'threaten', 'shelve', 'agree', 'pay', 'forgo', 'retaliate', 'refer', 'ask', 'abuse', 'block', 'promote', 'improve', 'increase', 'offer', 'read', 'have', 'achieve', 'explore', 'expect', 'withdraw', 'question', 'accept', 'remain', 'debate', 'need', 'reform', 'have', 'watch', 'win', 'paint', 'cover', 'learn', 'cost', 'live', 'say', 'leave', 'split', 'sink', 'say', 'say', 'be', 'miss', 'be', 'blame', 'ferry', 'load', 'say', 'drown', 'ferry', 'split', 'hit', 'pull', 'win', 'exacerbate', 'respond', 'explain', 'start', 'leave', 'finish', 'run', 'lead', 'put', 'excel', 'power', 'have', 'maintain', 'seize', 'outscore', 'lead', 'provide', 'add', 'tie', 'get', 'go', 'get', 'get', 'open', 'say', 'finish', 'add', 'include', 'recover', 'lead', 'have', 'have', 'take', 'try', 'get', 'host', 'lead', 'try', 'bounce', 'burn', 'seek', 'host', 'aim', 'shore', 'egyptbrokered', 'meet', 'alSisi', 'praise', 'bring', 'depart', 'meet', 'throw', 'end', 'rebuild', 'reopen', 'give', 'signal', 'shutter', 'slash', 'evoke', 'resume', 'achieve', 'continue', 'believe', 'assure', 'give', 'entitle', 'meet', 'reiterate', 'defend', 'add', 'benefit', 'rattle', 'damage', 'flee', 'relocate', 'feel', 'terrified', 'run', 'run', 'say', 'detect', 'say', 'register', 'shut', 'leave', 'take', 'say', 'have', 'say', 'die', 'appeal', 'miss', 'hand', 'read', 'decide', 'suspend', 'play', 'leave', 'name', 'have', 'name', 'utter', 'tie', 'give', 'say', 'complain', 'say', 'fulfil', 'signify', 'call', 'aim']\n"
     ]
    }
   ],
   "source": [
    "verb_list = ([str(i) for i in verb_list])\n",
    "print(verb_list)"
   ]
  },
  {
   "cell_type": "code",
   "execution_count": 13,
   "id": "10743e9c",
   "metadata": {},
   "outputs": [],
   "source": [
    "enable_catena_list = [ \"aid\", \"allow\",\"enable\", \"help\",\"leave\", \"let\", \"permit\", \"empower\",\n",
    "              \"facilitate\",\"afford\", \"provide\", \"activate\",\"authorize\", \"authorise\", \n",
    "              \"ensure\", \"guarantee\"]\n",
    "prevent_catena_list = [ \"bar\", \"block\", \"constrain\", \"deter\", \"discourage\",\"dissuade\", \"hamper\",\n",
    "                \"hinder\", \"hold\", \"impede\", \"prevent\", \"protect\", \"restrain\", \"restrict\",\n",
    "                \"deny\" ,\"obstruct\", \"inhibit\", \"prohibit\", \"forestall\", \"impede\", \"avert\",\n",
    "                \"avoid\"]"
   ]
  },
  {
   "cell_type": "code",
   "execution_count": 14,
   "id": "ce0b81b1",
   "metadata": {},
   "outputs": [
    {
     "name": "stdout",
     "output_type": "stream",
     "text": [
      "bar [' debar ', ' disallow ', ' exclude ', ' forbid ', ' interdict ', ' nix ', ' proscribe ', ' veto ', 'barroom', 'batten', 'billet', 'boom', 'browning automatic rifle', 'cake', 'crossbar', 'crosspiece', 'ginmill', 'ingot', 'legal community', 'legal profession', 'lever', 'measure', 'paling', 'pig', 'pole', 'prevention', 'rail', 'rib', 'rule', 'saloon', 'shaft', 'slab', 'spar', 'spoke', 'stake', 'stick', 'streak', 'strip', 'stripe', 'stroke', 'taproom']\n",
      "block [' anvil ', ' artefact ', ' artifact ', ' bar ', ' block of metal ', ' briquet ', ' briquette ', ' cake ', ' chock ', ' chopping block ', ' crosshead ', ' cube ', ' domino ', ' ingot ', ' inking pad ', ' inkpad ', ' metal bar ', ' nog ', ' pad ', ' slab ', ' square block ', ' stamp pad ', ' starting block ', ' step ', ' swage block ', ' type ', ' wedge ', 'auction block', 'bar', 'blockage', 'blocking', 'brick', 'cake', 'chunk', 'city block', 'closure', 'cube', 'cylinder block', 'engine block', 'hunk', 'ingot', 'loaf', 'lump', 'mental block', 'oblong', 'occlusion', 'piece', 'pulley', 'pulley block', 'pulley-block', 'section', 'segment', 'slab', 'slice', 'solid', 'square', 'stop', 'stoppage']\n",
      "constrain [' bound ', ' bridle ', ' clog ', ' confine ', ' cumber ', ' curb ', ' encumber ', ' limit ', ' restrain ', ' restrict ', ' trammel ', 'ban', 'bar', 'bind', 'bottle up', 'bridle', 'chain', 'check', 'coerce', 'compel', 'concuss', 'confine', 'constrict', 'cool off', 'cork', 'curb', 'deny', 'deprive', 'disallow', 'drive', 'hem in', 'hog-tie', 'hold back', 'hold down', 'hold in', 'immure', 'impel', 'imprison', 'incarcerate', 'inhibit', 'intern', 'jail', 'keep lid on', 'make', 'necessitate', 'oblige', 'pressure', 'pressurize', 'put half nelson on', 'shotgun', 'stifle', 'urge', 'withhold']\n",
      "deter [' disapprove ', ' reject ', 'act like a wet blanket', 'avert', 'block', 'caution', 'chill', 'cool', 'damp', 'dampen', 'daunt', 'debar', 'disadvise', 'discourage', 'dissuade', 'divert', 'forestall', 'forfend', 'frighten', 'hinder', 'impede', 'intimidate', 'obstruct', 'obviate', 'preclude', 'prevent', 'prohibit', 'put a damper on', 'put off', 'restrain', 'rule out', 'scare', 'shut out', 'stave off', 'stop', 'talk out of', 'throw cold water on', 'warn']\n",
      "discourage [' disapprove ', ' reject ', 'abash', 'afflict', 'alarm', 'appall', 'awe', 'beat down', 'bother', \"break one's heart\", 'bully', 'cast down', 'chill', 'confuse', 'cow', 'dampen', 'dash', 'daunt', 'deject', 'demoralize', 'deprecate', 'depress', 'dismay', 'disparage', 'distress', 'droop', 'frighten', 'intimidate', 'irk', 'overawe', 'prostrate', 'repress', 'scare', 'throw cold water on', 'trouble', 'try', 'unnerve', 'vex', 'weigh']\n",
      "dissuade [' advise ', ' counsel ', ' rede ', ' talk out of ', 'advise against', 'caution against', 'chicken out', 'counsel', 'cry out against', 'deprecate', 'derail', 'deter', 'disadvise', 'discourage', 'disincline', 'divert', 'exhort', 'expostulate', 'faze', 'hinder', 'lean on', 'persuade not to', 'prevent', 'prick', 'put off', 'remonstrate', 'throw a wet blanket on', 'throw cold water on', 'throw off', 'thwart', 'turn off', 'urge not to', 'warn']\n",
      "hamper [' bound ', ' confine ', ' cramp ', ' halter ', ' limit ', ' restrain ', ' restrict ', ' strangle ', ' trammel ', 'bassinet', 'bond', 'carton', 'crate', 'creel', 'laundry basket', 'pannier', 'shackle', 'trammel']\n",
      "hinder [' block ', ' close up ', ' hobble ', ' impede ', ' inhibit ', ' interfere ', ' jam ', ' keep ', ' obstruct ', ' obturate ', ' occlude ', ' prevent ', ' stunt ', 'arrest', 'balk', 'bar', 'block', 'bottleneck', 'box in', 'burden', 'check', 'choke', 'clog', 'contravene', 'counteract', 'crab', 'cramp', 'crimp', 'cripple', 'curb', 'debar', 'delay', 'deter', 'encumber', 'fetter', 'frustrate', 'get in the way', 'hamper', 'hamstring', 'handicap', 'hog-tie', 'hold back', 'hold up', 'impede', 'inhibit', 'interfere', 'interrupt', 'louse up', 'muzzle', 'neutralize', 'obstruct', 'offset', 'oppose', 'preclude', 'prohibit', 'resist', 'retard', 'shut out', 'snafu', 'stay', 'stop', 'stymie', 'terminate', 'thwart', 'trammel']\n",
      "hold [' bear on ', ' carry on ', ' conserve ', ' continue ', ' distance ', ' hold over ', ' housekeep ', ' keep ', ' maintain ', ' preserve ', ' pressurise ', ' uphold ', 'appreciation', 'authority', 'cargo area', 'cargo deck', 'cargo hold', 'clasp', 'clench', 'clinch', 'clout', 'clutch', 'clutches', 'control', 'custody', 'delay', 'detainment', 'detention', 'dominance', 'dominion', 'grasp', 'grip', 'handgrip', 'handle', 'influence', 'keep', 'occupancy', 'occupation', 'ownership', 'postponement', 'pull', 'purchase', 'retention', 'storage area', 'sway', 'tenacity', 'tenure', 'time lag', 'wait']\n",
      "impede [' block ', ' close up ', ' hinder ', ' hobble ', ' inhibit ', ' interfere ', ' jam ', ' keep ', ' obstruct ', ' obturate ', ' occlude ', ' prevent ', ' stunt ', 'bar', 'block', 'blow whistle on', 'brake', 'check', 'clog', 'close off', \"cramp one's style\", 'curb', 'cut off', 'dam', 'dead-end', 'delay', 'deter', 'discomfit', 'disconcert', 'disrupt', 'embarrass', 'faze', 'flag one', 'freeze', 'hamper', 'hang up', 'hold up', 'interfere', 'oppose', 'rattle', 'restrain', 'retard', 'saddle with', 'shut down', 'shut off', 'slow', 'slow down', 'stonewall', 'stop', 'stymie', 'thwart']\n",
      "prevent [' avert ', ' avoid ', ' baffle ', ' bilk ', ' block ', ' blockade ', ' cross ', ' debar ', ' deflect ', ' embarrass ', ' fend off ', ' foil ', ' forbid ', ' foreclose ', ' forefend ', ' forfend ', ' frustrate ', ' halt ', ' head off ', ' hinder ', ' kibosh ', ' make unnecessary ', ' obstruct ', ' obviate ', ' preclude ', ' queer ', ' save ', ' scotch ', ' spoil ', ' stave off ', ' stop ', ' stymie ', ' stymy ', ' thwart ', ' ward off ', 'anticipate', 'arrest', 'avert', 'avoid', 'baffle', 'balk', 'bar', 'block', 'check', 'chill', 'cool', 'cork', 'counter', 'counteract', 'dam', 'dead-end', 'debar', 'defend against', 'foil', 'forbid', 'forestall', 'forfend', 'frustrate', 'halt', 'hamper', 'head off', 'hinder', 'hold back', 'hold off', 'impede', 'inhibit', 'intercept', 'interdict', 'interrupt', 'keep lid on', 'limit', 'nip in the bud', 'obstruct', 'obviate', 'preclude', 'prohibit', 'put a stop to', 'put an end to', 'repress', 'restrain', 'restrict', 'retard', 'rule out', 'shut out', 'stave off', 'stop', 'thwart', 'turn aside', 'ward off']\n",
      "protect [' body guard ', ' charm ', ' cover ', ' cover for ', ' defend ', ' fence ', ' fence in ', ' guard ', ' hold ', ' immunise ', ' immunize ', ' insure ', ' keep ', ' look out ', ' mothproof ', ' overprotect ', ' palisade ', ' preserve ', ' screen ', ' shield ', ' surround ', ' wall ', ' ward ', 'assure', 'bulwark', 'care for', 'champion', 'chaperon', 'conserve', 'cover', 'cover all bases', 'cover up', 'cushion', 'defend', 'fend', 'foster', 'give refuge', 'give sanctuary', 'go to bat for', 'harbor', 'hedge', 'insulate', 'keep', 'keep safe', 'look after', 'preserve', 'ride shotgun for', 'safeguard', 'save', 'screen', 'secure', 'sentinel', 'shade', 'shelter', 'shield', 'shotgun', 'stand guard', 'stonewall', 'support', 'take under wing', 'watch', 'watch over']\n",
      "restrain [' bottle up ', ' check ', ' confine ', ' contain ', ' control ', ' curb ', ' hold ', ' hold in ', ' inhibit ', ' keep ', ' keep back ', ' moderate ', ' suppress ', 'arrest', 'bind', 'bottle up', 'box up', 'bridle', 'chain', 'check', 'choke back', 'circumscribe', 'confine', 'constrain', 'contain', 'control', 'cool', 'cork', 'crack down', 'curb', 'curtail', 'debar', 'delimit', 'detain', 'deter', 'direct', 'fetter', 'gag', 'govern', 'guide', 'hamper', 'handicap', 'harness', 'hem in', 'hinder', 'hogtie', 'hold', 'impound', 'imprison', 'inhibit', 'jail', 'keep', 'keep down', 'keep in line', 'kill', 'limit', 'lock up', 'manacle', 'muzzle', 'pinion', 'prevent', 'proscribe', 'pull back', 'repress', 'restrict', 'sit on', 'stay', 'subdue', 'suppress', 'tie down', 'tie up']\n",
      "restrict [' abridge ', ' circumscribe ', ' confine ', ' curb ', ' curtail ', ' cut back ', ' immobilize ', ' limit ', 'bind', 'bottle up', 'bound', 'chain', 'check', 'circumscribe', 'come down on', 'constrict', 'contain', 'contract', 'cool down', 'cramp', 'curb', 'decrease', 'define', 'delimit', 'delimitate', 'demarcate', 'demark', 'diminish', 'encircle', 'enclose', 'hamper', 'handicap', 'hang up', 'hem in', 'hold back', 'hold down', 'impede', 'inclose', 'inhibit', 'keep within bounds', 'keep within limits', 'moderate', 'modify', 'narrow', 'pin down', 'prelimit', 'put away', 'put on ice', 'qualify', 'reduce', 'regulate', 'restrain', 'send up', 'shorten', 'shrink', 'shut in', 'surround', 'temper', 'tether', 'tie']\n"
     ]
    },
    {
     "name": "stdout",
     "output_type": "stream",
     "text": [
      "deny [' contradict ', ' contravene ', ' disavow ', ' disclaim ', ' repudiate ', 'abjure', 'abnegate', 'ban', 'begrudge', 'call on', 'contradict', 'contravene', 'controvert', 'curb', 'disacknowledge', 'disallow', 'disavow', 'disbelieve', 'discard', 'disclaim', 'discredit', 'disown', 'disprove', 'doubt', 'enjoin from', 'eschew', 'exclude', 'forbid', 'forgo', 'forsake', 'gainsay', 'hold back', 'keep back', 'negate', 'negative', 'not buy', 'nullify', 'oppose', 'rebuff', 'rebut', 'recant', 'refuse', 'refute', 'reject', 'repudiate', 'restrain', 'revoke', 'sacrifice', 'say no to', 'spurn', 'taboo', 'take exception to', 'turn down', 'turn thumbs down', 'veto', 'withhold']\n",
      "obstruct [' block ', ' blockade ', ' bottleneck ', ' check ', ' embarrass ', ' filibuster ', ' forbid ', ' foreclose ', ' forestall ', ' hang ', ' hinder ', ' preclude ', ' prevent ', ' stonewall ', ' stymy ', 'arrest', 'bar', 'barricade', 'block', 'check', 'choke', 'clog', 'close', 'congest', 'crab', 'curb', 'cut off', 'dead-end', \"drag one's feet\", 'fill', 'foul up', 'frustrate', 'get in the way', 'hamper', 'hamstring', 'hang up', 'hide', 'hinder', 'hold up', 'impede', 'inhibit', 'interfere', 'interrupt', 'mask', 'monkey with', 'obscure', 'occlude', 'plug', 'restrain', 'retard', 'sandbag', 'shield', 'shut off', 'slow down', 'stall', 'stonewall', 'stop', 'stopper', 'stymie', 'terminate', 'throttle', 'thwart', 'trammel', 'weigh down']\n",
      "inhibit [' blink away ', ' burke ', ' check ', ' choke back ', ' choke down ', ' choke off ', ' conquer ', ' contain ', ' control ', ' curb ', ' dampen ', ' hold ', ' hold in ', ' hush ', ' hush up ', ' moderate ', ' muffle ', ' quell ', ' quench ', ' quieten ', ' repress ', ' shut up ', ' silence ', ' smother ', ' squelch ', ' stamp down ', ' stifle ', ' still ', ' strangle ', ' subdue ', ' suppress ', ' wink ', 'arrest', 'avert', 'bar', 'bit', 'bridle', 'check', 'constrain', 'cramp', 'curb', 'discourage', 'enjoin', 'faze', 'forbid', 'frustrate', 'hang up', 'hinder', 'hog-tie', 'hold back', 'hold down', 'hold in', 'impede', 'interdict', 'keep in', 'obstruct', 'outlaw', 'prohibit', 'put on brakes', 'repress', 'restrain', 'sandbag', 'stop', 'stymie', 'suppress', 'taboo', 'ward', 'withhold']\n",
      "prohibit [' ban ', ' bar ', ' command ', ' criminalise ', ' criminalize ', ' debar ', ' disallow ', ' enjoin ', ' exclude ', ' forbid ', ' illegalise ', ' illegalize ', ' interdict ', ' nix ', ' outlaw ', ' proscribe ', ' require ', 'ban', 'block', 'bottle up', 'box in', 'bring to screeching halt', 'constrain', 'cool', 'cork', 'debar', 'disallow', 'enjoin', 'forbid', 'forfend', 'freeze', 'gridlock', 'halt', 'hamper', 'hang up', 'hinder', 'hold up', 'impede', 'inhibit', 'interdict', 'jam up', 'keep lid on', 'kill', 'lock up', 'nix', 'obstruct', 'outlaw', 'pass on', 'preclude', 'prevent', 'proscribe', 'put a lock on', 'put a stopper in', 'put chill on', 'put down', 'put half nelson on', 'restrain', 'restrict', 'rule out', 'shut out', 'spike', 'stymie', 'taboo', 'throw cold water on', 'tie up', 'veto', 'zing']\n",
      "forestall [' avert ', ' avoid ', ' baffle ', ' bilk ', ' block ', ' blockade ', ' cross ', ' debar ', ' deflect ', ' embarrass ', ' fend off ', ' foil ', ' forbid ', ' forefend ', ' forfend ', ' frustrate ', ' halt ', ' head off ', ' hinder ', ' kibosh ', ' make unnecessary ', ' obstruct ', ' obviate ', ' preclude ', ' prevent ', ' queer ', ' save ', ' scotch ', ' spoil ', ' stave off ', ' stop ', ' stymie ', ' stymy ', ' thwart ', ' ward off ', 'anticipate', 'avert', 'delay', 'deter', 'hinder', 'monopolize', 'preclude', 'preoccupy', 'prevent', 'thwart']\n",
      "impede [' block ', ' close up ', ' hinder ', ' hobble ', ' inhibit ', ' interfere ', ' jam ', ' keep ', ' obstruct ', ' obturate ', ' occlude ', ' prevent ', ' stunt ', 'bar', 'block', 'blow whistle on', 'brake', 'check', 'clog', 'close off', \"cramp one's style\", 'curb', 'cut off', 'dam', 'dead-end', 'delay', 'deter', 'discomfit', 'disconcert', 'disrupt', 'embarrass', 'faze', 'flag one', 'freeze', 'hamper', 'hang up', 'hold up', 'interfere', 'oppose', 'rattle', 'restrain', 'retard', 'saddle with', 'shut down', 'shut off', 'slow', 'slow down', 'stonewall', 'stop', 'stymie', 'thwart']\n",
      "avert [' avoid ', ' debar ', ' deflect ', ' fend off ', ' forbid ', ' foreclose ', ' forefend ', ' forestall ', ' forfend ', ' obviate ', ' preclude ', ' prevent ', ' stave off ', ' ward off ', 'avoid', 'deflect', 'deter', 'divert', 'fend off', 'foil', 'forestall', 'frustrate', 'halt', 'look away', 'preclude', 'prevent', 'rule out', 'shove aside', 'shunt', 'stave off', 'turn', 'turn aside', 'turn away', 'ward off']\n",
      "avoid [' bypass ', ' circumvent ', ' dodge ', ' duck ', ' elude ', ' escape ', ' eschew ', ' evade ', ' get around ', ' get away ', ' get by ', ' get off ', ' go around ', ' hedge ', ' keep away from ', ' keep off ', ' miss ', ' parry ', ' put off ', ' shirk ', ' short-circuit ', ' shun ', ' shy away from ', ' sidestep ', ' skirt ', ' stay off ', ' steer clear of ', 'abstain', 'avert', 'bypass', 'circumlocute', 'circumvent', 'cold-shoulder', 'deflect', 'desist', 'ditch', 'divert', 'dodge', 'duck', 'elude', 'escape', 'eschew', 'evade', 'fake out', 'fend off', 'flee', 'give the slip', 'hide', 'hold off', 'jump', 'keep clear', 'lay low', 'obviate', 'recoil', 'run for cover', 'shake', 'shake and bake', 'shake off', 'shirk', 'shrink from', 'shuffle off', 'shun', 'shy', 'sidestep', 'skip', 'skip out on', 'skip town', 'skirt', 'stay away', 'stay out', 'steer clear of', 'step aside', 'turn aside', 'ward off', 'weave', 'withdraw']\n"
     ]
    }
   ],
   "source": [
    "from wordhoard import Synonyms\n",
    "\n",
    "#Obtain a dictionary of verbs\n",
    "prevent_list_synonyms = []\n",
    "for p in prevent_catena_list:\n",
    "    synonym = Synonyms(search_string=p)\n",
    "    synonym_results = synonym.find_synonyms()\n",
    "    print(p, synonym_results)\n",
    "    prevent_list_synonyms.append(synonym_results)"
   ]
  },
  {
   "cell_type": "code",
   "execution_count": 15,
   "id": "cff90109",
   "metadata": {},
   "outputs": [
    {
     "name": "stdout",
     "output_type": "stream",
     "text": [
      "[[' debar ', ' disallow ', ' exclude ', ' forbid ', ' interdict ', ' nix ', ' proscribe ', ' veto ', 'barroom', 'batten', 'billet', 'boom', 'browning automatic rifle', 'cake', 'crossbar', 'crosspiece', 'ginmill', 'ingot', 'legal community', 'legal profession', 'lever', 'measure', 'paling', 'pig', 'pole', 'prevention', 'rail', 'rib', 'rule', 'saloon', 'shaft', 'slab', 'spar', 'spoke', 'stake', 'stick', 'streak', 'strip', 'stripe', 'stroke', 'taproom'], [' anvil ', ' artefact ', ' artifact ', ' bar ', ' block of metal ', ' briquet ', ' briquette ', ' cake ', ' chock ', ' chopping block ', ' crosshead ', ' cube ', ' domino ', ' ingot ', ' inking pad ', ' inkpad ', ' metal bar ', ' nog ', ' pad ', ' slab ', ' square block ', ' stamp pad ', ' starting block ', ' step ', ' swage block ', ' type ', ' wedge ', 'auction block', 'bar', 'blockage', 'blocking', 'brick', 'cake', 'chunk', 'city block', 'closure', 'cube', 'cylinder block', 'engine block', 'hunk', 'ingot', 'loaf', 'lump', 'mental block', 'oblong', 'occlusion', 'piece', 'pulley', 'pulley block', 'pulley-block', 'section', 'segment', 'slab', 'slice', 'solid', 'square', 'stop', 'stoppage'], [' bound ', ' bridle ', ' clog ', ' confine ', ' cumber ', ' curb ', ' encumber ', ' limit ', ' restrain ', ' restrict ', ' trammel ', 'ban', 'bar', 'bind', 'bottle up', 'bridle', 'chain', 'check', 'coerce', 'compel', 'concuss', 'confine', 'constrict', 'cool off', 'cork', 'curb', 'deny', 'deprive', 'disallow', 'drive', 'hem in', 'hog-tie', 'hold back', 'hold down', 'hold in', 'immure', 'impel', 'imprison', 'incarcerate', 'inhibit', 'intern', 'jail', 'keep lid on', 'make', 'necessitate', 'oblige', 'pressure', 'pressurize', 'put half nelson on', 'shotgun', 'stifle', 'urge', 'withhold'], [' disapprove ', ' reject ', 'act like a wet blanket', 'avert', 'block', 'caution', 'chill', 'cool', 'damp', 'dampen', 'daunt', 'debar', 'disadvise', 'discourage', 'dissuade', 'divert', 'forestall', 'forfend', 'frighten', 'hinder', 'impede', 'intimidate', 'obstruct', 'obviate', 'preclude', 'prevent', 'prohibit', 'put a damper on', 'put off', 'restrain', 'rule out', 'scare', 'shut out', 'stave off', 'stop', 'talk out of', 'throw cold water on', 'warn'], [' disapprove ', ' reject ', 'abash', 'afflict', 'alarm', 'appall', 'awe', 'beat down', 'bother', \"break one's heart\", 'bully', 'cast down', 'chill', 'confuse', 'cow', 'dampen', 'dash', 'daunt', 'deject', 'demoralize', 'deprecate', 'depress', 'dismay', 'disparage', 'distress', 'droop', 'frighten', 'intimidate', 'irk', 'overawe', 'prostrate', 'repress', 'scare', 'throw cold water on', 'trouble', 'try', 'unnerve', 'vex', 'weigh'], [' advise ', ' counsel ', ' rede ', ' talk out of ', 'advise against', 'caution against', 'chicken out', 'counsel', 'cry out against', 'deprecate', 'derail', 'deter', 'disadvise', 'discourage', 'disincline', 'divert', 'exhort', 'expostulate', 'faze', 'hinder', 'lean on', 'persuade not to', 'prevent', 'prick', 'put off', 'remonstrate', 'throw a wet blanket on', 'throw cold water on', 'throw off', 'thwart', 'turn off', 'urge not to', 'warn'], [' bound ', ' confine ', ' cramp ', ' halter ', ' limit ', ' restrain ', ' restrict ', ' strangle ', ' trammel ', 'bassinet', 'bond', 'carton', 'crate', 'creel', 'laundry basket', 'pannier', 'shackle', 'trammel'], [' block ', ' close up ', ' hobble ', ' impede ', ' inhibit ', ' interfere ', ' jam ', ' keep ', ' obstruct ', ' obturate ', ' occlude ', ' prevent ', ' stunt ', 'arrest', 'balk', 'bar', 'block', 'bottleneck', 'box in', 'burden', 'check', 'choke', 'clog', 'contravene', 'counteract', 'crab', 'cramp', 'crimp', 'cripple', 'curb', 'debar', 'delay', 'deter', 'encumber', 'fetter', 'frustrate', 'get in the way', 'hamper', 'hamstring', 'handicap', 'hog-tie', 'hold back', 'hold up', 'impede', 'inhibit', 'interfere', 'interrupt', 'louse up', 'muzzle', 'neutralize', 'obstruct', 'offset', 'oppose', 'preclude', 'prohibit', 'resist', 'retard', 'shut out', 'snafu', 'stay', 'stop', 'stymie', 'terminate', 'thwart', 'trammel'], [' bear on ', ' carry on ', ' conserve ', ' continue ', ' distance ', ' hold over ', ' housekeep ', ' keep ', ' maintain ', ' preserve ', ' pressurise ', ' uphold ', 'appreciation', 'authority', 'cargo area', 'cargo deck', 'cargo hold', 'clasp', 'clench', 'clinch', 'clout', 'clutch', 'clutches', 'control', 'custody', 'delay', 'detainment', 'detention', 'dominance', 'dominion', 'grasp', 'grip', 'handgrip', 'handle', 'influence', 'keep', 'occupancy', 'occupation', 'ownership', 'postponement', 'pull', 'purchase', 'retention', 'storage area', 'sway', 'tenacity', 'tenure', 'time lag', 'wait'], [' block ', ' close up ', ' hinder ', ' hobble ', ' inhibit ', ' interfere ', ' jam ', ' keep ', ' obstruct ', ' obturate ', ' occlude ', ' prevent ', ' stunt ', 'bar', 'block', 'blow whistle on', 'brake', 'check', 'clog', 'close off', \"cramp one's style\", 'curb', 'cut off', 'dam', 'dead-end', 'delay', 'deter', 'discomfit', 'disconcert', 'disrupt', 'embarrass', 'faze', 'flag one', 'freeze', 'hamper', 'hang up', 'hold up', 'interfere', 'oppose', 'rattle', 'restrain', 'retard', 'saddle with', 'shut down', 'shut off', 'slow', 'slow down', 'stonewall', 'stop', 'stymie', 'thwart'], [' avert ', ' avoid ', ' baffle ', ' bilk ', ' block ', ' blockade ', ' cross ', ' debar ', ' deflect ', ' embarrass ', ' fend off ', ' foil ', ' forbid ', ' foreclose ', ' forefend ', ' forfend ', ' frustrate ', ' halt ', ' head off ', ' hinder ', ' kibosh ', ' make unnecessary ', ' obstruct ', ' obviate ', ' preclude ', ' queer ', ' save ', ' scotch ', ' spoil ', ' stave off ', ' stop ', ' stymie ', ' stymy ', ' thwart ', ' ward off ', 'anticipate', 'arrest', 'avert', 'avoid', 'baffle', 'balk', 'bar', 'block', 'check', 'chill', 'cool', 'cork', 'counter', 'counteract', 'dam', 'dead-end', 'debar', 'defend against', 'foil', 'forbid', 'forestall', 'forfend', 'frustrate', 'halt', 'hamper', 'head off', 'hinder', 'hold back', 'hold off', 'impede', 'inhibit', 'intercept', 'interdict', 'interrupt', 'keep lid on', 'limit', 'nip in the bud', 'obstruct', 'obviate', 'preclude', 'prohibit', 'put a stop to', 'put an end to', 'repress', 'restrain', 'restrict', 'retard', 'rule out', 'shut out', 'stave off', 'stop', 'thwart', 'turn aside', 'ward off'], [' body guard ', ' charm ', ' cover ', ' cover for ', ' defend ', ' fence ', ' fence in ', ' guard ', ' hold ', ' immunise ', ' immunize ', ' insure ', ' keep ', ' look out ', ' mothproof ', ' overprotect ', ' palisade ', ' preserve ', ' screen ', ' shield ', ' surround ', ' wall ', ' ward ', 'assure', 'bulwark', 'care for', 'champion', 'chaperon', 'conserve', 'cover', 'cover all bases', 'cover up', 'cushion', 'defend', 'fend', 'foster', 'give refuge', 'give sanctuary', 'go to bat for', 'harbor', 'hedge', 'insulate', 'keep', 'keep safe', 'look after', 'preserve', 'ride shotgun for', 'safeguard', 'save', 'screen', 'secure', 'sentinel', 'shade', 'shelter', 'shield', 'shotgun', 'stand guard', 'stonewall', 'support', 'take under wing', 'watch', 'watch over'], [' bottle up ', ' check ', ' confine ', ' contain ', ' control ', ' curb ', ' hold ', ' hold in ', ' inhibit ', ' keep ', ' keep back ', ' moderate ', ' suppress ', 'arrest', 'bind', 'bottle up', 'box up', 'bridle', 'chain', 'check', 'choke back', 'circumscribe', 'confine', 'constrain', 'contain', 'control', 'cool', 'cork', 'crack down', 'curb', 'curtail', 'debar', 'delimit', 'detain', 'deter', 'direct', 'fetter', 'gag', 'govern', 'guide', 'hamper', 'handicap', 'harness', 'hem in', 'hinder', 'hogtie', 'hold', 'impound', 'imprison', 'inhibit', 'jail', 'keep', 'keep down', 'keep in line', 'kill', 'limit', 'lock up', 'manacle', 'muzzle', 'pinion', 'prevent', 'proscribe', 'pull back', 'repress', 'restrict', 'sit on', 'stay', 'subdue', 'suppress', 'tie down', 'tie up'], [' abridge ', ' circumscribe ', ' confine ', ' curb ', ' curtail ', ' cut back ', ' immobilize ', ' limit ', 'bind', 'bottle up', 'bound', 'chain', 'check', 'circumscribe', 'come down on', 'constrict', 'contain', 'contract', 'cool down', 'cramp', 'curb', 'decrease', 'define', 'delimit', 'delimitate', 'demarcate', 'demark', 'diminish', 'encircle', 'enclose', 'hamper', 'handicap', 'hang up', 'hem in', 'hold back', 'hold down', 'impede', 'inclose', 'inhibit', 'keep within bounds', 'keep within limits', 'moderate', 'modify', 'narrow', 'pin down', 'prelimit', 'put away', 'put on ice', 'qualify', 'reduce', 'regulate', 'restrain', 'send up', 'shorten', 'shrink', 'shut in', 'surround', 'temper', 'tether', 'tie'], [' contradict ', ' contravene ', ' disavow ', ' disclaim ', ' repudiate ', 'abjure', 'abnegate', 'ban', 'begrudge', 'call on', 'contradict', 'contravene', 'controvert', 'curb', 'disacknowledge', 'disallow', 'disavow', 'disbelieve', 'discard', 'disclaim', 'discredit', 'disown', 'disprove', 'doubt', 'enjoin from', 'eschew', 'exclude', 'forbid', 'forgo', 'forsake', 'gainsay', 'hold back', 'keep back', 'negate', 'negative', 'not buy', 'nullify', 'oppose', 'rebuff', 'rebut', 'recant', 'refuse', 'refute', 'reject', 'repudiate', 'restrain', 'revoke', 'sacrifice', 'say no to', 'spurn', 'taboo', 'take exception to', 'turn down', 'turn thumbs down', 'veto', 'withhold'], [' block ', ' blockade ', ' bottleneck ', ' check ', ' embarrass ', ' filibuster ', ' forbid ', ' foreclose ', ' forestall ', ' hang ', ' hinder ', ' preclude ', ' prevent ', ' stonewall ', ' stymy ', 'arrest', 'bar', 'barricade', 'block', 'check', 'choke', 'clog', 'close', 'congest', 'crab', 'curb', 'cut off', 'dead-end', \"drag one's feet\", 'fill', 'foul up', 'frustrate', 'get in the way', 'hamper', 'hamstring', 'hang up', 'hide', 'hinder', 'hold up', 'impede', 'inhibit', 'interfere', 'interrupt', 'mask', 'monkey with', 'obscure', 'occlude', 'plug', 'restrain', 'retard', 'sandbag', 'shield', 'shut off', 'slow down', 'stall', 'stonewall', 'stop', 'stopper', 'stymie', 'terminate', 'throttle', 'thwart', 'trammel', 'weigh down'], [' blink away ', ' burke ', ' check ', ' choke back ', ' choke down ', ' choke off ', ' conquer ', ' contain ', ' control ', ' curb ', ' dampen ', ' hold ', ' hold in ', ' hush ', ' hush up ', ' moderate ', ' muffle ', ' quell ', ' quench ', ' quieten ', ' repress ', ' shut up ', ' silence ', ' smother ', ' squelch ', ' stamp down ', ' stifle ', ' still ', ' strangle ', ' subdue ', ' suppress ', ' wink ', 'arrest', 'avert', 'bar', 'bit', 'bridle', 'check', 'constrain', 'cramp', 'curb', 'discourage', 'enjoin', 'faze', 'forbid', 'frustrate', 'hang up', 'hinder', 'hog-tie', 'hold back', 'hold down', 'hold in', 'impede', 'interdict', 'keep in', 'obstruct', 'outlaw', 'prohibit', 'put on brakes', 'repress', 'restrain', 'sandbag', 'stop', 'stymie', 'suppress', 'taboo', 'ward', 'withhold'], [' ban ', ' bar ', ' command ', ' criminalise ', ' criminalize ', ' debar ', ' disallow ', ' enjoin ', ' exclude ', ' forbid ', ' illegalise ', ' illegalize ', ' interdict ', ' nix ', ' outlaw ', ' proscribe ', ' require ', 'ban', 'block', 'bottle up', 'box in', 'bring to screeching halt', 'constrain', 'cool', 'cork', 'debar', 'disallow', 'enjoin', 'forbid', 'forfend', 'freeze', 'gridlock', 'halt', 'hamper', 'hang up', 'hinder', 'hold up', 'impede', 'inhibit', 'interdict', 'jam up', 'keep lid on', 'kill', 'lock up', 'nix', 'obstruct', 'outlaw', 'pass on', 'preclude', 'prevent', 'proscribe', 'put a lock on', 'put a stopper in', 'put chill on', 'put down', 'put half nelson on', 'restrain', 'restrict', 'rule out', 'shut out', 'spike', 'stymie', 'taboo', 'throw cold water on', 'tie up', 'veto', 'zing'], [' avert ', ' avoid ', ' baffle ', ' bilk ', ' block ', ' blockade ', ' cross ', ' debar ', ' deflect ', ' embarrass ', ' fend off ', ' foil ', ' forbid ', ' forefend ', ' forfend ', ' frustrate ', ' halt ', ' head off ', ' hinder ', ' kibosh ', ' make unnecessary ', ' obstruct ', ' obviate ', ' preclude ', ' prevent ', ' queer ', ' save ', ' scotch ', ' spoil ', ' stave off ', ' stop ', ' stymie ', ' stymy ', ' thwart ', ' ward off ', 'anticipate', 'avert', 'delay', 'deter', 'hinder', 'monopolize', 'preclude', 'preoccupy', 'prevent', 'thwart'], [' block ', ' close up ', ' hinder ', ' hobble ', ' inhibit ', ' interfere ', ' jam ', ' keep ', ' obstruct ', ' obturate ', ' occlude ', ' prevent ', ' stunt ', 'bar', 'block', 'blow whistle on', 'brake', 'check', 'clog', 'close off', \"cramp one's style\", 'curb', 'cut off', 'dam', 'dead-end', 'delay', 'deter', 'discomfit', 'disconcert', 'disrupt', 'embarrass', 'faze', 'flag one', 'freeze', 'hamper', 'hang up', 'hold up', 'interfere', 'oppose', 'rattle', 'restrain', 'retard', 'saddle with', 'shut down', 'shut off', 'slow', 'slow down', 'stonewall', 'stop', 'stymie', 'thwart'], [' avoid ', ' debar ', ' deflect ', ' fend off ', ' forbid ', ' foreclose ', ' forefend ', ' forestall ', ' forfend ', ' obviate ', ' preclude ', ' prevent ', ' stave off ', ' ward off ', 'avoid', 'deflect', 'deter', 'divert', 'fend off', 'foil', 'forestall', 'frustrate', 'halt', 'look away', 'preclude', 'prevent', 'rule out', 'shove aside', 'shunt', 'stave off', 'turn', 'turn aside', 'turn away', 'ward off'], [' bypass ', ' circumvent ', ' dodge ', ' duck ', ' elude ', ' escape ', ' eschew ', ' evade ', ' get around ', ' get away ', ' get by ', ' get off ', ' go around ', ' hedge ', ' keep away from ', ' keep off ', ' miss ', ' parry ', ' put off ', ' shirk ', ' short-circuit ', ' shun ', ' shy away from ', ' sidestep ', ' skirt ', ' stay off ', ' steer clear of ', 'abstain', 'avert', 'bypass', 'circumlocute', 'circumvent', 'cold-shoulder', 'deflect', 'desist', 'ditch', 'divert', 'dodge', 'duck', 'elude', 'escape', 'eschew', 'evade', 'fake out', 'fend off', 'flee', 'give the slip', 'hide', 'hold off', 'jump', 'keep clear', 'lay low', 'obviate', 'recoil', 'run for cover', 'shake', 'shake and bake', 'shake off', 'shirk', 'shrink from', 'shuffle off', 'shun', 'shy', 'sidestep', 'skip', 'skip out on', 'skip town', 'skirt', 'stay away', 'stay out', 'steer clear of', 'step aside', 'turn aside', 'ward off', 'weave', 'withdraw']]\n"
     ]
    }
   ],
   "source": [
    "print(prevent_list_synonyms)"
   ]
  },
  {
   "cell_type": "code",
   "execution_count": 16,
   "id": "2b0000ea",
   "metadata": {},
   "outputs": [
    {
     "name": "stdout",
     "output_type": "stream",
     "text": [
      "1188 [' debar ', ' disallow ', ' exclude ', ' forbid ', ' interdict ', ' nix ', ' proscribe ', ' veto ', 'barroom', 'batten', 'billet', 'boom', 'browning automatic rifle', 'cake', 'crossbar', 'crosspiece', 'ginmill', 'ingot', 'legal community', 'legal profession', 'lever', 'measure', 'paling', 'pig', 'pole', 'prevention', 'rail', 'rib', 'rule', 'saloon', 'shaft', 'slab', 'spar', 'spoke', 'stake', 'stick', 'streak', 'strip', 'stripe', 'stroke', 'taproom', ' anvil ', ' artefact ', ' artifact ', ' bar ', ' block of metal ', ' briquet ', ' briquette ', ' cake ', ' chock ', ' chopping block ', ' crosshead ', ' cube ', ' domino ', ' ingot ', ' inking pad ', ' inkpad ', ' metal bar ', ' nog ', ' pad ', ' slab ', ' square block ', ' stamp pad ', ' starting block ', ' step ', ' swage block ', ' type ', ' wedge ', 'auction block', 'bar', 'blockage', 'blocking', 'brick', 'cake', 'chunk', 'city block', 'closure', 'cube', 'cylinder block', 'engine block', 'hunk', 'ingot', 'loaf', 'lump', 'mental block', 'oblong', 'occlusion', 'piece', 'pulley', 'pulley block', 'pulley-block', 'section', 'segment', 'slab', 'slice', 'solid', 'square', 'stop', 'stoppage', ' bound ', ' bridle ', ' clog ', ' confine ', ' cumber ', ' curb ', ' encumber ', ' limit ', ' restrain ', ' restrict ', ' trammel ', 'ban', 'bar', 'bind', 'bottle up', 'bridle', 'chain', 'check', 'coerce', 'compel', 'concuss', 'confine', 'constrict', 'cool off', 'cork', 'curb', 'deny', 'deprive', 'disallow', 'drive', 'hem in', 'hog-tie', 'hold back', 'hold down', 'hold in', 'immure', 'impel', 'imprison', 'incarcerate', 'inhibit', 'intern', 'jail', 'keep lid on', 'make', 'necessitate', 'oblige', 'pressure', 'pressurize', 'put half nelson on', 'shotgun', 'stifle', 'urge', 'withhold', ' disapprove ', ' reject ', 'act like a wet blanket', 'avert', 'block', 'caution', 'chill', 'cool', 'damp', 'dampen', 'daunt', 'debar', 'disadvise', 'discourage', 'dissuade', 'divert', 'forestall', 'forfend', 'frighten', 'hinder', 'impede', 'intimidate', 'obstruct', 'obviate', 'preclude', 'prevent', 'prohibit', 'put a damper on', 'put off', 'restrain', 'rule out', 'scare', 'shut out', 'stave off', 'stop', 'talk out of', 'throw cold water on', 'warn', ' disapprove ', ' reject ', 'abash', 'afflict', 'alarm', 'appall', 'awe', 'beat down', 'bother', \"break one's heart\", 'bully', 'cast down', 'chill', 'confuse', 'cow', 'dampen', 'dash', 'daunt', 'deject', 'demoralize', 'deprecate', 'depress', 'dismay', 'disparage', 'distress', 'droop', 'frighten', 'intimidate', 'irk', 'overawe', 'prostrate', 'repress', 'scare', 'throw cold water on', 'trouble', 'try', 'unnerve', 'vex', 'weigh', ' advise ', ' counsel ', ' rede ', ' talk out of ', 'advise against', 'caution against', 'chicken out', 'counsel', 'cry out against', 'deprecate', 'derail', 'deter', 'disadvise', 'discourage', 'disincline', 'divert', 'exhort', 'expostulate', 'faze', 'hinder', 'lean on', 'persuade not to', 'prevent', 'prick', 'put off', 'remonstrate', 'throw a wet blanket on', 'throw cold water on', 'throw off', 'thwart', 'turn off', 'urge not to', 'warn', ' bound ', ' confine ', ' cramp ', ' halter ', ' limit ', ' restrain ', ' restrict ', ' strangle ', ' trammel ', 'bassinet', 'bond', 'carton', 'crate', 'creel', 'laundry basket', 'pannier', 'shackle', 'trammel', ' block ', ' close up ', ' hobble ', ' impede ', ' inhibit ', ' interfere ', ' jam ', ' keep ', ' obstruct ', ' obturate ', ' occlude ', ' prevent ', ' stunt ', 'arrest', 'balk', 'bar', 'block', 'bottleneck', 'box in', 'burden', 'check', 'choke', 'clog', 'contravene', 'counteract', 'crab', 'cramp', 'crimp', 'cripple', 'curb', 'debar', 'delay', 'deter', 'encumber', 'fetter', 'frustrate', 'get in the way', 'hamper', 'hamstring', 'handicap', 'hog-tie', 'hold back', 'hold up', 'impede', 'inhibit', 'interfere', 'interrupt', 'louse up', 'muzzle', 'neutralize', 'obstruct', 'offset', 'oppose', 'preclude', 'prohibit', 'resist', 'retard', 'shut out', 'snafu', 'stay', 'stop', 'stymie', 'terminate', 'thwart', 'trammel', ' bear on ', ' carry on ', ' conserve ', ' continue ', ' distance ', ' hold over ', ' housekeep ', ' keep ', ' maintain ', ' preserve ', ' pressurise ', ' uphold ', 'appreciation', 'authority', 'cargo area', 'cargo deck', 'cargo hold', 'clasp', 'clench', 'clinch', 'clout', 'clutch', 'clutches', 'control', 'custody', 'delay', 'detainment', 'detention', 'dominance', 'dominion', 'grasp', 'grip', 'handgrip', 'handle', 'influence', 'keep', 'occupancy', 'occupation', 'ownership', 'postponement', 'pull', 'purchase', 'retention', 'storage area', 'sway', 'tenacity', 'tenure', 'time lag', 'wait', ' block ', ' close up ', ' hinder ', ' hobble ', ' inhibit ', ' interfere ', ' jam ', ' keep ', ' obstruct ', ' obturate ', ' occlude ', ' prevent ', ' stunt ', 'bar', 'block', 'blow whistle on', 'brake', 'check', 'clog', 'close off', \"cramp one's style\", 'curb', 'cut off', 'dam', 'dead-end', 'delay', 'deter', 'discomfit', 'disconcert', 'disrupt', 'embarrass', 'faze', 'flag one', 'freeze', 'hamper', 'hang up', 'hold up', 'interfere', 'oppose', 'rattle', 'restrain', 'retard', 'saddle with', 'shut down', 'shut off', 'slow', 'slow down', 'stonewall', 'stop', 'stymie', 'thwart', ' avert ', ' avoid ', ' baffle ', ' bilk ', ' block ', ' blockade ', ' cross ', ' debar ', ' deflect ', ' embarrass ', ' fend off ', ' foil ', ' forbid ', ' foreclose ', ' forefend ', ' forfend ', ' frustrate ', ' halt ', ' head off ', ' hinder ', ' kibosh ', ' make unnecessary ', ' obstruct ', ' obviate ', ' preclude ', ' queer ', ' save ', ' scotch ', ' spoil ', ' stave off ', ' stop ', ' stymie ', ' stymy ', ' thwart ', ' ward off ', 'anticipate', 'arrest', 'avert', 'avoid', 'baffle', 'balk', 'bar', 'block', 'check', 'chill', 'cool', 'cork', 'counter', 'counteract', 'dam', 'dead-end', 'debar', 'defend against', 'foil', 'forbid', 'forestall', 'forfend', 'frustrate', 'halt', 'hamper', 'head off', 'hinder', 'hold back', 'hold off', 'impede', 'inhibit', 'intercept', 'interdict', 'interrupt', 'keep lid on', 'limit', 'nip in the bud', 'obstruct', 'obviate', 'preclude', 'prohibit', 'put a stop to', 'put an end to', 'repress', 'restrain', 'restrict', 'retard', 'rule out', 'shut out', 'stave off', 'stop', 'thwart', 'turn aside', 'ward off', ' body guard ', ' charm ', ' cover ', ' cover for ', ' defend ', ' fence ', ' fence in ', ' guard ', ' hold ', ' immunise ', ' immunize ', ' insure ', ' keep ', ' look out ', ' mothproof ', ' overprotect ', ' palisade ', ' preserve ', ' screen ', ' shield ', ' surround ', ' wall ', ' ward ', 'assure', 'bulwark', 'care for', 'champion', 'chaperon', 'conserve', 'cover', 'cover all bases', 'cover up', 'cushion', 'defend', 'fend', 'foster', 'give refuge', 'give sanctuary', 'go to bat for', 'harbor', 'hedge', 'insulate', 'keep', 'keep safe', 'look after', 'preserve', 'ride shotgun for', 'safeguard', 'save', 'screen', 'secure', 'sentinel', 'shade', 'shelter', 'shield', 'shotgun', 'stand guard', 'stonewall', 'support', 'take under wing', 'watch', 'watch over', ' bottle up ', ' check ', ' confine ', ' contain ', ' control ', ' curb ', ' hold ', ' hold in ', ' inhibit ', ' keep ', ' keep back ', ' moderate ', ' suppress ', 'arrest', 'bind', 'bottle up', 'box up', 'bridle', 'chain', 'check', 'choke back', 'circumscribe', 'confine', 'constrain', 'contain', 'control', 'cool', 'cork', 'crack down', 'curb', 'curtail', 'debar', 'delimit', 'detain', 'deter', 'direct', 'fetter', 'gag', 'govern', 'guide', 'hamper', 'handicap', 'harness', 'hem in', 'hinder', 'hogtie', 'hold', 'impound', 'imprison', 'inhibit', 'jail', 'keep', 'keep down', 'keep in line', 'kill', 'limit', 'lock up', 'manacle', 'muzzle', 'pinion', 'prevent', 'proscribe', 'pull back', 'repress', 'restrict', 'sit on', 'stay', 'subdue', 'suppress', 'tie down', 'tie up', ' abridge ', ' circumscribe ', ' confine ', ' curb ', ' curtail ', ' cut back ', ' immobilize ', ' limit ', 'bind', 'bottle up', 'bound', 'chain', 'check', 'circumscribe', 'come down on', 'constrict', 'contain', 'contract', 'cool down', 'cramp', 'curb', 'decrease', 'define', 'delimit', 'delimitate', 'demarcate', 'demark', 'diminish', 'encircle', 'enclose', 'hamper', 'handicap', 'hang up', 'hem in', 'hold back', 'hold down', 'impede', 'inclose', 'inhibit', 'keep within bounds', 'keep within limits', 'moderate', 'modify', 'narrow', 'pin down', 'prelimit', 'put away', 'put on ice', 'qualify', 'reduce', 'regulate', 'restrain', 'send up', 'shorten', 'shrink', 'shut in', 'surround', 'temper', 'tether', 'tie', ' contradict ', ' contravene ', ' disavow ', ' disclaim ', ' repudiate ', 'abjure', 'abnegate', 'ban', 'begrudge', 'call on', 'contradict', 'contravene', 'controvert', 'curb', 'disacknowledge', 'disallow', 'disavow', 'disbelieve', 'discard', 'disclaim', 'discredit', 'disown', 'disprove', 'doubt', 'enjoin from', 'eschew', 'exclude', 'forbid', 'forgo', 'forsake', 'gainsay', 'hold back', 'keep back', 'negate', 'negative', 'not buy', 'nullify', 'oppose', 'rebuff', 'rebut', 'recant', 'refuse', 'refute', 'reject', 'repudiate', 'restrain', 'revoke', 'sacrifice', 'say no to', 'spurn', 'taboo', 'take exception to', 'turn down', 'turn thumbs down', 'veto', 'withhold', ' block ', ' blockade ', ' bottleneck ', ' check ', ' embarrass ', ' filibuster ', ' forbid ', ' foreclose ', ' forestall ', ' hang ', ' hinder ', ' preclude ', ' prevent ', ' stonewall ', ' stymy ', 'arrest', 'bar', 'barricade', 'block', 'check', 'choke', 'clog', 'close', 'congest', 'crab', 'curb', 'cut off', 'dead-end', \"drag one's feet\", 'fill', 'foul up', 'frustrate', 'get in the way', 'hamper', 'hamstring', 'hang up', 'hide', 'hinder', 'hold up', 'impede', 'inhibit', 'interfere', 'interrupt', 'mask', 'monkey with', 'obscure', 'occlude', 'plug', 'restrain', 'retard', 'sandbag', 'shield', 'shut off', 'slow down', 'stall', 'stonewall', 'stop', 'stopper', 'stymie', 'terminate', 'throttle', 'thwart', 'trammel', 'weigh down', ' blink away ', ' burke ', ' check ', ' choke back ', ' choke down ', ' choke off ', ' conquer ', ' contain ', ' control ', ' curb ', ' dampen ', ' hold ', ' hold in ', ' hush ', ' hush up ', ' moderate ', ' muffle ', ' quell ', ' quench ', ' quieten ', ' repress ', ' shut up ', ' silence ', ' smother ', ' squelch ', ' stamp down ', ' stifle ', ' still ', ' strangle ', ' subdue ', ' suppress ', ' wink ', 'arrest', 'avert', 'bar', 'bit', 'bridle', 'check', 'constrain', 'cramp', 'curb', 'discourage', 'enjoin', 'faze', 'forbid', 'frustrate', 'hang up', 'hinder', 'hog-tie', 'hold back', 'hold down', 'hold in', 'impede', 'interdict', 'keep in', 'obstruct', 'outlaw', 'prohibit', 'put on brakes', 'repress', 'restrain', 'sandbag', 'stop', 'stymie', 'suppress', 'taboo', 'ward', 'withhold', ' ban ', ' bar ', ' command ', ' criminalise ', ' criminalize ', ' debar ', ' disallow ', ' enjoin ', ' exclude ', ' forbid ', ' illegalise ', ' illegalize ', ' interdict ', ' nix ', ' outlaw ', ' proscribe ', ' require ', 'ban', 'block', 'bottle up', 'box in', 'bring to screeching halt', 'constrain', 'cool', 'cork', 'debar', 'disallow', 'enjoin', 'forbid', 'forfend', 'freeze', 'gridlock', 'halt', 'hamper', 'hang up', 'hinder', 'hold up', 'impede', 'inhibit', 'interdict', 'jam up', 'keep lid on', 'kill', 'lock up', 'nix', 'obstruct', 'outlaw', 'pass on', 'preclude', 'prevent', 'proscribe', 'put a lock on', 'put a stopper in', 'put chill on', 'put down', 'put half nelson on', 'restrain', 'restrict', 'rule out', 'shut out', 'spike', 'stymie', 'taboo', 'throw cold water on', 'tie up', 'veto', 'zing', ' avert ', ' avoid ', ' baffle ', ' bilk ', ' block ', ' blockade ', ' cross ', ' debar ', ' deflect ', ' embarrass ', ' fend off ', ' foil ', ' forbid ', ' forefend ', ' forfend ', ' frustrate ', ' halt ', ' head off ', ' hinder ', ' kibosh ', ' make unnecessary ', ' obstruct ', ' obviate ', ' preclude ', ' prevent ', ' queer ', ' save ', ' scotch ', ' spoil ', ' stave off ', ' stop ', ' stymie ', ' stymy ', ' thwart ', ' ward off ', 'anticipate', 'avert', 'delay', 'deter', 'hinder', 'monopolize', 'preclude', 'preoccupy', 'prevent', 'thwart', ' block ', ' close up ', ' hinder ', ' hobble ', ' inhibit ', ' interfere ', ' jam ', ' keep ', ' obstruct ', ' obturate ', ' occlude ', ' prevent ', ' stunt ', 'bar', 'block', 'blow whistle on', 'brake', 'check', 'clog', 'close off', \"cramp one's style\", 'curb', 'cut off', 'dam', 'dead-end', 'delay', 'deter', 'discomfit', 'disconcert', 'disrupt', 'embarrass', 'faze', 'flag one', 'freeze', 'hamper', 'hang up', 'hold up', 'interfere', 'oppose', 'rattle', 'restrain', 'retard', 'saddle with', 'shut down', 'shut off', 'slow', 'slow down', 'stonewall', 'stop', 'stymie', 'thwart', ' avoid ', ' debar ', ' deflect ', ' fend off ', ' forbid ', ' foreclose ', ' forefend ', ' forestall ', ' forfend ', ' obviate ', ' preclude ', ' prevent ', ' stave off ', ' ward off ', 'avoid', 'deflect', 'deter', 'divert', 'fend off', 'foil', 'forestall', 'frustrate', 'halt', 'look away', 'preclude', 'prevent', 'rule out', 'shove aside', 'shunt', 'stave off', 'turn', 'turn aside', 'turn away', 'ward off', ' bypass ', ' circumvent ', ' dodge ', ' duck ', ' elude ', ' escape ', ' eschew ', ' evade ', ' get around ', ' get away ', ' get by ', ' get off ', ' go around ', ' hedge ', ' keep away from ', ' keep off ', ' miss ', ' parry ', ' put off ', ' shirk ', ' short-circuit ', ' shun ', ' shy away from ', ' sidestep ', ' skirt ', ' stay off ', ' steer clear of ', 'abstain', 'avert', 'bypass', 'circumlocute', 'circumvent', 'cold-shoulder', 'deflect', 'desist', 'ditch', 'divert', 'dodge', 'duck', 'elude', 'escape', 'eschew', 'evade', 'fake out', 'fend off', 'flee', 'give the slip', 'hide', 'hold off', 'jump', 'keep clear', 'lay low', 'obviate', 'recoil', 'run for cover', 'shake', 'shake and bake', 'shake off', 'shirk', 'shrink from', 'shuffle off', 'shun', 'shy', 'sidestep', 'skip', 'skip out on', 'skip town', 'skirt', 'stay away', 'stay out', 'steer clear of', 'step aside', 'turn aside', 'ward off', 'weave', 'withdraw']\n"
     ]
    }
   ],
   "source": [
    "from itertools import chain\n",
    "\n",
    "#COnvert 2d list to 1d list\n",
    "prevent_list_synonyms = list(chain.from_iterable(prevent_list_synonyms))\n",
    "print(len(prevent_list_synonyms), prevent_list_synonyms)\n",
    "\n"
   ]
  },
  {
   "cell_type": "code",
   "execution_count": 17,
   "id": "37fcf4af",
   "metadata": {},
   "outputs": [
    {
     "name": "stdout",
     "output_type": "stream",
     "text": [
      "[' debar ', ' disallow ', ' exclude ', ' forbid ', ' interdict ', ' nix ', ' proscribe ', 'cake', 'ingot', 'slab', ' bar ', 'bar', 'cake', 'ingot', 'slab', 'stop', ' bound ', ' confine ', ' curb ', ' limit ', ' restrain ', ' restrict ', ' trammel ', 'ban', 'bar', 'bind', 'bottle up', 'bridle', 'chain', 'check', 'confine', 'constrict', 'cork', 'curb', 'disallow', 'hem in', 'hog-tie', 'hold back', 'hold down', 'hold in', 'imprison', 'inhibit', 'jail', 'keep lid on', 'put half nelson on', 'shotgun', 'withhold', ' disapprove ', ' reject ', 'avert', 'block', 'chill', 'cool', 'dampen', 'daunt', 'debar', 'disadvise', 'discourage', 'divert', 'forestall', 'forfend', 'frighten', 'hinder', 'impede', 'intimidate', 'obstruct', 'obviate', 'preclude', 'prevent', 'prohibit', 'put off', 'restrain', 'rule out', 'scare', 'shut out', 'stave off', 'stop', 'throw cold water on', 'warn', ' disapprove ', ' reject ', 'chill', 'dampen', 'daunt', 'deprecate', 'frighten', 'intimidate', 'repress', 'scare', 'throw cold water on', 'deprecate', 'deter', 'disadvise', 'discourage', 'divert', 'faze', 'hinder', 'prevent', 'put off', 'throw cold water on', 'thwart', 'warn', ' bound ', ' confine ', ' limit ', ' restrain ', ' restrict ', ' strangle ', ' trammel ', 'trammel', ' block ', ' close up ', ' hobble ', ' inhibit ', ' interfere ', ' jam ', ' keep ', ' obstruct ', ' obturate ', ' occlude ', ' prevent ', ' stunt ', 'arrest', 'balk', 'bar', 'block', 'box in', 'check', 'choke', 'clog', 'contravene', 'counteract', 'crab', 'cramp', 'curb', 'debar', 'delay', 'deter', 'fetter', 'frustrate', 'get in the way', 'hamper', 'hamstring', 'handicap', 'hog-tie', 'hold back', 'hold up', 'impede', 'inhibit', 'interfere', 'interrupt', 'muzzle', 'obstruct', 'oppose', 'preclude', 'prohibit', 'retard', 'shut out', 'stay', 'stop', 'stymie', 'terminate', 'thwart', 'trammel', ' keep ', ' preserve ', 'control', 'delay', 'keep', ' block ', ' close up ', ' hinder ', ' hobble ', ' inhibit ', ' interfere ', ' jam ', ' keep ', ' obstruct ', ' obturate ', ' occlude ', ' prevent ', ' stunt ', 'bar', 'block', 'blow whistle on', 'brake', 'check', 'clog', 'close off', \"cramp one's style\", 'curb', 'cut off', 'dam', 'dead-end', 'delay', 'deter', 'discomfit', 'disconcert', 'disrupt', 'embarrass', 'faze', 'flag one', 'freeze', 'hamper', 'hang up', 'hold up', 'interfere', 'oppose', 'rattle', 'restrain', 'retard', 'saddle with', 'shut down', 'shut off', 'slow', 'slow down', 'stonewall', 'stop', 'stymie', 'thwart', ' avert ', ' avoid ', ' baffle ', ' bilk ', ' block ', ' blockade ', ' cross ', ' debar ', ' deflect ', ' embarrass ', ' fend off ', ' foil ', ' forbid ', ' foreclose ', ' forefend ', ' forfend ', ' frustrate ', ' halt ', ' head off ', ' hinder ', ' kibosh ', ' make unnecessary ', ' obstruct ', ' obviate ', ' preclude ', ' queer ', ' save ', ' scotch ', ' spoil ', ' stave off ', ' stop ', ' stymie ', ' stymy ', ' thwart ', ' ward off ', 'anticipate', 'arrest', 'avert', 'avoid', 'balk', 'bar', 'block', 'check', 'chill', 'cool', 'cork', 'counteract', 'dam', 'dead-end', 'debar', 'foil', 'forbid', 'forestall', 'forfend', 'frustrate', 'halt', 'hamper', 'hinder', 'hold back', 'hold off', 'impede', 'inhibit', 'interdict', 'interrupt', 'keep lid on', 'limit', 'obstruct', 'obviate', 'preclude', 'prohibit', 'repress', 'restrain', 'restrict', 'retard', 'rule out', 'shut out', 'stave off', 'stop', 'thwart', 'turn aside', 'ward off', ' hold ', ' keep ', ' preserve ', 'keep', 'shield', 'shotgun', 'stonewall', ' check ', ' confine ', ' contain ', ' control ', ' curb ', ' hold ', ' hold in ', ' inhibit ', ' keep ', ' moderate ', ' suppress ', 'arrest', 'bind', 'bottle up', 'bridle', 'chain', 'check', 'circumscribe', 'confine', 'constrain', 'contain', 'control', 'cool', 'cork', 'curb', 'debar', 'delimit', 'deter', 'fetter', 'hamper', 'handicap', 'hem in', 'hinder', 'imprison', 'inhibit', 'jail', 'keep', 'kill', 'limit', 'lock up', 'muzzle', 'prevent', 'proscribe', 'repress', 'restrict', 'stay', 'suppress', 'tie up', ' confine ', ' curb ', ' limit ', 'bind', 'bottle up', 'chain', 'check', 'circumscribe', 'constrict', 'contain', 'cramp', 'curb', 'delimit', 'hamper', 'handicap', 'hang up', 'hem in', 'hold back', 'hold down', 'impede', 'inhibit', 'restrain', 'ban', 'contravene', 'curb', 'disallow', 'eschew', 'forbid', 'hold back', 'oppose', 'restrain', 'taboo', 'veto', 'withhold', ' block ', ' blockade ', ' check ', ' embarrass ', ' forbid ', ' foreclose ', ' forestall ', ' hinder ', ' preclude ', ' prevent ', ' stymy ', 'arrest', 'bar', 'block', 'check', 'choke', 'clog', 'crab', 'curb', 'cut off', 'dead-end', 'frustrate', 'get in the way', 'hamper', 'hamstring', 'hang up', 'hide', 'hinder', 'hold up', 'impede', 'inhibit', 'interfere', 'interrupt', 'restrain', 'retard', 'sandbag', 'shield', 'shut off', 'slow down', 'stonewall', 'stop', 'stymie', 'terminate', 'thwart', 'trammel', ' check ', ' contain ', ' control ', ' curb ', ' hold ', ' hold in ', ' moderate ', ' strangle ', ' suppress ', 'arrest', 'avert', 'bar', 'bridle', 'check', 'constrain', 'cramp', 'curb', 'discourage', 'enjoin', 'faze', 'forbid', 'frustrate', 'hang up', 'hinder', 'hog-tie', 'hold back', 'hold down', 'hold in', 'impede', 'interdict', 'obstruct', 'outlaw', 'prohibit', 'repress', 'restrain', 'sandbag', 'stop', 'stymie', 'suppress', 'taboo', 'withhold', ' bar ', ' debar ', ' disallow ', ' exclude ', ' forbid ', ' interdict ', ' nix ', ' proscribe ', 'ban', 'block', 'bottle up', 'box in', 'constrain', 'cool', 'cork', 'debar', 'disallow', 'enjoin', 'forbid', 'forfend', 'freeze', 'halt', 'hamper', 'hang up', 'hinder', 'hold up', 'impede', 'inhibit', 'interdict', 'keep lid on', 'kill', 'lock up', 'obstruct', 'outlaw', 'preclude', 'prevent', 'proscribe', 'put half nelson on', 'restrain', 'restrict', 'rule out', 'shut out', 'stymie', 'taboo', 'throw cold water on', 'tie up', 'veto', ' avert ', ' avoid ', ' baffle ', ' bilk ', ' block ', ' blockade ', ' cross ', ' debar ', ' deflect ', ' embarrass ', ' fend off ', ' foil ', ' forbid ', ' forefend ', ' forfend ', ' frustrate ', ' halt ', ' head off ', ' hinder ', ' kibosh ', ' make unnecessary ', ' obstruct ', ' obviate ', ' preclude ', ' prevent ', ' queer ', ' save ', ' scotch ', ' spoil ', ' stave off ', ' stop ', ' stymie ', ' stymy ', ' thwart ', ' ward off ', 'anticipate', 'avert', 'delay', 'deter', 'hinder', 'preclude', 'prevent', 'thwart', ' block ', ' close up ', ' hinder ', ' hobble ', ' inhibit ', ' interfere ', ' jam ', ' keep ', ' obstruct ', ' obturate ', ' occlude ', ' prevent ', ' stunt ', 'bar', 'block', 'blow whistle on', 'brake', 'check', 'clog', 'close off', \"cramp one's style\", 'curb', 'cut off', 'dam', 'dead-end', 'delay', 'deter', 'discomfit', 'disconcert', 'disrupt', 'embarrass', 'faze', 'flag one', 'freeze', 'hamper', 'hang up', 'hold up', 'interfere', 'oppose', 'rattle', 'restrain', 'retard', 'saddle with', 'shut down', 'shut off', 'slow', 'slow down', 'stonewall', 'stop', 'stymie', 'thwart', ' avoid ', ' debar ', ' deflect ', ' fend off ', ' forbid ', ' foreclose ', ' forefend ', ' forestall ', ' forfend ', ' obviate ', ' preclude ', ' prevent ', ' stave off ', ' ward off ', 'avoid', 'deflect', 'deter', 'divert', 'fend off', 'foil', 'forestall', 'frustrate', 'halt', 'preclude', 'prevent', 'rule out', 'stave off', 'turn aside', 'ward off', 'avert', 'deflect', 'divert', 'eschew', 'fend off', 'hide', 'hold off', 'obviate', 'turn aside', 'ward off'] 656\n"
     ]
    }
   ],
   "source": [
    "prevent_list_synonyms_2 = [x for x in prevent_list_synonyms if prevent_list_synonyms.count(x)>=2]\n",
    "print(prevent_list_synonyms_2, len(prevent_list_synonyms_2))"
   ]
  },
  {
   "cell_type": "code",
   "execution_count": 19,
   "id": "4d7a1a2a",
   "metadata": {},
   "outputs": [],
   "source": [
    "from wordhoard import Synonyms\n",
    "\n",
    "#Obtain synonyms for every word\n",
    "enable_list_synonyms = []\n",
    "for p in enable_catena_list:\n",
    "    synonym = Synonyms(search_string=p)\n",
    "    synonym_results = synonym.find_synonyms()\n",
    "    enable_list_synonyms.append(synonym_results)"
   ]
  },
  {
   "cell_type": "code",
   "execution_count": 20,
   "id": "3a16780b",
   "metadata": {},
   "outputs": [
    {
     "name": "stdout",
     "output_type": "stream",
     "text": [
      "[[' alleviate ', ' assist ', ' attend ', ' attend to ', ' avail ', ' back up ', ' benefact ', ' bootstrap ', ' care ', ' ease ', ' expedite ', ' facilitate ', ' give care ', ' hasten ', ' help out ', ' serve ', ' subserve ', ' succor ', ' succour ', ' support ', ' wait on ', 'advancement', 'advice', 'advocacy', 'alleviation', 'allowance', 'assist', 'assistance', 'attention', 'backing', 'backup', 'benefaction', 'benefit', 'benevolence', 'bounty', 'care', 'charity', 'comfort', 'compensation', 'cooperation', 'deliverance', 'economic aid', 'economic assistance', 'encouragement', 'endowment', 'favor', 'financial aid', 'financial assistance', 'furtherance', 'gift', 'giving', 'guidance', 'hand', 'handout', 'help', 'leg up', 'lift', 'ministration', 'ministry', 'patronage', 'promotion', 'reinforcement', 'relief', 'rescue', 'reward', 'salvation', 'service', 'shot in the arm', 'subsidy', 'sustenance', 'tending', 'treatment'], [' let ', ' permit ', 'acquiesce', 'avow', 'concede', 'confess', 'grant', 'let on', 'own'], [' alter ', ' change ', ' empower ', ' endow ', ' endue ', ' equip ', ' gift ', ' indue ', ' modify ', 'accredit', 'approve', 'capacitate', 'commission', 'condition', 'empower', 'endow', 'facilitate', 'fit', 'give power', 'implement', 'invest', 'let', 'license', 'make possible', 'permit', 'prepare', 'provide the means', 'qualify', 'ready', 'sanction', 'set up', 'warrant'], [' aid ', ' aid and abet ', ' alleviate ', ' assist ', ' assistance ', ' attend ', ' attend to ', ' avail ', ' back up ', ' be of service to ', ' be of use to ', ' benefact ', ' bootstrap ', ' care ', ' come to the aid of ', ' ease ', ' expedite ', ' facilitate ', ' give assistance to ', ' give care ', ' hasten ', ' help ', ' help out ', ' lend a hand to ', ' lend a helping hand to ', ' serve ', ' subserve ', ' succor ', ' succour ', ' support ', ' wait on ', 'advice', 'aid', 'assist', 'assistance', 'assistant', 'avail', 'balm', 'benefit', 'comfort', 'cooperation', 'corrective', 'cure', 'guidance', 'hand', 'helper', 'helping hand', 'lift', 'maintenance', 'nourishment', 'remedy', 'service', 'succor', 'support', 'supporter', 'sustenance', 'use', 'utility'], [' abandon ', ' beetle off ', ' bolt ', ' bolt out ', ' break away ', ' bugger off ', ' bunk ', ' buzz off ', ' come away ', ' decamp ', ' depart ', ' desert ', ' empty ', ' escape ', ' exit ', ' fly the coop ', ' fuck off ', ' get ', ' get out ', ' go away ', ' go forth ', ' go out ', ' head for the hills ', ' hightail ', ' hightail it ', ' lam ', ' linger ', ' part ', ' pop off ', ' pull out ', ' pull up stakes ', ' quit ', ' ride away ', ' ride off ', ' run ', ' run away ', ' run off ', ' run out ', ' rush away ', ' rush off ', ' scarper ', ' scat ', ' scram ', ' set forth ', ' set off ', ' set out ', ' skip ', ' slip away ', ' sneak away ', ' sneak off ', ' sneak out ', ' start ', ' start out ', ' steal away ', ' take leave ', ' take off ', ' take to the woods ', ' tarry ', ' turn tail ', ' vacate ', ' vamoose ', ' walk off ', ' walk out ', 'allowance', 'assent', 'authorization', 'concession', 'consent', 'dispensation', 'farewell', 'freedom', 'go ahead', 'green light', 'leave of absence', 'leave-taking', 'liberty', 'okay', 'parting', 'permit', 'sanction', 'sufferance', 'tolerance'], [' allow ', ' permit ', 'accredit', 'approve', 'army of the pure', 'army of the righteous', 'authorize', 'be big', 'cause', 'certify', 'commission', 'concede', 'enable', 'endorse', 'free up', 'give', 'give leave', 'give okay', 'give permission', 'grant', 'have', 'hear of', 'lashkar-e-taiba', 'lashkar-e-tayyiba', 'lashkar-e-toiba', 'leave', 'license', 'live with', 'make', 'net ball', 'permit', 'sanction', 'sit still for', 'suffer', 'tolerate', 'warrant'], [' accept ', ' admit ', ' allow ', ' allow in ', ' authorise ', ' authorize ', ' bear ', ' brook ', ' clear ', ' consent ', ' countenance ', ' decriminalise ', ' decriminalize ', ' digest ', ' endure ', ' favor ', ' favour ', ' furlough ', ' give ', ' go for ', ' grant ', ' include ', ' intromit ', ' legalise ', ' legalize ', ' legitimate ', ' legitimatise ', ' legitimatize ', ' legitimise ', ' legitimize ', ' let ', ' let in ', ' pass ', ' privilege ', ' put up ', ' stand ', ' stick out ', ' stomach ', ' suffer ', ' support ', ' tolerate ', ' trust ', 'admittance', 'allowance', 'charter', 'concession', 'consent', 'empowering', 'favor', 'franchise', 'go ahead', 'grant', 'green light', 'indulgence', 'leave', 'legalization', 'liberty', 'licence', 'license', 'pass', 'passport', 'patent', 'permission', 'privilege', 'safe-conduct', 'sanction', 'sufferance', 'toleration', 'trachinotus falcatus', 'visa', 'warrant'], [' authorise ', ' authorize ', ' charge ', ' entitle ', ' sanction ', 'accredit', 'allow', 'capacitate', 'charge', 'commission', 'delegate', 'entitle', 'entrust', 'grant', 'invest', 'legitimize', 'license', 'okay', 'permit', 'privilege', 'qualify', 'sanction', 'vest', 'warrant'], [' aid ', ' alleviate ', ' assist ', ' ease ', 'aid', 'ease', 'expedite', 'forward', 'further', 'grease the wheels', 'hand-carry', 'help', 'make easy', 'open doors', 'promote', 'run interference for', 'simplify', 'smooth', 'speed', 'speed up', 'walk through'], [' expend ', ' spend ', 'allow', 'be able to', 'be disposed to', 'bear', 'have enough for', 'have the means for', 'incur', 'manage', 'spare', 'stand', 'support', 'sustain'], [' bear ', ' bestow ', ' bring forth ', ' come up with ', ' contribute ', ' deliver ', ' dispense ', ' equip ', ' feed ', ' fund ', ' furnish ', ' give ', ' hydrate ', ' impart ', ' issue ', ' lay out ', ' produce ', ' provision ', ' render ', ' stock ', ' supply ', ' tool ', ' yield ', 'accommodate', 'add', 'administer', 'afford', 'arrange', 'bestow', 'bring', 'care', 'cater', 'contribute', 'dispense', 'equip', 'favor', 'feather', 'feed', 'fit', 'fit out', 'fix up', 'fix up with', 'furnish', 'give', 'grant', 'hand over', 'heel', 'impart', 'implement', 'indulge', 'keep', 'lend', 'line', 'look after', 'maintain', 'minister', 'outfit', 'prepare', 'present', 'procure', 'produce', 'proffer', 'provision', 'ration', 'ready', 'render', 'replenish', 'serve', 'stake', 'stock', 'stock up', 'store', 'sustain', 'take care of', 'transfer', 'turn out', 'yield'], [' actuate ', ' come about ', ' fall out ', ' go on ', ' hap ', ' initiate ', ' occur ', ' pass ', ' pass off ', ' pioneer ', ' set off ', ' spark ', ' spark off ', ' take place ', ' touch off ', ' trigger ', ' trigger off ', ' trip ', 'actify', 'actuate', 'arouse', 'call up', 'energize', 'impel', 'mobilize', 'motivate', 'move', 'prompt', 'propel', 'rouse', 'set in motion', 'start', 'stimulate', 'stir', 'switch on', 'take out of mothballs', 'trigger', 'turn on'], [' allow ', ' approbate ', ' approve ', ' authorise ', ' certificate ', ' certify ', ' clear ', ' commission ', ' countenance ', ' declare ', ' formalize ', ' let ', ' licence ', ' license ', ' o.k. ', ' okay ', ' pass ', ' permit ', ' sanction ', ' validate ', 'accredit', 'bless', 'commission', 'empower', 'enable', 'entitle', 'give authority', 'give the go-ahead', 'give the green light', 'give the word', 'invest', 'license', 'okay', 'rubber-stamp', 'say the word', 'vest'], [' authorize ', ' charge ', ' empower ', ' entitle ', ' sanction '], [' assure ', ' doom ', ' guarantee ', ' insure ', ' secure ', ' vouch ', 'arrange', 'assure', 'certify', 'cinch', 'clinch', 'confirm', 'effect', 'establish', 'guard', 'insure', 'lock on', 'lock up', 'make certain', 'make safe', 'make sure', 'nail down', 'okay', 'protect', 'provide', 'put on ice', 'safeguard', 'secure', 'set out', 'warrant'], [' assure ', ' bail ', ' ensure ', ' insure ', ' pledge ', ' secure ', ' stipulate ', ' vouch ', 'agreement', 'assurance', 'attestation', 'bail', 'bargain', 'bond', 'certainty', 'certificate', 'certification', 'charter', 'collateral', 'contract', 'covenant', 'deposit', 'earnest', 'gage', 'guaranty', 'insurance', 'lock', 'oath', 'pawn', 'pipe', 'recognizance', 'security', 'sure thing', 'surety', 'testament', 'token', 'undertaking', 'vow', 'warrant', 'warrantee', 'warranty', 'word', 'word of honor']]\n"
     ]
    }
   ],
   "source": [
    "print(enable_list_synonyms)\n"
   ]
  },
  {
   "cell_type": "code",
   "execution_count": 21,
   "id": "ac8a5d6c",
   "metadata": {},
   "outputs": [
    {
     "name": "stdout",
     "output_type": "stream",
     "text": [
      "648 [' alleviate ', ' assist ', ' attend ', ' attend to ', ' avail ', ' back up ', ' benefact ', ' bootstrap ', ' care ', ' ease ', ' expedite ', ' facilitate ', ' give care ', ' hasten ', ' help out ', ' serve ', ' subserve ', ' succor ', ' succour ', ' support ', ' wait on ', 'advancement', 'advice', 'advocacy', 'alleviation', 'allowance', 'assist', 'assistance', 'attention', 'backing', 'backup', 'benefaction', 'benefit', 'benevolence', 'bounty', 'care', 'charity', 'comfort', 'compensation', 'cooperation', 'deliverance', 'economic aid', 'economic assistance', 'encouragement', 'endowment', 'favor', 'financial aid', 'financial assistance', 'furtherance', 'gift', 'giving', 'guidance', 'hand', 'handout', 'help', 'leg up', 'lift', 'ministration', 'ministry', 'patronage', 'promotion', 'reinforcement', 'relief', 'rescue', 'reward', 'salvation', 'service', 'shot in the arm', 'subsidy', 'sustenance', 'tending', 'treatment', ' let ', ' permit ', 'acquiesce', 'avow', 'concede', 'confess', 'grant', 'let on', 'own', ' alter ', ' change ', ' empower ', ' endow ', ' endue ', ' equip ', ' gift ', ' indue ', ' modify ', 'accredit', 'approve', 'capacitate', 'commission', 'condition', 'empower', 'endow', 'facilitate', 'fit', 'give power', 'implement', 'invest', 'let', 'license', 'make possible', 'permit', 'prepare', 'provide the means', 'qualify', 'ready', 'sanction', 'set up', 'warrant', ' aid ', ' aid and abet ', ' alleviate ', ' assist ', ' assistance ', ' attend ', ' attend to ', ' avail ', ' back up ', ' be of service to ', ' be of use to ', ' benefact ', ' bootstrap ', ' care ', ' come to the aid of ', ' ease ', ' expedite ', ' facilitate ', ' give assistance to ', ' give care ', ' hasten ', ' help ', ' help out ', ' lend a hand to ', ' lend a helping hand to ', ' serve ', ' subserve ', ' succor ', ' succour ', ' support ', ' wait on ', 'advice', 'aid', 'assist', 'assistance', 'assistant', 'avail', 'balm', 'benefit', 'comfort', 'cooperation', 'corrective', 'cure', 'guidance', 'hand', 'helper', 'helping hand', 'lift', 'maintenance', 'nourishment', 'remedy', 'service', 'succor', 'support', 'supporter', 'sustenance', 'use', 'utility', ' abandon ', ' beetle off ', ' bolt ', ' bolt out ', ' break away ', ' bugger off ', ' bunk ', ' buzz off ', ' come away ', ' decamp ', ' depart ', ' desert ', ' empty ', ' escape ', ' exit ', ' fly the coop ', ' fuck off ', ' get ', ' get out ', ' go away ', ' go forth ', ' go out ', ' head for the hills ', ' hightail ', ' hightail it ', ' lam ', ' linger ', ' part ', ' pop off ', ' pull out ', ' pull up stakes ', ' quit ', ' ride away ', ' ride off ', ' run ', ' run away ', ' run off ', ' run out ', ' rush away ', ' rush off ', ' scarper ', ' scat ', ' scram ', ' set forth ', ' set off ', ' set out ', ' skip ', ' slip away ', ' sneak away ', ' sneak off ', ' sneak out ', ' start ', ' start out ', ' steal away ', ' take leave ', ' take off ', ' take to the woods ', ' tarry ', ' turn tail ', ' vacate ', ' vamoose ', ' walk off ', ' walk out ', 'allowance', 'assent', 'authorization', 'concession', 'consent', 'dispensation', 'farewell', 'freedom', 'go ahead', 'green light', 'leave of absence', 'leave-taking', 'liberty', 'okay', 'parting', 'permit', 'sanction', 'sufferance', 'tolerance', ' allow ', ' permit ', 'accredit', 'approve', 'army of the pure', 'army of the righteous', 'authorize', 'be big', 'cause', 'certify', 'commission', 'concede', 'enable', 'endorse', 'free up', 'give', 'give leave', 'give okay', 'give permission', 'grant', 'have', 'hear of', 'lashkar-e-taiba', 'lashkar-e-tayyiba', 'lashkar-e-toiba', 'leave', 'license', 'live with', 'make', 'net ball', 'permit', 'sanction', 'sit still for', 'suffer', 'tolerate', 'warrant', ' accept ', ' admit ', ' allow ', ' allow in ', ' authorise ', ' authorize ', ' bear ', ' brook ', ' clear ', ' consent ', ' countenance ', ' decriminalise ', ' decriminalize ', ' digest ', ' endure ', ' favor ', ' favour ', ' furlough ', ' give ', ' go for ', ' grant ', ' include ', ' intromit ', ' legalise ', ' legalize ', ' legitimate ', ' legitimatise ', ' legitimatize ', ' legitimise ', ' legitimize ', ' let ', ' let in ', ' pass ', ' privilege ', ' put up ', ' stand ', ' stick out ', ' stomach ', ' suffer ', ' support ', ' tolerate ', ' trust ', 'admittance', 'allowance', 'charter', 'concession', 'consent', 'empowering', 'favor', 'franchise', 'go ahead', 'grant', 'green light', 'indulgence', 'leave', 'legalization', 'liberty', 'licence', 'license', 'pass', 'passport', 'patent', 'permission', 'privilege', 'safe-conduct', 'sanction', 'sufferance', 'toleration', 'trachinotus falcatus', 'visa', 'warrant', ' authorise ', ' authorize ', ' charge ', ' entitle ', ' sanction ', 'accredit', 'allow', 'capacitate', 'charge', 'commission', 'delegate', 'entitle', 'entrust', 'grant', 'invest', 'legitimize', 'license', 'okay', 'permit', 'privilege', 'qualify', 'sanction', 'vest', 'warrant', ' aid ', ' alleviate ', ' assist ', ' ease ', 'aid', 'ease', 'expedite', 'forward', 'further', 'grease the wheels', 'hand-carry', 'help', 'make easy', 'open doors', 'promote', 'run interference for', 'simplify', 'smooth', 'speed', 'speed up', 'walk through', ' expend ', ' spend ', 'allow', 'be able to', 'be disposed to', 'bear', 'have enough for', 'have the means for', 'incur', 'manage', 'spare', 'stand', 'support', 'sustain', ' bear ', ' bestow ', ' bring forth ', ' come up with ', ' contribute ', ' deliver ', ' dispense ', ' equip ', ' feed ', ' fund ', ' furnish ', ' give ', ' hydrate ', ' impart ', ' issue ', ' lay out ', ' produce ', ' provision ', ' render ', ' stock ', ' supply ', ' tool ', ' yield ', 'accommodate', 'add', 'administer', 'afford', 'arrange', 'bestow', 'bring', 'care', 'cater', 'contribute', 'dispense', 'equip', 'favor', 'feather', 'feed', 'fit', 'fit out', 'fix up', 'fix up with', 'furnish', 'give', 'grant', 'hand over', 'heel', 'impart', 'implement', 'indulge', 'keep', 'lend', 'line', 'look after', 'maintain', 'minister', 'outfit', 'prepare', 'present', 'procure', 'produce', 'proffer', 'provision', 'ration', 'ready', 'render', 'replenish', 'serve', 'stake', 'stock', 'stock up', 'store', 'sustain', 'take care of', 'transfer', 'turn out', 'yield', ' actuate ', ' come about ', ' fall out ', ' go on ', ' hap ', ' initiate ', ' occur ', ' pass ', ' pass off ', ' pioneer ', ' set off ', ' spark ', ' spark off ', ' take place ', ' touch off ', ' trigger ', ' trigger off ', ' trip ', 'actify', 'actuate', 'arouse', 'call up', 'energize', 'impel', 'mobilize', 'motivate', 'move', 'prompt', 'propel', 'rouse', 'set in motion', 'start', 'stimulate', 'stir', 'switch on', 'take out of mothballs', 'trigger', 'turn on', ' allow ', ' approbate ', ' approve ', ' authorise ', ' certificate ', ' certify ', ' clear ', ' commission ', ' countenance ', ' declare ', ' formalize ', ' let ', ' licence ', ' license ', ' o.k. ', ' okay ', ' pass ', ' permit ', ' sanction ', ' validate ', 'accredit', 'bless', 'commission', 'empower', 'enable', 'entitle', 'give authority', 'give the go-ahead', 'give the green light', 'give the word', 'invest', 'license', 'okay', 'rubber-stamp', 'say the word', 'vest', ' authorize ', ' charge ', ' empower ', ' entitle ', ' sanction ', ' assure ', ' doom ', ' guarantee ', ' insure ', ' secure ', ' vouch ', 'arrange', 'assure', 'certify', 'cinch', 'clinch', 'confirm', 'effect', 'establish', 'guard', 'insure', 'lock on', 'lock up', 'make certain', 'make safe', 'make sure', 'nail down', 'okay', 'protect', 'provide', 'put on ice', 'safeguard', 'secure', 'set out', 'warrant', ' assure ', ' bail ', ' ensure ', ' insure ', ' pledge ', ' secure ', ' stipulate ', ' vouch ', 'agreement', 'assurance', 'attestation', 'bail', 'bargain', 'bond', 'certainty', 'certificate', 'certification', 'charter', 'collateral', 'contract', 'covenant', 'deposit', 'earnest', 'gage', 'guaranty', 'insurance', 'lock', 'oath', 'pawn', 'pipe', 'recognizance', 'security', 'sure thing', 'surety', 'testament', 'token', 'undertaking', 'vow', 'warrant', 'warrantee', 'warranty', 'word', 'word of honor']\n",
      "223 [' alleviate ', ' assist ', ' attend ', ' attend to ', ' avail ', ' back up ', ' benefact ', ' bootstrap ', ' care ', ' ease ', ' expedite ', ' facilitate ', ' give care ', ' hasten ', ' help out ', ' serve ', ' subserve ', ' succor ', ' succour ', ' support ', ' wait on ', 'advice', 'allowance', 'assist', 'assistance', 'benefit', 'care', 'comfort', 'cooperation', 'favor', 'guidance', 'hand', 'help', 'lift', 'service', 'sustenance', ' let ', ' permit ', 'concede', 'grant', ' empower ', ' equip ', 'accredit', 'approve', 'capacitate', 'commission', 'empower', 'fit', 'implement', 'invest', 'license', 'permit', 'prepare', 'qualify', 'ready', 'sanction', 'warrant', ' aid ', ' alleviate ', ' assist ', ' attend ', ' attend to ', ' avail ', ' back up ', ' benefact ', ' bootstrap ', ' care ', ' ease ', ' expedite ', ' facilitate ', ' give care ', ' hasten ', ' help out ', ' serve ', ' subserve ', ' succor ', ' succour ', ' support ', ' wait on ', 'advice', 'aid', 'assist', 'assistance', 'benefit', 'comfort', 'cooperation', 'guidance', 'hand', 'lift', 'service', 'support', 'sustenance', ' set off ', 'allowance', 'concession', 'consent', 'go ahead', 'green light', 'liberty', 'okay', 'permit', 'sanction', 'sufferance', ' allow ', ' permit ', 'accredit', 'approve', 'certify', 'commission', 'concede', 'enable', 'give', 'grant', 'leave', 'license', 'permit', 'sanction', 'warrant', ' allow ', ' authorise ', ' authorize ', ' bear ', ' clear ', ' countenance ', ' give ', ' let ', ' pass ', ' support ', 'allowance', 'charter', 'concession', 'consent', 'favor', 'go ahead', 'grant', 'green light', 'leave', 'liberty', 'license', 'privilege', 'sanction', 'sufferance', 'warrant', ' authorise ', ' authorize ', ' charge ', ' entitle ', ' sanction ', 'accredit', 'allow', 'capacitate', 'commission', 'entitle', 'grant', 'invest', 'license', 'okay', 'permit', 'privilege', 'qualify', 'sanction', 'vest', 'warrant', ' aid ', ' alleviate ', ' assist ', ' ease ', 'aid', 'help', 'allow', 'support', 'sustain', ' bear ', ' equip ', ' give ', 'arrange', 'care', 'favor', 'fit', 'give', 'grant', 'implement', 'prepare', 'ready', 'sustain', ' pass ', ' set off ', ' allow ', ' authorise ', ' clear ', ' countenance ', ' let ', ' pass ', ' permit ', ' sanction ', 'accredit', 'commission', 'empower', 'enable', 'entitle', 'invest', 'license', 'okay', 'vest', ' authorize ', ' charge ', ' empower ', ' entitle ', ' sanction ', ' assure ', ' insure ', ' secure ', ' vouch ', 'arrange', 'certify', 'okay', 'warrant', ' assure ', ' insure ', ' secure ', ' vouch ', 'charter', 'warrant']\n"
     ]
    }
   ],
   "source": [
    "#COnvert 2d list to 1d\n",
    "enable_list_synonyms = list(chain.from_iterable(enable_list_synonyms))\n",
    "print(len(enable_list_synonyms), enable_list_synonyms)\n",
    "\n",
    "enable_list_synonyms_2 = [x for x in enable_list_synonyms if enable_list_synonyms.count(x)>=2]\n",
    "print(len(enable_list_synonyms_2), enable_list_synonyms_2)"
   ]
  },
  {
   "cell_type": "code",
   "execution_count": 22,
   "id": "82847d42",
   "metadata": {},
   "outputs": [],
   "source": [
    "#Remove spaces between words and quotes\n",
    "enable_list_synonyms_2 = ([i.strip() for i in enable_list_synonyms_2])\n",
    "prevent_list_synonyms_2 = ([i.strip() for i in prevent_list_synonyms_2])"
   ]
  },
  {
   "cell_type": "code",
   "execution_count": 23,
   "id": "0adb68fe",
   "metadata": {},
   "outputs": [],
   "source": [
    "#keep only unique words\n",
    "x = np.array(verb_list)\n",
    "verb_list = list(np.unique(x))\n",
    "\n",
    "x = np.array(prevent_list_synonyms_2)\n",
    "prevent_list_synonyms_2 = list(np.unique(x))\n",
    "\n",
    "x = np.array(enable_list_synonyms_2)\n",
    "enable_list_synonyms_2 = list(np.unique(x))"
   ]
  },
  {
   "cell_type": "code",
   "execution_count": 24,
   "id": "2bb83786",
   "metadata": {},
   "outputs": [
    {
     "name": "stdout",
     "output_type": "stream",
     "text": [
      "737 84 170\n"
     ]
    }
   ],
   "source": [
    "print(len(verb_list), len(enable_list_synonyms_2), len(prevent_list_synonyms_2))\n"
   ]
  },
  {
   "cell_type": "code",
   "execution_count": 25,
   "id": "6428cdde",
   "metadata": {},
   "outputs": [],
   "source": [
    "#extract prevent verbs from sentences\n",
    "prevent_list_from_sentence = [v for v in verb_list \n",
    "                              if v in prevent_list_synonyms_2 or v in prevent_catena_list]"
   ]
  },
  {
   "cell_type": "code",
   "execution_count": 26,
   "id": "8bee8a9a",
   "metadata": {},
   "outputs": [
    {
     "name": "stdout",
     "output_type": "stream",
     "text": [
      "['anticipate', 'arrest', 'avoid', 'ban', 'bar', 'bind', 'block', 'contain', 'control', 'cross', 'curb', 'delay', 'deny', 'deter', 'disrupt', 'divert', 'exclude', 'forestall', 'hamper', 'hide', 'hold', 'impede', 'keep', 'kill', 'limit', 'obstruct', 'oppose', 'preserve', 'prevent', 'prohibit', 'protect', 'rattle', 'reject', 'restrict', 'save', 'slow', 'stay', 'stop', 'warn'] 39\n"
     ]
    }
   ],
   "source": [
    "print(prevent_list_from_sentence, len(prevent_list_from_sentence))"
   ]
  },
  {
   "cell_type": "code",
   "execution_count": 27,
   "id": "fdbd6fb5",
   "metadata": {},
   "outputs": [
    {
     "name": "stdout",
     "output_type": "stream",
     "text": [
      "['allow', 'approve', 'assure', 'attend', 'bear', 'benefit', 'certify', 'charge', 'empower', 'enable', 'ensure', 'entitle', 'facilitate', 'give', 'hand', 'help', 'implement', 'invest', 'leave', 'let', 'lift', 'pass', 'prepare', 'provide', 'secure', 'serve', 'support', 'sustain', 'warrant'] 29\n"
     ]
    }
   ],
   "source": [
    "#extract enable verbs from sentences\n",
    "enable_list_from_sentence = [v for v in verb_list \n",
    "                              if v in enable_list_synonyms_2 or v in enable_catena_list]\n",
    "print(enable_list_from_sentence, len(enable_list_from_sentence))"
   ]
  },
  {
   "cell_type": "code",
   "execution_count": 28,
   "id": "c5021969",
   "metadata": {},
   "outputs": [
    {
     "name": "stdout",
     "output_type": "stream",
     "text": [
      "['avoid', 'bar', 'block', 'deny', 'deter', 'forestall', 'hamper', 'hold', 'impede', 'obstruct', 'prevent', 'prohibit', 'protect', 'restrict'] 14\n"
     ]
    }
   ],
   "source": [
    "prevent_list_from_sentence_catena_only = [v for v in verb_list \n",
    "                              if v in prevent_catena_list]\n",
    "print(prevent_list_from_sentence_catena_only, len(prevent_list_from_sentence_catena_only))"
   ]
  },
  {
   "cell_type": "code",
   "execution_count": 29,
   "id": "757bf703",
   "metadata": {},
   "outputs": [
    {
     "name": "stdout",
     "output_type": "stream",
     "text": [
      "['allow', 'empower', 'enable', 'ensure', 'facilitate', 'help', 'leave', 'let', 'provide'] 9\n"
     ]
    }
   ],
   "source": [
    "#extract enable verbs from sentences\n",
    "enable_list_from_sentence_catena_only = [v for v in verb_list \n",
    "                              if  v in enable_catena_list]\n",
    "print(enable_list_from_sentence_catena_only, len(enable_list_from_sentence_catena_only))"
   ]
  },
  {
   "cell_type": "code",
   "execution_count": 30,
   "id": "3652d992",
   "metadata": {},
   "outputs": [
    {
     "name": "stdout",
     "output_type": "stream",
     "text": [
      "[]\n"
     ]
    }
   ],
   "source": [
    "ambiguous_list_from_sentence = [x for x in prevent_list_from_sentence if x in enable_list_from_sentence]\n",
    "print(ambiguous_list_from_sentence)"
   ]
  },
  {
   "cell_type": "code",
   "execution_count": 31,
   "id": "efba8012",
   "metadata": {},
   "outputs": [
    {
     "name": "stdout",
     "output_type": "stream",
     "text": [
      "[]\n"
     ]
    }
   ],
   "source": [
    "ambiguous_list = [x for x in prevent_list_synonyms_2 if x in enable_list_synonyms_2]\n",
    "print(ambiguous_list)"
   ]
  },
  {
   "cell_type": "code",
   "execution_count": 32,
   "id": "d0e35103",
   "metadata": {},
   "outputs": [],
   "source": [
    "enable_sentences = {key:None for key in enable_list_from_sentence}\n",
    "prevent_sentences = {key:None for key in prevent_list_from_sentence}\n"
   ]
  },
  {
   "cell_type": "code",
   "execution_count": 33,
   "id": "b06ded8b",
   "metadata": {},
   "outputs": [
    {
     "name": "stdout",
     "output_type": "stream",
     "text": [
      "{'allow': None, 'approve': None, 'assure': None, 'attend': None, 'bear': None, 'benefit': None, 'certify': None, 'charge': None, 'empower': None, 'enable': None, 'ensure': None, 'entitle': None, 'facilitate': None, 'give': None, 'hand': None, 'help': None, 'implement': None, 'invest': None, 'leave': None, 'let': None, 'lift': None, 'pass': None, 'prepare': None, 'provide': None, 'secure': None, 'serve': None, 'support': None, 'sustain': None, 'warrant': None} \n",
      "\n",
      " {'anticipate': None, 'arrest': None, 'avoid': None, 'ban': None, 'bar': None, 'bind': None, 'block': None, 'contain': None, 'control': None, 'cross': None, 'curb': None, 'delay': None, 'deny': None, 'deter': None, 'disrupt': None, 'divert': None, 'exclude': None, 'forestall': None, 'hamper': None, 'hide': None, 'hold': None, 'impede': None, 'keep': None, 'kill': None, 'limit': None, 'obstruct': None, 'oppose': None, 'preserve': None, 'prevent': None, 'prohibit': None, 'protect': None, 'rattle': None, 'reject': None, 'restrict': None, 'save': None, 'slow': None, 'stay': None, 'stop': None, 'warn': None}\n"
     ]
    }
   ],
   "source": [
    "print(enable_sentences,'\\n\\n',prevent_sentences)"
   ]
  },
  {
   "cell_type": "code",
   "execution_count": 34,
   "id": "67a51065",
   "metadata": {
    "scrolled": true
   },
   "outputs": [
    {
     "name": "stdout",
     "output_type": "stream",
     "text": [
      "0      Poland on Wednesday adopted a ban on Belarusia...\n",
      "1      The Council of Ministers has adopted a ban on ...\n",
      "2      This is an element of the implementation of th...\n",
      "3      Poland shares a long border with Belarus and t...\n",
      "4      There was confusion earlier on Wednesday when ...\n",
      "5      Polish authorities said they had denied it ent...\n",
      "6      But a separate flight from Minsk to Warsaw was...\n",
      "7      Belarusian foreign ministry spokesman Anatoly ...\n",
      "8      Polish government official Michal Dworczyk tol...\n",
      "9       Air traffic will be closed from midnight he said\n",
      "10     EU leaders at their summit this week agreed in...\n",
      "11     Several airlines have already said they will d...\n",
      "12     The EU and other Western countries have alread...\n",
      "13     As one of the most important global biohealth ...\n",
      "14     BIO KOREA organizing committee announced the m...\n",
      "15     The Four Programs Focusing on Biohealth Indust...\n",
      "16     BIO KOREA 2021 Business Forum will focus on a ...\n",
      "17     International participation continues to grow ...\n",
      "18     As an event involving various kinds of discuss...\n",
      "19     The Exhibition will be held both online and on...\n",
      "20     There will be a Digital Healthcarethemed pavil...\n",
      "21     The Conference of BIO KOREA will consist of va...\n",
      "22     Invest Fair is an event where pharmaceuticals ...\n",
      "23     BIO KOREA 2021 will be available both Online a...\n",
      "24     BIO KOREA presents invaluable information on t...\n",
      "25     Migrant workers in Lebanon have been hit hard ...\n",
      "26     The combined effects of Lebanons economic coll...\n",
      "27     The International Organization for Migration f...\n",
      "28     The UNs migration agency also said more than h...\n",
      "29     The plight of migrants workers in Lebanon  inc...\n",
      "30     The IOM said many respondents said they were s...\n",
      "31     As the economic situation continues to deterio...\n",
      "32     The Lebanese currency has lost more than 85 pe...\n",
      "33     The UN survey found that around half of respon...\n",
      "34     Many are unable to pay for return flight and i...\n",
      "35     Clearly and based on this worrying assessment ...\n",
      "36     The IOM said it was seeking funding to offer m...\n",
      "37     European investment bank Bryan Garnier  Co tod...\n",
      "38     For this analysis software analyst Gregory Ram...\n",
      "39     A superficial look at the simple sales multipl...\n",
      "40     For example if in April 2021 Salesforce shares...\n",
      "41     Ramirezexplains This picture is much closer to...\n",
      "42     The study also shows that the differences in t...\n",
      "43          Valuation is not decided by the stock market\n",
      "44     Bryan Garnier  Co explain that the heterogenei...\n",
      "45     This makes it clear that the stock exchange lo...\n",
      "46     Slovenian conservative Prime Minister Janez Ja...\n",
      "47     The impeachment was backed by 42 lawmakers aga...\n",
      "48     Had it succeeded it would likely see the 62yea...\n",
      "49     Four centreleft opposition parties filed the m...\n",
      "50     They had also accused him of disregarding demo...\n",
      "51     Jansa who only briefly attended the impeachmen...\n",
      "52     Dismissing the motion against him he said it c...\n",
      "53     We have a year of recovery ahead a recovery th...\n",
      "54     Slovenia a nation of two million has suffered ...\n",
      "55     His centreright coalition currently controls 4...\n",
      "56     This is the second time the fragmented centrel...\n",
      "57     Slovenia takes on the EUs rotating presidency ...\n",
      "58     Biden urges ceasefire in Ethiopias Tigray says...\n",
      "59     Belarus on Wednesday accused French authoritie...\n",
      "60     Belarusian state carrier Belavia said that fli...\n",
      "61     Honestly this is essentially air piracy foreig...\n",
      "62     Turning back the Belarusian plane French air c...\n",
      "63     The Belarusian foreign ministry said that most...\n",
      "64     This is an absolutely egregious fact and immor...\n",
      "65     On Sunday Belarusian authorities diverted a Eu...\n",
      "66     The EU banned Belarusian planes from the blocs...\n",
      "67     French energy giant Total said Wednesday that ...\n",
      "68     Total said in a statement the decision was mad...\n",
      "69     In light of the unstable context in Myanmar ca...\n",
      "70     It added that it condemns the violence and hum...\n",
      "71     Total has come under pressure from prodemocrac...\n",
      "72     The MGTC pipeline  15percent owned by the mili...\n",
      "73     Total said it would continue to produce gas so...\n",
      "74     French newspaper Le Monde revealed Totals invo...\n",
      "75     The colossal profits of the gas operations do ...\n",
      "76     Days after publishing the story Le Monde said ...\n",
      "77     Phil Foden already has eight major trophies to...\n",
      "78     Born and raised in Stockport just six miles 10...\n",
      "79     The club that he first started training with a...\n",
      "80     We had limited money limited resources and we ...\n",
      "81     Manchester United were used to having their pi...\n",
      "82     Philip just looked different he looked special...\n",
      "83     He always had magnificent agility and balance ...\n",
      "84     The earliest City could officially register Fo...\n",
      "85     We had a very challenging culture Cassell said...\n",
      "86     I dont go along with this dont worry about res...\n",
      "87     Fodens talent stood out even to someone used t...\n",
      "88     You are the lucky guys who saw the first game ...\n",
      "89     Poland on Wednesday adopted a ban on Belarusia...\n",
      "90     The Council of Ministers has adopted a ban on ...\n",
      "91     The UN said Wednesday it was deeply alarmed by...\n",
      "92     The mass arrests were carried out in the town ...\n",
      "93     The soldiers detained at least 200 and possibl...\n",
      "94     The UN refugee agency UNHCR is deeply alarmed ...\n",
      "95     We understand how traumatic and distressing th...\n",
      "96     What we have observed is that thousands of dis...\n",
      "97     Tewodros Aregai interim head of Tigrays Northw...\n",
      "98     He said screening operations were under way an...\n",
      "99     However he did not respond to requests for an ...\n",
      "100    Haslund said UNHCR had received reports that a...\n",
      "101    Amnesty researcher Fisseha Tekle said Tuesday ...\n",
      "102    Shire is home to hundreds of thousands of disp...\n",
      "103    Ethiopian Prime Minister Abiy Ahmed winner of ...\n",
      "104    He said the move came in response to attacks o...\n",
      "105    Though he vowed the war would be brief more th...\n",
      "106    Thousands of Australian Rules football fans we...\n",
      "107    Australias second biggest city is scrambling t...\n",
      "108    The AFL said thousands of fans who sat near th...\n",
      "109    The stadium is one of a growing list of venues...\n",
      "110    AFL games scheduled in Melbourne for the comin...\n",
      "111    We are concerned about the number and the kind...\n",
      "112    Limits on gatherings were introduced and masks...\n",
      "113    Victoria had not recorded any locally acquired...\n",
      "114    Australia has largely been successful in curbi...\n",
      "115    But repeated failures of the quarantine system...\n",
      "116    Australia  which has recorded about 30000 case...\n",
      "117    New current affairs channel GB News on Wednesd...\n",
      "118    Its chair Andrew Neil formerly a BBC journalis...\n",
      "119    The 24hour channels logo features the British ...\n",
      "120    Some including members of Britains main opposi...\n",
      "121    The launch announcement comes as the publicly ...\n",
      "122    An independent inquiry last week found that BB...\n",
      "123    Wall Street stocks were little changed early W...\n",
      "124    Analysts greeted reports that Senate Republica...\n",
      "125    Passage of an infrastructure package would add...\n",
      "126    Several retailers surged after reporting earni...\n",
      "127    About 20 minutes into trading the Dow Jones In...\n",
      "128    The broadbased SP 500 slipped less than 01 per...\n",
      "129    Among individual companies Amazon edged up 01 ...\n",
      "130    Ford jumped 36 percent as it said it is rampin...\n",
      "131    Shareholders at ExxonMobil elected Wednesday a...\n",
      "132    The dual meetings involving the two biggest US...\n",
      "133    At ExxonMobil two board nominees from activist...\n",
      "134    At Chevron a majority of investors backed an a...\n",
      "135    Earlier Wednesday a Dutch court ordered oil gi...\n",
      "136    Engine No 1s Gregory Goff and Kaisa Hietala se...\n",
      "137    Littleton said the vote was too close to call ...\n",
      "138    After the results were announced Woods congrat...\n",
      "139    Weve heard from shareholders about their desir...\n",
      "140    We are offering the following Editors Choice s...\n",
      "141    At least two people have been killed and sever...\n",
      "142    The Ministry of Interior described the attacks...\n",
      "143    It confirmed on Twitter that two people had di...\n",
      "144    The wounded were taken to health care faciliti...\n",
      "145    But security sources and witnesses at the scen...\n",
      "146    The attacks took place at bus stops downtown s...\n",
      "147    A witness near one of the attacks told AFP tha...\n",
      "148    It was terrifying Bloody bodies were lying all...\n",
      "149    The army and police deployed hundreds of heavi...\n",
      "150    A senior security official told AFP the attack...\n",
      "151    It is clearly an operation by armed groups who...\n",
      "152    These unclaimed attacks come after several amb...\n",
      "153    At least 12 people including a senior army off...\n",
      "154    Qatar announces 500 million for Gaza reconstru...\n",
      "155    Antonio Contes future with Inter Milan is in d...\n",
      "156    InterConte divorce headlined the daily Gazzett...\n",
      "157    Conte ready to break away headlined Corriere D...\n",
      "158    The 51yearold Italian still has a year left in...\n",
      "159    Inter registered losses of 100 million euros 1...\n",
      "160    The Suning Group shut down their Chinese club ...\n",
      "161    Five days ago Inter secured a cash injection w...\n",
      "162    In this context Suning wants to save as much a...\n",
      "163    The former Chelsea and Juventus boss took over...\n",
      "164    His departure had also been heralded last summ...\n",
      "165    Conte had blamed the clubs lack of investment ...\n",
      "166    Complete list of South African Premiership tit...\n",
      "167    More than 150 people were missing and feared d...\n",
      "168    The boat was travelling between central Niger ...\n",
      "169    The boat capacity was not up to the 180 passen...\n",
      "170    As we speak only 20 people have been rescued a...\n",
      "171    Another official had earlier said around 140 p...\n",
      "172    Boat tragedies are common on Nigerian waterway...\n",
      "173    The boat involved was a wooden boat which was ...\n",
      "174    He said passengers were heading to a market in...\n",
      "175    Local district administrator Abdullahi Buhari ...\n",
      "176    The vessel was also loaded with bags of sand f...\n",
      "177    Early this month 30 people drowned when an ove...\n",
      "178    The boat ferrying 100 local traders split into...\n",
      "179    The Niger is West Africas main river running i...\n",
      "180    Malis interim president and prime minister res...\n",
      "181    President Bah Ndaw and Prime Minister Moctar O...\n",
      "182    Cisse said negotiations were under way for the...\n",
      "183    A member of the Economic Community of West Afr...\n",
      "184    The team travelled early Wednesday to the Kati...\n",
      "185    Ndaw and Ouane had been heading the interim go...\n",
      "186    Goita who holds the rank of vice president in ...\n",
      "187    The UN Security Council was set to hold an eme...\n",
      "188    On Monday the United Nations African Union ECO...\n",
      "189    Young military officers ousted president Ibrah...\n",
      "190    The German Cycling Federation BDR said Wednesd...\n",
      "191    After the events of last weekend we have made ...\n",
      "192    The German federation added that they had urge...\n",
      "193    The UEC said on Tuesday it was considering mov...\n",
      "194    International disapproval of Belarus and its p...\n",
      "195    Lukashenko dismissed the international outcry ...\n",
      "196    Belarus whose leaders are already under a seri...\n",
      "197    In January the International Ice Hockey Federa...\n",
      "198    Switzerland announced Wednesday it was ending ...\n",
      "199    President Guy Parmelin told a press conference...\n",
      "200    Malis interim president and prime minister res...\n",
      "201    President Bah Ndaw and Prime Minister Moctar O...\n",
      "202    However a member of the Economic Community of ...\n",
      "203    The delegation then went to speak to Goita  wh...\n",
      "204    We saw the vice president again to express our...\n",
      "205    Cisse said negotiations were under way for the...\n",
      "206    Their detentions triggered widespread internat...\n",
      "207    The UN Security Council was set to hold an eme...\n",
      "208    The ECOWAS mediators met with Ndaw and Ouane a...\n",
      "209    A member of the delegation headed by former Ni...\n",
      "210    France was also prepared to impose targeted sa...\n",
      "211    And Washington said it would consider targeted...\n",
      "212    We stand with the people of Mali in their aspi...\n",
      "213    The statement also said the United States had ...\n",
      "214    Multiple fatalities in California shooting sus...\n",
      "215    Based on a sample of 5300 large publicly trade...\n",
      "216    Biodiversity loss has emerged as a concern for...\n",
      "217    Impacts dependencies and governance are critic...\n",
      "218    In its study Moodys finds a disconnect between...\n",
      "219    The full report titled Integrating biodiversit...\n",
      "220    COMPUTEX 2021 will be launched from May 31 to ...\n",
      "221    Highlight 1 Top Speakers Will Address on the G...\n",
      "222    COMPUTEX 2021 will kick off with the highly an...\n",
      "223    The COMPUTEX Forum on June 2 and 3 will revolv...\n",
      "224    Highlight 2 Virtual Booths Will Showcase the L...\n",
      "225    COMPUTEXVirtual the allnew smart online platfo...\n",
      "226    Acer will showcase its very latest products an...\n",
      "227    Along with the big corporates innovative start...\n",
      "228    Moreover COMPUTEXVirtual builds InnoVEXVirtual...\n",
      "229    Highlight 3 Effective Online Platform Function...\n",
      "230    To maximize the benefits for exhibitors COMPUT...\n",
      "231    Together with the technology giants and disrup...\n",
      "232    COMPUTEXVirtual Online Exhibition Visitor Regi...\n",
      "233    COMPUTEX CEO Keynote and COMPUTEX Forum Regist...\n",
      "234           About COMPUTEX TAIPEI also called COMPUTEX\n",
      "235    Established in 1981 COMPUTEX is one of the lea...\n",
      "236    Italian mob boss Rocco Morabito who was arrest...\n",
      "237    Rocco Morabito is going to be extradited to It...\n",
      "238    Diaz said that Uruguays plan had originally be...\n",
      "239    But the minute theres a new international arre...\n",
      "240    Therefore Uruguay is not going to request an e...\n",
      "241    Morabito 54 considered a capo or captain of th...\n",
      "242    Morabito is wanted in Italy on charges of drug...\n",
      "243    At UN Europe and US call for urgent Belarus pr...\n",
      "244    From Gone With the Wind to BenHur to James Bon...\n",
      "245    In the latest chapter in the upanddown saga of...\n",
      "246    Metro Goldwyn Mayer was created in 1924 with t...\n",
      "247    Its history spans from the early days of black...\n",
      "248    MGMs heyday was in the 1930s 40s and 50s when ...\n",
      "249    The companys unofficial motto More stars than ...\n",
      "250    Its official motto  in lettering above Leo the...\n",
      "251    In 1939 MGM movies Gone With the Wind and The ...\n",
      "252                               Gone With the Wind won\n",
      "253    Lavish musicals such as Singin in the Rain als...\n",
      "254    In 1959 MGM produced one of its biggest box of...\n",
      "255    Three people were killed when an illegal gold ...\n",
      "256    Accidents in smallscale goldmining known local...\n",
      "257    Local director for Ghanas National Disaster Ma...\n",
      "258    We are not certain about the number of people ...\n",
      "259    Until the excavators come in were unable to te...\n",
      "260    Ghana is Africas secondlargest gold producer a...\n",
      "261    A number of major global mining players are in...\n",
      "262    Nucleararmed North Korea is advancing on the f...\n",
      "263    Pyongyang is under multiple international sanc...\n",
      "264    But while the worlds diplomatic focus has been...\n",
      "265    North Koreas nuclear and military programmes a...\n",
      "266    Pyongyangs cyberwarfare abilities first came t...\n",
      "267    The attack resulted in the posting of several ...\n",
      "268    Since then the North has been blamed for a num...\n",
      "269    Pyongyang has denied any involvement describin...\n",
      "270    But the US Justice Department in February indi...\n",
      "271    In its 2021 Annual Threat Assessment Report Wa...\n",
      "272    The Norths cyber programme poses a growing esp...\n",
      "273    It accused Pyongyang of stealing hundreds of m...\n",
      "274    Sudans transitional government on Wednesday re...\n",
      "275    The authorities in power since longtime dictat...\n",
      "276    Multiple rebel groups signed onto the October ...\n",
      "277    The group represents the areas of South Kordof...\n",
      "278    It did not join the October accords as it is d...\n",
      "279    In March the government and the SPLMNorth sign...\n",
      "280    This round of negotiations is to focus on poli...\n",
      "281    The head of Sudans civilianmilitary ruling cou...\n",
      "282    South Sudans President Salva Kiir  who is medi...\n",
      "283    I believe that war will never save us You have...\n",
      "284    Hundreds of Sudanese women men and youths most...\n",
      "285    We affirm our commitment to a peaceful settlem...\n",
      "286    Meanwhile alBurhan said his team came to the n...\n",
      "287    United States special envoy for Sudan and Sout...\n",
      "288    Based on a sample of 5300 large publicly trade...\n",
      "289    Biodiversity loss has emerged as a concern for...\n",
      "290    Impacts dependencies and governance are critic...\n",
      "291    In its study Moodys finds a disconnect between...\n",
      "292    The full report titled Integrating biodiversit...\n",
      "293    Italian prosecutors and police on Tuesday chee...\n",
      "294    Rocco Morabito number two on the Italian inter...\n",
      "295    His capture came almost two years after his au...\n",
      "296    Morabito  considered a capo or captain of the ...\n",
      "297    Dubbed the king of cocaine he has been wanted ...\n",
      "298    Morabito is one of the most important brokers ...\n",
      "299    Investigations begun immediately after his pri...\n",
      "300    Uruguayan prosecutors said Tuesday that Morabi...\n",
      "301    Villarreal defeated Manchester United 1110 on ...\n",
      "302    Gerard Moreno gave Villarreal the lead 29 minu...\n",
      "303    Eric Bailly replaced the injured Harry Maguire...\n",
      "304    De Gea started ahead of Dean Henderson in goal...\n",
      "305    An early collision between Juan Foyth and Pogb...\n",
      "306    Carlos Baccas clever rabona cross created an o...\n",
      "307    Yeremy Pino who at 18 years and 218 days broke...\n",
      "308    Dani Parejo swung in a freekick from the left ...\n",
      "309    Morenos 82nd goal for Villarreal equalled the ...\n",
      "310    But it also sparked a reaction from United as ...\n",
      "311    Another Parejo setpiece caused panic in the Un...\n",
      "312    Alfonso Pedraza was perhaps fortunate no furth...\n",
      "313    A headed clearance at a corner dropped to Rash...\n",
      "314    It was the Uruguayans sixth goal of the compet...\n",
      "315    Bruno Fernandes drilled wide as Cavani tried i...\n",
      "316    United continued to dominate possession as Vil...\n",
      "317    Alberto Moreno slashed wide as United began to...\n",
      "318    Weariness and a raft of substitutions slowed t...\n",
      "319    The first 21 penalties were successfully conve...\n",
      "320    The United States and western European members...\n",
      "321    Their call came hours after a defiant Presiden...\n",
      "322    The shockwaves from the affair multiplied Wedn...\n",
      "323    In his first public statement since the Ryanai...\n",
      "324    I acted lawfully to protect our people Lukashe...\n",
      "325    The criticism was nothing more than another at...\n",
      "326    Our illwishers at home and abroad have changed...\n",
      "327    Lukashenko  often dubbed Europes last dictator...\n",
      "328    But he continues to enjoy solid support from R...\n",
      "329    Putins spokesman Dmitry Peskov said Wednesday ...\n",
      "330    The Belarus strongman and his allies are under...\n",
      "331    European leaders who accuse the authorities in...\n",
      "332    Tiger Woods popped up on Instagram on Monday a...\n",
      "333    Woods who suffered severe leg injuries in a on...\n",
      "334    The photo was posted by 10yearold Luna Perrone...\n",
      "335    I got to have a quick chat with tigerwoods thi...\n",
      "336    The 15time major champion had indicated in an ...\n",
      "337    Hed offered no further information since then ...\n",
      "338    Woods who police said was driving nearly twice...\n",
      "339    US Ryder Cup captain Steve Stricker said last ...\n",
      "340    Malis interim president and prime minister res...\n",
      "341    In New York the UN Security Council strongly c...\n",
      "342    The interim leaders who had been tasked with s...\n",
      "343    However a member of the Economic Community of ...\n",
      "344    The delegation then went to speak to Goita  wh...\n",
      "345    Cisse said the president prime minister and ot...\n",
      "346    He said earlier that there were moves toward f...\n",
      "347    Their detentions triggered widespread internat...\n",
      "348    The Security Council which held an emergency m...\n",
      "349    The council urged a restoration of the civilia...\n",
      "350    But it did not discuss imposing sanctions and ...\n",
      "351    The ECOWAS mediators met with Ndaw and Ouane a...\n",
      "352    A member of the delegation headed by former Ni...\n",
      "353    France was also prepared to impose targeted sa...\n",
      "354    And Washington said it would consider targeted...\n",
      "355    It said the United States had suspended assist...\n",
      "356    Temenos SIX TEMN the banking software company ...\n",
      "357    Max Chuard Chief Executive Officer Temenos sai...\n",
      "358    Building on over 10 years of cloud leadership ...\n",
      "359    The Temenos Banking Cloud is for both digitalf...\n",
      "360    We are putting banks in control of their busin...\n",
      "361    Chris Sozou General Manager Platforms Partners...\n",
      "362    The Temenos Banking Cloud gives banks the free...\n",
      "363    Dan Dickinson Chief Information Officer EQ Ban...\n",
      "364    The Temenos Banking Cloud removes the complexi...\n",
      "365    Faster to time market with Banking Services Th...\n",
      "366    Unlimited innovation in the Sandbox Temenos Sa...\n",
      "367    Collaborate with the most complete fintech mar...\n",
      "368    The Temenos Banking Cloud is powered by an Exp...\n",
      "369    The Temenos Banking Cloud offers multilayered ...\n",
      "370    A senior UN official has warned the Security C...\n",
      "371    There is a serious risk of famine if assistanc...\n",
      "372    Prime Minister Abiy Ahmed sent troops into Tig...\n",
      "373    He said the move came in response to TPLF atta...\n",
      "374    More than six months later Lowcock said the fi...\n",
      "375    Concrete measures are urgently needed to break...\n",
      "376    I urge members of the Security Council and oth...\n",
      "377    Today at least 20 percent of the population in...\n",
      "378    In the six and a half months since the start o...\n",
      "379    Rape and other forms of abhorrent sexual viole...\n",
      "380    The UN official estimated that over 90 per cen...\n",
      "381    o9 Solutions the premier AIpowered platform fo...\n",
      "382    In September 2018 o9 opened its first office i...\n",
      "383    o9s fast growth is also recognized by the Fina...\n",
      "384    Cofounder and CEO Chakri Gottemukkala says Des...\n",
      "385    We are focusing on creating a large sustainabl...\n",
      "386    Monde Nissin Corporation Monde Nissin or the C...\n",
      "387    The Offering received overwhelming interest fr...\n",
      "388    The IPO is the largest ever on the Philippines...\n",
      "389    The extraordinary level of interest that we re...\n",
      "390    Mr Soesanto added Our Quorn and AsiaPacific Br...\n",
      "391    Mr Soesanto concluded by saying The scale and ...\n",
      "392    Monde Nissin expects to commence trading on th...\n",
      "393    As previously announced the Company intends to...\n",
      "394    UBS AG Singapore Branch Citigroup Global Marke...\n",
      "395    This communication is not for distribution dir...\n",
      "396    After Lisbon last year now it is the turn of P...\n",
      "397    With its Covid19 crisis receding a proven abil...\n",
      "398    Once again we have turned to our friends in Po...\n",
      "399    It is unfortunate for Istanbul which was initi...\n",
      "400    The Turkish metropolis was told it would host ...\n",
      "401    A defiant President Alexander Lukashenko on We...\n",
      "402    In his first public statement since the Ryanai...\n",
      "403    I acted lawfully to protect our people Lukashe...\n",
      "404    The criticism was nothing more than another at...\n",
      "405    Our illwishers at home and abroad have changed...\n",
      "406    They have moved from organising riots to stran...\n",
      "407    Lukashenko  often dubbed Europes last dictator...\n",
      "408    The strongman and his allies are already under...\n",
      "409    European leaders are now accusing authorities ...\n",
      "410    Lausannes Diamond League athletics meeting on ...\n",
      "411    The event falls after the scheduled lifting of...\n",
      "412    Organisers Athletissima welcomed the Swiss gov...\n",
      "413    Lausanne takes place a couple of weeks after t...\n",
      "414    In Switzerland which has a population 86 milli...\n",
      "415    Villarreal defeated Manchester United 1110 on ...\n",
      "416    Gerard Moreno gave Villarreal the lead 29 minu...\n",
      "417    It feels really good Its been a tough competit...\n",
      "418    We didnt manage to get to the Champions League...\n",
      "419    Eric Bailly replaced the injured Harry Maguire...\n",
      "420    De Gea started ahead of Dean Henderson in goal...\n",
      "421    An early collision between Juan Foyth and Pogb...\n",
      "422    Carlos Baccas clever rabona cross created an o...\n",
      "423    Yeremy Pino who at 18 years and 218 days broke...\n",
      "424    Dani Parejo swung in a freekick from the left ...\n",
      "425    Morenos 82nd goal for Villarreal equalled the ...\n",
      "426    But it also sparked a reaction from United as ...\n",
      "427    Another Parejo setpiece caused panic in the Un...\n",
      "428    Alfonso Pedraza was perhaps fortunate no furth...\n",
      "429    A headed clearance at a corner dropped to Rash...\n",
      "430    It was the Uruguayans sixth goal of the compet...\n",
      "431    Bruno Fernandes drilled wide as Cavani tried i...\n",
      "432    United continued to dominate possession as Vil...\n",
      "433    Alberto Moreno slashed wide as United began to...\n",
      "434    Weariness and a raft of substitutions slowed t...\n",
      "435    The first 21 penalties were successfully conve...\n",
      "436    Amazon has agreed to buy the storied MGM studi...\n",
      "437    The deal bolsters Amazon Prime Video which com...\n",
      "438    The real financial value behind this deal is t...\n",
      "439    The deal comes with Amazon experiencing surgin...\n",
      "440    It gives Amazon the fabled Metro Goldwyn Mayer...\n",
      "441    In addition to the James Bond franchise MGM ow...\n",
      "442    MGM has nearly a century of filmmaking history...\n",
      "443    Amazon will help preserve MGMs heritage and ca...\n",
      "444    OralB has teamed up with Scientific American a...\n",
      "445    The brand is leading the way in innovation tec...\n",
      "446    Oral diseases are at crisis level as it is est...\n",
      "447    Jeremy A Abbate VP  Publisher at Scientific Am...\n",
      "448    While warning signs can be as small as bleedin...\n",
      "449    SYSTEMIC SPREAD OF PLAQUE BACTERIA THROUGHOUT ...\n",
      "450    A healthy mouth has minimal plaque buildup ens...\n",
      "451    The formation of gum disease begins when plaqu...\n",
      "452    When oral conditions worsen the hidden plaque ...\n",
      "453                     DISEASES IMPACTED BY GUM DISEASE\n",
      "454    Stroke  Periodontitis may increase the risk fo...\n",
      "455    Diabetes  There is a twoway relationship betwe...\n",
      "456    Heart disease  Patients with periodontal disea...\n",
      "457    Pregnancy gingivitis  Pregnant women are at in...\n",
      "458    Dementia  Patients with Alzheimers Disease and...\n",
      "459                 MAINTAINING A HEALTHY MOUTH AND BODY\n",
      "460    OralB the No1 Dentist Recommended Toothbrush B...\n",
      "461    Following a daily holistic OralB regimen can h...\n",
      "462    Electric Toothbrush with a RoundHead OralB bru...\n",
      "463    Stannous Fluoride Toothpaste Stannous Fluoride...\n",
      "464    Mouth Rinse Mouth rinses containing bioavailab...\n",
      "465    Interdental Cleaning Plaque easily accumulates...\n",
      "466    Regular OralHealth CheckUps Partner with your ...\n",
      "467    Scientific American educational resources deve...\n",
      "468    Antonio Conte leaves Inter Milan by mutual agr...\n",
      "469    Chelsea were given a Champions League final fi...\n",
      "470    The Blues posted photographs of Kante and Mend...\n",
      "471    Mendy was replaced by Kepa Arrizabalaga at hal...\n",
      "472    Kante missed the Villa game as a precaution af...\n",
      "473    Chelsea will be contesting their first Champio...\n",
      "474    The west London club are aiming to win the com...\n",
      "475    Chelsea have won two of the teams three meetin...\n",
      "476    Belgian rider Remco Evenepoel making his comeb...\n",
      "477    The DeceuninckQuickStep rider went over the se...\n",
      "478    After several minutes the 21yearold managed to...\n",
      "479    Evenepoel fractured his pelvis after hitting a...\n",
      "480    That horror crash ended a run of success in al...\n",
      "481    US Secretary of State Antony Blinken headed to...\n",
      "482    The US top diplomat already met with Israeli a...\n",
      "483    After talks with Palestinian president Mahmud ...\n",
      "484    The announcements signalled a break with US po...\n",
      "485    In the long term Blinken evoked the possibilit...\n",
      "486    After meeting earlier Tuesday with Israeli Pri...\n",
      "487    In Cairo Blinken is to meet with Egyptian Pres...\n",
      "488    Unlike the United States and many European gov...\n",
      "489    Egypt was also the first Arab country to sign ...\n",
      "490    Switzerland will reopen indoor restaurants and...\n",
      "491    Switzerland said its fourth wave of easing cor...\n",
      "492    The Federal Council is going further than prop...\n",
      "493    In so doing it is responding to the improved e...\n",
      "494    The government said the requirement to work fr...\n",
      "495    As of Monday restaurants will once again be ab...\n",
      "496    Up to four people will be allowed at a table t...\n",
      "497                     Outdoor dining reopened in April\n",
      "498    Working from home will be a recommendation rat...\n",
      "499    Mali interim president PM resign military dipl...\n",
      "500    Britains government disastrously failed the pu...\n",
      "501    Tens of thousands of people died who didnt nee...\n",
      "502    Cummings said Johnson was recklessly insoucian...\n",
      "503    But he said that even after nearly dying himse...\n",
      "504    Covid19 has claimed nearly 128000 lives in Bri...\n",
      "505    The truth is that senior ministers senior offi...\n",
      "506    He described political leadership during the c...\n",
      "507    When the public needed us most the government ...\n",
      "508    Qatar announced Wednesday it would provide 500...\n",
      "509    The state of Qatar announces 500 million in su...\n",
      "510    We will continue to support our brothers in Pa...\n",
      "511    After a female stork was electrocuted on a pow...\n",
      "512    We bring them a bit of everything some fish ea...\n",
      "513    Zeman and a gardener friend climb a ladder thr...\n",
      "514    They have nicknamed the father Bukacek  a refe...\n",
      "515    Zeman has also installed a camera over the nes...\n",
      "516    At the beginning only about 50 people were con...\n",
      "517    The engineer is also asking for donations and ...\n",
      "518    Its far too much money for five birds but we a...\n",
      "519    The European Union on Wednesday asked a Belgia...\n",
      "520    The request came as EU countries and their exe...\n",
      "521    The EU is suing AstraZeneca to force it to del...\n",
      "522    The deadline for the contract is set for midJu...\n",
      "523    Its legal team demanded an upfront fine of 10 ...\n",
      "524    AstraZeneca delivered only 30 million doses in...\n",
      "525    A Commission official close to the case told A...\n",
      "526    The companys defence  articulated ahead of the...\n",
      "527    But the lawyer for the EU Rafael Jeffareli arg...\n",
      "528    Jeffareli alleged that for several weeks after...\n",
      "529    Best effort means flexibility Why did the swit...\n",
      "530    The Halix plant in Leiden the Netherlands had ...\n",
      "531    French judicial investigators heard fugitive e...\n",
      "532    The hearing came before French magistrates off...\n",
      "533    Six French judges including public prosecutors...\n",
      "534    A French source close to the case said the exR...\n",
      "535    In 2017 a report by French fraud investigators...\n",
      "536    French prosecutors are looking into whether he...\n",
      "537    Ghosn is also being investigated by Frances ta...\n",
      "538    One Renault shareholder filed a lawsuit agains...\n",
      "539    Claiming tens of millions of euros were sent t...\n",
      "540    Baduel claimed the cash transfers amounted to ...\n",
      "541    Spokespeople for Ghosn did not comment on the ...\n",
      "542    The former executive was supposed to meet Fren...\n",
      "543    He was arrested in Japan in November 2018 on f...\n",
      "544    Wanted by Interpol Ghosn is effectively trappe...\n",
      "545    Japan has urged him to return and face trial w...\n",
      "546    Ghosn is currently beyond the reach of the Jap...\n",
      "547    He recently released a book setting out his si...\n",
      "548    People arriving in France from Britain will ha...\n",
      "549    Attal told reporters after a weekly cabinet me...\n",
      "550    Germany had already imposed additional measure...\n",
      "551    A French quarantine order is already in place ...\n",
      "552    The coronavirus variant first detected in Indi...\n",
      "553    Johnson  Johnsons singlejab vaccine against Co...\n",
      "554    The countrys interministerial health body focu...\n",
      "555    The move underlined the level of caution EU co...\n",
      "556    Those two have suspected links to very rare bu...\n",
      "557    The EMA is continuing to evaluate the safety o...\n",
      "558    Last month it drew a link between rare blood c...\n",
      "559    It maintains a recommendation they be used for...\n",
      "560    Several EU countries have restricted the use o...\n",
      "561    Denmark has dropped the Johnson  Johnson vacci...\n",
      "562    NonEU member Norway which has dropped AstraZen...\n",
      "563    Johnson  Johnson only started delivering its v...\n",
      "564    In Belgium the death of the woman  said to be ...\n",
      "565    The woman died on Friday after being admitted ...\n",
      "566    It added that Belgium would keep using the Joh...\n",
      "567    But for the general population the restriction...\n",
      "568    The body said that so far Belgium had received...\n",
      "569    Governments were quick to denounce the diversi...\n",
      "570                            Its not a simple question\n",
      "571    Civil aviation rules were not written with the...\n",
      "572    The European Union reacted furiously after the...\n",
      "573    The EU banned Belarusian planes from the blocs...\n",
      "574    A commercial airline pilot told AFP on conditi...\n",
      "575    But the pilot said the scenario in which a sta...\n",
      "576    For the Ryanair pilots he said there was no do...\n",
      "577            But could Belarus face legal consequences\n",
      "578    Former US lawmaker John Warner who opposed Geo...\n",
      "579    The longtime senator and former Navy secretary...\n",
      "580    Born in 1927 he enlisted in the military at 17...\n",
      "581    He then went to law school and became a US att...\n",
      "582    Warner married Taylor in 1976 the sixth of her...\n",
      "583    In 1978 he won election to the Senate from Vir...\n",
      "584    He backed President George W Bushs declaration...\n",
      "585    It called for the president to consider other ...\n",
      "586    In less than a decade Sweden has overtaken Ita...\n",
      "587    While gun homicides have declined in most Euro...\n",
      "588    The rate in Sweden ranks very high in relation...\n",
      "589    None of the other countries included in the st...\n",
      "590    The data for the period 20142017 put Sweden in...\n",
      "591    In 2018 the Scandinavian country topped the ra...\n",
      "592    The increase in gun homicide in Sweden is clos...\n",
      "593    The Swedish government and police have in rece...\n",
      "594    In 2020 Sweden a country of 103 million record...\n",
      "595    According to the report the number of shooting...\n",
      "596    The country also stands out with an overrepres...\n",
      "597    The report said there was no easy explanation ...\n",
      "598    Why this dynamic should have emerged just in S...\n",
      "599    The sharp rise in gun violence has been the su...\n",
      "600    Sweden must not get accustomed to this Its pos...\n",
      "601    The opposition Moderate Party meanwhile called...\n",
      "602    Amazon has agreed to buy the storied MGM studi...\n",
      "603    The deal bolsters Amazon Prime Video which com...\n",
      "604    The move comes with Amazon experiencing surgin...\n",
      "605    It gives Amazon the fabled Metro Goldwyn Mayer...\n",
      "606    Were really excited about MGM Amazon founder J...\n",
      "607    MGM has a vast deep catalog of much beloved in...\n",
      "608    In addition to the James Bond franchise MGM ow...\n",
      "609    MGM has nearly a century of filmmaking history...\n",
      "610    Insert after second paragraph third sentence o...\n",
      "611    The suspect in a mass shooting that killed eig...\n",
      "612    Several other victims suffered injuries in the...\n",
      "613    I know for sure that when the suspect knew tha...\n",
      "614    Multiple people were killed in a shooting Wedn...\n",
      "615    I cant confirm the exact number of injuries an...\n",
      "616    Malis interim president and prime minister res...\n",
      "617    President Bah Ndaw and Prime Minister Moctar O...\n",
      "618    However a member of the Economic Community of ...\n",
      "619    The delegation then went to speak to Goita  wh...\n",
      "620    We saw the vice president again to express our...\n",
      "621    Cisse said negotiations were under way for the...\n",
      "622    Their detentions triggered widespread internat...\n",
      "623    The UN Security Council was set to hold an eme...\n",
      "624    The ECOWAS mediators met with Ndaw and Ouane a...\n",
      "625    A member of the delegation headed by former Ni...\n",
      "626    France was also prepared to impose targeted sa...\n",
      "627    Kymeta Corporation wwwkymetacorpcomthe communi...\n",
      "628    The approval provided by CFIUS clears the way ...\n",
      "629    We are thrilled that the investment is approve...\n",
      "630    We look forward to moving ahead and working wi...\n",
      "631    The investment from HSC will further Kymetas g...\n",
      "632    HSC plans to support Kymetas metamaterialbased...\n",
      "633    Dozens of people were missing in northwest Nig...\n",
      "634    The boat left central Niger state and was head...\n",
      "635    A rescue operation is underway but only 22 sur...\n",
      "636    River boat accidents are common on Nigerian wa...\n",
      "637    Wara blamed the Kebbi accident on  overloading...\n",
      "638    The vessel was also loaded with bags of sand f...\n",
      "639    Early this month 30 people drowned when an ove...\n",
      "640    The boat ferrying 100 local traders split into...\n",
      "641    The Niger is West Africas main river running i...\n",
      "642    Suspect in California rail yard shooting took ...\n",
      "643    Ukrainian authorities on Wednesday condemned N...\n",
      "644    In April Ukrainian President Volodymyr Zelensk...\n",
      "645    Zelenskys plea came after Russia amassed aroun...\n",
      "646    Speaking at a joint news conference with visit...\n",
      "647    But not a single step has been taken to implem...\n",
      "648    Ukraine which applied to join the USled allian...\n",
      "649    But NATO members remain reluctant to embrace U...\n",
      "650    Kuleba criticised the blocs decision not to in...\n",
      "651    We cannot understand how it is possible not to...\n",
      "652    Kiev has repeatedly said it expects a NATO inv...\n",
      "653    Kuleba said that Ukraine and fellow exSoviet n...\n",
      "654    It is difficult to imagine a better and more i...\n",
      "655    Ukraines proWestern leadership closely coopera...\n",
      "656    A defiant President Alexander Lukashenko on We...\n",
      "657    In his first public statement since the Ryanai...\n",
      "658    I acted lawfully to protect our people Lukashe...\n",
      "659    The criticism was nothing more than another at...\n",
      "660    Our illwishers at home and abroad have changed...\n",
      "661    They have crossed many red lines and crossed b...\n",
      "662    Lukashenko  often dubbed Europes last dictator...\n",
      "663    The strongman and his allies are already under...\n",
      "664    European leaders are now accusing authorities ...\n",
      "665    People in Chile who have been vaccinated and a...\n",
      "666    The pass which can be downloaded on a persons ...\n",
      "667    Those without permits by comparison have to pr...\n",
      "668    Pass holders can also travel between cities an...\n",
      "669    Face masks remain compulsory for everyone indo...\n",
      "670    The measure came into force as Chile passed th...\n",
      "671    The country has three vaccines in its arsenal ...\n",
      "672    Chinas CoronaVac has the lowest proven efficac...\n",
      "673    The countrys Medical College and nine medical ...\n",
      "674    Any increase in mobility will augment infectio...\n",
      "675    Health Minister Enrique Paris defended the mea...\n",
      "676    Some 13 million people in Chile have been infe...\n",
      "677    Neighbor Argentina meanwhile received over a m...\n",
      "678    The country of 45 million due to host the Copa...\n",
      "679    It has one of the highest infection rates in t...\n",
      "680    Irans Rouhani says asked supreme leader for gr...\n",
      "681    New York prosecutors have convened a grand jur...\n",
      "682    The development is the latest step towards the...\n",
      "683    Trump fired off a statement in response to the...\n",
      "684    Its never stopped No other President in histor...\n",
      "685    The grand jury was set up recently and will si...\n",
      "686    The panel is also hearing several matters unre...\n",
      "687    The Washington Post said the move also reporte...\n",
      "688    A spokesman for Vance refused to comment when ...\n",
      "689    In the United States prosecutors typically ref...\n",
      "690    Vance and New York state Attorney General Leti...\n",
      "691    This is purely political and an affront to the...\n",
      "692    Japans Asahi Shimbun newspaper an official Tok...\n",
      "693    In an editorial the daily urged Prime Minister...\n",
      "694    The call comes with public opposition growing ...\n",
      "695    The editorial said it cannot accept the gamble...\n",
      "696    It also accused International Olympic Committe...\n",
      "697    When asked last week if the Games could be hel...\n",
      "698    Tokyo and other parts of Japan are currently u...\n",
      "699    Saying yes without demonstrating any clear gro...\n",
      "700    It comes less than two months until the Games ...\n",
      "701    The White House said Tuesday that it supported...\n",
      "702    There are very specific entry and movement rul...\n",
      "703    Cancelling the Games would cost Japan around 1...\n",
      "704    But the Nomura Research Institute warned that ...\n",
      "705    US Senate Majority Leader Chuck Schumer on Wed...\n",
      "706    A key provision of the proposal aims to addres...\n",
      "707    With both American political parties increasin...\n",
      "708    The Democratic leader said he aims to get a vo...\n",
      "709    The legislation will supercharge American inno...\n",
      "710    The proposal aims to address a number of techn...\n",
      "711    An ongoing shortage of the crucial chips has f...\n",
      "712    Also included is 15 billion to pay for a fund ...\n",
      "713    Another 15 billion would go towards a program ...\n",
      "714    Billions of dollars would go towards scholarsh...\n",
      "715    President Joe Biden has pledged to work with o...\n",
      "716    The Democratic leader has collaborated with at...\n",
      "717    The British government failed the public by no...\n",
      "718    Cummings who stepped down in December apologis...\n",
      "719    The truth is that senior ministers senior offi...\n",
      "720    When the public needed us most the government ...\n",
      "721    Cummings however said the British government w...\n",
      "722    The government itself and Number 10 Downing St...\n",
      "723    Lots of people were literally skiing in the mi...\n",
      "724    Cummings appearance is being closely watched a...\n",
      "725    A divisive figure who carved out a uniquely po...\n",
      "726    He previewed his testimony in dozens of social...\n",
      "727    If Britain had had the right preparations  com...\n",
      "728    Given the plan was AWOLdisaster  awful decisio...\n",
      "729    Downing Street has denied ever pursuing a herd...\n",
      "730    The current spike in inflation is unlikely to ...\n",
      "731    Fed Vice Chair Randal Quarles also said he is ...\n",
      "732    But policymakers will remain patient before ta...\n",
      "733    The Fed has pledged to keep the benchmark lend...\n",
      "734    But some economists are wary the US central ba...\n",
      "735    Quarles underlined the Feds view that most of ...\n",
      "736    I expect inflation to begin subsiding at some ...\n",
      "737    Therefore we need to remain patient in the fac...\n",
      "738    He acknowledged that there are some factors dr...\n",
      "739    Fed officials are not prophets but if were wro...\n",
      "740    It would be unwise for us to take actions that...\n",
      "741    Quarles said he was not worried about a return...\n",
      "742    The uneven recovery in US trading partners and...\n",
      "743    If growth continues as expected it will soon b...\n",
      "744    But even when the central bank begins to raise...\n",
      "745    Antonio Conte has parted company with newlycro...\n",
      "746    Inter Milan announces that it has reached an a...\n",
      "747    Conte 51 had a year left on his threeyear cont...\n",
      "748    World stock markets were trading in a narrow b...\n",
      "749    Wall Street opened cautiously with the Dow Jon...\n",
      "750    Meanwhile the techheavy Nasdaq rose 03 percent...\n",
      "751    Amazon was up 04 percent after extending its p...\n",
      "752    The deal gives the US tech giant a vast librar...\n",
      "753    After rallying for more than a year equities h...\n",
      "754    A succession of US Federal Reserve officials h...\n",
      "755    Those pledges were for a time brushed aside by...\n",
      "756    However analysts said the concerns may be subs...\n",
      "757    The yield of longterm US Treasuries a key gaug...\n",
      "758    Inflationistas look like they might be ready t...\n",
      "759    We are supposed to be seeing accelerating grow...\n",
      "760    He added that while the inflation debate had n...\n",
      "761    Still investor optimism continues to be kept i...\n",
      "762    Elsewhere Wednesday bitcoin briefly bounced ba...\n",
      "763    The digital unit at one point last week almost...\n",
      "764    But it remains well below its record high of c...\n",
      "765    By contrast gold was trading at fourmonth high...\n",
      "766    Los Angeles Angels pitching coach Mickey Calla...\n",
      "767    Callaway who has been suspended by the Angels ...\n",
      "768    Having reviewed all of the available evidence ...\n",
      "769    Harassment has no place within Major League Ba...\n",
      "770    The Angels swiftly announced Callaways dismiss...\n",
      "771    Effective immediately we are ending Mickey Cal...\n",
      "772    We appreciate Major League Baseballs diligent ...\n",
      "773    The Athletic website had first reported allega...\n",
      "774    Callaway 46 was accused of subjecting five wom...\n",
      "775    Callaway who worked as a pitching coach for th...\n",
      "776    My family and I fully support MLBs strong stan...\n",
      "777    I apologize to the women who shared with inves...\n",
      "778    To be clear I never intended to make anyone fe...\n",
      "779    However those are my own blind spots and I tak...\n",
      "780    Anthony Davis and LeBron James delivered down ...\n",
      "781    Davis had said he blamed himself after scoring...\n",
      "782                He wasnt about to let it happen again\n",
      "783    Davis scored 34 points with 10 rebounds seven ...\n",
      "784    LeBron James added 23 points pulling down four...\n",
      "785    The star duo scored 16 of the Lakers final 18 ...\n",
      "786    Jamess basket with 255 to play put the Lakers ...\n",
      "787    The Lakers got off to a determined start and l...\n",
      "788    With a 101 run to open the third period  launc...\n",
      "789    But Phoenix fought back Deandre Aytons dunk pu...\n",
      "790    Devin Booker led Phoenix with 31 points and ma...\n",
      "791    Thats playoff basketball Lakers coach Frank Vo...\n",
      "792    But our guys came out strong and were able to ...\n",
      "793    Sam Billings was called into the England squad...\n",
      "794    Foakes was due to play his first home Test  al...\n",
      "795    The 28yearold joins talismanic allrounder Ben ...\n",
      "796    Archer out with an elbow problem  suffered a s...\n",
      "797    Foakes could face three months out which would...\n",
      "798    Foakes sustained the injury on Sunday slipping...\n",
      "799    He will now be assessed and work closely on hi...\n",
      "800    England Mens Head Coach Chris Silverwood has c...\n",
      "801    Billings an established member of Englands whi...\n",
      "802    Hameed who has been in impressive form during ...\n",
      "803    The 24yearold opener nicknamed baby Boycott by...\n",
      "804    President Bashar alAssad dismissed criticism o...\n",
      "805    Your opinions have zero value Assad said after...\n",
      "806    On the eve of the election the US Britain Fran...\n",
      "807    But they will watch powerless as few doubt Ass...\n",
      "808    The controversial vote is the second election ...\n",
      "809    Huge election posters glorifying Assad have mu...\n",
      "810    State media which showed long queues forming o...\n",
      "811                         It said counting had started\n",
      "812    Hundreds of students clamoured to vote outside...\n",
      "813    I came to vote for Bashar alAssad because he i...\n",
      "814    Around him students chanted With our blood and...\n",
      "815    The European Union Aviation Safety Agency EASA...\n",
      "816    The circumstances surrounding this action cast...\n",
      "817    The actions undertaken by Belarus amounted to ...\n",
      "818    Belarus run by strongman President Alexander L...\n",
      "819    Citing a bomb threat authorities forced the pl...\n",
      "820    The airliner departed hours later after author...\n",
      "821    As a result European Union leaders agreed a ra...\n",
      "822    The EASA said that pending finalisation of an ...\n",
      "823    The agency also advised other airlines beyond ...\n",
      "824    At the same time the EASA said it did not beli...\n",
      "825    The interception of the Ryanair plane is being...\n",
      "826    The International Civil Aviation Organization ...\n",
      "827    The United States on Wednesday said it was con...\n",
      "828    Interim president Bah Ndaw and prime Minister ...\n",
      "829    The United States will consider targeted measu...\n",
      "830    We stand with the people of Mali in their aspi...\n",
      "831    The United States condemned the detentions and...\n",
      "832    Ndaw and Ouane had headed an interim governmen...\n",
      "833    US equities eked out modest gains Wednesday af...\n",
      "834    Amazon announced a deal to acquire MGM studios...\n",
      "835    The Dow Jones Industrial Average ended essenti...\n",
      "836    The broadbased SP 500 edged up 02 percent to c...\n",
      "837    Investors continue to monitor signs of rising ...\n",
      "838    But Fed Vice Chair Randal Quarles again tried ...\n",
      "839    Gregori Volokhine of Meeschaert Financial Serv...\n",
      "840    The markets are calmer they are seeing excelle...\n",
      "841    And though they see numbers that could point t...\n",
      "842    Several retailers surged after reporting earni...\n",
      "843    Amazon edged up 02 percent after announcing it...\n",
      "844    Ford jumped 85 percent as it said it is rampin...\n",
      "845    Multiple people were killed in a shooting Wedn...\n",
      "846    I cant confirm the exact number of injuries an...\n",
      "847    Police rushed to an active shooter investigati...\n",
      "848    It was not immediately clear if the shooter wa...\n",
      "849    South Africas former president Jacob Zuma plea...\n",
      "850    The 79yearold faces 16 charges of fraud graft ...\n",
      "851    Zuma  who at the time was president Thabo Mbek...\n",
      "852    Zuma was impassive as he faced the court in th...\n",
      "853    Impeccably dressed in a dark blue suit and a r...\n",
      "854      I plead not guilty Zuma said without hesitating\n",
      "855    Thales also pleaded not guilty to charges of c...\n",
      "856    Zumas plea concludes years of delay in the lon...\n",
      "857      Prosecutors intend to call around 200 witnesses\n",
      "858    The ruling African National Congress ANC force...\n",
      "859    Under his nineyear tenure say critics corrupti...\n",
      "860    His successor Cyril Ramaphosa has vowed to sta...\n",
      "861    A teenage demonstrator died Wednesday in a pro...\n",
      "862    The 18yearold university student died from wha...\n",
      "863    National Police chief Jorge Vargas identified ...\n",
      "864    Two other civilians were shot and wounded in t...\n",
      "865           The police did not say who fired the shots\n",
      "866    The students death brings to 44 the official t...\n",
      "867    Though the proposal was quickly withdrawn anti...\n",
      "868    With no central leadership or common set of de...\n",
      "869    Negotiations that started nearly two weeks ago...\n",
      "870    The protesters want Duque to acknowledge abuse...\n",
      "871    The government claims that leftist guerrillas ...\n",
      "872    View events updated in real time on AFP Agenda...\n",
      "873    For a selection of upcoming events and a previ...\n",
      "874    South Africas former president Jacob Zuma plea...\n",
      "875    The 79yearold faces 16 charges of fraud graft ...\n",
      "876    Zuma  who at the time was president Thabo Mbek...\n",
      "877    Zuma was impassive as he faced the court in th...\n",
      "878    Impeccably dressed in a dark blue suit and a r...\n",
      "879      I plead not guilty Zuma said without hesitating\n",
      "880    Thales also entered a notguilty plea to charge...\n",
      "881    The companys lawyers told the court that Thale...\n",
      "882    For many South Africans the longawaited case w...\n",
      "883    Under his nineyear tenure say critics corrupti...\n",
      "884    The exleaders lawyers asked to have prosecutio...\n",
      "885    His right to a fair trial is what is at stake ...\n",
      "886    Italian mob boss Rocco Morabito who was arrest...\n",
      "887    Rocco Morabito is going to be extradited to It...\n",
      "888    Diaz said that Uruguays plan had originally be...\n",
      "889    But the minute theres a new international arre...\n",
      "890    Therefore Uruguay is not going to request an e...\n",
      "891    Morabito 54 considered a capo or captain of th...\n",
      "892    Morabito is wanted in Italy on charges of drug...\n",
      "893    Classical musicians in Vienna are preparing to...\n",
      "894    They are dusting off their instruments after A...\n",
      "895    Singers agent Laurent Delage likens the challe...\n",
      "896    In the ornate Golden Hall of the Musikverein c...\n",
      "897    She is rehearsing a symphony by Gustav Mahler ...\n",
      "898    We werent expecting this to last virtually 200...\n",
      "899    After this weeks concerts in Vienna she has pe...\n",
      "900    Dervaux joined the Vienna Philharmonic six yea...\n",
      "901    But she admitted she had gone through very ver...\n",
      "902    I asked myself Why work why practise scales if...\n",
      "903    After putting her bassoon to one side for a wh...\n",
      "904    Faced with the dilemma of who to recognise as ...\n",
      "905    The 74th World Health Assembly had received re...\n",
      "906    This years gathering of the WHOs main decision...\n",
      "907    There have been calls to revamp the UN health ...\n",
      "908    A WHO committee tasked with verifying country ...\n",
      "909    For now that would mean no one would represent...\n",
      "910    Myanmar has been in turmoil since the February...\n",
      "911    The military has killed more than 800 civilian...\n",
      "912    France on Wednesday appointed Laurence des Car...\n",
      "913    Des Cars currently runs the Musee dOrsay the P...\n",
      "914    Her legacy there includes boosting young visit...\n",
      "915    During her four years at the Orsay the 54year ...\n",
      "916    On Wednesday she told France Inter radio that ...\n",
      "917    The European Commission will confront drugs gi...\n",
      "918    Lawyers for both sides are due to appear befor...\n",
      "919    The EU is suing the BritishSwedish pharmaceuti...\n",
      "920    The deadline for the contract was set for midJ...\n",
      "921    AstraZeneca delivered only 30 million doses in...\n",
      "922    A Commission official close to the case told A...\n",
      "923    The group denies having failed in its obligati...\n",
      "924    One lawyer for AstraZeneca claimed that the EU...\n",
      "925    The EU is also accusing the pharmaceutical gia...\n",
      "926    AstraZenecas FrenchAustralian boss Pascal Sori...\n",
      "927    But the European Commission says the rest of t...\n",
      "928    Super League trio Real Madrid Barcelona and Ju...\n",
      "929    UEFA on Tuesday opened formal disciplinary pro...\n",
      "930    In a joint statement Italians Juventus and the...\n",
      "931    FC Barcelona Juventus FC and Real Madrid CF wi...\n",
      "932    This alarming attitude constitutes a flagrant ...\n",
      "933    Therefore the opening of disciplinary proceedi...\n",
      "934    UEFAs statutes prohibit any grouping or allian...\n",
      "935    By announcing their own private Super League o...\n",
      "936    The withdrawal of the six English participants...\n",
      "937    The two Milan clubs followed and the nine agre...\n",
      "938    Real Barcelona and Juventus meanwhile retaliat...\n",
      "939    From the beginning the Super League has been p...\n",
      "940    This objective has to be achieved in a framewo...\n",
      "941    Instead of exploring ways of modernising footb...\n",
      "942    Barcelona Juventus and Real Madrid all of them...\n",
      "943    Either we reform football or we will have to w...\n",
      "944     Irelands Dan Martin wins Giro dItalia 17th stage\n",
      "945    British Prime Minister Boris Johnsons former t...\n",
      "946    Here are three of the principal areas covered ...\n",
      "947    Dozens of people were missing in northwest Nig...\n",
      "948    The boat left central Niger state and was head...\n",
      "949    A rescue operation is underway but only 22 sur...\n",
      "950    Boat capsizals are common on Nigerian waterway...\n",
      "951    Wara blamed the Kebbi accident on  overloading...\n",
      "952    The vessel was also loaded with bags of sand f...\n",
      "953    Early this month 30 people drowned when an ove...\n",
      "954    The boat ferrying 100 local traders split into...\n",
      "955    Belgian rider Victor Campenaerts has pulled ou...\n",
      "956    The Team Qhubeka Assos rider won Sundays 15th ...\n",
      "957    The pain first surfaced in the cold conditions...\n",
      "958    Campenaerts withdrawal leaves the South Africa...\n",
      "959    The Brooklyn Nets ran roughshod over the Bosto...\n",
      "960    Kevin Durant headed another strong showing for...\n",
      "961    Brooklyn seized control in a first quarter in ...\n",
      "962    They led 7147 at halftime with Harris providin...\n",
      "963    The forward connected on six of eight shots fr...\n",
      "964    He added one more threepointer in the second h...\n",
      "965    Tonight Joe got us going we got stops got out ...\n",
      "966    Durant led the Nets with 26 points eight rebou...\n",
      "967    Harris finished with 25 points Harden added 20...\n",
      "968    Center Blake Griffins 11 points included two v...\n",
      "969    The listless Celtics meanwhile were never a fa...\n",
      "970    Marcus Smart recovered from a slow start  with...\n",
      "971    Kemba Walker had 17 but star forward Jayson Ta...\n",
      "972    The Celtics will try to get into the bestofsev...\n",
      "973    Elsewhere on Tuesday the reigning champion Los...\n",
      "974    The Los Angeles Clippers were also seeking a b...\n",
      "975    US Secretary of State Antony Blinken headed to...\n",
      "976    After meeting Egyptian President Abdel Fattah ...\n",
      "977    The US top diplomat already met Tuesday with I...\n",
      "978    After talks with Palestinian president Mahmud ...\n",
      "979    The announcements signalled a break with US po...\n",
      "980    In the long term Blinken evoked the possibilit...\n",
      "981    After meeting Israeli Prime Minister Benjamin ...\n",
      "982    Aftershocks from the Mount Nyiragongo volcano ...\n",
      "983    The tremors were felt throughout the night Two...\n",
      "984    The seismic monitoring agency RSM in neighbour...\n",
      "985    The Goma Volcano Observatory OVG said that it ...\n",
      "986    Authorities shut down the market shops and sev...\n",
      "987    Hundreds of residents began leaving the city a...\n",
      "988    The UN said it was relocating nonessential sta...\n",
      "989    The United Nations says 32 people have died an...\n",
      "990    Czech defender Ondrej Kudelas appeal against a...\n",
      "991    The Slavia Prague centreback was handed the su...\n",
      "992    The appeal lodged by Mr Ondrej Kudela has been...\n",
      "993    The disciplinary committee had decided to susp...\n",
      "994    Czech Republic coach Jaroslav Silhavy had left...\n",
      "995    The 34yearold allegedly uttered a racist insul...\n",
      "996    Finlands Kamara was also given a threegame ban...\n",
      "997     The incident caused uproar in the Czech Republic\n",
      "998    The Czech presidents office even said it had c...\n",
      "999    Switzerland on Wednesday called off years of t...\n",
      "Name: sentences, dtype: object\n"
     ]
    }
   ],
   "source": [
    "sentences_list = sentences_df['sentences']\n",
    "print(sentences_list[:1000])\n"
   ]
  },
  {
   "cell_type": "code",
   "execution_count": 35,
   "id": "c7285271",
   "metadata": {},
   "outputs": [
    {
     "data": {
      "application/vnd.jupyter.widget-view+json": {
       "model_id": "5292dc11dd2a41daafb36732e0da293e",
       "version_major": 2,
       "version_minor": 0
      },
      "text/plain": [
       "  0%|          | 0/1000 [00:00<?, ?it/s]"
      ]
     },
     "metadata": {},
     "output_type": "display_data"
    }
   ],
   "source": [
    "s_list = [\" \".join([token.lemma_ for token in nlp(x)])for x in tqdm(sentences_list[:1000])]"
   ]
  },
  {
   "cell_type": "code",
   "execution_count": 36,
   "id": "51a0deb7",
   "metadata": {},
   "outputs": [
    {
     "name": "stdout",
     "output_type": "stream",
     "text": [
      "['Poland on Wednesday adopt a ban on belarusian flight use its airspace as part of EUwide sanction agree this week after Belarus arrest a dissident journalist on a divert flight', 'the Council of Ministers have adopt a ban on the entry into polish airspace of aircraft use by carrier from Belarus government spokesman Piotr Muller say on Twitter', 'this be an element of the implementation of the sanction request by the prime minister during the European Council', 'Poland share a long border with Belarus and the ban be expect to have a major effect on flight by belarusian carrier include the national airline Belavia to western Europe', 'there be confusion early on Wednesday when a belarusian flight on route from Minsk to Barcelona could be see on flight tracking website circle near the polish border for several minute', 'polish authority say they have deny it entry to their airspace because France have say it would not allow it through', 'but a separate flight from Minsk to Warsaw be allow to land', 'belarusian foreign ministry spokesman Anatoly Glaz say france decision not to allow the plane amount to air piracy', 'polish government official Michal Dworczyk tell Polsat news channel that Poland be the fourth country to adopt such a ban this week follow France Lithuania and Ukraine', 'air traffic will be close from midnight he say', 'EU leader at their summit this week agree in principle to ban belarusian airline from the bloc and urge EUbased carrier not to fly through belarusian airspace', 'several airline have already say they will do so', 'the EU and other western country have already impose a wide range of sanction on President Alexander Lukashenkos government over its crackdown on opposition demonstration that follow his dispute reelection to a sixth term last August', 'as one of the most important global biohealth convention BIO KOREA 2021 International Convention have garner great attention from home and abroad to facilitate the discussion on the future biohealth industry in the covid19 era the BIO KOREA 2021 to be hold on June 9 to 21 will evolve around the theme of New Normal Breaking Barriers with Bio Innovation', 'BIO KOREA organize committee announce the main program deepdive into business strategy in the postpandemic era', 'the Four program focus on Biohealth Industry and Business', 'BIO KOREA 2021 Business Forum will focus on a virtual partnering system allow attendee to schedule virtual meeting to maximize their business development and licensing potential', 'international participation continue to grow numerous company from 20 country already join and be expect to showcase their advanced technology at BIO KOREA 2021', 'as an event involve various kind of discussion BIO KOREA attract not only lead biohealth company in Korea such as SK Chemicals Chong Kun Dang ShinPoong Pharm Kolon Life Science etc but also promise sme like PharmCADD WELT Oncocross Biot Korea all of which be eager to grow their business 24hour meeting slot will strengthen your digital network across time zone also company presentation will be livestreame on the official BIO KOREA platform', 'the exhibition will be hold both online and onsite as a hybrid format which will showcase the cuttingedge technology and product of exhibitor in various way 300 exhibitor from startup to global enterprise will be at BIO KOREAs exhibition participant can meet onsite exhibitor through live streaming on the online platform during the event', 'there will be a Digital Healthcarethemed pavilion introduce the industrial rookie of Digital Wellness Mobile Healthcare Digital Therapeutics Big Data and AI etc also covid19 show room will show participant how biohealth serve as a cure for the pandemic', 'the Conference of BIO KOREA will consist of valuable expertlevel lecture regard the most pressing industry topic include Digital Health Drug Development and Post covid19 BIO KOREA 2021 conference cover 18 topic with 170 speaker will bring the most uptodate conversation of biohealth both online and onsite', 'Invest Fair be an event where pharmaceutical bio and healthcare company that be advance into the global market and develop new drug introduce their lead technology vision and strategy to the investor along with online hosting it maintain the participant attendance with impressive lineup of 19 company such as Lunit Tium BIO VaxcellBio and Genesystem', 'BIO KOREA 2021 will be available both Online and Onsite', 'BIO KOREA present invaluable information on the industrys trend around the world this year the global audience will have a frontrow seat to discover and see the late technology all BIO KOREA program will be livestreame from June 9 to June 21 the program at a glance be on httpswwwbiokoreaorgprogramscheduleasp', 'migrant worker in Lebanon have be hit hard by its multiple crisis and half of they leave jobless the UN warn Wednesday call for voluntary return to be scale up', 'the combined effect of Lebanons economic collapse the Covid19 pandemic and last year deadly Beirut port explosion have worsen already dire living condition for migrant worker', 'the International Organization for Migration find that 50 percent of the respondent migrant report be unemployed with the majority lose their job in the last quarter of 2020', 'the UNs migration agency also say more than half of those survey say they be unable to meet their food need', 'the plight of migrant worker in Lebanon   include many from the Philippines Ethiopia Bangladesh and Sierra Leone   have come under increase scrutiny in recent year over case of mistreatment', 'the IOM say many respondent say they be still be subject to abuse include beating sexual harassment and denial of wage', 'as the economic situation continue to deteriorate and employment opportunity remain limited migrant vulnerability to exploitation and abuse be likely to increase say Mathieu Luciano the agencys Lebanon chief', 'the lebanese currency have lose more than 85 percent of its value against the dollar in an economic crisis that have send poverty level above 50 percent of the population', 'the UN survey find that around half of respondent want to go home but be stick in Lebanon', 'many be unable to pay for return flight and in some case be not free to do so as a result of an infamous sponsorship system know as Kafala whereby they relinquish their passport to the agency that find they work', 'clearly and base on this worrying assessment there be an urgent need to rapidly scale up voluntary return assistance service in Lebanon say Luciano', 'the IOM say it be seek funding to offer more voluntary return to the thousand of migrant worker strand in crisishit Lebanon', 'european investment bank Bryan Garnier   Co today present a study that clearly refute the widespread structural undervaluation of european software vendor when the usual EVsales multiple enterprise value   expect sale for the next year be relate to the average expect growth over three year CAGR european software vendor be even trade at a valuation premium of around nine percent eight percent in the case of SaaS provider compare to their US competitor', 'for this analysis software analyst Gregory Ramirez compare the valuation of all 95 europeanliste and 97 USlisted software vendor between 2006 and 2020 for which there be historical analyst consensus datum from Refinitiv these company include 29 european and 67 US SaaS vendor', 'a superficial look at the simple sale multiple show that the US provider multiple of 99 over the last 15 year be significantly high than the 56 of their european competitor however if the stock market value be not only assess on the basis of the simple sale multiple but average growth1 be take into account and both be place in relation to each other a completely different picture emerge this put the significance of the sale expectation for the next year into perspective', 'for example if in April 2021 Salesforce share be trade at a revenue multiple of 10 10x expect revenue in 2022 and the expect average revenue growth CAGR for 20202023 be 20 the ratio be 10   02   100 and the newly calculate ratio be 050 the analyst do this calculation for the 15 year up to April 2021 and come up with a surprising result which be that the valuation of software company on the european stock exchange be not only on par with the company list in the US they be slightly high for the Europeans this result in an average valuation that be nine percent high than that of their US competitor the same principle apply to the 29 or 67 US list SaaS provider over a fouryear period yield almost the same result here the average premium be eight percent', 'ramirezexplain this picture be much close to the reality of the stock market valuation this weighting with the average growth rate normalize the multiple and thus relativise the significance of the shortterm growth expectation for a single year', 'the study also show that the difference in the individual valuation of software provider list in Europe be wide than those of their US competitor this dispersion can not be explain by a significant number of lossmake company among european software vendor nor by the liquidity of their share contrary to another common prejudice the most highly value european software stock be by no mean always the most liquid nor be they necessarily list on the most liquid market', 'valuation be not decide by the stock market', 'Bryan Garnier   Co explain that the heterogeneity of the valuation of european software provider be a result of very different business model track record and corporate governance above all the degree of maturity of the european company be very different while US company almost always have a long maturation process with numerous financing round behind they before go public', 'this make it clear that the stock exchange location be not decisive for the valuation of a software company its all about the quality of the business model and management the degree of maturity and the track record to date explain Greg Revenu Managing Partner of Bryan Garnier   Co this be an important insight he say because for Europeans an ipo in the USA be usually associate with many difficulty Pierre KiecoltWahl Partner and Head of ECM at Bryan Garnier   Co add if the stock market success of european software company be ultimately independent of the choose stock exchange there be not the slight argument against an ipo on a european stock exchange', 'slovenian conservative Prime Minister Janez Jansa survive an impeachment motion late on Wednesday a month before the small Alpine nation take on the eu rotate presidency', 'the impeachment be back by 42 lawmaker against 44 in the 90seat parliament fail to reach the absolute majority need for it to be succesful', 'have it succeed it would likely see the 62yearold remove from office and snap election call', 'four centreleft opposition party file the motion in April accuse Jansa of mismanage the coronavirus crisis such as by fail to acquire extra vaccine dose', 'they have also accuse he of disregard democratic institution and violate press freedom   attack critical medium and stop the funding of the countrys only news agency STA', 'Jansa who only briefly attend the impeachment debate argue that his government have be succesful in deal with the health and economic crisis', 'dismiss the motion against he he say it contain so many absurd thing that there be even no sense in answer to all of they', 'we have a year of recovery ahead a recovery that will be fast than in other EU member state and will get we to the precrisis position in a record time he add', 'Slovenia a nation of two million have suffer a relatively high proportion of pandemic death compare to other EU country Jansas poll rating have slump to their low point since he take office in March 2020', 'his centreright coalition currently control 45 seat in the 90seat parliament several mp having leave the government camp in recent month', 'this be the second time the fragmented centreleft opposition have fail to pass a noconfidence motion against he their first attempt having fall in February', 'Slovenia take on the eu rotate presidency in July but thousand gather regularly in central Ljubljana accuse Jansa of undermine democratic institution and call for new election', 'Biden urge ceasefire in Ethiopias Tigray say right abuse must end', 'Belarus on Wednesday accuse french authority of commit an act of air piracy after a belarusian passenger plane fly from Minsk to Barcelona be deny passage through french airspace and turn back', 'belarusian state carrier Belavia say that flight B2869 with 56 passenger on board have be refuse permission to go through french airspace and have to spend around two hour in midair before return to Minsk', 'honestly this be essentially air piracy foreign ministry spokesman Anatoly Glaz say in a statement', 'turn back the belarusian plane french air control cite an order from the french prime minister Belavia say', 'the belarusian foreign ministry say that most of the passenger onboard be EU citizen add that their safety be put at risk', 'this be an absolutely egregious fact and immoral act say glaz accuse french authority of violate the Chicago Convention that regulate air travel', 'on Sunday Belarusian authority divert a european plane to arrest an exiled dissident spark global fury', 'the EU ban belarusian plane from the blocs airspace and urge EU airline to avoid fly over the exsoviet country rule by Alexander Lukashenko often dub Europes last dictator', 'french energy giant Total say Wednesday that Myanmars army would no long receive cash payment link to a pipeline it operate through a joint venture with the military follow Februarys military coup', 'total say in a statement the decision be make at a May 12 meeting of shareholder of Moattama Gas Transportation Company Limited MGTC a unit that include the french firm Chevron and a militarycontrolle energy company', 'in light of the unstable context in Myanmar cash distribution to the shareholder of the company have be suspend effective from April 1 the company say', 'it add that it condemn the violence and human right abuse occur in Myanmar and would comply with any potential sanction against the junta from the EU or US', 'Total have come under pressure from prodemocracy activist to stop finance the junta since a military coup in February which have be follow by a brutal crackdown on dissent', 'the MGTC pipeline   15percent own by the militarycontrolle Myanmar Oil and Gas enterprise moge   bring gas from the offshore Yadana field operate by total to Myanmars border with Thailand', 'total say it would continue to produce gas so as not to disrupt electricity supply in either country', 'french newspaper Le Monde reveal Totals involvement in MGTC in early May also report that the company be base in tax haven Bermuda', 'the colossal profit of the gas operation do not pass through the coffer of the Myanmar state but be massively recuperate by a company totally control by the military Le Monde find', 'day after publish the story Le Monde say total pull several advert it have plan to run in its page in the following week', 'Phil Foden already have eight major trophy to his name before his 21st birthday on Friday the following day he may have the perfect present in Manchester Citys first Champions League crown', 'bear and raise in Stockport just six mile 10 kilometre from the club Etihad Stadium Foden be the homegrown hero among a starstudded international squad bankroll by the Abu Dhabi owner', 'the club that he first start train with as a sixyearold be very different City have only recently return to the Premier League after at one stage slip down to english football third tier', 'we have limit money limit resource and we invest in people Citys former academy manager Jim Cassell tell AFP ahead of Saturdays Champions League final against Chelsea in Porto', 'Manchester United be use to have their pick of local talent while City also have to fend off interest from Liverpool and Everton for a precocious talent nickname the Stockport Iniesta for his similarity to the wiry but silky former Barcelona and Spain midfielder Andres Iniesta', 'Philip just look different he look special Cassell continue', 'he always have magnificent agility and balance that s what make he special   he use to manipulate the ball without touch it because of the way his body be', 'the early City could officially register Foden be at undernine level but he continue to play for his local team Reddish Vulcans to foster his competitive spirit', 'we have a very challenging culture Cassell say I ve hear people say let they play do not look at result but when do you turn on the tap to be a winner', 'I do not go along with this do not worry about result be in an elite programme Elite be about be the good its about challenge yourself to be the good', 'Fodens talent stand out even to someone use to see the good young prospect in the world', 'you be the lucky guy who see the first game for the first team for Manchester City of this guy City manager Pep Guardiola tell reporter after Foden make his debut as a 17yearold in a preseason friendly against United in Houston', 'Poland on Wednesday adopt a ban on belarusian flight use its airspace as part of EUwide sanction agree this week after Belarus arrest a dissident journalist on a divert flight', 'the Council of Ministers have adopt a ban on the entry into polish airspace of aircraft use by carrier from Belarus government spokesman Piotr Muller say on Twitter', 'the UN say Wednesday it be deeply alarm by the rounding up by soldier of hundred of displace civilian from camp in Ethiopias warhit Tigray region', 'the mass arrest be carry out in the town of Shire late Monday by soldier from Ethiopia and neighbour Eritrea which be also involve in the sixmonthold conflict against troop loyal to Tigrays oust rule party', 'the soldier detain at least 200 and possibly many more civilian from multiple informal camp in Shire beat they and snatch their phone before force they onto truck accord to account from Amnesty International and witness', 'the UN refugee agency UNHCR be deeply alarm by what happen spokesperson Elisabeth Haslund tell AFP Wednesday', 'we understand how traumatic and distress the situation be not only for the relative of the miss youth but the entire displacement community in Shire she say', 'what we have observe be that thousand of displace have be flee the site because they do not feel safe and they believe that the space be no long safe', 'Tewodros Aregai interim head of Tigrays Northwestern Zone tell AFP Tuesday the arrest be spur by report that antigovernment force have infiltrate the camp', 'he say screen operation be under way and nine civilian have be release as of Tuesday night', 'however he do not respond to request for an update on Wednesday', 'Haslund say UNHCR have receive report that as many as 700 displace Tigrayans have be sweep up in the operation', 'Amnesty researcher Fisseha Tekle say Tuesday the victim be mostly male   some of they teenager and at least one in his 70   and dismiss the notion that they be combatant', 'Shire be home to hundred of thousand of displace people many of whom be force from their home in western Tigray where US Secretary of State Antony Blinken have say ethnic cleansing be unfold', 'ethiopian Prime Minister Abiy Ahmed winner of the 2019 Nobel Peace Prize send troop into Tigray last November to detain and disarm leader of the region rule party the Tigray Peoples Liberation Front TPLF', 'he say the move come in response to attack on federal army camp', 'though he vow the war would be brief more than six month later fighting continue report of atrocity be proliferate and world leader be warn of a potential humanitarian catastrophe', 'thousand of australian Rules football fan be tell to selfisolate and get test for coronavirus Wednesday after an infected spectator attend a match in Melbourne and the city race to avoid another lockdown', 'Australias second big city be scramble to contain a grow covid outbreak with 15 case identify so far include one who attend the clash between Collingwood and Port Adelaide which draw a crowd of more than 23000 to the famed Melbourne Cricket Ground on Sunday', 'the AFL say thousand of fan who sit near the positive case be now require to selfisolate until they receive a negative test while health official be review CCTV to determine if other have also be impact', 'the stadium be one of a grow list of venue across Melbourne visit by positive case leave state health official rush to test and trace across the city of five million which endure a devastating fourmonth lockdown after an outbreak last year', 'AFL game schedule in Melbourne for the come weekend be currently allow to go ahead with fan at up to 85 per cent capacity but government official warn public event could yet face fresh restriction', 'we be concerned about the number and the kind of exposure site and the next 24 hour be go to be critical if we be go to have to make any further change act Victoria state premier James Merlino say', 'limit on gathering be introduce and mask make mandatory indoor Tuesday as the virus cluster grow while New Zealand introduce a temporary pause on its travel bubble with the state', 'Victoria have not record any locally acquire coronavirus case for about three month before the late case which be believe to be link to a traveller who return from overseas and became infect while in hotel quarantine', 'Australia have largely be successful in curb the spread of the virus in part through strict border control that limit flight from overseas and require most traveller to isolate for 14 day on arrival', 'but repeat failure of the quarantine system and a sluggish vaccine rollout have prompt critic to attack the conservative government for an apparent reluctance to address the ongoing concern', 'Australia   which have record about 30000 case and few than 1000 death from Covid19   have so far administer about 37 million vaccination dose in a population of 25 million but hope to finish its vaccine rollout by the end of the year', 'new current affair channel GB News on Wednesday announce it will launch on June 13 promise an alternative take to the BBC and other rival', 'its chair Andrew Neil formerly a BBC journalist and editor of the Sunday Times have say the network be a disrupter aim at people who find exist broadcaster too Londondominated woke and middleclass', 'the 24hour channel logo feature the british national flag and it have recruit wellknown presenter from the BBC and Sky News', 'some include member of Britains main opposition Labour party have compare the new channel to rightwe Fox News in the United States but Neil insist it will comply with the UK broadcast regulator rule on impartiality', 'the launch announcement come as the publicly fund BBC be face call for reform include from Neil after revelation over how it obtain an explosive interview with Princess Diana in 1995', 'an independent inquiry last week find that BBC executive know interviewer Martin Bashir commission fake bank statement that falsely suggest Dianas close aide be be pay by the security service to keep tab on her', 'Wall Street stock be little change early Wednesday as market weigh update on the infrastructure debate and strong earning from some retailer', 'analyst greet report that Senate Republicans plan to lift their infrastructure package to 1 trillion bring they somewhat close to President Joe Bidens late offer cost 17 trillion', 'passage of an infrastructure package would add to momentum behind the reopen US economy on the downside investor be monitor sign of rise inflation amid fear high price could prompt a sudden shift in Federal Reserve policy', 'several retailer surge after report earning result with Urban Outfitters Dicks Sporting Goods and Abercrombie   Fitch all gain more than 10 percent amid hope for a strong industry recovery', 'about 20 minute into trade the Dow Jones Industrial Average be down 01 percent at 3429417', 'the broadbase SP 500 slip less than 01 percent to 418702 while the techrich Nasdaq Composite Index advance 03 percent at 1370142', 'among individual company Amazon edge up 01 percent after announce it would acquire the storied MGM studio for 845 billion give the US tech giant a vast library to further its ambition in streaming', 'Ford jump 36 percent as it say it be ramp up investment in zeroemission car and by 2030 expect 40 percent of its sale volume to be comprise of fully electric vehicle', 'shareholder at ExxonMobil elect Wednesday at least two board member who pledge more aggressive action on climate change while Chevron investor direct the oil giant to deepen emission cut', 'the dual meeting involve the two big US oil giant show clear evidence of how address climate change have move from the environmental world into the investor mainstream', 'at ExxonMobil two board nominee from activist group Engine No 1 win enough vote to secure board seat shareholder also back a proposal require a report on the oil giant lobbying activity on climate change', 'at Chevron a majority of investor back an activist proposal call on the company to reduce scope 3 emission associate with company operation', 'early Wednesday a dutch court order oil giant Shell to slash its greenhouse gas emission by a net of 45 percent by the end of 2030 follow a challenge launch by environmental group Friends of the Earth', 'engine no 1s Gregory Goff and Kaisa Hietala secure enough vote to join ExxonMobils board along with Chief Executive Darren Woods and several other incumbent director who be reelect say ExxonMobil corporate secretary Stephen Littleton', 'Littleton say the vote be too close to call on whether the other two engine no 1 candidate would join the board instead of incumbent director and that a final outcome may not be know for some period of time', 'after the result be announce Woods congratulate the Engine no 1 candidate and pledge to work with they to meet shareholder expectation the company have launch a lobby offensive to reelect its incumbent board argue it be take meaningful action to address climate change', 'we ve hear from shareholder about their desire to catalyze further progress at ExxonMobil and we be well prepared to deliver Woods say after the vote', 'we be offer the follow Editors Choice story which have be select by afp chief editor for republication as some of the good of the week', 'at least two people have be kill and several injure in a series of nearsimultaneous attack in Burundi that target popular venue in the economic capital government source say Wednesday', 'the Ministry of Interior describe the attack in Bujumbura at around 700 pm 1700 GMT Tuesday as terrorism by throw grenade and say an investigation have be launch', 'it confirm on Twitter that two people have die add that one of the attacker be also injure in the blast and have be detain', 'the wound be take to health care facility the ministry say', 'but security source and witness at the scene point to the possibility of a high death toll', 'the attack take place at bus stop downtown security official tell AFP', 'a witness near one of the attack tell AFP that two grenade explode there', 'it be terrify bloody body be lie all around people be scream and run in all direction other be daze the witness say', 'the army and police deploy hundred of heavily armed troop in the street of Bujumbura and arrest dozen of people witness say', 'a senior security official tell afp the attack be link to the 51st meeting of the UN stand advisory committee on security issue in Central Africa which open Tuesday in Bujumbura and be due to end Friday', 'it be clearly an operation by armed group who want to show that peace and security do not prevail on the day the meeting open the official say on condition of anonymity', 'these unclaimed attack come after several ambush attribute to armed bandit in Burundi', 'at least 12 people include a senior army officer be kill in early May in an ambush by an unidentified armed group in Muramvya in central Burundi', 'Qatar announce 500 million for Gaza reconstruction', 'Antonio Contes future with Inter Milan be in doubt despite lead the club to the Serie A title for the first time in over a decade accord to report in Italy on Wednesday', 'InterConte divorce headline the daily Gazzetta Dello Sport report that the final farewell could arrive in the next 48 hour', 'Conte ready to break away headline Corriere Dello Sport', 'the 51yearold Italian still have a year leave in his contract but have be at loggerhead with the cashstrappe club chinese owner sun over plan cost cutting which would prevent he build the team he want to challenge at home and in Europe', 'inter register loss of 100 million euro 122 million last season mainly due to the coronavirus pandemic', 'the Suning Group shut down their chinese club Jiangsu FC in February month after it win the Chinese Super League title', 'five day ago Inter secure a cash injection worth 275 million euro 336 million with US investment firm Oaktree in the form of a loan report to be over three year', 'in this context suning want to save as much as possible both on the purchase of new player and salary and possibly sell those with the high value an approach that Conte believe incompatible with the club desire to play at the high level in Europe', 'the former Chelsea and Juventus boss take over in May 2019 on a threeyear contract worth a report 12 million euro 14 million a season', 'his departure have also be herald last summer after the club Europa League final defeat to sevilla and finishing runnersup in the league to Juventus', 'Conte have blame the club lack of investment on their failure to challenge in the Champions League in which they crash out in the group stage in each of the last three season', 'complete list of south African Premiership title winner after Mamelodi Sundowns be crown champion on Wednesday', 'More than 150 people be miss and fear drown in northwest Nigeria on Wednesday after an overloaded boat ferry passenger to a market sink in the Niger River local official say', 'the boat be travel between central niger state and Wara in northwest Kebbi state when it go down National Inland Waterways Authority local manager Yusuf Birma tell reporter', 'the boat capacity be not up to the 180 passenger it carry Birma say', 'as we speak only 20 people have be rescue alive four dead confirm while the remain 156 people be still miss and they be believe to be underwater', 'another official have early say around 140 people be miss after the Wednesday morning disaster', 'boat tragedy be common on nigerian waterway mostly due to overcrowd bad weather and lack of maintenance but Wednesdays toll would be one of the deadly recent accident', 'the boat involve be a wooden boat which be old and very weak but these people skipper would not listen when we sensitise they to reduce the number of passenger they carry in their boat Birma say', 'he say passenger be head to a market in Malele in Borgu local government area of Niger state when the boat sink an hour into the journey', 'local district administrator Abdullahi Buhari Wara early blame the accident on overload as the boat be mean to ferry no more than 80 passenger', 'the vessel be also load with bag of sand from a gold mine he say', 'early this month 30 people drown when an overloaded boat capsize in Niger state', 'the boat ferry 100 local trader split into two after hit a stump during a storm as they be return from a local market accord to emergency official', 'the Niger be West Africas main river run in a crescent through Guinea to Nigerias Niger Delta and be a key local trade route for some of the country', 'malis interim president and prime minister resign as part of mediation effort Wednesday after be arrest in an apparent second military coup in nine month a top junta aide say', 'President Bah Ndaw and Prime Minister Moctar Ouane task with steer the return to civilian rule after a coup last August have be hold since Monday and resign before the mediator say Baba Cisse special advisor to junta boss Assimi Goita', 'Cisse say negotiation be under way for their release and the formation of a new government in the poor Sahel country', 'a member of the Economic Community of West African States ecowa mediation mission confirm the president resignation to AFP request anonymity', 'the team travel early Wednesday to the Kati military camp around 15 kilometre nine mile from the capital Bamako to visit the two detainee', 'Ndaw and Ouane have be head the interim government with the declare aim of restore full civilian rule within 18 month', 'Goita who hold the rank of vice president in the transitional government accuse Ndaw and Ouane of fail to consult he on a reshuffle', 'the UN Security Council be set to hold an emergency meeting later Wednesday at the request of former colonial power France and other', 'on Monday the United Nations African Union ecowa the EU and the United States issue a rare joint statement attack the detention and demand the release of Ndaw and Ouane', 'young military officer oust president Ibrahim Boubacar Keita last August after week of demonstration over perceive government corruption and his handling of the jihadist insurgency', 'the German Cycling Federation BDR say Wednesday it have pull out of the european track championship schedule for Minsk in June over Belaruss diversion of a passenger plane and arrest of a dissident on board', 'after the event of last weekend we have make contact with the European Cycling Union UEC and make clear that our participation be not possible under these circumstance say the BDR in a statement', 'the German federation add that they have urge the UEC to come up with an alternative solution amid grow call for the tournament to be move', 'the UEC say on Tuesday it be consider move the track championship schedule in the belarusian capital from June 2327', 'international disapproval of Belarus and its president Alexander Lukashenko have increase since the regime divert a Ryanair jet on Sunday to arrest Roman Protasevich an opposition journalist who be on board', 'Lukashenko dismiss the international outcry on Wednesday say that Belarus have act lawfully in ground the plane', 'Belarus whose leader be already under a series of western sanction over a brutal crackdown of protester after last year dispute election have also face grow scrutiny in sport in recent month', 'in January the International Ice Hockey Federation under pressure from its sponsor strip Belarus of its role as cohost of the world championship they begin on May 21 in Latvia where all the game will be play', 'Switzerland announce Wednesday it be end talk with Brussels towards seal a longdelaye cooperation agreement with the surround European Union', 'President Guy Parmelin tell a press conference in the capital Bern that Switzerland be put an end to the negotiation on a framework agreement   in a move which could jeopardise the countrys relationship with its large trading partner', 'malis interim president and prime minister resign on Wednesday a top junta aide say two day after they be detain and strip of their power in what appear to amount to the countrys second coup in nine month', 'President Bah Ndaw and Prime Minister Moctar Ouane task with steer the return to civilian rule after a coup last August resign in the presence of mediator visit the military base where they be be hold say Baba Cisse special advisor to junta boss Assimi Goita', 'however a member of the Economic Community of West African States ecowa African Union and UN mission MINUSMA mediation mission tell reporter that the leader have in fact resign before they arrive', 'the delegation then go to speak to Goita   who hold the rank of vice president in the transitional government   again after see he late Tuesday', 'we see the vice president again to express our dissent the member tell reporter on condition of anonymity', 'Cisse say negotiation be under way for the pair release and the formation of a new government in the poor Sahel country', 'their detention trigger widespread international condemnation and the threat of sanction', 'the UN Security Council be set to hold an emergency meeting later Wednesday at the request of former colonial power France and other', 'the ecowas mediator meet with Ndaw and Ouane at the Kati military camp around 15 kilometre nine mile from the capital Bamako', 'a member of the delegation head by former nigerian president Goodluck Jonathan have warn that ECOWAS could quickly announce sanction if the crisis be not resolve', 'France be also prepared to impose targeted sanction french President Emmanuel Macron say after a European Union summit', 'and Washington say it would consider target measure against political and military leader who impede Malis civilianle transition to democratic governance', 'we stand with the people of Mali in their aspiration to achieve democracy peace development and respect for human right State Department spokesman Ned Price say in a statement', 'the statement also say the United States have suspend assistance for Malis security force', 'multiple fatality in California shooting suspect dead police', 'base on a sample of 5300 large publicly trade global company over 2000 38 have at least one facility associate with habitat loss accord to a report by Moodys ESG Solutions publish today leverage high resolution remote sensing datum and a database of global corporate facility the report identify which facility be associate with observed habitat loss due to land use change which be the main driver of biodiversity loss', 'biodiversity loss have emerge as a concern for responsible investor financial regulator and company whose activity have an impact and depend on natural capital with scientist warn that the world be in the midst of a sixth mass extinction as nature be decline at unprecedented rate the report outline Moodys ESG Solutions framework for assess biodiversity risk which can provide a foundation for understand the biodiversity risk of company in investment and lending portfolio', 'impact dependency and governance be critical element to consider when assess company biodiversityrelate risk say Emilie Mazzacurati Global Head of Moodys Climate Solutions our analytic aim to provide transparency for the market on how business operation may affect biodiversity their dependency on natural system and to what extent company be take step to mitigate these impact across their value chain', 'in its study Moodys find a disconnect between most company commitment and tangible measure to reduce their impact on biodiversity for example 61 of assessed company in the heavy construction sector disclose commitment to address biodiversity yet less than 10 of the sector receive a robust or advanced score for implementation', 'the full report title Integrating biodiversity into a risk assessment framework be available here', 'computex 2021 will be launch from May 31 to June 30 the organizer the Taiwan External Trade Development Council TAITRA will roll out the computexvirtual platform to connect the technology community that break geographic limitation COMPUTEX 2021 will offer an exceptional exhibition experience to attendee with the follow highlight', 'Highlight 1 Top Speakers will address on the Groundbreaking Technologies', 'computex 2021 will kick off with the highly anticipate ceo Keynotes from May 31 to June 2 key industry executive will discuss topic cover AI highperformance compute HPC and other technology trend Simon segar ceo of Arm Dr Lisa Su President and CEO of AMD Sanjay Mehrotra President and CEO of Micron Charles Liang Founder President and CEO of Supermicro and Kurt Sievers President and CEO of NXP Semiconductors be among the speaker lineup', 'the COMPUTEX Forum on June 2 and 3 will revolve around the theme of the New Era of Intelligence focus on key application of AI 5 g iot and electric vehicle the forum will unlock the development of quantum computer and explore the infinite possibility of future technology application the world lead ICT expert will discuss business strategy and pulse industry trend in the postpandemic era', 'Highlight 2 virtual Booths will Showcase the Latest Products', 'COMPUTEXVirtual the allnew smart online platform will use AI and automation technology to create an exceptional digital journey for user by provide a personalized interactive experience visitor will be able to obtain the late product information in realtime', 'acer will showcase its very late product and innovation that will be announce at its nextacer Global Press Conference to be hold on May 27 it will also showcase solution from its subsidiary include product for smart city AI and enterprise use ZOTAC on the other hand will be reveal a brilliant lineup of innovation include the ZOTAC GAMING GeForce 3090 AMP Extreme Holo graphic card and the MAGNUS one ECM53060C mini pc', 'along with the big corporate innovative startup be always the core element to drive COMPUTEX and all the industry move forward the Epoch Foundation commit to build partnership in the global entrepreneurial community have create a pavilion title Garage 46 MustSee Startups on the computexvirtual platform the exhibition be divide into three section AI   Big Data Digital Health   EdTech and IoT   energy', 'moreover computexvirtual build innovexvirtual as a feature exhibit area to help startup connect with the international community in addition to French Pavilion Korean Pavilion and the Dutch Pavilion the European Bank for Reconstruction and Development EBRD be bring 18 startup from 7 country to join InnoVEX for the first time', 'Highlight 3 Effective Online Platform Functions will Synergize Matchmaking Opportunities', 'to maximize the benefit for exhibitor COMPUTEXVirtual will provide multiple effective timely communication channel for exhibitor and visitor such as video conferencing meeting request and instant messaging exhibitor can use AI technology to identify target audience and promote product HyperPersonalized recommendation will also help increase the matchmaking accuracy and enable company to seize business opportunity effectively', 'together with the technology giant and disruptive startup COMPUTEX 2021 be ready to bring the world an allnew digital experience for more exhibition information please visit the following', 'COMPUTEXVirtual Online Exhibition Visitor Registration httpsvirtualcomputextaipeicomtw', 'COMPUTEX CEO Keynote and COMPUTEX Forum Registration httpsvirtualcomputextaipeicomtwevent', 'about COMPUTEX TAIPEI also call COMPUTEX', 'establish in 1981 COMPUTEX be one of the lead global ICT IoT and startup tradeshow with a complete supply chain and iot ecosystem coorganize by the Taiwan External Trade Development Council TAITRA and Taipei Computer Association TCA COMPUTEX base upon Taiwans complete ICT cluster cover the whole spectrum of the ICT industry from establish brand to startup and from ICT supply chain to iot ecosystem with strong RD and manufacturing capability and IPR protection Taiwan be a strategic destination for foreign company and investor look for partner in global technology ecosystem Follow COMPUTEX on its website at wwwcomputextaipeicomtw and Twitter computextaipei use the hashtag COMPUTEX', 'italian mob boss Rocco Morabito who be arrest this week in northeast Brazil will be extradite to Italy say prosecutor Tuesday in Uruguay where the Mafia capo or captain have escape from prison in 2019', 'Rocco Morabito be go to be extradite to Italy Uruguayan prosecutor Jorge Diaz tell a press conference where he set out the legal ground for the decision', 'Diaz say that Uruguays plan have originally be that if arrest in Brazil Morabito would be expel by the brazilian authority to Uruguay from there he would have be extradite from Uruguay to Italy since the extradition process be already before the Supreme Court and be expect to be quick', 'but the minute there s a new international arrest warrant from Italy which be approve by the Supreme Federal Court of Brazil the brazilian federal police can no long order the expulsion and the extradition must be carry out he explain', 'therefore Uruguay be not go to request an extradition in order not to obstruct the extradition process to Italy which be where he have commit the most serious crime he say', 'Morabito 54 consider a capo or captain of the Ndrangheta Mafia group be capture in the city of Joao Pessoa along with another italian outlaw as a result of a joint investigation with Italy Brazils federal police say in a statement', 'Morabito be want in Italy on charge of drug trafficking he have live under a fake identity in Uruguay for 13 year before his arrest in a Montevideo hotel in 2017', 'at UN Europe and US call for urgent Belarus probe by ICAO', 'from Gone with the wind to BenHur to James Bond the iconic MGM movie studio symbolize by its roar lion have a storied history worthy of a Hollywood blockbuster', 'in the late chapter in the upanddown saga of the nearly centuryold company MGM be be buy by online shopping giant Amazon for 845 billion', 'Metro Goldwyn Mayer be create in 1924 with the merger of Metro Pictures Corp Goldwyn Pictures and Louis B Mayer Productions', 'its history span from the early day of blackandwhite silent movie to the first film in Technicolor to the digital era of today', 'mgm heyday be in the 1930 40 and 50 when it dominate the Hollywood scene with a galaxy of star that include Greta Garbo Joan Crawford Clark Gable Katherine Hepburn Mickey Rooney Spencer Tracy and Elizabeth Taylor', 'the company unofficial motto More star than there be in heaven', 'its official motto   in letter above Leo the Lion   Ars Gratia Artis or art for art sake', 'in 1939 MGM movie go with the wind and the Wizard of Oz be both nominate for good Picture at the Academy Awards', 'go with the wind win', 'lavish musical such as Singin in the rain also become a hallmark of the studio feature such star as Judy Garland Fred Astaire and Gene Kelly', 'in 1959 MGM produce one of its big box office hit BenHur star Charlton Heston which go on to win 11 Academy Awards', 'three people be kill when an illegal gold mine collapse in southern Ghana and rescuer be try to reach at least a dozen more trap inside an emergency service official say on Wednesday', 'accident in smallscale goldmine know locally as galamsey be common in the west african nation and President Nana AkufoAddo have vow a crackdown to curb its environmental damage', 'local director for Ghanas National Disaster Management Organisation NADMO Isaac Gyasi say they have recover three body   two woman and a man   from the mine in Upper West Denkyira District in Central Region', 'we be not certain about the number of people trap down there the local keep give we different figure some be say 15 people while other say 40 he say', 'until the excavator come in be unable to tell it will take hour but well get there', 'Ghana be Africas secondlargest gold producer and export of the metal along with other mineral and oil drive the countrys economy', 'a number of major global mining player be involve in its industry but smallscale illegal mining have be a persistent problem', 'Nucleararmed North Korea be advance on the front line of cyberwarfare analyst say steal billion of dollar and present a clear and more present danger than its ban weapon programme', 'Pyongyang be under multiple international sanction over its atomic bomb and ballistic missile programme which have see rapid progress under north korean leader Kim Jong Un', 'but while the world diplomatic focus have be on its nuclear ambition the North have be quietly and steadily build up its cyber capability and analyst say its army of thousand of welltraine hacker be prove to be just as dangerous', 'North Koreas nuclear and military programme be longterm threat but its cyber threat be immediate realistic threat say oh Ilseok a researcher at the Institute for National Security Strategy in Seoul', 'Pyongyangs cyberwarfare ability first come to global prominence in 2014 when it be accuse of hack into Sony Pictures Entertainment as revenge for the Interview a satirical film that mock leader Kim', 'the attack result in the posting of several unreleased movie online as well as a vast trove of confidential document', 'since then the North have be blame for a number of highprofile cyberattack include a 81 million heist from the Bangladesh Central Bank as well as the 2017 WannaCry global ransomware attack which infect some 300000 computer in 150 nation', 'Pyongyang have deny any involvement describe US allegation over WannaCry as absurd and a foreign ministry spokesman declare we have nothing to do with cyberattack', 'but the US Justice Department in February indict three North Koreans on charge of participate in a wideranging criminal conspiracy to conduct a series of destructive cyberattack', 'in its 2021 Annual Threat Assessment Report Washington acknowledge that Pyongyang probably possess the expertise to cause temporary limited disruption of some critical infrastructure network across the United States', 'the Norths cyber programme pose a grow espionage theft and attack threat say the document from the Office of the Director of National Intelligence', 'it accuse Pyongyang of steal hundred of million of dollar from financial institution and cryptocurrency exchange probably to fund government priority such as its nuclear and missile program', 'Sudans transitional government on Wednesday resume talk with a rebel faction that do not sign onto a historic peace deal last year', 'the authority in power since longtime dictator Omar alBashir be oust in a prodemocracy uprising have make end the countrys myriad internal conflict a top priority', 'multiple rebel group sign onto the October peace deal although the SPLMNorth under Abdelaziz alHilu sign a separate ceasefire', 'the group represent the area of South Kordofan and Blue Nile state which have significant christian population who have fight for decade to end the imposition of islamic law by Khartoum', 'it do not join the October accord as it be demand separation of state and religion', 'in March the government and the SPLMNorth sign an agreement lay out their priority', 'this round of negotiation be to focus on political economic humanitarian and security issue', 'the head of Sudans civilianmilitary rule council General Abdel Fattah alBurhan and Prime Minister Abdalla Hamdok both attend the resumption of talk in the capital of South Sudan Juba', 'south Sudans President Salva Kiir   who be mediate the talk   urge both side to embrace the spirit of dialogue and let their attention shift to peace instead of thinking of war', 'I believe that war will never save we you have see we the South Sudanese fight for 21 year up to 2005 with all of that we do not get what we want in full say Kiir', 'hundred of sudanese woman man and youth mostly from the Nuba mountain in South Kordofan   an area which have witness deadly clash in recent year   sing song of freedom as they gather for the start of the talk', 'we affirm our commitment to a peaceful settlement and to the negotiation and mechanism to resolve the root cause of the conflict in Sudan say alhilu', 'meanwhile alBurhan say his team come to the negotiation this time around with an open heart and be determined to achieve peace for Sudan that complement what have start in the previous agreement', 'United States special envoy for Sudan and South Sudan Donald Booth say the two side should demonstrate the political will to build on the momentum on the declaration of principle to reach a peace agreement in a near future', 'base on a sample of 5300 large publicly trade global company over 2000 38 have at least one facility associate with habitat loss accord to a report by Moodys ESG Solutions publish today leverage high resolution remote sensing datum and a database of global corporate facility the report identify which facility be associate with observed habitat loss due to land use change which be the main driver of biodiversity loss', 'biodiversity loss have emerge as a concern for responsible investor financial regulator and company whose activity have an impact and depend on natural capital with scientist warn that the world be in the midst of a sixth mass extinction as nature be decline at unprecedented rate the report outline Moodys ESG Solutions framework for assess biodiversity risk which can provide a foundation for understand the biodiversity risk of company in investment and lending portfolio', 'impact dependency and governance be critical element to consider when assess company biodiversityrelate risk say Emilie Mazzacurati Global Head of Moodys Climate Solutions our analytic aim to provide transparency for the market on how business operation may affect biodiversity their dependency on natural system and to what extent company be take step to mitigate these impact across their value chain', 'in its study Moodys find a disconnect between most company commitment and tangible measure to reduce their impact on biodiversity for example 61 of assessed company in the heavy construction sector disclose commitment to address biodiversity yet less than 10 of the sector receive a robust or advanced score for implementation', 'the full report title Integrating biodiversity into a risk assessment framework be available here', 'italian prosecutor and police on Tuesday cheer the capture in Brazil of a lead mafia boss who have skirt justice in Italy for nearly 30 year', 'Rocco Morabito number two on the italian interior ministry most dangerous fugitive list be arrest Monday in northeast Brazil', 'his capture come almost two year after his audacious escape from a prison in Uruguay where he be await extradition to Italy', 'Morabito   consider a capo or captain of the Ndrangheta organise crime group   be find in the city of Joao Pessoa along with another italian fugitive follow a global operation involve Italy Uruguay and the United States', 'dub the king of cocaine he have be want since 1994 by italian authority who for decade have be try to slowly chip away at the Ndrangheta the country most powerful mob syndicate whose tentacle reach far beyond its historical base of the Calabria region', 'Morabito be one of the most important broker in narcotrafficking say Giovanni Bombardieri chief prosecutor in the southern italian city of Reggio Calabria during an online press conference', 'investigation begin immediately after his prison escape in 2019 indicate that Morabito be in Brazil say Pasquale Angelosanto commander of Italys carabinieri special operation unit which deal with organise crime', 'uruguayan prosecutor say Tuesday that Morabito would be extradite directly from Brazil to Italy where he have commit the most serious crime and could face a 30year prison sentence', 'villarreal defeat Manchester United 1110 on penalty to win their first major trophy after a 11 draw in the Europa League final as goalkeeper David de Gea miss the decisive spotkick in a remarkable shootout', 'Gerard Moreno give Villarreal the lead 29 minute into the spanish club first european final but Edinson Cavani equalise early in the second half before Unai Emerys team prevail on spotkick extend Uniteds fouryear trophy drought', 'Eric Bailly replace the injure Harry Maguire in central defence with the United captain surprisingly name among the substitute despite suffer ankle ligament damage two week ago', 'De Gea start ahead of Dean Henderson in goal while Paul Pogba take up a more orthodox midfield role as Fred be only deem fit enough for a spot on the bench', 'an early collision between Juan Foyth and Pogba leave the former Tottenham defender bloody but both side be slow to click into gear on a damp and chilly night on the baltic coast', 'Carlos Baccas clever rabona cross create an opportunity for Pau torre the centreback link with a summer move to United while Marcus Rashford test Geronimo Rulli with a dipping effort from distance', 'yeremy pino who at 18 year and 218 day break Iker Casillas record as the young spanish player to start a major european final scuff wide on the counter but Villarreal be soon ahead', 'Dani Parejo swing in a freekick from the left and Moreno peel away from Luke Shaw and Victor Lindelof steer beyond De Gea as the swede desperately tug at his shirt', 'moreno 82nd goal for Villarreal equal the club record of former Manchester United forward Giuseppe Rossi', 'but it also spark a reaction from United as a battle Scott McTominay watch his shot deflect over before Mason Greenwood burst into the area and send in a fizzing cross that Raul Albiol nearly divert into his own net', 'another Parejo setpiece cause panic in the United box right after halftime Manu Trigueros cross back towards goal before the ball be scramble clear with Moreno and Carlos Bacca lurk dangerously', 'Alfonso Pedraza be perhaps fortunate no further action be take when he appear to catch Greenwood in the villarreal area although United benefit from a slice of luck to level', 'a headed clearance at a corner drop to Rashford whose drag volley ricochet into the path of Cavani to stab home with Rulli unable to recover after anticipate the initial shot', 'it be the Uruguayans sixth goal of the competition this season all come in his past four match and one that hand United the momentum', 'Bruno Fernandes drill wide as Cavani try in vain to readjust with the ball flash by and the striker then head straight at Torres from Shaws miscue shot', 'United continue to dominate possession as villarreal soak up the pressure but the Spaniards remain a threat as Torres curl over at the end of normal time', 'Alberto Moreno slash wide as United begin to tire prompt Solskjaer to make his first change after 100 minute as Fred replace Greenwood', 'weariness and a raft of substitution slow the tempo in the closing stage as the rain intensify with penalty almost inevitable', 'the first 21 penalty be successfully convert before De Gea have his attempt palm away by Rulli as United lose for the sixth time in seven shootout hand Emery a record fourth Europa League crown', 'the United States and western european member of the UN Security Council call Wednesday for the International Civil Aviation Organization ICAO to investigate Belarus diversion of a european flight and arrest of a dissident on board', 'their call come hour after a defiant President Alexander Lukashenko on Wednesday defend the action lash out at critic at home and abroad', 'the shockwave from the affair multiply Wednesday as a Barcelonabound flight from Minsk have to turn back after be refuse access to french airspace and as Poland close its airspace to belarusian carrier', 'in his first public statement since the Ryanair flight be divert and opposition journalist and activist Roman Protasevich arrest on Sunday Lukashenko dismiss the subsequent international outcry', 'I act lawfully to protect our people Lukashenko say in an address to parliament', 'the criticism be nothing more than another attempt by his opponent to undermine his rule he say accuse they of wage a modern hybrid war against Belarus', 'our illwisher at home and abroad have change their method of attack the state Lukashenko say accuse they of cross red line and boundary of common sense and human morality', 'Lukashenko   often dub Europes last dictator   be face some of the strong international pressure of his nearly 27 year rule exSoviet Belarus', 'but he continue to enjoy solid support from russian President Vladimir Putin who be host the belarusian leader on Friday', 'putin spokesman Dmitry Peskov say Wednesday there be no reason to disbelieve Lukashenkos version of event', 'the Belarus strongman and his ally be under a series of western sanction over a brutal crackdown on mass protest that follow his dispute reelection to a sixth term last August', 'european leader who accuse the authority in Minsk of effectively hijack the passenger flight this week agree to cut air link with Belarus and tell airliner to avoid the countrys airspace', 'Tiger Woods pop up on Instagram on Monday as a Florida girl who be fight cancer post a photo of herself with the golf superstar after meet he at a soccer park', 'wood who suffer severe leg injury in a onecar crash in California in February be on crutch with a compression stocking but no walking boot on his right leg', 'the photo be post by 10yearold Luna Perrone who call herself in her Instagram profile one tough girl battle Ewings Sarcoma rare bone cancer and a soccer legend', 'I get to have a quick chat with tigerwood this weekend when I bump into he at the soccer field Perrone write he tell I to stay strong which have always be my goal stay strong physically and mentally and inspire other to do the same no matter what you be go through you get this', 'the 15time major champion have indicate in an Instagram post in April that his recovery be come along but slowly', 'he d offer no further information since then   although he do tweet congratulation to old rival Phil Mickelson on his PGA Championship victory on Sunday', 'wood who police say be drive nearly twice the legal speed limit when his SUV go out of control and roll several time underwent hour of surgery to repair a shatter low right leg and ankle and be hospitalize for week before return home to Florida in March', 'US Ryder Cup captain Steve Stricker say last week that he hope Woods would well enough to serve as an assistant captain at the US v Europe showdown at Whistling Straits in Wisconsin in September', 'malis interim president and prime minister resign on Wednesday a top junta aide say two day after they be detain and strip of their power in what appear to amount to the countrys second coup in nine month', 'in New York the UN Security Council strongly condemn the ouster and arrest of President Bah Ndaw and Prime Minister Moctar Ouane and call for a return to civilian government   but do not discuss punitive measure', 'the interim leader who have be task with steer the return to civilian rule after a coup last August resign in the presence of mediator visit the military base where they be be hold say Baba Cisse special advisor to junta boss Assimi Goita', 'however a member of the Economic Community of West African States ecowa African Union and UN mission MINUSMA mediation mission tell reporter that the leader have in fact resign before they arrive', 'the delegation then go to speak to Goita   who hold the rank of vice president in the transitional government   again after see he late Tuesday', 'Cisse say the president prime minister and other transition leader arrest on Monday would be release but this would happen gradually for obvious security reason he give no timeline', 'he say early that there be move toward form a new government in the poor Sahel state', 'their detention trigger widespread international condemnation and the threat of sanction', 'the Security Council which hold an emergency meeting at the request of former colonial power France and other call for the safe immediate and unconditional release of all the official detain and urge the defense and security force element to return to their barrack without delay', 'the council urge a restoration of the civilianled transition which envisage a return to election and constitutional order on an 18month timeline', 'but it do not discuss impose sanction and refrain from call the detention a coup', 'the ecowas mediator meet with Ndaw and Ouane at the Kati military camp around 15 kilometre nine mile from the capital Bamako', 'a member of the delegation head by former nigerian president Goodluck Jonathan have warn that ECOWAS could quickly announce sanction if the crisis be not resolve', 'France be also prepared to impose targeted sanction french President Emmanuel Macron say after a European Union summit', 'and Washington say it would consider target measure against political and military leader who impede Malis civilianle transition to democratic governance', 'it say the United States have suspend assistance for Malis security force', 'Temenos SIX TEMN the banking software company be accelerate its leadership in the cloud by introduce the nextgeneration in SaaS the Temenos Banking Cloud this combine the industry most complete banking service cover all segment and all geography with a Sandbox for fast innovation and the Temenos MarketPlace for fintech collaboration all power by a new AIenabled engine to drive bank business growth and accelerate time to market with Temenos Banking Cloud bank now have the power to selfprovision alwayson banking service and scale instantly and securely while dramatically reduce the cost of operation to 10 of legacy system Join TCF Online with over 10000 attendee to find out more', 'Max Chuard Chief Executive Officer Temenos saidbank face huge challenge   fierce competition rise customer expectation cost pressure research show that for quite some time 70 of bank can not cover their estimate cost of capital bank can no long wait they need a new approach to run their business and develop banking product', 'build on over 10 year of cloud leadership 1 billion in RD investment and the experience of over 700 saas customer range from global bank to over 70 challenger we be deliver the nextgeneration in SaaS the Temenos Banking Cloud', 'the Temenos Banking Cloud be for both digitalfirst bank that want to launch in week as well as large or complex bank that want to acquire distinct capability launch product fast and progressively migrate customer basis that be service by legacy system', 'we be put bank in control of their business model and innovation cycle give they the agility and speed to build great customer product and profitable business with the Temenos Banking Cloud we empower bank to digitally transform and massively scale fast than ever', 'Chris Sozou General Manager Platforms partnership   Analytics Virgin Money Australia saidOur digital bank have be design with a clear ambition to simplify banking and help customer achieve their financial goal with Temenos saas we can deliver a frictionless digital experience bring together credit card transaction and saving account plus a loyalty program in a single native mobile app with the Temenos Banking Cloud it be easy to integrate with third party and we have an agile platform that easily scale up or down depend on business demand', 'the Temenos Banking Cloud give bank the freedom to innovate fast move from a CapEx to an OpEx model and benefit from a low total cost of ownership Varo Bank use Temenos SaaS estimate that it service customer at 25 of the total cost incur by a traditional bank bank use the Temenos Banking Cloud have benefit from instant and massive scalability a european challenger bank open over 600 k account in 3 month while a global digital disruptor see a staggering number of over 20 M loan application process within 9 month they be already add over 100 k new loan per day which be expect to reach 200 k loan per day over 700 financial institution use Temenos SaaS such as Al Ain Finance Alpian Flowbank Flowe Itau Orange Bank and they will now benefit from all the new rich feature of the Temenos Banking Cloud', 'Dan Dickinson Chief Information Officer EQ Bank say as Canadas first digitalonly challenger we turn to Temenos saas to easily scale to meet customer demand grow deposit much more quickly at a low cost and pass on the benefit to our customer with the Temenos Banking Cloud we can accelerate our business growth and benefit from unlimited innovation through the Sandbox and Temenos MarketPlace capability', 'the Temenos Banking Cloud remove the complexity enable bank to concentrate on their customer rather than their technology with the touch of a button bank can turn on new banking service scale instantly build new application plug into the rich fintech marketplace and proactively manage usage and service health with the Temenos Banking Cloud bank gain', 'fast to time market with Banking Services the industry lead fronttoback Banking Services with localize functionality from over 150 country cover all banking segment the Banking Services be create use Packaged Business Capabilities1 which be align to the BIAN standard they be extensible flexible and open and can be easily configure and integrate with external application the Banking Services can be consume instantly be payasyou go and continuously update safely without the need for big upgrade these Banking Services be build for banking they offer enterprisegrade control to manage missioncritical system', 'unlimited innovation in the Sandbox Temenos Sandbox enable bank to innovate fast by explore new Temenos functionality train their developer and create new application the Sandbox include access to Temenos Banking Services Temenos MarketPlace example datum and integration tool to enable bank to configure new product the Sandbox also offer highquality welldocumente api which be essential connector of open architecture bank can choose to move to production environment in the cloud or onpremise', 'collaborate with the most complete fintech marketplace instant access to Temenos MarketPlace with the most innovative fintech such as Plaid Taurus Tink and Wise the fintech solution be preintegrated so they can be rapidly consume for a quick timetovalue developer can work with open api to extend their banking service by invite fintech and developer to the Sandbox environment and collaborate', 'the Temenos Banking Cloud be power by an explainable AI engine with advanced datum analytic so bank can test report and measure product performance and gain insight to support business decision and product design through the selfservice portal it user and developer can spin up fully provision environment benefit from realtime dashboard on usage and billing configure permission and manage security credential Temenos AI advisor offer recommendation to bank to proactively manage usage and service health', 'the Temenos Banking Cloud offer multilayere security comprehensive compliance coverage and the high availability across the globe Temenos cloudnative cloudagnostic technology architecture be microservicesbase and apidriven to optimize the use of the underlie cloud platform service', 'a senior UN official have warn the Security Council that urgent measure be need to avoid famine in the wartorn region of Tigray in Ethiopia in a briefing see by AFP', 'there be a serious risk of famine if assistance be not scale up in the next two month write Mark Lowcock the UN UnderSecretaryGeneral for Humanitarian Affairs and Emergency Relief Coordinator', 'Prime Minister Abiy Ahmed send troop into Tigray in early November to disarm and detain leader of the regional rule party the Tigray Peoples Liberation Front TPLF', 'he say the move come in response to tplf attack on federal army camp', 'More than six month later Lowcock say the fighting and abuse continue in Tigray where the spectre of a famine have be hover for several month', 'concrete measure be urgently need to break the vicious cycle between armed conflict violence and food insecurity Lowcock say in his twoandahalf page note Tuesday', 'I urge member of the Security Council and other Member States to take any step possible to prevent a famine from occur he say', 'today at least 20 percent of the population in that area face emergency food insecurity he say add that destruction and violence against civilian continue even now across Tigray', 'in the six and a half month since the start of the conflict in Tigray in early November 2020 an estimate two million people have be displace Civilians be be kill and injure he add', 'rape and other form of abhorrent sexual violence be widespread and systematic public and private infrastructure and object indispensable to the survival of civilian have be destroy include hospital and agricultural land he warn', 'the UN official estimate that over 90 per cent of the harvest be lose due to loot burning or other destruction and that 80 per cent of the livestock in the region be loot or slaughter', 'o9 Solutions the premier AIpowered platform for nextgeneration integrate business planning and decisionmake for the enterprise be continue to experience rapid worldwide expansion the Dallasbased software company which have its sight set on be the digital brain of every enterprise have reach 1000 employee worldwide and expect to grow up to 1500 employee in 2021 o9 Solutions fast growth come as it grow its customer engagement with new client such as Estee Lauder Avon Pirelli Kraft Heinz and many other', 'in September 2018 o9 open its first office in the Netherlands to start its european expansion currently o9 have 150 employee across ten country in Europe with office in the Netherlands Spain Poland Italy France Germany Sweden and the United Kingdom that be an increase of 161 compare to Q1 2020 in the Asia Pacific region o9 currently employ 45 people an 164 increase compare to Q1 2020 and be due to open its first Singapore office soon', 'o9s fast growth be also recognize by the Financial Times which list the company as one of the Americas Fastest grow company 2021 as well as by Inc magazine which recently rank o9 as one of the fast grow private company in Texas', 'Cofounder and CEO Chakri Gottemukkala say despite the current business uncertainty customer have continue to engage with we helping drive our rapid international growth we be very pleased to have be able to hire and develop such a great pool of talent   all commit to achieve success for our customer and who take pride in spur the narrative around o9s Digital Brain forward our AIdriven integrate cloudnative platform that s help Fortune 500 business make well decision plan more effectively and make well use of the earth resource', 'we be focus on create a large sustainable ecosystem where our o9 global organization will serve as an enabler of a much large pool of skill and capability across partner both consulting and technology we continue to rapidly grow our partner network and since 2020 have certify more than a thousand consultant as o9 implementer we expect to double that in 2021 with a high quality program focus on deliver certification in technical skill of architecte and configure the o9 platform as well as advanced analytic skill in ML and big data analytic that be integral part of o9 solution that we deliver to our client say Igor Rikalo President and COO of o9', 'Monde Nissin Corporation Monde Nissin or the Company today announce that it complete the offering period for its propose initial public offer ipo of 3600000000 Common Shares the offering at a price of Php1350 per share with an overallotment option of a further 540000000 Common Shares grant by the Selling Shareholder', 'the Offering receive overwhelming interest from global institutional investor and longonly fund as well as strong demand from philippinesbased investor result in an international and domestic book building process that be multiple time oversubscribe', 'the IPO be the large ever on the Philippines Stock Exchange PSE and the large food and beverage ipo in Southeast Asia it raise Php486 billion for Monde Nissin exclude underwriting commission and other offering expense payable by the Company the new international and domestic investor join the previously announce 11 renowned global longterm cornerstone investor in make up Monde Nissins initial shareholder base', 'the extraordinary level of interest that we receive from a broad range of international and domestic investor be a testament to the worldclass company that we have build and the significant growth opportunity that lie ahead say Henry Soesanto Chief Executive Officer of Monde Nissin Corporation', 'Mr Soesanto add our Quorn and AsiaPacific Branded Food and Beverage business be a powerful combination to advance our mission of food safety and food security Quorn be a lead player in the fastgrowe global meat alternative segment with a loyal customer follow and a defining set of healthy sustainable product our AsiaPacific Branded Food and Beverage business be widely recognize for its leadership position across each of its core segment we intend to stay ahead of consumer demand through innovation and investment in technology to provide healthy and more delicious food', 'Mr Soesanto conclude by say the scale and timing of our ipo have only be make possible through the hard work and guidance of the dedicated team at the Philippine Securities and Exchange Commission and the PSE to whom I extend my sincere gratitude and thank', 'Monde Nissin expect to commence trading on the PSE under the ticker symbol MONDE on June 1 2021 Mr Soesanto and guest plan to ring the opening bell', 'as previously announce the Company intend to use the net proceed from the primary offer to fund capital expenditure redeem the Arran Convertible Note and repay loan to commercial bank a copy of Monde Nissins final prospectus be available on the Companys website at httpsmondenissincomcompanyprospectus', 'UBS AG Singapore Branch Citigroup Global Markets Limited and JP Morgan Securities plc serve as Joint Global Coordinators and Joint Bookrunners for the offer BDO Capital   Investment Corporation BPI Capital Corporation and First Metro Investment Corporation be the Local Lead Underwriters and Joint Bookrunners Credit Suisse Singapore Limited serve as the Joint International Bookrunner Macquarie Capital Securities Singapore Pte Limited and Jefferies Singapore Limited serve as the International CoBookrunners China Bank Capital Corporation PNB Capital and Investment Corporation and SB Capital Investment Corp be the Domestic CoLead Underwriters', 'this communication be not for distribution directly or indirectly in or into the United States include be territory and possession any State of the United States and the District of Columbia this communication be not an offer and do not form a part of any offer of security for sale in the United States or elsewhere the security reference herein have not be and will not be register under the United States Securities Act of 1933 the Securities Act or with any security regulatory authority of any state or other jurisdiction of the United States and may not be offer or sell within the United States except pursuant to an exemption from or in a transaction not subject to the registration requirement of the Securities Act no money security or other consideration be be solicit by this communication or the information contain herein and if send in response to this communication or the information contain herein will not be accept', 'after Lisbon last year now it be the turn of Porto once again Portugal have step in to save UEFA by offer to host the final of the Champions League which for the second year running be force to move away from Istanbul due to the ongoing pandemic', 'with its Covid19 crisis recede a prove ability to organise the big match in european club football and a good relationship between its national federation the FPF and the european game govern body Portugal turn out to be the only real option to stage Saturdays clash between Manchester City and Chelsea', 'once again we have turn to our friend in Portugal to help both UEFA and the Champions League and I be as always very grateful to the fpf and the portuguese government for agree to stage the match at such short notice say UEFA president Aleksander Ceferin', 'it be unfortunate for Istanbul which be initially suppose to stage the 2020 final only for UEFA to rearrange the latter stage of last season Champions League in Lisbon in August three month behind schedule', 'the turkish metropolis be tell it would host this season final instead but that become impossible when the UK government put Turkey on its red list just after City and Chelsea ensure it would be an allenglish affair', 'a defiant President Alexander Lukashenko on Wednesday defend Belaruss diversion of a european flight and arrest of a dissident on board lash out at critic at home and abroad', 'in his first public statement since the Ryanair flight be divert and opposition journalist Roman Protasevich arrest on Sunday Lukashenko dismiss the international outcry the incident provoke', 'I act lawfully to protect our people Lukashenko say in an address to parliament the Belta staterun news agency report', 'the criticism be nothing more than another attempt by his opponent to undermine his rule he say accuse they of wage a modern hybridwar against Belarus', 'our illwisher at home and abroad have change their method of attack the state Lukashenko say accuse they of cross red line and boundary of common sense and human morality', 'they have move from organise riot to strangulation', 'Lukashenko   often dub Europes last dictator   be face some of the strong international pressure of his nearly 27year rule of exSoviet Belarus', 'the strongman and his ally be already under a series of western sanction over a brutal crackdown on mass protest that follow his dispute reelection to a sixth term last August', 'european leader be now accuse authority in Minsk of essentially hijack the passenger flight and they agree this week to cut air link with Belarus and tell airliner to avoid the countrys airspace', 'Lausannes Diamond League athletic meeting on August 26 can be hold in front of a capacity crowd organiser announce on Wednesday', 'the event fall after the schedule lifting of coronavirus restriction on crowd number attend outdoor sporting event in Switzerland on August 20', 'Organisers Athletissima welcome the swiss government easing of Covid19 measure announce Wednesday say that in consequence the Lausanne meet can be hold at a full stadium', 'Lausanne take place a couple of week after the Tokyo Olympics where overseas fan be already bar with organiser set to decide in June how many domestic spectator can attend if any at all', 'in Switzerland which have a population 86 million more than 688000 people have test positive for Covid19 while nearly 10200 have lose their life', 'villarreal defeat Manchester United 1110 on penalty to win their first major trophy after a 11 draw in the Europa League final as goalkeeper David de Gea miss the decisive spotkick in a remarkable shootout', 'Gerard Moreno give Villarreal the lead 29 minute into the spanish club first european final but Edinson Cavani equalise early in the second half before Unai Emerys team prevail on spotkick extend Uniteds fouryear trophy drought', 'it feel really good its be a tough competition to play against a very good side like Manchester United we know it would be tough villarreal midfielder Francis Coquelin tell BT Sport', 'we do not manage to get to the Champions League through the league so to get it through the Europa League be something special   and a first title for the club as well   something amazing', 'Eric Bailly replace the injure Harry Maguire in central defence with the United captain surprisingly name among the substitute despite suffer ankle ligament damage two week ago', 'De Gea start ahead of Dean Henderson in goal while Paul Pogba take up a more orthodox midfield role as Fred be only deem fit enough for a spot on the bench', 'an early collision between Juan Foyth and Pogba leave the former Tottenham defender bloody but both side be slow to click into gear on a damp and chilly night on the baltic coast', 'Carlos Baccas clever rabona cross create an opportunity for Pau torre the centreback link with a summer move to United while Marcus Rashford test Geronimo Rulli with a dipping effort from distance', 'yeremy pino who at 18 year and 218 day break Iker Casillas record as the young spanish player to start a major european final scuff wide on the counter but Villarreal be soon ahead', 'Dani Parejo swing in a freekick from the left and Moreno peel away from Luke Shaw and Victor Lindelof steer beyond De Gea as the swede desperately tug at his shirt', 'moreno 82nd goal for Villarreal equal the club record of former Manchester United forward Giuseppe Rossi', 'but it also spark a reaction from United as a battle Scott McTominay watch his shot deflect over before Mason Greenwood burst into the area and send in a fizzing cross that Raul Albiol nearly divert into his own net', 'another Parejo setpiece cause panic in the United box right after halftime Manu Trigueros cross back towards goal before the ball be scramble clear with Moreno and Carlos Bacca lurk dangerously', 'Alfonso Pedraza be perhaps fortunate no further action be take when he appear to catch Greenwood in the villarreal area although United benefit from a slice of luck to level', 'a headed clearance at a corner drop to Rashford whose drag volley ricochet into the path of Cavani to stab home with Rulli unable to recover after anticipate the initial shot', 'it be the Uruguayans sixth goal of the competition this season all come in his past four match and one that hand United the momentum', 'Bruno Fernandes drill wide as Cavani try in vain to readjust with the ball flash by and the striker then head straight at Torres from Shaws miscue shot', 'United continue to dominate possession as villarreal soak up the pressure but the Spaniards remain a threat as Torres curl over at the end of normal time', 'Alberto Moreno slash wide as United begin to tire prompt Solskjaer to make his first change after 100 minute as Fred replace Greenwood', 'weariness and a raft of substitution slow the tempo in the closing stage as the rain intensify with penalty almost inevitable', 'the first 21 penalty be successfully convert before De Gea have his attempt palm away by Rulli as United lose for the sixth time in seven shootout hand Emery a record fourth Europa League crown', 'Amazon have agree to buy the storied MGM studio for 845 billion the company say Wednesday give the US tech giant a vast library to further its ambition in streaming', 'the deal bolster Amazon Prime Video which compete with Netflix and other in the fastevolve market with some 4000 film   include the James Bond franchise   and 17000 television show', 'the real financial value behind this deal be the treasure trove of IP in the deep catalog that we plan to reimagine and develop together with mgm talented team say Mike Hopkins senior vice president of Prime Video and Amazon Studios', 'the deal come with Amazon experience surge growth in online retail and cloud computing make a push into entertainment as consumer turn to streaming medium', 'it give Amazon the fabled Metro Goldwyn Mayer studio an iconic name in Hollywood which have be through a series of ownership change and bankruptcy in recent year', 'in addition to the James Bond franchise MGM own the right to film production include Rocky legally Blonde and Tomb Raider and television show such as the Handmaids Tale and real housewife of Beverly Hills', 'MGM have nearly a century of filmmake history and complement the work of Amazon Studios which have primarily focus on produce tv show program a statement from the company say', 'Amazon will help preserve MGMs heritage and catalog of film and provide customer with great access to these exist work through this acquisition Amazon would empower MGM to continue to do what they do well great storytelling', 'OralB have team up with scientific American and its Custom Media Division SACM to explore the late research connect oral health and overall health as many be unaware of the impact chronic periodontal disease have on wide systemic disease', 'the brand be lead the way in innovation technology and research to help protect oral health and educate about the important connection between oral and overall body health as part of the yearlong partnership OralB and scientific american Custom medium be release a series of content include educational resource from lead medical and dental researcher that will help reader well understand the connection between oral health and whole body health', 'oral disease be at crisis level as it be estimate that they affect nearly 35 billion people worldwidei and in the midst of a global health pandemic it be more crucial than ever to safeguard not only your oral health but your wholebody health too', 'Jeremy A abbate VP   Publisher at scientific American explain over 700 study substantiate the notion that great oral health habit can be a simple step in improve one overall health its prove that periodontitis increasingly pose a significant risk to the development and progression of multiple systemic condition andgum disease be the mouth way of warn we of potentially more serious issue to come so its important to heed those early warning', 'while warn sign can be as small as bleed gum or even tooth loss they can lead to more severe condition such as heighten pregnancy complication cognitive loss poor diabetes control and increase the risk of cardiovascular disease', 'SYSTEMIC SPREAD of plaque BACTERIA throughout the body', 'a healthy mouth have minimal plaque buildup ensure oral bacteria can not multiply cause cavity gum deterioration or spread beyond the mouth however when plaque buildup be present around the gum line and between tooth it shelter oral bacteria include Pgingivalis from your toothbrush and natural defence this provide the perfect condition for the bacteria to thrive and cause inflammationcause toxin that be know to spread throughout the rest of the body', 'the formation of gum disease begin when plaque contain million of bacteria coat the tooth accumulate undisturbed Acid produce by the bacteria can erode tooth enamel cause cavity and irritate the gum and cause gingivitis which can progress into periodontitis   a more serious infection that can lead to tooth loss', 'when oral condition worsen the hidden plaque bacteria can cause an inflammatory response in the periodontal tissue that set off a chain reaction spread systemically through the body via the circulatory system to other part of the body these oral bacteria be also find to be transmit via the lung and gastrointestinal tract', 'disease impact by GUM DISEASE', 'stroke   Periodontitis may increase the risk for stroke a continuous flow of bacteria into the bloodstream from exacerbate gum site can trigger inflammation prompt plaque growth and lead to blood clotsii', 'diabete   there be a twoway relationship between diabetes and periodontitis with more severe periodontal tissue destruction observe in diabetic population due to poorly control glucose levelsiiiiv', 'heart disease   patient with periodontal disease be at increase risk for cardiovascular disease chronic gum inflammation may cause bad bacteria and toxin to enter the bloodstream and circulate to plaque site in arterial wallsv', 'pregnancy gingivitis   pregnant woman be at increase risk of gingivitis and pregnant woman with periodontitis be at increase risk for adverse pregnancy outcome include preterm birth low birth weight baby and pregnancy hypertension preeclampsiavi', 'Dementia   patient with Alzheimers Disease and cognitive function loss have a high risk for develop poor oral hygiene and periodontal disease the relationship be bidirectional as periodontal bacteria can also infect the brain and play a direct role in the buildup of amyloid brain lesion lead to Alzheimers diseasevii', 'maintain a HEALTHY mouth and body', 'OralB the No1 Dentist recommend Toothbrush Brand Worldwide be on a mission to make the invisible connection between oral health and wholebody wellness visibleand to empower people to take their health into their own hand', 'follow a daily holistic OralB regiman can help with maintain a happy healthy mouth', 'Electric Toothbrush with a RoundHead OralB brush be round for a reason to adapt to each individual tooth and reach between the tooth the OralB iOs revolutionary technology remove 100 more plaque than a manual brush to give you that professional clean feeling every single day', 'stannous Fluoride Toothpaste Stannous Fluoride snf2 help to protect your gum against bacterial plaque', 'Mouth Rinse Mouth rinse contain bioavailable Cetylpyridinium Chloride CPC formulate at 007 help to reduce plaque', 'Interdental Cleaning Plaque easily accumulate and hide between tooth where toothbrushing can not reach regular cleaning between tooth help to remove plaque and help protect gum', 'Regular OralHealth CheckUps Partner with your dental professional regularly to prevent and detect sign of gum infection at its early stage', 'scientific american educational resource develop in partnership with Oral B can be find here', 'Antonio Conte leave Inter Milan by mutual agreement', 'Chelsea be give a Champions League final fitness boost on Wednesday as France midfielder NGolo Kante and Senegal goalkeeper Edouard Mendy return to training', 'the Blues post photograph of Kante and Mendy work with their teammate at their Cobham headquarters ahead of Saturdays final against Manchester City in Porto', 'Mendy be replace by Kepa Arrizabalaga at halftime in Sundays 21 Premier League defeat at Aston Villa after suffer a rib injury when he collide with a post', 'Kante miss the Villa game as a precaution after limp out of the 21 win against Leicester five day early with a hamstring problem', 'Chelsea will be contest their first Champions League final since 2012 when they face Premier League champion City', 'the west London club be aim to win the competition for the second time while City be appear in the final for the first time', 'Chelsea have win two of the team three meeting so far this season in the FA Cup semifinal at Wembley and the Premier League at the Etihad Stadium', 'belgian rider Remco Evenepoel make his comeback nine month after a serious crash fall again in Wednesdays 17th stage of the Giro dItalia', 'the deceuninckquickstep rider go over the security barrier in a mass fall on the descent down the San Valentino Pass involve six other rider include italian Giulio Ciccone', 'after several minute the 21yearold manage to get back in his bike and head towards the finish line 28 km away at Sega di Ala', 'Evenepoel fracture his pelvis after hit a bridge wall and plunge into a ravine during the Tour of Lombardy in Italy last August', 'that horror crash end a run of success in all four stage race he have take part in last season include the Tour of Poland', 'US Secretary of State Antony Blinken head to Cairo Wednesday as he press effort to shore up an egyptianbrokered ceasefire between Israel and palestinian militant in Gaza', 'the US top diplomat already meet with israeli and palestinian leader to throw Washingtons support behind the Friday truce that end 11 day of heavy israeli bombing of Gaza and rocket fire from the enclave into Israel', 'after talk with palestinian president Mahmud Abbas at his headquarters in the occupied West Bank Blinken vow to rebuild US relation with the Palestinians by reopen a consulate in Jerusalem as well as give million in aid for the warbattere Gaza Strip', 'the announcement signal a break with US policy under former president Donald Trump who have shutter the diplomatic mission for Palestinians in 2019 and slash aid to the Palestinian Authority', 'in the long term Blinken evoke the possibility of resume the effort to achieve a twostate solution which we continue to believe be the only way to truly assure Israels future as a jewish and democratic state and of course to give the Palestinians the state they re entitle to', 'after meet early Tuesday with israeli Prime Minister Benjamin Netanyahu he reiterate support for Israels right to defend itself against rocket attack by Gazas Hamas ruler add that they must not benefit from the international reconstruction aid', 'in Cairo Blinken be to meet with egyptian President Abdel Fattah alSisi before fly on to Jordan for talk with King Abdullah II', 'unlike the United States and many european government which boycott Gazas rule Hamas movement as a terror group Egypt maintain regular contact', 'Egypt be also the first arab country to sign a peace treaty with Israel in 1979', 'Switzerland will reopen indoor restaurant and people will no long be require to work from home the government announce Wednesday say it be lift Covid restriction fast than previously plan', 'Switzerland say its fourth wave of ease coronavirus measure would take place on Monday with the wealthy Alpine nation move to a stabilisation phase in manage the pandemic as it eye complete the vaccination of highrisk group by the end of May', 'the Federal Council be go far than propose the government say in a statement', 'in so do it be respond to the improve epidemiological situation', 'the government say the requirement to work from home be now be downgrade to a recommendation while public and private gathering limit be be raise', 'as of Monday restaurant will once again be able to serve guest indoor the statement announce', 'up to four people will be allow at a table though contact detail will have to be record Masks will have to be wear when move around inside and the 1100 pm curfew be be lift', 'Outdoor dining reopen in April', 'work from home will be a recommendation rather than a requirement for business that carry out weekly testing a return to the office should be gradual the government say', 'Mali interim president PM resign military diplomatic source', 'britain government disastrously fail the public by mishandle its coronavirus pandemic response former top adviser Dominic Cummings tell lawmaker on Wednesday call Prime Minister Boris Johnson unfit for the job', 'ten of thousand of people die who do not need to die cumming an abrasive political strategist who mastermind Brexit say in an excoriating account that blame senior minister and official include himself for get it wrong at the outset', 'cumming say Johnson be recklessly insouciant in the early day of the crisis in February 2020 even volunteer to get infect with Covid19 live on television to show there be nothing to fear', 'but he say that even after nearly die himself from the virus week later the prime minister decline to learn from mistake and ignore scientist advice in September to introduce a second lockdown lead to many more death over winter', 'Covid19 have claim nearly 128000 life in Britain   the fifthhigh official death toll in the world and the high in Europe', 'the truth be that senior minister senior official senior adviser like I fall disastrously short of the standard that the public have a right to expect of its government in a crisis Cummings tell a parliamentary committee', 'he describe political leadership during the crisis as lion lead by donkey over and over again', 'when the public need we most the government fail he say apologise to all the family of those who die unnecessarily', 'Qatar announce Wednesday it would provide 500 million for Gazas reconstruction after the palestinian enclave be batter by israeli air strike in 11 day of hostility between the jewish state and armed palestinian group', 'the state of Qatar announce 500 million in support for the reconstruction of Gaza Qatari Foreign Minister Sheikh Mohammed bin Abdulrahman Al Thani tweet', 'we will continue to support our brother in Palestine to reach a just and lasting solution by establish their independent state', 'after a female stork be electrocute on a power line the inhabitant of a village in the Czech Republic decide to rally to help her partner and their four hatchling', 'we bring they a bit of everything some fish earthworm and even mouse say Jiri Zeman a local engineer in the village of Mlade Buky some 150 kilometre 93 mile northeast of Prague', 'Zeman and a gardener friend climb a ladder three time a day to bring the food up to the nest   on top of a chimney', 'they have nickname the father Bukacek   a reference to the name of their village', 'Zeman have also instal a camera over the nest and live stream the stork family life on YouTube httpswwwyoutubecomwatchv3udosbsyxq', 'at the beginning only about 50 people be connect but since the mother die we have have more than 2000 viewer include many from abroad say Zeman', 'the engineer be also ask for donation and have so far collect more than 300000 Czech koruna 11800 euro', 'its far too much money for five bird but we be donate a large part to bird keeper in a centre near here who help animal in difficulty they be follow the video online and be give we precious advice Zeman say', 'the European Union on Wednesday ask a belgian court to impose penalty run to million of euro per day on AstraZeneca for Covid19 vaccine dose it have fail to deliver to the bloc', 'the request come as EU country and their executive the European Commission begin legal action against the AngloSwedish pharmaceutical company for flagrant violation of its contract with Brussels', 'the EU be sue AstraZeneca to force it to deliver 90 million more dose of its coronavirus vaccine before July argue that it fail in its contractual duty by hand over only a quarter of the shot it promise for the first three month of 2021', 'the deadline for the contract be set for midJune accord to the Commission and the EU say the company should face financial penalty if it do not meet this deadline', 'its legal team demand an upfront fine of 10 million euro 12 million plus 10 euro per dose and per day of delay in that event', 'AstraZeneca deliver only 30 million dose in the first quarter out of the 120 million it be contract to supply for the current quarter which run until June 30 it plan to deliver only 70 million of the 180 million dose initially promise', 'a Commission official close to the case tell AFP this month that AstraZeneca be currently deliver dose at a rate of only 10 million per month well below the plan pace', 'the companys defence   articulate ahead of the court case in a series of medium interview by AstraZenecas FrenchAustralian boss Pascal Soriot   rely on a part of the contract that speak of good reasonable effort by AstraZeneca and declaration that production be hit by unavoidable delay', 'but the lawyer for the EU Rafael Jeffareli argue in court that the firm have prioritise supply to Britain and beyond while fail to make the good effort to step up production at its EU site in the Netherlands operate by subcontractor Halix', 'Jeffareli allege that for several week after the EU sign its contract with the firm in September last year the dutch plant have continue to supply market other than the EU', 'good effort mean flexibility why do the switchover of the Halix site to EU supply only start on October 13 he demand', 'the Halix plant in Leiden the Netherlands have send supply to Japan at the end of last year he say in total 50 million dose be divert to third country in flagrant violation of the contract', 'french judicial investigator hear fugitive exauto tycoon Carlos Ghosn as a witness Wednesday in Beirut ahead of far question next week two source say', 'the hearing come before french magistrate officially question Ghosn who hold lebanese french and brazilian citizenship on Monday over other judicial inquiry lodge against he in France', 'six french judge include public prosecutor and investigative judge start listen to Ghosns witness testimony at 1100 be 0800 GMT on Wednesday a lebanese judicial source tell AFP', 'a french source close to the case say the exrenault chief be be question as a simple witness over accusation that Renault cheat on pollution test for diesel and petrol engine with the knowledge of top management', 'in 2017 a report by french fraud investigator conclude that the entire chain of management of Renault up to its chief executive Ghosn be implicate in the suspect fraud', 'french prosecutor be look into whether he wrongly obtain use of the Palace of Versailles for his lavish 2016 wedding', 'Ghosn be also be investigate by Frances tax fraud office over suspicious financial transaction between Renault and its distributor in the Gulf state of Oman as well as over contract sign by RenaultNissans Dutch subsidiary RNBV', 'one Renault shareholder file a lawsuit against Ghosn in Paris suburb Nanterre last week over significant sum transfer to RNBV without investor knowledge the investor lawyer JeanPaul Baduel tell AFP Wednesday', 'claim ten of million of euro be send to the dutch subsidiary the suit argue that particular care be take to cover up the payment and the fact they be order by Carlos Ghosn', 'Baduel claim the cash transfer amount to a slush fund at RNBV', 'Spokespeople for Ghosn do not comment on the lawsuit when contact by AFP', 'the former executive be suppose to meet french judicial investigator in Beirut in January but the meeting be postpone because of travel restriction link to the Covid19 pandemic', 'he be arrest in Japan in November 2018 on financial misconduct allegation and spend 130 day in detention before jump bail and smuggle himself out of the country in late 2019', 'want by Interpol Ghosn be effectively trap in Lebanon even as other face court over their link to his case', 'Japan have urge he to return and face trial while Lebanon have ask Japan to hand over his file on financial misconduct charge', 'Ghosn be currently beyond the reach of the japanese court and lead a comparatively quiet life mostly in his Beirut home', 'he recently release a book set out his side of his case', 'People arrive in France from Britain will have to selfisolate to prevent the spread of Covid19 notably its indian variant government spokesman Gabriel Attal say on Wednesday', 'attal tell reporter after a weekly cabinet meeting that detail of the measure would be give in the come hour', 'Germany have already impose additional measure for people arrive from Britain he say and France will take similar measure', 'a french quarantine order be already in place for arrival from Brazil India Argentina Chile South Africa Colombia Uruguay Costa Rica Bahrain Turkey Bangladesh Sri Lanka Pakistan Nepal the United Arab Emirates and Qatar', 'the coronavirus variant first detect in India have now be officially record in 53 territory a World Health Organization report show early Wednesday', 'Johnson   Johnsons singlejab vaccine against Covid19 will be limit in Belgium to people age 41 and over authority say on Wednesday follow the death of a woman who receive the jab', 'the countrys interministerial health body focus on the pandemic say that restriction will be provisionally apply pende further guidance from the European Medicines Agency EMA on Johnson   Johnsons Janssen vaccine', 'the move underline the level of caution EU country be show to Covid vaccine particularly the two adenovirus one make by Johnson   Johnson and by AstraZeneca', 'those two have suspect link to very rare but very serious instance of blood clot couple with low platelet level which be see in several death', 'the EMA be continue to evaluate the safety of all four vaccine it have approve for use in the EU which also include the one from biontechpfizer and Moderna', 'last month it draw a link between rare blood clot and AstraZeneca and Johnson   Johnson jab but stress that the benefit of the vaccine outweigh the risk', 'it maintain a recommendation they be use for all adult age', 'several EU country have restrict the use of AstraZenecas vaccine to old people typically over 55 or 60 Austria be phase it out and plan to stop use it in June', 'Denmark have drop the Johnson   Johnson vaccine from its national vaccination programme altogether', 'noneu member Norway which have drop AstraZeneca be offer Johnson   Johnson only to volunteer', 'Johnson   Johnson only start deliver its vaccine to Europe in the second quarter and it account for just over 10 percent of dose from all four vaccine in use accord to a European Commission graph present to EU leader at a summit this week', 'in Belgium the death of the woman   say to be age under 40 and vaccinate through her employer outside of the country   be the only case identify the interministerial body say in a statement', 'the woman die on Friday after be admit to hospital with severe thrombosis and a deficit of blood platelet it say', 'it add that Belgium would keep use the Johnson   Johnson jab to vaccinate elderly people at home and vulnerable group such as the homeless', 'but for the general population the restriction mean the jab now will be provisionally use for the vaccination of people age 41 and over', 'the body say that so far Belgium have receive around 40000 dose of the Johnson   Johnson vaccine of which 80 percent have be administer to people age 45 and over', 'government be quick to denounce the diversion of a Ryanair plane by Belarus as an act of terrorism and statesponsore piracy   but will the country face legal consequence', 'its not a simple question', 'civil aviation rule be not write with the expectation that a state would behave like a terrorist say Nathalie Younan an aviation law specialist at the FTPA Avocats law firm in Paris', 'the European Union react furiously after the Ryanair flight be intercept by a fighter jet and force to land in Minsk on Sunday so that authority could arrest opposition journalist Roman Protasevich', 'the EU ban belarusian plane from the blocs airspace and urge EU airline to avoid fly over the exsoviet country rule by Alexander Lukashenko often dub Europes last dictator', 'a commercial airline pilot tell AFP on condition of anonymity that there be detailed procedure to follow when a plane face bomb warning or be be intercept by fighter', 'but the pilot say the scenario in which a state carry out an act of piracy be not among the scenario', 'for the Ryanair pilot he say there be no doubt   you do not take the responsibility of be shoot down', 'but could Belarus face legal consequence', 'former US lawmaker John Warner who oppose George W Bushs Iraq troop surge and be once married to Hollywood star Elizabeth Taylor have die at the age of 94 report say Wednesday', 'the longtime senator and former Navy secretary die Tuesday at home in Virgina US medium report cite his former chief of staff Susan Magill', 'bear in 1927 he enlist in the military at 17 several month before the end of World War II and five year later find himself serve in the Marines in the Korean War', 'he then go to law school and become a US attorney and subsequently move to private practice in 1972 at the end of the Vietnam War he be name Navy secretary in President Richard Nixons administration', 'Warner marry Taylor in 1976 the sixth of her seven husband they divorce in 1982', 'in 1978 he win election to the Senate from Virginia and play important role in the key intelligence and armed service committee', 'he back President George W Bushs declaration of war in Iraq but head a breakaway group of Republicans support a Senate resolution condemn Bushs strategy to increase US troop in Iraq', 'it call for the president to consider other option and alternative for achieve US strategic goal', 'in less than a decade Sweden have overtake Italy and eastern european country to have the high number of fatal shooting in Europe primarily due to criminal gang a report publish Wednesday say', 'while gun homicide have decline in most european country since the early 2000 Sweden have experience the opposite trend and now top the european standing in a report compile by the Swedish National Council for Crime Prevention', 'the rate in Sweden rank very high in relation to other european country at approximately four death per million inhabitant per year the average for Europe be approximately 16 death per million inhabitant the report say', 'none of the other country include in the study have experience increase comparable to that note in Sweden', 'the datum for the period 20142017 put Sweden in second place in the European Union behind Croatia and ahead of Latvia', 'in 2018 the scandinavian country top the ranking though the data be incomplete that year as some country be miss', 'the increase in gun homicide in Sweden be closely link to criminal milieux in socially disadvantaged area the report say note the big increase have occur since 2013', 'the swedish government and police have in recent year sound the alarm over the rise in shooting and other violent settling of score blame on underworld criminal and gang', 'in 2020 Sweden a country of 103 million record more than 360 incident involve gun include 47 death and 117 injure which police say be a record in the otherwise tranquil nation', 'accord to the report the number of shoot victim have more than double from 20112019 and now account for more than 40 percent of violent death', 'the country also stand out with an overrepresentation of 2029 yearold among shoot victim', 'the report say there be no easy explanation for the swedish trend but note that it may be the result of the emergence of a new group dynamic within the criminal milieu whereby shooting have come to precipitate one another', 'why this dynamic should have emerge just in Sweden remain unclear however', 'the sharp rise in gun violence have be the subject of fiery debate in Sweden and the Social democratic government have crack down on gang in recent year', 'Sweden must not get accustomed to this its possible to reverse the trend Interior Minister Mikael Damberg say', 'the opposition Moderate Party meanwhile call the ranking shameful for Sweden while the head of the populist Sweden Democrats accuse the government of capitulate', 'Amazon have agree to buy the storied MGM studio for 845 billion the company say Wednesday give the US tech giant a vast content library to further its ambition in streaming', 'the deal bolster Amazon Prime Video which compete with Netflix and other in the fastevolve market with some 4000 film   include the James Bond franchise   and 17000 television show', 'the move come with Amazon experience surge growth in online retail and cloud computing while make a push into entertainment as more consumer turn to streaming medium', 'it give Amazon the fabled Metro Goldwyn Mayer studio an iconic name in Hollywood which have be through a series of ownership change and bankruptcy in recent year', 'be really excited about MGM Amazon founder Jeff Bezos tell shareholder at an annual meeting where he announce he would hand over the chief executive job July 5 to Andy Jassy while he take the title of executive chairman', 'MGM have a vast deep catalog of much beloved intellectual property its go to be a lot of fun work and people who love story be go to be the big beneficiary', 'in addition to the James Bond franchise MGM own the right to film production include Rocky legally Blonde and Tomb Raider and television show such as the Handmaids Tale and the real Housewives of Beverly Hills', 'MGM have nearly a century of filmmake history and complement the work of Amazon Studios which have primarily focus on produce tv show program a statement from the company say', 'Insert after second paragraph third sentence of release in addition there be also keynote deliver from Intel Innovation Unleashed and NVIDIA the Transformational Power of Accelerated Computing from gaming to the Enterprise Data Center', 'the suspect in a mass shooting that kill eight people at a California rail yard Wednesday take his own life as law enforcement arrive at the scene the local sheriff say', 'several other victim suffer injury in the attack at a train maintenance compound in San Jose just south of San Francisco', 'I know for sure that when the suspect know that law enforcement be there he take his own life our deputy be right there at that time Santa Clara County Sheriff Laurie Smith tell a press conference', 'multiple people be kill in a shooting Wednesday in San Jose in Californias Bay Area police say the late instance of deadly gun violence in the United States', 'I can not confirm the exact number of injury and fatality but I will tell you that there be multiple injury and multiple fatality in this case Russell Davis a Santa Clara County Sheriffs deputy tell journalist add that the shooter be dead', 'malis interim president and prime minister resign on Wednesday a top junta aide say two day after they be detain and strip of their power in what appear to amount to the countrys second coup in nine month', 'President Bah Ndaw and Prime Minister Moctar Ouane task with steer the return to civilian rule after a coup last August resign in the presence of mediator visit the military base where they be be hold say Baba Cisse special advisor to junta boss Assimi Goita', 'however a member of the Economic Community of West African States ecowa African Union and UN mission MINUSMA mediation mission tell reporter that the leader have in fact resign before they arrive', 'the delegation then go to speak to Goita   who hold the rank of vice president in the transitional government   again after see he late Tuesday', 'we see the vice president again to express our dissent the member tell reporter on condition of anonymity', 'Cisse say negotiation be under way for the pair release and the formation of a new government in the poor Sahel country', 'their detention trigger widespread international condemnation and the threat of sanction', 'the UN Security Council be set to hold an emergency meeting later Wednesday at the request of former colonial power France and other with french President Emmanuel Macron liken the recent event to a second coup', 'the ecowas mediator meet with Ndaw and Ouane at the Kati military camp around 15 kilometre nine mile from the capital Bamako', 'a member of the delegation head by former nigerian president Goodluck Jonathan have warn that ECOWAS could quickly announce sanction if the crisis be not resolve', 'France be also prepared to impose target sanction Macron say after a European Union summit', 'Kymeta Corporation wwwkymetacorpcomthe communication company make mobile globalannounce today that the Committee on Foreign Investment in the United States CFIUS have approve a 30 million investment by Hanwha Systems Co Ltd HSC wwwhanwhacom a lead global solution company that provide differentiated smart technology in defense electronic and information infrastructure in Kymeta', 'the approval provide by CFIUS clear the way for HSC and Kymeta to close on the transaction that be jointly announce last December the investment move Kymeta one step close toward develop solution that be future proof and interoperable with both LEO and GEO mega constellation today the Kymeta u8 be the only commercially available flat panel antenna that be compatible with LEO and GEO satellite constellation and enable to take advantage of the grow capacity within space', 'we be thrill that the investment be approve and eager to leverage Kymetas expertise in hybrid satellite and cellular connectivity solution say Youn Chul Kim CEO of HSC Kymetas solution will further our aerospace capability and deliver reliable communication for our defense customer', 'we look forward to move ahead and work with HSC say Doug Hutcheson Executive Chairman Kymeta we believe this investment will be instrumental in enable the continue innovation advancement and commercialization of Kymetas connectivity solution be excited about the future of Kymeta and the LEO satellite market', 'the investment from HSC will far Kymetas global market reach accelerate production and improve the overall growth trajectory of the company the funding will support increase unit production enhance customer experience and the ongoing development of Kymetas next generation capability with the capital investment HSC will also receive a seat on the Kymeta Board of Directors', 'HSC plan to support Kymetas metamaterialbase antenna technology and gain a foothold in the rapidly grow Low Earth Orbit LEO antenna market', 'dozen of people be miss in northwest Nigeria on Wednesday after an overloaded boat ferry around 160 passenger sink in the Niger River a local official say', 'the boat leave central niger state and be head to Wara in northwest Kebbi state when it break apart and sink Abdullahi Buhari Wara administrative head of Ngaski district say', 'a rescue operation be underway but only 22 survivor and one dead body have be recover Wara say we be talk of around 140 passenger still miss', 'river boat accident be common on nigerian waterway mostly due to overcrowd bad weather and lack of maintenance particularly in the annual rainy season', 'Wara blame the Kebbi accident on   overloading as the boat be mean to ferry not more than 80 passenger', 'the vessel be also load with bag of sand from a gold mine the official say', 'early this month 30 people drown when an overloaded boat capsize in central Niger state', 'the boat ferry 100 local trader split into two after hit a stump during a storm as they be return from a local market accord to emergency official', 'the Niger be West Africas main river run in a crescent through Guinea to Nigerias Niger Delta and be a key local trade route for some of the country', 'Suspect in California rail yard shooting take his own life sheriff', 'ukrainian authority on Wednesday condemn NATO reluctance to speed up Kievs membership in the alliance follow tension with Moscow over a buildup of russian troop along the exSoviet countrys border', 'in April ukrainian President Volodymyr Zelensky ask the military bloc to accelerate the exSoviet countrys membership in the alliance say it be the only way to end fighting with prorussia separatist', 'zelenskys plea come after Russia amass around 100000 troop on Ukraines border raise fear of a serious escalation in a yearslong conflict with moscowbacke separatist', 'speak at a joint news conference with visit OSCE Secretary General Helga Schmid Foreign Minister Dmytro Kuleba say Kiev be grateful to NATO for its open door policy on Ukraine', 'but not a single step have be take to implement this decision Kuleba say', 'Ukraine which apply to join the USled alliance in 2008 be press western power for more support as it seek to deter any new aggression from Moscow', 'but NATO member remain reluctant to embrace Ukraine as they want to avoid ratchet up tension with Russia', 'Kuleba criticise the blocs decision not to invite Ukraine to a June 14 summit in Brussels that US President Joe Biden be set to attend', 'we can not understand how it be possible not to invite Ukraine how it be possible not to find a format for Ukraines participation in the summit this year he say', 'Kiev have repeatedly say it expect a NATO invitation to join a Membership Action Plan MAP the first formal step towards become a member', 'Kuleba say that Ukraine and fellow exsoviet nation Georgia should receive such an invitation this year', 'it be difficult to imagine a well and more important moment he say', 'ukraine prowestern leadership closely cooperate with NATO and in 2019 parliament adopt constitutional change formally spell out the countrys aspiration to join the alliance and the European Union', 'a defiant President Alexander Lukashenko on Wednesday defend Belaruss diversion of a european flight and arrest of a dissident on board lash out at critic at home and abroad', 'in his first public statement since the Ryanair flight be divert and opposition journalist Roman Protasevich arrest on Sunday Lukashenko dismiss the international outcry the incident provoke', 'I act lawfully to protect our people Lukashenko say in an address to parliament the Belta staterun news agency report', 'the criticism be nothing more than another attempt by his opponent to undermine his rule he say', 'our illwisher at home and abroad have change their method of attack the state Lukashenko say', 'they have cross many red line and cross boundary of common sense and human morality', 'Lukashenko   often dub Europes last dictator   be face some of the strong international pressure of his 26year rule of exSoviet Belarus', 'the strongman and his ally be already under a series of western sanction over a brutal crackdown on mass protest that follow his dispute reelection to a sixth term last August', 'european leader be now accuse authority in Minsk of essentially hijack the passenger flight and they agree this week to cut air link with Belarus and tell airliner to avoid the countrys airspace', 'People in Chile who have be vaccinate and be fully immunize against the coronavirus could from Wednesday obtain a pass to move about more freely a move criticize by health professional', 'the pass which can be download on a person mobile phone two week after receive their second shot give the bearer permission to move about freely in city under lockdown to go to the supermarket pharmacy or for open air exercise', 'those without permit by comparison have to print out a permission form every time they want to leave the house which be allow for essential reason only', 'pass holder can also travel between city and town not under lockdown', 'face mask remain compulsory for everyone indoor and out and the pass will not be valid during the daily 1000 pmto500 be curfew it also do not replace the permission people need to go back to work the government have say', 'the measure come into force as Chile pass the 50percent mark of fully vaccinate adult   over 77 million to date out a 152 million target population', 'the country have three vaccine in its arsenal with over 17 million dose of CoronaVac administer to date 336 million of pfizerbiontech and nearly 500000 of oxfordastrazeneca', 'Chinas CoronaVac have the low prove efficacy of the three with a Chile study show in April it be 67 percent effective at prevent symptomatic Covid19 and 80 percent effective at prevent death', 'the country Medical College and nine medical association be not in favor of the vaccine pass give the persistently high infection rate', 'any increase in mobility will augment infection this new permit can lead to confusion and a false sense of security they say in a joint statement', 'Health Minister Enrique Paris defend the measure as a reward for those who got vaccinate', 'some 13 million people in Chile have be infect with the coronavirus and over 28600 have die the country have one of the high vaccine rate in the region and the world', 'Neighbor Argentina meanwhile receive over a million dose of AstraZeneca and Sputnik v vaccine Wednesday as it battle its bad phase of the pandemic to date', 'the country of 45 million due to host the Copa America in three week time have so far give one vaccine dose to 89 million people and two dose to 25 million', 'it have one of the high infection rate in the region and on Wednesday register more than 35300 case and 532 death in 24 hour bring the toll to over 75500', 'Irans Rouhani say ask supreme leader for great competition in June poll', 'New York prosecutor have convene a grand jury that be expect to decide whether to indict former president Donald Trump suggesting they may have find evidence of a crime US medium report Tuesday', 'the development be the late step towards the 74yearold trump who leave the White House in January possibly become the first ever exu leader to face criminal charge', 'trump fire off a statement in response to the report reject the investigation as purely political and a continuation of the great Witch Hunt in american history', 'its never stop no other President in history have have to put up with what I have have to he write', 'the grand jury be set up recently and will sit three day a week for six month report the Washington Post cite two unnamed people familiar with the case', 'the panel be also hear several matter unrelated to Trumps case the paper add', 'the Washington Post say the move also report by ABC suggest that Manhattan District Attorney Cyrus Vance may have find evidence of a crime if not by Trump then somebody close to he', 'a spokesman for Vance refuse to comment when contact by AFP', 'in the United States prosecutor typically refer important case to grand jury make up of citizen who examine the prosecution case in secret they hear evidence and can request additional document before decide whether criminal charge should be bring', 'Vance and New York state Attorney General Letitia James both Democrats be investigate Trumps business dealing   prompt the Republican to claim he be be persecute', 'this be purely political and an affront to the almost 75 million voter who support I in the Presidential Election and its be drive by highly partisan Democrat prosecutor Trump charge in his statement', 'Japans Asahi Shimbun newspaper an official Tokyo Olympics sponsor call for the Games to be cancel on Wednesday describe the event as a threat to health', 'in an editorial the daily urge Prime Minister Yoshihide Suga to make a calm objective assessment of the situation and make the decision to cancel this summer Olympics', 'the call come with public opposition grow in Japan where poll show a majority be against the Games go ahead in July and August', 'the editorial say it can not accept the gamble of hold the event despite organiser insist it can go ahead safely', 'it also accuse International Olympic Committee leader include vicepresident John Coates of be selfrighteous and clearly out of step with the japanese public', 'when ask last week if the Games could be hold even during a virus state of emergency Coates say the answer be absolutely yes', 'Tokyo and other part of Japan be currently under a state of emergency which be expect to be extend this week until June 20', 'say yes without demonstrate any clear ground for it once again drive home the selfrighteous image of the IOC the Asahi editorial say', 'it come less than two month until the Games be set to begin and day after the US State Department issue a travel warning for Japan over virus risk', 'the White House say Tuesday that it support plan to hold the Games with press secretary Jen Psaki say our position have not change on the Olympics', 'there be very specific entry and movement rule and procedure which the organiser have lay out in order to ensure the protection of everyone involve she add', 'cancel the Games would cost Japan around 18 trillion yen 166 billion a research institute say Tuesday', 'but the Nomura Research Institute warn that the country could suffer even great economic damage as a result of hold the Games if a spike in infection lead to a new state of emergency', 'US Senate Majority Leader Chuck Schumer on Wednesday say he would push for rapid passage of a bill that would allocate ten of billion of dollar towards boost american industrial and technological competitiveness particularly against China', 'a key provision of the proposal aim to address a shortage of semiconductor that have put the brake on auto production this year', 'with both american political party increasingly worried about competition from Beijing Schumer hope he can win bipartisan passage of the US Innovation and Competition Act', 'the democratic leader say he aim to get a vote on the bill by the end of the week', 'the legislation will supercharge american innovation and preserve our competitive edge not just for the next few year but for generation to come Schumer say in the Senate', 'the proposal aim to address a number of technological area in which the United States have fall behind its chinese competitor include in the production of semiconductor', 'an ongoing shortage of the crucial chip have force US automaker to cut production and the bill allocate 52 billion in funding for a previously approve plan to increase domestic manufacturing of the component', 'also include be 15 billion to pay for a fund to boost american competitiveness in 5 g wireless technology', 'another 15 billion would go towards a program to counter the malign influence of the Chinese Communist Party globally and require the State Department to appoint a top official dedicate to that goal accord to a summary of the legislation', 'billion of dollar would go towards scholarship and other program to advance scientific research', 'President Joe Biden have pledge to work with opposition Republicans on key issue and as Democrats control the Senate by a single vote Schumer would need backing from several Republicans to forestall a potential filibuster that could block passage of the legislation', 'the democratic leader have collaborate with at least one republican senator on the bill and say the bipartisan support reveal that Democrats and Republicans be united in our effort to preserve and maintain american leadership on the world stage', 'the british government fail the public by not have adequate planning in place for the coronavirus pandemic Prime Minister Boris Johnsons former top adviser and Brexit architect Dominic Cummings tell lawmaker on Wednesday', 'cumming who step down in December apologise for the inadequate response to the crisis when it emerge early last year Covid19 have claim nearly 128000 life in Britain the fifthhigh official death toll in the world', 'the truth be that senior minister senior official senior adviser like I fall disastrously short of the standard that the public have a right to expect of its government in a crisis like this Cummings tell a parliamentary committee', 'when the public need we most the government fail he add I would like to say to all the family of those who die unnecessarily how sorry I be for the mistake that be make and for my own mistake at that', 'cumming however say the british government be not alone in fail to recognise the seriousness of the health crisis and many many institution fail around the world', 'the government itself and Number 10 Downing Street be not operate on a war footing in February in any way shape or form he add', 'lot of people be literally ski in the middle of February it be not until the last week of February that there be any sense of urgency', 'cumming appearance be be closely watch after he launch a series of explosive attack in recent week against Johnsons coronavirus policy and financial dealing', 'a divisive figure who carve out a uniquely powerful role during the first 18 month of Johnsons government Cummings have accuse the UK leader of lack competence and integrity and his government of appalling ethic', 'he preview his testimony in dozen of social medium post claim Johnson have adopt a haphazard approach initially favour a socalled herd immunity strategy before belatedly abandon it when the likely death toll become clear', 'if Britain have have the right preparation   competent people in charge it could probably have avoid its first lockdown in March 2020 and definitely escape later one Cummings write as part of a 59message Twitter thread', 'give the plan be AWOLdisaster   awful decision delay everything lockdown1 become necessary', 'Downing Street have deny ever pursue a herd immunity strategy', 'the current spike in inflation be unlikely to pose a persistent threat to the US economy and prematurely heed call to act could derail the recovery from the Covid19 downturn a top Federal Reserve official say Wednesday', 'Fed Vice Chair Randal Quarles also say he be optimistic about the country growth prospect and economic outlook thank to a stockpile of consumer saving that will boost spend', 'but policymaker will remain patient before tap the break on stimulative policy to ensure job recover and return to what the central bank consider full employment Quarles say in a speech to the Brookings Institution', 'the Fed have pledge to keep the benchmark lending rate at zero and continue its massive bond buying program until unemployment come down from the current 61 percent and inflation be on track to stay above 20 percent', 'but some economist be wary the US central bank be get behind the curve as a key inflation index hit 23 percent in March', 'quarle underline the Feds view that most of factor cause price to rise be temporary', 'I expect inflation to begin subside at some point over the next several month and to be run close to two percent again at some point during 2022 he say', 'therefore we need to remain patient in the face of what seem to be transitory shock to price and wage', 'he acknowledge that there be some factor drive up price that can not be attribute to temporary factor but say the central bank have the ability to address a more worrying inflation increase', 'Fed official be not prophet but if be wrong we know how to bring inflation down Quarles say', 'it would be unwise for we to take action that might slow the recovery prematurely by try to stay ahead of inflation when our good estimate be that we be not far behind', 'quarle say he be not worried about a return to the 1970   an era when US inflation spike above 10 percent and aggressive Fed interest rate hike lead to a damaging recession', 'the uneven recovery in US trading partner and supply bottleneck pose headwind to the american economy but generous government stimulus program mean consumer have an accumulate stock of saving that will support spending for many month to come quarle say', 'if growth continue as expect it will soon be time for official to begin discuss our plan to adjust the pace of asset purchase', 'but even when the central bank begin to raise its policy interest rate I expect that monetary policy will remain highly accommodative for some time quarle say', 'Antonio Conte have part company with newlycrowne Serie A champion Inter Milan after lead they to a first title in 11 year the italian club confirm on Wednesday', 'Inter Milan announce that it have reach an agreement for the consensual termination of the contract with coach Antonio Conte the Chineseowned club say in a statement', 'Conte 51 have a year leave on his threeyear contract after join the club in 2019', 'world stock market be trade in a narrow band Wednesday track inflation fallout as trader weigh economic growth and price growth prospect as country come out of lockdown', 'Wall Street open cautiously with the Dow Jones index add just 02 percent shortly after the opening bell', 'meanwhile the techheavy Nasdaq rise 03 percent after Asias main stock market have close with gain and main european market be barely in the red', 'Amazon be up 04 percent after extend its push into entertainment by agree to buy the storied MGM studio for 845 billion', 'the deal give the US tech giant a vast library to further its ambition in streaming bolster Amazon Prime Video which compete with Netflix and other in a fastevolve market', 'after rally for more than a year equity have recently be jolt by fear that a forecast surge in economic activity   fuel by reopening stimulus and vaccination   will send price soar and force central bank to wind back their ultraloose monetary policy soon than flag', 'a succession of US Federal Reserve official have continue to repeat the mantra that while the rebound will likely fan inflation it will not last long and the central bank will not step back from its supportive measure   include record low interest rate   for the foreseeable future', 'those pledge be for a time brush aside by trader who fear the Fed be in danger of move too late with explosive inflation datum last month add to their unease', 'however analyst say the concern may be subside as the late drive to soothe concern by highranke Fed member appear to be bear fruit', 'the yield of longterm US Treasuries a key gauge of future interest rate have stabilise after their recent sharp increase set off alarm bell', 'inflationista look like they might be ready to throw in the towel say Edward Moya analyst at Oanda trading group', 'we be suppose to be see accelerate growth and mount price pressure but right now the surge across commodity price have ease', 'he add that while the inflation debate have not end the majority of Wall Street believe price pressure be transitory', 'still investor optimism continue to be keep in check by worry about a spike in infection around Asias top economy include among other India Japan Taiwan Singapore and Thailand with vaccination rate also worryingly low', 'elsewhere Wednesday bitcoin briefly bounce back above then fall below the 40000 barrier after a bout of recent volatility fuel by Chinas warning of a crackdown on cryptocurrency use and mining and various tweet by tycoon Elon Musk', 'the digital unit at one point last week almost fall below 30000 for the first time since January before rebound in recent day', 'but it remain well below its record high of close to 65000 touch just over a month ago', 'by contrast gold be trade at fourmonth high above 1900 an ounce as precious metal enjoy a strong session', 'Los Angeles Angels pitching coach Mickey Callaway be fire by the team and suspend for the next two season on Wednesday after a Major League Baseball investigation into allegation of sexual harassment', 'Callaway who have be suspend by the Angels since the allegation first emerge in February have be place on the MLBs ineligible list until the end of the 2022 season', 'having review all of the available evidence I have conclude that Mr Callaway violate MLBs policy and that placement on the ineligible list be warrant MLB commissioner Rob Manfred say in a statement', 'Harassment have no place within Major League Baseball and we be committed to provide an appropriate work environment for all those involve in our game', 'the Angels swiftly announce Callaways dismissal follow the MLB announcement', 'effective immediately we be end Mickey Callaways employment with the Angels the team say', 'we appreciate Major League Baseballs diligent investigation and support their decision', 'the athletic website have first report allegation against Callaway in February with the coach accuse of sexually harass multiple female journalist over a period span several year', 'Callaway 46 be accuse of subject five woman to inappropriate behaviour include send they lewd text message and request nude photograph', 'Callaway who work as a pitching coach for the Cleveland Indians between 2013 and 2017 before join the New York Mets as manager from 20182019 apologize for his behaviour in a statement on Wednesday', 'my family and I fully support MLBs strong stance against harassment and discrimination and be grateful to the commissioner and his office for their thorough investigation Callaway say', 'I apologize to the woman who share with investigator any interaction that make they feel uncomfortable', 'to be clear I never intend to make anyone feel this way and do not understand that these interaction might do that or violate MLB policy', 'however those be my own blind spot and I take responsibility for the consequence', 'Anthony Davis and LeBron James deliver down the stretch on Tuesday as the NBA champion Los Angeles Lakers bounce back to beat the Phoenix Suns 109102 and knot their playoff series at one game apiece', 'Davis have say he blame himself after score just 13 point in the Lakers 9990 defeat in game one of the bestofseven Western Conference firstround series', 'he be not about to let it happen again', 'Davis score 34 point with 10 rebound seven assist and three block shot I want to make sure I make a statement in this game come out with more energy more effort on both end of the floor he say', 'LeBron James add 23 point pull down four rebound and hand out nine assist as the Lakers gain the split of two game in Phoenix', 'the star duo score 16 of the Lakers final 18 point and Los Angeles turn back a late charge from a Suns team again largely deprive of veteran point guard Chris Paul   who be still clearly feel the effect of a right shoulder injury suffer in game one and exit early', 'jamess basket with 255 to play put the Lakers up 9592 and Davis follow with a threepointer and a pair of free throw to stretch the lead to 10092 as the Suns challenge dim', 'the Lakers get off to a determined start and lead 3024 after the first quarter and 5347 at halftime', 'with a 101 run to open the third period   launch by Jamess threepointer   the Lakers threaten to run away with it', 'but Phoenix fight back Deandre Aytons dunk put the Suns up 8886 though James and Davis make sure the Suns could not hang on to their first lead since the first quarter', 'Devin Booker lead Phoenix with 31 point and make all 17 of his free throw Ayton connect on 11 of 13 shot from the field to score 22 point with 10 rebound', 'that s playoff basketball Lakers coach Frank Vogel say of the Suns late push that s the team with the secondb record in the NBA so its not go to be a situation where its easy to knock they out in any game', 'but our guy come out strong and be able to hold on', 'Sam Billings be call into the England squad for the two Test series with New Zealand on Wednesday after Ben Foakes be rule out with a torn hamstring due to a freak accident', 'foake be due to play his first home test   all eight previous test appearance have be abroad   but he tear his left hamstring when he slip on what be believe to be a sock in the Surrey dressing room on Sunday', 'the 28yearold join talismanic allrounder Ben Stokes and paceman Jofra Archer in be sideline for the Kiwi series which get underway at Lords next Wednesday', 'Archer out with an elbow problem   suffer a similar freak accident early this year when his fish tank break while he be clean it and a piece of glass lodge in a finger', 'foake could face three month out which would place in doubt his availability for the five Test series with India in August', 'foake sustain the injury on Sunday slip in the dressing room after Surreys County Championship fixture against Middlesex at the Kia Oval read an England Wales Cricket Board ECB statement', 'he will now be assess and work closely on his rehabilitation with the Surrey medical team and be expect to be out of action for at least three month', 'England Mens Head Coach Chris Silverwood have call up Kents wicketkeeperbatsman Sam Billings and Nottinghamshires toporder batsman Haseeb Hameed', 'billing an establish member of Englands whiteball squad have yet to be cap at test level and be likely to be reserve with James Bracey set to get the nod', 'hameed who have be in impressive form during the 2021 county season have score 474 run at an average of 5266 last play test cricket in November 2016', 'the 24yearold opener nickname baby boycott by teammate win his three test cap against India during Englands winter tour of 2016', 'President Bashar alAssad dismiss criticism of Syrias presidential election as voter cast ballot Wednesday in governmentheld area despite western accusation it be neither free nor fair', 'your opinion have zero value Assad say after vote with his britishborn wife Asma in the Damascus suburb of Douma a key rebel stronghold until its recapture by government force three year ago', 'on the eve of the election the US Britain France Germany and Italy say the poll be neither free nor fair and Syrias fragment opposition have call it a farce', 'but they will watch powerless as few doubt Assad will trounce his two virtually unknown challenger to win a fourth term in a warbattere country mire in economic crisis', 'the controversial vote be the second election since the start of a decadelong civil war that have kill over 388000 people and displace half the prewar population', 'huge election poster glorify Assad have mushroom across the twothird of the country under his control', 'state medium which show long queue form outside polling station in the morning say at midnight 2100 GMT poll have close after having report that they would be keep open five hour beyond the plan closing time', 'it say counting have start', 'hundred of student clamour to vote outside Damascus University', 'I come to vote for Bashar alAssad because he be the only man who withstand 10 year of war say 26yearold Kinan alKhatib', 'around he student chant with our blood and with our soul we sacrifice our life for you Bashar', 'the European Union Aviation Safety Agency easa have urge airline to avoid Belarus airspace follow the countrys interception Sunday of a Ryanair jet bind for Lithuania and force to land in Minsk', 'the circumstance surround this action cast serious doubt on the respect show by Belarus for international civil aviation rule the EASA say in a statement', 'the action undertake by Belarus amount to an increase safety risk for the abovementioned flight and put into question the ability of Belarus to provide safe air navigation service', 'Belarus run by strongman President Alexander Lukashenko send a Mig29 fighter to intercept the flight as it be cross belarusian airspace en route to neighbour Lithuania', 'cite a bomb threat authority force the plane to land in capital Minsk', 'the airliner depart hour later after authority have forcibly disembark opposition blogger Roman Protasevich and his girlfriend in an action which Brussels decry as a hijacking and act of air piracy', 'as a result European Union leader agree a range of sanction against Belarus include ban the country from the blocs airspace and airport', 'the EASA say that pende finalisation of an international investigation into the incident operator have their principal place of business in an EASA state should avoid operation in Belarus unless the use of that airspace be deem necessary to ensure safe operation in case of unforeseen circumstance', 'the agency also advise other airline beyond its remit to do the same', 'at the same time the EASA say it do not believe the safety concern relate to the incident comprise an unsafe condition that would warrant a safety directive which would force airline to comply', 'the interception of the Ryanair plane be be widely regard as a breach of the 1944 Chicago Convention establish civil aviation rule Minsk have be a convention signatory since 1993', 'the International Civil Aviation Organization a UN agency be investigate and have declare deep unease the bodys council be due to meet Thursday to discuss the issue', 'the United States on Wednesday say it be consider sanction against politician and military leader in Mali who endanger the country plan return to civilian rule after the president and prime minister be detain', 'interim president Bah Ndaw and prime Minister Moctar Ouane resign Wednesday after be strip of their power they be be hold at a military base in what appear to amount to the countrys second coup in nine month', 'the United States will consider target measure against political and military leader who impede Malis civilianle transition to democratic governance State Department spokesman Ned Price say in a statement', 'we stand with the people of Mali in their aspiration to achieve democracy peace development and respect for human right', 'the United States condemn the detention and add that US assistance for Malis security force have be suspend', 'Ndaw and Ouane have head an interim government with the aim of restore civilian rule within 18 month after military officer oust president Ibrahim Boubacar Keita last August', 'US equity eke out modest gain Wednesday after a lackluster session that see positive corporate news duel with linger concern over the global recovery and US inflation', 'Amazon announce a deal to acquire MGM studio and major retailer report an earning surge fuel by cashflush american consumer', 'the Dow Jones Industrial Average end essentially flat at 3432305', 'the broadbase SP 500 edge up 02 percent to close at 419599 while the techrich Nasdaq Composite Index advance 06 percent at 13738', 'investor continue to monitor sign of rise inflation amid fear high price could prompt a sudden shift in Federal Reserve policy', 'but Fed Vice Chair Randal Quarles again try to tamp down concern say current price spike be unlikely to last and warn it would be unwise for the central bank to take action that might slow the recovery prematurely', 'Gregori Volokhine of Meeschaert Financial Services say investor be become convince the Fed eventually will take step to keep inflation under wrap', 'the market be calm they be see excellent result he tell AFP', 'and though they see number that could point to a return of inflation but they have this confidence that the Fed will be there to avoid be too aggressive later', 'several retailer surge after report earning result with Dicks Sporting Goods jump 17 percent and Urban Outfitters gain more than 10 percent amid hope for a strong industry recovery', 'Amazon edge up 02 percent after announce it would acquire the storied MGM studio for 845 billion give the US tech giant a vast library to further its ambition in streaming', 'Ford jump 85 percent as it say it be ramp up investment in zeroemission car and by 2030 expect 40 percent of its sale volume to be comprise of fully electric vehicle', 'multiple people be kill in a shooting Wednesday at a rail yard in Californias Bay Area police say the late instance of deadly gun violence in the United States', 'I can not confirm the exact number of injury and fatality but I will tell you that there be multiple injury and multiple fatality in this case Russell Davis a Santa Clara County Sheriffs deputy tell journalist add that the gunman be dead', 'Police rush to an active shooter investigation at a public transit maintenance yard in San Jose   a Silicon Valley tech hub of almost million people   after multiple 911 call report gunshot', 'it be not immediately clear if the shooter be a worker at the facility but police say some of the victim be employee at the site', 'South Africas former president Jacob Zuma plead not guilty on Wednesday in a muchpostpone corruption case date back more than two decade', 'the 79yearold face 16 charge of fraud graft and racketeering relate to a 1999 purchase of fighter jet patrol boat and military gear from five european arm firm for 30 billion rand then the equivalent of nearly 5 billion', 'Zuma   who at the time be president Thabo Mbekis deputy   be accuse of accept bribe total four million rand from one of the firm french defence giant Thales', 'Zuma be impassive as he face the court in the eastern city of Pietermaritzburg where numerous supporter and relative be gather', 'impeccably dress in a dark blue suit and a red tie wear an anticoronavirus mask he be repeatedly ask by the judge Piet Koen to confirm in person the response of his attorney give the magnitude of what be deal with', 'I plead not guilty Zuma say without hesitate', 'Thales also plead not guilty to charge of corruption and money laundering', 'zumas plea conclude year of delay in the longawaite trial which many South Africans say will deliver the verdict of history on his turbulent presidency', 'prosecutor intend to call around 200 witness', 'the rule African National Congress ANC force Zuma to resign in 2018 after a mount series of scandal', 'under his nineyear tenure say critic corruption and cronyism flourish and billion of dollar in state asset and business be siphon off', 'his successor Cyril Ramaphosa have vow to stamp out graft but be meet resistance from proZuma figure who command grassroots support in the ANC', 'a teenage demonstrator die Wednesday in a protest in Colombia that see a courthouse set on fire police say as the country approach a month of antigovernment mobilization that have claim dozen of life', 'the 18yearold university student die from what appear to be a gunshot wound sustain during a protest late Tuesday in Tulua in western Colombia', 'National Police chief Jorge Vargas identify the victim as Camilo Andres Arango and say he be shoot when a peaceful march be interrupt by man who hurl rock at police and set fire to the Tulua Palace of Justice', 'two other civilian be shoot and wound in the tumult that also see 18 shop loot include a car dealership from which 60 motorcycle be steal', 'the police do not say who fire the shot', 'the student death bring to 44 the official toll   mainly of civilian   since the protest start on April 28 initially against a moot tax reform', 'though the proposal be quickly withdraw antigovernment demonstration have continue in the face of a police crackdown that have draw international condemnation', 'with no central leadership or common set of demand protester request range from government help in confront the economic ravage of the coronavirus pandemic to reform of police practice', 'negotiation that start nearly two week ago between the conservative government of President Ivan Duque and one of the most visible protest group dub the National Strike Committee have yet to yield result', 'the protester want Duque to acknowledge abuse by the armed force while the president want protester to end road blockade that have cut off supply to several city', 'the government claim that leftist guerrilla   member of the Colombias last rebel group the ELN as well as FARC fighter who do not sign the 2016 peace pact   have infiltrate the demonstration to foment violence and vandalism', 'view event update in real time on AFP Agenda httpsagendaafpcom', 'for a selection of upcoming event and a preview of our top story sign up to our newsletter AFP Agenda Highlights httpspageafpcomSubscriptionpreferencecenterhtml', 'South Africas former president Jacob Zuma plead not guilty on Wednesday in a muchpostpone corruption case date back more than two decade', 'the 79yearold face 16 charge of fraud graft and racketeering relate to a 1999 purchase of fighter jet patrol boat and military gear from five european arm firm for 30 billion rand then the equivalent of nearly 5 billion', 'Zuma   who at the time be president Thabo Mbekis deputy   be accuse of accept bribe total four million rand from one of the firm french defence giant Thales', 'Zuma be impassive as he face the court in the eastern city of Pietermaritzburg where numerous supporter and relative be gather', 'impeccably dress in a dark blue suit and a red tie wear an anticoronavirus mask he be repeatedly ask by the judge Piet Koen to confirm in person the response of his attorney give the magnitude of what be deal with', 'I plead not guilty Zuma say without hesitate', 'Thales also enter a notguilty plea to charge of corruption and money laundering', 'the company lawyer tell the court that Thales have never pay any bribe to Zuma to allegedly prevent investigation into the arm sale', 'for many South Africans the longawaite case will deliver the verdict of history on Zumas turbulent presidency', 'under his nineyear tenure say critic corruption and cronyism flourish and billion of dollar in state asset and business be siphon off', 'the exleader lawyer ask to have prosecution attorney Billy Downer recuse accuse he of bias', 'his right to a fair trial be what be at stake Zumas defence advocate Dali Mpofu argue', 'italian mob boss Rocco Morabito who be arrest this week in northeast Brazil will be extradite to Italy say prosecutor Tuesday in Uruguay where the Mafia capo or captain have escape from prison in 2019', 'Rocco Morabito be go to be extradite to Italy Uruguayan prosecutor Jorge Diaz tell a press conference where he set out the legal ground for the decision', 'Diaz say that Uruguays plan have originally be that if arrest in Brazil Morabito would be expel by the brazilian authority to Uruguay from there he would have be extradite from Uruguay to Italy since the extradition process be already before the Supreme Court and be expect to be quick', 'but the minute there s a new international arrest warrant from Italy which be approve by the Supreme Federal Court of Brazil the brazilian federal police can no long order the expulsion and the extradition must be carry out he explain', 'therefore Uruguay be not go to request an extradition in order not to obstruct the extradition process to Italy which be where he have commit the most serious crime he say', 'Morabito 54 consider a capo or captain of the Ndrangheta Mafia group be capture in the city of Joao Pessoa along with another italian outlaw as a result of a joint investigation with Italy Brazils federal police say in a statement', 'Morabito be want in Italy on charge of drug trafficking he have live under a fake identity in Uruguay for 13 year before his arrest in a Montevideo hotel in 2017', 'classical musician in Vienna be prepare to return to live performance after long month without audience which have severely test their motivation and for some even throw their career into question', 'they be dust off their instrument after Austrias easing of coronavirus restriction allow cultural venue to open their door again on May 19', 'singer agent Laurent Delage liken the challenge face the musician to elite athlete who have to fire up the machine again after a period of inactivity', 'in the ornate Golden Hall of the Musikverein consider one of the world fine concert hall and home to a worldfamous New Years concert one of those athlete be french bassoonist Sophie Dervaux', 'she be rehearse a symphony by Gustav Mahler and be keen to perform in front of a live audience again for the first time since the orchestra go on tour to Japan last November', 'we be not expect this to last virtually 200 day 29yearold Dervaux tell AFP', 'after this week concert in Vienna she have performance in Denmark and Norway to look forward to as travel in Europe tentatively open up', 'Dervaux join the Vienna Philharmonic six year ago an appointment which she can hold for life', 'but she admit she have go through very very difficult period during the pandemic', 'I ask myself why work why practise scale if I do not have any concert', 'after put her bassoon to one side for a while she eventually manage to find some alternative project   particularly make record   to keep her spirit up and stop herself from get rusty', 'face with the dilemma of who to recognise as myanmar legitimate representative follow Februarys coup World Health Organization member opt Wednesday to exclude the country from their annual assembly', 'the 74th World Health Assembly have receive request from both Myanmars oust civilian authority and the military junta that seize power nearly four month ago to represent the country', 'this year gathering of the who main decisionmake body which begin Monday and last through June 1 be consider one of the most important ever as the Covid19 pandemic rage on', 'there have be call to revamp the UN health agency as well as the entire global approach to health to avoid future catastrophe', 'a WHO committee task with verify country delegation credential have propose defer a decision on who should represent Myanmar at the key meeting pende guidance from the United Nations General Assembly on how the UN system as a whole should view the matter', 'for now that would mean no one would represent Myanmar at the Seventyfourth World Health Assembly accord to the proposal which be approve by who member state without a vote Wednesday morning', 'Myanmar have be in turmoil since the February 1 putsch which have spark neardaily protest and a nationwide civil disobedience movement', 'the military have kill more than 800 civilian in a crackdown on dissent accord to a local monitoring group', 'France on Wednesday appoint Laurence des Cars know for promote social issue through art as the new head of the Louvre   the first time a woman will be in charge of the world big museum more than two century after it first open', 'Des Cars currently run the Musee dOrsay the Paris landmark museum dedicate to 19thcentury art where she be already the firstever woman boss', 'her legacy there include boost young visitor number and give art and guest more physical space', 'during she four year at the Orsay the 54year old art historian have take a stance on controversial topic through her work include some related to race', 'on Wednesday she tell France Inter radio that she want the Louvre to become an echo chamber of society', 'the European Commission will confront drug giant AstraZeneca in a belgian court on Wednesday over coronavirus vaccine delivery shortfall that hamper effort to kickstart inoculation across the bloc', 'lawyer for both side be due to appear before a judge in the Frenchspeaking court in Brussels from 0900 be 0700 GMT another hearing be schedule for Friday the court say', 'the EU be sue the BritishSwedish pharmaceutical group in a bid to force it to deliver 90 million more dose of its Covid19 vaccine before July', 'the deadline for the contract be set for midJune accord to the Commission and the EU say the company will face financial penalty if it do not meet this deadline', 'AstraZeneca deliver only 30 million dose in the first quarter out of the 120 million it be contract to supply for the current quarter which run until June 30 it plan to deliver only 70 million of the 180 million initially promise', 'a Commission official close to the case tell AFP this month that AstraZeneca be currently deliver dose at a rate of only 10 million per month well below the plan pace', 'the group deny having fail in its obligation and at the end of April denounce the lawsuit as unfounded', 'one lawyer for AstraZeneca claim that the EU have be warn as early as February of the delay and express surprise that the bloc have wait at least two month to take the matter to court', 'the EU be also accuse the pharmaceutical giant   which work with Oxford University in the development of its vaccine   of having favour the UK in its delivery even for jab make by subcontractor on the continent', 'AstraZenecas FrenchAustralian boss Pascal Soriot have argue that his companys contract with the EU bind it only to a good reasonable effort clause', 'but the European Commission say the rest of the contract show great legal responsibility than that and EU diplomat and lawmaker have point out that the company have largely deliver promise dose to Britain where it be headquarter', 'Super League trio Real Madrid Barcelona and Juventus insist on Wednesday they remain committed to modernise football despite uefa threat of disciplinary action', 'UEFA on Tuesday open formal disciplinary proceeding against the three club which be still refuse to give up the aborted Super League project', 'in a joint statement Italians Juventus and the two spanish side say they remain committed to modernise football through an open dialogue with UEFA', 'FC Barcelona Juventus FC and Real Madrid CF wish to express their absolute rejection of the insistent coercion that UEFA have be maintain towards three of the most relevant institution in the history of football the statement read', 'this alarming attitude constitute a flagrant breach of the decision of the court of justice which have already make a clear statement warn UEFA to refrain from take any action that could penalise the found club of the Super League while the legal proceeding be ongoing', 'therefore the opening of disciplinary proceeding by UEFA be incomprehensible and be a direct attack against the rule of law that we the citizen of the European Union have democratically build up while constitute a lack of respect toward the authority of the court of justice themselves', 'UEFAs statute prohibit any grouping or alliance between club without its authorisation', 'by announce their own private Super League on the night of   April 1819 the 12 club turn european football on its head and threaten the very existence of UEFA', 'the withdrawal of the six english participant after 48 hour lead to the project be shelve', 'the two Milan club follow and the nine agree in early May to pay a combine 15 million euro and to forgo five per cent of their european revenue for one season', 'Real Barcelona and Juventus meanwhile retaliate through a Commercial Court in Madrid which refer the matter to the European Court of Justice ask if UEFA be abuse its dominant position by seek to block a compete tournament', 'from the beginning the Super League have be promote with the aim of improve the situation of european football through permanent dialogue with UEFA and with the objective to increase the interest in the sport and to offer fan the good possible show Wednesdays statement read', 'this objective have to be achieve in a framework of sustainability and solidarity especially in a precarious economic situation such as the one many club in Europe be currently experience', 'instead of explore way of modernise football through open dialogue UEFA expect we to withdraw the ongoing court proceeding that question their monopoly over european football', 'Barcelona Juventus and Real Madrid all of they more than a century old will not accept any form of coercion or intolerable pressure while they remain strong in their willingness to debate respectfully and through dialogue the urgent solution that football currently need', 'either we reform football or we will have to watch its inevitable downfall', 'Irelands Dan Martin win Giro dItalia 17th stage', 'british Prime Minister Boris Johnsons former top aide Dominic Cummings on Wednesday paint a damning picture of dysfunction lie and indecision in the government early handling of the coronavirus pandemic', 'here be three of the principal area cover in his testimony to a parliamentary committee investigate lesson learn from the crisis which have cost Britain nearly 128000 live the bad toll in Europe', 'dozen of people be miss in northwest Nigeria on Wednesday after an overloaded boat ferry around 160 passenger sink in the Niger River a local official say', 'the boat leave central niger state and be head to northwest Kebbi state when it split and sink Abdullahi Buhari Wara administrative head of Ngaski district say', 'a rescue operation be underway but only 22 survivor and one dead body have be recover Wara say we be talk of around 140 passenger still miss', 'boat capsizal be common on nigerian waterway mostly due to overcrowding and lack of maintenance particularly in the annual rainy season', 'Wara blame the Kebbi accident on   overloading as the boat be mean to ferry not more than 80 passenger', 'the vessel be also load with bag of sand from a gold mine the official say', 'early this month 30 people drown when an overloaded boat capsize in central Niger state', 'the boat ferry 100 local trader split into two after hit a stump during a storm as they be return from a local market accord to emergency official', 'belgian rider Victor Campenaerts have pull out of the Giro dItalia with a knee problem before Wednesdays 17th stage two day after claim his first win', 'the Team Qhubeka Assos rider win Sundays 15th stage but a right knee tendon problem be exacerbate by the cold and wet condition on the follow stage to the ski resort of Cortina dAmpezzo in the Dolomites', 'the pain first surface in the cold condition on Monday and unfortunately have not respond well to treatment explain the 29yearold who do not start the 17th stage follow Tuesdays rest day', 'campenaert withdrawal leave the south african team down to five rider with the race to finish in Milan on Sunday after the withdrawal of Italians Domenico Pozzovivo and Giacomo Nizzolo', 'the Brooklyn Nets run roughshod over the Boston Celtics Tuesday lead by as many as 33 point in a 130108 victory that put they 20 up in their NBA playoff firstround series', 'Kevin Durant head another strong showing for Brooklyns big three along with fellow star Kyrie Irving and James Harden and Joe Harris excel from threepoint range to power the net to an early lead they have no trouble maintain', 'Brooklyn seize control in a first quarter in which they outscore the Celtics 4026', 'they lead 7147 at halftime with Harris provide plenty of firework', 'the forward connect on six of eight shot from threepoint range in the first half when his 22 point be already a career playoff high', 'he add one more threepointer in the second half to tie the franchise playoff record', 'tonight Joe get we go we get stop get out in transition which open up our offense Durant say it be just a good start for we and we kind of cruise from there', 'durant lead the Nets with 26 point eight rebound five assist and four block shot', 'Harris finish with 25 point Harden add 20 and Irving 15', 'Center Blake Griffins 11 point include two vintage dunk', 'the listless Celtics meanwhile be never a factor', 'Marcus Smart recover from a slow start   with zero point in the first quarter   to lead the Celtics in score with 19 point', 'Kemba Walker have 17 but star forward Jayson Tatum have just nine before depart early after take a poke in the right eye', 'the Celtics will try to get into the bestofseven Eastern Conference series when they host game three on Friday', 'elsewhere on Tuesday the reign champion Los Angeles Lakers lead by superstar LeBron James try to bounce back in Phoenix where they be burn by the Suns in game one of their Western Conference series', 'the Los Angeles Clippers be also seek a bounceback victory when they host the Dallas Mavericks', 'US Secretary of State Antony Blinken head to Jordan Wednesday on the last leg of a Mideast tour that aim to shore up an egyptbrokered ceasefire between Israel and palestinian militant in Gaza', 'after meet egyptian President Abdel Fattah alSisi   whom he praise for help bring an end to the intense violence relatively quickly   he depart for Jordan for talk with King Abdullah II', 'the US top diplomat already meet Tuesday with israeli and palestinian leader to throw Washingtons support behind the truce that end 11 day of heavy israeli bombing of Gaza and rocket fire from the enclave into Israel', 'after talk with palestinian president Mahmud Abbas at his headquarters in the Israelioccupied West Bank Blinken vow to rebuild US relation with the Palestinians by reopen a consulate in Jerusalem as well as give million in aid for the warbattere Gaza Strip', 'the announcement signal a break with US policy under former president Donald Trump who have shutter the diplomatic mission for Palestinians in 2019 and slash aid to the Palestinian Authority', 'in the long term Blinken evoke the possibility of resume the effort to achieve a twostate solution which we continue to believe be the only way to truly assure Israels future as a jewish and democratic state and of course to give the Palestinians the state they re entitle to', 'after meet israeli Prime Minister Benjamin Netanyahu he reiterate support for Israels right to defend itself against rocket attack by Gazas Hamas ruler add that they must not benefit from the reconstruction aid', 'aftershock from the Mount Nyiragongo volcano in eastern DR Congo rattle the nearby city of Goma on Wednesday four day after its eruption badly damage several building and prompt hundred of resident to flee and the UN to relocate some of its staff', 'the tremor be feel throughout the night two powerful shock from Africas most active volcano cause terrified people to run out of their home', 'the seismic monitoring agency RSM in neighbour Rwanda whose border run close to Goma say it have detect a 51magnitude quake at 546 am 0346 GMT follow by a 41magnitude tremor at 612 be', 'the Goma Volcano Observatory OVG say that it register more than 269 tremor between Saturday and Tuesday with one measure 52 magnitude on the Richter scale', 'authority shut down the market shop and several building site as a precaution', 'hundred of resident begin leave the city again in the afternoon heading southwest to the Masisi region or to across the border to Rwanda and some head to Gomas port to take a boat to safety', 'the UN say it be relocate nonessential staff both national and international out of Goma city and many of the other international organisation and NGOs that have office there be do likewise', 'the United Nations say 32 people have die and at least 5000 be fear to be homeless after the volcano erupt on Saturday', 'czech defender Ondrej Kudelas appeal against a 10match racism ban have be reject and he will miss Euro 2020 UEFA announce on Wednesday', 'the Slavia Prague centreback be hand the suspension by european football govern body for racially abuse Rangers player Glen Kamara in a Europa League match on March 18', 'the appeal lodge by Mr Ondrej Kudela have be dismiss read a short UEFA statement', 'the disciplinary committee have decide to suspend SK Slavia Praha player Mr Ondrej Kudela for the next 10 UEFA club and representative team competition match for which he would otherwise be eligible to play for racist behaviour', 'Czech Republic coach Jaroslav Silhavy have leave a spot open for Kudela when he name his Euro 2020 squad on Tuesday but will now have to name someone else', 'the 34yearold allegedly utter a racist insult towards Kamara during a stormy last16 tie win by Slavia', 'finland Kamara be also give a threegame ban for assault Kudela in the tunnel after the match', 'the incident cause uproar in the Czech Republic', 'the Czech president office even say it have complain to UEFA over Kudelas ban say the ban be only to fulfil the perverted expectation of a narrow group of activist and signify ridiculous bow to silly trend', 'Switzerland on Wednesday call off year of talk with the European Union aim at seal a cooperation agreement with Berns large trading partner in a move which anger Brussels']\n"
     ]
    }
   ],
   "source": [
    "print(s_list)"
   ]
  },
  {
   "cell_type": "code",
   "execution_count": 37,
   "id": "cadc43f8",
   "metadata": {},
   "outputs": [
    {
     "name": "stdout",
     "output_type": "stream",
     "text": [
      "{'allow': ['Polish authorities said they had denied it entry to their airspace because France had said it would not allow it through', 'But a separate flight from Minsk to Warsaw was allowed to land', 'Belarusian foreign ministry spokesman Anatoly Glaz said Frances decision not to allow the plane amounted to air piracy', 'BIO KOREA 2021 Business Forum will focus on a virtual partnering system allowing attendees to schedule virtual meetings to maximize their business development and licensing potential', 'AFL games scheduled in Melbourne for the coming weekend are currently allowed to go ahead with fans at up to 85 per cent capacity but government officials warned public events could yet face fresh restrictions', 'Up to four people will be allowed at a table though contact details will have to be recorded Masks will have to be worn when moving around inside and the 1100 pm curfew is being lifted', 'Those without permits by comparison have to print out a permission form every time they want to leave the house which is allowed for essential reasons only', 'They are dusting off their instruments after Austrias easing of coronavirus restrictions allowed cultural venues to open their doors again on May 19'], 'approve': ['But the minute theres a new international arrest warrant from Italy which was approved by the Supreme Federal Court of Brazil the Brazilian federal police can no longer order the expulsion and the extradition must be carried out he explained', 'The EMA is continuing to evaluate the safety of all four vaccines it has approved for use in the EU which also includes the ones from BioNTechPfizer and Moderna', 'Kymeta Corporation wwwkymetacorpcomthe communications company making mobile globalannounced today that the Committee on Foreign Investment in the United States CFIUS has approved a 30 million investment by Hanwha Systems Co Ltd HSC wwwhanwhacom a leading global solutions company that provides differentiated smart technologies in defense electronics and information infrastructure in Kymeta', 'We are thrilled that the investment is approved and eager to leverage Kymetas expertise in hybrid satellite and cellular connectivity solutions said Youn Chul Kim CEO of HSC Kymetas solutions will further our aerospace capabilities and deliver reliable communications for our defense customers', 'An ongoing shortage of the crucial chips has forced US automakers to cut production and the bill allocates 52 billion in funding for a previously approved plan to increase domestic manufacturing of the components', 'But the minute theres a new international arrest warrant from Italy which was approved by the Supreme Federal Court of Brazil the Brazilian federal police can no longer order the expulsion and the extradition must be carried out he explained', 'For now that would mean no one would represent Myanmar at the Seventyfourth World Health Assembly according to the proposal which was approved by WHO member states without a vote Wednesday morning'], 'assure': ['In the long term Blinken evoked the possibility of resuming the effort to achieve a twostate solution which we continue to believe is the only way to truly assure Israels future as a Jewish and democratic state and of course to give the Palestinians the state theyre entitled to', 'In the long term Blinken evoked the possibility of resuming the effort to achieve a twostate solution which we continue to believe is the only way to truly assure Israels future as a Jewish and democratic state and of course to give the Palestinians the state theyre entitled to'], 'attend': ['BIO KOREA 2021 Business Forum will focus on a virtual partnering system allowing attendees to schedule virtual meetings to maximize their business development and licensing potential', 'Invest Fair is an event where pharmaceuticals bio and healthcare companies that are advancing into the global market and developing new drugs introduce their leading technology vision and strategy to the investors Along with online hosting it maintains the participants attendance with impressive lineups of 19 companies such as Lunit Tium BIO VaxcellBio and Genesystem', 'Jansa who only briefly attended the impeachment debate argued that his government had been succesful in dealing with the health and economic crisis', 'Thousands of Australian Rules football fans were told to selfisolate and get tested for coronavirus Wednesday after an infected spectator attended a match in Melbourne and the city raced to avoid another lockdown', 'Australias second biggest city is scrambling to contain a growing Covid outbreak with 15 cases identified so far including one who attended the clash between Collingwood and Port Adelaide which drew a crowd of more than 23000 to the famed Melbourne Cricket Ground on Sunday', 'COMPUTEX 2021 will be launched from May 31 to June 30 The organizer the Taiwan External Trade Development Council TAITRA will roll out the COMPUTEXVirtual platform to connect the technology community that breaks geographic limitations COMPUTEX 2021 will offer an exceptional exhibition experience to attendees with the following highlights', 'The head of Sudans civilianmilitary ruling council General Abdel Fattah alBurhan and Prime Minister Abdalla Hamdok both attended the resumption of talks in the capital of South Sudan Juba', 'Temenos SIX TEMN the banking software company is accelerating its leadership in the cloud by introducing the nextgeneration in SaaS The Temenos Banking Cloud This combines the industrys most complete banking services covering all segments and all geographies with a Sandbox for fast innovation and the Temenos MarketPlace for fintech collaboration all powered by a new AIenabled engine to drive banks business growth and accelerate time to market With Temenos Banking Cloud banks now have the power to selfprovision alwayson banking services and scale instantly and securely while dramatically reducing the cost of operations to 10 of legacy systems Join TCF Online with over 10000 attendees to find out more', 'The event falls after the scheduled lifting of coronavirus restrictions on crowd numbers attending outdoor sporting events in Switzerland on August 20', 'Lausanne takes place a couple of weeks after the Tokyo Olympics where overseas fans are already barred with organisers set to decide in June how many domestic spectators can attend if any at all', 'Kuleba criticised the blocs decision not to invite Ukraine to a June 14 summit in Brussels that US President Joe Biden is set to attend'], 'bear': ['Born and raised in Stockport just six miles 10 kilometres from the clubs Etihad Stadium Foden is the homegrown hero among a starstudded international squad bankrolled by the Abu Dhabi owners', 'Born in 1927 he enlisted in the military at 17 several months before the end of World War II and five years later found himself serving in the Marines in the Korean War', 'The pass which can be downloaded on a persons mobile phone two weeks after receiving their second shot gives the bearer permission to move about freely in cities under lockdown to go to the supermarket pharmacy or for open air exercise', 'However analysts said the concerns may be subsiding as the latest drive to soothe concerns by highranking Fed members appeared to be bearing fruit'], 'benefit': ['To maximize the benefits for exhibitors COMPUTEXVirtual will provide multiple effective timely communication channels for exhibitors and visitors such as video conferencing meeting requests and instant messaging Exhibitors can use AI technology to identify target audiences and promote products HyperPersonalized Recommendations will also help increase the matchmaking accuracy and enable companies to seize business opportunities effectively', 'Alfonso Pedraza was perhaps fortunate no further action was taken when he appeared to catch Greenwood in the Villarreal area although United benefitted from a slice of luck to level', 'The Temenos Banking Cloud gives banks the freedom to innovate faster move from a CapEx to an OpEx model and benefit from a lower total cost of ownership Varo Bank using Temenos SaaS estimates that it services customers at 25 of the total costs incurred by a traditional bank Banks using The Temenos Banking Cloud have benefited from instant and massive scalability A European challenger bank opened over 600K accounts in 3 months While a global digital disruptor saw a staggering number of over 20M loan applications processed within 9 months They are already adding over 100K new loans per day which is expected to reach 200K loans per day Over 700 financial institutions use Temenos SaaS such as Al Ain Finance Alpian Flowbank Flowe Itau Orange Bank and they will now benefit from all the new rich features of The Temenos Banking Cloud', 'Dan Dickinson Chief Information Officer EQ Bank said As Canadas first digitalonly challenger we turned to Temenos SaaS to easily scale to meet customer demand grow deposits much more quickly at a lower cost and pass on the benefits to our customers With The Temenos Banking Cloud we can accelerate our business growth and benefit from unlimited innovation through the Sandbox and Temenos MarketPlace capabilities', 'The Temenos Banking Cloud is powered by an Explainable AI engine with advanced data analytics so banks can test report and measure product performance and gain insight to support business decisions and product design Through the selfservice portal IT users and developers can spin up fully provisioned environments benefit from realtime dashboards on usage and billing configure permissions and manage security credentials Temenos AI advisors offer recommendations to banks to proactively manage usage and service health', 'Alfonso Pedraza was perhaps fortunate no further action was taken when he appeared to catch Greenwood in the Villarreal area although United benefitted from a slice of luck to level', 'After meeting earlier Tuesday with Israeli Prime Minister Benjamin Netanyahu he reiterated support for Israels right to defend itself against rocket attacks by Gazas Hamas rulers adding that they must not benefit from the international reconstruction aid', 'Last month it drew a link between rare blood clots and AstraZeneca and Johnson  Johnson jabs but stressed that the benefits of the vaccines outweighed the risk', 'After meeting Israeli Prime Minister Benjamin Netanyahu he reiterated support for Israels right to defend itself against rocket attacks by Gazas Hamas rulers adding that they must not benefit from the reconstruction aid'], 'certify': ['We are focusing on creating a large sustainable ecosystem where our o9 global organization will serve as an enabler of a much larger pool of skills and capabilities across partners both consulting and technology We continue to rapidly grow our partner network and since 2020 have certified more than a thousand consultants as o9 implementers We expect to double that in 2021 with a high quality program focused on delivering certifications in technical skills of architecting and configuring the o9 platform as well as advanced analytics skills in ML and big data analytics that are integral part of o9 solutions that we deliver to our clients says Igor Rikalo President and COO of o9'], 'charge': ['Morabito is wanted in Italy on charges of drug trafficking He had lived under a fake identity in Uruguay for 13 years before his arrest in a Montevideo hotel in 2017', 'But the US Justice Department in February indicted three North Koreans on charges of participating in a wideranging criminal conspiracy to conduct a series of destructive cyberattacks', 'Japan has urged him to return and face trial while Lebanon has asked Japan to hand over his file on financial misconduct charges', 'The development is the latest step towards the 74yearold Trump who left the White House in January possibly becoming the first ever exUS leader to face criminal charges', 'In the United States prosecutors typically refer important cases to grand juries made up of citizens who examine the prosecutions case in secret They hear evidence and can request additional documents before deciding whether criminal charges should be brought', 'This is purely political and an affront to the almost 75 million voters who supported me in the Presidential Election and its being driven by highly partisan Democrat prosecutors Trump charged in his statement', 'The legislation will supercharge American innovation and preserve our competitive edge not just for the next few years but for generations to come Schumer said in the Senate', 'If Britain had had the right preparations  competent people in charge it could probably have avoided its first lockdown in March 2020 and definitely escaped later ones Cummings wrote as part of a 59message Twitter thread', 'The star duo scored 16 of the Lakers final 18 points and Los Angeles turned back a late charge from a Suns team again largely deprived of veteran point guard Chris Paul  who was still clearly feeling the effects of a right shoulder injury suffered in game one and exited early', 'The 79yearold faces 16 charges of fraud graft and racketeering relating to a 1999 purchase of fighter jets patrol boats and military gear from five European arms firms for 30 billion rand then the equivalent of nearly 5 billion', 'Thales also pleaded not guilty to charges of corruption and money laundering', 'The 79yearold faces 16 charges of fraud graft and racketeering relating to a 1999 purchase of fighter jets patrol boats and military gear from five European arms firms for 30 billion rand then the equivalent of nearly 5 billion', 'Thales also entered a notguilty plea to charges of corruption and money laundering', 'Morabito is wanted in Italy on charges of drug trafficking He had lived under a fake identity in Uruguay for 13 years before his arrest in a Montevideo hotel in 2017', 'France on Wednesday appointed Laurence des Cars known for promoting social issues through art as the new head of the Louvre  the first time a woman will be in charge of the worlds biggest museum more than two centuries after it first opened'], 'empower': ['We are putting banks in control of their business models and innovation cycles giving them the agility and speed to build great customer products and profitable businesses With The Temenos Banking Cloud we empower banks to digitally transform and massively scale faster than ever', 'Amazon will help preserve MGMs heritage and catalog of films and provide customers with greater access to these existing works Through this acquisition Amazon would empower MGM to continue to do what they do best great storytelling', 'OralB the No1 Dentist Recommended Toothbrush Brand Worldwide is on a mission to make the invisible connection between oral health and wholebody wellness visibleand to empower people to take their health into their own hands'], 'enable': ['To maximize the benefits for exhibitors COMPUTEXVirtual will provide multiple effective timely communication channels for exhibitors and visitors such as video conferencing meeting requests and instant messaging Exhibitors can use AI technology to identify target audiences and promote products HyperPersonalized Recommendations will also help increase the matchmaking accuracy and enable companies to seize business opportunities effectively', 'Temenos SIX TEMN the banking software company is accelerating its leadership in the cloud by introducing the nextgeneration in SaaS The Temenos Banking Cloud This combines the industrys most complete banking services covering all segments and all geographies with a Sandbox for fast innovation and the Temenos MarketPlace for fintech collaboration all powered by a new AIenabled engine to drive banks business growth and accelerate time to market With Temenos Banking Cloud banks now have the power to selfprovision alwayson banking services and scale instantly and securely while dramatically reducing the cost of operations to 10 of legacy systems Join TCF Online with over 10000 attendees to find out more', 'The Temenos Banking Cloud removes the complexity enabling banks to concentrate on their customers rather than their technology With the touch of a button banks can turn on new banking services scale instantly build new applications plug into the richest fintech marketplace and proactively manage usage and service health With The Temenos Banking Cloud banks gain', 'Unlimited innovation in the Sandbox Temenos Sandbox enables banks to innovate faster by exploring new Temenos functionality train their developers and create new applications The Sandbox includes access to Temenos Banking Services Temenos MarketPlace example data and integration tools to enable banks to configure new products The Sandbox also offers highquality welldocumented APIs which are essential connectors of open architecture Banks can choose to move to production environments in the cloud or onpremise', 'We are focusing on creating a large sustainable ecosystem where our o9 global organization will serve as an enabler of a much larger pool of skills and capabilities across partners both consulting and technology We continue to rapidly grow our partner network and since 2020 have certified more than a thousand consultants as o9 implementers We expect to double that in 2021 with a high quality program focused on delivering certifications in technical skills of architecting and configuring the o9 platform as well as advanced analytics skills in ML and big data analytics that are integral part of o9 solutions that we deliver to our clients says Igor Rikalo President and COO of o9', 'The approval provided by CFIUS clears the way for HSC and Kymeta to close on the transaction that was jointly announced last December The investment moves Kymeta one step closer toward developing solutions that are future proof and interoperable with both LEO and GEO mega constellations Today the Kymeta u8 is the only commercially available flat panel antenna that is compatible with LEO and GEO satellite constellations and enabled to take advantage of the growing capacity within space', 'We look forward to moving ahead and working with HSC said Doug Hutcheson Executive Chairman Kymeta We believe this investment will be instrumental in enabling the continued innovation advancement and commercialization of Kymetas connectivity solutions Were excited about the future of Kymeta and the LEO satellite market'], 'ensure': ['The Turkish metropolis was told it would host this seasons final instead but that became impossible when the UK government put Turkey on its red list just after City and Chelsea ensured it would be an allEnglish affair', 'A healthy mouth has minimal plaque buildup ensuring oral bacteria cannot multiply cause cavities gum deterioration or spread beyond the mouth However when plaque buildup is present around the gum line and between teeth it shelters oral bacteria including Pgingivalis from your toothbrush and natural defences This provides the perfect conditions for the bacteria to thrive and cause inflammationcausing toxins that are known to spread throughout the rest of the body', 'There are very specific entry and movement rules and procedures which the organisers have laid out in order to ensure the protection of everyone involved she added', 'But policymakers will remain patient before tapping the breaks on stimulative policies to ensure jobs recover and return to what the central bank considers full employment Quarles said in a speech to The Brookings Institution', 'The EASA said that pending finalisation of an international investigation into the incident operators having their principal place of business in an EASA state should avoid operations in Belarus unless the use of that airspace is deemed necessary to ensure safe operation in case of unforeseen circumstances'], 'entitle': ['In the long term Blinken evoked the possibility of resuming the effort to achieve a twostate solution which we continue to believe is the only way to truly assure Israels future as a Jewish and democratic state and of course to give the Palestinians the state theyre entitled to', 'In the long term Blinken evoked the possibility of resuming the effort to achieve a twostate solution which we continue to believe is the only way to truly assure Israels future as a Jewish and democratic state and of course to give the Palestinians the state theyre entitled to'], 'facilitate': ['As one of the most important global biohealth conventions BIO KOREA 2021 International Convention has garnered great attention from home and abroad To facilitate the discussion on the future biohealth industry in the COVID19 era the BIO KOREA 2021 to be held on June 9 to 21 will evolve around the theme of New Normal Breaking Barriers with Bio Innovation'], 'give': ['Among individual companies Amazon edged up 01 percent after announcing it would acquire the storied MGM studios for 845 billion giving the US tech giant a vast library to further its ambitions in streaming', 'We are not certain about the number of people trapped down there The locals keep giving us different figures Some are saying 15 people while others say 40 he said', 'Gerard Moreno gave Villarreal the lead 29 minutes into the Spanish clubs first European final but Edinson Cavani equalised early in the second half before Unai Emerys team prevailed on spotkicks extending Uniteds fouryear trophy drought', 'Cisse said the president prime minister and other transition leaders arrested on Monday would be released but this would happen gradually for obvious security reasons He gave no timeline', 'We are putting banks in control of their business models and innovation cycles giving them the agility and speed to build great customer products and profitable businesses With The Temenos Banking Cloud we empower banks to digitally transform and massively scale faster than ever', 'The Temenos Banking Cloud gives banks the freedom to innovate faster move from a CapEx to an OpEx model and benefit from a lower total cost of ownership Varo Bank using Temenos SaaS estimates that it services customers at 25 of the total costs incurred by a traditional bank Banks using The Temenos Banking Cloud have benefited from instant and massive scalability A European challenger bank opened over 600K accounts in 3 months While a global digital disruptor saw a staggering number of over 20M loan applications processed within 9 months They are already adding over 100K new loans per day which is expected to reach 200K loans per day Over 700 financial institutions use Temenos SaaS such as Al Ain Finance Alpian Flowbank Flowe Itau Orange Bank and they will now benefit from all the new rich features of The Temenos Banking Cloud', 'Gerard Moreno gave Villarreal the lead 29 minutes into the Spanish clubs first European final but Edinson Cavani equalised early in the second half before Unai Emerys team prevailed on spotkicks extending Uniteds fouryear trophy drought', 'Amazon has agreed to buy the storied MGM studios for 845 billion the companies said Wednesday giving the US tech giant a vast library to further its ambitions in streaming', 'It gives Amazon the fabled Metro Goldwyn Mayer studios an iconic name in Hollywood which has been through a series of ownership changes and bankruptcy in recent years', 'Electric Toothbrush with a RoundHead OralB brushes are round for a reason to adapt to each individual tooth and reach between the teeth The OralB iOs revolutionary technology removes 100 more plaque than a manual brush to give you that professional clean feeling every single day', 'Chelsea were given a Champions League final fitness boost on Wednesday as France midfielder NGolo Kante and Senegal goalkeeper Edouard Mendy returned to training', 'After talks with Palestinian president Mahmud Abbas at his headquarters in the occupied West Bank Blinken vowed to rebuild US relations with the Palestinians by reopening a consulate in Jerusalem as well as giving millions in aid for the warbattered Gaza Strip', 'In the long term Blinken evoked the possibility of resuming the effort to achieve a twostate solution which we continue to believe is the only way to truly assure Israels future as a Jewish and democratic state and of course to give the Palestinians the state theyre entitled to', 'Its far too much money for five birds but we are donating a large part to bird keepers in a centre near here who help animals in difficulty They are following the video online and are giving us precious advice Zeman said', 'Attal told reporters after a weekly cabinet meeting that details of the measure would be given in the coming hours', 'Amazon has agreed to buy the storied MGM studios for 845 billion the companies said Wednesday giving the US tech giant a vast content library to further its ambitions in streaming', 'It gives Amazon the fabled Metro Goldwyn Mayer studios an iconic name in Hollywood which has been through a series of ownership changes and bankruptcy in recent years', 'The pass which can be downloaded on a persons mobile phone two weeks after receiving their second shot gives the bearer permission to move about freely in cities under lockdown to go to the supermarket pharmacy or for open air exercise', 'The countrys Medical College and nine medical associations are not in favor of the vaccine pass given the persistently high infection rate', 'The country of 45 million due to host the Copa America in three weeks time has so far given one vaccine dose to 89 million people and two doses to 25 million', 'Given the plan was AWOLdisaster  awful decisions delayed everything lockdown1 became necessary', 'The deal gives the US tech giant a vast library to further its ambitions in streaming bolstering Amazon Prime Video which competes with Netflix and others in a fastevolving market', 'Amazon edged up 02 percent after announcing it would acquire the storied MGM studios for 845 billion giving the US tech giant a vast library to further its ambitions in streaming', 'Impeccably dressed in a dark blue suit and a red tie wearing an anticoronavirus mask he was repeatedly asked by the judge Piet Koen to confirm in person the response of his attorney given the magnitude of what were dealing with', 'Impeccably dressed in a dark blue suit and a red tie wearing an anticoronavirus mask he was repeatedly asked by the judge Piet Koen to confirm in person the response of his attorney given the magnitude of what were dealing with', 'Her legacy there includes boosting young visitor numbers and giving art and guests more physical space', 'UEFA on Tuesday opened formal disciplinary proceedings against the three clubs which are still refusing to give up the aborted Super League project', 'After talks with Palestinian president Mahmud Abbas at his headquarters in the Israelioccupied West Bank Blinken vowed to rebuild US relations with the Palestinians by reopening a consulate in Jerusalem as well as giving millions in aid for the warbattered Gaza Strip', 'In the long term Blinken evoked the possibility of resuming the effort to achieve a twostate solution which we continue to believe is the only way to truly assure Israels future as a Jewish and democratic state and of course to give the Palestinians the state theyre entitled to', 'Finlands Kamara was also given a threegame ban for assaulting Kudela in the tunnel after the match'], 'hand': ['Young military officers ousted president Ibrahim Boubacar Keita last August after weeks of demonstrations over perceived government corruption and his handling of the jihadist insurgency', 'Acer will showcase its very latest products and innovations that will be announced at its nextacer Global Press Conference to be held on May 27 It will also showcase solutions from its subsidiaries including products for smart cities AI and enterprise use ZOTAC on the other hand will be revealing a brilliant lineup of innovations including the ZOTAC GAMING GeForce 3090 AMP Extreme Holo graphics card and the MAGNUS ONE ECM53060C mini PC', 'It was the Uruguayans sixth goal of the competition this season all coming in his past four matches and one that handed United the momentum', 'The first 21 penalties were successfully converted before De Gea had his attempt palmed away by Rulli as United lost for the sixth time in seven shootouts handing Emery a record fourth Europa League crown', 'It was the Uruguayans sixth goal of the competition this season all coming in his past four matches and one that handed United the momentum', 'The first 21 penalties were successfully converted before De Gea had his attempt palmed away by Rulli as United lost for the sixth time in seven shootouts handing Emery a record fourth Europa League crown', 'OralB the No1 Dentist Recommended Toothbrush Brand Worldwide is on a mission to make the invisible connection between oral health and wholebody wellness visibleand to empower people to take their health into their own hands', 'Britains government disastrously failed the public by mishandling its coronavirus pandemic response former top adviser Dominic Cummings told lawmakers on Wednesday calling Prime Minister Boris Johnson unfit for the job', 'The EU is suing AstraZeneca to force it to deliver 90 million more doses of its coronavirus vaccine before July arguing that it failed in its contractual duty by handing over only a quarter of the shots it promised for the first three months of 2021', 'Japan has urged him to return and face trial while Lebanon has asked Japan to hand over his file on financial misconduct charges', 'Were really excited about MGM Amazon founder Jeff Bezos told shareholders at an annual meeting where he announced he would hand over the chief executive job July 5 to Andy Jassy while he takes the title of executive chairman', 'LeBron James added 23 points pulling down four rebounds and handing out nine assists as the Lakers gained the split of two games in Phoenix', 'British Prime Minister Boris Johnsons former top aide Dominic Cummings on Wednesday painted a damning picture of dysfunction lies and indecision in the governments early handling of the coronavirus pandemic', 'The Slavia Prague centreback was handed the suspension by European footballs governing body for racially abusing Rangers player Glen Kamara in a Europa League match on March 18'], 'help': ['Moreover COMPUTEXVirtual builds InnoVEXVirtual as a featured exhibit area to help startups connect with the international community In addition to French Pavilion Korean Pavilion and the Dutch Pavilion the European Bank for Reconstruction and Development EBRD is bringing 18 startups from 7 countries to join InnoVEX for the first time', 'To maximize the benefits for exhibitors COMPUTEXVirtual will provide multiple effective timely communication channels for exhibitors and visitors such as video conferencing meeting requests and instant messaging Exhibitors can use AI technology to identify target audiences and promote products HyperPersonalized Recommendations will also help increase the matchmaking accuracy and enable companies to seize business opportunities effectively', 'Chris Sozou General Manager Platforms Partnerships  Analytics Virgin Money Australia saidOur digital bank has been designed with a clear ambition to simplify banking and help customers achieve their financial goals With Temenos SaaS we can deliver a frictionless digital experience bringing together credit cards transactions and savings accounts plus a loyalty program in a single native mobile app With The Temenos Banking Cloud it is easier to integrate with third parties and we have an agile platform that easily scales up or down depending on business demands', 'Cofounder and CEO Chakri Gottemukkala says Despite the current business uncertainty customers have continued to engage with us helping drive our rapid international growth We are very pleased to have been able to hire and develop such a great pool of talent  all committed to achieving success for our customers and who take pride in spurring the narrative around o9s Digital Brain forward our AIdriven integrated cloudnative platform thats helping Fortune 500 businesses make better decisions plan more effectively and make better use of the earths resources', 'Once again we have turned to our friends in Portugal to help both UEFA and the Champions League and I am as always very grateful to the FPF and the Portuguese government for agreeing to stage the match at such short notice said UEFA president Aleksander Ceferin', 'Amazon will help preserve MGMs heritage and catalog of films and provide customers with greater access to these existing works Through this acquisition Amazon would empower MGM to continue to do what they do best great storytelling', 'The brand is leading the way in innovation technology and research to help protect oral health and educate about the important connection between oral and overall body health As part of the yearlong partnership OralB and Scientific American Custom Media are releasing a series of content including educational resources from leading medical and dental researchers that will help readers better understand the connections between oral health and whole body health', 'Following a daily holistic OralB regimen can help with maintaining a happy healthy mouth', 'Stannous Fluoride Toothpaste Stannous Fluoride SnF2 helps to protect your gums against bacterial plaque', 'Mouth Rinse Mouth rinses containing bioavailable Cetylpyridinium Chloride CPC formulated at 007 helps to reduce plaque', 'Interdental Cleaning Plaque easily accumulates and hides between teeth where toothbrushing cant reach Regular cleaning between teeth helps to remove plaque and helps protect gums', 'After a female stork was electrocuted on a power line the inhabitants of a village in the Czech Republic decided to rally to help her partner and their four hatchlings', 'Its far too much money for five birds but we are donating a large part to bird keepers in a centre near here who help animals in difficulty They are following the video online and are giving us precious advice Zeman said', 'With no central leadership or common set of demands protester requests range from government help in confronting the economic ravages of the coronavirus pandemic to reform of police practices', 'After meeting Egyptian President Abdel Fattah alSisi  whom he praised for helping bring an end to the intense violence relatively quickly  he departed for Jordan for talks with King Abdullah II'], 'implement': ['This is an element of the implementation of the sanctions requested by the prime minister during the European Council', 'In its study Moodys finds a disconnect between most companies commitments and tangible measures to reduce their impact on biodiversity For example 61 of assessed companies in the heavy construction sector disclose commitments to address biodiversity yet less than 10 of the sector receives a robust or advanced score for implementation', 'In its study Moodys finds a disconnect between most companies commitments and tangible measures to reduce their impact on biodiversity For example 61 of assessed companies in the heavy construction sector disclose commitments to address biodiversity yet less than 10 of the sector receives a robust or advanced score for implementation', 'We are focusing on creating a large sustainable ecosystem where our o9 global organization will serve as an enabler of a much larger pool of skills and capabilities across partners both consulting and technology We continue to rapidly grow our partner network and since 2020 have certified more than a thousand consultants as o9 implementers We expect to double that in 2021 with a high quality program focused on delivering certifications in technical skills of architecting and configuring the o9 platform as well as advanced analytics skills in ML and big data analytics that are integral part of o9 solutions that we deliver to our clients says Igor Rikalo President and COO of o9', 'But not a single step has been taken to implement this decision Kuleba said'], 'invest': ['Invest Fair is an event where pharmaceuticals bio and healthcare companies that are advancing into the global market and developing new drugs introduce their leading technology vision and strategy to the investors Along with online hosting it maintains the participants attendance with impressive lineups of 19 companies such as Lunit Tium BIO VaxcellBio and Genesystem', 'European investment bank Bryan Garnier  Co today presented a study that clearly refutes the widespread structural undervaluation of European software vendors When the usual EVsales multiples enterprise value  expected sales for the next year are related to the average expected growth over three years CAGR European software vendors are even trading at a valuation premium of around nine percent eight percent in the case of SaaS providers compared to their US competitors', 'We had limited money limited resources and we invested in people Citys former academy manager Jim Cassell told AFP ahead of Saturdays Champions League final against Chelsea in Porto', 'Passage of an infrastructure package would add to momentum behind the reopening US economy On the downside investors are monitoring signs of rising inflation amid fears higher prices could prompt a sudden shift in Federal Reserve policy', 'Ford jumped 36 percent as it said it is ramping up investment in zeroemission cars and by 2030 expects 40 percent of its sales volume to be comprised of fully electric vehicles', 'Shareholders at ExxonMobil elected Wednesday at least two board members who pledged more aggressive action on climate change while Chevron investors directed the oil giant to deepen emission cuts', 'The dual meetings involving the two biggest US oil giants showed clear evidence of how addressing climate change has moved from the environmental world into the investor mainstream', 'At Chevron a majority of investors backed an activist proposal calling on the company to reduce scope 3 emissions associated with company operations', 'The Ministry of Interior described the attacks in Bujumbura at around 700 pm 1700 GMT Tuesday as terrorism by throwing grenades and said an investigation had been launched', 'Five days ago Inter secured a cash injection worth 275 million euros 336 million with US investment firm Oaktree in the form of a loan reported to be over three years', 'Conte had blamed the clubs lack of investment on their failure to challenge in the Champions League in which they crashed out in the group stage in each of the last three seasons', 'Biodiversity loss has emerged as a concern for responsible investors financial regulators and companies whose activities have an impact and depend on natural capital with scientists warning that the world is in the midst of a sixth mass extinction as nature is declining at unprecedented rates The report outlines Moodys ESG Solutions framework for assessing biodiversity risk which can provide a foundation for understanding the biodiversity risks of companies in investment and lending portfolios', 'Established in 1981 COMPUTEX is one of the leading global ICT IoT and startup tradeshows with a complete supply chain and IoT ecosystems Coorganized by the Taiwan External Trade Development Council TAITRA and Taipei Computer Association TCA COMPUTEX based upon Taiwans complete ICT clusters covers the whole spectrum of the ICT industry from established brands to startups and from ICT supply chain to IoT ecosystems With strong RD and manufacturing capabilities and IPR protection Taiwan is a strategic destination for foreign companies and investors looking for partners in global technology ecosystems Follow COMPUTEX on its website at wwwcomputextaipeicomtw and Twitter computextaipei using the hashtag COMPUTEX', 'Morabito 54 considered a capo or captain of the Ndrangheta Mafia group was captured in the city of Joao Pessoa along with another Italian outlaw as a result of a joint investigation with Italy Brazils federal police said in a statement', 'Biodiversity loss has emerged as a concern for responsible investors financial regulators and companies whose activities have an impact and depend on natural capital with scientists warning that the world is in the midst of a sixth mass extinction as nature is declining at unprecedented rates The report outlines Moodys ESG Solutions framework for assessing biodiversity risk which can provide a foundation for understanding the biodiversity risks of companies in investment and lending portfolios', 'Investigations begun immediately after his prison escape in 2019 indicated that Morabito was in Brazil said Pasquale Angelosanto commander of Italys carabinieri special operations unit which deals with organised crime', 'The United States and western European members of the UN Security Council called Wednesday for the International Civil Aviation Organization ICAO to investigate Belarus diversion of a European flight and arrest of a dissident on board', 'Building on over 10 years of cloud leadership 1 billion in RD investment and the experience of over 700 SaaS customers ranging from global banks to over 70 challengers we are delivering the nextgeneration in SaaS The Temenos Banking Cloud', 'The Offering received overwhelming interest from global institutional investors and longonly funds as well as strong demand from Philippinesbased investors resulting in an international and domestic book building process that was multiple times oversubscribed', 'The IPO is the largest ever on the Philippines Stock Exchange PSE and the largest food and beverage IPO in Southeast Asia It raises Php486 billion for Monde Nissin excluding underwriting commissions and other offering expenses payable by the Company The new international and domestic investors join the previously announced 11 renowned global longterm cornerstone investors in making up Monde Nissins initial shareholder base', 'The extraordinary level of interest that we received from a broad range of international and domestic investors is a testament to the worldclass company that we have built and the significant growth opportunities that lie ahead said Henry Soesanto Chief Executive Officer of Monde Nissin Corporation', 'Mr Soesanto added Our Quorn and AsiaPacific Branded Food and Beverage businesses are a powerful combination to advance our mission of food safety and food security Quorn is a leading player in the fastgrowing global meat alternatives segment with a loyal customer following and a defining set of healthy sustainable products Our AsiaPacific Branded Food and Beverage business is widely recognized for its leadership positions across each of its core segments We intend to stay ahead of consumer demands through innovation and investment in technology to provide healthier and more delicious food', 'French judicial investigators heard fugitive exauto tycoon Carlos Ghosn as a witness Wednesday in Beirut ahead of further questioning next week two sources said', 'Six French judges including public prosecutors and investigative judges started listening to Ghosns witness testimony at 1100 am 0800 GMT on Wednesday a Lebanese judicial source told AFP', 'In 2017 a report by French fraud investigators concluded that the entire chain of management of Renault up to its chief executive Ghosn were implicated in the suspected fraud', 'Ghosn is also being investigated by Frances tax fraud office over suspicious financial transactions between Renault and its distributor in the Gulf state of Oman as well as over contracts signed by RenaultNissans Dutch subsidiary RNBV', 'One Renault shareholder filed a lawsuit against Ghosn in Paris suburb Nanterre last week over significant sums transferred to RNBV without investors knowledge the investors lawyer JeanPaul Baduel told AFP Wednesday', 'The former executive was supposed to meet French judicial investigators in Beirut in January but the meetings were postponed because of travel restrictions linked to the Covid19 pandemic', 'Kymeta Corporation wwwkymetacorpcomthe communications company making mobile globalannounced today that the Committee on Foreign Investment in the United States CFIUS has approved a 30 million investment by Hanwha Systems Co Ltd HSC wwwhanwhacom a leading global solutions company that provides differentiated smart technologies in defense electronics and information infrastructure in Kymeta', 'The approval provided by CFIUS clears the way for HSC and Kymeta to close on the transaction that was jointly announced last December The investment moves Kymeta one step closer toward developing solutions that are future proof and interoperable with both LEO and GEO mega constellations Today the Kymeta u8 is the only commercially available flat panel antenna that is compatible with LEO and GEO satellite constellations and enabled to take advantage of the growing capacity within space', 'We are thrilled that the investment is approved and eager to leverage Kymetas expertise in hybrid satellite and cellular connectivity solutions said Youn Chul Kim CEO of HSC Kymetas solutions will further our aerospace capabilities and deliver reliable communications for our defense customers', 'We look forward to moving ahead and working with HSC said Doug Hutcheson Executive Chairman Kymeta We believe this investment will be instrumental in enabling the continued innovation advancement and commercialization of Kymetas connectivity solutions Were excited about the future of Kymeta and the LEO satellite market', 'The investment from HSC will further Kymetas global market reach accelerate production and improve the overall growth trajectory of the company The funding will support increased unit production enhanced customer experience and the ongoing development of Kymetas next generation capabilities With the capital investment HSC will also receive a seat on the Kymeta Board of Directors', 'Trump fired off a statement in response to the reports rejecting the investigation as purely political and a continuation of the greatest Witch Hunt in American history', 'Vance and New York state Attorney General Letitia James both Democrats are investigating Trumps business dealings  prompting the Republican to claim he is being persecuted', 'Still investor optimism continues to be kept in check by worries about a spike in infections around Asias top economies including among others India Japan Taiwan Singapore and Thailand with vaccination rates also worryingly low', 'Los Angeles Angels pitching coach Mickey Callaway was fired by the team and suspended for the next two seasons on Wednesday after a Major League Baseball investigation into allegations of sexual harassment', 'We appreciate Major League Baseballs diligent investigation and support their decision', 'My family and I fully support MLBs strong stance against harassment and discrimination and are grateful to the commissioner and his office for their thorough investigation Callaway said', 'I apologize to the women who shared with investigators any interaction that made them feel uncomfortable', 'The EASA said that pending finalisation of an international investigation into the incident operators having their principal place of business in an EASA state should avoid operations in Belarus unless the use of that airspace is deemed necessary to ensure safe operation in case of unforeseen circumstances', 'The International Civil Aviation Organization a UN agency is investigating and has declared deep unease The bodys council is due to meet Thursday to discuss the issue', 'Investors continue to monitor signs of rising inflation amid fears higher prices could prompt a sudden shift in Federal Reserve policy', 'Gregori Volokhine of Meeschaert Financial Services said investors are becoming convinced the Fed eventually will take steps to keep inflation under wraps', 'Ford jumped 85 percent as it said it is ramping up investment in zeroemission cars and by 2030 expects 40 percent of its sales volume to be comprised of fully electric vehicles', 'Police rushed to an active shooter investigation at a public transit maintenance yard in San Jose  a Silicon Valley tech hub of almost million people  after multiple 911 calls reported gunshots', 'The companys lawyers told the court that Thales had never paid any bribes to Zuma to allegedly prevent investigation into the arms sale', 'Morabito 54 considered a capo or captain of the Ndrangheta Mafia group was captured in the city of Joao Pessoa along with another Italian outlaw as a result of a joint investigation with Italy Brazils federal police said in a statement', 'Here are three of the principal areas covered in his testimony to a parliamentary committee investigating lessons learned from the crisis which has cost Britain nearly 128000 lives the worst toll in Europe'], 'leave': ['Migrant workers in Lebanon have been hit hard by its multiple crises and half of them left jobless the UN warned Wednesday calling for voluntary returns to be scaled up', 'His centreright coalition currently controls 45 seats in the 90seat parliament several MPs having left the government camp in recent months', 'The stadium is one of a growing list of venues across Melbourne visited by positive cases leaving state health officials rushing to test and trace across the city of five million which endured a devastating fourmonth lockdown after an outbreak last year', 'The 51yearold Italian still has a year left in his contract but has been at loggerheads with the cashstrapped clubs Chinese owners Suning over planned cost cutting which would prevent him building the team he wants to challenge at home and in Europe', 'An early collision between Juan Foyth and Pogba left the former Tottenham defender bloodied but both sides were slow to click into gear on a damp and chilly night on the Baltic coast', 'An early collision between Juan Foyth and Pogba left the former Tottenham defender bloodied but both sides were slow to click into gear on a damp and chilly night on the Baltic coast', 'Antonio Conte leaves Inter Milan by mutual agreement', 'The boat left central Niger state and was heading to Wara in northwest Kebbi state when it broke apart and sank Abdullahi Buhari Wara administrative head of Ngaski district said', 'Those without permits by comparison have to print out a permission form every time they want to leave the house which is allowed for essential reasons only', 'The development is the latest step towards the 74yearold Trump who left the White House in January possibly becoming the first ever exUS leader to face criminal charges', 'Conte 51 had a year left on his threeyear contract after joining the club in 2019', 'The boat left central Niger state and was heading to northwest Kebbi state when it split and sank Abdullahi Buhari Wara administrative head of Ngaski district said', 'Campenaerts withdrawal leaves the South African team down to five riders with the race to finish in Milan on Sunday after the withdrawals of Italians Domenico Pozzovivo and Giacomo Nizzolo', 'Hundreds of residents began leaving the city again in the afternoon heading southwest to the Masisi region or to across the border to Rwanda And some headed to Gomas port to take a boat to safety', 'Czech Republic coach Jaroslav Silhavy had left a spot open for Kudela when he named his Euro 2020 squad on Tuesday but will now have to name someone else'], 'let': ['A superficial look at the simple sales multiples shows that the US providers multiple of 99 over the last 15 years is significantly higher than the 56 of their European competitors However if the stock market value is not only assessed on the basis of the simple sales multiple but average growth1 is taken into account and both are placed in relation to each other a completely different picture emerges This puts the significance of the sales expectation for the next year into perspective', 'We had a very challenging culture Cassell said Ive heard people say let them play dont look at results but when do you turn on the tap to be a winner', 'Engine No 1s Gregory Goff and Kaisa Hietala secured enough votes to join ExxonMobils board along with Chief Executive Darren Woods and several other incumbent directors who were reelected said ExxonMobil corporate secretary Stephen Littleton', 'Littleton said the vote was too close to call on whether the other two Engine No 1 candidates would join the board instead of incumbent directors and that a final outcome may not be known for some period of time', 'Complete list of South African Premiership title winners after Mamelodi Sundowns were crowned champions on Wednesday', 'Established in 1981 COMPUTEX is one of the leading global ICT IoT and startup tradeshows with a complete supply chain and IoT ecosystems Coorganized by the Taiwan External Trade Development Council TAITRA and Taipei Computer Association TCA COMPUTEX based upon Taiwans complete ICT clusters covers the whole spectrum of the ICT industry from established brands to startups and from ICT supply chain to IoT ecosystems With strong RD and manufacturing capabilities and IPR protection Taiwan is a strategic destination for foreign companies and investors looking for partners in global technology ecosystems Follow COMPUTEX on its website at wwwcomputextaipeicomtw and Twitter computextaipei using the hashtag COMPUTEX', 'Its official motto  in lettering above Leo the Lion  Ars Gratia Artis or Art for arts sake', 'South Sudans President Salva Kiir  who is mediating the talks  urged both sides to embrace the spirit of dialogue and let their attention shift to peace instead of thinking of war', 'Temenos SIX TEMN the banking software company is accelerating its leadership in the cloud by introducing the nextgeneration in SaaS The Temenos Banking Cloud This combines the industrys most complete banking services covering all segments and all geographies with a Sandbox for fast innovation and the Temenos MarketPlace for fintech collaboration all powered by a new AIenabled engine to drive banks business growth and accelerate time to market With Temenos Banking Cloud banks now have the power to selfprovision alwayson banking services and scale instantly and securely while dramatically reducing the cost of operations to 10 of legacy systems Join TCF Online with over 10000 attendees to find out more', 'Collaborate with the most complete fintech marketplace Instant access to Temenos MarketPlace with the most innovative fintechs such as Plaid Taurus Tink and Wise The fintech solutions are preintegrated so they can be rapidly consumed for a quick timetovalue Developers can work with open APIs to extend their banking services by inviting fintechs and developers to the Sandbox environment and collaborate', 'Monde Nissin Corporation Monde Nissin or the Company today announced that it completed the offering period for its proposed initial public offering IPO of 3600000000 Common Shares the Offering at a price of Php1350 per share with an overallotment option of a further 540000000 Common Shares granted by the Selling Shareholder', 'Lausannes Diamond League athletics meeting on August 26 can be held in front of a capacity crowd organisers announced on Wednesday', 'Organisers Athletissima welcomed the Swiss governments easing of Covid19 measures announced Wednesday saying that in consequence the Lausanne meet can be held at a full stadium', 'Switzerland said its fourth wave of easing coronavirus measures would take place on Monday with the wealthy Alpine nation moving to a stabilisation phase in managing the pandemic as it eyes completing the vaccination of highrisk groups by the end of May', 'Those two have suspected links to very rare but very serious instances of blood clots coupled with low platelet levels which were seen in several deaths', 'The woman died on Friday after being admitted to hospital with severe thrombosis and a deficit of blood platelets it said', 'In 2018 the Scandinavian country topped the ranking though the data was incomplete that year as some countries were missing', 'The Athletic website had first reported allegations against Callaway in February with the coach accused of sexually harassing multiple female journalists over a period spanning several years', 'He wasnt about to let it happen again', 'For a selection of upcoming events and a preview of our top stories sign up to our newsletter AFP Agenda Highlights httpspageafpcomSubscriptionpreferencecenterhtml', 'Singers agent Laurent Delage likens the challenge facing the musicians to elite athletes who have to fire up the machine again after a period of inactivity', 'In the ornate Golden Hall of the Musikverein considered one of the worlds finest concert halls and home to a worldfamous New Years concert one of those athletes is French bassoonist Sophie Dervaux'], 'lift': ['Analysts greeted reports that Senate Republicans plan to lift their infrastructure package to 1 trillion bringing them somewhat closer to President Joe Bidens latest offer costing 17 trillion', 'The event falls after the scheduled lifting of coronavirus restrictions on crowd numbers attending outdoor sporting events in Switzerland on August 20', 'Switzerland will reopen indoor restaurants and people will no longer be required to work from home the government announced Wednesday saying it was lifting Covid restrictions faster than previously planned', 'Up to four people will be allowed at a table though contact details will have to be recorded Masks will have to be worn when moving around inside and the 1100 pm curfew is being lifted'], 'pass': ['Many are unable to pay for return flight and in some cases are not free to do so as a result of an infamous sponsorship system known as Kafala whereby they relinquish their passports to the agencies that find them work', 'This is the second time the fragmented centreleft opposition has failed to pass a noconfidence motion against him their first attempt having fallen in February', 'Belarus on Wednesday accused French authorities of committing an act of air piracy after a Belarusian passenger plane flying from Minsk to Barcelona was denied passage through French airspace and turned back', 'Belarusian state carrier Belavia said that flight B2869 with 56 passengers on board had been refused permission to go through French airspace and had to spend around two hours in midair before returning to Minsk', 'The Belarusian foreign ministry said that most of the passengers onboard were EU citizens adding that their safety was put at risk', 'The colossal profits of the gas operations do not pass through the coffers of the Myanmar state but are massively recuperated by a company totally controlled by the military Le Monde found', 'Passage of an infrastructure package would add to momentum behind the reopening US economy On the downside investors are monitoring signs of rising inflation amid fears higher prices could prompt a sudden shift in Federal Reserve policy', 'More than 150 people were missing and feared drowned in northwest Nigeria on Wednesday after an overloaded boat ferrying passengers to a market sank in the Niger River local officials said', 'The boat capacity was not up to the 180 passengers it carried Birma said', 'The boat involved was a wooden boat which was old and very weak but these people skippers would not listen when we sensitised them to reduce the number of passengers they carry in their boats Birma said', 'He said passengers were heading to a market in Malele in Borgu local government area of Niger state when the boat sank an hour into the journey', 'Local district administrator Abdullahi Buhari Wara earlier blamed the accident on overloading as the boat was meant to ferry no more than 80 passengers', 'The German Cycling Federation BDR said Wednesday it had pulled out of the European track championships scheduled for Minsk in June over Belaruss diversion of a passenger plane and arrest of a dissident on board', 'European leaders who accuse the authorities in Minsk of effectively hijacking the passenger flight this week agreed to cut air links with Belarus and told airliners to avoid the countrys airspace', 'Dan Dickinson Chief Information Officer EQ Bank said As Canadas first digitalonly challenger we turned to Temenos SaaS to easily scale to meet customer demand grow deposits much more quickly at a lower cost and pass on the benefits to our customers With The Temenos Banking Cloud we can accelerate our business growth and benefit from unlimited innovation through the Sandbox and Temenos MarketPlace capabilities', 'European leaders are now accusing authorities in Minsk of essentially hijacking the passenger flight and they agreed this week to cut air links with Belarus and told airliners to avoid the countrys airspace', 'Dozens of people were missing in northwest Nigeria on Wednesday after an overloaded boat ferrying around 160 passengers sank in the Niger River a local official said', 'A rescue operation is underway but only 22 survivors and one dead body have been recovered Wara said We are talking of around 140 passengers still missing', 'Wara blamed the Kebbi accident on  overloading as the boat was meant to ferry not more than 80 passengers', 'European leaders are now accusing authorities in Minsk of essentially hijacking the passenger flight and they agreed this week to cut air links with Belarus and told airliners to avoid the countrys airspace', 'People in Chile who have been vaccinated and are fully immunized against the coronavirus could from Wednesday obtain a pass to move about more freely a move criticized by health professionals', 'The pass which can be downloaded on a persons mobile phone two weeks after receiving their second shot gives the bearer permission to move about freely in cities under lockdown to go to the supermarket pharmacy or for open air exercise', 'Pass holders can also travel between cities and towns not under lockdown', 'Face masks remain compulsory for everyone indoors and out and the pass will not be valid during the daily 1000 pmto500 am curfew It also does not replace the permission people need to go back to work the government has said', 'The measure came into force as Chile passed the 50percent mark of fully vaccinated adults  over 77 million to date out a 152 million target population', 'The countrys Medical College and nine medical associations are not in favor of the vaccine pass given the persistently high infection rate', 'US Senate Majority Leader Chuck Schumer on Wednesday said he would push for rapid passage of a bill that would allocate tens of billions of dollars towards boosting American industrial and technological competitiveness particularly against China', 'With both American political parties increasingly worried about competition from Beijing Schumer hopes he can win bipartisan passage of the US Innovation and Competition Act', 'President Joe Biden has pledged to work with opposition Republicans on key issues and as Democrats control the Senate by a single vote Schumer would need backing from several Republicans to forestall a potential filibuster that could block passage of the legislation', 'Zuma was impassive as he faced the court in the eastern city of Pietermaritzburg where numerous supporters and relatives were gathered', 'Zuma was impassive as he faced the court in the eastern city of Pietermaritzburg where numerous supporters and relatives were gathered', 'Dozens of people were missing in northwest Nigeria on Wednesday after an overloaded boat ferrying around 160 passengers sank in the Niger River a local official said', 'A rescue operation is underway but only 22 survivors and one dead body have been recovered Wara said We are talking of around 140 passengers still missing', 'Wara blamed the Kebbi accident on  overloading as the boat was meant to ferry not more than 80 passengers'], 'prepare': ['Weve heard from shareholders about their desire to catalyze further progress at ExxonMobil and we are well prepared to deliver Woods said after the vote', 'France was also prepared to impose targeted sanctions French President Emmanuel Macron said after a European Union summit', 'France was also prepared to impose targeted sanctions French President Emmanuel Macron said after a European Union summit', 'France was also prepared to impose targeted sanctions Macron said after a European Union summit', 'Classical musicians in Vienna are preparing to return to live performances after long months without audiences which have severely tested their motivation and for some even thrown their careers into question'], 'provide': ['European investment bank Bryan Garnier  Co today presented a study that clearly refutes the widespread structural undervaluation of European software vendors When the usual EVsales multiples enterprise value  expected sales for the next year are related to the average expected growth over three years CAGR European software vendors are even trading at a valuation premium of around nine percent eight percent in the case of SaaS providers compared to their US competitors', 'A superficial look at the simple sales multiples shows that the US providers multiple of 99 over the last 15 years is significantly higher than the 56 of their European competitors However if the stock market value is not only assessed on the basis of the simple sales multiple but average growth1 is taken into account and both are placed in relation to each other a completely different picture emerges This puts the significance of the sales expectation for the next year into perspective', 'For example if in April 2021 Salesforce shares were trading at a revenue multiple of 10 10x expected revenue in 2022 and the expected average revenue growth CAGR for 20202023 is 20 the ratio is 10  02  100 and the newly calculated ratio is 050 The analyst did this calculation for the 15 years up to April 2021 and came up with a surprising result which is that the valuations of software companies on the European stock exchanges are not only on par with the companies listed in the US they are slightly higher For the Europeans this results in an average valuation that is nine percent higher than that of their US competitors The same principle applied to the 29 or 67 US listed SaaS providers over a fouryear period yields almost the same result here the average premium is eight percent', 'The study also shows that the differences in the individual valuations of software providers listed in Europe are wider than those of their US competitors This dispersion cannot be explained by a significant number of lossmaking companies among European software vendors nor by the liquidity of their shares Contrary to another common prejudice the most highly valued European software stocks are by no means always the most liquid nor are they necessarily listed on the most liquid markets', 'Bryan Garnier  Co explain that the heterogeneity of the valuation of European software providers is a result of very different business models track records and corporate governance Above all the degree of maturity of the European companies is very different while US companies almost always have a long maturation process with numerous financing rounds behind them before going public', 'Biodiversity loss has emerged as a concern for responsible investors financial regulators and companies whose activities have an impact and depend on natural capital with scientists warning that the world is in the midst of a sixth mass extinction as nature is declining at unprecedented rates The report outlines Moodys ESG Solutions framework for assessing biodiversity risk which can provide a foundation for understanding the biodiversity risks of companies in investment and lending portfolios', 'Impacts dependencies and governance are critical elements to consider when assessing companies biodiversityrelated risks said Emilie Mazzacurati Global Head of Moodys Climate Solutions Our analytics aim to provide transparency for the market on how businesses operations may affect biodiversity their dependency on natural systems and to what extent companies are taking steps to mitigate these impacts across their value chains', 'COMPUTEXVirtual the allnew smart online platform will use AI and automation technology to create an exceptional digital journey for users by providing a personalized interactive experience Visitors will be able to obtain the latest product information in realtime', 'To maximize the benefits for exhibitors COMPUTEXVirtual will provide multiple effective timely communication channels for exhibitors and visitors such as video conferencing meeting requests and instant messaging Exhibitors can use AI technology to identify target audiences and promote products HyperPersonalized Recommendations will also help increase the matchmaking accuracy and enable companies to seize business opportunities effectively', 'Biodiversity loss has emerged as a concern for responsible investors financial regulators and companies whose activities have an impact and depend on natural capital with scientists warning that the world is in the midst of a sixth mass extinction as nature is declining at unprecedented rates The report outlines Moodys ESG Solutions framework for assessing biodiversity risk which can provide a foundation for understanding the biodiversity risks of companies in investment and lending portfolios', 'Impacts dependencies and governance are critical elements to consider when assessing companies biodiversityrelated risks said Emilie Mazzacurati Global Head of Moodys Climate Solutions Our analytics aim to provide transparency for the market on how businesses operations may affect biodiversity their dependency on natural systems and to what extent companies are taking steps to mitigate these impacts across their value chains', 'Mr Soesanto added Our Quorn and AsiaPacific Branded Food and Beverage businesses are a powerful combination to advance our mission of food safety and food security Quorn is a leading player in the fastgrowing global meat alternatives segment with a loyal customer following and a defining set of healthy sustainable products Our AsiaPacific Branded Food and Beverage business is widely recognized for its leadership positions across each of its core segments We intend to stay ahead of consumer demands through innovation and investment in technology to provide healthier and more delicious food', 'Amazon will help preserve MGMs heritage and catalog of films and provide customers with greater access to these existing works Through this acquisition Amazon would empower MGM to continue to do what they do best great storytelling', 'A healthy mouth has minimal plaque buildup ensuring oral bacteria cannot multiply cause cavities gum deterioration or spread beyond the mouth However when plaque buildup is present around the gum line and between teeth it shelters oral bacteria including Pgingivalis from your toothbrush and natural defences This provides the perfect conditions for the bacteria to thrive and cause inflammationcausing toxins that are known to spread throughout the rest of the body', 'Qatar announced Wednesday it would provide 500 million for Gazas reconstruction after the Palestinian enclave was battered by Israeli air strikes in 11 days of hostilities between the Jewish state and armed Palestinian groups', 'Kymeta Corporation wwwkymetacorpcomthe communications company making mobile globalannounced today that the Committee on Foreign Investment in the United States CFIUS has approved a 30 million investment by Hanwha Systems Co Ltd HSC wwwhanwhacom a leading global solutions company that provides differentiated smart technologies in defense electronics and information infrastructure in Kymeta', 'The approval provided by CFIUS clears the way for HSC and Kymeta to close on the transaction that was jointly announced last December The investment moves Kymeta one step closer toward developing solutions that are future proof and interoperable with both LEO and GEO mega constellations Today the Kymeta u8 is the only commercially available flat panel antenna that is compatible with LEO and GEO satellite constellations and enabled to take advantage of the growing capacity within space', 'Harassment has no place within Major League Baseball and we are committed to providing an appropriate work environment for all those involved in our game', 'The actions undertaken by Belarus amounted to an increased safety risk for the abovementioned flight and put into question the ability of Belarus to provide safe air navigation services', 'They led 7147 at halftime with Harris providing plenty of fireworks'], 'secure': ['At ExxonMobil two board nominees from activist group Engine No 1 won enough votes to secure board seats Shareholders also backed a proposal requiring a report on the oil giants lobbying activities on climate change', 'Engine No 1s Gregory Goff and Kaisa Hietala secured enough votes to join ExxonMobils board along with Chief Executive Darren Woods and several other incumbent directors who were reelected said ExxonMobil corporate secretary Stephen Littleton', 'Five days ago Inter secured a cash injection worth 275 million euros 336 million with US investment firm Oaktree in the form of a loan reported to be over three years', 'Temenos SIX TEMN the banking software company is accelerating its leadership in the cloud by introducing the nextgeneration in SaaS The Temenos Banking Cloud This combines the industrys most complete banking services covering all segments and all geographies with a Sandbox for fast innovation and the Temenos MarketPlace for fintech collaboration all powered by a new AIenabled engine to drive banks business growth and accelerate time to market With Temenos Banking Cloud banks now have the power to selfprovision alwayson banking services and scale instantly and securely while dramatically reducing the cost of operations to 10 of legacy systems Join TCF Online with over 10000 attendees to find out more'], 'serve': ['There will be a Digital Healthcarethemed pavilion introducing the industrial rookies of Digital Wellness Mobile Healthcare Digital Therapeutics Big Data and AI etc Also COVID19 show room will show participants how biohealth serves as a cure for the pandemic', 'What we have observed is that thousands of displaced have been fleeing the sites because they dont feel safe and they believe that the spaces are no longer safe', 'Passage of an infrastructure package would add to momentum behind the reopening US economy On the downside investors are monitoring signs of rising inflation amid fears higher prices could prompt a sudden shift in Federal Reserve policy', 'Based on a sample of 5300 large publicly traded global companies over 2000 38 have at least one facility associated with habitat loss according to a report by Moodys ESG Solutions published today Leveraging high resolution remote sensing data and a database of global corporate facilities the report identifies which facilities are associated with observed habitat loss due to land use changes which is the main driver of biodiversity loss', 'Based on a sample of 5300 large publicly traded global companies over 2000 38 have at least one facility associated with habitat loss according to a report by Moodys ESG Solutions published today Leveraging high resolution remote sensing data and a database of global corporate facilities the report identifies which facilities are associated with observed habitat loss due to land use changes which is the main driver of biodiversity loss', 'US Ryder Cup captain Steve Stricker said last week that he hoped Woods would well enough to serve as an assistant captain at the US v Europe showdown at Whistling Straits in Wisconsin in September', 'We are focusing on creating a large sustainable ecosystem where our o9 global organization will serve as an enabler of a much larger pool of skills and capabilities across partners both consulting and technology We continue to rapidly grow our partner network and since 2020 have certified more than a thousand consultants as o9 implementers We expect to double that in 2021 with a high quality program focused on delivering certifications in technical skills of architecting and configuring the o9 platform as well as advanced analytics skills in ML and big data analytics that are integral part of o9 solutions that we deliver to our clients says Igor Rikalo President and COO of o9', 'UBS AG Singapore Branch Citigroup Global Markets Limited and JP Morgan Securities plc served as Joint Global Coordinators and Joint Bookrunners for the offering BDO Capital  Investment Corporation BPI Capital Corporation and First Metro Investment Corporation were the Local Lead Underwriters and Joint Bookrunners Credit Suisse Singapore Limited served as the Joint International Bookrunner Macquarie Capital Securities Singapore Pte Limited and Jefferies Singapore Limited served as the International CoBookrunners China Bank Capital Corporation PNB Capital and Investment Corporation and SB Capital Investment Corp were the Domestic CoLead Underwriters', 'Amazon will help preserve MGMs heritage and catalog of films and provide customers with greater access to these existing works Through this acquisition Amazon would empower MGM to continue to do what they do best great storytelling', 'Diabetes  There is a twoway relationship between diabetes and periodontitis with more severe periodontal tissue destruction observed in diabetic populations due to poorly controlled glucose levelsiiiiv', 'As of Monday restaurants will once again be able to serve guests indoors the statement announced', 'Born in 1927 he enlisted in the military at 17 several months before the end of World War II and five years later found himself serving in the Marines in the Korean War', 'The legislation will supercharge American innovation and preserve our competitive edge not just for the next few years but for generations to come Schumer said in the Senate', 'The Democratic leader has collaborated with at least one Republican senator on the bill and said the bipartisan support reveals that Democrats and Republicans are united in our efforts to preserve and maintain American leadership on the world stage', 'The current spike in inflation is unlikely to pose a persistent threat to the US economy and prematurely heeding calls to act could derail the recovery from the Covid19 downturn a top Federal Reserve official said Wednesday', 'A succession of US Federal Reserve officials have continued to repeat the mantra that while the rebound will likely fan inflation it will not last long and the central bank will not step back from its supportive measures  including record low interest rates  for the foreseeable future', 'Billings an established member of Englands whiteball squads has yet to be capped at Test level and is likely to be reserve with James Bracey set to get the nod', 'Investors continue to monitor signs of rising inflation amid fears higher prices could prompt a sudden shift in Federal Reserve policy'], 'support': ['But he continues to enjoy solid support from Russian President Vladimir Putin who is hosting the Belarusian leader on Friday', 'The Temenos Banking Cloud is powered by an Explainable AI engine with advanced data analytics so banks can test report and measure product performance and gain insight to support business decisions and product design Through the selfservice portal IT users and developers can spin up fully provisioned environments benefit from realtime dashboards on usage and billing configure permissions and manage security credentials Temenos AI advisors offer recommendations to banks to proactively manage usage and service health', 'The US top diplomat already met with Israeli and Palestinian leaders to throw Washingtons support behind the Friday truce that ended 11 days of heavy Israeli bombing of Gaza and rocket fire from the enclave into Israel', 'After meeting earlier Tuesday with Israeli Prime Minister Benjamin Netanyahu he reiterated support for Israels right to defend itself against rocket attacks by Gazas Hamas rulers adding that they must not benefit from the international reconstruction aid', 'The state of Qatar announces 500 million in support for the reconstruction of Gaza Qatari Foreign Minister Sheikh Mohammed bin Abdulrahman Al Thani tweeted', 'We will continue to support our brothers in Palestine to reach a just and lasting solution by establishing their independent state', 'He backed President George W Bushs declaration of war in Iraq but headed a breakaway group of Republicans supporting a Senate resolution condemning Bushs strategy to increase US troops in Iraq', 'The investment from HSC will further Kymetas global market reach accelerate production and improve the overall growth trajectory of the company The funding will support increased unit production enhanced customer experience and the ongoing development of Kymetas next generation capabilities With the capital investment HSC will also receive a seat on the Kymeta Board of Directors', 'HSC plans to support Kymetas metamaterialbased antenna technology and gain a foothold in the rapidly growing Low Earth Orbit LEO antenna market', 'Ukraine which applied to join the USled alliance in 2008 is pressing Western powers for more support as it seeks to deter any new aggression from Moscow', 'This is purely political and an affront to the almost 75 million voters who supported me in the Presidential Election and its being driven by highly partisan Democrat prosecutors Trump charged in his statement', 'The White House said Tuesday that it supported plans to hold the Games with press secretary Jen Psaki saying our position has not changed on the Olympics', 'The Democratic leader has collaborated with at least one Republican senator on the bill and said the bipartisan support reveals that Democrats and Republicans are united in our efforts to preserve and maintain American leadership on the world stage', 'The uneven recovery in US trading partners and supply bottlenecks pose headwinds to the American economy but generous government stimulus programs mean consumers have an accumulated stock of savings that will support spending for many months to come Quarles said', 'A succession of US Federal Reserve officials have continued to repeat the mantra that while the rebound will likely fan inflation it will not last long and the central bank will not step back from its supportive measures  including record low interest rates  for the foreseeable future', 'We appreciate Major League Baseballs diligent investigation and support their decision', 'My family and I fully support MLBs strong stance against harassment and discrimination and are grateful to the commissioner and his office for their thorough investigation Callaway said', 'Zuma was impassive as he faced the court in the eastern city of Pietermaritzburg where numerous supporters and relatives were gathered', 'His successor Cyril Ramaphosa has vowed to stamp out graft but is meeting resistance from proZuma figures who command grassroots support in the ANC', 'Zuma was impassive as he faced the court in the eastern city of Pietermaritzburg where numerous supporters and relatives were gathered', 'The US top diplomat already met Tuesday with Israeli and Palestinian leaders to throw Washingtons support behind the truce that ended 11 days of heavy Israeli bombing of Gaza and rocket fire from the enclave into Israel', 'After meeting Israeli Prime Minister Benjamin Netanyahu he reiterated support for Israels right to defend itself against rocket attacks by Gazas Hamas rulers adding that they must not benefit from the reconstruction aid'], 'sustain': ['We are focusing on creating a large sustainable ecosystem where our o9 global organization will serve as an enabler of a much larger pool of skills and capabilities across partners both consulting and technology We continue to rapidly grow our partner network and since 2020 have certified more than a thousand consultants as o9 implementers We expect to double that in 2021 with a high quality program focused on delivering certifications in technical skills of architecting and configuring the o9 platform as well as advanced analytics skills in ML and big data analytics that are integral part of o9 solutions that we deliver to our clients says Igor Rikalo President and COO of o9', 'Mr Soesanto added Our Quorn and AsiaPacific Branded Food and Beverage businesses are a powerful combination to advance our mission of food safety and food security Quorn is a leading player in the fastgrowing global meat alternatives segment with a loyal customer following and a defining set of healthy sustainable products Our AsiaPacific Branded Food and Beverage business is widely recognized for its leadership positions across each of its core segments We intend to stay ahead of consumer demands through innovation and investment in technology to provide healthier and more delicious food', 'Foakes sustained the injury on Sunday slipping in the dressing room after Surreys County Championship fixture against Middlesex at the Kia Oval read an England Wales Cricket Board ECB statement', 'The 18yearold university student died from what appeared to be a gunshot wound sustained during a protest late Tuesday in Tulua in western Colombia', 'This objective has to be achieved in a framework of sustainability and solidarity especially in a precarious economic situation such as the one many clubs in Europe are currently experiencing'], 'warrant': ['But the minute theres a new international arrest warrant from Italy which was approved by the Supreme Federal Court of Brazil the Brazilian federal police can no longer order the expulsion and the extradition must be carried out he explained', 'Having reviewed all of the available evidence I have concluded that Mr Callaway violated MLBs policies and that placement on the ineligible list is warranted MLB commissioner Rob Manfred said in a statement', 'At the same time the EASA said it did not believe the safety concern relating to the incident comprised an unsafe condition that would warrant a safety directive which would force airlines to comply', 'But the minute theres a new international arrest warrant from Italy which was approved by the Supreme Federal Court of Brazil the Brazilian federal police can no longer order the expulsion and the extradition must be carried out he explained']}\n"
     ]
    }
   ],
   "source": [
    "for k in enable_sentences.keys():\n",
    "    x = [sentences_list[s] for s in range(len(s_list)) if k in s_list[s]]\n",
    "    enable_sentences[k] = x\n",
    "print(enable_sentences)"
   ]
  },
  {
   "cell_type": "code",
   "execution_count": 38,
   "id": "becd7c18",
   "metadata": {},
   "outputs": [
    {
     "name": "stdout",
     "output_type": "stream",
     "text": [
      "{'anticipate': ['computex 2021 will kick off with the highly anticipate ceo Keynotes from May 31 to June 2 key industry executive will discuss topic cover AI highperformance compute HPC and other technology trend Simon segar ceo of Arm Dr Lisa Su President and CEO of AMD Sanjay Mehrotra President and CEO of Micron Charles Liang Founder President and CEO of Supermicro and Kurt Sievers President and CEO of NXP Semiconductors be among the speaker lineup', 'a headed clearance at a corner drop to Rashford whose drag volley ricochet into the path of Cavani to stab home with Rulli unable to recover after anticipate the initial shot', 'a headed clearance at a corner drop to Rashford whose drag volley ricochet into the path of Cavani to stab home with Rulli unable to recover after anticipate the initial shot'], 'arrest': ['Poland on Wednesday adopt a ban on belarusian flight use its airspace as part of EUwide sanction agree this week after Belarus arrest a dissident journalist on a divert flight', 'on Sunday Belarusian authority divert a european plane to arrest an exiled dissident spark global fury', 'Poland on Wednesday adopt a ban on belarusian flight use its airspace as part of EUwide sanction agree this week after Belarus arrest a dissident journalist on a divert flight', 'the mass arrest be carry out in the town of Shire late Monday by soldier from Ethiopia and neighbour Eritrea which be also involve in the sixmonthold conflict against troop loyal to Tigrays oust rule party', 'Tewodros Aregai interim head of Tigrays Northwestern Zone tell AFP Tuesday the arrest be spur by report that antigovernment force have infiltrate the camp', 'the army and police deploy hundred of heavily armed troop in the street of Bujumbura and arrest dozen of people witness say', 'malis interim president and prime minister resign as part of mediation effort Wednesday after be arrest in an apparent second military coup in nine month a top junta aide say', 'the German Cycling Federation BDR say Wednesday it have pull out of the european track championship schedule for Minsk in June over Belaruss diversion of a passenger plane and arrest of a dissident on board', 'international disapproval of Belarus and its president Alexander Lukashenko have increase since the regime divert a Ryanair jet on Sunday to arrest Roman Protasevich an opposition journalist who be on board', 'italian mob boss Rocco Morabito who be arrest this week in northeast Brazil will be extradite to Italy say prosecutor Tuesday in Uruguay where the Mafia capo or captain have escape from prison in 2019', 'Diaz say that Uruguays plan have originally be that if arrest in Brazil Morabito would be expel by the brazilian authority to Uruguay from there he would have be extradite from Uruguay to Italy since the extradition process be already before the Supreme Court and be expect to be quick', 'but the minute there s a new international arrest warrant from Italy which be approve by the Supreme Federal Court of Brazil the brazilian federal police can no long order the expulsion and the extradition must be carry out he explain', 'Morabito be want in Italy on charge of drug trafficking he have live under a fake identity in Uruguay for 13 year before his arrest in a Montevideo hotel in 2017', 'Rocco Morabito number two on the italian interior ministry most dangerous fugitive list be arrest Monday in northeast Brazil', 'the United States and western european member of the UN Security Council call Wednesday for the International Civil Aviation Organization ICAO to investigate Belarus diversion of a european flight and arrest of a dissident on board', 'in his first public statement since the Ryanair flight be divert and opposition journalist and activist Roman Protasevich arrest on Sunday Lukashenko dismiss the subsequent international outcry', 'in New York the UN Security Council strongly condemn the ouster and arrest of President Bah Ndaw and Prime Minister Moctar Ouane and call for a return to civilian government   but do not discuss punitive measure', 'Cisse say the president prime minister and other transition leader arrest on Monday would be release but this would happen gradually for obvious security reason he give no timeline', 'a defiant President Alexander Lukashenko on Wednesday defend Belaruss diversion of a european flight and arrest of a dissident on board lash out at critic at home and abroad', 'in his first public statement since the Ryanair flight be divert and opposition journalist Roman Protasevich arrest on Sunday Lukashenko dismiss the international outcry the incident provoke', 'he be arrest in Japan in November 2018 on financial misconduct allegation and spend 130 day in detention before jump bail and smuggle himself out of the country in late 2019', 'the European Union react furiously after the Ryanair flight be intercept by a fighter jet and force to land in Minsk on Sunday so that authority could arrest opposition journalist Roman Protasevich', 'a defiant President Alexander Lukashenko on Wednesday defend Belaruss diversion of a european flight and arrest of a dissident on board lash out at critic at home and abroad', 'in his first public statement since the Ryanair flight be divert and opposition journalist Roman Protasevich arrest on Sunday Lukashenko dismiss the international outcry the incident provoke', 'italian mob boss Rocco Morabito who be arrest this week in northeast Brazil will be extradite to Italy say prosecutor Tuesday in Uruguay where the Mafia capo or captain have escape from prison in 2019', 'Diaz say that Uruguays plan have originally be that if arrest in Brazil Morabito would be expel by the brazilian authority to Uruguay from there he would have be extradite from Uruguay to Italy since the extradition process be already before the Supreme Court and be expect to be quick', 'but the minute there s a new international arrest warrant from Italy which be approve by the Supreme Federal Court of Brazil the brazilian federal police can no long order the expulsion and the extradition must be carry out he explain', 'Morabito be want in Italy on charge of drug trafficking he have live under a fake identity in Uruguay for 13 year before his arrest in a Montevideo hotel in 2017'], 'avoid': ['the EU ban belarusian plane from the blocs airspace and urge EU airline to avoid fly over the exsoviet country rule by Alexander Lukashenko often dub Europes last dictator', 'thousand of australian Rules football fan be tell to selfisolate and get test for coronavirus Wednesday after an infected spectator attend a match in Melbourne and the city race to avoid another lockdown', 'european leader who accuse the authority in Minsk of effectively hijack the passenger flight this week agree to cut air link with Belarus and tell airliner to avoid the countrys airspace', 'a senior UN official have warn the Security Council that urgent measure be need to avoid famine in the wartorn region of Tigray in Ethiopia in a briefing see by AFP', 'european leader be now accuse authority in Minsk of essentially hijack the passenger flight and they agree this week to cut air link with Belarus and tell airliner to avoid the countrys airspace', 'the companys defence   articulate ahead of the court case in a series of medium interview by AstraZenecas FrenchAustralian boss Pascal Soriot   rely on a part of the contract that speak of good reasonable effort by AstraZeneca and declaration that production be hit by unavoidable delay', 'the EU ban belarusian plane from the blocs airspace and urge EU airline to avoid fly over the exsoviet country rule by Alexander Lukashenko often dub Europes last dictator', 'but NATO member remain reluctant to embrace Ukraine as they want to avoid ratchet up tension with Russia', 'european leader be now accuse authority in Minsk of essentially hijack the passenger flight and they agree this week to cut air link with Belarus and tell airliner to avoid the countrys airspace', 'if Britain have have the right preparation   competent people in charge it could probably have avoid its first lockdown in March 2020 and definitely escape later one Cummings write as part of a 59message Twitter thread', 'the European Union Aviation Safety Agency easa have urge airline to avoid Belarus airspace follow the countrys interception Sunday of a Ryanair jet bind for Lithuania and force to land in Minsk', 'the EASA say that pende finalisation of an international investigation into the incident operator have their principal place of business in an EASA state should avoid operation in Belarus unless the use of that airspace be deem necessary to ensure safe operation in case of unforeseen circumstance', 'and though they see number that could point to a return of inflation but they have this confidence that the Fed will be there to avoid be too aggressive later', 'there have be call to revamp the UN health agency as well as the entire global approach to health to avoid future catastrophe'], 'ban': ['Poland on Wednesday adopt a ban on belarusian flight use its airspace as part of EUwide sanction agree this week after Belarus arrest a dissident journalist on a divert flight', 'the Council of Ministers have adopt a ban on the entry into polish airspace of aircraft use by carrier from Belarus government spokesman Piotr Muller say on Twitter', 'Poland share a long border with Belarus and the ban be expect to have a major effect on flight by belarusian carrier include the national airline Belavia to western Europe', 'polish government official Michal Dworczyk tell Polsat news channel that Poland be the fourth country to adopt such a ban this week follow France Lithuania and Ukraine', 'EU leader at their summit this week agree in principle to ban belarusian airline from the bloc and urge EUbased carrier not to fly through belarusian airspace', 'migrant worker in Lebanon have be hit hard by its multiple crisis and half of they leave jobless the UN warn Wednesday call for voluntary return to be scale up', 'the combined effect of Lebanons economic collapse the Covid19 pandemic and last year deadly Beirut port explosion have worsen already dire living condition for migrant worker', 'the plight of migrant worker in Lebanon   include many from the Philippines Ethiopia Bangladesh and Sierra Leone   have come under increase scrutiny in recent year over case of mistreatment', 'as the economic situation continue to deteriorate and employment opportunity remain limited migrant vulnerability to exploitation and abuse be likely to increase say Mathieu Luciano the agencys Lebanon chief', 'the lebanese currency have lose more than 85 percent of its value against the dollar in an economic crisis that have send poverty level above 50 percent of the population', 'the UN survey find that around half of respondent want to go home but be stick in Lebanon', 'clearly and base on this worrying assessment there be an urgent need to rapidly scale up voluntary return assistance service in Lebanon say Luciano', 'the IOM say it be seek funding to offer more voluntary return to the thousand of migrant worker strand in crisishit Lebanon', 'european investment bank Bryan Garnier   Co today present a study that clearly refute the widespread structural undervaluation of european software vendor when the usual EVsales multiple enterprise value   expect sale for the next year be relate to the average expect growth over three year CAGR european software vendor be even trade at a valuation premium of around nine percent eight percent in the case of SaaS provider compare to their US competitor', 'the EU ban belarusian plane from the blocs airspace and urge EU airline to avoid fly over the exsoviet country rule by Alexander Lukashenko often dub Europes last dictator', 'bear and raise in Stockport just six mile 10 kilometre from the club Etihad Stadium Foden be the homegrown hero among a starstudded international squad bankroll by the Abu Dhabi owner', 'Poland on Wednesday adopt a ban on belarusian flight use its airspace as part of EUwide sanction agree this week after Belarus arrest a dissident journalist on a divert flight', 'the Council of Ministers have adopt a ban on the entry into polish airspace of aircraft use by carrier from Belarus government spokesman Piotr Muller say on Twitter', 'an independent inquiry last week find that BBC executive know interviewer Martin Bashir commission fake bank statement that falsely suggest Dianas close aide be be pay by the security service to keep tab on her', 'several retailer surge after report earning result with Urban Outfitters Dicks Sporting Goods and Abercrombie   Fitch all gain more than 10 percent amid hope for a strong industry recovery', 'these unclaimed attack come after several ambush attribute to armed bandit in Burundi', 'Nucleararmed North Korea be advance on the front line of cyberwarfare analyst say steal billion of dollar and present a clear and more present danger than its ban weapon programme', 'Temenos SIX TEMN the banking software company be accelerate its leadership in the cloud by introduce the nextgeneration in SaaS the Temenos Banking Cloud this combine the industry most complete banking service cover all segment and all geography with a Sandbox for fast innovation and the Temenos MarketPlace for fintech collaboration all power by a new AIenabled engine to drive bank business growth and accelerate time to market with Temenos Banking Cloud bank now have the power to selfprovision alwayson banking service and scale instantly and securely while dramatically reduce the cost of operation to 10 of legacy system Join TCF Online with over 10000 attendee to find out more', 'Max Chuard Chief Executive Officer Temenos saidbank face huge challenge   fierce competition rise customer expectation cost pressure research show that for quite some time 70 of bank can not cover their estimate cost of capital bank can no long wait they need a new approach to run their business and develop banking product', 'build on over 10 year of cloud leadership 1 billion in RD investment and the experience of over 700 saas customer range from global bank to over 70 challenger we be deliver the nextgeneration in SaaS the Temenos Banking Cloud', 'the Temenos Banking Cloud be for both digitalfirst bank that want to launch in week as well as large or complex bank that want to acquire distinct capability launch product fast and progressively migrate customer basis that be service by legacy system', 'we be put bank in control of their business model and innovation cycle give they the agility and speed to build great customer product and profitable business with the Temenos Banking Cloud we empower bank to digitally transform and massively scale fast than ever', 'Chris Sozou General Manager Platforms partnership   Analytics Virgin Money Australia saidOur digital bank have be design with a clear ambition to simplify banking and help customer achieve their financial goal with Temenos saas we can deliver a frictionless digital experience bring together credit card transaction and saving account plus a loyalty program in a single native mobile app with the Temenos Banking Cloud it be easy to integrate with third party and we have an agile platform that easily scale up or down depend on business demand', 'the Temenos Banking Cloud give bank the freedom to innovate fast move from a CapEx to an OpEx model and benefit from a low total cost of ownership Varo Bank use Temenos SaaS estimate that it service customer at 25 of the total cost incur by a traditional bank bank use the Temenos Banking Cloud have benefit from instant and massive scalability a european challenger bank open over 600 k account in 3 month while a global digital disruptor see a staggering number of over 20 M loan application process within 9 month they be already add over 100 k new loan per day which be expect to reach 200 k loan per day over 700 financial institution use Temenos SaaS such as Al Ain Finance Alpian Flowbank Flowe Itau Orange Bank and they will now benefit from all the new rich feature of the Temenos Banking Cloud', 'the Temenos Banking Cloud remove the complexity enable bank to concentrate on their customer rather than their technology with the touch of a button bank can turn on new banking service scale instantly build new application plug into the rich fintech marketplace and proactively manage usage and service health with the Temenos Banking Cloud bank gain', 'fast to time market with Banking Services the industry lead fronttoback Banking Services with localize functionality from over 150 country cover all banking segment the Banking Services be create use Packaged Business Capabilities1 which be align to the BIAN standard they be extensible flexible and open and can be easily configure and integrate with external application the Banking Services can be consume instantly be payasyou go and continuously update safely without the need for big upgrade these Banking Services be build for banking they offer enterprisegrade control to manage missioncritical system', 'unlimited innovation in the Sandbox Temenos Sandbox enable bank to innovate fast by explore new Temenos functionality train their developer and create new application the Sandbox include access to Temenos Banking Services Temenos MarketPlace example datum and integration tool to enable bank to configure new product the Sandbox also offer highquality welldocumente api which be essential connector of open architecture bank can choose to move to production environment in the cloud or onpremise', 'collaborate with the most complete fintech marketplace instant access to Temenos MarketPlace with the most innovative fintech such as Plaid Taurus Tink and Wise the fintech solution be preintegrated so they can be rapidly consume for a quick timetovalue developer can work with open api to extend their banking service by invite fintech and developer to the Sandbox environment and collaborate', 'the Temenos Banking Cloud be power by an explainable AI engine with advanced datum analytic so bank can test report and measure product performance and gain insight to support business decision and product design through the selfservice portal it user and developer can spin up fully provision environment benefit from realtime dashboard on usage and billing configure permission and manage security credential Temenos AI advisor offer recommendation to bank to proactively manage usage and service health', 'as previously announce the Company intend to use the net proceed from the primary offer to fund capital expenditure redeem the Arran Convertible Note and repay loan to commercial bank a copy of Monde Nissins final prospectus be available on the Companys website at httpsmondenissincomcompanyprospectus', 'it give Amazon the fabled Metro Goldwyn Mayer studio an iconic name in Hollywood which have be through a series of ownership change and bankruptcy in recent year', 'the hearing come before french magistrate officially question Ghosn who hold lebanese french and brazilian citizenship on Monday over other judicial inquiry lodge against he in France', 'six french judge include public prosecutor and investigative judge start listen to Ghosns witness testimony at 1100 be 0800 GMT on Wednesday a lebanese judicial source tell AFP', 'want by Interpol Ghosn be effectively trap in Lebanon even as other face court over their link to his case', 'Japan have urge he to return and face trial while Lebanon have ask Japan to hand over his file on financial misconduct charge', 'the EU ban belarusian plane from the blocs airspace and urge EU airline to avoid fly over the exsoviet country rule by Alexander Lukashenko often dub Europes last dictator', 'Warner marry Taylor in 1976 the sixth of her seven husband they divorce in 1982', 'it give Amazon the fabled Metro Goldwyn Mayer studio an iconic name in Hollywood which have be through a series of ownership change and bankruptcy in recent year', 'he preview his testimony in dozen of social medium post claim Johnson have adopt a haphazard approach initially favour a socalled herd immunity strategy before belatedly abandon it when the likely death toll become clear', 'but policymaker will remain patient before tap the break on stimulative policy to ensure job recover and return to what the central bank consider full employment Quarles say in a speech to the Brookings Institution', 'but some economist be wary the US central bank be get behind the curve as a key inflation index hit 23 percent in March', 'he acknowledge that there be some factor drive up price that can not be attribute to temporary factor but say the central bank have the ability to address a more worrying inflation increase', 'but even when the central bank begin to raise its policy interest rate I expect that monetary policy will remain highly accommodative for some time quarle say', 'world stock market be trade in a narrow band Wednesday track inflation fallout as trader weigh economic growth and price growth prospect as country come out of lockdown', 'after rally for more than a year equity have recently be jolt by fear that a forecast surge in economic activity   fuel by reopening stimulus and vaccination   will send price soar and force central bank to wind back their ultraloose monetary policy soon than flag', 'a succession of US Federal Reserve official have continue to repeat the mantra that while the rebound will likely fan inflation it will not last long and the central bank will not step back from its supportive measure   include record low interest rate   for the foreseeable future', 'as a result European Union leader agree a range of sanction against Belarus include ban the country from the blocs airspace and airport', 'but Fed Vice Chair Randal Quarles again try to tamp down concern say current price spike be unlikely to last and warn it would be unwise for the central bank to take action that might slow the recovery prematurely', 'several retailer surge after report earning result with Dicks Sporting Goods jump 17 percent and Urban Outfitters gain more than 10 percent amid hope for a strong industry recovery', 'czech defender Ondrej Kudelas appeal against a 10match racism ban have be reject and he will miss Euro 2020 UEFA announce on Wednesday', 'finland Kamara be also give a threegame ban for assault Kudela in the tunnel after the match', 'the Czech president office even say it have complain to UEFA over Kudelas ban say the ban be only to fulfil the perverted expectation of a narrow group of activist and signify ridiculous bow to silly trend'], 'bar': ['Morabito be one of the most important broker in narcotrafficking say Giovanni Bombardieri chief prosecutor in the southern italian city of Reggio Calabria during an online press conference', 'the Security Council which hold an emergency meeting at the request of former colonial power France and other call for the safe immediate and unconditional release of all the official detain and urge the defense and security force element to return to their barrack without delay', 'Lausanne take place a couple of week after the Tokyo Olympics where overseas fan be already bar with organiser set to decide in June how many domestic spectator can attend if any at all', 'the deceuninckquickstep rider go over the security barrier in a mass fall on the descent down the San Valentino Pass involve six other rider include italian Giulio Ciccone', 'Evenepoel fracture his pelvis after hit a bridge wall and plunge into a ravine during the Tour of Lombardy in Italy last August', 'meanwhile the techheavy Nasdaq rise 03 percent after Asias main stock market have close with gain and main european market be barely in the red', 'elsewhere Wednesday bitcoin briefly bounce back above then fall below the 40000 barrier after a bout of recent volatility fuel by Chinas warning of a crackdown on cryptocurrency use and mining and various tweet by tycoon Elon Musk', 'the airliner depart hour later after authority have forcibly disembark opposition blogger Roman Protasevich and his girlfriend in an action which Brussels decry as a hijacking and act of air piracy'], 'bind': ['the European Union Aviation Safety Agency easa have urge airline to avoid Belarus airspace follow the countrys interception Sunday of a Ryanair jet bind for Lithuania and force to land in Minsk', 'AstraZenecas FrenchAustralian boss Pascal Soriot have argue that his companys contract with the EU bind it only to a good reasonable effort clause'], 'block': ['from Gone with the wind to BenHur to James Bond the iconic MGM movie studio symbolize by its roar lion have a storied history worthy of a Hollywood blockbuster', 'President Joe Biden have pledge to work with opposition Republicans on key issue and as Democrats control the Senate by a single vote Schumer would need backing from several Republicans to forestall a potential filibuster that could block passage of the legislation', 'Davis score 34 point with 10 rebound seven assist and three block shot I want to make sure I make a statement in this game come out with more energy more effort on both end of the floor he say', 'the protester want Duque to acknowledge abuse by the armed force while the president want protester to end road blockade that have cut off supply to several city', 'Real Barcelona and Juventus meanwhile retaliate through a Commercial Court in Madrid which refer the matter to the European Court of Justice ask if UEFA be abuse its dominant position by seek to block a compete tournament', 'durant lead the Nets with 26 point eight rebound five assist and four block shot'], 'contain': ['dismiss the motion against he he say it contain so many absurd thing that there be even no sense in answer to all of they', 'Australias second big city be scramble to contain a grow covid outbreak with 15 case identify so far include one who attend the clash between Collingwood and Port Adelaide which draw a crowd of more than 23000 to the famed Melbourne Cricket Ground on Sunday', 'this communication be not for distribution directly or indirectly in or into the United States include be territory and possession any State of the United States and the District of Columbia this communication be not an offer and do not form a part of any offer of security for sale in the United States or elsewhere the security reference herein have not be and will not be register under the United States Securities Act of 1933 the Securities Act or with any security regulatory authority of any state or other jurisdiction of the United States and may not be offer or sell within the United States except pursuant to an exemption from or in a transaction not subject to the registration requirement of the Securities Act no money security or other consideration be be solicit by this communication or the information contain herein and if send in response to this communication or the information contain herein will not be accept', 'the formation of gum disease begin when plaque contain million of bacteria coat the tooth accumulate undisturbed Acid produce by the bacteria can erode tooth enamel cause cavity and irritate the gum and cause gingivitis which can progress into periodontitis   a more serious infection that can lead to tooth loss', 'Mouth Rinse Mouth rinse contain bioavailable Cetylpyridinium Chloride CPC formulate at 007 help to reduce plaque'], 'control': ['his centreright coalition currently control 45 seat in the 90seat parliament several mp having leave the government camp in recent month', 'turn back the belarusian plane french air control cite an order from the french prime minister Belavia say', 'total say in a statement the decision be make at a May 12 meeting of shareholder of Moattama Gas Transportation Company Limited MGTC a unit that include the french firm Chevron and a militarycontrolle energy company', 'the MGTC pipeline   15percent own by the militarycontrolle Myanmar Oil and Gas enterprise moge   bring gas from the offshore Yadana field operate by total to Myanmars border with Thailand', 'the colossal profit of the gas operation do not pass through the coffer of the Myanmar state but be massively recuperate by a company totally control by the military Le Monde find', 'Australia have largely be successful in curb the spread of the virus in part through strict border control that limit flight from overseas and require most traveller to isolate for 14 day on arrival', 'wood who police say be drive nearly twice the legal speed limit when his SUV go out of control and roll several time underwent hour of surgery to repair a shatter low right leg and ankle and be hospitalize for week before return home to Florida in March', 'we be put bank in control of their business model and innovation cycle give they the agility and speed to build great customer product and profitable business with the Temenos Banking Cloud we empower bank to digitally transform and massively scale fast than ever', 'fast to time market with Banking Services the industry lead fronttoback Banking Services with localize functionality from over 150 country cover all banking segment the Banking Services be create use Packaged Business Capabilities1 which be align to the BIAN standard they be extensible flexible and open and can be easily configure and integrate with external application the Banking Services can be consume instantly be payasyou go and continuously update safely without the need for big upgrade these Banking Services be build for banking they offer enterprisegrade control to manage missioncritical system', 'while warn sign can be as small as bleed gum or even tooth loss they can lead to more severe condition such as heighten pregnancy complication cognitive loss poor diabetes control and increase the risk of cardiovascular disease', 'diabete   there be a twoway relationship between diabetes and periodontitis with more severe periodontal tissue destruction observe in diabetic population due to poorly control glucose levelsiiiiv', 'President Joe Biden have pledge to work with opposition Republicans on key issue and as Democrats control the Senate by a single vote Schumer would need backing from several Republicans to forestall a potential filibuster that could block passage of the legislation', 'huge election poster glorify Assad have mushroom across the twothird of the country under his control', 'Brooklyn seize control in a first quarter in which they outscore the Celtics 4026'], 'cross': ['as an event involve various kind of discussion BIO KOREA attract not only lead biohealth company in Korea such as SK Chemicals Chong Kun Dang ShinPoong Pharm Kolon Life Science etc but also promise sme like PharmCADD WELT Oncocross Biot Korea all of which be eager to grow their business 24hour meeting slot will strengthen your digital network across time zone also company presentation will be livestreame on the official BIO KOREA platform', 'the stadium be one of a grow list of venue across Melbourne visit by positive case leave state health official rush to test and trace across the city of five million which endure a devastating fourmonth lockdown after an outbreak last year', 'impact dependency and governance be critical element to consider when assess company biodiversityrelate risk say Emilie Mazzacurati Global Head of Moodys Climate Solutions our analytic aim to provide transparency for the market on how business operation may affect biodiversity their dependency on natural system and to what extent company be take step to mitigate these impact across their value chain', 'in its 2021 Annual Threat Assessment Report Washington acknowledge that Pyongyang probably possess the expertise to cause temporary limited disruption of some critical infrastructure network across the United States', 'impact dependency and governance be critical element to consider when assess company biodiversityrelate risk say Emilie Mazzacurati Global Head of Moodys Climate Solutions our analytic aim to provide transparency for the market on how business operation may affect biodiversity their dependency on natural system and to what extent company be take step to mitigate these impact across their value chain', 'Carlos Baccas clever rabona cross create an opportunity for Pau torre the centreback link with a summer move to United while Marcus Rashford test Geronimo Rulli with a dipping effort from distance', 'but it also spark a reaction from United as a battle Scott McTominay watch his shot deflect over before Mason Greenwood burst into the area and send in a fizzing cross that Raul Albiol nearly divert into his own net', 'another Parejo setpiece cause panic in the United box right after halftime Manu Trigueros cross back towards goal before the ball be scramble clear with Moreno and Carlos Bacca lurk dangerously', 'our illwisher at home and abroad have change their method of attack the state Lukashenko say accuse they of cross red line and boundary of common sense and human morality', 'the Temenos Banking Cloud offer multilayere security comprehensive compliance coverage and the high availability across the globe Temenos cloudnative cloudagnostic technology architecture be microservicesbase and apidriven to optimize the use of the underlie cloud platform service', 'today at least 20 percent of the population in that area face emergency food insecurity he say add that destruction and violence against civilian continue even now across Tigray', 'in September 2018 o9 open its first office in the Netherlands to start its european expansion currently o9 have 150 employee across ten country in Europe with office in the Netherlands Spain Poland Italy France Germany Sweden and the United Kingdom that be an increase of 161 compare to Q1 2020 in the Asia Pacific region o9 currently employ 45 people an 164 increase compare to Q1 2020 and be due to open its first Singapore office soon', 'we be focus on create a large sustainable ecosystem where our o9 global organization will serve as an enabler of a much large pool of skill and capability across partner both consulting and technology we continue to rapidly grow our partner network and since 2020 have certify more than a thousand consultant as o9 implementer we expect to double that in 2021 with a high quality program focus on deliver certification in technical skill of architecte and configure the o9 platform as well as advanced analytic skill in ML and big data analytic that be integral part of o9 solution that we deliver to our client say Igor Rikalo President and COO of o9', 'Mr Soesanto add our Quorn and AsiaPacific Branded Food and Beverage business be a powerful combination to advance our mission of food safety and food security Quorn be a lead player in the fastgrowe global meat alternative segment with a loyal customer follow and a defining set of healthy sustainable product our AsiaPacific Branded Food and Beverage business be widely recognize for its leadership position across each of its core segment we intend to stay ahead of consumer demand through innovation and investment in technology to provide healthy and more delicious food', 'our illwisher at home and abroad have change their method of attack the state Lukashenko say accuse they of cross red line and boundary of common sense and human morality', 'Carlos Baccas clever rabona cross create an opportunity for Pau torre the centreback link with a summer move to United while Marcus Rashford test Geronimo Rulli with a dipping effort from distance', 'but it also spark a reaction from United as a battle Scott McTominay watch his shot deflect over before Mason Greenwood burst into the area and send in a fizzing cross that Raul Albiol nearly divert into his own net', 'another Parejo setpiece cause panic in the United box right after halftime Manu Trigueros cross back towards goal before the ball be scramble clear with Moreno and Carlos Bacca lurk dangerously', 'they have cross many red line and cross boundary of common sense and human morality', 'we be suppose to be see accelerate growth and mount price pressure but right now the surge across commodity price have ease', 'huge election poster glorify Assad have mushroom across the twothird of the country under his control', 'Belarus run by strongman President Alexander Lukashenko send a Mig29 fighter to intercept the flight as it be cross belarusian airspace en route to neighbour Lithuania', 'the European Commission will confront drug giant AstraZeneca in a belgian court on Wednesday over coronavirus vaccine delivery shortfall that hamper effort to kickstart inoculation across the bloc', 'hundred of resident begin leave the city again in the afternoon heading southwest to the Masisi region or to across the border to Rwanda and some head to Gomas port to take a boat to safety'], 'curb': ['Australia have largely be successful in curb the spread of the virus in part through strict border control that limit flight from overseas and require most traveller to isolate for 14 day on arrival', 'accident in smallscale goldmine know locally as galamsey be common in the west african nation and President Nana AkufoAddo have vow a crackdown to curb its environmental damage'], 'delay': ['Switzerland announce Wednesday it be end talk with Brussels towards seal a longdelaye cooperation agreement with the surround European Union', 'the Security Council which hold an emergency meeting at the request of former colonial power France and other call for the safe immediate and unconditional release of all the official detain and urge the defense and security force element to return to their barrack without delay', 'its legal team demand an upfront fine of 10 million euro 12 million plus 10 euro per dose and per day of delay in that event', 'the companys defence   articulate ahead of the court case in a series of medium interview by AstraZenecas FrenchAustralian boss Pascal Soriot   rely on a part of the contract that speak of good reasonable effort by AstraZeneca and declaration that production be hit by unavoidable delay', 'give the plan be AWOLdisaster   awful decision delay everything lockdown1 become necessary', 'zumas plea conclude year of delay in the longawaite trial which many South Africans say will deliver the verdict of history on his turbulent presidency', 'one lawyer for AstraZeneca claim that the EU have be warn as early as February of the delay and express surprise that the bloc have wait at least two month to take the matter to court'], 'deny': ['polish authority say they have deny it entry to their airspace because France have say it would not allow it through', 'Belarus on Wednesday accuse french authority of commit an act of air piracy after a belarusian passenger plane fly from Minsk to Barcelona be deny passage through french airspace and turn back', 'Pyongyang have deny any involvement describe US allegation over WannaCry as absurd and a foreign ministry spokesman declare we have nothing to do with cyberattack', 'Downing Street have deny ever pursue a herd immunity strategy', 'the group deny having fail in its obligation and at the end of April denounce the lawsuit as unfounded'], 'deter': ['as the economic situation continue to deteriorate and employment opportunity remain limited migrant vulnerability to exploitation and abuse be likely to increase say Mathieu Luciano the agencys Lebanon chief', 'the AFL say thousand of fan who sit near the positive case be now require to selfisolate until they receive a negative test while health official be review CCTV to determine if other have also be impact', 'meanwhile alBurhan say his team come to the negotiation this time around with an open heart and be determined to achieve peace for Sudan that complement what have start in the previous agreement', 'a healthy mouth have minimal plaque buildup ensure oral bacteria can not multiply cause cavity gum deterioration or spread beyond the mouth however when plaque buildup be present around the gum line and between tooth it shelter oral bacteria include Pgingivalis from your toothbrush and natural defence this provide the perfect condition for the bacteria to thrive and cause inflammationcause toxin that be know to spread throughout the rest of the body', 'Ukraine which apply to join the USled alliance in 2008 be press western power for more support as it seek to deter any new aggression from Moscow', 'the Lakers get off to a determined start and lead 3024 after the first quarter and 5347 at halftime'], 'disrupt': ['total say it would continue to produce gas so as not to disrupt electricity supply in either country', 'its chair Andrew Neil formerly a BBC journalist and editor of the Sunday Times have say the network be a disrupter aim at people who find exist broadcaster too Londondominated woke and middleclass', 'together with the technology giant and disruptive startup COMPUTEX 2021 be ready to bring the world an allnew digital experience for more exhibition information please visit the following', 'in its 2021 Annual Threat Assessment Report Washington acknowledge that Pyongyang probably possess the expertise to cause temporary limited disruption of some critical infrastructure network across the United States', 'the Temenos Banking Cloud give bank the freedom to innovate fast move from a CapEx to an OpEx model and benefit from a low total cost of ownership Varo Bank use Temenos SaaS estimate that it service customer at 25 of the total cost incur by a traditional bank bank use the Temenos Banking Cloud have benefit from instant and massive scalability a european challenger bank open over 600 k account in 3 month while a global digital disruptor see a staggering number of over 20 M loan application process within 9 month they be already add over 100 k new loan per day which be expect to reach 200 k loan per day over 700 financial institution use Temenos SaaS such as Al Ain Finance Alpian Flowbank Flowe Itau Orange Bank and they will now benefit from all the new rich feature of the Temenos Banking Cloud'], 'divert': ['Poland on Wednesday adopt a ban on belarusian flight use its airspace as part of EUwide sanction agree this week after Belarus arrest a dissident journalist on a divert flight', 'on Sunday Belarusian authority divert a european plane to arrest an exiled dissident spark global fury', 'Poland on Wednesday adopt a ban on belarusian flight use its airspace as part of EUwide sanction agree this week after Belarus arrest a dissident journalist on a divert flight', 'international disapproval of Belarus and its president Alexander Lukashenko have increase since the regime divert a Ryanair jet on Sunday to arrest Roman Protasevich an opposition journalist who be on board', 'but it also spark a reaction from United as a battle Scott McTominay watch his shot deflect over before Mason Greenwood burst into the area and send in a fizzing cross that Raul Albiol nearly divert into his own net', 'in his first public statement since the Ryanair flight be divert and opposition journalist and activist Roman Protasevich arrest on Sunday Lukashenko dismiss the subsequent international outcry', 'in his first public statement since the Ryanair flight be divert and opposition journalist Roman Protasevich arrest on Sunday Lukashenko dismiss the international outcry the incident provoke', 'but it also spark a reaction from United as a battle Scott McTominay watch his shot deflect over before Mason Greenwood burst into the area and send in a fizzing cross that Raul Albiol nearly divert into his own net', 'the Halix plant in Leiden the Netherlands have send supply to Japan at the end of last year he say in total 50 million dose be divert to third country in flagrant violation of the contract', 'in his first public statement since the Ryanair flight be divert and opposition journalist Roman Protasevich arrest on Sunday Lukashenko dismiss the international outcry the incident provoke'], 'exclude': ['the IPO be the large ever on the Philippines Stock Exchange PSE and the large food and beverage ipo in Southeast Asia it raise Php486 billion for Monde Nissin exclude underwriting commission and other offering expense payable by the Company the new international and domestic investor join the previously announce 11 renowned global longterm cornerstone investor in make up Monde Nissins initial shareholder base', 'face with the dilemma of who to recognise as myanmar legitimate representative follow Februarys coup World Health Organization member opt Wednesday to exclude the country from their annual assembly'], 'forestall': ['President Joe Biden have pledge to work with opposition Republicans on key issue and as Democrats control the Senate by a single vote Schumer would need backing from several Republicans to forestall a potential filibuster that could block passage of the legislation'], 'hamper': ['the European Commission will confront drug giant AstraZeneca in a belgian court on Wednesday over coronavirus vaccine delivery shortfall that hamper effort to kickstart inoculation across the bloc'], 'hide': ['Interdental Cleaning Plaque easily accumulate and hide between tooth where toothbrushing can not reach regular cleaning between tooth help to remove plaque and help protect gum', 'in an editorial the daily urge Prime Minister Yoshihide Suga to make a calm objective assessment of the situation and make the decision to cancel this summer Olympics'], 'hold': ['as one of the most important global biohealth convention BIO KOREA 2021 International Convention have garner great attention from home and abroad to facilitate the discussion on the future biohealth industry in the covid19 era the BIO KOREA 2021 to be hold on June 9 to 21 will evolve around the theme of New Normal Breaking Barriers with Bio Innovation', 'the exhibition will be hold both online and onsite as a hybrid format which will showcase the cuttingedge technology and product of exhibitor in various way 300 exhibitor from startup to global enterprise will be at BIO KOREAs exhibition participant can meet onsite exhibitor through live streaming on the online platform during the event', 'total say in a statement the decision be make at a May 12 meeting of shareholder of Moattama Gas Transportation Company Limited MGTC a unit that include the french firm Chevron and a militarycontrolle energy company', 'in light of the unstable context in Myanmar cash distribution to the shareholder of the company have be suspend effective from April 1 the company say', 'the mass arrest be carry out in the town of Shire late Monday by soldier from Ethiopia and neighbour Eritrea which be also involve in the sixmonthold conflict against troop loyal to Tigrays oust rule party', 'shareholder at ExxonMobil elect Wednesday at least two board member who pledge more aggressive action on climate change while Chevron investor direct the oil giant to deepen emission cut', 'at ExxonMobil two board nominee from activist group Engine No 1 win enough vote to secure board seat shareholder also back a proposal require a report on the oil giant lobbying activity on climate change', 'after the result be announce Woods congratulate the Engine no 1 candidate and pledge to work with they to meet shareholder expectation the company have launch a lobby offensive to reelect its incumbent board argue it be take meaningful action to address climate change', 'we ve hear from shareholder about their desire to catalyze further progress at ExxonMobil and we be well prepared to deliver Woods say after the vote', 'President Bah Ndaw and Prime Minister Moctar Ouane task with steer the return to civilian rule after a coup last August have be hold since Monday and resign before the mediator say Baba Cisse special advisor to junta boss Assimi Goita', 'Goita who hold the rank of vice president in the transitional government accuse Ndaw and Ouane of fail to consult he on a reshuffle', 'the UN Security Council be set to hold an emergency meeting later Wednesday at the request of former colonial power France and other', 'President Bah Ndaw and Prime Minister Moctar Ouane task with steer the return to civilian rule after a coup last August resign in the presence of mediator visit the military base where they be be hold say Baba Cisse special advisor to junta boss Assimi Goita', 'the delegation then go to speak to Goita   who hold the rank of vice president in the transitional government   again after see he late Tuesday', 'the UN Security Council be set to hold an emergency meeting later Wednesday at the request of former colonial power France and other', 'acer will showcase its very late product and innovation that will be announce at its nextacer Global Press Conference to be hold on May 27 it will also showcase solution from its subsidiary include product for smart city AI and enterprise use ZOTAC on the other hand will be reveal a brilliant lineup of innovation include the ZOTAC GAMING GeForce 3090 AMP Extreme Holo graphic card and the MAGNUS one ECM53060C mini pc', 'the interim leader who have be task with steer the return to civilian rule after a coup last August resign in the presence of mediator visit the military base where they be be hold say Baba Cisse special advisor to junta boss Assimi Goita', 'the delegation then go to speak to Goita   who hold the rank of vice president in the transitional government   again after see he late Tuesday', 'the Security Council which hold an emergency meeting at the request of former colonial power France and other call for the safe immediate and unconditional release of all the official detain and urge the defense and security force element to return to their barrack without delay', 'Monde Nissin Corporation Monde Nissin or the Company today announce that it complete the offering period for its propose initial public offer ipo of 3600000000 Common Shares the offering at a price of Php1350 per share with an overallotment option of a further 540000000 Common Shares grant by the Selling Shareholder', 'the IPO be the large ever on the Philippines Stock Exchange PSE and the large food and beverage ipo in Southeast Asia it raise Php486 billion for Monde Nissin exclude underwriting commission and other offering expense payable by the Company the new international and domestic investor join the previously announce 11 renowned global longterm cornerstone investor in make up Monde Nissins initial shareholder base', 'Lausannes Diamond League athletic meeting on August 26 can be hold in front of a capacity crowd organiser announce on Wednesday', 'Organisers Athletissima welcome the swiss government easing of Covid19 measure announce Wednesday say that in consequence the Lausanne meet can be hold at a full stadium', 'the hearing come before french magistrate officially question Ghosn who hold lebanese french and brazilian citizenship on Monday over other judicial inquiry lodge against he in France', 'one Renault shareholder file a lawsuit against Ghosn in Paris suburb Nanterre last week over significant sum transfer to RNBV without investor knowledge the investor lawyer JeanPaul Baduel tell AFP Wednesday', 'be really excited about MGM Amazon founder Jeff Bezos tell shareholder at an annual meeting where he announce he would hand over the chief executive job July 5 to Andy Jassy while he take the title of executive chairman', 'President Bah Ndaw and Prime Minister Moctar Ouane task with steer the return to civilian rule after a coup last August resign in the presence of mediator visit the military base where they be be hold say Baba Cisse special advisor to junta boss Assimi Goita', 'the delegation then go to speak to Goita   who hold the rank of vice president in the transitional government   again after see he late Tuesday', 'the UN Security Council be set to hold an emergency meeting later Wednesday at the request of former colonial power France and other with french President Emmanuel Macron liken the recent event to a second coup', 'HSC plan to support Kymetas metamaterialbase antenna technology and gain a foothold in the rapidly grow Low Earth Orbit LEO antenna market', 'pass holder can also travel between city and town not under lockdown', 'the editorial say it can not accept the gamble of hold the event despite organiser insist it can go ahead safely', 'when ask last week if the Games could be hold even during a virus state of emergency Coates say the answer be absolutely yes', 'the White House say Tuesday that it support plan to hold the Games with press secretary Jen Psaki say our position have not change on the Olympics', 'but the Nomura Research Institute warn that the country could suffer even great economic damage as a result of hold the Games if a spike in infection lead to a new state of emergency', 'but our guy come out strong and be able to hold on', 'your opinion have zero value Assad say after vote with his britishborn wife Asma in the Damascus suburb of Douma a key rebel stronghold until its recapture by government force three year ago', 'interim president Bah Ndaw and prime Minister Moctar Ouane resign Wednesday after be strip of their power they be be hold at a military base in what appear to amount to the countrys second coup in nine month', 'Dervaux join the Vienna Philharmonic six year ago an appointment which she can hold for life'], 'impede': ['and Washington say it would consider target measure against political and military leader who impede Malis civilianle transition to democratic governance', 'and Washington say it would consider target measure against political and military leader who impede Malis civilianle transition to democratic governance', 'the United States will consider target measure against political and military leader who impede Malis civilianle transition to democratic governance State Department spokesman Ned Price say in a statement'], 'keep': ['an independent inquiry last week find that BBC executive know interviewer Martin Bashir commission fake bank statement that falsely suggest Dianas close aide be be pay by the security service to keep tab on her', 'we be not certain about the number of people trap down there the local keep give we different figure some be say 15 people while other say 40 he say', 'villarreal defeat Manchester United 1110 on penalty to win their first major trophy after a 11 draw in the Europa League final as goalkeeper David de Gea miss the decisive spotkick in a remarkable shootout', 'villarreal defeat Manchester United 1110 on penalty to win their first major trophy after a 11 draw in the Europa League final as goalkeeper David de Gea miss the decisive spotkick in a remarkable shootout', 'Chelsea be give a Champions League final fitness boost on Wednesday as France midfielder NGolo Kante and Senegal goalkeeper Edouard Mendy return to training', 'its far too much money for five bird but we be donate a large part to bird keeper in a centre near here who help animal in difficulty they be follow the video online and be give we precious advice Zeman say', 'it add that Belgium would keep use the Johnson   Johnson jab to vaccinate elderly people at home and vulnerable group such as the homeless', 'the Fed have pledge to keep the benchmark lending rate at zero and continue its massive bond buying program until unemployment come down from the current 61 percent and inflation be on track to stay above 20 percent', 'still investor optimism continue to be keep in check by worry about a spike in infection around Asias top economy include among other India Japan Taiwan Singapore and Thailand with vaccination rate also worryingly low', 'England Mens Head Coach Chris Silverwood have call up Kents wicketkeeperbatsman Sam Billings and Nottinghamshires toporder batsman Haseeb Hameed', 'state medium which show long queue form outside polling station in the morning say at midnight 2100 GMT poll have close after having report that they would be keep open five hour beyond the plan closing time', 'Gregori Volokhine of Meeschaert Financial Services say investor be become convince the Fed eventually will take step to keep inflation under wrap', 'after put her bassoon to one side for a while she eventually manage to find some alternative project   particularly make record   to keep her spirit up and stop herself from get rusty'], 'kill': ['at least two people have be kill and several injure in a series of nearsimultaneous attack in Burundi that target popular venue in the economic capital government source say Wednesday', 'at least 12 people include a senior army officer be kill in early May in an ambush by an unidentified armed group in Muramvya in central Burundi', 'three people be kill when an illegal gold mine collapse in southern Ghana and rescuer be try to reach at least a dozen more trap inside an emergency service official say on Wednesday', 'in the six and a half month since the start of the conflict in Tigray in early November 2020 an estimate two million people have be displace Civilians be be kill and injure he add', 'we be focus on create a large sustainable ecosystem where our o9 global organization will serve as an enabler of a much large pool of skill and capability across partner both consulting and technology we continue to rapidly grow our partner network and since 2020 have certify more than a thousand consultant as o9 implementer we expect to double that in 2021 with a high quality program focus on deliver certification in technical skill of architecte and configure the o9 platform as well as advanced analytic skill in ML and big data analytic that be integral part of o9 solution that we deliver to our client say Igor Rikalo President and COO of o9', 'the suspect in a mass shooting that kill eight people at a California rail yard Wednesday take his own life as law enforcement arrive at the scene the local sheriff say', 'multiple people be kill in a shooting Wednesday in San Jose in Californias Bay Area police say the late instance of deadly gun violence in the United States', 'the controversial vote be the second election since the start of a decadelong civil war that have kill over 388000 people and displace half the prewar population', 'multiple people be kill in a shooting Wednesday at a rail yard in Californias Bay Area police say the late instance of deadly gun violence in the United States', 'the military have kill more than 800 civilian in a crackdown on dissent accord to a local monitoring group'], 'limit': ['as the economic situation continue to deteriorate and employment opportunity remain limited migrant vulnerability to exploitation and abuse be likely to increase say Mathieu Luciano the agencys Lebanon chief', 'we have limit money limit resource and we invest in people Citys former academy manager Jim Cassell tell AFP ahead of Saturdays Champions League final against Chelsea in Porto', 'limit on gathering be introduce and mask make mandatory indoor Tuesday as the virus cluster grow while New Zealand introduce a temporary pause on its travel bubble with the state', 'Australia have largely be successful in curb the spread of the virus in part through strict border control that limit flight from overseas and require most traveller to isolate for 14 day on arrival', 'computex 2021 will be launch from May 31 to June 30 the organizer the Taiwan External Trade Development Council TAITRA will roll out the computexvirtual platform to connect the technology community that break geographic limitation COMPUTEX 2021 will offer an exceptional exhibition experience to attendee with the follow highlight', 'in its 2021 Annual Threat Assessment Report Washington acknowledge that Pyongyang probably possess the expertise to cause temporary limited disruption of some critical infrastructure network across the United States', 'wood who police say be drive nearly twice the legal speed limit when his SUV go out of control and roll several time underwent hour of surgery to repair a shatter low right leg and ankle and be hospitalize for week before return home to Florida in March', 'Dan Dickinson Chief Information Officer EQ Bank say as Canadas first digitalonly challenger we turn to Temenos saas to easily scale to meet customer demand grow deposit much more quickly at a low cost and pass on the benefit to our customer with the Temenos Banking Cloud we can accelerate our business growth and benefit from unlimited innovation through the Sandbox and Temenos MarketPlace capability', 'unlimited innovation in the Sandbox Temenos Sandbox enable bank to innovate fast by explore new Temenos functionality train their developer and create new application the Sandbox include access to Temenos Banking Services Temenos MarketPlace example datum and integration tool to enable bank to configure new product the Sandbox also offer highquality welldocumente api which be essential connector of open architecture bank can choose to move to production environment in the cloud or onpremise', 'the government say the requirement to work from home be now be downgrade to a recommendation while public and private gathering limit be be raise', 'Johnson   Johnsons singlejab vaccine against Covid19 will be limit in Belgium to people age 41 and over authority say on Wednesday follow the death of a woman who receive the jab'], 'obstruct': ['therefore Uruguay be not go to request an extradition in order not to obstruct the extradition process to Italy which be where he have commit the most serious crime he say', 'therefore Uruguay be not go to request an extradition in order not to obstruct the extradition process to Italy which be where he have commit the most serious crime he say'], 'oppose': ['former US lawmaker John Warner who oppose George W Bushs Iraq troop surge and be once married to Hollywood star Elizabeth Taylor have die at the age of 94 report say Wednesday'], 'preserve': ['Amazon will help preserve MGMs heritage and catalog of film and provide customer with great access to these exist work through this acquisition Amazon would empower MGM to continue to do what they do well great storytelling', 'the legislation will supercharge american innovation and preserve our competitive edge not just for the next few year but for generation to come Schumer say in the Senate', 'the democratic leader have collaborate with at least one republican senator on the bill and say the bipartisan support reveal that Democrats and Republicans be united in our effort to preserve and maintain american leadership on the world stage'], 'prevent': ['the 51yearold Italian still have a year leave in his contract but have be at loggerhead with the cashstrappe club chinese owner sun over plan cost cutting which would prevent he build the team he want to challenge at home and in Europe', 'I urge member of the Security Council and other Member States to take any step possible to prevent a famine from occur he say', 'Regular OralHealth CheckUps Partner with your dental professional regularly to prevent and detect sign of gum infection at its early stage', 'People arrive in France from Britain will have to selfisolate to prevent the spread of Covid19 notably its indian variant government spokesman Gabriel Attal say on Wednesday', 'Chinas CoronaVac have the low prove efficacy of the three with a Chile study show in April it be 67 percent effective at prevent symptomatic Covid19 and 80 percent effective at prevent death', 'the company lawyer tell the court that Thales have never pay any bribe to Zuma to allegedly prevent investigation into the arm sale'], 'prohibit': ['UEFAs statute prohibit any grouping or alliance between club without its authorisation'], 'protect': ['establish in 1981 COMPUTEX be one of the lead global ICT IoT and startup tradeshow with a complete supply chain and iot ecosystem coorganize by the Taiwan External Trade Development Council TAITRA and Taipei Computer Association TCA COMPUTEX base upon Taiwans complete ICT cluster cover the whole spectrum of the ICT industry from establish brand to startup and from ICT supply chain to iot ecosystem with strong RD and manufacturing capability and IPR protection Taiwan be a strategic destination for foreign company and investor look for partner in global technology ecosystem Follow COMPUTEX on its website at wwwcomputextaipeicomtw and Twitter computextaipei use the hashtag COMPUTEX', 'I act lawfully to protect our people Lukashenko say in an address to parliament', 'I act lawfully to protect our people Lukashenko say in an address to parliament the Belta staterun news agency report', 'the brand be lead the way in innovation technology and research to help protect oral health and educate about the important connection between oral and overall body health as part of the yearlong partnership OralB and scientific american Custom medium be release a series of content include educational resource from lead medical and dental researcher that will help reader well understand the connection between oral health and whole body health', 'stannous Fluoride Toothpaste Stannous Fluoride snf2 help to protect your gum against bacterial plaque', 'Interdental Cleaning Plaque easily accumulate and hide between tooth where toothbrushing can not reach regular cleaning between tooth help to remove plaque and help protect gum', 'I act lawfully to protect our people Lukashenko say in an address to parliament the Belta staterun news agency report', 'there be very specific entry and movement rule and procedure which the organiser have lay out in order to ensure the protection of everyone involve she add'], 'rattle': ['aftershock from the Mount Nyiragongo volcano in eastern DR Congo rattle the nearby city of Goma on Wednesday four day after its eruption badly damage several building and prompt hundred of resident to flee and the UN to relocate some of its staff'], 'reject': ['trump fire off a statement in response to the report reject the investigation as purely political and a continuation of the great Witch Hunt in american history', 'FC Barcelona Juventus FC and Real Madrid CF wish to express their absolute rejection of the insistent coercion that UEFA have be maintain towards three of the most relevant institution in the history of football the statement read', 'czech defender Ondrej Kudelas appeal against a 10match racism ban have be reject and he will miss Euro 2020 UEFA announce on Wednesday'], 'restrict': ['AFL game schedule in Melbourne for the come weekend be currently allow to go ahead with fan at up to 85 per cent capacity but government official warn public event could yet face fresh restriction', 'the event fall after the schedule lifting of coronavirus restriction on crowd number attend outdoor sporting event in Switzerland on August 20', 'Switzerland will reopen indoor restaurant and people will no long be require to work from home the government announce Wednesday say it be lift Covid restriction fast than previously plan', 'the former executive be suppose to meet french judicial investigator in Beirut in January but the meeting be postpone because of travel restriction link to the Covid19 pandemic', 'the countrys interministerial health body focus on the pandemic say that restriction will be provisionally apply pende further guidance from the European Medicines Agency EMA on Johnson   Johnsons Janssen vaccine', 'several EU country have restrict the use of AstraZenecas vaccine to old people typically over 55 or 60 Austria be phase it out and plan to stop use it in June', 'but for the general population the restriction mean the jab now will be provisionally use for the vaccination of people age 41 and over', 'they be dust off their instrument after Austrias easing of coronavirus restriction allow cultural venue to open their door again on May 19'], 'save': ['in this context suning want to save as much as possible both on the purchase of new player and salary and possibly sell those with the high value an approach that Conte believe incompatible with the club desire to play at the high level in Europe', 'I believe that war will never save we you have see we the South Sudanese fight for 21 year up to 2005 with all of that we do not get what we want in full say Kiir', 'after Lisbon last year now it be the turn of Porto once again Portugal have step in to save UEFA by offer to host the final of the Champions League which for the second year running be force to move away from Istanbul due to the ongoing pandemic'], 'slow': ['dub the king of cocaine he have be want since 1994 by italian authority who for decade have be try to slowly chip away at the Ndrangheta the country most powerful mob syndicate whose tentacle reach far beyond its historical base of the Calabria region', 'an early collision between Juan Foyth and Pogba leave the former Tottenham defender bloody but both side be slow to click into gear on a damp and chilly night on the baltic coast', 'weariness and a raft of substitution slow the tempo in the closing stage as the rain intensify with penalty almost inevitable', 'the 15time major champion have indicate in an Instagram post in April that his recovery be come along but slowly', 'an early collision between Juan Foyth and Pogba leave the former Tottenham defender bloody but both side be slow to click into gear on a damp and chilly night on the baltic coast', 'weariness and a raft of substitution slow the tempo in the closing stage as the rain intensify with penalty almost inevitable', 'it would be unwise for we to take action that might slow the recovery prematurely by try to stay ahead of inflation when our good estimate be that we be not far behind', 'but Fed Vice Chair Randal Quarles again try to tamp down concern say current price spike be unlikely to last and warn it would be unwise for the central bank to take action that might slow the recovery prematurely', 'Marcus Smart recover from a slow start   with zero point in the first quarter   to lead the Celtics in score with 19 point'], 'stay': ['I get to have a quick chat with tigerwood this weekend when I bump into he at the soccer field Perrone write he tell I to stay strong which have always be my goal stay strong physically and mentally and inspire other to do the same no matter what you be go through you get this', 'Mr Soesanto add our Quorn and AsiaPacific Branded Food and Beverage business be a powerful combination to advance our mission of food safety and food security Quorn be a lead player in the fastgrowe global meat alternative segment with a loyal customer follow and a defining set of healthy sustainable product our AsiaPacific Branded Food and Beverage business be widely recognize for its leadership position across each of its core segment we intend to stay ahead of consumer demand through innovation and investment in technology to provide healthy and more delicious food', 'the Fed have pledge to keep the benchmark lending rate at zero and continue its massive bond buying program until unemployment come down from the current 61 percent and inflation be on track to stay above 20 percent', 'it would be unwise for we to take action that might slow the recovery prematurely by try to stay ahead of inflation when our good estimate be that we be not far behind'], 'stop': ['they have also accuse he of disregard democratic institution and violate press freedom   attack critical medium and stop the funding of the countrys only news agency STA', 'Total have come under pressure from prodemocracy activist to stop finance the junta since a military coup in February which have be follow by a brutal crackdown on dissent', 'the attack take place at bus stop downtown security official tell AFP', 'several EU country have restrict the use of AstraZenecas vaccine to old people typically over 55 or 60 Austria be phase it out and plan to stop use it in June', 'its never stop no other President in history have have to put up with what I have have to he write', 'after put her bassoon to one side for a while she eventually manage to find some alternative project   particularly make record   to keep her spirit up and stop herself from get rusty', 'tonight Joe get we go we get stop get out in transition which open up our offense Durant say it be just a good start for we and we kind of cruise from there'], 'warn': ['migrant worker in Lebanon have be hit hard by its multiple crisis and half of they leave jobless the UN warn Wednesday call for voluntary return to be scale up', 'though he vow the war would be brief more than six month later fighting continue report of atrocity be proliferate and world leader be warn of a potential humanitarian catastrophe', 'AFL game schedule in Melbourne for the come weekend be currently allow to go ahead with fan at up to 85 per cent capacity but government official warn public event could yet face fresh restriction', 'a member of the delegation head by former nigerian president Goodluck Jonathan have warn that ECOWAS could quickly announce sanction if the crisis be not resolve', 'biodiversity loss have emerge as a concern for responsible investor financial regulator and company whose activity have an impact and depend on natural capital with scientist warn that the world be in the midst of a sixth mass extinction as nature be decline at unprecedented rate the report outline Moodys ESG Solutions framework for assess biodiversity risk which can provide a foundation for understand the biodiversity risk of company in investment and lending portfolio', 'biodiversity loss have emerge as a concern for responsible investor financial regulator and company whose activity have an impact and depend on natural capital with scientist warn that the world be in the midst of a sixth mass extinction as nature be decline at unprecedented rate the report outline Moodys ESG Solutions framework for assess biodiversity risk which can provide a foundation for understand the biodiversity risk of company in investment and lending portfolio', 'a member of the delegation head by former nigerian president Goodluck Jonathan have warn that ECOWAS could quickly announce sanction if the crisis be not resolve', 'a senior UN official have warn the Security Council that urgent measure be need to avoid famine in the wartorn region of Tigray in Ethiopia in a briefing see by AFP', 'rape and other form of abhorrent sexual violence be widespread and systematic public and private infrastructure and object indispensable to the survival of civilian have be destroy include hospital and agricultural land he warn', 'Jeremy A abbate VP   Publisher at scientific American explain over 700 study substantiate the notion that great oral health habit can be a simple step in improve one overall health its prove that periodontitis increasingly pose a significant risk to the development and progression of multiple systemic condition andgum disease be the mouth way of warn we of potentially more serious issue to come so its important to heed those early warning', 'while warn sign can be as small as bleed gum or even tooth loss they can lead to more severe condition such as heighten pregnancy complication cognitive loss poor diabetes control and increase the risk of cardiovascular disease', 'a commercial airline pilot tell AFP on condition of anonymity that there be detailed procedure to follow when a plane face bomb warning or be be intercept by fighter', 'a member of the delegation head by former nigerian president Goodluck Jonathan have warn that ECOWAS could quickly announce sanction if the crisis be not resolve', 'it come less than two month until the Games be set to begin and day after the US State Department issue a travel warning for Japan over virus risk', 'but the Nomura Research Institute warn that the country could suffer even great economic damage as a result of hold the Games if a spike in infection lead to a new state of emergency', 'elsewhere Wednesday bitcoin briefly bounce back above then fall below the 40000 barrier after a bout of recent volatility fuel by Chinas warning of a crackdown on cryptocurrency use and mining and various tweet by tycoon Elon Musk', 'but Fed Vice Chair Randal Quarles again try to tamp down concern say current price spike be unlikely to last and warn it would be unwise for the central bank to take action that might slow the recovery prematurely', 'one lawyer for AstraZeneca claim that the EU have be warn as early as February of the delay and express surprise that the bloc have wait at least two month to take the matter to court', 'this alarming attitude constitute a flagrant breach of the decision of the court of justice which have already make a clear statement warn UEFA to refrain from take any action that could penalise the found club of the Super League while the legal proceeding be ongoing']}\n"
     ]
    }
   ],
   "source": [
    "for k in prevent_sentences.keys():\n",
    "    x = [s for s in s_list if k in s]\n",
    "    prevent_sentences[k] = x\n",
    "print(prevent_sentences)"
   ]
  },
  {
   "cell_type": "code",
   "execution_count": 39,
   "id": "e44c9a4a",
   "metadata": {},
   "outputs": [
    {
     "name": "stdout",
     "output_type": "stream",
     "text": [
      "['entitle', 'invest', 'approve', 'charge', 'leave', 'give', 'benefit', 'sustain', 'lift', 'assure'] ['slow', 'oppose', 'bar', 'rattle', 'delay', 'exclude', 'protect', 'kill', 'cross', 'preserve']\n"
     ]
    }
   ],
   "source": [
    "import random\n",
    "\n",
    "random_e_keys = random.sample(list(enable_sentences),10)\n",
    "random_p_keys = random.sample(list(prevent_sentences),10)\n",
    "print(random_e_keys, random_p_keys)"
   ]
  },
  {
   "cell_type": "code",
   "execution_count": 40,
   "id": "317df023",
   "metadata": {},
   "outputs": [
    {
     "name": "stdout",
     "output_type": "stream",
     "text": [
      "entitle ['In the long term Blinken evoked the possibility of resuming the effort to achieve a twostate solution which we continue to believe is the only way to truly assure Israels future as a Jewish and democratic state and of course to give the Palestinians the state theyre entitled to', 'In the long term Blinken evoked the possibility of resuming the effort to achieve a twostate solution which we continue to believe is the only way to truly assure Israels future as a Jewish and democratic state and of course to give the Palestinians the state theyre entitled to'] 2 \n",
      "\n",
      "\n",
      "\n",
      "invest ['The Ministry of Interior described the attacks in Bujumbura at around 700 pm 1700 GMT Tuesday as terrorism by throwing grenades and said an investigation had been launched', 'Ford jumped 36 percent as it said it is ramping up investment in zeroemission cars and by 2030 expects 40 percent of its sales volume to be comprised of fully electric vehicles', 'Biodiversity loss has emerged as a concern for responsible investors financial regulators and companies whose activities have an impact and depend on natural capital with scientists warning that the world is in the midst of a sixth mass extinction as nature is declining at unprecedented rates The report outlines Moodys ESG Solutions framework for assessing biodiversity risk which can provide a foundation for understanding the biodiversity risks of companies in investment and lending portfolios'] 49 \n",
      "\n",
      "\n",
      "\n",
      "approve ['But the minute theres a new international arrest warrant from Italy which was approved by the Supreme Federal Court of Brazil the Brazilian federal police can no longer order the expulsion and the extradition must be carried out he explained', 'But the minute theres a new international arrest warrant from Italy which was approved by the Supreme Federal Court of Brazil the Brazilian federal police can no longer order the expulsion and the extradition must be carried out he explained', 'The EMA is continuing to evaluate the safety of all four vaccines it has approved for use in the EU which also includes the ones from BioNTechPfizer and Moderna'] 7 \n",
      "\n",
      "\n",
      "\n",
      "charge ['The 79yearold faces 16 charges of fraud graft and racketeering relating to a 1999 purchase of fighter jets patrol boats and military gear from five European arms firms for 30 billion rand then the equivalent of nearly 5 billion', 'But the US Justice Department in February indicted three North Koreans on charges of participating in a wideranging criminal conspiracy to conduct a series of destructive cyberattacks', 'In the United States prosecutors typically refer important cases to grand juries made up of citizens who examine the prosecutions case in secret They hear evidence and can request additional documents before deciding whether criminal charges should be brought'] 15 \n",
      "\n",
      "\n",
      "\n",
      "leave ['The 51yearold Italian still has a year left in his contract but has been at loggerheads with the cashstrapped clubs Chinese owners Suning over planned cost cutting which would prevent him building the team he wants to challenge at home and in Europe', 'His centreright coalition currently controls 45 seats in the 90seat parliament several MPs having left the government camp in recent months', 'Campenaerts withdrawal leaves the South African team down to five riders with the race to finish in Milan on Sunday after the withdrawals of Italians Domenico Pozzovivo and Giacomo Nizzolo'] 15 \n",
      "\n",
      "\n",
      "\n",
      "give ['Finlands Kamara was also given a threegame ban for assaulting Kudela in the tunnel after the match', 'We are putting banks in control of their business models and innovation cycles giving them the agility and speed to build great customer products and profitable businesses With The Temenos Banking Cloud we empower banks to digitally transform and massively scale faster than ever', 'UEFA on Tuesday opened formal disciplinary proceedings against the three clubs which are still refusing to give up the aborted Super League project'] 30 \n",
      "\n",
      "\n",
      "\n",
      "benefit ['Alfonso Pedraza was perhaps fortunate no further action was taken when he appeared to catch Greenwood in the Villarreal area although United benefitted from a slice of luck to level', 'The Temenos Banking Cloud gives banks the freedom to innovate faster move from a CapEx to an OpEx model and benefit from a lower total cost of ownership Varo Bank using Temenos SaaS estimates that it services customers at 25 of the total costs incurred by a traditional bank Banks using The Temenos Banking Cloud have benefited from instant and massive scalability A European challenger bank opened over 600K accounts in 3 months While a global digital disruptor saw a staggering number of over 20M loan applications processed within 9 months They are already adding over 100K new loans per day which is expected to reach 200K loans per day Over 700 financial institutions use Temenos SaaS such as Al Ain Finance Alpian Flowbank Flowe Itau Orange Bank and they will now benefit from all the new rich features of The Temenos Banking Cloud', 'After meeting Israeli Prime Minister Benjamin Netanyahu he reiterated support for Israels right to defend itself against rocket attacks by Gazas Hamas rulers adding that they must not benefit from the reconstruction aid'] 9 \n",
      "\n",
      "\n",
      "\n",
      "sustain ['Mr Soesanto added Our Quorn and AsiaPacific Branded Food and Beverage businesses are a powerful combination to advance our mission of food safety and food security Quorn is a leading player in the fastgrowing global meat alternatives segment with a loyal customer following and a defining set of healthy sustainable products Our AsiaPacific Branded Food and Beverage business is widely recognized for its leadership positions across each of its core segments We intend to stay ahead of consumer demands through innovation and investment in technology to provide healthier and more delicious food', 'Foakes sustained the injury on Sunday slipping in the dressing room after Surreys County Championship fixture against Middlesex at the Kia Oval read an England Wales Cricket Board ECB statement', 'We are focusing on creating a large sustainable ecosystem where our o9 global organization will serve as an enabler of a much larger pool of skills and capabilities across partners both consulting and technology We continue to rapidly grow our partner network and since 2020 have certified more than a thousand consultants as o9 implementers We expect to double that in 2021 with a high quality program focused on delivering certifications in technical skills of architecting and configuring the o9 platform as well as advanced analytics skills in ML and big data analytics that are integral part of o9 solutions that we deliver to our clients says Igor Rikalo President and COO of o9'] 5 \n",
      "\n",
      "\n",
      "\n",
      "lift ['Up to four people will be allowed at a table though contact details will have to be recorded Masks will have to be worn when moving around inside and the 1100 pm curfew is being lifted', 'Analysts greeted reports that Senate Republicans plan to lift their infrastructure package to 1 trillion bringing them somewhat closer to President Joe Bidens latest offer costing 17 trillion', 'The event falls after the scheduled lifting of coronavirus restrictions on crowd numbers attending outdoor sporting events in Switzerland on August 20'] 4 \n",
      "\n",
      "\n",
      "\n",
      "assure ['In the long term Blinken evoked the possibility of resuming the effort to achieve a twostate solution which we continue to believe is the only way to truly assure Israels future as a Jewish and democratic state and of course to give the Palestinians the state theyre entitled to', 'In the long term Blinken evoked the possibility of resuming the effort to achieve a twostate solution which we continue to believe is the only way to truly assure Israels future as a Jewish and democratic state and of course to give the Palestinians the state theyre entitled to'] 2 \n",
      "\n",
      "\n",
      "\n"
     ]
    }
   ],
   "source": [
    "for k in random_e_keys:\n",
    "    print(k, random.sample(enable_sentences[k], min(3, len(enable_sentences[k]))),len(enable_sentences[k]),'\\n\\n\\n')\n"
   ]
  },
  {
   "cell_type": "code",
   "execution_count": 41,
   "id": "1f3323e3",
   "metadata": {},
   "outputs": [
    {
     "name": "stdout",
     "output_type": "stream",
     "text": [
      "slow ['the 15time major champion have indicate in an Instagram post in April that his recovery be come along but slowly', 'Marcus Smart recover from a slow start   with zero point in the first quarter   to lead the Celtics in score with 19 point', 'an early collision between Juan Foyth and Pogba leave the former Tottenham defender bloody but both side be slow to click into gear on a damp and chilly night on the baltic coast'] 9 \n",
      "\n",
      "\n",
      "\n",
      "oppose ['former US lawmaker John Warner who oppose George W Bushs Iraq troop surge and be once married to Hollywood star Elizabeth Taylor have die at the age of 94 report say Wednesday'] 1 \n",
      "\n",
      "\n",
      "\n",
      "bar ['Lausanne take place a couple of week after the Tokyo Olympics where overseas fan be already bar with organiser set to decide in June how many domestic spectator can attend if any at all', 'Morabito be one of the most important broker in narcotrafficking say Giovanni Bombardieri chief prosecutor in the southern italian city of Reggio Calabria during an online press conference', 'the airliner depart hour later after authority have forcibly disembark opposition blogger Roman Protasevich and his girlfriend in an action which Brussels decry as a hijacking and act of air piracy'] 8 \n",
      "\n",
      "\n",
      "\n",
      "rattle ['aftershock from the Mount Nyiragongo volcano in eastern DR Congo rattle the nearby city of Goma on Wednesday four day after its eruption badly damage several building and prompt hundred of resident to flee and the UN to relocate some of its staff'] 1 \n",
      "\n",
      "\n",
      "\n",
      "delay ['the Security Council which hold an emergency meeting at the request of former colonial power France and other call for the safe immediate and unconditional release of all the official detain and urge the defense and security force element to return to their barrack without delay', 'zumas plea conclude year of delay in the longawaite trial which many South Africans say will deliver the verdict of history on his turbulent presidency', 'its legal team demand an upfront fine of 10 million euro 12 million plus 10 euro per dose and per day of delay in that event'] 7 \n",
      "\n",
      "\n",
      "\n",
      "exclude ['face with the dilemma of who to recognise as myanmar legitimate representative follow Februarys coup World Health Organization member opt Wednesday to exclude the country from their annual assembly', 'the IPO be the large ever on the Philippines Stock Exchange PSE and the large food and beverage ipo in Southeast Asia it raise Php486 billion for Monde Nissin exclude underwriting commission and other offering expense payable by the Company the new international and domestic investor join the previously announce 11 renowned global longterm cornerstone investor in make up Monde Nissins initial shareholder base'] 2 \n",
      "\n",
      "\n",
      "\n",
      "protect ['I act lawfully to protect our people Lukashenko say in an address to parliament', 'Interdental Cleaning Plaque easily accumulate and hide between tooth where toothbrushing can not reach regular cleaning between tooth help to remove plaque and help protect gum', 'I act lawfully to protect our people Lukashenko say in an address to parliament the Belta staterun news agency report'] 8 \n",
      "\n",
      "\n",
      "\n",
      "kill ['the military have kill more than 800 civilian in a crackdown on dissent accord to a local monitoring group', 'at least 12 people include a senior army officer be kill in early May in an ambush by an unidentified armed group in Muramvya in central Burundi', 'the controversial vote be the second election since the start of a decadelong civil war that have kill over 388000 people and displace half the prewar population'] 10 \n",
      "\n",
      "\n",
      "\n",
      "cross ['another Parejo setpiece cause panic in the United box right after halftime Manu Trigueros cross back towards goal before the ball be scramble clear with Moreno and Carlos Bacca lurk dangerously', 'impact dependency and governance be critical element to consider when assess company biodiversityrelate risk say Emilie Mazzacurati Global Head of Moodys Climate Solutions our analytic aim to provide transparency for the market on how business operation may affect biodiversity their dependency on natural system and to what extent company be take step to mitigate these impact across their value chain', 'another Parejo setpiece cause panic in the United box right after halftime Manu Trigueros cross back towards goal before the ball be scramble clear with Moreno and Carlos Bacca lurk dangerously'] 24 \n",
      "\n",
      "\n",
      "\n",
      "preserve ['Amazon will help preserve MGMs heritage and catalog of film and provide customer with great access to these exist work through this acquisition Amazon would empower MGM to continue to do what they do well great storytelling', 'the legislation will supercharge american innovation and preserve our competitive edge not just for the next few year but for generation to come Schumer say in the Senate', 'the democratic leader have collaborate with at least one republican senator on the bill and say the bipartisan support reveal that Democrats and Republicans be united in our effort to preserve and maintain american leadership on the world stage'] 3 \n",
      "\n",
      "\n",
      "\n"
     ]
    }
   ],
   "source": [
    "for k in random_p_keys:\n",
    "    print(k, random.sample(prevent_sentences[k], min(3, len(prevent_sentences[k]))),len(prevent_sentences[k]),'\\n\\n\\n')\n"
   ]
  },
  {
   "cell_type": "code",
   "execution_count": null,
   "id": "b8535412",
   "metadata": {},
   "outputs": [],
   "source": []
  }
 ],
 "metadata": {
  "kernelspec": {
   "display_name": "Python 3 (ipykernel)",
   "language": "python",
   "name": "python3"
  },
  "language_info": {
   "codemirror_mode": {
    "name": "ipython",
    "version": 3
   },
   "file_extension": ".py",
   "mimetype": "text/x-python",
   "name": "python",
   "nbconvert_exporter": "python",
   "pygments_lexer": "ipython3",
   "version": "3.10.7"
  }
 },
 "nbformat": 4,
 "nbformat_minor": 5
}
